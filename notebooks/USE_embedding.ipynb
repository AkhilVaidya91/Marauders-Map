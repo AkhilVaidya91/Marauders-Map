{
 "cells": [
  {
   "cell_type": "code",
   "execution_count": 1,
   "metadata": {},
   "outputs": [
    {
     "name": "stdout",
     "output_type": "stream",
     "text": [
      "WARNING:tensorflow:From c:\\Users\\Akhil PC\\AppData\\Local\\Programs\\Python\\Python312\\Lib\\site-packages\\tf_keras\\src\\losses.py:2976: The name tf.losses.sparse_softmax_cross_entropy is deprecated. Please use tf.compat.v1.losses.sparse_softmax_cross_entropy instead.\n",
      "\n"
     ]
    }
   ],
   "source": [
    "import numpy as numpy\n",
    "import pandas as pd\n",
    "import numpy as np\n",
    "import matplotlib.pyplot as plt\n",
    "import seaborn as sns\n",
    "\n",
    "import sys\n",
    "import os\n",
    "\n",
    "import tensorflow_hub as hub"
   ]
  },
  {
   "cell_type": "code",
   "execution_count": 2,
   "metadata": {},
   "outputs": [],
   "source": [
    "src_path = os.path.abspath(os.path.join('..'))\n",
    "sys.path.append(src_path)\n",
    "from utilities import clean_data\n",
    "data_folder = os.path.join(src_path, 'data')"
   ]
  },
  {
   "cell_type": "code",
   "execution_count": 3,
   "metadata": {},
   "outputs": [
    {
     "data": {
      "text/html": [
       "<div>\n",
       "<style scoped>\n",
       "    .dataframe tbody tr th:only-of-type {\n",
       "        vertical-align: middle;\n",
       "    }\n",
       "\n",
       "    .dataframe tbody tr th {\n",
       "        vertical-align: top;\n",
       "    }\n",
       "\n",
       "    .dataframe thead th {\n",
       "        text-align: right;\n",
       "    }\n",
       "</style>\n",
       "<table border=\"1\" class=\"dataframe\">\n",
       "  <thead>\n",
       "    <tr style=\"text-align: right;\">\n",
       "      <th></th>\n",
       "      <th>row</th>\n",
       "      <th>col</th>\n",
       "      <th>latitude</th>\n",
       "      <th>longitude</th>\n",
       "      <th>Map Data</th>\n",
       "    </tr>\n",
       "  </thead>\n",
       "  <tbody>\n",
       "    <tr>\n",
       "      <th>1</th>\n",
       "      <td>0</td>\n",
       "      <td>1</td>\n",
       "      <td>18.89433</td>\n",
       "      <td>72.794102</td>\n",
       "      <td>Prongs Reef is a Natural;</td>\n",
       "    </tr>\n",
       "    <tr>\n",
       "      <th>2</th>\n",
       "      <td>0</td>\n",
       "      <td>2</td>\n",
       "      <td>18.89433</td>\n",
       "      <td>72.803607</td>\n",
       "      <td>United Services Club Golf Course is a Leisure ...</td>\n",
       "    </tr>\n",
       "    <tr>\n",
       "      <th>3</th>\n",
       "      <td>0</td>\n",
       "      <td>3</td>\n",
       "      <td>18.89433</td>\n",
       "      <td>72.813112</td>\n",
       "      <td>Indian Meterological Department is a Commercia...</td>\n",
       "    </tr>\n",
       "    <tr>\n",
       "      <th>13</th>\n",
       "      <td>0</td>\n",
       "      <td>13</td>\n",
       "      <td>18.89433</td>\n",
       "      <td>72.908163</td>\n",
       "      <td>Uran Naval Base is a Landuse: Military;</td>\n",
       "    </tr>\n",
       "    <tr>\n",
       "      <th>14</th>\n",
       "      <td>0</td>\n",
       "      <td>14</td>\n",
       "      <td>18.89433</td>\n",
       "      <td>72.917668</td>\n",
       "      <td>Uran Naval Base is a Landuse: Military;</td>\n",
       "    </tr>\n",
       "  </tbody>\n",
       "</table>\n",
       "</div>"
      ],
      "text/plain": [
       "    row  col  latitude  longitude  \\\n",
       "1     0    1  18.89433  72.794102   \n",
       "2     0    2  18.89433  72.803607   \n",
       "3     0    3  18.89433  72.813112   \n",
       "13    0   13  18.89433  72.908163   \n",
       "14    0   14  18.89433  72.917668   \n",
       "\n",
       "                                             Map Data  \n",
       "1                          Prongs Reef is a Natural;   \n",
       "2   United Services Club Golf Course is a Leisure ...  \n",
       "3   Indian Meterological Department is a Commercia...  \n",
       "13           Uran Naval Base is a Landuse: Military;   \n",
       "14           Uran Naval Base is a Landuse: Military;   "
      ]
     },
     "execution_count": 3,
     "metadata": {},
     "output_type": "execute_result"
    }
   ],
   "source": [
    "df = pd.read_csv(f'{data_folder}/MMR_DATA.csv')\n",
    "df = clean_data(df)\n",
    "df.head()"
   ]
  },
  {
   "cell_type": "code",
   "execution_count": 4,
   "metadata": {},
   "outputs": [
    {
     "name": "stdout",
     "output_type": "stream",
     "text": [
      "Dataset size:  814\n"
     ]
    }
   ],
   "source": [
    "print(\"Dataset size: \", len(df))"
   ]
  },
  {
   "cell_type": "code",
   "execution_count": 5,
   "metadata": {},
   "outputs": [
    {
     "data": {
      "text/plain": [
       "(814,)"
      ]
     },
     "execution_count": 5,
     "metadata": {},
     "output_type": "execute_result"
    }
   ],
   "source": [
    "X = df['Map Data'].to_numpy()\n",
    "X.shape"
   ]
  },
  {
   "cell_type": "code",
   "execution_count": 7,
   "metadata": {},
   "outputs": [
    {
     "ename": "KeyboardInterrupt",
     "evalue": "",
     "output_type": "error",
     "traceback": [
      "\u001b[1;31m---------------------------------------------------------------------------\u001b[0m",
      "\u001b[1;31mKeyboardInterrupt\u001b[0m                         Traceback (most recent call last)",
      "Cell \u001b[1;32mIn[7], line 2\u001b[0m\n\u001b[0;32m      1\u001b[0m module_url \u001b[38;5;241m=\u001b[39m \u001b[38;5;124m\"\u001b[39m\u001b[38;5;124mhttps://tfhub.dev/google/universal-sentence-encoder/4\u001b[39m\u001b[38;5;124m\"\u001b[39m\n\u001b[1;32m----> 2\u001b[0m model \u001b[38;5;241m=\u001b[39m \u001b[43mhub\u001b[49m\u001b[38;5;241;43m.\u001b[39;49m\u001b[43mload\u001b[49m\u001b[43m(\u001b[49m\u001b[43mmodule_url\u001b[49m\u001b[43m)\u001b[49m\n",
      "File \u001b[1;32mc:\\Users\\Akhil PC\\AppData\\Local\\Programs\\Python\\Python312\\Lib\\site-packages\\tensorflow_hub\\module_v2.py:100\u001b[0m, in \u001b[0;36mload\u001b[1;34m(handle, tags, options)\u001b[0m\n\u001b[0;32m     98\u001b[0m \u001b[38;5;28;01mif\u001b[39;00m \u001b[38;5;129;01mnot\u001b[39;00m \u001b[38;5;28misinstance\u001b[39m(handle, \u001b[38;5;28mstr\u001b[39m):\n\u001b[0;32m     99\u001b[0m   \u001b[38;5;28;01mraise\u001b[39;00m \u001b[38;5;167;01mValueError\u001b[39;00m(\u001b[38;5;124m\"\u001b[39m\u001b[38;5;124mExpected a string, got \u001b[39m\u001b[38;5;132;01m%s\u001b[39;00m\u001b[38;5;124m\"\u001b[39m \u001b[38;5;241m%\u001b[39m handle)\n\u001b[1;32m--> 100\u001b[0m module_path \u001b[38;5;241m=\u001b[39m \u001b[43mresolve\u001b[49m\u001b[43m(\u001b[49m\u001b[43mhandle\u001b[49m\u001b[43m)\u001b[49m\n\u001b[0;32m    101\u001b[0m is_hub_module_v1 \u001b[38;5;241m=\u001b[39m tf\u001b[38;5;241m.\u001b[39mio\u001b[38;5;241m.\u001b[39mgfile\u001b[38;5;241m.\u001b[39mexists(_get_module_proto_path(module_path))\n\u001b[0;32m    102\u001b[0m \u001b[38;5;28;01mif\u001b[39;00m tags \u001b[38;5;129;01mis\u001b[39;00m \u001b[38;5;28;01mNone\u001b[39;00m \u001b[38;5;129;01mand\u001b[39;00m is_hub_module_v1:\n",
      "File \u001b[1;32mc:\\Users\\Akhil PC\\AppData\\Local\\Programs\\Python\\Python312\\Lib\\site-packages\\tensorflow_hub\\module_v2.py:55\u001b[0m, in \u001b[0;36mresolve\u001b[1;34m(handle)\u001b[0m\n\u001b[0;32m     31\u001b[0m \u001b[38;5;28;01mdef\u001b[39;00m \u001b[38;5;21mresolve\u001b[39m(handle):\n\u001b[0;32m     32\u001b[0m \u001b[38;5;250m  \u001b[39m\u001b[38;5;124;03m\"\"\"Resolves a module handle into a path.\u001b[39;00m\n\u001b[0;32m     33\u001b[0m \n\u001b[0;32m     34\u001b[0m \u001b[38;5;124;03m  This function works both for plain TF2 SavedModels and the legacy TF1 Hub\u001b[39;00m\n\u001b[1;32m   (...)\u001b[0m\n\u001b[0;32m     53\u001b[0m \u001b[38;5;124;03m    A string representing the Module path.\u001b[39;00m\n\u001b[0;32m     54\u001b[0m \u001b[38;5;124;03m  \"\"\"\u001b[39;00m\n\u001b[1;32m---> 55\u001b[0m   \u001b[38;5;28;01mreturn\u001b[39;00m \u001b[43mregistry\u001b[49m\u001b[38;5;241;43m.\u001b[39;49m\u001b[43mresolver\u001b[49m\u001b[43m(\u001b[49m\u001b[43mhandle\u001b[49m\u001b[43m)\u001b[49m\n",
      "File \u001b[1;32mc:\\Users\\Akhil PC\\AppData\\Local\\Programs\\Python\\Python312\\Lib\\site-packages\\tensorflow_hub\\registry.py:49\u001b[0m, in \u001b[0;36mMultiImplRegister.__call__\u001b[1;34m(self, *args, **kwargs)\u001b[0m\n\u001b[0;32m     47\u001b[0m \u001b[38;5;28;01mfor\u001b[39;00m impl \u001b[38;5;129;01min\u001b[39;00m \u001b[38;5;28mreversed\u001b[39m(\u001b[38;5;28mself\u001b[39m\u001b[38;5;241m.\u001b[39m_impls):\n\u001b[0;32m     48\u001b[0m   \u001b[38;5;28;01mif\u001b[39;00m impl\u001b[38;5;241m.\u001b[39mis_supported(\u001b[38;5;241m*\u001b[39margs, \u001b[38;5;241m*\u001b[39m\u001b[38;5;241m*\u001b[39mkwargs):\n\u001b[1;32m---> 49\u001b[0m     \u001b[38;5;28;01mreturn\u001b[39;00m \u001b[43mimpl\u001b[49m\u001b[43m(\u001b[49m\u001b[38;5;241;43m*\u001b[39;49m\u001b[43margs\u001b[49m\u001b[43m,\u001b[49m\u001b[43m \u001b[49m\u001b[38;5;241;43m*\u001b[39;49m\u001b[38;5;241;43m*\u001b[39;49m\u001b[43mkwargs\u001b[49m\u001b[43m)\u001b[49m\n\u001b[0;32m     50\u001b[0m   \u001b[38;5;28;01melse\u001b[39;00m:\n\u001b[0;32m     51\u001b[0m     fails\u001b[38;5;241m.\u001b[39mappend(\u001b[38;5;28mtype\u001b[39m(impl)\u001b[38;5;241m.\u001b[39m\u001b[38;5;18m__name__\u001b[39m)\n",
      "File \u001b[1;32mc:\\Users\\Akhil PC\\AppData\\Local\\Programs\\Python\\Python312\\Lib\\site-packages\\tensorflow_hub\\compressed_module_resolver.py:81\u001b[0m, in \u001b[0;36mHttpCompressedFileResolver.__call__\u001b[1;34m(self, handle)\u001b[0m\n\u001b[0;32m     77\u001b[0m   response \u001b[38;5;241m=\u001b[39m \u001b[38;5;28mself\u001b[39m\u001b[38;5;241m.\u001b[39m_call_urlopen(request)\n\u001b[0;32m     78\u001b[0m   \u001b[38;5;28;01mreturn\u001b[39;00m resolver\u001b[38;5;241m.\u001b[39mDownloadManager(handle)\u001b[38;5;241m.\u001b[39mdownload_and_uncompress(\n\u001b[0;32m     79\u001b[0m       response, tmp_dir)\n\u001b[1;32m---> 81\u001b[0m \u001b[38;5;28;01mreturn\u001b[39;00m \u001b[43mresolver\u001b[49m\u001b[38;5;241;43m.\u001b[39;49m\u001b[43matomic_download\u001b[49m\u001b[43m(\u001b[49m\u001b[43mhandle\u001b[49m\u001b[43m,\u001b[49m\u001b[43m \u001b[49m\u001b[43mdownload\u001b[49m\u001b[43m,\u001b[49m\u001b[43m \u001b[49m\u001b[43mmodule_dir\u001b[49m\u001b[43m,\u001b[49m\n\u001b[0;32m     82\u001b[0m \u001b[43m                                \u001b[49m\u001b[38;5;28;43mself\u001b[39;49m\u001b[38;5;241;43m.\u001b[39;49m\u001b[43m_lock_file_timeout_sec\u001b[49m\u001b[43m(\u001b[49m\u001b[43m)\u001b[49m\u001b[43m)\u001b[49m\n",
      "File \u001b[1;32mc:\\Users\\Akhil PC\\AppData\\Local\\Programs\\Python\\Python312\\Lib\\site-packages\\tensorflow_hub\\resolver.py:411\u001b[0m, in \u001b[0;36matomic_download\u001b[1;34m(handle, download_fn, module_dir, lock_file_timeout_sec)\u001b[0m\n\u001b[0;32m    408\u001b[0m     \u001b[38;5;28;01mpass\u001b[39;00m\n\u001b[0;32m    410\u001b[0m   \u001b[38;5;66;03m# Wait for lock file to disappear.\u001b[39;00m\n\u001b[1;32m--> 411\u001b[0m   \u001b[43m_wait_for_lock_to_disappear\u001b[49m\u001b[43m(\u001b[49m\u001b[43mhandle\u001b[49m\u001b[43m,\u001b[49m\u001b[43m \u001b[49m\u001b[43mlock_file\u001b[49m\u001b[43m,\u001b[49m\u001b[43m \u001b[49m\u001b[43mlock_file_timeout_sec\u001b[49m\u001b[43m)\u001b[49m\n\u001b[0;32m    412\u001b[0m   \u001b[38;5;66;03m# At this point we either deleted a lock or a lock got removed by the\u001b[39;00m\n\u001b[0;32m    413\u001b[0m   \u001b[38;5;66;03m# owner or another process. Perform one more iteration of the while-loop,\u001b[39;00m\n\u001b[0;32m    414\u001b[0m   \u001b[38;5;66;03m# we would either terminate due tf.compat.v1.gfile.Exists(module_dir) or\u001b[39;00m\n\u001b[1;32m   (...)\u001b[0m\n\u001b[0;32m    417\u001b[0m \n\u001b[0;32m    418\u001b[0m \u001b[38;5;66;03m# Lock file acquired.\u001b[39;00m\n\u001b[0;32m    419\u001b[0m logging\u001b[38;5;241m.\u001b[39minfo(\u001b[38;5;124m\"\u001b[39m\u001b[38;5;124mDownloading TF-Hub Module \u001b[39m\u001b[38;5;124m'\u001b[39m\u001b[38;5;132;01m%s\u001b[39;00m\u001b[38;5;124m'\u001b[39m\u001b[38;5;124m.\u001b[39m\u001b[38;5;124m\"\u001b[39m, handle)\n",
      "File \u001b[1;32mc:\\Users\\Akhil PC\\AppData\\Local\\Programs\\Python\\Python312\\Lib\\site-packages\\tensorflow_hub\\resolver.py:336\u001b[0m, in \u001b[0;36m_wait_for_lock_to_disappear\u001b[1;34m(handle, lock_file, lock_file_timeout_sec)\u001b[0m\n\u001b[0;32m    334\u001b[0m   \u001b[38;5;28;01mpass\u001b[39;00m\n\u001b[0;32m    335\u001b[0m \u001b[38;5;28;01mfinally\u001b[39;00m:\n\u001b[1;32m--> 336\u001b[0m   \u001b[43mtime\u001b[49m\u001b[38;5;241;43m.\u001b[39;49m\u001b[43msleep\u001b[49m\u001b[43m(\u001b[49m\u001b[38;5;241;43m5\u001b[39;49m\u001b[43m)\u001b[49m\n",
      "\u001b[1;31mKeyboardInterrupt\u001b[0m: "
     ]
    }
   ],
   "source": [
    "module_url = \"https://tfhub.dev/google/universal-sentence-encoder/4\"\n",
    "model = hub.load(module_url)"
   ]
  },
  {
   "cell_type": "code",
   "execution_count": null,
   "metadata": {},
   "outputs": [],
   "source": [
    "def embed(input):\n",
    "  return model(input)\n",
    "\n",
    "def generate_use_embeddings(data):\n",
    "    embeddings = embed(data)\n",
    "    embeddings = np.array(embeddings).tolist()\n",
    "    return embeddings"
   ]
  },
  {
   "cell_type": "code",
   "execution_count": null,
   "metadata": {},
   "outputs": [],
   "source": [
    "embeddings_list = generate_use_embeddings(X)\n",
    "df_embeddings = pd.DataFrame(embeddings_list)"
   ]
  },
  {
   "cell_type": "code",
   "execution_count": null,
   "metadata": {},
   "outputs": [
    {
     "data": {
      "text/plain": [
       "791"
      ]
     },
     "execution_count": 26,
     "metadata": {},
     "output_type": "execute_result"
    }
   ],
   "source": [
    "len(df_embeddings)"
   ]
  },
  {
   "cell_type": "code",
   "execution_count": null,
   "metadata": {},
   "outputs": [
    {
     "data": {
      "text/html": [
       "<div>\n",
       "<style scoped>\n",
       "    .dataframe tbody tr th:only-of-type {\n",
       "        vertical-align: middle;\n",
       "    }\n",
       "\n",
       "    .dataframe tbody tr th {\n",
       "        vertical-align: top;\n",
       "    }\n",
       "\n",
       "    .dataframe thead th {\n",
       "        text-align: right;\n",
       "    }\n",
       "</style>\n",
       "<table border=\"1\" class=\"dataframe\">\n",
       "  <thead>\n",
       "    <tr style=\"text-align: right;\">\n",
       "      <th></th>\n",
       "      <th>0</th>\n",
       "      <th>1</th>\n",
       "      <th>2</th>\n",
       "      <th>3</th>\n",
       "      <th>4</th>\n",
       "      <th>5</th>\n",
       "      <th>6</th>\n",
       "      <th>7</th>\n",
       "      <th>8</th>\n",
       "      <th>9</th>\n",
       "      <th>...</th>\n",
       "      <th>502</th>\n",
       "      <th>503</th>\n",
       "      <th>504</th>\n",
       "      <th>505</th>\n",
       "      <th>506</th>\n",
       "      <th>507</th>\n",
       "      <th>508</th>\n",
       "      <th>509</th>\n",
       "      <th>510</th>\n",
       "      <th>511</th>\n",
       "    </tr>\n",
       "  </thead>\n",
       "  <tbody>\n",
       "    <tr>\n",
       "      <th>0</th>\n",
       "      <td>-0.052781</td>\n",
       "      <td>0.024666</td>\n",
       "      <td>0.051348</td>\n",
       "      <td>0.037249</td>\n",
       "      <td>0.057194</td>\n",
       "      <td>-0.076907</td>\n",
       "      <td>0.071803</td>\n",
       "      <td>0.013002</td>\n",
       "      <td>0.034847</td>\n",
       "      <td>0.056980</td>\n",
       "      <td>...</td>\n",
       "      <td>0.062200</td>\n",
       "      <td>0.042560</td>\n",
       "      <td>0.081443</td>\n",
       "      <td>0.020261</td>\n",
       "      <td>0.050455</td>\n",
       "      <td>0.030513</td>\n",
       "      <td>-0.043428</td>\n",
       "      <td>0.023156</td>\n",
       "      <td>0.020730</td>\n",
       "      <td>0.018307</td>\n",
       "    </tr>\n",
       "    <tr>\n",
       "      <th>1</th>\n",
       "      <td>-0.048056</td>\n",
       "      <td>-0.072181</td>\n",
       "      <td>-0.019397</td>\n",
       "      <td>0.046580</td>\n",
       "      <td>0.056078</td>\n",
       "      <td>0.053447</td>\n",
       "      <td>0.032563</td>\n",
       "      <td>0.030554</td>\n",
       "      <td>0.034230</td>\n",
       "      <td>-0.074307</td>\n",
       "      <td>...</td>\n",
       "      <td>0.060413</td>\n",
       "      <td>-0.028328</td>\n",
       "      <td>0.074611</td>\n",
       "      <td>0.071459</td>\n",
       "      <td>-0.042857</td>\n",
       "      <td>-0.020672</td>\n",
       "      <td>0.004358</td>\n",
       "      <td>-0.048379</td>\n",
       "      <td>-0.064370</td>\n",
       "      <td>-0.047666</td>\n",
       "    </tr>\n",
       "    <tr>\n",
       "      <th>2</th>\n",
       "      <td>-0.040616</td>\n",
       "      <td>-0.058709</td>\n",
       "      <td>-0.026109</td>\n",
       "      <td>0.031378</td>\n",
       "      <td>0.035844</td>\n",
       "      <td>0.062215</td>\n",
       "      <td>0.042113</td>\n",
       "      <td>-0.009685</td>\n",
       "      <td>0.058768</td>\n",
       "      <td>-0.063761</td>\n",
       "      <td>...</td>\n",
       "      <td>0.054219</td>\n",
       "      <td>-0.063270</td>\n",
       "      <td>0.061806</td>\n",
       "      <td>-0.046271</td>\n",
       "      <td>-0.036764</td>\n",
       "      <td>-0.046000</td>\n",
       "      <td>0.038473</td>\n",
       "      <td>-0.056148</td>\n",
       "      <td>-0.030719</td>\n",
       "      <td>-0.045615</td>\n",
       "    </tr>\n",
       "    <tr>\n",
       "      <th>3</th>\n",
       "      <td>-0.035352</td>\n",
       "      <td>0.016054</td>\n",
       "      <td>-0.076398</td>\n",
       "      <td>0.020415</td>\n",
       "      <td>0.015603</td>\n",
       "      <td>0.005480</td>\n",
       "      <td>0.072954</td>\n",
       "      <td>-0.016030</td>\n",
       "      <td>0.040318</td>\n",
       "      <td>-0.035444</td>\n",
       "      <td>...</td>\n",
       "      <td>0.027830</td>\n",
       "      <td>0.062261</td>\n",
       "      <td>0.047552</td>\n",
       "      <td>0.011128</td>\n",
       "      <td>0.071568</td>\n",
       "      <td>0.009847</td>\n",
       "      <td>0.016570</td>\n",
       "      <td>-0.042138</td>\n",
       "      <td>-0.015749</td>\n",
       "      <td>-0.001022</td>\n",
       "    </tr>\n",
       "    <tr>\n",
       "      <th>4</th>\n",
       "      <td>-0.035352</td>\n",
       "      <td>0.016054</td>\n",
       "      <td>-0.076398</td>\n",
       "      <td>0.020415</td>\n",
       "      <td>0.015603</td>\n",
       "      <td>0.005480</td>\n",
       "      <td>0.072954</td>\n",
       "      <td>-0.016030</td>\n",
       "      <td>0.040318</td>\n",
       "      <td>-0.035444</td>\n",
       "      <td>...</td>\n",
       "      <td>0.027830</td>\n",
       "      <td>0.062261</td>\n",
       "      <td>0.047552</td>\n",
       "      <td>0.011128</td>\n",
       "      <td>0.071568</td>\n",
       "      <td>0.009847</td>\n",
       "      <td>0.016570</td>\n",
       "      <td>-0.042138</td>\n",
       "      <td>-0.015749</td>\n",
       "      <td>-0.001022</td>\n",
       "    </tr>\n",
       "  </tbody>\n",
       "</table>\n",
       "<p>5 rows × 512 columns</p>\n",
       "</div>"
      ],
      "text/plain": [
       "        0         1         2         3         4         5         6    \\\n",
       "0 -0.052781  0.024666  0.051348  0.037249  0.057194 -0.076907  0.071803   \n",
       "1 -0.048056 -0.072181 -0.019397  0.046580  0.056078  0.053447  0.032563   \n",
       "2 -0.040616 -0.058709 -0.026109  0.031378  0.035844  0.062215  0.042113   \n",
       "3 -0.035352  0.016054 -0.076398  0.020415  0.015603  0.005480  0.072954   \n",
       "4 -0.035352  0.016054 -0.076398  0.020415  0.015603  0.005480  0.072954   \n",
       "\n",
       "        7         8         9    ...       502       503       504       505  \\\n",
       "0  0.013002  0.034847  0.056980  ...  0.062200  0.042560  0.081443  0.020261   \n",
       "1  0.030554  0.034230 -0.074307  ...  0.060413 -0.028328  0.074611  0.071459   \n",
       "2 -0.009685  0.058768 -0.063761  ...  0.054219 -0.063270  0.061806 -0.046271   \n",
       "3 -0.016030  0.040318 -0.035444  ...  0.027830  0.062261  0.047552  0.011128   \n",
       "4 -0.016030  0.040318 -0.035444  ...  0.027830  0.062261  0.047552  0.011128   \n",
       "\n",
       "        506       507       508       509       510       511  \n",
       "0  0.050455  0.030513 -0.043428  0.023156  0.020730  0.018307  \n",
       "1 -0.042857 -0.020672  0.004358 -0.048379 -0.064370 -0.047666  \n",
       "2 -0.036764 -0.046000  0.038473 -0.056148 -0.030719 -0.045615  \n",
       "3  0.071568  0.009847  0.016570 -0.042138 -0.015749 -0.001022  \n",
       "4  0.071568  0.009847  0.016570 -0.042138 -0.015749 -0.001022  \n",
       "\n",
       "[5 rows x 512 columns]"
      ]
     },
     "execution_count": 28,
     "metadata": {},
     "output_type": "execute_result"
    }
   ],
   "source": [
    "df_embeddings.head(5)"
   ]
  },
  {
   "cell_type": "code",
   "execution_count": null,
   "metadata": {},
   "outputs": [
    {
     "data": {
      "text/html": [
       "<div>\n",
       "<style scoped>\n",
       "    .dataframe tbody tr th:only-of-type {\n",
       "        vertical-align: middle;\n",
       "    }\n",
       "\n",
       "    .dataframe tbody tr th {\n",
       "        vertical-align: top;\n",
       "    }\n",
       "\n",
       "    .dataframe thead th {\n",
       "        text-align: right;\n",
       "    }\n",
       "</style>\n",
       "<table border=\"1\" class=\"dataframe\">\n",
       "  <thead>\n",
       "    <tr style=\"text-align: right;\">\n",
       "      <th></th>\n",
       "      <th>row</th>\n",
       "      <th>col</th>\n",
       "      <th>latitude</th>\n",
       "      <th>longitude</th>\n",
       "      <th>Map Data</th>\n",
       "      <th>0</th>\n",
       "      <th>1</th>\n",
       "      <th>2</th>\n",
       "      <th>3</th>\n",
       "      <th>4</th>\n",
       "      <th>...</th>\n",
       "      <th>502</th>\n",
       "      <th>503</th>\n",
       "      <th>504</th>\n",
       "      <th>505</th>\n",
       "      <th>506</th>\n",
       "      <th>507</th>\n",
       "      <th>508</th>\n",
       "      <th>509</th>\n",
       "      <th>510</th>\n",
       "      <th>511</th>\n",
       "    </tr>\n",
       "  </thead>\n",
       "  <tbody>\n",
       "    <tr>\n",
       "      <th>1</th>\n",
       "      <td>0.0</td>\n",
       "      <td>1.0</td>\n",
       "      <td>18.89433</td>\n",
       "      <td>72.794102</td>\n",
       "      <td>Prongs Reef is a Natural;</td>\n",
       "      <td>-0.048056</td>\n",
       "      <td>-0.072181</td>\n",
       "      <td>-0.019397</td>\n",
       "      <td>0.046580</td>\n",
       "      <td>0.056078</td>\n",
       "      <td>...</td>\n",
       "      <td>0.060413</td>\n",
       "      <td>-0.028328</td>\n",
       "      <td>0.074611</td>\n",
       "      <td>0.071459</td>\n",
       "      <td>-0.042857</td>\n",
       "      <td>-0.020672</td>\n",
       "      <td>0.004358</td>\n",
       "      <td>-0.048379</td>\n",
       "      <td>-0.064370</td>\n",
       "      <td>-0.047666</td>\n",
       "    </tr>\n",
       "    <tr>\n",
       "      <th>2</th>\n",
       "      <td>0.0</td>\n",
       "      <td>2.0</td>\n",
       "      <td>18.89433</td>\n",
       "      <td>72.803607</td>\n",
       "      <td>United Services Club Golf Course is a Leisure ...</td>\n",
       "      <td>-0.040616</td>\n",
       "      <td>-0.058709</td>\n",
       "      <td>-0.026109</td>\n",
       "      <td>0.031378</td>\n",
       "      <td>0.035844</td>\n",
       "      <td>...</td>\n",
       "      <td>0.054219</td>\n",
       "      <td>-0.063270</td>\n",
       "      <td>0.061806</td>\n",
       "      <td>-0.046271</td>\n",
       "      <td>-0.036764</td>\n",
       "      <td>-0.046000</td>\n",
       "      <td>0.038473</td>\n",
       "      <td>-0.056148</td>\n",
       "      <td>-0.030719</td>\n",
       "      <td>-0.045615</td>\n",
       "    </tr>\n",
       "    <tr>\n",
       "      <th>3</th>\n",
       "      <td>0.0</td>\n",
       "      <td>3.0</td>\n",
       "      <td>18.89433</td>\n",
       "      <td>72.813112</td>\n",
       "      <td>Indian Meterological Department is a Commercia...</td>\n",
       "      <td>-0.035352</td>\n",
       "      <td>0.016054</td>\n",
       "      <td>-0.076398</td>\n",
       "      <td>0.020415</td>\n",
       "      <td>0.015603</td>\n",
       "      <td>...</td>\n",
       "      <td>0.027830</td>\n",
       "      <td>0.062261</td>\n",
       "      <td>0.047552</td>\n",
       "      <td>0.011128</td>\n",
       "      <td>0.071568</td>\n",
       "      <td>0.009847</td>\n",
       "      <td>0.016570</td>\n",
       "      <td>-0.042138</td>\n",
       "      <td>-0.015749</td>\n",
       "      <td>-0.001022</td>\n",
       "    </tr>\n",
       "    <tr>\n",
       "      <th>13</th>\n",
       "      <td>0.0</td>\n",
       "      <td>13.0</td>\n",
       "      <td>18.89433</td>\n",
       "      <td>72.908163</td>\n",
       "      <td>Uran Naval Base is a Landuse: Military;</td>\n",
       "      <td>-0.025696</td>\n",
       "      <td>0.046403</td>\n",
       "      <td>-0.017806</td>\n",
       "      <td>0.035352</td>\n",
       "      <td>0.065702</td>\n",
       "      <td>...</td>\n",
       "      <td>0.074802</td>\n",
       "      <td>0.022356</td>\n",
       "      <td>0.086827</td>\n",
       "      <td>0.022949</td>\n",
       "      <td>-0.071471</td>\n",
       "      <td>0.056435</td>\n",
       "      <td>-0.007575</td>\n",
       "      <td>0.044845</td>\n",
       "      <td>0.039252</td>\n",
       "      <td>-0.044226</td>\n",
       "    </tr>\n",
       "    <tr>\n",
       "      <th>14</th>\n",
       "      <td>0.0</td>\n",
       "      <td>14.0</td>\n",
       "      <td>18.89433</td>\n",
       "      <td>72.917668</td>\n",
       "      <td>Uran Naval Base is a Landuse: Military;</td>\n",
       "      <td>-0.025696</td>\n",
       "      <td>0.046403</td>\n",
       "      <td>-0.017806</td>\n",
       "      <td>0.035352</td>\n",
       "      <td>0.065702</td>\n",
       "      <td>...</td>\n",
       "      <td>0.074802</td>\n",
       "      <td>0.022356</td>\n",
       "      <td>0.086827</td>\n",
       "      <td>0.022949</td>\n",
       "      <td>-0.071471</td>\n",
       "      <td>0.056435</td>\n",
       "      <td>-0.007575</td>\n",
       "      <td>0.044845</td>\n",
       "      <td>0.039252</td>\n",
       "      <td>-0.044226</td>\n",
       "    </tr>\n",
       "  </tbody>\n",
       "</table>\n",
       "<p>5 rows × 517 columns</p>\n",
       "</div>"
      ],
      "text/plain": [
       "    row   col  latitude  longitude  \\\n",
       "1   0.0   1.0  18.89433  72.794102   \n",
       "2   0.0   2.0  18.89433  72.803607   \n",
       "3   0.0   3.0  18.89433  72.813112   \n",
       "13  0.0  13.0  18.89433  72.908163   \n",
       "14  0.0  14.0  18.89433  72.917668   \n",
       "\n",
       "                                             Map Data         0         1  \\\n",
       "1                          Prongs Reef is a Natural;  -0.048056 -0.072181   \n",
       "2   United Services Club Golf Course is a Leisure ... -0.040616 -0.058709   \n",
       "3   Indian Meterological Department is a Commercia... -0.035352  0.016054   \n",
       "13           Uran Naval Base is a Landuse: Military;  -0.025696  0.046403   \n",
       "14           Uran Naval Base is a Landuse: Military;  -0.025696  0.046403   \n",
       "\n",
       "           2         3         4  ...       502       503       504       505  \\\n",
       "1  -0.019397  0.046580  0.056078  ...  0.060413 -0.028328  0.074611  0.071459   \n",
       "2  -0.026109  0.031378  0.035844  ...  0.054219 -0.063270  0.061806 -0.046271   \n",
       "3  -0.076398  0.020415  0.015603  ...  0.027830  0.062261  0.047552  0.011128   \n",
       "13 -0.017806  0.035352  0.065702  ...  0.074802  0.022356  0.086827  0.022949   \n",
       "14 -0.017806  0.035352  0.065702  ...  0.074802  0.022356  0.086827  0.022949   \n",
       "\n",
       "         506       507       508       509       510       511  \n",
       "1  -0.042857 -0.020672  0.004358 -0.048379 -0.064370 -0.047666  \n",
       "2  -0.036764 -0.046000  0.038473 -0.056148 -0.030719 -0.045615  \n",
       "3   0.071568  0.009847  0.016570 -0.042138 -0.015749 -0.001022  \n",
       "13 -0.071471  0.056435 -0.007575  0.044845  0.039252 -0.044226  \n",
       "14 -0.071471  0.056435 -0.007575  0.044845  0.039252 -0.044226  \n",
       "\n",
       "[5 rows x 517 columns]"
      ]
     },
     "execution_count": 29,
     "metadata": {},
     "output_type": "execute_result"
    }
   ],
   "source": [
    "## merging the df and embeddingg df to get the final dataset\n",
    "\n",
    "df_final = pd.concat([df, df_embeddings], axis=1)\n",
    "df_final.head()"
   ]
  },
  {
   "cell_type": "code",
   "execution_count": 34,
   "metadata": {},
   "outputs": [],
   "source": [
    "## saving the final dataset\n",
    "\n",
    "df_final.to_csv(f'{data_folder}/MMR_DATA_USE_EMBEDDINGS.csv', index=False)\n",
    "df_embeddings.to_csv(f'{data_folder}/MMR_DATA_USE_EMBEDDINGS_ONLY.csv', index=False)"
   ]
  },
  {
   "cell_type": "code",
   "execution_count": 80,
   "metadata": {},
   "outputs": [
    {
     "data": {
      "text/html": [
       "<div>\n",
       "<style scoped>\n",
       "    .dataframe tbody tr th:only-of-type {\n",
       "        vertical-align: middle;\n",
       "    }\n",
       "\n",
       "    .dataframe tbody tr th {\n",
       "        vertical-align: top;\n",
       "    }\n",
       "\n",
       "    .dataframe thead th {\n",
       "        text-align: right;\n",
       "    }\n",
       "</style>\n",
       "<table border=\"1\" class=\"dataframe\">\n",
       "  <thead>\n",
       "    <tr style=\"text-align: right;\">\n",
       "      <th></th>\n",
       "      <th>row</th>\n",
       "      <th>col</th>\n",
       "      <th>latitude</th>\n",
       "      <th>longitude</th>\n",
       "      <th>Map Data</th>\n",
       "    </tr>\n",
       "  </thead>\n",
       "  <tbody>\n",
       "    <tr>\n",
       "      <th>1</th>\n",
       "      <td>0</td>\n",
       "      <td>1</td>\n",
       "      <td>18.89433</td>\n",
       "      <td>72.794102</td>\n",
       "      <td>Prongs Reef is a Natural;</td>\n",
       "    </tr>\n",
       "    <tr>\n",
       "      <th>2</th>\n",
       "      <td>0</td>\n",
       "      <td>2</td>\n",
       "      <td>18.89433</td>\n",
       "      <td>72.803607</td>\n",
       "      <td>United Services Club Golf Course is a Leisure ...</td>\n",
       "    </tr>\n",
       "    <tr>\n",
       "      <th>3</th>\n",
       "      <td>0</td>\n",
       "      <td>3</td>\n",
       "      <td>18.89433</td>\n",
       "      <td>72.813112</td>\n",
       "      <td>Indian Meterological Department is a Commercia...</td>\n",
       "    </tr>\n",
       "    <tr>\n",
       "      <th>13</th>\n",
       "      <td>0</td>\n",
       "      <td>13</td>\n",
       "      <td>18.89433</td>\n",
       "      <td>72.908163</td>\n",
       "      <td>Uran Naval Base is a Landuse: Military;</td>\n",
       "    </tr>\n",
       "    <tr>\n",
       "      <th>14</th>\n",
       "      <td>0</td>\n",
       "      <td>14</td>\n",
       "      <td>18.89433</td>\n",
       "      <td>72.917668</td>\n",
       "      <td>Uran Naval Base is a Landuse: Military;</td>\n",
       "    </tr>\n",
       "  </tbody>\n",
       "</table>\n",
       "</div>"
      ],
      "text/plain": [
       "    row  col  latitude  longitude  \\\n",
       "1     0    1  18.89433  72.794102   \n",
       "2     0    2  18.89433  72.803607   \n",
       "3     0    3  18.89433  72.813112   \n",
       "13    0   13  18.89433  72.908163   \n",
       "14    0   14  18.89433  72.917668   \n",
       "\n",
       "                                             Map Data  \n",
       "1                          Prongs Reef is a Natural;   \n",
       "2   United Services Club Golf Course is a Leisure ...  \n",
       "3   Indian Meterological Department is a Commercia...  \n",
       "13           Uran Naval Base is a Landuse: Military;   \n",
       "14           Uran Naval Base is a Landuse: Military;   "
      ]
     },
     "execution_count": 80,
     "metadata": {},
     "output_type": "execute_result"
    }
   ],
   "source": [
    "## loading the final dataset\n",
    "\n",
    "df_final = pd.read_csv(f'{data_folder}/MMR_DATA.csv')\n",
    "df_final = clean_data(df_final)\n",
    "df_final.head()"
   ]
  },
  {
   "cell_type": "code",
   "execution_count": 42,
   "metadata": {},
   "outputs": [
    {
     "data": {
      "text/plain": [
       "(791, 512)"
      ]
     },
     "execution_count": 42,
     "metadata": {},
     "output_type": "execute_result"
    }
   ],
   "source": [
    "from sklearn.cluster import KMeans\n",
    "from sklearn.preprocessing import StandardScaler\n",
    "from sklearn.manifold import TSNE\n",
    "import plotly.express as px\n",
    "\n",
    "df_embeddings_np = df_embeddings.to_numpy()\n",
    "df_embeddings_np.shape"
   ]
  },
  {
   "cell_type": "code",
   "execution_count": 39,
   "metadata": {},
   "outputs": [],
   "source": [
    "scaler = StandardScaler()\n",
    "scaled_embeddings = scaler.fit_transform(df_embeddings_np)"
   ]
  },
  {
   "cell_type": "code",
   "execution_count": 40,
   "metadata": {},
   "outputs": [
    {
     "data": {
      "text/html": [
       "<style>#sk-container-id-1 {\n",
       "  /* Definition of color scheme common for light and dark mode */\n",
       "  --sklearn-color-text: black;\n",
       "  --sklearn-color-line: gray;\n",
       "  /* Definition of color scheme for unfitted estimators */\n",
       "  --sklearn-color-unfitted-level-0: #fff5e6;\n",
       "  --sklearn-color-unfitted-level-1: #f6e4d2;\n",
       "  --sklearn-color-unfitted-level-2: #ffe0b3;\n",
       "  --sklearn-color-unfitted-level-3: chocolate;\n",
       "  /* Definition of color scheme for fitted estimators */\n",
       "  --sklearn-color-fitted-level-0: #f0f8ff;\n",
       "  --sklearn-color-fitted-level-1: #d4ebff;\n",
       "  --sklearn-color-fitted-level-2: #b3dbfd;\n",
       "  --sklearn-color-fitted-level-3: cornflowerblue;\n",
       "\n",
       "  /* Specific color for light theme */\n",
       "  --sklearn-color-text-on-default-background: var(--sg-text-color, var(--theme-code-foreground, var(--jp-content-font-color1, black)));\n",
       "  --sklearn-color-background: var(--sg-background-color, var(--theme-background, var(--jp-layout-color0, white)));\n",
       "  --sklearn-color-border-box: var(--sg-text-color, var(--theme-code-foreground, var(--jp-content-font-color1, black)));\n",
       "  --sklearn-color-icon: #696969;\n",
       "\n",
       "  @media (prefers-color-scheme: dark) {\n",
       "    /* Redefinition of color scheme for dark theme */\n",
       "    --sklearn-color-text-on-default-background: var(--sg-text-color, var(--theme-code-foreground, var(--jp-content-font-color1, white)));\n",
       "    --sklearn-color-background: var(--sg-background-color, var(--theme-background, var(--jp-layout-color0, #111)));\n",
       "    --sklearn-color-border-box: var(--sg-text-color, var(--theme-code-foreground, var(--jp-content-font-color1, white)));\n",
       "    --sklearn-color-icon: #878787;\n",
       "  }\n",
       "}\n",
       "\n",
       "#sk-container-id-1 {\n",
       "  color: var(--sklearn-color-text);\n",
       "}\n",
       "\n",
       "#sk-container-id-1 pre {\n",
       "  padding: 0;\n",
       "}\n",
       "\n",
       "#sk-container-id-1 input.sk-hidden--visually {\n",
       "  border: 0;\n",
       "  clip: rect(1px 1px 1px 1px);\n",
       "  clip: rect(1px, 1px, 1px, 1px);\n",
       "  height: 1px;\n",
       "  margin: -1px;\n",
       "  overflow: hidden;\n",
       "  padding: 0;\n",
       "  position: absolute;\n",
       "  width: 1px;\n",
       "}\n",
       "\n",
       "#sk-container-id-1 div.sk-dashed-wrapped {\n",
       "  border: 1px dashed var(--sklearn-color-line);\n",
       "  margin: 0 0.4em 0.5em 0.4em;\n",
       "  box-sizing: border-box;\n",
       "  padding-bottom: 0.4em;\n",
       "  background-color: var(--sklearn-color-background);\n",
       "}\n",
       "\n",
       "#sk-container-id-1 div.sk-container {\n",
       "  /* jupyter's `normalize.less` sets `[hidden] { display: none; }`\n",
       "     but bootstrap.min.css set `[hidden] { display: none !important; }`\n",
       "     so we also need the `!important` here to be able to override the\n",
       "     default hidden behavior on the sphinx rendered scikit-learn.org.\n",
       "     See: https://github.com/scikit-learn/scikit-learn/issues/21755 */\n",
       "  display: inline-block !important;\n",
       "  position: relative;\n",
       "}\n",
       "\n",
       "#sk-container-id-1 div.sk-text-repr-fallback {\n",
       "  display: none;\n",
       "}\n",
       "\n",
       "div.sk-parallel-item,\n",
       "div.sk-serial,\n",
       "div.sk-item {\n",
       "  /* draw centered vertical line to link estimators */\n",
       "  background-image: linear-gradient(var(--sklearn-color-text-on-default-background), var(--sklearn-color-text-on-default-background));\n",
       "  background-size: 2px 100%;\n",
       "  background-repeat: no-repeat;\n",
       "  background-position: center center;\n",
       "}\n",
       "\n",
       "/* Parallel-specific style estimator block */\n",
       "\n",
       "#sk-container-id-1 div.sk-parallel-item::after {\n",
       "  content: \"\";\n",
       "  width: 100%;\n",
       "  border-bottom: 2px solid var(--sklearn-color-text-on-default-background);\n",
       "  flex-grow: 1;\n",
       "}\n",
       "\n",
       "#sk-container-id-1 div.sk-parallel {\n",
       "  display: flex;\n",
       "  align-items: stretch;\n",
       "  justify-content: center;\n",
       "  background-color: var(--sklearn-color-background);\n",
       "  position: relative;\n",
       "}\n",
       "\n",
       "#sk-container-id-1 div.sk-parallel-item {\n",
       "  display: flex;\n",
       "  flex-direction: column;\n",
       "}\n",
       "\n",
       "#sk-container-id-1 div.sk-parallel-item:first-child::after {\n",
       "  align-self: flex-end;\n",
       "  width: 50%;\n",
       "}\n",
       "\n",
       "#sk-container-id-1 div.sk-parallel-item:last-child::after {\n",
       "  align-self: flex-start;\n",
       "  width: 50%;\n",
       "}\n",
       "\n",
       "#sk-container-id-1 div.sk-parallel-item:only-child::after {\n",
       "  width: 0;\n",
       "}\n",
       "\n",
       "/* Serial-specific style estimator block */\n",
       "\n",
       "#sk-container-id-1 div.sk-serial {\n",
       "  display: flex;\n",
       "  flex-direction: column;\n",
       "  align-items: center;\n",
       "  background-color: var(--sklearn-color-background);\n",
       "  padding-right: 1em;\n",
       "  padding-left: 1em;\n",
       "}\n",
       "\n",
       "\n",
       "/* Toggleable style: style used for estimator/Pipeline/ColumnTransformer box that is\n",
       "clickable and can be expanded/collapsed.\n",
       "- Pipeline and ColumnTransformer use this feature and define the default style\n",
       "- Estimators will overwrite some part of the style using the `sk-estimator` class\n",
       "*/\n",
       "\n",
       "/* Pipeline and ColumnTransformer style (default) */\n",
       "\n",
       "#sk-container-id-1 div.sk-toggleable {\n",
       "  /* Default theme specific background. It is overwritten whether we have a\n",
       "  specific estimator or a Pipeline/ColumnTransformer */\n",
       "  background-color: var(--sklearn-color-background);\n",
       "}\n",
       "\n",
       "/* Toggleable label */\n",
       "#sk-container-id-1 label.sk-toggleable__label {\n",
       "  cursor: pointer;\n",
       "  display: block;\n",
       "  width: 100%;\n",
       "  margin-bottom: 0;\n",
       "  padding: 0.5em;\n",
       "  box-sizing: border-box;\n",
       "  text-align: center;\n",
       "}\n",
       "\n",
       "#sk-container-id-1 label.sk-toggleable__label-arrow:before {\n",
       "  /* Arrow on the left of the label */\n",
       "  content: \"▸\";\n",
       "  float: left;\n",
       "  margin-right: 0.25em;\n",
       "  color: var(--sklearn-color-icon);\n",
       "}\n",
       "\n",
       "#sk-container-id-1 label.sk-toggleable__label-arrow:hover:before {\n",
       "  color: var(--sklearn-color-text);\n",
       "}\n",
       "\n",
       "/* Toggleable content - dropdown */\n",
       "\n",
       "#sk-container-id-1 div.sk-toggleable__content {\n",
       "  max-height: 0;\n",
       "  max-width: 0;\n",
       "  overflow: hidden;\n",
       "  text-align: left;\n",
       "  /* unfitted */\n",
       "  background-color: var(--sklearn-color-unfitted-level-0);\n",
       "}\n",
       "\n",
       "#sk-container-id-1 div.sk-toggleable__content.fitted {\n",
       "  /* fitted */\n",
       "  background-color: var(--sklearn-color-fitted-level-0);\n",
       "}\n",
       "\n",
       "#sk-container-id-1 div.sk-toggleable__content pre {\n",
       "  margin: 0.2em;\n",
       "  border-radius: 0.25em;\n",
       "  color: var(--sklearn-color-text);\n",
       "  /* unfitted */\n",
       "  background-color: var(--sklearn-color-unfitted-level-0);\n",
       "}\n",
       "\n",
       "#sk-container-id-1 div.sk-toggleable__content.fitted pre {\n",
       "  /* unfitted */\n",
       "  background-color: var(--sklearn-color-fitted-level-0);\n",
       "}\n",
       "\n",
       "#sk-container-id-1 input.sk-toggleable__control:checked~div.sk-toggleable__content {\n",
       "  /* Expand drop-down */\n",
       "  max-height: 200px;\n",
       "  max-width: 100%;\n",
       "  overflow: auto;\n",
       "}\n",
       "\n",
       "#sk-container-id-1 input.sk-toggleable__control:checked~label.sk-toggleable__label-arrow:before {\n",
       "  content: \"▾\";\n",
       "}\n",
       "\n",
       "/* Pipeline/ColumnTransformer-specific style */\n",
       "\n",
       "#sk-container-id-1 div.sk-label input.sk-toggleable__control:checked~label.sk-toggleable__label {\n",
       "  color: var(--sklearn-color-text);\n",
       "  background-color: var(--sklearn-color-unfitted-level-2);\n",
       "}\n",
       "\n",
       "#sk-container-id-1 div.sk-label.fitted input.sk-toggleable__control:checked~label.sk-toggleable__label {\n",
       "  background-color: var(--sklearn-color-fitted-level-2);\n",
       "}\n",
       "\n",
       "/* Estimator-specific style */\n",
       "\n",
       "/* Colorize estimator box */\n",
       "#sk-container-id-1 div.sk-estimator input.sk-toggleable__control:checked~label.sk-toggleable__label {\n",
       "  /* unfitted */\n",
       "  background-color: var(--sklearn-color-unfitted-level-2);\n",
       "}\n",
       "\n",
       "#sk-container-id-1 div.sk-estimator.fitted input.sk-toggleable__control:checked~label.sk-toggleable__label {\n",
       "  /* fitted */\n",
       "  background-color: var(--sklearn-color-fitted-level-2);\n",
       "}\n",
       "\n",
       "#sk-container-id-1 div.sk-label label.sk-toggleable__label,\n",
       "#sk-container-id-1 div.sk-label label {\n",
       "  /* The background is the default theme color */\n",
       "  color: var(--sklearn-color-text-on-default-background);\n",
       "}\n",
       "\n",
       "/* On hover, darken the color of the background */\n",
       "#sk-container-id-1 div.sk-label:hover label.sk-toggleable__label {\n",
       "  color: var(--sklearn-color-text);\n",
       "  background-color: var(--sklearn-color-unfitted-level-2);\n",
       "}\n",
       "\n",
       "/* Label box, darken color on hover, fitted */\n",
       "#sk-container-id-1 div.sk-label.fitted:hover label.sk-toggleable__label.fitted {\n",
       "  color: var(--sklearn-color-text);\n",
       "  background-color: var(--sklearn-color-fitted-level-2);\n",
       "}\n",
       "\n",
       "/* Estimator label */\n",
       "\n",
       "#sk-container-id-1 div.sk-label label {\n",
       "  font-family: monospace;\n",
       "  font-weight: bold;\n",
       "  display: inline-block;\n",
       "  line-height: 1.2em;\n",
       "}\n",
       "\n",
       "#sk-container-id-1 div.sk-label-container {\n",
       "  text-align: center;\n",
       "}\n",
       "\n",
       "/* Estimator-specific */\n",
       "#sk-container-id-1 div.sk-estimator {\n",
       "  font-family: monospace;\n",
       "  border: 1px dotted var(--sklearn-color-border-box);\n",
       "  border-radius: 0.25em;\n",
       "  box-sizing: border-box;\n",
       "  margin-bottom: 0.5em;\n",
       "  /* unfitted */\n",
       "  background-color: var(--sklearn-color-unfitted-level-0);\n",
       "}\n",
       "\n",
       "#sk-container-id-1 div.sk-estimator.fitted {\n",
       "  /* fitted */\n",
       "  background-color: var(--sklearn-color-fitted-level-0);\n",
       "}\n",
       "\n",
       "/* on hover */\n",
       "#sk-container-id-1 div.sk-estimator:hover {\n",
       "  /* unfitted */\n",
       "  background-color: var(--sklearn-color-unfitted-level-2);\n",
       "}\n",
       "\n",
       "#sk-container-id-1 div.sk-estimator.fitted:hover {\n",
       "  /* fitted */\n",
       "  background-color: var(--sklearn-color-fitted-level-2);\n",
       "}\n",
       "\n",
       "/* Specification for estimator info (e.g. \"i\" and \"?\") */\n",
       "\n",
       "/* Common style for \"i\" and \"?\" */\n",
       "\n",
       ".sk-estimator-doc-link,\n",
       "a:link.sk-estimator-doc-link,\n",
       "a:visited.sk-estimator-doc-link {\n",
       "  float: right;\n",
       "  font-size: smaller;\n",
       "  line-height: 1em;\n",
       "  font-family: monospace;\n",
       "  background-color: var(--sklearn-color-background);\n",
       "  border-radius: 1em;\n",
       "  height: 1em;\n",
       "  width: 1em;\n",
       "  text-decoration: none !important;\n",
       "  margin-left: 1ex;\n",
       "  /* unfitted */\n",
       "  border: var(--sklearn-color-unfitted-level-1) 1pt solid;\n",
       "  color: var(--sklearn-color-unfitted-level-1);\n",
       "}\n",
       "\n",
       ".sk-estimator-doc-link.fitted,\n",
       "a:link.sk-estimator-doc-link.fitted,\n",
       "a:visited.sk-estimator-doc-link.fitted {\n",
       "  /* fitted */\n",
       "  border: var(--sklearn-color-fitted-level-1) 1pt solid;\n",
       "  color: var(--sklearn-color-fitted-level-1);\n",
       "}\n",
       "\n",
       "/* On hover */\n",
       "div.sk-estimator:hover .sk-estimator-doc-link:hover,\n",
       ".sk-estimator-doc-link:hover,\n",
       "div.sk-label-container:hover .sk-estimator-doc-link:hover,\n",
       ".sk-estimator-doc-link:hover {\n",
       "  /* unfitted */\n",
       "  background-color: var(--sklearn-color-unfitted-level-3);\n",
       "  color: var(--sklearn-color-background);\n",
       "  text-decoration: none;\n",
       "}\n",
       "\n",
       "div.sk-estimator.fitted:hover .sk-estimator-doc-link.fitted:hover,\n",
       ".sk-estimator-doc-link.fitted:hover,\n",
       "div.sk-label-container:hover .sk-estimator-doc-link.fitted:hover,\n",
       ".sk-estimator-doc-link.fitted:hover {\n",
       "  /* fitted */\n",
       "  background-color: var(--sklearn-color-fitted-level-3);\n",
       "  color: var(--sklearn-color-background);\n",
       "  text-decoration: none;\n",
       "}\n",
       "\n",
       "/* Span, style for the box shown on hovering the info icon */\n",
       ".sk-estimator-doc-link span {\n",
       "  display: none;\n",
       "  z-index: 9999;\n",
       "  position: relative;\n",
       "  font-weight: normal;\n",
       "  right: .2ex;\n",
       "  padding: .5ex;\n",
       "  margin: .5ex;\n",
       "  width: min-content;\n",
       "  min-width: 20ex;\n",
       "  max-width: 50ex;\n",
       "  color: var(--sklearn-color-text);\n",
       "  box-shadow: 2pt 2pt 4pt #999;\n",
       "  /* unfitted */\n",
       "  background: var(--sklearn-color-unfitted-level-0);\n",
       "  border: .5pt solid var(--sklearn-color-unfitted-level-3);\n",
       "}\n",
       "\n",
       ".sk-estimator-doc-link.fitted span {\n",
       "  /* fitted */\n",
       "  background: var(--sklearn-color-fitted-level-0);\n",
       "  border: var(--sklearn-color-fitted-level-3);\n",
       "}\n",
       "\n",
       ".sk-estimator-doc-link:hover span {\n",
       "  display: block;\n",
       "}\n",
       "\n",
       "/* \"?\"-specific style due to the `<a>` HTML tag */\n",
       "\n",
       "#sk-container-id-1 a.estimator_doc_link {\n",
       "  float: right;\n",
       "  font-size: 1rem;\n",
       "  line-height: 1em;\n",
       "  font-family: monospace;\n",
       "  background-color: var(--sklearn-color-background);\n",
       "  border-radius: 1rem;\n",
       "  height: 1rem;\n",
       "  width: 1rem;\n",
       "  text-decoration: none;\n",
       "  /* unfitted */\n",
       "  color: var(--sklearn-color-unfitted-level-1);\n",
       "  border: var(--sklearn-color-unfitted-level-1) 1pt solid;\n",
       "}\n",
       "\n",
       "#sk-container-id-1 a.estimator_doc_link.fitted {\n",
       "  /* fitted */\n",
       "  border: var(--sklearn-color-fitted-level-1) 1pt solid;\n",
       "  color: var(--sklearn-color-fitted-level-1);\n",
       "}\n",
       "\n",
       "/* On hover */\n",
       "#sk-container-id-1 a.estimator_doc_link:hover {\n",
       "  /* unfitted */\n",
       "  background-color: var(--sklearn-color-unfitted-level-3);\n",
       "  color: var(--sklearn-color-background);\n",
       "  text-decoration: none;\n",
       "}\n",
       "\n",
       "#sk-container-id-1 a.estimator_doc_link.fitted:hover {\n",
       "  /* fitted */\n",
       "  background-color: var(--sklearn-color-fitted-level-3);\n",
       "}\n",
       "</style><div id=\"sk-container-id-1\" class=\"sk-top-container\"><div class=\"sk-text-repr-fallback\"><pre>KMeans(n_clusters=4, random_state=42)</pre><b>In a Jupyter environment, please rerun this cell to show the HTML representation or trust the notebook. <br />On GitHub, the HTML representation is unable to render, please try loading this page with nbviewer.org.</b></div><div class=\"sk-container\" hidden><div class=\"sk-item\"><div class=\"sk-estimator fitted sk-toggleable\"><input class=\"sk-toggleable__control sk-hidden--visually\" id=\"sk-estimator-id-1\" type=\"checkbox\" checked><label for=\"sk-estimator-id-1\" class=\"sk-toggleable__label fitted sk-toggleable__label-arrow fitted\">&nbsp;&nbsp;KMeans<a class=\"sk-estimator-doc-link fitted\" rel=\"noreferrer\" target=\"_blank\" href=\"https://scikit-learn.org/1.4/modules/generated/sklearn.cluster.KMeans.html\">?<span>Documentation for KMeans</span></a><span class=\"sk-estimator-doc-link fitted\">i<span>Fitted</span></span></label><div class=\"sk-toggleable__content fitted\"><pre>KMeans(n_clusters=4, random_state=42)</pre></div> </div></div></div></div>"
      ],
      "text/plain": [
       "KMeans(n_clusters=4, random_state=42)"
      ]
     },
     "execution_count": 40,
     "metadata": {},
     "output_type": "execute_result"
    }
   ],
   "source": [
    "n_clusters = 4  # We want 4 clusters\n",
    "kmeans = KMeans(n_clusters=n_clusters, random_state=42)\n",
    "kmeans.fit(scaled_embeddings)"
   ]
  },
  {
   "cell_type": "code",
   "execution_count": 64,
   "metadata": {},
   "outputs": [
    {
     "data": {
      "text/plain": [
       "array([2, 3, 0, 2, 2, 2, 2, 1, 1, 1, 1, 1, 2, 2, 2, 2, 3, 3, 0, 0, 1, 2,\n",
       "       2, 2, 2, 1, 1, 1, 1, 2, 2, 2, 3, 3, 3, 0, 0, 0, 0, 2, 2, 1, 1, 2,\n",
       "       2, 0, 0, 2, 2, 2, 2, 2, 2, 2, 2, 3, 2, 0, 0, 2, 2, 2, 2, 2, 2, 2,\n",
       "       2, 3, 2, 3, 2, 0, 0, 2, 2, 2, 2, 2, 2, 2, 2, 1, 1, 0, 0, 0, 0, 2,\n",
       "       2, 2, 2, 2, 2, 2, 2, 2, 1, 0, 0, 0, 0, 2, 3, 2, 2, 2, 2, 2, 2, 2,\n",
       "       2, 3, 3, 2, 0, 0, 0, 0, 0, 2, 3, 3, 2, 2, 2, 2, 1, 1, 1, 1, 1, 0,\n",
       "       2, 2, 2, 2, 2, 2, 1, 1, 1, 2, 1, 2, 0, 0, 2, 2, 2, 2, 2, 2, 1, 2,\n",
       "       2, 2, 0, 1, 0, 0, 0, 1, 3, 2, 2, 2, 2, 2, 0, 0, 0, 0, 0, 0, 3, 2,\n",
       "       2, 2, 2, 2, 0, 0, 0, 2, 2, 1, 2, 2, 3, 0, 0, 0, 0, 0, 1, 0, 2, 2,\n",
       "       2, 2, 2, 1, 0, 0, 0, 0, 1, 0, 0, 0, 0, 0, 0, 1, 1, 1, 2, 2, 2, 2,\n",
       "       2, 2, 3, 0, 0, 0, 0, 3, 2, 2, 2, 0, 0, 0, 3, 2, 0, 0, 0, 0, 1, 1,\n",
       "       0, 0, 1, 1, 0, 2, 1, 3, 0, 0, 0, 0, 3, 0, 0, 2, 0, 0, 0, 3, 3, 2,\n",
       "       0, 0, 0, 1, 1, 0, 0, 0, 1, 1, 0, 0, 0, 0, 0, 0, 3, 3, 0, 0, 1, 0,\n",
       "       0, 2, 3, 0, 0, 0, 0, 0, 0, 0, 0, 1, 0, 0, 1, 3, 0, 0, 0, 3, 3, 0,\n",
       "       0, 0, 1, 2, 0, 0, 0, 0, 0, 0, 0, 0, 0, 1, 1, 3, 3, 2, 1, 0, 0, 3,\n",
       "       3, 3, 3, 0, 1, 2, 2, 2, 0, 0, 0, 0, 0, 0, 0, 0, 0, 1, 1, 3, 3, 3,\n",
       "       0, 0, 0, 0, 0, 3, 3, 3, 3, 0, 2, 2, 2, 2, 2, 2, 0, 0, 0, 1, 0, 0,\n",
       "       0, 0, 0, 0, 0, 1, 2, 3, 3, 3, 0, 0, 0, 0, 3, 3, 3, 3, 3, 1, 0, 0,\n",
       "       1, 1, 2, 2, 1, 0, 0, 1, 0, 1, 0, 0, 0, 0, 0, 2, 2, 3, 3, 3, 0, 0,\n",
       "       0, 1, 3, 3, 3, 1, 1, 1, 1, 1, 0, 0, 0, 0, 0, 0, 0, 0, 0, 0, 0, 1,\n",
       "       3, 3, 3, 3, 3, 0, 0, 2, 2, 3, 3, 3, 2, 0, 0, 0, 0, 0, 0, 0, 0, 1,\n",
       "       1, 1, 1, 3, 3, 3, 3, 0, 0, 0, 2, 2, 3, 3, 3, 1, 1, 0, 0, 0, 0, 0,\n",
       "       0, 1, 0, 0, 0, 0, 3, 3, 3, 3, 3, 0, 0, 3, 3, 3, 3, 1, 2, 1, 0, 0,\n",
       "       0, 0, 0, 0, 0, 0, 0, 0, 0, 3, 3, 3, 1, 1, 0, 3, 3, 3, 3, 2, 3, 0,\n",
       "       0, 0, 0, 0, 0, 1, 0, 0, 1, 1, 1, 1, 3, 3, 3, 1, 3, 1, 3, 3, 3, 3,\n",
       "       2, 3, 1, 0, 0, 0, 0, 0, 0, 3, 0, 0, 1, 1, 3, 3, 3, 3, 1, 0, 3, 3,\n",
       "       3, 1, 3, 1, 3, 1, 0, 1, 0, 0, 1, 0, 0, 3, 3, 3, 3, 0, 0, 0, 3, 3,\n",
       "       0, 0, 0, 2, 3, 3, 1, 1, 1, 1, 1, 1, 1, 3, 1, 2, 2, 1, 0, 0, 0, 0,\n",
       "       3, 0, 0, 3, 2, 3, 0, 0, 1, 1, 3, 0, 0, 0, 3, 1, 1, 1, 1, 1, 1, 1,\n",
       "       1, 1, 3, 3, 2, 2, 2, 1, 0, 0, 0, 0, 0, 3, 3, 2, 3, 1, 0, 0, 0, 0,\n",
       "       3, 3, 0, 0, 3, 1, 1, 1, 1, 1, 1, 1, 1, 1, 3, 2, 1, 1, 0, 0, 0, 0,\n",
       "       0, 0, 3, 2, 3, 1, 0, 0, 0, 3, 0, 0, 3, 0, 1, 1, 1, 1, 1, 3, 1, 2,\n",
       "       2, 1, 1, 0, 0, 0, 0, 0, 1, 3, 2, 2, 2, 0, 0, 0, 0, 0, 0, 0, 2, 3,\n",
       "       0, 3, 1, 1, 1, 1, 1, 1, 2, 2, 2, 3, 0, 0, 0, 0, 0, 0, 0, 0, 2, 2,\n",
       "       2, 3, 1, 0, 0, 0, 0, 2, 3, 1, 2, 1, 1, 1, 2, 2, 2, 3, 1, 1, 0, 0,\n",
       "       0, 0, 1, 1, 3, 2, 2, 2, 3, 1, 1, 0, 0, 0, 0, 0, 3, 3, 0, 0, 2])"
      ]
     },
     "execution_count": 64,
     "metadata": {},
     "output_type": "execute_result"
    }
   ],
   "source": [
    "y_kmeans = kmeans.labels_\n",
    "y_kmeans"
   ]
  },
  {
   "cell_type": "code",
   "execution_count": 81,
   "metadata": {},
   "outputs": [
    {
     "data": {
      "text/plain": [
       "(791,)"
      ]
     },
     "execution_count": 81,
     "metadata": {},
     "output_type": "execute_result"
    }
   ],
   "source": [
    "strings = df_final['Map Data'].to_numpy()\n",
    "strings.shape"
   ]
  },
  {
   "cell_type": "code",
   "execution_count": 71,
   "metadata": {},
   "outputs": [
    {
     "name": "stdout",
     "output_type": "stream",
     "text": [
      "[t-SNE] Computing 166 nearest neighbors...\n",
      "[t-SNE] Indexed 791 samples in 0.004s...\n",
      "[t-SNE] Computed neighbors for 791 samples in 0.095s...\n",
      "[t-SNE] Computed conditional probabilities for sample 791 / 791\n",
      "[t-SNE] Mean sigma: 8.156828\n",
      "[t-SNE] Computed conditional probabilities in 0.073s\n",
      "[t-SNE] Iteration 50: error = 59.0660782, gradient norm = 0.0001361 (50 iterations in 0.306s)\n",
      "[t-SNE] Iteration 100: error = 59.0223351, gradient norm = 0.0028756 (50 iterations in 0.269s)\n",
      "[t-SNE] Iteration 150: error = 58.5771255, gradient norm = 0.0001517 (50 iterations in 0.255s)\n",
      "[t-SNE] Iteration 200: error = 58.5688896, gradient norm = 0.0000363 (50 iterations in 0.229s)\n",
      "[t-SNE] Iteration 250: error = 58.5689125, gradient norm = 0.0000408 (50 iterations in 0.234s)\n",
      "[t-SNE] KL divergence after 250 iterations with early exaggeration: 58.568913\n",
      "[t-SNE] Iteration 300: error = 0.7489083, gradient norm = 0.0126172 (50 iterations in 0.266s)\n",
      "[t-SNE] Iteration 350: error = 0.5249931, gradient norm = 0.0065497 (50 iterations in 0.330s)\n",
      "[t-SNE] Iteration 400: error = 0.4462948, gradient norm = 0.0064660 (50 iterations in 0.339s)\n",
      "[t-SNE] Iteration 450: error = 0.4002393, gradient norm = 0.0068493 (50 iterations in 0.337s)\n",
      "[t-SNE] Iteration 500: error = 0.3672164, gradient norm = 0.0069880 (50 iterations in 0.330s)\n",
      "[t-SNE] Iteration 550: error = 0.3378849, gradient norm = 0.0068955 (50 iterations in 0.329s)\n",
      "[t-SNE] Iteration 600: error = 0.3123873, gradient norm = 0.0066335 (50 iterations in 0.316s)\n",
      "[t-SNE] Iteration 650: error = 0.2897722, gradient norm = 0.0063550 (50 iterations in 0.307s)\n",
      "[t-SNE] Iteration 700: error = 0.2705612, gradient norm = 0.0060390 (50 iterations in 0.341s)\n",
      "[t-SNE] Iteration 750: error = 0.2531756, gradient norm = 0.0057991 (50 iterations in 0.330s)\n",
      "[t-SNE] Iteration 800: error = 0.2375556, gradient norm = 0.0055757 (50 iterations in 0.308s)\n",
      "[t-SNE] Iteration 850: error = 0.2234027, gradient norm = 0.0053854 (50 iterations in 0.316s)\n",
      "[t-SNE] Iteration 900: error = 0.2105249, gradient norm = 0.0052029 (50 iterations in 0.326s)\n",
      "[t-SNE] Iteration 950: error = 0.1986625, gradient norm = 0.0050476 (50 iterations in 0.307s)\n",
      "[t-SNE] Iteration 1000: error = 0.1874616, gradient norm = 0.0049218 (50 iterations in 0.324s)\n",
      "[t-SNE] Iteration 1050: error = 0.1772732, gradient norm = 0.0048068 (50 iterations in 0.329s)\n",
      "[t-SNE] Iteration 1100: error = 0.1677874, gradient norm = 0.0046854 (50 iterations in 0.301s)\n",
      "[t-SNE] Iteration 1150: error = 0.1586947, gradient norm = 0.0045739 (50 iterations in 0.295s)\n",
      "[t-SNE] Iteration 1200: error = 0.1500953, gradient norm = 0.0044781 (50 iterations in 0.303s)\n",
      "[t-SNE] Iteration 1250: error = 0.1419881, gradient norm = 0.0043982 (50 iterations in 0.265s)\n",
      "[t-SNE] Iteration 1300: error = 0.1342483, gradient norm = 0.0043022 (50 iterations in 0.271s)\n",
      "[t-SNE] Iteration 1350: error = 0.1270254, gradient norm = 0.0042196 (50 iterations in 0.261s)\n",
      "[t-SNE] Iteration 1400: error = 0.1200668, gradient norm = 0.0041495 (50 iterations in 0.270s)\n",
      "[t-SNE] Iteration 1450: error = 0.1135393, gradient norm = 0.0040919 (50 iterations in 0.270s)\n",
      "[t-SNE] Iteration 1500: error = 0.1072273, gradient norm = 0.0040291 (50 iterations in 0.274s)\n",
      "[t-SNE] Iteration 1550: error = 0.1013502, gradient norm = 0.0039679 (50 iterations in 0.261s)\n",
      "[t-SNE] Iteration 1600: error = 0.0955724, gradient norm = 0.0039060 (50 iterations in 0.284s)\n",
      "[t-SNE] Iteration 1650: error = 0.0901209, gradient norm = 0.0038493 (50 iterations in 0.258s)\n",
      "[t-SNE] Iteration 1700: error = 0.0847912, gradient norm = 0.0037957 (50 iterations in 0.291s)\n",
      "[t-SNE] Iteration 1750: error = 0.0797535, gradient norm = 0.0037515 (50 iterations in 0.274s)\n",
      "[t-SNE] Iteration 1800: error = 0.0747730, gradient norm = 0.0037053 (50 iterations in 0.278s)\n",
      "[t-SNE] Iteration 1850: error = 0.0698911, gradient norm = 0.0036592 (50 iterations in 0.275s)\n",
      "[t-SNE] Iteration 1900: error = 0.0652488, gradient norm = 0.0036196 (50 iterations in 0.265s)\n",
      "[t-SNE] Iteration 1950: error = 0.0607789, gradient norm = 0.0035867 (50 iterations in 0.259s)\n",
      "[t-SNE] Iteration 2000: error = 0.0563790, gradient norm = 0.0035476 (50 iterations in 0.292s)\n",
      "[t-SNE] Iteration 2050: error = 0.0521676, gradient norm = 0.0035111 (50 iterations in 0.285s)\n",
      "[t-SNE] Iteration 2100: error = 0.0480937, gradient norm = 0.0034858 (50 iterations in 0.279s)\n",
      "[t-SNE] Iteration 2150: error = 0.0441758, gradient norm = 0.0034536 (50 iterations in 0.269s)\n",
      "[t-SNE] Iteration 2200: error = 0.0402533, gradient norm = 0.0034193 (50 iterations in 0.290s)\n",
      "[t-SNE] Iteration 2250: error = 0.0365322, gradient norm = 0.0033870 (50 iterations in 0.247s)\n",
      "[t-SNE] Iteration 2300: error = 0.0328233, gradient norm = 0.0033539 (50 iterations in 0.280s)\n",
      "[t-SNE] Iteration 2350: error = 0.0292265, gradient norm = 0.0033229 (50 iterations in 0.278s)\n",
      "[t-SNE] Iteration 2400: error = 0.0258313, gradient norm = 0.0033033 (50 iterations in 0.261s)\n",
      "[t-SNE] Iteration 2450: error = 0.0223975, gradient norm = 0.0032760 (50 iterations in 0.263s)\n",
      "[t-SNE] Iteration 2500: error = 0.0191384, gradient norm = 0.0032620 (50 iterations in 0.281s)\n",
      "[t-SNE] KL divergence after 2500 iterations: 0.019138\n"
     ]
    }
   ],
   "source": [
    "tsne = TSNE(n_components=3, random_state=42, verbose=2, perplexity=55, n_iter=2500)\n",
    "x_3d = tsne.fit_transform(scaled_embeddings)"
   ]
  },
  {
   "cell_type": "code",
   "execution_count": 85,
   "metadata": {},
   "outputs": [],
   "source": [
    "df = pd.DataFrame({'x': x_3d[:, 0], 'y': x_3d[:, 1], 'z': x_3d[:, 2], 'label': y_kmeans +1, 'strings': strings})"
   ]
  },
  {
   "cell_type": "code",
   "execution_count": 86,
   "metadata": {},
   "outputs": [
    {
     "data": {
      "application/vnd.plotly.v1+json": {
       "config": {
        "plotlyServerURL": "https://plot.ly"
       },
       "data": [
        {
         "customdata": [
          [
           "Prongs Reef is a Natural; "
          ],
          [
           "United Services Club Golf Course is a Leisure & Entertainment; Defence Station Colaba is a Landuse: Military; Kendriya Vidyalaya No.3  Colaba is a Educational; Mumbai is a Natural; Prongs Reef is a Natural; Colaba Shoal is a Natural; "
          ],
          [
           "Indian Meterological Department is a Commercial; Naval Maritime Academy is a Educational; United Services Club Golf Course is a Leisure & Entertainment; Defence Station Colaba is a Landuse: Military; Kendriya Vidyalaya No.3  Colaba is a Educational; Mumbai is a Natural; SOMA Hospital is a Healthcare; Agastya Building is a Residential; Vatsala Building is a Residential; Vishaka Building is a Residential; Vandhana Building is a Residential; Army Public School is a Educational; Indian Institute of Geomagnetism is a Educational; INHS Asvini Naval Hospital is a Healthcare; Prongs Reef is a Natural; Colaba Shoal is a Natural; "
          ],
          [
           "Uran Naval Base is a Landuse: Military; "
          ],
          [
           "Uran Naval Base is a Landuse: Military; "
          ],
          [
           "Uran Naval Base is a Landuse: Military; "
          ],
          [
           "Uran Dumping Ground is a Landuse: Landfill; "
          ],
          [
           "Dongri is a Residential; Funde is a Residential; "
          ],
          [
           "Dongri is a Residential; Funde is a Residential; "
          ],
          [
           "JNPT Township is a Residential; CIDCO is a Residential; "
          ],
          [
           "JNPT Township is a Residential; CIDCO is a Residential; Nhava Sheva Railway Station is a Landuse: Railway; Navghar is a Residential; Kunde is a Residential; "
          ],
          [
           "Container Corporation of India  CONCOR is a Industrial; Nhava Sheva Railway Station is a Landuse: Railway; Navghar is a Residential; Kunde is a Residential; Pagote is a Residential; "
          ],
          [
           "Container Corporation of India  CONCOR is a Industrial; "
          ],
          [
           "Ransai Reservoir is a Natural; "
          ],
          [
           "Ransai Reservoir is a Natural; "
          ],
          [
           "Ransai Reservoir is a Natural; "
          ],
          [
           "Ransai Reservoir is a Natural; Karnala WLS is a Leisure & Entertainment; "
          ],
          [
           "Karnala WLS is a Leisure & Entertainment; "
          ],
          [
           "Jagadish Canteen is a Food & Drink; Maratha Store is a Commercial; United Services Club Golf Course is a Leisure & Entertainment; Tata Institute of Fundamental Research is a Educational; Defence Station Colaba is a Landuse: Military; Mumbai is a Natural; Bramhagupta is a Residential; Panini is a Residential; Raman is a Residential; Meghnad is a Residential; Parashara is a Residential; Ramanujan is a Leisure & Entertainment; Satyendra is a Residential; Patanjali is a Residential; Bhaskara is a Residential; Jagadish is a Residential; TIFR Colony is a Residential; Tennis Court is a Leisure & Entertainment; Cricket/Football ground is a Leisure & Entertainment; Badminton + TT Court is a Leisure & Entertainment; Almond Grove is a Leisure & Entertainment; New Navy Nagar is a Landuse: Military; SHIV MANDIR is a Residential; Prongs Reef is a Natural; Colaba Shoal is a Natural; "
          ],
          [
           "Indian Meterological Department is a Commercial; United Services Club Golf Course is a Leisure & Entertainment; Defence Station Colaba is a Landuse: Military; Dalit Nagar is a Residential; Backbay BEST Bus Depot is a Industrial; Mumbai is a Natural; SOMA Hospital is a Healthcare; Agastya Building is a Residential; Vatsala Building is a Residential; Army Public School is a Educational; Kendriya Vidyalaya No.1  Colaba is a Educational; Indian Institute of Geomagnetism is a Educational; New Navy Nagar is a Landuse: Military; INHS Asvini Naval Hospital is a Healthcare; Dolphin Apartments is a Residential; Oyster Apartments is a Residential; Colaba Shoal is a Natural; "
          ],
          [
           "Mumbai Port Trust Garden is a Leisure & Entertainment; Sassoon Docks is a Industrial; Mumbai is a Natural; Oyster Rock is a Natural; INHS Asvini Naval Hospital is a Healthcare; Dolphin Apartments is a Residential; Oyster Apartments is a Residential; Colaba Shoal is a Natural; "
          ],
          [
           "Oyster Rock is a Natural; "
          ],
          [
           "Uran Naval Base is a Landuse: Military; "
          ],
          [
           "Uran Naval Base is a Landuse: Military; "
          ],
          [
           "Uran Naval Base is a Landuse: Military; "
          ],
          [
           "Dongri is a Residential; "
          ],
          [
           "Jawaharlal Nehru Port Trust Hospital is a Healthcare; JNPT Township is a Residential; Jaskhar is a Residential; "
          ],
          [
           "JNPT Township is a Residential; Nhava Sheva Railway Station is a Landuse: Railway; Sonari is a Residential; Jaskhar is a Residential; "
          ],
          [
           "Container Corporation of India  CONCOR is a Industrial; Nhava Sheva Railway Station is a Landuse: Railway; Sonari is a Residential; "
          ],
          [
           "Container Corporation of India  CONCOR is a Industrial; "
          ],
          [
           "Ransai Reservoir is a Natural; "
          ],
          [
           "Ransai Reservoir is a Natural; "
          ],
          [
           "Karnala WLS is a Leisure & Entertainment; "
          ],
          [
           "Karnala WLS is a Leisure & Entertainment; "
          ],
          [
           "Karnala WLS is a Leisure & Entertainment; "
          ],
          [
           "Jagadish Canteen is a Food & Drink; Maratha Store is a Commercial; Tata Institute of Fundamental Research is a Educational; Defence Station Colaba is a Landuse: Military; Navy Children School is a Educational; Mumbai is a Natural; Bramhagupta is a Residential; Panini is a Residential; Raman is a Residential; Meghnad is a Residential; Parashara is a Residential; Ramanujan is a Leisure & Entertainment; Satyendra is a Residential; Patanjali is a Residential; Bhaskara is a Residential; Jagadish is a Residential; TIFR Colony is a Residential; Tennis Court is a Leisure & Entertainment; Cricket/Football ground is a Leisure & Entertainment; Badminton + TT Court is a Leisure & Entertainment; Almond Grove is a Leisure & Entertainment; Kendriya Vidyalaya No.2  Colaba is a Educational; New Navy Nagar is a Landuse: Military; "
          ],
          [
           "Cafe Coffee Day is a Food & Drink; King Plaza is a Commercial; Santoor is a Food & Drink; Nature's Basket is a Commercial; Flamboyanté is a Food & Drink; The Village is a Food & Drink; Noble Plus is a Commercial; Tikamdas Motiram Jewellers is a Commercial; Kamats is a Food & Drink; Royal Consulate General of Saudi Arabia is a Commercial; Deputy High Commission of Bangladesh is a Commercial; Family Clinic is a Healthcare; MVIRDC World Trade Centre is a Commercial; Defence Station Colaba is a Landuse: Military; Navy Children School is a Educational; Dalit Nagar is a Residential; Mumbai is a Natural; Parashara is a Residential; Bhaskara is a Residential; TIFR Colony is a Residential; Backbay BEST Bus Depot is a Industrial; Revile is a Residential; Venus Apartments is a Residential; Maker Tower is a Residential; Jolly Maker 1 - B Wing is a Residential; Jolly Maker 1 - A Wing is a Residential; Sunita is a Residential; Satnam Apartments is a Residential; Jolly Maker II is a Residential; Adarsh is a Residential; Sunflower is a Residential; Colaba Woods Garden is a Leisure & Entertainment; Maker Arcade is a Commercial; Kendriya Vidyalaya No.2  Colaba is a Educational; Cuffe Parade is a Landuse: Construction; Kendriya Vidyalaya No.1  Colaba is a Educational; Cuffe Parade Police Station is a Government & Public Services; Cuffe Parade Park is a Leisure & Entertainment; New Navy Nagar is a Landuse: Military; World Trade Centre Arcade is a Commercial; "
          ],
          [
           "Cafe Coffee Day is a Food & Drink; Colaba Fire Station is a Government & Public Services; Moshe's is a Food & Drink; TreeHouse is a Educational; King Plaza is a Commercial; Student's General Store is a Commercial; MTNL Customer Centre is a Commercial; B.D. Somani International School is a Educational; Mira Pre-School is a Educational; B.D. Somani Institute of Art and Fashion Technology is a Educational; Jean-Claude Biguine is a Commercial; Santoor is a Food & Drink; Go Bonkers is a Leisure & Entertainment; Nature's Basket is a Commercial; Flamboyanté is a Food & Drink; The Village is a Food & Drink; Noble Plus is a Commercial; Tikamdas Motiram Jewellers is a Commercial; Kamats is a Food & Drink; Deputy High Commission of Bangladesh is a Commercial; MTNL Telephone Exchange is a Commercial; Indu Clinic is a Healthcare; Consulate General of the United Arab Emirates is a Commercial; Malpani Infertility Clinic is a Healthcare; Indian Batteries is a Commercial; Mumbai is a Natural; MVIRDC World Trade Centre is a Commercial; CPRA Greens is a Leisure & Entertainment; Taj President is a Leisure & Entertainment; Mumbai Port Trust Garden is a Leisure & Entertainment; Dalit Nagar is a Residential; Sassoon Docks is a Industrial; Backbay BEST Bus Depot is a Industrial; Bayview Marina is a Leisure & Entertainment; Sagar Sangeet is a Residential; Sea Wind is a Residential; Raheja Mittal is a Residential; Hotel Supreme is a Commercial; Revile is a Residential; Durgamata Tower is a Residential; President House is a Commercial; Colaba Municipal Secondary School is a Educational; Sidhwa House is a Industrial; Atur Terraces is a Residential; Railway Officers Transit Flats is a Residential; Lovely Home is a Residential; Dalamal Apartments is a Residential; Jolly Maker III is a Residential; Venus Apartments is a Residential; Jupiter Apartments is a Residential; Dalamal Park is a Residential; Mehr-dad is a Residential; Jolly Maker 1 - B Wing is a Residential; Jolly Maker 1 - A Wing is a Residential; Cuffe Castle is a Residential; Sunita is a Residential; Sea Lord B Wing is a Residential; Basant is a Residential; Satnam Apartments is a Residential; Jolly Maker II is a Residential; Adarsh is a Residential; Casablanca is a Residential; Palm Springs is a Residential; Persepolis is a Residential; Sunflower is a Residential; Cuffe Parade Telephone Exchange is a Commercial; Iris is a Residential; Dunne's Institute is a Educational; Sainara is a Residential; Colaba Woods Garden is a Leisure & Entertainment; G.D. Somani Memorial School (ICSE) is a Landuse: Education; Maker Arcade is a Commercial; Cuffe Parade is a Landuse: Construction; Colaba Municipal Hindi School No 2 is a Educational; Cuffe Parade Police Station is a Government & Public Services; Jaikiran is a Residential; Sea Lord is a Residential; Jolly Maker 3 is a Residential; Maker Chambers is a Residential; Cuffe Parade Park is a Leisure & Entertainment; Quest End is a Residential; Mehr-Naz is a Residential; World Trade Centre Arcade is a Commercial; "
          ],
          [
           "India Guesthouse is a Leisure & Entertainment; Sea Shore Guesthouse is a Leisure & Entertainment; Go Bonkers is a Leisure & Entertainment; Mezban is a Food & Drink; Kuckeliku Breakfast House is a Food & Drink; Hotel Harbour View is a Leisure & Entertainment; The Courtyard is a Commercial; Sassoon Docks is a Industrial; Colaba Municipal Secondary School is a Educational; Sidhwa House is a Industrial; Rahat Enterprises is a Commercial; Colaba Municipal Hindi School No 2 is a Educational; Fun Planet is a Leisure & Entertainment; "
          ],
          [
           "Uran Naval Base is a Landuse: Military; "
          ],
          [
           "Uran Naval Base is a Landuse: Military; "
          ],
          [
           "JNPT is a Industrial; JNPT Township is a Residential; Jaskhar is a Residential; "
          ],
          [
           "Jawaharlal Nehru Port Trust is a Industrial; Sonari is a Residential; Jaskhar is a Residential; "
          ],
          [
           "Jawaharlal Nehru Port Trust is a Industrial; Sonari is a Residential; "
          ],
          [
           "Ransai Reservoir is a Natural; "
          ],
          [
           "Cafe Coffee Day is a Food & Drink; King Plaza is a Commercial; Santoor is a Food & Drink; Noble Plus is a Commercial; Tikamdas Motiram Jewellers is a Commercial; Kamats is a Food & Drink; Nariman Point is a Leisure & Entertainment; Royal Consulate General of Saudi Arabia is a Commercial; Mumbai is a Natural; Maker Tower is a Residential; Maker Arcade is a Commercial; Maker Chambers is a Residential; Cuffe Parade Park is a Leisure & Entertainment; "
          ],
          [
           "Moshe's is a Food & Drink; German Consulate General Mumbai is a Commercial; TreeHouse is a Educational; Kailash Parbat is a Food & Drink; Student's General Store is a Commercial; MTNL Customer Centre is a Commercial; B.D. Somani International School is a Educational; Mira Pre-School is a Educational; B.D. Somani Institute of Art and Fashion Technology is a Educational; Consulate General of Switzerland is a Commercial; nikhil transport services is a Commercial; Little Theatre is a Leisure & Entertainment; Box Office is a Commercial; art gallery is a Commercial; Nariman Point is a Leisure & Entertainment; Ristorante Prego is a Food & Drink; Status is a Food & Drink; Consulate General of Brazil is a Commercial; Consulate General of Poland is a Commercial; MTNL Telephone Exchange is a Commercial; Boston Consulting Group is a Commercial; Vinod Sharma Memorial Medical Centre is a Healthcare; Indu Clinic is a Healthcare; Spectrum Health Care is a Healthcare; Dr. Amins Clinic is a Healthcare; Abhishek Day Care Institute and Medical Research Centre is a Healthcare; Eleven Kitchens is a Food & Drink; Jamie's Pizzeria is a Food & Drink; Blue Tokai Coffee | Nariman Point is a Food & Drink; Turkish Consulate is a Commercial; Niu & Nau is a Leisure & Entertainment; Mumbai is a Natural; Cooperage Football Ground is a Leisure & Entertainment; Maharashtra Vidhan Bhavan is a Residential; Jamshed Bhabha Theatre is a Residential; CPRA Greens is a Leisure & Entertainment; Bootleggers is a Food & Drink; Taj Wellington Mews is a Commercial; Vidhan Bhavan is a Commercial; Cusrow Baug is a Residential; Jolly Maker Chambers II is a Residential; Cooperage is a Leisure & Entertainment; Nazara Games  Maker Chambers III is a Residential; Tata Theatre is a Leisure & Entertainment; NCPA apartments is a Residential; Mittal Tower is a Commercial; Nariman Point Fire Station is a Government & Public Services; Chandrmukhi is a Commercial; Yashwantrao Chavan Pratishtan is a Commercial; National Centre for the Performing Arts is a Leisure & Entertainment; Colaba BEST Bus Depot is a Industrial; Pavillion Community Center is a Leisure & Entertainment; Brady Flats is a Residential; Chander Mukhi is a Commercial; Bakhtawar is a Commercial; Sakhar Bhavan is a Commercial; Nirmal is a Residential; CR2 Mall is a Residential; Mafatlal Bhavan is a Residential; Embassy Center is a Commercial; Bayview Marina is a Leisure & Entertainment; State Bank of India Head Office is a Commercial; Advent Apartments is a Residential; Suruchi is a Residential; Sunity is a Residential; Atur Terraces is a Residential; Railway Officers Transit Flats is a Residential; Lovely Home is a Residential; Dalamal Apartments is a Residential; Jolly Maker III is a Residential; Sunrise Building is a Residential; Mehr-dad is a Residential; Cuffe Castle is a Residential; Sunita is a Residential; Sea Lord B Wing is a Residential; Basant is a Residential; Palm Springs is a Residential; Persepolis is a Residential; Sunflower is a Residential; Cuffe Parade Telephone Exchange is a Commercial; Lalit is a Residential; Badhwar Park is a Residential; Sainara is a Residential; Dalamal House is a Commercial; Regent Chambers is a Commercial; Bajaj Bhawan is a Commercial; Union Bank of India Building is a Residential; G.D. Somani Memorial School (ICSE) is a Landuse: Education; Maker Arcade is a Commercial; India Post is a Government & Public Services; Tata Garden is a Leisure & Entertainment; Open Air Plaza is a Landuse: Grass; Expt. Garden is a Leisure & Entertainment; Sunken Garde is a Leisure & Entertainment; Teaching and Research Block is a Residential; Experimental Theatre is a Residential; Godrej Dance Theatre is a Leisure & Entertainment; Kumar Villa is a Residential; Nariman Bhavan is a Commercial; The Oberoi is a Leisure & Entertainment; Trident  Nariman-Point is a Leisure & Entertainment; Vidhan Bhavan Metro Station is a Landuse: Construction; Raheja Center is a Commercial; Free Press House is a Commercial; Maker Chambers is a Commercial; Maker Chambers 3 is a Commercial; Mittal Court is a Commercial; Tulisani Chambers is a Commercial; Dalamal Tower is a Commercial; Earnesthou is a Commercial; Arcadia is a Commercial; Hoechest is a Commercial; Oberoi Towers is a Commercial; Mittal Chambers is a Commercial; Maker Building is a Commercial; Bulk Recieving Station is a Industrial; BEST is a Commercial; Minister's Bungalow is a Residential; Sarang is a Residential; Sachivalaya Gymkhana is a Leisure & Entertainment; State Administration Building is a Commercial; Jaikiran is a Residential; Sea Lord is a Residential; Jolly Maker 3 is a Residential; Maker Chambers is a Residential; Cuffe Parade Park is a Leisure & Entertainment; Maharshtra State Lawn Tennis Association is a Leisure & Entertainment; "
          ],
          [
           "Middle Ground Coastal Battery is a Natural; Mumbai Naval Base and Dockyard is a Landuse: Military; "
          ],
          [
           "Middle Ground Coastal Battery is a Natural; "
          ],
          [
           "Jawaharlal Nehru Port is a Industrial; "
          ],
          [
           "Jawaharlal Nehru Port is a Industrial; JNPT is a Industrial; "
          ],
          [
           "JNPT is a Industrial; "
          ],
          [
           "JNPT is a Industrial; "
          ],
          [
           "Jawaharlal Nehru Port Trust is a Industrial; "
          ],
          [
           "Belpada is a Residential; Nhava Creek is a Natural; "
          ],
          [
           "Shivaji Maharaj And Ramdas Statue is a Leisure & Entertainment; Belpada is a Residential; "
          ],
          [
           "Jijamata Hospital  Raigarh is a Healthcare; "
          ],
          [
           "New Yogakshema is a Government & Public Services; The Dome is a Food & Drink; German Consulate General Mumbai is a Commercial; Sarvodaya is a Commercial; Samrat is a Food & Drink; Oxford Bookstore is a Commercial; 210 C is a Food & Drink; Relish is a Food & Drink; Eros Cinema is a Leisure & Entertainment; Sea Green Hotel is a Leisure & Entertainment; InterContinental Hotel is a Leisure & Entertainment; Iran Air is a Commercial; Natural Ice Cream is a Food & Drink; The Sassy Spoon is a Food & Drink; Consulate General of Switzerland is a Commercial; Little Theatre is a Leisure & Entertainment; Box Office is a Commercial; art gallery is a Commercial; Ristorante Prego is a Food & Drink; Pizza By The Bay is a Food & Drink; Status is a Food & Drink; Chateau Windsor is a Leisure & Entertainment; Tea Villa is a Food & Drink; Consulate General of Brazil is a Commercial; Consulate General of Poland is a Commercial; Consulate General of Spain is a Commercial; Boston Consulting Group is a Commercial; McKinsey & Company is a Commercial; पश्चिम रेल्वे मुख्यालय is a Commercial; Dr. Amins Clinic is a Healthcare; Eleven Kitchens is a Food & Drink; Jamie's Pizzeria is a Food & Drink; Blue Tokai Coffee | Nariman Point is a Food & Drink; Gaylord is a Food & Drink; sk park is a Leisure & Entertainment; raju rolls is a Food & Drink; Shiv Sagar is a Food & Drink; 26/11 Peace Memorial is a Leisure & Entertainment; Starbucks is a Food & Drink; Nature Basket is a Commercial; Nksha is a Food & Drink; The Beer Cafe is a Food & Drink; LIC is a Commercial; BJP Party office is a Commercial; Turkish Consulate is a Commercial; Maharashtra Vidhan Bhavan is a Residential; Jamshed Bhabha Theatre is a Residential; Hotel Marine Plaza is a Residential; LIC is a Residential; Oval Maidan is a Landuse: Recreation_ground; Churchgate Railway Station is a Landuse: Railway; Mantralaya is a Commercial; Soona Mahal is a Residential; St. James Court is a Residential; Framroz Court is a Residential; Hotel Astoria is a Leisure & Entertainment; Vidhan Bhavan is a Commercial; Mahatma Gandhi Garden is a Leisure & Entertainment; Jolly Maker Chambers II is a Residential; Brabourne Stadium is a Leisure & Entertainment; Nazara Games  Maker Chambers III is a Residential; Tata Theatre is a Leisure & Entertainment; Oceana is a Residential; NCPA apartments is a Residential; Riviera is a Residential; Shalimar is a Residential; Thakur Niwas is a Residential; Mittal Tower is a Commercial; Chandrmukhi is a Commercial; Yashwantrao Chavan Pratishtan is a Commercial; National Centre for the Performing Arts is a Leisure & Entertainment; Chander Mukhi is a Commercial; Bakhtawar is a Commercial; Sakhar Bhavan is a Commercial; Nirmal is a Residential; CR2 Mall is a Residential; Mafatlal Bhavan is a Residential; Embassy Center is a Commercial; State Bank of India Head Office is a Commercial; Jyoti Sadan is a Residential; K C College is a Educational; sea view is a Residential; Star Bazaar is a Commercial; H R College is a Educational; the J is a Residential; Shiv Sadan is a Residential; Chateau Marine is a Residential; Petroleum House Annex is a Commercial; Sunder Mahal is a Residential; Suruchi is a Residential; Sunity is a Residential; Bank of Baroda is a Commercial; Dalamal House is a Commercial; Express Towers is a Commercial; Regent Chambers is a Commercial; Stadium House is a Residential; Air-India Building is a Residential; Podar House is a Residential; Bajaj Bhawan is a Commercial; Petroleum House is a Commercial; Union Bank of India Building is a Residential; Tata Garden is a Leisure & Entertainment; Open Air Plaza is a Landuse: Grass; Expt. Garden is a Leisure & Entertainment; Sunken Garde is a Leisure & Entertainment; Teaching and Research Block is a Residential; Experimental Theatre is a Residential; Godrej Dance Theatre is a Leisure & Entertainment; Jai Hind College is a Educational; Sydenham College is a Educational; Mumbai is a Natural; Nariman Bhavan is a Commercial; The Oberoi is a Leisure & Entertainment; Trident  Nariman-Point is a Leisure & Entertainment; Vidhan Bhavan Metro Station is a Landuse: Construction; Churchgate is a Landuse: Construction; Raheja Center is a Commercial; Maker Chambers is a Commercial; Maker Chambers 3 is a Commercial; Mittal Court is a Commercial; Tulisani Chambers is a Commercial; Dalamal Tower is a Commercial; Earnesthou is a Commercial; Arcadia is a Commercial; Hoechest is a Commercial; Oberoi Towers is a Commercial; Mittal Chambers is a Commercial; Maker Building is a Commercial; Sachivalaya Gymkhana is a Leisure & Entertainment; State Administration Building is a Commercial; queen's fort is a Commercial; Ganga Vihar is a Residential; "
          ],
          [
           "Excellency Restaurant is a Food & Drink; Jimmy Boy is a Food & Drink; Britannia Cafe is a Food & Drink; Asiatic Library is a Educational; Britannia & Co. Restaurant is a Food & Drink; RBI Monetary Museum is a Leisure & Entertainment; Horniman Circle Garden is a Leisure & Entertainment; Grand Hotel is a Leisure & Entertainment; Bombay Coffee House (model cafe) is a Food & Drink; Fort Market is a Retail; Government Mint is a Industrial; Mumbai Naval Base and Dockyard is a Landuse: Military; Mumbai Port Trust - MbPT is a Industrial; The Asiatic Society of Mumbai is a Educational; Old Customs House is a Commercial; "
          ],
          [
           "Jawaharlal Nehru Port is a Industrial; "
          ],
          [
           "Jawaharlal Nehru Port is a Industrial; "
          ],
          [
           "Jawaharlal Nehru Port is a Industrial; "
          ],
          [
           "Jawaharlal Nehru Port is a Industrial; "
          ],
          [
           "JNPT is a Industrial; "
          ],
          [
           "Nhava Creek is a Natural; "
          ],
          [
           "Nhava Creek is a Natural; "
          ],
          [
           "Belpada is a Residential; Nhava Creek is a Natural; "
          ],
          [
           "Shivaji Maharaj And Ramdas Statue is a Leisure & Entertainment; Belpada is a Residential; "
          ],
          [
           "Jijamata Hospital  Raigarh is a Healthcare; "
          ],
          [
           "राजभवन  मुंबई is a Commercial; Malabar Point is a Natural; Banganga tank is a Leisure & Entertainment; Kenorita Super Market is a Commercial; Banganga Tank is a Natural; Banganga Garden is a Leisure & Entertainment; Mumbai is a Natural; "
          ],
          [
           "Back Bay is a Natural; "
          ],
          [
           "Real Chemist is a Healthcare; The Dome is a Food & Drink; Paris Bakery is a Commercial; InterContinental Hotel is a Leisure & Entertainment; Iran Air is a Commercial; Natural Ice Cream is a Food & Drink; Domminos is a Food & Drink; Liberty is a Food & Drink; Kakkad Arcade is a Residential; Shreeji Sagar is a Food & Drink; Monginis is a Commercial; Poonam Restaurant is a Food & Drink; various at dhobi talao  is a Commercial; Pizza By The Bay is a Food & Drink; Chateau Windsor is a Leisure & Entertainment; Marine Drive  Mumbai is a Leisure & Entertainment; Honorary Consulate of the Czech Republic is a Commercial; Shroff Eye Clinic is a Healthcare; Zain Eye Care is a Healthcare; Gughan Veg is a Food & Drink; Cafe Coffee Day is a Food & Drink; Leelabai Thackersey College of Nursing is a Educational; The Blossom English Primary School is a Educational; Sassanian is a Food & Drink; Central Government Touring Officers Guest House is a Leisure & Entertainment; इंडिया समदाय is a Commercial; TATA Motors is a Commercial; Mahindra Hockey Stadium is a Leisure & Entertainment; Parsi Gymkhana Cricket Ground is a Leisure & Entertainment; बॉम्बे हॉस्पिटल is a Healthcare; Bombay Hospital is a Healthcare; West End Hotel is a Residential; Liberty Cinema is a Leisure & Entertainment; Cross Maidan is a Landuse: Recreation_ground; Shri BhagwandasTodi Children  Park is a Leisure & Entertainment; Walter De Souza Park is a Leisure & Entertainment; Islam Gymkhana Cricket Ground is a Leisure & Entertainment; Churchgate Railway Station is a Landuse: Railway; Giri Kunj is a Residential; Sonawala Building is a Residential; Seksaria is a Residential; Kapur Mahal is a Residential; Keval Mahal is a Residential; Matruchhaya is a Residential; Krishna Mahal is a Residential; Zaver Mahal is a Residential; Soona Mahal is a Residential; Bombay Hospital and Medical Research Center is a Residential; Brabourne Stadium is a Leisure & Entertainment; SNDT Women's University is a Educational; Marine Lines Railway Station is a Landuse: Railway; Jyoti Sadan is a Residential; Meghdoot is a Residential; St. Xavier's Boys Academy is a Educational; Shanti Niketan is a Residential; Gobind Mahal is a Residential; Parijat is a Residential; Bharat Mahal is a Residential; Shiv Sadan is a Residential; Chateau Marine is a Residential; Firdaus is a Residential; Sunder Mahal is a Residential; Podar House is a Residential; Hem Prabha is a Residential; Bharatiya Bhavan is a Residential; Shri Niketan is a Residential; Al-Sabah Court is a Residential; Al-Jabreya Court is a Residential; Wankhede Stadium is a Leisure & Entertainment; Garware Club House is a Leisure & Entertainment; Jai Hind College is a Educational; Mumbai University Grounds is a Leisure & Entertainment; Garware Club House is a Commercial; Sydenham College is a Educational; Mumbai is a Natural; Mumbai Cricket Association is a Commercial; Ganga Vihar is a Residential; "
          ],
          [
           "Excellency Restaurant is a Food & Drink; City Palace is a Leisure & Entertainment; Hotel Manama is a Leisure & Entertainment; Windsor is a Leisure & Entertainment; Britannia & Co. Restaurant is a Food & Drink; Farhang Restaurant is a Food & Drink; Sun Clinic is a Healthcare; Reliance Health Ventures Limited Hospital is a Healthcare; Hotel Heraa is a Leisure & Entertainment; FedEx Office is a Commercial; Mumbai port Operations Service Center  Indira Dock is a Commercial; We Wake Cafe is a Food & Drink; Ramesh Stores is a Commercial; Seventh Sky is a Commercial; Patel International Merchant Navy Uniforms is a Commercial; Maharastra Bread & Biscuit Shop is a Commercial; Mumbai General Post Office (GPO) is a Government & Public Services; Grand Hotel is a Leisure & Entertainment; St George Hospital is a Healthcare; Cafe Universal is a Food & Drink; Ruttonsee Mujee Fountain is a Leisure & Entertainment; Bombay Coffee House (model cafe) is a Food & Drink; सेंट जॉर्ज हॉस्पिटल is a Healthcare; Chhatrapati Shivaji Terminus is a Leisure & Entertainment; Fort Market is a Retail; Government Mint is a Industrial; Mumbai Naval Base and Dockyard is a Landuse: Military; Mumbai Port Trust - MbPT is a Industrial; Olympus is a Commercial; Faredoon's is a Commercial; Berth- 1 is a Industrial; CSMT Railway Station is a Landuse: Railway; "
          ],
          [
           "Mumbai Port Trust - MbPT is a Industrial; "
          ],
          [
           "Jawaharlal Nehru Port is a Industrial; "
          ],
          [
           "Jawaharlal Nehru Port is a Industrial; "
          ],
          [
           "Jawaharlal Nehru Port is a Industrial; "
          ],
          [
           "Nhava Creek is a Natural; "
          ],
          [
           "Nhava Creek is a Natural; "
          ],
          [
           "Nhava Creek is a Natural; "
          ],
          [
           "Nhava Creek is a Natural; "
          ],
          [
           "Dakshinayan  is a Food & Drink; Banganga tank is a Leisure & Entertainment; Khimji Jeeva Sanitorium Hospital is a Healthcare; Kenorita Super Market is a Commercial; Gitanjali Garden is a Residential; Joshi Ground is a Leisure & Entertainment; Banganga Tank is a Natural; Walsingham House School is a Educational; Aditya Birla Park is a Leisure & Entertainment; Dariya Mahal 3 is a Residential; Sagar Kunj is a Residential; Hanuman Bhavan is a Residential; Madhu Kunj is a Residential; Seva Sadan is a Residential; Bakhtawar is a Residential; Pleasant Palace is a Residential; Bharat Villa is a Residential; Symphony is a Residential; Daisy Lea is a Residential; St. Elizabeth's Hospital is a Residential; Banganga Garden is a Leisure & Entertainment; Malabar Hill Telephone Exchange is a Residential; Manav Mandir Primary School is a Educational; Lands End is a Residential; Vandan is a Residential; Mumbai is a Natural; "
          ],
          [
           "Purnima is a Residential; Dakshinayan  is a Food & Drink; Malabar Hill Club Pool is a Leisure & Entertainment; Fair View is a Residential; Ridge Road shops is a Residential; Kamala Nehru Park is a Leisure & Entertainment; Il Palazzo is a Residential; Bay View is a Residential; Suneeta is a Residential; El Cid is a Residential; Malabar Hill Telephone Exchange is a Residential; Gopi Birla Memorial School is a Educational; Hill View is a Residential; Manav Mandir Primary School is a Educational; Amalfi is a Residential; Malabar Court is a Residential; Varsha is a Residential; Mumbai is a Natural; "
          ],
          [
           "Bay View Clinic is a Healthcare; Kaivalyadham is a Leisure & Entertainment; Girgaum Chowpatty Beach is a Leisure & Entertainment; Mafatlal Bath is a Leisure & Entertainment; Saifee Hospital is a Healthcare; Bal Bhavan is a Leisure & Entertainment; Lokmanya Tilak Udyan is a Leisure & Entertainment; Mumbai is a Natural; Volleyball/Tennis Court is a Leisure & Entertainment; Savitridevi Phule Mahila Chhatralaya (Ladies Hostel) is a Leisure & Entertainment; "
          ],
          [
           "Sharada is a Leisure & Entertainment; Bobby's is a Healthcare; Kalbadevi Post Office 400002 is a Government & Public Services; St Sebastian Goan High School is a Educational; Paris Bakery is a Commercial; 18  18A Navi wadi is a Residential; khans cafe is a Food & Drink; Sahitya sangh mandir is a Leisure & Entertainment; Poonam Restaurant is a Food & Drink; Taraporewala Aquarium is a Leisure & Entertainment; tishacreation is a Commercial; Shree Thaker Bhojanalay is a Food & Drink; Sachai® is a Commercial; Shroff Eye Clinic is a Healthcare; Smt. Kamladevi Gauridutt Mittal Ayurvedic Hospital is a Healthcare; Gughan Veg is a Food & Drink; Suryakant Wagal Maternity Hospital is a Healthcare; Ocean Eyewear Pvt Ltd. / Supreme Optics is a Commercial; Shah Ookchand and sons is a Commercial; Kaivalyadham is a Leisure & Entertainment; Dr Pandit's Ayurveda and Panchakarma Clinic is a Healthcare; Parsi Gymkhana Cricket Ground is a Leisure & Entertainment; Police Gymkhana Cricket Ground is a Leisure & Entertainment; Saifee Hospital is a Healthcare; Shri BhagwandasTodi Children  Park is a Leisure & Entertainment; Islam Gymkhana Cricket Ground is a Leisure & Entertainment; Adarsh Hotel is a Leisure & Entertainment; Marine Lines Railway Station is a Landuse: Railway; Shiv Sadan is a Residential; Vinayak Darshan is a Residential; 11 Navi wadi is a Residential; Dinkar Niwas is a Residential; 7 Navi Wadi is a Residential; K P Building is a Residential; 8 Navi Wadi is a Residential; Navi wadi Garden is a Leisure & Entertainment; 2 Navi Wadi is a Residential; Parekh Niwas is a Residential; Zaoba Wadi Garden is a Leisure & Entertainment; Kansara Building is a Residential; Suryam Heights is a Residential; Shyam Bhuvan is a Residential; Vardhaman Heights is a Residential; Hira Manek Building is a Residential; Gomti CHS is a Residential; Shree Darshan is a Residential; 25 Navi Wadi is a Residential; 15 Navi Wadi is a Residential; Nand Bhavan is a Residential; 21 Navi Wadi is a Residential; Devidas Bhuvan is a Residential; Byramjee Jeejeebhoy Parsee Charitable Institution is a Educational; Bal Bhavan is a Leisure & Entertainment; Meghdoot is a Residential; Shanti Niketan is a Residential; Gobind Mahal is a Residential; Parijat is a Residential; Shripati is a Residential; Lifescapes Nilay CHS is a Residential; Mumbai Marathi sahitya sangh mandir is a Leisure & Entertainment; Shri Niketan is a Residential; Wilson Gymkhana Cricket Ground is a Leisure & Entertainment; P. J. Hindu Gymkhana Cricket Ground is a Leisure & Entertainment; Mumbai is a Natural; Girgaon is a Landuse: Construction; Kalbadevi is a Landuse: Construction; PJ Hindu Gymkhana Tennis Court is a Leisure & Entertainment; St. Teresa High School is a Educational; Prestige Ocean Towers (u/c) is a Landuse: Construction; Savitridevi Phule Mahila Chhatralaya (Ladies Hostel) is a Leisure & Entertainment; "
          ],
          [
           "Imperial Palace is a Leisure & Entertainment; Sharada is a Leisure & Entertainment; Great Punjab Hotel is a Leisure & Entertainment; Bobby's is a Healthcare; Kalbadevi Post Office 400002 is a Government & Public Services; Lokmanya Tilak Road Police Station is a Government & Public Services; Rajdhani is a Food & Drink; Hotel Adarsh Palace is a Leisure & Entertainment; Pydhoni Police Station is a Government & Public Services; Masjid Post Office is a Government & Public Services; Lokmanya Tilak Police Chowkie Beat No 4 is a Government & Public Services; Lokmanya Tilak Police Station is a Government & Public Services; khans cafe is a Food & Drink; shahil restaurant is a Food & Drink; green park is a Leisure & Entertainment; Police Commissioner's Office is a Government & Public Services; chanda cafe shop is a Food & Drink; beer bar and restaurant is a Food & Drink; Kadamba Transport Corporation is a Commercial; Iranian food is a Food & Drink; Crawford Market is a Leisure & Entertainment; Tidy tronic  is a Commercial; Zaveri Bazaar is a Commercial; Radio Restaurant is a Food & Drink; Royal Traders is a Commercial; S.K Creation is a Commercial; tishacreation is a Commercial; Shree Thaker Bhojanalay is a Food & Drink; Patel Restaurant is a Food & Drink; Sachai® is a Commercial; Badshah Falooda Place is a Food & Drink; Dholkawalla Maternity Home is a Healthcare; Noor Hospital is a Healthcare; The Muslim Ambulance Society Diagnostic Center is a Healthcare; Basket ball court is a Leisure & Entertainment; basketball court is a Leisure & Entertainment; Ocean Eyewear Pvt Ltd. / Supreme Optics is a Commercial; Al Fatah is a Leisure & Entertainment; Metro Adlabs is a Leisure & Entertainment; महात्मा ज्योतिबा फुले मंडई is a Retail; Sir J J School of Art is a Educational; Royal Touch Shopping Mall is a Commercial; Mangaldas Market is a Leisure & Entertainment; Adarsh Hotel is a Leisure & Entertainment; Willingdon is a Healthcare; Cama Hospital is a Healthcare; St. Xavier's High School is a Educational; गोकुळदास तेजपाल रुग्णालय is a Healthcare; St. Xavier's College is a Educational; Anjuman-I-Islam's Allana English High School is a Educational; Vardhaman Heights is a Residential; Hira Manek Building is a Residential; Gomti CHS is a Residential; Shree Darshan is a Residential; 25 Navi Wadi is a Residential; Nand Bhavan is a Residential; 21 Navi Wadi is a Residential; Devidas Bhuvan is a Residential; HAJ House  Haj Committee of India is a Commercial; Manish Market is a Retail; CST Underground is a Landuse: Construction; Juma Masjid Pond is a Natural; Kalbadevi is a Landuse: Construction; general office is a Commercial; admin dept is a Commercial; Woods is a Leisure & Entertainment; Aradhana Jewellers is a Retail; Lord Harris Municipal Marathi School is a Educational; Navrang Building is a Commercial; Azad Maidan is a Landuse: Recreation_ground; CSMT Railway Station is a Landuse: Railway; "
          ],
          [
           "Masjid Post Office is a Government & Public Services; s k nizam park is a Leisure & Entertainment; Traveler's Coffee is a Food & Drink; Iranian food is a Food & Drink; Radio Restaurant is a Food & Drink; General Hospital  Janabai Rokade is a Healthcare; Elphinstone Hotel is a Leisure & Entertainment; NAMO 9 TEA is a Commercial; महात्मा ज्योतिबा फुले मंडई is a Retail; Royal Touch Shopping Mall is a Commercial; सेंट जॉर्ज हॉस्पिटल is a Healthcare; Mumbai Port Trust - MbPT is a Industrial; Relax is a Leisure & Entertainment; Manish Market is a Retail; Navrang Building is a Commercial; CSMT Railway Station is a Landuse: Railway; "
          ],
          [
           "Cross Island Battery is a Natural; Mumbai Port Trust - MbPT is a Industrial; "
          ],
          [
           "Elephanta Island is a Natural; Jawaharlal Nehru Port is a Industrial; "
          ],
          [
           "Jawaharlal Nehru Port is a Industrial; "
          ],
          [
           "Jawaharlal Nehru Port is a Industrial; "
          ],
          [
           "Jawaharlal Nehru Port is a Industrial; Nhava Creek is a Natural; "
          ],
          [
           "Nhava Creek is a Natural; "
          ],
          [
           "Nhava Creek is a Natural; "
          ],
          [
           "Nhava Creek is a Natural; "
          ],
          [
           "Nhava Creek is a Natural; "
          ],
          [
           "Moksh Wines is a Commercial; Jai Hind is a Food & Drink; Gitanjali Garden is a Residential; Walsingham House School is a Educational; Aditya Birla Park is a Leisure & Entertainment; Priyadarshini Park is a Leisure & Entertainment; Brij Kutir Shopping Centre is a Commercial; Regency Hotel is a Residential; Dariya Mahal 3 is a Residential; Sagar Kunj is a Residential; Hanuman Bhavan is a Residential; Glenogle is a Residential; Madhu Kunj is a Residential; Seva Sadan is a Residential; Bakhtawar is a Residential; Pleasant Palace is a Residential; Bharat Villa is a Residential; Symphony is a Residential; Tulip is a Residential; Daisy Lea is a Residential; Zopadpatti is a Residential; A Block is a Residential; Apartment House and Guest House is a Residential; F Block is a Residential; Mumbai is a Natural; "
          ],
          [
           "Malabar Hill Post Office is a Government & Public Services; Purnima is a Residential; Hotel Sapna is a Leisure & Entertainment; origami centre is a Leisure & Entertainment; Mount Blanc community Pool is a Leisure & Entertainment; Consulate General of the Russian Federation is a Commercial; Soam Restaurant is a Food & Drink; The Culture House is a Food & Drink; कमला नेहरू पार्क is a Leisure & Entertainment; Eye-Q Vision Care is a Healthcare; Bombay City Eye Institute and Research Centre is a Healthcare; Desa's Hospital is a Healthcare; Hospital For Women Care is a Healthcare; Dr. Nadeem Rais Endocrinologist is a Healthcare; Central Government Touring Officers Guest House is a Leisure & Entertainment; Girgaum Chowpatty Beach is a Leisure & Entertainment; Priyadarshini Park is a Leisure & Entertainment; Brij Kutir Shopping Centre is a Commercial; Regency Hotel is a Residential; Glenogle is a Residential; Pherozeshah Mehta Gardens (Hanging Gardens) is a Leisure & Entertainment; Malabar Hill Club Pool is a Leisure & Entertainment; Tulip is a Residential; Shimla Nagar is a Residential; Shapoorji Fakirji Jokhi Agiary is a Residential; Shantivan Garden is a Leisure & Entertainment; All Saints Church is a Residential; Fair View is a Residential; Ridge Road shops is a Residential; Kamala Nehru Park is a Leisure & Entertainment; Doongerwadi is a Natural; Lakheni Towers is a Residential; Makichan Hall is a Residential; Asiatic Club is a Residential; Bombay International School Association is a Residential; Ruxmani Lying in Hospital is a Residential; Babunath Temple is a Residential; Sir Ratan Tata Institute is a Residential; Temple View is a Residential; Shanti Sadan is a Residential; Zopadpatti is a Residential; Hyderabad Estate is a Residential; Il Palazzo is a Residential; Bay View is a Residential; Suneeta is a Residential; El Cid is a Residential; Tower of Silence 3 is a Landuse: Religious; Tower of Silence 1 is a Landuse: Religious; Tower of Silence 2 is a Landuse: Religious; विल्सन कॉलेज is a Educational; Rotunda is a Residential; Gopi Birla Memorial School is a Educational; Hill View is a Residential; Amalfi is a Residential; Skylark is a Residential; Malabar Court is a Residential; Varsha is a Residential; Paras is a Residential; Ratnam Apartments is a Residential; Haveli is a Residential; Kanta is a Residential; B.K.M. High School is a Educational; DSB International School is a Educational; Kohinoor is a Residential; Manhar Oak is a Residential; A Block is a Residential; Prasad is a Residential; Wyoming is a Residential; Apartment House and Guest House is a Residential; F Block is a Residential; Las Palmas is a Residential; Acropolis is a Residential; Nana Nani Park is a Leisure & Entertainment; Kilachand Garden (Chowpatty Bandstand) is a Leisure & Entertainment; Mount Blanc Park is a Leisure & Entertainment; Grand Paradi Park is a Leisure & Entertainment; Mumbai is a Natural; The Cathedral & John Connon Infant School is a Educational; Islam Club is a Residential; Simla House is a Residential; "
          ],
          [
           "Ever Green is a Food & Drink; Shriram is a Food & Drink; Goodwill Theatre is a Leisure & Entertainment; New Roshan Talkies is a Leisure & Entertainment; Alfred Talkies is a Leisure & Entertainment; Super Plaza Cinema is a Leisure & Entertainment; Little Italy is a Food & Drink; Allbless Baug is a Residential; Madhavbaug PO is a Government & Public Services; Null Bazaar Police Chowkie is a Government & Public Services; Badhamkar Mark Police Station is a Government & Public Services; Sahitya sangh mandir is a Leisure & Entertainment; Hotel Briteway is a Leisure & Entertainment; Dinath bldg is a Commercial; king Falcon is a Food & Drink; New York  is a Commercial; Delhi Darbar is a Leisure & Entertainment; Empire Hotel is a Leisure & Entertainment; Dr. M.A KHAN is a Healthcare; Tiwari Brothers Mithaiwala is a Food & Drink; Nicholson Eye Clinic is a Healthcare; Dr. Yash Shah Total Eye Care is a Healthcare; Ursekar Laser and Microssurgery Eye Clinic is a Healthcare; Brahman Sabha  Mhaskar Gruh and General Nursing Home is a Healthcare; Yogeshwar Surgical Clinic and Nursing Home - Mumbai is a Healthcare; Diamond Mela jewellers is a Commercial; Beramjis Hospital is a Healthcare; Dr.Pai Dhungat Maternity and Nursing Home is a Healthcare; Nityanand Fast Food is a Food & Drink; BMC Eye Hospital  Kamathipura is a Healthcare; Dr. Sanjay Shah Hospital is a Healthcare; Suryakant Wagal Maternity Hospital is a Healthcare; Kiah Metallurgical is a Commercial; Noble Chemist is a Healthcare; Girgaon Metropolitan Magistrate Court is a Government & Public Services; 210 Degrees is a Commercial; Kala Kendra is a Commercial; Irani Bakery is a Commercial; Kamdar Sweets is a Commercial; Mumbai Clinic is a Healthcare; Shah Ookchand and sons is a Commercial; Vasant Bhuvan is a Food & Drink; Dr Pandit's Ayurveda and Panchakarma Clinic is a Healthcare; Bata is a Commercial; Gathanis music center is a Commercial; Zafco Perfumes is a Commercial; Image Hair studio is a Commercial; Airtel is a Commercial; 7th Heaven Girgaon is a Food & Drink; Naaz Cinema is a Leisure & Entertainment; Swastik Cinema is a Leisure & Entertainment; Imperial Cinema is a Leisure & Entertainment; Dreamland is a Leisure & Entertainment; Saifee Hospital is a Healthcare; Kabutarkhana is a Leisure & Entertainment; Bombay Panjarapole is a Landuse: Farmyard; Null Market is a Retail; Shreeman Kherajbhai Ladiwala Chowk is a Leisure & Entertainment; Moti Talkies is a Leisure & Entertainment; Kalyan Building No. 1 is a Residential; Kalyan Building No. 6 is a Residential; Kalyan Building No. 8 is a Residential; Kalyan Building No. 7 is a Residential; Kalyan Building No. 2 is a Residential; Kalyan Building No. 4 is a Residential; Kalyan Building No. 5 is a Residential; Chikitsak Samuh High School is a Educational; Conwest And Manjula S. Badani Jain Hospital is a Healthcare; Mumbadevi CHS is a Residential; Byramjee Jeejeebhoy Parsee Charitable Institution is a Educational; Sir H. N. Hospital & Research Centre is a Healthcare; Aryan E.S. High School is a Educational; Marwari Vidyalaya High School is a Educational; Shreepati Castle is a Residential; Shripati is a Residential; Lifescapes Nilay CHS is a Residential; Siddhesh Darshan is a Residential; Rushabh Apartment is a Residential; Mumbai Marathi sahitya sangh mandir is a Leisure & Entertainment; Akbar Peerbhoy College Of Commerce And Economics is a Educational; New Era Engineering is a Residential; Girgaon is a Landuse: Construction; Kanchan Gauri Building is a Residential; Jain Bhavan is a Residential; St. Teresa High School is a Educational; Bai Ratan F. Pavri High School is a Educational; Lamington Road Electronics Area is a Commercial; Prestige Ocean Towers (u/c) is a Landuse: Construction; Kartar Mansion is a Residential; "
          ],
          [
           "Madhavbaug PO is a Government & Public Services; Mandvi Post Office is a Government & Public Services; Null Bazaar Police Chowkie is a Government & Public Services; Pydhoni Police Station is a Government & Public Services; Umar Pulaowala is a Food & Drink; Hotel Mogul Palace is a Leisure & Entertainment; Null Bazaar Post Office is a Government & Public Services; Imadadiya Bakery is a Commercial; Firoz Farsan is a Commercial; Saifee Ambulance is a Healthcare; Sir JJ Marg Police Station is a Government & Public Services; Umerkhadi Fire Station is a Government & Public Services; Shalimar is a Food & Drink; Al Haram is a Leisure & Entertainment; Al Mazin is a Leisure & Entertainment; shahil restaurant is a Food & Drink; chanda cafe shop is a Food & Drink; Al-Moazin is a Leisure & Entertainment; Tidy tronic  is a Commercial; Noor Mohammadi Hotel is a Food & Drink; Tawakkal sweets is a Commercial; Cafe Islam is a Food & Drink; Ayurvedic Shop is a Commercial; Ahmadi is a Food & Drink; Shimla Cold Drinks is a Food & Drink; Azad is a Food & Drink; Dholkawalla Maternity Home is a Healthcare; M.H. Saboo Siddique Maternity and General Hospital - Masjid is a Healthcare; Smt.Laxmiben Dhanji Devshi Health Centre is a Healthcare; Noor Hospital is a Healthcare; The Muslim Ambulance Society Diagnostic Center is a Healthcare; Habib Hospital is a Healthcare; Cafe Paradise is a Food & Drink; Chowki Mohalla Police Chowki is a Government & Public Services; Al Rehmani Resturant is a Food & Drink; Cafe Almas is a Food & Drink; Nilgiri is a Food & Drink; Alamgir Hotel is a Food & Drink; Laham is a Food & Drink; Do Taki Police Chowki is a Government & Public Services; Star of U.P Restaurant is a Food & Drink; Nawab Seekh Paratha is a Food & Drink; Parveen Medical & General Stores is a Healthcare; Munna General Store is a Healthcare; Saifi sweet mart is a Commercial; Aftab Tea store is a Commercial; JJ Jalebi is a Food & Drink; Dongri Market is a Retail; Kabutarkhana is a Leisure & Entertainment; Bombay Panjarapole is a Landuse: Farmyard; Null Market is a Retail; Shreeman Kherajbhai Ladiwala Chowk is a Leisure & Entertainment; Veer Sambhaji Maidan is a Leisure & Entertainment; Moti Talkies is a Leisure & Entertainment; Brihanmumbai Mahanagarpalika B Ward Office is a Commercial; Babula Tank Playground is a Leisure & Entertainment; Chinchbunder Post Office is a Government & Public Services; Zain Tower is a Residential; Bismillah Heights is a Residential; Akbar Mansion is a Residential; Al-Hamad Apartment is a Residential; BGF - BakeGrillFry is a Food & Drink; Memonwada Playground is a Leisure & Entertainment; Sultan Buidling is a Residential; Karim mansion is a Residential; Bismillah West View is a Residential; J. J. Hospital is a Healthcare; Aradhana Jewellers is a Retail; Saifi High School is a Educational; Bhendi Bazaar Cluster Redevelopment Project is a Landuse: Construction; "
          ],
          [
           "Dongri Police Station is a Government & Public Services; Al Mazin is a Leisure & Entertainment; Al-Moazin is a Leisure & Entertainment; Cafe Islam is a Food & Drink; Ayurvedic Shop is a Commercial; Ahmadi is a Food & Drink; Shimla Cold Drinks is a Food & Drink; Azad is a Food & Drink; Smt.Laxmiben Dhanji Devshi Health Centre is a Healthcare; General Hospital  Janabai Rokade is a Healthcare; Habib Hospital is a Healthcare; NAMO 9 TEA is a Commercial; Dongri Market is a Retail; Sandhurst Road Carshed is a Landuse: Railway; Veer Sambhaji Maidan is a Leisure & Entertainment; Sitaram Shinoy Garden is a Leisure & Entertainment; Chinchbunder Post Office is a Government & Public Services; Mumbai Port Trust - MbPT is a Industrial; Sandhurst Road Railway Station is a Landuse: Railway; Navrang Building is a Commercial; "
          ],
          [
           "Mumbai Port Trust - MbPT is a Industrial; Mazagon Dock Shipbuilders Limited is a Industrial; "
          ],
          [
           "Cannon 1 is a Leisure & Entertainment; Cannon 2 is a Leisure & Entertainment; Bombay Skyline viewpoint is a Leisure & Entertainment; Elephanta Island is a Natural; Raj Bandargaon is a Residential; "
          ],
          [
           "Elephanta Island is a Natural; Raj Bandargaon is a Residential; "
          ],
          [
           "Jawaharlal Nehru Port is a Industrial; "
          ],
          [
           "Jawaharlal Nehru Port is a Industrial; Nhava Creek is a Natural; "
          ],
          [
           "Jawaharlal Nehru Port is a Industrial; Nhava Creek is a Natural; "
          ],
          [
           "Nhava Creek is a Natural; "
          ],
          [
           "Nhava Creek is a Natural; "
          ],
          [
           "Nhava Creek is a Natural; "
          ],
          [
           "Nhava Creek is a Natural; "
          ],
          [
           "Ramseth Thakur International Sports Complex is a Leisure & Entertainment; "
          ],
          [
           "Ramseth Thakur International Sports Complex is a Leisure & Entertainment; "
          ],
          [
           "Mumbai is a Natural; "
          ],
          [
           "VAMA is a Commercial; Giriraj is a Residential; Mount Blanc View Gallery is a Leisure & Entertainment; Mount Blanc community Pool is a Leisure & Entertainment; Consulate General of the Russian Federation is a Commercial; Soonawala Clinic is a Healthcare; Kapoor Eye Center is a Healthcare; Koinonia Coffee Roasters is a Food & Drink; Cumbala Hill Hospital and Heart Institute is a Healthcare; Gynaecworld is a Healthcare; Mayori Conscious Clothing Store is a Commercial; Zarah Medical & Comestic Skin Clinic is a Healthcare; Cheers Child Care Clinic is a Healthcare; Dr. Nilen Shah's Clinic is a Healthcare; Dr. Doshi's Veterinary Dispensary is a Healthcare; Central Lawn is a Leisure & Entertainment; Woodland Appartments is a Residential; Amarson's Park is a Leisure & Entertainment; Shimla Nagar is a Residential; Shapoorji Fakirji Jokhi Agiary is a Residential; Hotel Shalimar is a Residential; Doongerwadi is a Natural; Breach Candy Swimming Bath Trust is a Leisure & Entertainment; ब्रीच कँडी हॉस्पिटल is a Healthcare; Breach Candy Apartments is a Residential; Kenilworth is a Residential; Balmoral Villa is a Residential; Glamis Villa is a Residential; Noor Ville is a Residential; Devonshire House is a Residential; Volkhart House is a Residential; Somerset House is a Residential; Kismet is a Residential; Dil Pazir is a Residential; Lynnewood House is a Residential; Antilia is a Residential; Saint Stephens is a Residential; Tower of Silence 3 is a Landuse: Religious; New Activity School is a Educational; Prithvi Apartments is a Residential; Geeta Bhavan C is a Residential; Sophia is a Residential; Jupiter is a Residential; Poonawala House (Lincoln House) is a Residential; Dhun-Abad is a Residential; Sophia Bhaba is a Leisure & Entertainment; Tata Garden is a Leisure & Entertainment; Mount Blanc Park is a Leisure & Entertainment; Signature Garden is a Leisure & Entertainment; Grand Paradi Park is a Leisure & Entertainment; Mumbai is a Natural; Sophia college is a Educational; The B.D.Petit Parsee General Hospital is a Healthcare; "
          ],
          [
           "Tejpal Hall is a Leisure & Entertainment; VAMA is a Commercial; Golden Crown is a Food & Drink; Allibhai Premji Tyrewalla is a Commercial; Giriraj is a Residential; Navjeevan Society is a Residential; Hotel Kumkum is a Leisure & Entertainment; Bhatia is a Healthcare; Kumkum is a Leisure & Entertainment; Adarsh Mithai Mandir is a Commercial; Vijay Diary Farm and Sweet Mart is a Commercial; Happiness Deli is a Commercial; Sardar Pav Phaji is a Food & Drink; Soonawala Clinic is a Healthcare; Kapoor Eye Center is a Healthcare; Koinonia Coffee Roasters is a Food & Drink; Dr Turners's Speciality Dental Centre is a Healthcare; Dr. Gala's Nursing Home is a Healthcare; Cumbala Hill Hospital and Heart Institute is a Healthcare; Sadhu-Kamal Eye Hospital is a Healthcare; Gynaecworld is a Healthcare; Infiniti Eye Hospital is a Healthcare; The Universal School  Tardeo is a Educational; Grant Road Central High School is a Educational; Tardeo Municipal Secondary School is a Educational; Swami Educational Society-Madurai Kamaraj University is a Educational; My Happy Place is a Educational; Education Inspector South is a Educational; Navneet Education Society Night Degree College is a Educational; Gilder Lane Muncipal School is a Educational; Dr. Nitin Gupta ENT Specialist is a Healthcare; Dr. Nilen Shah's Clinic is a Healthcare; Dr. A G Kamat is a Healthcare; Apollo Spectra Hospitals is a Healthcare; Aditya Infotech Asia Private Limited is a Commercial; pdp is a Commercial; Shri Gowalia Tank Shankheswara Parshwanath Jain Medical Centre & Kankutara Diagnostic Medical Centre is a Healthcare; Hotel Hindmata is a Food & Drink; Dr. Doshi's Veterinary Dispensary is a Healthcare; Navjeevan is a Commercial; Zafco Perfumes is a Commercial; Portico Restaurant and Bar is a Food & Drink; Woodland Appartments is a Residential; Doongerwadi is a Natural; Arcil is a Residential; Gowalia Tank Fire Station is a Residential; Gamdevi Police Station is a Residential; Barry Villa is a Residential; Pandita Ramabai Hostel is a Residential; St. Columba High School is a Educational; Alexandra House is a Residential; Arya Mahila Samaj Hostel is a Residential; Sumer Saraswati CHS is a Residential; Cinnabon is a Residential; Seva Sedan Society is a Residential; John Wilson Education Society Compound is a Commercial; Traffic Police is a Residential; Nana Chowk Public Dispensary is a Residential; Spencer Building is a Residential; Kenilworth is a Residential; August Kranti Maidan is a Leisure & Entertainment; Film Division is a Residential; Antilia is a Residential; Dun Appartments is a Residential; Girton High School is a Residential; Grant Road Post Office is a Government & Public Services; Mahindra Heights is a Residential; Tardeo Police Station is a Government & Public Services; Kappawala Fire Temple is a Residential; Adenwala Baugh is a Residential; Adenwala Baugh is a Leisure & Entertainment; Aditya is a Residential; B Merwan & Co Bakers is a Residential; Zoroastrian Colony is a Residential; Jaslok Hospital and Research Centre is a Healthcare; Wallace Apartments is a Residential; Fellowship International School is a Educational; Fellowship School is a Educational; Dr. Rustom K. Barucha is a Healthcare; St. Columba Marathi Primary School is a Educational; New Activity School is a Educational; Prithvi Apartments is a Residential; Gilt Salon is a Residential; New Shivleela CHS is a Residential; Omkar Co-operative Housing Society is a Residential; Rajdeep Building is a Residential; Sophia is a Residential; The New Era School is a Educational; Le Palazzo is a Residential; Jupiter is a Residential; Cozy Building is a Residential; M.S.P.T. High School is a Educational; Our Own High School is a Educational; Rajani Mahal is a Residential; August Kranti Garden is a Leisure & Entertainment; Gamadia Building is a Residential; Wadia Building is a Residential; Patel Building is a Residential; Sethna is a Residential; Soonaiji Agiari is a Residential; Grant Road is a Landuse: Construction; Lodha Altamount is a Residential; Orchids The International School  Grant Road is a Educational; Bai Ruttonbai F D Panday Girls' High School is a Educational; Lamington Road Electronics Area is a Commercial; Sophia college is a Educational; Mahrukh Mansion is a Residential; Parvati Mansion is a Residential; Dun Shopping Centre is a Commercial; "
          ],
          [
           "Goodwill Theatre is a Leisure & Entertainment; New Roshan Talkies is a Leisure & Entertainment; Alfred Talkies is a Leisure & Entertainment; Super Plaza Cinema is a Leisure & Entertainment; Sarvi Restaurant is a Food & Drink; Allibhai Premji Tyrewalla is a Commercial; McDonald's is a Food & Drink; YMCA International House is a Leisure & Entertainment; Navjeevan Society is a Residential; Hotel Kumkum is a Leisure & Entertainment; Hotel Briteway is a Leisure & Entertainment; KFC is a Food & Drink; Dinath bldg is a Commercial; king Falcon is a Food & Drink; Delhi Darbar is a Leisure & Entertainment; Kumkum is a Leisure & Entertainment; Dr. M.A KHAN is a Healthcare; Nicholson Eye Clinic is a Healthcare; Nagori Clinic and Nursing Home is a Healthcare; Sadhu-Kamal Eye Hospital is a Healthcare; Dawood Multispeciality Nursing Home is a Healthcare; Tibbia Hospital is a Healthcare; Nair Hospital Dental College is a Healthcare; Gaurabai Dispensary is a Healthcare; Education Inspector South is a Educational; Navneet Education Society Night Degree College is a Educational; Gilder Lane Muncipal School is a Educational; Maratha Mandir's Babasaheb Gawde Institute of Technology is a Educational; BMC Eye Hospital  Kamathipura is a Healthcare; Dr. A G Kamat is a Healthcare; Aditya Infotech Asia Private Limited is a Commercial; Tardeo General Stores is a Commercial; MUMBAI SPINE CARE CLINIC is a Healthcare; Anmol Chemist is a Healthcare; Babasaheb Gawde Institute of Management Studies is a Educational; Hotel Hindmata is a Food & Drink; Rolex restaurant is a Food & Drink; Cafe Sagar is a Food & Drink; Bata is a Commercial; Anna Leela Veg Restaurant is a Food & Drink; Central Sweets is a Food & Drink; Navjeevan is a Commercial; Plus Fitness is a Leisure & Entertainment; Oasis Super market is a Commercial; Zafco Perfumes is a Commercial; Portico Restaurant and Bar is a Food & Drink; Image Hair studio is a Commercial; Grant Road Post Office is a Government & Public Services; Zoroastrian Colony is a Residential; Jaysinghbhai P Solanki Garden is a Leisure & Entertainment; Central BEST Bus Depot is a Industrial; Reserve Bank Staff Colony is a Residential; KK Marg Municipal School is a Educational; The Sahil Hotel is a Leisure & Entertainment; Anjuman I Islam's Saif Tyabji Girls High School and Junior College is a Educational; New Shivleela CHS is a Residential; Orchid Enclave is a Residential; Akbar Peerbhoy College Of Commerce And Economics is a Educational; Mumbai Central is a Landuse: Construction; Grant Road is a Landuse: Construction; Orchids The International School  Grant Road is a Educational; Bai Ruttonbai F D Panday Girls' High School is a Educational; Bai Ratan F. Pavri High School is a Educational; St. Anthony's Home And Girl's High School is a Educational; Kamathipura BMC Municipal School is a Educational; Lamington Road Electronics Area is a Commercial; Nathani Heights is a Residential; Jagjivan Ram Hospital is a Healthcare; Mahrukh Mansion is a Residential; Parvati Mansion is a Residential; Maratha Mandir Theatre is a Leisure & Entertainment; Memni Building is a Residential; "
          ],
          [
           "Byculla is a Government & Public Services; Sarvi Restaurant is a Food & Drink; Nagpada Polic Station is a Government & Public Services; Null Bazaar Post Office is a Government & Public Services; Saifee Ambulance is a Healthcare; Sir JJ Marg Police Station is a Government & Public Services; Tawakkal sweets is a Commercial; Prince Aly Khan Hospital is a Healthcare; Nagori Clinic and Nursing Home is a Healthcare; Dawood Multispeciality Nursing Home is a Healthcare; Municipality Clinic is a Healthcare; Tibbia Hospital is a Healthcare; Walpakhadi Municipal Dispensary is a Healthcare; Gaurabai Dispensary is a Healthcare; Nagpada Police Hospital is a Healthcare; U.P. Bakery is a Commercial; Cafe Paradise is a Food & Drink; Chowki Mohalla Police Chowki is a Government & Public Services; Al Rehmani Resturant is a Food & Drink; Cafe Almas is a Food & Drink; Nilgiri is a Food & Drink; Alamgir Hotel is a Food & Drink; Laham is a Food & Drink; Do Taki Police Chowki is a Government & Public Services; Star of U.P Restaurant is a Food & Drink; Nawab Seekh Paratha is a Food & Drink; Zulfikar Restaurant is a Food & Drink; Parveen Medical & General Stores is a Healthcare; Munna General Store is a Healthcare; Dr. Abbas F. Merchant is a Healthcare; Dr. Shantilal Oza Hospital is a Healthcare; Saifi sweet mart is a Commercial; Aftab Tea store is a Commercial; Al Madina Medical Store is a Healthcare; Al-Falah Medical & General Store is a Healthcare; Gama Roti  Bara Handi Shop is a Food & Drink; Ring World is a Commercial; Anmol Chemist is a Healthcare; Global Medical and General Store is a Healthcare; JJ Jalebi is a Food & Drink; Rolex restaurant is a Food & Drink; Cafe Sagar is a Food & Drink; Mastan YMCA Basket Ball Mini Stadium is a Leisure & Entertainment; Brihanmumbai Mahanagarpalika B Ward Office is a Commercial; Babula Tank Playground is a Leisure & Entertainment; Mumbai Corporation  E Ward offices is a Commercial; Sir Jacob Sasoon High School is a Educational; St. Agnes' High School is a Educational; E.E.E. Sassoon High School is a Educational; Christ Church School is a Educational; Zain Tower is a Residential; Bismillah Heights is a Residential; Akbar Mansion is a Residential; Ahmed Sailor High School is a Educational; Al-Hamad Apartment is a Residential; St. Mary's School (ICSE) is a Educational; 27-D is a Residential; Haji Building is a Residential; Bootwala Building is a Residential; Sultan Buidling is a Residential; Bismillah West View is a Residential; J. J. Hospital is a Healthcare; Razzaq Building is a Residential; Anjuman-I-Islam's M.H. Saboo Siddik College of Engineering is a Educational; St. Mary's High School (S.S.C.) is a Educational; Hume High School is a Educational; St. Anthony's Home And Girl's High School is a Educational; Kamathipura BMC Municipal School is a Educational; Memni Building is a Residential; Bhendi Bazaar Cluster Redevelopment Project is a Landuse: Construction; "
          ],
          [
           "Dongri Police Station is a Government & Public Services; Kwan Tai Shek Temple is a Leisure & Entertainment; Mazagaon Terrace Co-op Housing Society is a Residential; Walpakhadi Municipal Dispensary is a Healthcare; Dr. Shantilal Oza Hospital is a Healthcare; Joseph Baptista Garden is a Landuse: Recreation_ground; Sandhurst Road Carshed is a Landuse: Railway; Sitaram Shinoy Garden is a Leisure & Entertainment; Sandhurst Road Railway Station is a Landuse: Railway; Prabhat is a Residential; Yash Heights is a Residential; Malkani Mansion is a Residential; GST Bhavan is a Commercial; St. Isabel High School is a Educational; St Peter's School is a Educational; Mazagon Dock Shipbuilders Limited is a Industrial; St. Mary's School (ICSE) is a Educational; 27-D is a Residential; J. J. Hospital is a Healthcare; St. Mary's High School (S.S.C.) is a Educational; sharmas is a Residential; "
          ],
          [
           "Kwan Tai Shek Temple is a Leisure & Entertainment; Mazagon Dock Shipbuilders Limited is a Industrial; Darukhana is a Industrial; "
          ],
          [
           "एलिफंटा लेणी is a Leisure & Entertainment; Elephanta Caves is a Leisure & Entertainment; Cannon 1 is a Leisure & Entertainment; Cannon 2 is a Leisure & Entertainment; Bombay Skyline viewpoint is a Leisure & Entertainment; Ticket counters is a Leisure & Entertainment; Elephanta Island is a Natural; Shet Bandar is a Residential; "
          ],
          [
           "एलिफंटा लेणी is a Leisure & Entertainment; Elephanta Caves is a Leisure & Entertainment; Ticket counters is a Leisure & Entertainment; Gharapuri Caves is a Natural; Elephanta Island is a Natural; Mora Bandargaon is a Residential; "
          ],
          [
           "Elephanta Island is a Natural; Jawaharlal Nehru Port is a Industrial; Mora Bandargaon is a Residential; Nhava Creek is a Natural; "
          ],
          [
           "Jawaharlal Nehru Port is a Industrial; PTYS is a Industrial; M. M. Store is a Industrial; Maintenance Shed is a Industrial; Mud Plant is a Industrial; Nhava Creek is a Natural; "
          ],
          [
           "Nhava Creek is a Natural; "
          ],
          [
           "Navi Mumbai Special Economic Zone is a Industrial; Nhava Creek is a Natural; "
          ],
          [
           "Ramseth Thakur International Sports Complex is a Leisure & Entertainment; Navi Mumbai Special Economic Zone is a Industrial; CIDCO Pond is a Natural; Sky Avenue CHS is a Residential; "
          ],
          [
           "sjcnjfncdaij is a Residential; aaroshome is a Residential; Ramseth Thakur International Sports Complex is a Leisure & Entertainment; CIDCO Pond is a Natural; mass housing site 1 is a Residential; Tricity Pride is a Residential; Daffodil is a Residential; Shreeji Heaven is a Residential; Today Paradise is a Residential; Lake View CHS is a Residential; Shantanu Heights is a Residential; Manas Shubhan is a Residential; Sky Avenue CHS is a Residential; Dream House is a Residential; Labheshwar Aura is a Residential; Neelkanth Corner is a Residential; Sun-Amin Apartment is a Residential; Sai Soham Residency is a Residential; Castle Arcade is a Residential; Gaurav Pride is a Residential; The Atlantis is a Residential; Hira Laxmi Heights is a Residential; Patel Residency is a Residential; "
          ],
          [
           "Sau. Shakuntala Ramsheth Thakur Vidyalaya is a Commercial; mass housing site 1 is a Residential; "
          ],
          [
           "Food Court is a Food & Drink; Shobha is a Food & Drink; The Ghetto is a Food & Drink; Nitrro Bespoke Fitness is a Leisure & Entertainment; Dr Satish wadhwa is a Healthcare; Nature's Basket Warden Road is a Commercial; Sparkle Dental Care  is a Healthcare; Amarson's Park is a Leisure & Entertainment; Breach Candy Swimming Bath Trust is a Leisure & Entertainment; ब्रीच कँडी हॉस्पिटल is a Healthcare; Breach Candy Apartments is a Residential; Balmoral Villa is a Residential; Glamis Villa is a Residential; Noor Ville is a Residential; Devonshire House is a Residential; Volkhart House is a Residential; Somerset House is a Residential; Kismet is a Residential; Dil Pazir is a Residential; HD Saher Agiary is a Residential; Zopadpatti is a Residential; Johnson & Johnson Garden is a Leisure & Entertainment; Rylstone is a Residential; Carmichael House is a Residential; Deepak Building is a Residential; Doctor House is a Residential; Everest Building is a Residential; Vimla Mahal is a Residential; Datta Prasad is a Residential; Dev Ashish is a Residential; Aquamarine is a Residential; Geetanjali is a Residential; Maheshwar Niketan is a Residential; Ajanta Apartments is a Residential; E Block is a Residential; Sindhula Building is a Residential; Jindal Mansion is a Commercial; Sadhana is a Residential; Kejriwal House is a Residential; Gold Croft is a Residential; D Block is a Residential; White House is a Residential; Gold Cornet is a Residential; Carlton Terrace is a Residential; Mohini Mahal is a Residential; Padam 2 is a Residential; Krishnabad is a Residential; Silver Foil is a Residential; Sneha Sadan is a Residential; Alcazar is a Residential; Mount Eminence is a Residential; Dharm Villa is a Residential; Currimbhoy Manor is a Residential; Bhagwat Niwas is a Residential; Padam is a Residential; Prem Court is a Residential; Neel Kamal is a Residential; Poonawala House (Lincoln House) is a Residential; Coolshanagh is a Residential; Waves is a Residential; Mumbai is a Natural; Himgiri is a Residential; Income Tax Colony (Pedder Road) is a Residential; Hubtown Skybay is a Commercial; Valentina is a Residential; Activity High School is a Educational; Mahalaxmi Municipal School is a Educational; Khambata is a Residential; Damul Niwas is a Residential; Goolestan is a Residential; Navroze Apartments is a Residential; Tirupati Apartments is a Residential; Blue Gardenia is a Residential; Anand Darshan is a Residential; Dheeraj Apartment is a Residential; Gazdar House is a Residential; SnehKutir is a Residential; Shah Baug - 3 is a Residential; Sophia college is a Educational; The B.D.Petit Parsee General Hospital is a Healthcare; "
          ],
          [
           "Heera Panna is a Commercial; Cafe Noorani is a Food & Drink; मुंबई में जापान के महावाणिज्य दूतावास is a Commercial; Treebo Trend Rosewood is a Leisure & Entertainment; Balaji Fast Food is a Food & Drink; Maji Sagar is a Food & Drink; McDonald's is a Food & Drink; Beyond Waffles is a Food & Drink; Brand Factory is a Commercial; Sardar Pav Phaji is a Food & Drink; Food Court is a Food & Drink; Shobha is a Food & Drink; The Ghetto is a Food & Drink; Shetty Nursing Home (Shetty Health Services Pvt. Ltd.) is a Healthcare; Aus Clinic and Lithotripsy Center is a Healthcare; Voras Nursing Home is a Healthcare; Anudhiti Care is a Healthcare; Dr Satish wadhwa is a Healthcare; Oh! Calcutta is a Food & Drink; One Step Up - Bar and Grill is a Food & Drink; The Golden Spiral School is a Educational; Nagrik Shikshan Sanstha's College Of Commerce & Economics is a Educational; Tardeo Municipal Secondary School is a Educational; Swami Educational Society-Madurai Kamaraj University is a Educational; My Happy Place is a Educational; All India Institute of Physical Medicine and Rehabilitation is a Healthcare; Apollo Spectra Hospitals is a Healthcare; Nature's Basket Warden Road is a Commercial; Bhausaheb Hiray Vidyalaya is a Educational; Bhausaheb Hiray College is a Educational; Sparkle Dental Care  is a Healthcare; Willingdon Sports Club is a Leisure & Entertainment; HD Saher Agiary is a Residential; Zopadpatti is a Residential; Rylstone is a Residential; Carmichael House is a Residential; Dabhanga Mansion is a Residential; Film Division is a Residential; Mahindra Heights is a Residential; Tardeo Police Station is a Government & Public Services; SoBo Central Mall is a Commercial; Engineer House is a Residential; Kappawala Fire Temple is a Residential; Vasant Dada Patil Udyan is a Leisure & Entertainment; Tulsiwadi Post Office is a Government & Public Services; Jaslok Hospital and Research Centre is a Healthcare; Deepak Building is a Residential; Doctor House is a Residential; Everest Building is a Residential; Vimla Mahal is a Residential; Haji Ali Municipal Officers' Co-op. Hsg. Society is a Residential; Haji Ali Post Office is a Residential; Raheja Excelsior is a Residential; C Block is a Residential; Datta Prasad is a Residential; Dev Ashish is a Residential; Aquamarine is a Residential; Geetanjali is a Residential; Maheshwar Niketan is a Residential; Ajanta Apartments is a Residential; E Block is a Residential; Sindhula Building is a Residential; Jindal Mansion is a Commercial; Sadhana is a Residential; Kejriwal House is a Residential; Gold Croft is a Residential; D Block is a Residential; White House is a Residential; Gold Cornet is a Residential; Carlton Terrace is a Residential; Mohini Mahal is a Residential; A Block is a Residential; Padam 2 is a Residential; Krishnabad is a Residential; Silver Foil is a Residential; B Block is a Residential; Sneha Sadan is a Residential; Alcazar is a Residential; Mount Eminence is a Residential; Dharm Villa is a Residential; Currimbhoy Manor is a Residential; Bhagwat Niwas is a Residential; Padam is a Residential; Prem Court is a Residential; Neel Kamal is a Residential; Bayside Mall is a Commercial; Rashmi is a Residential; Gilt Salon is a Residential; Coolshanagh is a Residential; Waves is a Residential; Mumbai is a Natural; Rajani Mahal is a Residential; Himgiri is a Residential; Gamadia Building is a Residential; Wadia Building is a Residential; Patel Building is a Residential; Sethna is a Residential; Income Tax Colony (Pedder Road) is a Residential; Valentina is a Residential; Activity High School is a Educational; Mahalaxmi Municipal School is a Educational; Khambata is a Residential; Damul Niwas is a Residential; Goolestan is a Residential; Navroze Apartments is a Residential; Tirupati Apartments is a Residential; Blue Gardenia is a Residential; Anand Darshan is a Residential; Dheeraj Apartment is a Residential; Gazdar House is a Residential; SnehKutir is a Residential; Shah Baug - 3 is a Residential; Victoria Memorial School for the Blind is a Educational; Yusuf Meherali Vidyalaya is a Educational; Sir C. J. High School (Secondary) is a Educational; Hill Spring International School is a Educational; Lala Lajpatrai College is a Educational; Mumbai Central EMU Carshed is a Industrial; Lakshmi Park is a Leisure & Entertainment; SOBO Riders MTG Spot is a Landuse: Religious; Mahalaxmi Racecourse is a Leisure & Entertainment; Lala Lajpat Rai Park is a Leisure & Entertainment; NH SRCC Children's Hospital is a Healthcare; Regional Transport Office - Mumbai East is a Commercial; National Medical College is a Educational; "
          ],
          [
           "Tote on the Turf is a Food & Drink; YMCA International House is a Leisure & Entertainment; Nair Hospital Dental College is a Healthcare; BYL Nair hospital is a Healthcare; Maratha Mandir's Babasaheb Gawde Institute of Technology is a Educational; Nair Hospital is a Healthcare; Tardeo General Stores is a Commercial; Dr Mudit Khanna is a Healthcare; Babasaheb Gawde Institute of Management Studies is a Educational; Oasis Super market is a Commercial; Willingdon Sports Club is a Leisure & Entertainment; Baby Garden is a Leisure & Entertainment; Vasant Dada Patil Udyan is a Leisure & Entertainment; Tulsiwadi Post Office is a Government & Public Services; J Maidan is a Leisure & Entertainment; Central BEST Bus Depot is a Industrial; Bradbury Mills is a Industrial; Modern Mills is a Industrial; Reserve Bank Staff Colony is a Residential; Sunshine Society CHSL Agripada is a Residential; Maulana Azad High School is a Educational; Dr Anandrao Nair Hospital and Topiwala Medical College is a Educational; Mahalaxmi is a Landuse: Construction; Mumbai Central is a Landuse: Construction; Yusuf Meherali Vidyalaya is a Educational; Sir C. J. High School (Secondary) is a Educational; St. Joseph's Girls' High School is a Educational; Mumbai Central EMU Carshed is a Industrial; Lakshmi Park is a Leisure & Entertainment; MTNL Byculla Agripada is a Commercial; Jagjivan Ram Hospital is a Healthcare; falak is a Residential; Maratha Mandir Theatre is a Leisure & Entertainment; Wockhardt Hospitals  South Mumbai is a Healthcare; Mahalaxmi Racecourse is a Leisure & Entertainment; Regional Transport Office - Mumbai East is a Commercial; "
          ],
          [
           "Sai Raj Hospital is a Healthcare; Site is a Leisure & Entertainment; Brittania Industries is a Industrial; Devidayal & Sons Steel Mills is a Industrial; Hindu Burial Ground is a Landuse: Cemetery; Mazagon Dock Shipbuilders Limited is a Industrial; Sewri Dockyard is a Industrial; Darukhana is a Industrial; "
          ],
          [
           "Marine Engineering and Research Institute - Mumbai Port Campus is a Educational; Darukhana is a Industrial; "
          ],
          [
           "Elephanta Island is a Natural; "
          ],
          [
           "Elephanta Island is a Natural; "
          ],
          [
           "PTYS is a Industrial; M. M. Store is a Industrial; Maintenance Shed is a Industrial; Mud Plant is a Industrial; "
          ],
          [
           "Navi Mumbai Special Economic Zone is a Industrial; "
          ],
          [
           "Navi Mumbai Special Economic Zone is a Industrial; Tricity Pride is a Residential; "
          ],
          [
           "sjcnjfncdaij is a Residential; aaroshome is a Residential; Navi Mumbai Special Economic Zone is a Industrial; CIDCO Pond is a Natural; CIDCO Colony is a Residential; CIDCO Ulwe Node Office is a Commercial; Radcliff School is a Educational; Ulwe Fire Station is a Government & Public Services; Milhomes.in Property Consultants is a Commercial; Tricity Pride is a Residential; Daffodil is a Residential; Shreeji Heaven is a Residential; Today Paradise is a Residential; Lake View CHS is a Residential; Shantanu Heights is a Residential; Manas Shubhan is a Residential; Labheshwar Aura is a Residential; Neelkanth Corner is a Residential; Sun-Amin Apartment is a Residential; Sai Soham Residency is a Residential; Castle Arcade is a Residential; Gaurav Pride is a Residential; The Atlantis is a Residential; Hira Laxmi Heights is a Residential; Patel Residency is a Residential; Jio Institute is a Educational; "
          ],
          [
           "Mango tree is a Natural; Banana tree is a Natural; Ashoka tree is a Natural; Indian almond is a Natural; Peepal tree is a Natural; CIDCO Colony is a Residential; CIDCO Ulwe Node Office is a Commercial; Radcliff School is a Educational; Ulwe Fire Station is a Government & Public Services; "
          ],
          [
           "Manomay Hospital is a Healthcare; Ashoka tree is a Natural; "
          ],
          [
           "Ashoka tree is a Natural; Kalpataru Riverside is a Residential; Rajiv Gandhi Garden is a Leisure & Entertainment; Kalpataru Waterfront is a Residential; Muslim Burial Ground (Qabrastan) is a Landuse: Cemetery; Kalpataru Riviera is a Residential; Kalundre River is a Natural; "
          ],
          [
           "Mumbai is a Natural; "
          ],
          [
           "Haji Ali Bay is a Natural; Tata is a Commercial; All India Institute of Physical Medicine and Rehabilitation is a Healthcare; Willingdon Sports Club is a Leisure & Entertainment; Nehru Planetarium is a Residential; Samudra Mahal is a Residential; Raheja Mahal is a Residential; Maa Hajjani Masjid and Dargah is a Residential; Madhuli is a Residential; Ceejay House is a Commercial; Lotus Court is a Residential; Sarjan Plaza is a Commercial; Lotus House is a Residential; Shivsagar Estate A Block is a Commercial; Shivsagar Estate B Block is a Commercial; Shivsagar Estate C Block is a Commercial; Shivsagar Estate D Block is a Commercial; Nehru Planetarium Garden is a Leisure & Entertainment; Poonam Appartments - D wing is a Residential; Zopadpatti is a Residential; Eden Hall is a Residential; सरदार वल्लाभाई पटेल इनडोअर स्टेडियम is a Leisure & Entertainment; Happy Home and School for the Blind is a Educational; National Sports Club of India is a Leisure & Entertainment; Haji Ali Municipal Officers' Co-op. Hsg. Society is a Residential; Haji Ali Post Office is a Residential; Mumbai is a Natural; Gallops Restaurant is a Commercial; Lala Lajpatrai College is a Educational; Lotus G is a Residential; SOBO Riders MTG Spot is a Landuse: Religious; Mahalaxmi Racecourse is a Leisure & Entertainment; Lala Lajpat Rai Park is a Leisure & Entertainment; NH SRCC Children's Hospital is a Healthcare; National Medical College is a Educational; "
          ],
          [
           "Tote on the Turf is a Food & Drink; Worli Naka Upper Primary School-Tamil is a Educational; Anand Niketan Hospital is a Healthcare; McDonald's is a Food & Drink; G5A is a Food & Drink; Masque is a Food & Drink; Willingdon Sports Club is a Leisure & Entertainment; Sant Gadge Maharaj Chowk is a Landuse: Recreation_ground; Zopadpatti is a Residential; Modern Mills is a Industrial; Parel EMU Workshop is a Industrial; सरदार वल्लाभाई पटेल इनडोअर स्टेडियम is a Leisure & Entertainment; National Sports Club of India is a Leisure & Entertainment; Dhobi Ghat is a Commercial; Gallops Restaurant is a Commercial; Science Centre is a Landuse: Construction; Mahalaxmi is a Landuse: Construction; Mumbai Central EMU Carshed is a Industrial; Prestige Liberty Towers is a Landuse: Construction; Piramal Mahalaxmi (u/c0 is a Landuse: Construction; Mahalaxmi Racecourse is a Leisure & Entertainment; "
          ],
          [
           "भाऊ दाजी लाड संग्रहालय is a Leisure & Entertainment; Nirmala Maternity and Surgical Hospital with Polyclinic is a Healthcare; N S Optical Contact Lens Clinic Ghatkopar is a Healthcare; Sankalp Eye Care Centre is a Healthcare; Kasturba Hospital is a Healthcare; Napoo High School is a Educational; Worli Naka Upper Primary School-Tamil is a Educational; Sneha lata Rane Girls High School and Junior College is a Educational; WALLETSNBAGS is a Commercial; Om Shanti Churchgate J.D.F Mumbai Medical Centre Trust is a Healthcare; VLN High School is a Educational; Gliricidia Sepium is a Natural; Wild Almond is a Natural; Baobab is a Natural; Royal Palm is a Natural; Fish poison tree is a Natural; Ghost Tree is a Natural; Behada is a Natural; Fish Tail Palm is a Natural; Silver Oak is a Natural; Woodlath Consevatory is a Commercial; Clustering Fishtail Palm is a Natural; Bull's Heart is a Natural; Hard Alstonia is a Natural; Fern Tree is a Natural; Chebulic Myrobalan is a Natural; Thrinax Palm is a Natural; False Olive is a Natural; Custard Apple is a Natural; Monkey Apple is a Natural; Ghost is a Natural; Moutain Ebony is a Natural; Triphasia is a Natural; Scarlet Flame Bean is a Natural; Arenga Palm is a Natural; Bakul is a Natural; Ceylon Sago Palm is a Natural; Lace-Leaf Vitex is a Natural; Katsagon is a Natural; Kaim is a Natural; Baobab Tree is a Natural; Brazilian Ironwood is a Natural; Jamiacan Dogwood is a Natural; Chalmogra is a Natural; Bollywood is a Natural; Mickey Mouse Bush is a Natural; Moulmein Rosewood is a Natural; Fan Palm is a Natural; South Indian Mahua is a Natural; Hairy Sterculia is a Natural; Dikemali is a Natural; Indian Cork is a Natural; Indian Almond is a Natural; X-Mas Tree is a Natural; Lemon is a Natural; Payar is a Natural; Red Chapha is a Natural; Cashew Nut is a Natural; Indian Tulip is a Natural; Whistling Pine is a Natural; Rohitak is a Natural; Giripushpa is a Natural; Pomelo is a Natural; Chhota Taman is a Natural; Gaub is a Natural; Ceylon Oak is a Natural; Guaiac is a Natural; Cannonball is a Natural; Shivan is a Natural; Kunti is a Natural; Samudraphul is a Natural; Safed Chapha is a Natural; Tivar is a Natural; Footstool Palm is a Natural; Star Apple is a Natural; Palmyra Palm is a Natural; Arjun is a Natural; African Mahogani is a Natural; Narvel is a Natural; Mysore fig is a Natural; Gurjon is a Natural; Guest Tree is a Natural; Choti Bhokar is a Natural; Pinanga Palm is a Natural; Ochna is a Natural; Orchid Tree is a Natural; Tamarind is a Natural; Malay Gooseberry is a Natural; Indian Charcoal is a Natural; Afreeca Mangosteen is a Natural; Sabal Palm is a Natural; Pink Tecoma is a Natural; Latania Palm is a Natural; Elephant Apple is a Natural; Varas is a Natural; Sand Paper Tree is a Natural; Sapodilla is a Natural; Parijatak is a Natural; Earleaf Acacia is a Natural; Nilgiri is a Natural; Lettuce is a Natural; Fountain Tree is a Natural; Siamese Cassia is a Natural; The Burmese Pink Cassia is a Natural; Nagkeshar is a Natural; Chapha is a Natural; Pride Of Burma is a Natural; Bael Tree is a Natural; Sultan Champa is a Natural; Ban Nimbu is a Natural; Heena is a Natural; Cocoa is a Natural; Burmese Rosewood is a Natural; Neem is a Natural; Chaste is a Natural; Khat is a Natural; Bhadraksha is a Natural; Indian Elm is a Natural; Mabolo is a Natural; Nux Vomica is a Natural; Oil Palm is a Natural; White Bottle Brush is a Natural; Mysore Gamboge is a Natural; Divi Divi Tree is a Natural; Maharaja Cafe is a Food & Drink; Sonsawar is a Natural; Sant Gadge Maharaj Chowk is a Landuse: Recreation_ground; Podar Mills is a Residential; Apollo Mills is a Industrial; Shriram Mills is a Residential; Dr. Bhau Daji Lad Museum is a Leisure & Entertainment; Digvijay Mills is a Industrial; India United Mills no.2-3 is a Industrial; New City of Bombay Mills is a Industrial; New Hind Mill Mhada Colony is a Residential; India United Mills no.5 is a Industrial; New Great Eastern Spinning and Weaving Mills is a Commercial; Veermata Jijabhai Bhosale Zoo & Botanical Garden is a Leisure & Entertainment; India United Mills no.4 is a Industrial; Planet Godrej is a Residential; Parel EMU Workshop is a Industrial; Vinayak Vasudev Chawal is a Residential; Bramha Vishnu Mahesh Society is a Residential; Byculla School is a Educational; Sussex Industrial Estate A is a Commercial; Sussex Industrial Estate B is a Commercial; Voltas house is a Commercial; Dhobi Ghat is a Commercial; Dr. Babasaheb Ambedkar Memorial Central Railway Hospital is a Healthcare; Voltas Chinchpokli is a Commercial; Central Railway Officer's Quarters is a Residential; J KARIA INDUSTRIAL ESTATE BLDG NO 3 is a Industrial; Byculla Zoo Ticketing Counter is a Commercial; Piramal Mahalaxmi (u/c0 is a Landuse: Construction; Prestige Jasdan Classic is a Landuse: Construction; "
          ],
          [
           "Sinrai Toyota is a Commercial; Gala Foods is a Commercial; Niti General Store is a Commercial; Aryan Hospital and Icu is a Healthcare; Astha Nursing Home is a Healthcare; Samadhan Diagnostic Centre is a Healthcare; Thorel's Crape Myrtle is a Natural; Babassu Palm is a Natural; Garuga is a Natural; Bull's Heart is a Natural; Dhobi Nut is a Natural; Cashew Nut is a Natural; Jatropha is a Natural; Khirni is a Natural; Dwarf Magnolia is a Natural; Neddle is a Natural; Colville's Glory is a Natural; Toon is a Natural; Tejpata is a Natural; Muyna is a Natural; Kaushi is a Natural; Burmese Rosewood is a Natural; Jicaro is a Natural; Rose Of Venezuela is a Natural; Spotted Sterculia is a Natural; Mangosteen is a Natural; Sirish is a Natural; Dikemali is a Natural; Oil Palm is a Natural; Sand Paper Tree is a Natural; Singapor Cherry is a Natural; Indian Almond is a Natural; X-Mas Tree is a Natural; Lemon is a Natural; Badminton Ball Tree is a Natural; Bollywood is a Natural; Sapodilla is a Natural; Manila Tamarind is a Natural; Mabolo is a Natural; Palmyra Palm is a Natural; Behada is a Natural; Neem is a Natural; Chhota Taman is a Natural; Guest Tree is a Natural; Pomelo is a Natural; Tivar is a Natural; Agathis is a Natural; Katsagon is a Natural; Gaub is a Natural; Footstool Palm is a Natural; Fountain Tree is a Natural; Bakul is a Natural; Indian Rosewood is a Natural; Pinanga Palm is a Natural; Payar is a Natural; Lokhandi is a Natural; Nirphanas is a Natural; Parijatak is a Natural; Sultan Champa is a Natural; African Mahogani is a Natural; Indian Charcoal is a Natural; Narvel is a Natural; Fan Palm is a Natural; Indian Tulip is a Natural; Kanak Champa is a Natural; Scarlet Flame Bean is a Natural; Whistling Pine is a Natural; Bigleaf Mahogani is a Natural; Mysore Gamboge is a Natural; South Indian Mahua is a Natural; Monkey Apple is a Natural; Giripushpa is a Natural; Custard Apple is a Natural; The Burmese Pink Cassia is a Natural; Ambada is a Natural; Kaim is a Natural; Safed Chapha is a Natural; Saptaparni is a Natural; Indian Cork is a Natural; Canarium is a Natural; Balsam is a Natural; Malay Gooseberry is a Natural; Gorbale is a Natural; Cannonball is a Natural; Hard Alstonia is a Natural; Gulab Jamb is a Natural; Sabal Palm is a Natural; Guaiac is a Natural; Sonchapha is a Natural; Star Apple is a Natural; Teak Wood Tree is a Natural; Arjun is a Natural; Button Tree is a Natural; Nagkeshar is a Natural; Surangi is a Natural; Bael Tree is a Natural; Ban Nimbu is a Natural; Siamese Cassia is a Natural; Cocoa is a Natural; Varas is a Natural; Tamarind is a Natural; Tali Palm is a Natural; Red Chapha is a Natural; Ceylon Oak is a Natural; Nilgiri is a Natural; Chaste is a Natural; Divi Divi Tree is a Natural; Gunda is a Natural; Pink Trumpet is a Natural; Podocarpus is a Natural; Nux Vomica is a Natural; Pink Tecoma is a Natural; Heena is a Natural; Pride Of Burma is a Natural; Haldu is a Natural; Chalmogra is a Natural; Rohitak is a Natural; Wood Apple is a Natural; Digvijay Mills is a Industrial; Western India Spinning and Weaving Mills is a Industrial; India United Mills no.2-3 is a Industrial; New City of Bombay Mills is a Industrial; New Hind Mill Mhada Colony is a Residential; India United Mills no.5 is a Industrial; New Great Eastern Spinning and Weaving Mills is a Commercial; Veermata Jijabhai Bhosale Zoo & Botanical Garden is a Leisure & Entertainment; India United Mills no.4 is a Industrial; Shaheed Bhagat Singh Maidan is a Landuse: Recreation_ground; Batali Boy Ground is a Landuse: Recreation_ground; Heramb Darshan is a Residential; Sussex Industrial Estate A is a Commercial; Sussex Industrial Estate B is a Commercial; Rakab Tower is a Residential; Kapreshwar Krupa C.H.S. is a Residential; BEST Electric Substation is a Industrial; Voltas house is a Commercial; Nakoda Heights is a Residential; Voltas Chinchpokli is a Commercial; Central Railway Officer's Quarters is a Residential; Kala Chowky is a Residential; Abhyudaya Nagar is a Residential; Cotton Green Air Force Station is a Landuse: Military; Sewri Dockyard is a Industrial; Abhyudaya Nagar Municipal School is a Educational; Cafe Wild is a Commercial; Chaskar Chawl is a Residential; Piramal Aranya is a Residential; "
          ],
          [
           "arham is a Leisure & Entertainment; Cotton Green Air Force Station is a Landuse: Military; Sewri Dockyard is a Industrial; Darukhana is a Industrial; "
          ],
          [
           "Sewri Dockyard is a Industrial; Marine Engineering and Research Institute - Mumbai Port Campus is a Educational; "
          ],
          [
           "Navi Mumbai Special Economic Zone is a Industrial; "
          ],
          [
           "Navi Mumbai Special Economic Zone is a Industrial; Jio Institute is a Educational; "
          ],
          [
           "Navi Mumbai International Airport Project Office is a Commercial; NMIA New Project Office is a Commercial; Staff Canteen is a Commercial; "
          ],
          [
           "Pargaon Talaab is a Natural; "
          ],
          [
           "Pargaon Talaab is a Natural; "
          ],
          [
           "Kalundre River is a Natural; "
          ],
          [
           "Anand Mangal Maternity And Eye Clinic is a Healthcare; Nikam Parmer Hospital is a Healthcare; Akshay Eye Clinic is a Healthcare; Ingle Eye Clinic is a Healthcare; Panvel Hospital is a Healthcare; Ghanate Hospital Panvel is a Healthcare; Paramount Medical Services Pvt Ltd is a Healthcare; Ameya Clinic is a Healthcare; Patel Clinic is a Healthcare; Laxmi Eye Institute is a Healthcare; Aashirwad Ent Clinic is a Healthcare; Sulochan Eye Clinic is a Healthcare; Rural Hospital  Panvel is a Healthcare; Max Life Hospital is a Healthcare; Yash Hospital is a Healthcare; Government Rural Hospital is a Healthcare; Neo Clinic is a Healthcare; JEWEL OF PANVEL is a Residential; Krishna Lake is a Natural; Mahatma Gandhi Garden is a Leisure & Entertainment; Pancharatna Hotel is a Food & Drink; Kabrastan is a Landuse: Cemetery; Rupali Talkies is a Leisure & Entertainment; Adyakrantiveer Vasudev Balvant Phadke Auditorium is a Leisure & Entertainment; Panvel Municipal Corporation is a Commercial; Municipality ground is a Landuse: Recreation_ground; Hirwe Guruji Smarak is a Leisure & Entertainment; MCCH Society Ground is a Landuse: Recreation_ground; Istreal Talav is a Natural; Panvel Old Ragistrar Office is a Commercial; Saraswati Vidya Mandir is a Educational; Mahadeo saw mill is a Commercial; Bhau Korde & Co. is a Industrial; Muslim Burial Ground (Qabrastan) is a Landuse: Cemetery; Kalundre River is a Natural; "
          ],
          [
           "Barclays is a Commercial; Tata is a Commercial; Lal Bahadur Shastri Udyan is a Leisure & Entertainment; Nehru Planetarium is a Residential; Samudra Mahal is a Residential; Raheja Mahal is a Residential; Maa Hajjani Masjid and Dargah is a Residential; Madhuli is a Residential; Ceejay House is a Commercial; Poonam Chambers A Wing is a Commercial; Poonam Chambers B Wing is a Commercial; Atria Mall is a Commercial; Lotus Court is a Residential; Sarjan Plaza is a Commercial; Lotus House is a Residential; Shivsagar Estate A Block is a Commercial; Shivsagar Estate B Block is a Commercial; Shivsagar Estate C Block is a Commercial; Shivsagar Estate D Block is a Commercial; Nehru Planetarium Garden is a Leisure & Entertainment; Poonam Appartments - D wing is a Residential; Siddharth Nagar is a Residential; Jeejamata Nagar is a Residential; Zopadpatti is a Residential; Mumbai is a Natural; Eden Hall is a Residential; Happy Home and School for the Blind is a Educational; National Sports Club of India is a Leisure & Entertainment; Worli Dairy is a Industrial; Podar International School is a Residential; 80 is a Residential; Acharya Atre Chowk is a Landuse: Construction; Nehru Science Centre is a Leisure & Entertainment; Lotus G is a Residential; Mahalaxmi Racecourse is a Leisure & Entertainment; "
          ],
          [
           "Sunbeam Geeta is a Leisure & Entertainment; Reliance Communication - Customer Service Center is a Commercial; McDonald's is a Food & Drink; Cafe Coffee Day is a Food & Drink; Lifestyle is a Commercial; Tasting Room is a Food & Drink; Burger King is a Food & Drink; Palladium is a Commercial; Shim Graphics is a Leisure & Entertainment; SpiceKlub is a Food & Drink; California Pizza Kitchen is a Food & Drink; Radhakrishna Clinic. Dr Bina Pansare is a Healthcare; Consulate General of the Republic of Korea is a Commercial; [XYZ] Ragi Vala is a Commercial; Ipc Heart Care is a Healthcare; Aer Rooftop Bar is a Food & Drink; ASILO is a Food & Drink; Nirmal Clinic is a Healthcare; Firki is a Food & Drink; Riso is a Food & Drink; KASTURBA GANDHI MUNICIPAL SCHOOL is a Educational; Anand Niketan Hospital is a Healthcare; Print Evolution is a Commercial; Kraftex- Marathon is a Commercial; PVR Cinemas is a Leisure & Entertainment; KFC is a Food & Drink; Starbucks is a Food & Drink; Ecospaze by One Co.Work Mumbai Andheri is a Commercial; G5A is a Food & Drink; Masque is a Food & Drink; Mahalakshmi Industrial Estate is a Commercial; Sri Ram Mills Compound is a Commercial; Vodafone House is a Commercial; Jeejamata Nagar is a Residential; Zopadpatti is a Residential; High Street Phoenix is a Commercial; Raghuvanshi Mills is a Industrial; Piramal Mills is a Commercial; Sun Mills Compund is a Industrial; Parel EMU Workshop is a Industrial; Sang Infotech is a Commercial; Meeting room 1 is a Commercial; Unused space 1 is a Commercial; Unused space 2 is a Commercial; Pantry is a Commercial; Meeting room 2 is a Commercial; Work area 1 is a Commercial; office cabin is a Commercial; Work area 2 is a Commercial; Marathon NextGen Era is a Residential; Marathon Innova is a Commercial; The St. Regis Mumbai is a Leisure & Entertainment; Sitaram School is a Educational; Ganpatrao Kadam Marg BMC School is a Educational; Palais Royale is a Residential; Jodia Mansion is a Residential; Four Seasons Hotel is a Commercial; French International School of Mumbai is a Educational; Acharya Atre Chowk is a Landuse: Construction; Science Centre is a Landuse: Construction; Indiabulls Blu is a Residential; Nehru Science Centre is a Leisure & Entertainment; Mahalaxmi Sports Ground is a Leisure & Entertainment; Manyavar is a Commercial; Mahalaxmi Racecourse is a Leisure & Entertainment; "
          ],
          [
           "Shim Graphics is a Leisure & Entertainment; SpiceKlub is a Food & Drink; Radhakrishna Clinic. Dr Bina Pansare is a Healthcare; WRI India is a Commercial; NM Joshi Marg Police Station is a Government & Public Services; Dr Nerurkars Harish Nursing Home is a Healthcare; Sankalp Eye Care Centre is a Healthcare; Harish Nursing Home is a Healthcare; Firki is a Food & Drink; Riso is a Food & Drink; Mhaskar Hospital is a Healthcare; Ecospaze by One Co.Work Mumbai Andheri is a Commercial; Podar Mills is a Residential; Apollo Mills is a Industrial; Shriram Mills is a Residential; Western Railway Carriage Repair Workshop is a Industrial; Central Railway Loco Workshop - Parel is a Industrial; Digvijay Mills is a Industrial; Godrej Maidan is a Landuse: Recreation_ground; GaramKhada Maidan is a Leisure & Entertainment; Jam Mills is a Industrial; Mafatlal Mills no.3 is a Commercial; High Street Phoenix is a Commercial; India United Mills no.1 is a Industrial; Sun Mills Compund is a Industrial; Parel EMU Workshop is a Industrial; Sang Infotech is a Commercial; Meeting room 1 is a Commercial; Unused space 1 is a Commercial; Unused space 2 is a Commercial; Pantry is a Commercial; Meeting room 2 is a Commercial; Work area 1 is a Commercial; office cabin is a Commercial; Work area 2 is a Commercial; Playground is a Landuse: Recreation_ground; Peninsula Centre is a Commercial; Gundecha Gardens is a Residential; Avighna IX is a Residential; Centre Point is a Commercial; Sitaram School is a Educational; N.M. Joshi Marg Municipal Secondary School is a Educational; PES Maharashtra High School is a Educational; Talchekar Wadi Municipal School And Hall is a Educational; Piramal Chambers is a Commercial; Peninsula Ashok Towers is a Residential; Peninsula Business Park is a Commercial; French International School of Mumbai is a Educational; Cenral Railway Quarters RB II is a Residential; Mahalaxmi Sports Ground is a Leisure & Entertainment; Bharat Mata Cinema is a Leisure & Entertainment; Manyavar is a Commercial; "
          ],
          [
           "Kalpataru Habitat is a Residential; Sinrai Toyota is a Commercial; Global Hospital Super Speciality and Transplant Center is a Healthcare; Gala Foods is a Commercial; Niti General Store is a Commercial; Aryan Hospital and Icu is a Healthcare; Abhyudaya Nagar Dispensary is a Healthcare; Astha Nursing Home is a Healthcare; Samadhan Diagnostic Centre is a Healthcare; SarA;S wORLD is a Commercial; ITC Grand Central is a Leisure & Entertainment; Digvijay Mills is a Industrial; Western India Spinning and Weaving Mills is a Industrial; Finlay Mills is a Industrial; India United Mills no.2-3 is a Industrial; GaramKhada Maidan is a Leisure & Entertainment; India United Mills no.4 is a Industrial; Jam Mills is a Industrial; Mahatma Gandhi Memorial Hospital is a Healthcare; Shaheed Bhagat Singh Maidan is a Landuse: Recreation_ground; India United Mills no.1 is a Industrial; Valencia is a Commercial; Peninsula Centre is a Commercial; Vikas Finlay Towers is a Residential; Avighna IX is a Residential; Centre Point is a Commercial; Piramal Chambers is a Commercial; Peninsula Ashok Towers is a Residential; Kingston Towers is a Residential; Kala Chowky is a Residential; Abhyudaya Nagar is a Residential; Cotton Green Air Force Station is a Landuse: Military; Ashoka Gardens is a Residential; Kalpataru Avana is a Residential; Lodha Venezia is a Residential; Celestia Spaces is a Residential; Abhyudaya Nagar Municipal School is a Educational; Bharat Mata Cinema is a Leisure & Entertainment; "
          ],
          [
           "Diamond is a Leisure & Entertainment; Abhyudaya Nagar Dispensary is a Healthcare; SarA;S wORLD is a Commercial; Dosti Flamingos is a Residential; Falcon Crest is a Residential; Kingston Towers is a Residential; Kala Chowky is a Residential; Abhyudaya Nagar is a Residential; Cotton Green Air Force Station is a Landuse: Military; Sewri Dockyard is a Industrial; Ashoka Gardens is a Residential; MTHL Casting Yard is a Industrial; Ambedkar Nagar is a Residential; Celestia Spaces is a Residential; "
          ],
          [
           "Flamingo Point is a Leisure & Entertainment; Sewri Dockyard is a Industrial; MTHL Casting Yard is a Industrial; "
          ],
          [
           "Trombay Thermal Power Station is a Industrial; "
          ],
          [
           "Trombay Thermal Power Station is a Industrial; "
          ],
          [
           "Ambuja Cement is a Industrial; "
          ],
          [
           "Kalundre River is a Natural; "
          ],
          [
           "Kalundre River is a Natural; "
          ],
          [
           "Dr Ghodkes Sanjay Clinic is a Healthcare; Sudha Shankar Netralaya is a Healthcare; Sahasrabudhe Hospital and I.C.C.U is a Healthcare; Shri Swami Samarth Hospital is a Healthcare; Birmole Hospital is a Healthcare; Dr. Patil's Hospital is a Healthcare; Ghanate Hospital Panvel is a Healthcare; Dr. Oza's Hospital is a Healthcare; Dandekar Clinic is a Healthcare; Aashirwad Ent Clinic is a Healthcare; Rural Hospital  Panvel is a Healthcare; Dr. Kale Hospital is a Healthcare; Mhatre Accident Hospital is a Healthcare; Dr. Nadkarni Children's Hospital is a Healthcare; Prachin Healthcare is a Healthcare; Ballaleshwar Lake is a Natural; Mahatma Gandhi Garden is a Leisure & Entertainment; Hotel Peace Park is a Leisure & Entertainment; Vithoba Khandappa School is a Educational; Mahatma Jotiba Phule Auditorium is a Commercial; Panvel Municipal Corporation is a Commercial; Municipality ground is a Landuse: Recreation_ground; Panvel Old Ragistrar Office is a Commercial; Saraswati Vidya Mandir is a Educational; Kalundre River is a Natural; "
          ],
          [
           "Vivako is a Leisure & Entertainment; Peoples Mobile Hospitals is a Healthcare; Cafe Coffee Day is a Food & Drink; Bosco Nursing Home and Ent Research Centre is a Healthcare; CGHS Dispensary No.3  Worli is a Healthcare; ESIS Hospital WORLI is a Healthcare; Poddar Hospital is a Healthcare; Lal Bahadur Shastri Udyan is a Leisure & Entertainment; Gandhi Maidan is a Leisure & Entertainment; Siddharth Nagar is a Residential; Vastu is a Residential; Mumbai is a Natural; Worli Dairy is a Industrial; Silverene Terraces is a Residential; Podar International School is a Residential; Saker Apartments is a Residential; Buena Vista is a Residential; Ashish Wang is a Residential; Worli Police Station is a Government & Public Services; Adya Shankaracharya Garden is a Leisure & Entertainment; Urmi Apartments is a Residential; Bhagwan Gautam Buddha Udyan is a Leisure & Entertainment; Worli Naka Upper Primary Marathi School No.2 is a Educational; Acharya Atre Chowk is a Landuse: Construction; Om Ratan is a Residential; "
          ],
          [
           "Sunbeam Geeta is a Leisure & Entertainment; Vivako is a Leisure & Entertainment; Reliance Communication - Customer Service Center is a Commercial; Cafe Coffee Day is a Food & Drink; Matulya Centre is a Residential; Network 18 is a Commercial; Tata Consulting Engineers Limited is a Commercial; Ashford Group is a Commercial; Forbes India is a Commercial; Kamla Mills is a Commercial; Peninsula Corporate Park is a Commercial; Siemens Head Office  Worli is a Commercial; Domino's is a Food & Drink; Smash is a Leisure & Entertainment; Peoples Mobile Hospitals is a Healthcare; The Bombay Canteen is a Food & Drink; Consulate General of the Republic of Korea is a Commercial; Reliance Life Sciences Pvt. Ltd is a Healthcare; Bosco Nursing Home and Ent Research Centre is a Healthcare; Nirmal Clinic is a Healthcare; Lightbox VC is a Commercial; ESIS Hospital WORLI is a Healthcare; Poddar Hospital is a Healthcare; Print Evolution is a Commercial; Kraftex- Marathon is a Commercial; Banana leaf is a Food & Drink; IKEA is a Commercial; Lord of the Drinks is a Food & Drink; Mahalakshmi Industrial Estate is a Commercial; Sri Ram Mills Compound is a Commercial; Trade View is a Commercial; Gandhi Maidan is a Leisure & Entertainment; Vodafone House is a Commercial; Siddharth Nagar is a Residential; Matulya Mills is a Residential; Piramal Mills is a Commercial; Madhusudhan Mills is a Industrial; Victoria Mills is a Commercial; Lodha Park is a Residential; Century Mills is a Industrial; Bombay Dyeing is a Industrial; Udyog Bhavan is a Commercial; Neelam Centre is a Commercial; Marathon NextGen Era is a Residential; Marathon Innova is a Commercial; Worli Police Station is a Government & Public Services; Maratha High School is a Educational; Ganpatrao Kadam Marg BMC School is a Educational; Palais Royale is a Residential; Passport Seva Kendra is a Commercial; World Crest is a Residential; Jodia Mansion is a Residential; Mahalakshmi SRA is a Residential; Brady Gladys Plaza is a Commercial; Matoshree Ramabai Thackrey Udyan is a Leisure & Entertainment; Peninsula Business Park is a Commercial; the world one is a Residential; World View is a Residential; Omkar 1973 is a Residential; Linear Park by Lodha is a Leisure & Entertainment; Lodha Trump Tower is a Residential; Acharya Atre Chowk is a Landuse: Construction; Lodha World is a Residential; Lodha Marquise is a Residential; Birla Centurion is a Commercial; Lotus Enpar 101 Residency is a Residential; Indiabulls Blu is a Residential; Adfactors PR is a Commercial; "
          ],
          [
           "Matulya Centre is a Residential; Network 18 is a Commercial; Tata Consulting Engineers Limited is a Commercial; Ashford Group is a Commercial; Forbes India is a Commercial; Kamla Mills is a Commercial; Peninsula Corporate Park is a Commercial; Shiro is a Leisure & Entertainment; Hard Rock Café is a Food & Drink; Blue Frog is a Leisure & Entertainment; Bloomberg is a Commercial; The Bombay Canteen is a Food & Drink; Delhi Highway is a Food & Drink; Bombay Dyeing is a Commercial; Lightbox VC is a Commercial; Kamaladevi Gobindram Tahiliani High School is a Educational; Elphinstone Road Traffic Police Chowki is a Government & Public Services; Banana leaf is a Food & Drink; IKEA is a Commercial; Lord of the Drinks is a Food & Drink; Trade View is a Commercial; Central Railway Sports Association is a Landuse: Recreation_ground; Western Railway Carriage Repair Workshop is a Industrial; Central Railway Loco Workshop - Parel is a Industrial; Matulya Mills is a Residential; Piramal Mills is a Commercial; Madhusudhan Mills is a Industrial; Victoria Mills is a Commercial; Lodha Park is a Residential; Bombay Dyeing is a Industrial; India United Mills no.1 is a Industrial; Parel EMU Workshop is a Industrial; Axis Bank is a Commercial; Wadia International Centre is a Commercial; BMC G South Ward Office is a Commercial; F-2 is a Residential; F-1 is a Residential; F-3 is a Residential; Maru Hospital is a Healthcare; Royal Palace is a Residential; Talchekar Wadi Municipal School And Hall is a Educational; Padmavati Darshan is a Residential; Shree Sadguru Darshan is a Residential; Deepak Talkies is a Leisure & Entertainment; Shreeram Sadan is a Residential; Bhavanimata CHS is a Residential; Siddhi Sadan CHS is a Residential; Lodha Allura is a Residential; Passport Seva Kendra is a Commercial; World Crest is a Residential; Jodia Mansion is a Residential; RB-1 is a Residential; Brady Gladys Plaza is a Commercial; Matoshree Ramabai Thackrey Udyan is a Leisure & Entertainment; Peninsula Business Park is a Commercial; Awfis is a Commercial; the world one is a Residential; World View is a Residential; Indiabulls Tower is a Commercial; One Indiabulls Centre is a Commercial; Indiabulls Sky Suites is a Landuse: Construction; Linear Park by Lodha is a Leisure & Entertainment; Lodha Trump Tower is a Residential; Lodha Kiara is a Residential; Lodha World is a Residential; Lodha Marquise is a Residential; Lotus Enpar 101 Residency is a Residential; Cenral Railway Quarters RB III is a Residential; Lakshmi Cottage is a Residential; Central Railway Primary Education School is a Educational; Railway Ground is a Leisure & Entertainment; Central Railway RB II is a Residential; Cenral Railway Quarters RB II is a Residential; Orbit Plaza is a Residential; Globe Mill Passage Municipal School is a Educational; Holy Cross High School is a Educational; Social Service League High School is a Educational; Elphinstone Road Municipal School is a Educational; Tanishq Wisteria is a Residential; jangam house is a Residential; Muktangan School is a Educational; Falcon Castle is a Residential; Adfactors PR is a Commercial; V. L. TVS Service and Parts is a Commercial; Mumbai Public School is a Educational; Cross Building is a Residential; Mauli Sadan (Vani Chaal) is a Residential; "
          ],
          [
           "Hotel Shantidoot is a Leisure & Entertainment; Kalpataru Habitat is a Residential; Global Hospital Super Speciality and Transplant Center is a Healthcare; Monolithic Bas Relief Depicting Shiva is a Natural; Dr Chetan Shetty- Birth & Beyond Clinic Clinic is a Healthcare; Tata Memorial Hospital is a Healthcare; K B Haji Bachooali Charitable Ophthalmic and E N T H is a Healthcare; Parel Institute Of Orthopaedic Specialities is a Healthcare; ITC Grand Central is a Leisure & Entertainment; Nare Park is a Leisure & Entertainment; Central Railway Sports Association is a Landuse: Recreation_ground; Central Railway Loco Workshop - Parel is a Industrial; St. Pauls Convent is a Educational; Pearl Co-operative Houseing Society is a Residential; Tata Mills is a Industrial; Mahatma Gandhi Memorial Hospital is a Healthcare; King Edward Memorial Hospital is a Healthcare; St Xavier's Football Ground is a Leisure & Entertainment; Tata Memorial Cancer Hospital is a Healthcare; India United Mills no.1 is a Industrial; Haffkine Institute is a Healthcare; Valencia is a Commercial; F-2 is a Residential; F-1 is a Residential; F-3 is a Residential; Maru Hospital is a Healthcare; RB-1 is a Residential; Navbharat School is a Educational; Falcon Crest is a Residential; K B H B Charitable Ophthalmic and E.N.T Hospital is a Healthcare; Peninsula Ashok Towers is a Residential; Nowrosjee Wadia Maternity Hospital is a Healthcare; Baradevi Municipal School is a Educational; Damodar Natyagruha is a Leisure & Entertainment; Bhoiwada Court is a Government & Public Services; Local Park is a Leisure & Entertainment; Lodha Primo is a Residential; Kalpataru Avana is a Residential; Cenral Railway Quarters RB III is a Residential; Lakshmi Cottage is a Residential; Central Railway Primary Education School is a Educational; Railway Ground is a Leisure & Entertainment; Central Railway RB II is a Residential; Cenral Railway Quarters RB II is a Residential; JBCN International School is a Educational; Dosti Belleza is a Residential; Social Service League High School is a Educational; V. L. TVS Service and Parts is a Commercial; Mumbai Public School is a Educational; Mauli Sadan (Vani Chaal) is a Residential; "
          ],
          [
           "Monolithic Bas Relief Depicting Shiva is a Natural; Asmi Arthroscopy and Sports Medicine Institute is a Healthcare; Dr. Khatri's Hina Clinic is a Healthcare; Matoshree Clinic is a Healthcare; Dr. Tabassum Clinic is a Healthcare; Simeen Clinic is a Healthcare; Sewree Christian Cemetery is a Landuse: Cemetery; Haffkine Institute is a Healthcare; Dosti Flamingos is a Residential; Falcon Crest is a Residential; Wadala Yard is a Landuse: Railway; Sewri Dockyard is a Industrial; Crescent Bay is a Residential; Ambedkar Nagar is a Residential; Baradevi Municipal School is a Educational; Dnyaneshwar Vidyalay is a Educational; Joggers Park is a Leisure & Entertainment; Local Park is a Leisure & Entertainment; JBCN International School is a Educational; Dosti Belleza is a Residential; Municipal TB Hospital is a Healthcare; "
          ],
          [
           "Flamingo Point is a Leisure & Entertainment; Wadala Yard is a Landuse: Railway; Sewri Dockyard is a Industrial; MTHL Casting Yard is a Industrial; Sewri Fort is a Leisure & Entertainment; SITE is a Industrial; "
          ],
          [
           "Mumbai Refinery Mahul is a Industrial; Trombay Thermal Power Station is a Industrial; "
          ],
          [
           "Mumbai Refinery Mahul is a Industrial; Mumbai Refinery is a Industrial; Trombay Thermal Power Station is a Industrial; "
          ],
          [
           "Mumbai Refinery is a Industrial; Trombay Thermal Power Station is a Industrial; "
          ],
          [
           "Bhabha Atomic Research Centre - BARC is a Industrial; "
          ],
          [
           "Karave Beach is a Natural; "
          ],
          [
           "Entrance Point to Park is a Leisure & Entertainment; Shop 1 is a Commercial; Shop 2  3  4  5 is a Commercial; Shop 6  7  is a Commercial; Doctor's Clinic is a Healthcare; Christmas Tree 1 is a Natural; Bonsai Tree is a Natural; Club Restaurant is a Food & Drink; Christmas Tree 2 is a Natural; Seawoods Estates Administrative Office is a Commercial; Basketball Court is a Leisure & Entertainment; Volleyball Court is a Leisure & Entertainment; Squash Court is a Leisure & Entertainment; Fireworks Store is a Commercial; Turn Mirror is a Leisure & Entertainment; Children's Playground is a Leisure & Entertainment; Kid's Play Area is a Leisure & Entertainment; Entrance is a Leisure & Entertainment; Water Well is a Commercial; The Seawoods Esates Club Lawn Park is a Leisure & Entertainment; Seawoods Estates Club Swimming Pool is a Leisure & Entertainment; Seawoods Estates Skating Park is a Leisure & Entertainment; Seawoods Estates Main Lawn / Park is a Landuse: Recreation_ground; Seawoods Estates Lawn 3 Water Fountain is a Natural; Seawoods Estates - Nana Nani Park is a Leisure & Entertainment; Triangle Park Near Rotunda is a Leisure & Entertainment; Lawn 1 - Semi Circle Water Fountain is a Natural; Common Park is a Leisure & Entertainment; Common Park 2 is a Leisure & Entertainment; Bamboo Park is a Leisure & Entertainment; Phase 2 Swimming Pool is a Natural; Park is a Leisure & Entertainment; Triangle Park is a Leisure & Entertainment; Bonsai Park is a Leisure & Entertainment; Flower Park is a Leisure & Entertainment; Delhi Public School - Nerul is a Educational; DPS Lake is a Natural; Seawoods NRI Complex is a Residential; Seawoods Estates Rotunda is a Leisure & Entertainment; Seawoods Estates Telecom Office is a Commercial; Seawoods Estates Guest House is a Leisure & Entertainment; Building 18 playground is a Leisure & Entertainment; NRI Lake is a Natural; "
          ],
          [
           "Christmas Tree 1 is a Natural; Bonsai Tree is a Natural; Christmas Tree 2 is a Natural; Basketball Court is a Leisure & Entertainment; Volleyball Court is a Leisure & Entertainment; Kid's Play Area is a Leisure & Entertainment; Entrance is a Leisure & Entertainment; Flamingo Point is a Leisure & Entertainment; CIDCO Guest House is a Leisure & Entertainment; Seawoods Estates Lawn 3 Water Fountain is a Natural; Triangle Park Near Rotunda is a Leisure & Entertainment; Lawn 1 - Semi Circle Water Fountain is a Natural; Triangle Park is a Leisure & Entertainment; Bonsai Park is a Leisure & Entertainment; Seawoods Mangroves is a Natural; Delhi Public School - Nerul is a Educational; DPS Lake is a Natural; Seawoods NRI Complex is a Residential; Seawoods Estates Rotunda is a Leisure & Entertainment; Building 18 playground is a Leisure & Entertainment; "
          ],
          [
           "Sai Radiance is a Residential; Belle Vista CHS is a Residential; Sailors' Cafe is a Food & Drink; Satnam Chemist & Druggist is a Healthcare; Cessna Lifeline Veterinary Hospital is a Healthcare; Israni Towers is a Residential; Coffee By Di Bella Belapur is a Food & Drink; Lakhani's Centrium is a Commercial; Bong Adda is a Food & Drink; Belapur Court is a Government & Public Services; Progressive Sea Lounge is a Residential; Suncoast Cooperative Housing Society is a Residential; Panvel Creek is a Natural; CIDCO Guest House is a Leisure & Entertainment; Kille Pond is a Natural; N.R.I Coastal Police Station is a Government & Public Services; Navi Mumbai Civil & Criminal Court is a Government & Public Services; D.Y Patil School of Biotech is a Educational; Mangrove Park is a Leisure & Entertainment; "
          ],
          [
           "Panvel Creek is a Natural; NMMC School is a Educational; "
          ],
          [
           "Panvel Creek is a Natural; "
          ],
          [
           "Vaghivali is a Residential; "
          ],
          [
           "Kalundre River is a Natural; "
          ],
          [
           "Kalundre River is a Natural; "
          ],
          [
           "AIKTC ARKP courtyard is a Leisure & Entertainment; Kalundre River is a Natural; "
          ],
          [
           "Watermelon stalls is a Food & Drink; shivaji maket is a Commercial; Birmole Hospital is a Healthcare; Dr. Patil's Hospital is a Healthcare; Thombare Hospital is a Healthcare; Prachin Healthcare is a Healthcare; Padalkar Hospital & SICU is a Healthcare; Venkat\"s manthra is a Food & Drink; Hotel Peace Park is a Leisure & Entertainment; AIKTC ARKP courtyard is a Leisure & Entertainment; Cricket ground is a Leisure & Entertainment; Panvel Suburban Terminus is a Landuse: Railway; "
          ],
          [
           "Hilltop is a Leisure & Entertainment; Blind service asociation is a Commercial; Worli Seaface Municipal School is a Educational; Mango is a Natural; INS Trata is a Landuse: Military; Worli BEST Bus Depot is a Industrial; Mumbai is a Natural; Silverene Terraces is a Residential; Greenlawns School Worli is a Educational; Bhagvan Mahavir Garden is a Leisure & Entertainment; Adya Shankaracharya Garden is a Leisure & Entertainment; Worli Police Ground is a Leisure & Entertainment; Urmi Apartments is a Residential; Bhagwan Gautam Buddha Udyan is a Leisure & Entertainment; Worli Naka Upper Primary Marathi School No.2 is a Educational; Worli Seaface BMC High School is a Educational; Sasmira Institute is a Landuse: Education; Western Headquarters  Indian Coast Guard is a Landuse: Military; "
          ],
          [
           "Hilltop is a Leisure & Entertainment; Chemist is a Healthcare; Siemens Head Office  Worli is a Commercial; Blind service asociation is a Commercial; Domino's is a Food & Drink; Peoples Mobile Hospitals is a Healthcare; Asha Surgical and Maternity Home is a Healthcare; Reliance Life Sciences Pvt. Ltd is a Healthcare; Worli Hospital For Women is a Healthcare; Varad Medical Centre is a Healthcare; Birdy's Bakery and Patisserie is a Commercial; The Learning Curve Worli is a Educational; Sunrise Play School is a Educational; BMC Hospital is a Healthcare; Mandala Food is a Food & Drink; Mango is a Natural; Tata Motors - Puneet Automobiles Pvt Ltd is a Commercial; Prabhadevi Municipal School is a Educational; Sasmira's Institute of Management Studies and Research is a Educational; Sasmira's Institute of Man-made Textiles is a Educational; Reliance Digital is a Commercial; MG Hector Showroom is a Commercial; Australia and New Zealand Bank is a Commercial; Transform Gym is a Leisure & Entertainment; Cafe Waah Maratha is a Food & Drink; Croma is a Commercial; Starbucks is a Food & Drink; INS Trata is a Landuse: Military; Worli BEST Bus Depot is a Industrial; Madhusudhan Mills is a Industrial; Victoria Mills is a Commercial; Century Mills is a Industrial; Bombay Dyeing is a Industrial; Mumbai is a Natural; Udyog Bhavan is a Commercial; Neelam Centre is a Commercial; RNA is a Residential; Adrash Nagar Park is a Leisure & Entertainment; Tower A is a Residential; Beaumonde Towers is a Residential; D Y Patil International School is a Educational; Vaibhav Apartments is a Residential; Krypton Tower is a Residential; The Enclave is a Residential; Suyash Apartment is a Residential; Sukhsagar CHS is a Residential; sairam is a Residential; Pawanchaya is a Residential; Suyash CHS is a Residential; HSBC Cnergy Building is a Commercial; ICICI Venture is a Commercial; Greenlawns School Worli is a Educational; Sacred Heart High School is a Educational; The NAB Workshop For The Blind is a Educational; Century Bhavan is a Commercial; Sai Sadan CHS is a Residential; Ahuja Towers is a Residential; Lloyds Garden is a Residential; Marathe Udyog Bhavan is a Commercial; Siddhi Prabha CHS is a Residential; Standard Prabha CHS is a Residential; Goldman Sachs is a Commercial; Babasaheb Worlikar Fire Station is a Government & Public Services; Orbit Plaza is a Commercial; Mahalakshmi SRA is a Residential; Bhagvan Mahavir Garden is a Leisure & Entertainment; Adya Shankaracharya Garden is a Leisure & Entertainment; Omkar 1973 is a Residential; Worli Police Ground is a Leisure & Entertainment; Three Sixty West is a Residential; Century Mill Mhada Building is a Residential; Birla Centurion is a Commercial; Classique Heights is a Residential; Chaitanya Towers is a Residential; Rajabhau Salvi Udyaan is a Leisure & Entertainment; Mangal Murti is a Residential; Ketki Maidan is a Landuse: Recreation_ground; Prithvi Emperor is a Residential; Worli Seaface BMC High School is a Educational; Sasmira Institute is a Landuse: Education; Tower C is a Residential; Tower B is a Residential; Kamgar Nagar is a Residential; Central Ground is a Leisure & Entertainment; Gopchar Building is a Residential; Kandewadi Smashanbhoomi is a Landuse: Cemetery; Prabhadevi Municipal Primary School is a Educational; Ganesh Krupa is a Residential; Janata High School is a Educational; "
          ],
          [
           "Shiro is a Leisure & Entertainment; Hard Rock Café is a Food & Drink; Bloomberg is a Commercial; CYCLOCRAFT is a Commercial; Asha Surgical and Maternity Home is a Healthcare; Siddivinayak Healthcare Pvt Ltd is a Healthcare; Punamiya Hospital  Mumbai is a Healthcare; Shri Siddhivinayak Nursing Home is a Healthcare; Dr.Palep's Priyank Maternity Nursing Home is a Healthcare; Dev Nursing Home is a Healthcare; Varad Medical Centre is a Healthcare; Bombay Dyeing is a Commercial; The Lab is a Food & Drink; Birdy's Bakery and Patisserie is a Commercial; Kamaladevi Gobindram Tahiliani High School is a Educational; ABA College of Law is a Educational; Gorai Naka Nalasopara Zoya Hospital is a Healthcare; Laxmi Niwas General Hospital is a Healthcare; Punamiya Hospital is a Healthcare; Consulate General of Canada is a Commercial; Tata Motors - Puneet Automobiles Pvt Ltd is a Commercial; McDonald's is a Food & Drink; Domino's is a Food & Drink; Chintamanis is a Commercial; Titan Eyeplus is a Commercial; Prabhadevi Municipal School is a Educational; AnyTime Fitness is a Leisure & Entertainment; Reliance Digital is a Commercial; MG Hector Showroom is a Commercial; Australia and New Zealand Bank is a Commercial; Transform Gym is a Leisure & Entertainment; Elphinstone Road Traffic Police Chowki is a Government & Public Services; Railway Booking office is a Commercial; P. L. Deshpande Maharashtra Kala Academy is a Leisure & Entertainment; Arsh Hyundai is a Commercial; Western Railway Carriage Repair Workshop is a Industrial; Central Railway Loco Workshop - Parel is a Industrial; Tata Mills is a Industrial; Victoria Mills is a Commercial; Lodha Park is a Residential; Century Mills is a Industrial; Bombay Dyeing is a Industrial; Rustomjee Crown is a Residential; Indiabulls Finance Centre is a Commercial; Kamgar Stadium is a Leisure & Entertainment; MSRTC Depot - Parel is a Landuse: Garages; Tower A is a Residential; Beaumonde Towers is a Residential; Ravindra Natya Mandir is a Leisure & Entertainment; Siddhivinayak Temple is a Landuse: Religious; Convent Girl's High School is a Educational; Maharashtra High School Number 2 is a Educational; Axis Bank is a Commercial; Wadia International Centre is a Commercial; Krypton Tower is a Residential; The Enclave is a Residential; Suyash Apartment is a Residential; Sukhsagar CHS is a Residential; sairam is a Residential; Pawanchaya is a Residential; Suyash CHS is a Residential; HSBC Cnergy Building is a Commercial; ICICI Venture is a Commercial; BMC G South Ward Office is a Commercial; Stephen High School For The Hearing Handicapped is a Educational; Royal Palace is a Residential; Dadar Police Station is a Government & Public Services; Prabhadevi Industrial Estate is a Commercial; Kohinoor Building is a Leisure & Entertainment; Gandhar Towers is a Residential; Gokhale Road Municipal School is a Educational; Motilal Oswal Towers is a Commercial; Utkarsh Building is a Residential; Sai Sadan CHS is a Residential; Padmavati Darshan is a Residential; Shree Sadguru Darshan is a Residential; Deepak Talkies is a Leisure & Entertainment; Shreeram Sadan is a Residential; Bhavanimata CHS is a Residential; Siddhi Sadan CHS is a Residential; Ahuja Towers is a Residential; Lloyds Garden is a Residential; Pearl Residency is a Residential; Marathe Udyog Bhavan is a Commercial; Siddhi Prabha CHS is a Residential; Standard Prabha CHS is a Residential; Goldman Sachs is a Commercial; Orbit Plaza is a Commercial; Sumer Towers is a Residential; Indiabulls Tower is a Commercial; One Indiabulls Centre is a Commercial; Indiabulls Sky Suites is a Landuse: Construction; Century Mill Mhada Building is a Residential; Lodha Grandeur is a Residential; Tower B is a Residential; Tower C is a Residential; MHADA is a Residential; Central Railway RB II is a Residential; Classique Heights is a Residential; Chaitanya Towers is a Residential; Rajabhau Salvi Udyaan is a Leisure & Entertainment; Saamna Press is a Commercial; Mangal Murti is a Residential; Ketki Maidan is a Landuse: Recreation_ground; Datta Raul Maidan is a Landuse: Recreation_ground; Prithvi Emperor is a Residential; Orbit Plaza is a Residential; Globe Mill Passage Municipal School is a Educational; Holy Cross High School is a Educational; Elphinstone Road Municipal School is a Educational; Tanishq Wisteria is a Residential; Sayani Road Municipal School is a Educational; Rachana Sansad's Academy Of Architecture is a Educational; jangam house is a Residential; Kamgar Nagar is a Residential; Muktangan School is a Educational; Falcon Castle is a Residential; Sunshine Tower is a Commercial; Prabhadevi Municipal Primary School is a Educational; Ganesh Krupa is a Residential; Cross Building is a Residential; "
          ],
          [
           "Hotel Shantidoot is a Leisure & Entertainment; Bharatkshetra Saree shop is a Natural; Kohinoor is a Commercial; Dr. Karmarkar Hospital is a Healthcare; Suprabha Surgicare is a Healthcare; Nerkar Surgical Clinic is a Healthcare; G S B S Medical Trust is a Healthcare; Dr. Mahaveer Jangada Clinic  Dadar is a Healthcare; Padmashali Yuvak Sangh Pre-Primary School is a Educational; Kranti Singh Nana Patil Vidyalaya is a Educational; Bengali Education Society School is a Educational; Gorai Naka Nalasopara Zoya Hospital is a Healthcare; Ashvini Nursing Home is a Healthcare; Shirdi Industries Ltd. is a Commercial; Consulate General of Canada is a Commercial; Rajshree Yoga - Weight & Health Centre is a Leisure & Entertainment; Naigaon Municipal Maternity Home is a Healthcare; Guru Nank English High School is a Educational; Bengali Education Society Junior College is a Educational; Railway Booking office is a Commercial; SK International is a Commercial; Purandare Park is a Landuse: Recreation_ground; St. Pauls Convent is a Educational; Pearl Co-operative Houseing Society is a Residential; Dadar (Western Railways) is a Landuse: Railway; Dadar (Central Railways) is a Landuse: Railway; Kohinoor Mills no.1-2 is a Industrial; Gold Mohur Mills is a Industrial; Tata Mills is a Industrial; Indiabulls Finance Centre is a Commercial; Kamgar Stadium is a Leisure & Entertainment; Police Parade is a Landuse: Recreation_ground; Chitra Cinema is a Leisure & Entertainment; St Xavier's Football Ground is a Leisure & Entertainment; Tata Memorial Cancer Hospital is a Healthcare; Dadar Fire Brigade is a Government & Public Services; Mumbai Marathi Grantha Sangrahalaya is a Educational; Shri Hari Building is a Residential; Trishla Co-Op Housing Society is a Residential; Loukik Co-Op Housing Soc is a Residential; Ranjit Sudio is a Commercial; Navin Asha Co-op Housing Soc is a Residential; Navbharat School is a Educational; Dr. D.B.Kulkarni Vidhyalay is a Educational; Suleman Manzil is a Residential; Wilson Building is a Residential; Nowrosjee Wadia Maternity Hospital is a Healthcare; Damodar Natyagruha is a Leisure & Entertainment; Bhoiwada Court is a Government & Public Services; Dadar Avanti is a Residential; Central Railway RB II is a Residential; Omkar Education Sangh is a Educational; Sunshine Tower is a Commercial; SHINDEWADI  GROUND is a Leisure & Entertainment; "
          ],
          [
           "Rajendra Clinic is a Healthcare; Dnayneshwar Vidyalaya is a Educational; Dr. Karmarkar Hospital is a Healthcare; Suprabha Surgicare is a Healthcare; Shobha Maternity and Surgical Home is a Healthcare; Kidwai Nagr health Post & Dispensary is a Healthcare; Kranti Singh Nana Patil Vidyalaya is a Educational; Bengali Education Society School is a Educational; Serra International Pre-school is a Educational; Dr. Khatri's Hina Clinic is a Healthcare; Matoshree Clinic is a Healthcare; Junaid Clinic is a Healthcare; Supraja Clinic is a Healthcare; Simeen Clinic is a Healthcare; Naigaon Municipal Maternity Home is a Healthcare; Guru Nank English High School is a Educational; Bengali Education Society Junior College is a Educational; Sewree Christian Cemetery is a Landuse: Cemetery; Purandare Park is a Landuse: Recreation_ground; Dr.Ambedkar College is a Educational; Kohinoor Mills no.1-2 is a Industrial; Dadar Workshop is a Industrial; Police Parade is a Landuse: Recreation_ground; Wadia Park is a Landuse: Recreation_ground; Bliss Building (Mistry Building) is a Residential; Boaville is a Residential; Shree Ram Bhavan is a Residential; Ujjala Apartments is a Residential; Shree Bhuvan is a Residential; Ahura is a Residential; Blossom is a Residential; Shirin Villa is a Residential; Rekha Sadan (Peshotan Villa) is a Residential; Yezerina II is a Residential; Jashan Committee Building is a Residential; Grande Vista is a Residential; Dhanmai P Polson Building is a Residential; Parishram is a Residential; Yazarina III is a Residential; The Dilkhush is a Residential; Rustom Villa CHS Ltd is a Residential; Dr Jal Vakil Building is a Residential; Meher Villa is a Residential; Shri Nivas CHS is a Residential; Hormazd is a Residential; Ratanbai Katpitia Building is a Residential; Garden View Apartments is a Residential; Dinshaw House is a Residential; Laxmi Niwas is a Residential; Pearl Aurelia is a Residential; Tulip Building is a Residential; Vaidya Villa is a Residential; Sona Villa is a Residential; Batliwala Building is a Residential; Chandra Villa is a Residential; Kanti Villa is a Residential; Meher is a Residential; Sant Smruti is a Residential; Patel Mansion is a Residential; Bachubai Manekji Bharucha Building is a Residential; Shapurji Sorabji Mistry Block is a Residential; Nirant is a Residential; Anand Bhavan CHSL is a Residential; Krupa is a Residential; Pearl Crest (Homi Villa) is a Residential; Akruti Laxmi is a Residential; Krishna Nivas is a Residential; Umrigar Building is a Residential; Meherbai D Wadia Building is a Residential; Sarosh Court is a Residential; Tuljaram Bhuvan is a Residential; Samarth Prasad is a Residential; Kamtekar House is a Residential; Arihant is a Residential; Shreeram Bhuvan is a Residential; Banoo House is a Residential; Ornate Galaxy is a Residential; Vimal Smruti is a Residential; Anupam is a Residential; Naval House is a Residential; Tel Rasayan Bhavan is a Residential; Radha Niwas is a Residential; Asha House is a Residential; Hotel City Point is a Leisure & Entertainment; Engineer Building / South Fork Building is a Residential; Mistry Building is a Residential; Auxilium Convent School is a Educational; Dadar Fire Brigade is a Government & Public Services; Mumbai Marathi Grantha Sangrahalaya is a Educational; Wadala BEST Bus Depot is a Industrial; BEST Electricity Customer care is a Commercial; Jagdish Bhavan is a Residential; 8 is a Residential; Dr. D.B.Kulkarni Vidhyalay is a Educational; Jamé Jamshed Building is a Residential; Jain Mahavir Building is a Residential; Jame Jamshed Building is a Residential; Wadala High Primary Mahapalika Urdu School  is a Educational; Ishardas Varadmal CHS Ltd is a Residential; Springs Tower is a Residential; Wadala Yard is a Landuse: Railway; Dnyaneshwar Vidyalay is a Educational; Hanuman Chawl 1 is a Residential; Island City Centre (ICC) is a Residential; One ICC is a Residential; Two ICC is a Residential; Hanuman Chawl 2 is a Residential; Choksi Building is a Residential; Yazarina I is a Residential; Ratan Jyoti is a Residential; Dadar Parsi Colony is a Residential; Deep Mala is a Residential; Baliwala Building is a Residential; Dhanjibhai Fakirji Commodore Block is a Residential; Aimaye Manzil is a Residential; Municipal TB Hospital is a Healthcare; Wadala Telephone Exchange (MTNL) is a Commercial; "
          ],
          [
           "Shobha Maternity and Surgical Home is a Healthcare; Advani Dental Care is a Healthcare; BPT Hospital is a Healthcare; Jain Mahavir Building is a Residential; Wadala High Primary Mahapalika Urdu School  is a Educational; Wadala Yard is a Landuse: Railway; SITE is a Industrial; "
          ],
          [
           "track is a Residential; Mumbai Refinery Mahul is a Industrial; NAVAL KG School  TS MAHUL is a Educational; "
          ],
          [
           "Mumbai Refinery Mahul is a Industrial; Mumbai Refinery is a Industrial; "
          ],
          [
           "Mumbai Refinery is a Industrial; "
          ],
          [
           "Bhabha Atomic Research Centre - BARC is a Industrial; "
          ],
          [
           "Bhabha Atomic Research Centre - BARC is a Industrial; "
          ],
          [
           "T.S. Chanakya Maritime University is a Educational; T.S. Chanakya Lake is a Natural; Sector-44A is a Residential; Sector-36 is a Residential; Gaondevi Ground is a Leisure & Entertainment; Karave Beach is a Natural; NRI Lake is a Natural; "
          ],
          [
           "Shop 1 is a Commercial; Shop 2  3  4  5 is a Commercial; Shop 6  7  is a Commercial; Doctor's Clinic is a Healthcare; Turn Mirror is a Leisure & Entertainment; Children's Playground is a Leisure & Entertainment; Entrance is a Leisure & Entertainment; Water Well is a Commercial; Navratna Veg Restaurant - Seawoods is a Food & Drink; More Supermarket - Seawoods is a Commercial; Daily Needs - Seawoods is a Commercial; Gaurav High School & Jr. College is a Educational; Palmleaves Restaurant & Bar is a Food & Drink; Malvan Tadka is a Food & Drink; Shree Asthavinayak CHS is a Residential; Ashwini Nursing Home is a Healthcare; I Love Seawoods is a Leisure & Entertainment; Subway is a Food & Drink; big bazar is a Commercial; Balaji Bhavan CHS Ltd is a Residential; Innovative Palace is a Residential; Sheetal Kunj is a Residential; Niwara Residency is a Residential; Sadguru Heritage is a Residential; Seawoods Hospital is a Healthcare; Sector-48 Post Office is a Government & Public Services; BPCL CHS is a Residential; Adarsh Market is a Commercial; Satyam Heights is a Residential; Zenieth Tower is a Residential; Tejas Apartment is a Residential; Phase 2 Swimming Pool is a Natural; Park is a Leisure & Entertainment; NMMC Park is a Leisure & Entertainment; Seawoods Theme Park is a Leisure & Entertainment; Sector-48 Ground is a Leisure & Entertainment; D.A.V Public School - Nerul is a Educational; Sant Dnyaneshwar Mauli Park is a Leisure & Entertainment; Seawoods Mangroves is a Natural; Savla Hospital is a Healthcare; NMMC Playground is a Leisure & Entertainment; Karave Smashan Bhoomi is a Landuse: Cemetery; Don Bosco School - Nerul is a Educational; S.S High School & RV Patel Degree College is a Educational; Delhi Public School - Nerul is a Educational; Rajiv Gandhi Park is a Leisure & Entertainment; Podar International School is a Educational; Gaimukh Chowk Police Station is a Government & Public Services; T.S. Chanakya Maritime University is a Educational; T.S. Chanakya Lake is a Natural; Krantisinha Nana Patil Park is a Leisure & Entertainment; Sector-42A is a Residential; Sector-44 is a Residential; Sector-44A is a Residential; Sector-38 is a Residential; Sector-36 is a Residential; Sector-48A is a Residential; Sector-50(W) is a Residential; Gaondevi Ground is a Leisure & Entertainment; NMMC Hospital is a Healthcare; NMMC School - Seawoods is a Educational; Akshar is a Residential; Seawoods NRI Complex is a Residential; NRI Lake is a Natural; "
          ],
          [
           "Gaurav High School & Jr. College is a Educational; Shree Asthavinayak CHS is a Residential; I Love Seawoods is a Leisure & Entertainment; Flamingo Point is a Leisure & Entertainment; Reliance SMART Point is a Commercial; Seawoods Hospital is a Healthcare; Shiv Bhakti Cooperative Housing Society is a Residential; NMMC Headquarters is a Commercial; Adarsh Market is a Commercial; Kille Park is a Landuse: Grass; Seawoods Theme Park is a Leisure & Entertainment; Sector-48 Ground is a Leisure & Entertainment; D.A.V Public School - Nerul is a Educational; Sant Dnyaneshwar Mauli Park is a Leisure & Entertainment; NMMC Holding Pond is a Natural; Seawoods Mangroves is a Natural; Savla Hospital is a Healthcare; NMMC Playground is a Leisure & Entertainment; Delhi Public School - Nerul is a Educational; DPS Lake is a Natural; Krantisinha Nana Patil Park is a Leisure & Entertainment; Sector-48A is a Residential; Sector-50(W) is a Residential; Sector-50(E) is a Residential; NMMC Hospital is a Healthcare; NMMC School - Seawoods is a Educational; Seawoods NRI Complex is a Residential; NMMC is a Landuse: Construction; "
          ],
          [
           "Croma is a Commercial; Suyash Hospital is a Healthcare; Decathlon is a Commercial; Sai Radiance is a Residential; Neelsidhi Splendour is a Residential; Belle Vista CHS is a Residential; Sai Vihar is a Residential; Sailors' Cafe is a Food & Drink; Satnam Chemist & Druggist is a Healthcare; Livspace is a Commercial; Sammy Sosa is a Food & Drink; Cessna Lifeline Veterinary Hospital is a Healthcare; Israni Towers is a Residential; Amity International School is a Educational; Nimantran Hotel is a Food & Drink; Hotel Shivraj Dhaba Karad Belapur is a Leisure & Entertainment; Coffee By Di Bella Belapur is a Food & Drink; Hotel Make My Day is a Leisure & Entertainment; Mahavir Icon is a Residential; Hotel Grande 51 is a Leisure & Entertainment; Progressive Celebrity is a Residential; Lakhani's Galaxy is a Residential; Airtel Store is a Commercial; Shelton Cubix is a Commercial; Pop Tate's Belapur is a Food & Drink; Asha International Institute of Marine Technology is a Commercial; Reliance Digital is a Commercial; V Times Square is a Commercial; LORDS C.H.S. is a Residential; Lakhani's Centrium is a Commercial; Bong Adda is a Food & Drink; ICSI-Centre for Corporate Governance Research and Training is a Commercial; Zudio - Mayuresh Square  Navi Mumbai is a Commercial; Belapur Court is a Government & Public Services; Fourth Dimension Realty - Shelton Sapphire is a Commercial; THE BAR STOCK EXCHANGE - CBD Belapur is a Food & Drink; Progressive Sea Lounge is a Residential; Suncoast Cooperative Housing Society is a Residential; Hotel Palm Beach Pride is a Leisure & Entertainment; Sapphire Boutique Hotel is a Leisure & Entertainment; KFC is a Food & Drink; Panvel Creek is a Natural; Boomi Mall is a Commercial; NMMC Headquarters is a Commercial; NMMC Park is a Leisure & Entertainment; Kille Park is a Landuse: Grass; NMMC Holding Pond is a Natural; Belapur Pond is a Natural; Amity Internaltional School is a Educational; N.R.I Coastal Police Station is a Government & Public Services; D-Mart Belapur is a Commercial; Navi Mumbai Civil & Criminal Court is a Government & Public Services; D.Y Patil School of Biotech is a Educational; IIM Indore  Mumbai Campus is a Educational; ONE PLATINUM is a Commercial; Vidya Prasarsk High School & College is a Educational; NMMC Hospital is a Healthcare; Vidya Utkarsh Mandal English Medium School is a Educational; Mangrove Park is a Leisure & Entertainment; Parsik Hills is a Landuse: Forest; "
          ],
          [
           "Sociomark - Digital Marketing Agency is a Commercial; Decathlon is a Commercial; Indian Navy Canteen is a Commercial; Indian Thali House is a Food & Drink; Panchami Vegetarian Restaurant is a Food & Drink; Sai Vihar is a Residential; Livspace is a Commercial; Sammy Sosa is a Food & Drink; Socomed Pharma Pvt. Ltd is a Residential; Maxim Estates is a Residential; Amity International School is a Educational; Hotel Shivraj Dhaba Karad Belapur is a Leisure & Entertainment; Mahavir Icon is a Residential; Progressive Celebrity is a Residential; Lakhani's Galaxy is a Residential; Shelton Cubix is a Commercial; Reliance Digital is a Commercial; V Times Square is a Commercial; ICSI-Centre for Corporate Governance Research and Training is a Commercial; GOVARDHANI CONSTRUCTION CO is a Residential; Sainath Wine Shop is a Commercial; Casablanca is a Commercial; KFC is a Food & Drink; La Pino’z Pizza is a Food & Drink; Monginis Cake Shop is a Commercial; Bahubelly The Taste of South is a Food & Drink; Ellora Siddhi is a Residential; Sadda Punjab is a Food & Drink; K Star Hotel is a Leisure & Entertainment; Barbeque Nation - Mumbai - Belapur is a Food & Drink; Gauri Complex is a Food & Drink; Panvel Creek is a Natural; NMMC Park is a Leisure & Entertainment; Amity Internaltional School is a Educational; NMMC School is a Educational; IIM Indore  Mumbai Campus is a Educational; Vidya Prasarsk High School & College is a Educational; Mangrove Park is a Leisure & Entertainment; NBC Complex is a Commercial; "
          ],
          [
           "Vaghivali is a Residential; "
          ],
          [
           "Sunrise Multispeciality Hospital is a Healthcare; Purohit Hospital is a Healthcare; Jeevan Jyot Hospital is a Healthcare; Criticare Lifeline Hospital is a Healthcare; Health gs Hospitals is a Healthcare; Jijau CHS is a Residential; garden is a Leisure & Entertainment; "
          ],
          [
           "Jeevan Jyot Hospital is a Healthcare; Criticare Lifeline Hospital is a Healthcare; Children's Wellness Clinic is a Healthcare; Chirayu Hospital;hospital kamothe is a Healthcare; Care and Cure Hospital is a Healthcare; Sai Hospital for Child & Skin Hospital is a Healthcare; TravelinGo Tours is a Commercial; SAI CHARAN is a Residential; Nana Nani Park is a Leisure & Entertainment; MGM Play Ground is a Leisure & Entertainment; Aditya Heights is a Residential; "
          ],
          [
           "Watermelon stalls is a Food & Drink; shivaji maket is a Commercial; Janeshwari Brain and Spinte Centre Swati Maternity is a Healthcare; Spandan Hospital and Research Centre  Raigarh is a Healthcare; Ashtvinayak Hospital is a Healthcare; Thombare Hospital is a Healthcare; Jnaneshwari Accident Hospital  Brain & Spine Centre is a Healthcare; Shelar Hospital is a Healthcare; Padalkar Hospital & SICU is a Healthcare; mahatma School & Jr College is a Educational; Venkat\"s manthra is a Food & Drink; TravelinGo Tours is a Commercial; CWC - Kalamboli is a Industrial; Mangalmurti Towers is a Residential; MGM - Mahatma Gandhi Mission is a Commercial; Khandeshwar lake is a Natural; Khandeshwar Udyan is a Leisure & Entertainment; Gopinath Munde Garden is a Leisure & Entertainment; MGM Play Ground is a Leisure & Entertainment; CIDCO Park is a Leisure & Entertainment; "
          ],
          [
           "Sea Corner is a Food & Drink; Indian Coast Guard RHQ (West) is a Landuse: Military; Fish Market is a Commercial; Worli Fort is a Leisure & Entertainment; Mumbai is a Natural; Golpha Devi Park is a Leisure & Entertainment; Western Headquarters  Indian Coast Guard is a Landuse: Military; "
          ],
          [
           "Chemist is a Healthcare; Sea Corner is a Food & Drink; BMC Hospital is a Healthcare; Mandala Food is a Food & Drink; Indian Coast Guard RHQ (West) is a Landuse: Military; Fish Market is a Commercial; INS Trata is a Landuse: Military; Worli Fort is a Leisure & Entertainment; Mumbai is a Natural; 25 South is a Residential; Adrash Nagar Park is a Leisure & Entertainment; Worli BEST Bus Depot is a Industrial; D Y Patil International School is a Educational; Vaibhav Apartments is a Residential; Sacred Heart High School is a Educational; Prabhadevi Industrial Estate is a Commercial; Golpha Devi Park is a Leisure & Entertainment; Western Headquarters  Indian Coast Guard is a Landuse: Military; Central Ground is a Leisure & Entertainment; Kandewadi Smashanbhoomi is a Landuse: Cemetery; Prabhadevi Beach is a Natural; Beach Towers is a Residential; Dadar Beach is a Natural; Janata High School is a Educational; "
          ],
          [
           "The Marine Sports is a Commercial; Rajhans Publishers is a Commercial; Facecutt is a Commercial; Dr.Bina Pansare    Child Specialist is a Healthcare; अशोक वडा पाव is a Food & Drink; Dr.Vaze Hospital is a Healthcare; Siddivinayak Healthcare Pvt Ltd is a Healthcare; Shushrusha Citizens Co-Op Hospital Ltd. is a Healthcare; Shree Vardhaman Sthanakvasi Jain Shravak Sangh Dadar Sanchalit Navneet Jain Health Centre is a Healthcare; Fayth Clinic is a Healthcare; Shri Siddhivinayak Nursing Home is a Healthcare; Dr.Palep's Priyank Maternity Nursing Home is a Healthcare; Dev Nursing Home is a Healthcare; Ashtavinayak Maternity Surgical and Eye Hospital is a Healthcare; Shreedhar Hospital is a Healthcare; Dr. Gandhi's Nusing Home is a Healthcare; The Lab is a Food & Drink; ABA College of Law is a Educational; Government Technical High School & Jr. College  Dadar is a Educational; Simmba Nursery is a Educational; Simmba Daycare and Kindergarten is a Educational; Pragati School is a Educational; Kohinoor College of Hospitality Management & Tourism Studies is a Educational; McDonald's is a Food & Drink; Domino's is a Food & Drink; Chintamanis is a Commercial; Titan Eyeplus is a Commercial; Sahkari Bhandar Mall is a Commercial; Dadar Lucky Restaurant is a Food & Drink; P. L. Deshpande Maharashtra Kala Academy is a Leisure & Entertainment; Lucky Plywood is a Commercial; Arsh Hyundai is a Commercial; The Bar Stock exchange is a Food & Drink; Starbucks is a Food & Drink; Tamnak Thai is a Food & Drink; Blue star laundry and dry cleaning is a Commercial; Pearly Whites is a Healthcare; Pavaar mattresses is a Commercial; Green restaurant and bar is a Food & Drink; Amigo Hotel is a Leisure & Entertainment; Terttulia is a Food & Drink; The Belgian Waffle Co is a Commercial; Lakme Salon is a Commercial; Mahasagar Tea and Cold drink house is a Commercial; Chaitya Bhumi Police Chowk is a Government & Public Services; Rajarajeswari Bhuvan Veg Delight is a Food & Drink; MBA Chai Wala is a Commercial; Himalayan Wines is a Commercial; Image Frames and Paintings is a Commercial; Book Stall is a Commercial; India United Dye Works no.6 is a Industrial; Mumbai is a Natural; Institute of Catering Hotel Management & Applied Nutrition is a Educational; Kirti M. Doongursee College of Arts  Science and Commerce is a Educational; Dr. Antonio Da Silva Technical High School & Jr. College Of Science is a Educational; PALAN SOJPAL is a Residential; SAMRAT CHS is a Commercial; Pandit Dindyal Upadhyay Udhyan is a Landuse: Recreation_ground; 25 South is a Residential; Ravindra Natya Mandir is a Leisure & Entertainment; Siddhivinayak Temple is a Landuse: Religious; Convent Girl's High School is a Educational; Our Lady Of Salvation School is a Educational; Maharashtra High School Number 2 is a Educational; Sane Guruji Vidyalaya is a Educational; Stephen High School For The Hearing Handicapped is a Educational; Dadar Police Station is a Government & Public Services; Prabhadevi Industrial Estate is a Commercial; Kohinoor Building is a Leisure & Entertainment; Shivshakti SRA is a Residential; Vijay Sales is a Commercial; Punchsheel Building is a Residential; IES Modern English School is a Educational; Nabar Guruji School is a Educational; Gokhale Road Municipal School is a Educational; Denisandra is a Residential; NAVKAR CYRAMIC is a Commercial; DINKAR KALAMBE AND SONS is a Residential; TIRTHANKAR is a Residential; RADHA KRISHNA NIVAS is a Residential; ALOK BUILDING is a Residential; NAMINATH is a Residential; Dadar is a Landuse: Construction; Datta Raul Maidan is a Landuse: Recreation_ground; Dalal Park is a Landuse: Recreation_ground; Sayani Road Municipal School is a Educational; Rachana Sansad's Academy Of Architecture is a Educational; Prabhadevi Beach is a Natural; Dadar Beach is a Natural; Statue Of Equality is a Landuse: Construction; Samved is a Residential; "
          ],
          [
           "Antop Hill is a Natural; santi park is a Leisure & Entertainment; Cafe Coffee Day is a Food & Drink; MCGM Study Center and Toy Library is a Educational; Harissons Bags is a Commercial; Rotunda Nursing Home is a Healthcare; Genesis Speciality Center (Health-Check Up is a Healthcare; CGHS Dispensary No.7  Wadala is a Healthcare; CGHS Polyclinic Koliwada is a Healthcare; I.H.Bhatia English Primary School is a Educational; Advani Dental Care is a Healthcare; Garden E  Five Gardens is a Leisure & Entertainment; Acworth Leper Asylum is a Healthcare; Guru Nanak Khalsa College of Arts  Science & Commerce is a Educational; Don Bosco School - Matunga is a Educational; Veermata Jijabhai Technological Institute (VJTI) is a Educational; Wadia Garden is a Landuse: Recreation_ground; Central Cotton Research Institute is a Educational; St Joseph High School is a Educational; South Indian Welfare Society College is a Educational; Dadar Athornan Institute is a Educational; Astad is a Residential; Boyce Building is a Residential; Laxmi Villa is a Residential; Dhunmai Building is a Residential; Zaverbanoo Terrace is a Residential; Shehrevar is a Residential; Desai Building is a Residential; Boyce-Malegaumwalla Building is a Residential; Spenta is a Residential; Roshan Mansion is a Residential; Faredoon Mody House is a Residential; Faradun Terrace is a Residential; Banoobai Commissariat Building is a Residential; Tridhatu Athena (Madhu Villa) is a Residential; Jai Shanti is a Residential; Amrut CHS (Sunabai A Daver Building) is a Residential; Ratan Mansion is a Residential; Prem Mahal is a Residential; Dev-In (Kanak Vihar) is a Residential; Narayan Niwas is a Residential; Belle Ville is a Residential; Omkar is a Residential; Krishna Niwas is a Residential; Meher Muncher Mansion is a Residential; Murli Dairy Farm is a Residential; Vishnu Villa is a Residential; Pearl Garden is a Residential; Jehangir Mansion is a Residential; Kavei Neeta is a Residential; D'Souza P Mansion is a Residential; Bhasin Niwas is a Residential; Zaveri Niketan is a Residential; Anand Nivas is a Residential; Chhaya is a Residential; Meher Mansion is a Residential; Gold Finch is a Residential; Savio House is a Residential; Ramchaya is a Residential; Sador is a Residential; Sannidhan is a Residential; college ke baaju ka building is a Residential; Ramanuj is a Residential; Ajay Niwas is a Residential; Aditya Jyoti Eye Hospital is a Healthcare; Shobha is a Residential; Tulsi Villa is a Residential; Ram Bhuvan is a Residential; Vasant is a Residential; abcd villas is a Residential; Alka is a Residential; Pauline is a Residential; Bhuva Garden is a Leisure & Entertainment; Sudama is a Residential; Manilal Mansion is a Residential; Rajiv is a Residential; Poornima is a Residential; Sargam is a Residential; Bhaveshwar is a Residential; Chada is a Residential; Chadha is a Residential; Surya Sadan is a Residential; Gitanjali is a Residential; Prabha is a Residential; Sindh Sagar is a Residential; Nitin Vila is a Residential; Aradhana is a Residential; nkes jr college is a Residential; Maharshi Karve Park is a Leisure & Entertainment; Antop Hill Warehousing Complex is a Industrial; BPT Hospital is a Healthcare; Institute of Chemical Technology is a Educational; VJTI Hostel is a Residential; Dosti Aster is a Residential; Jain Mahavir Building is a Residential; Kum Kum is a Residential; Arun is a Residential; Sitaram Prakash High Scool is a Educational; Kum - Kum is a Residential; Janak House CHS is a Residential; Jogeshwari Niwas (Keki House) is a Residential; Wadala Yard is a Landuse: Railway; Garden C  Five Gardens is a Leisure & Entertainment; Andhra Education Society is a Educational; Don Bosco Matunga Hockey Turf is a Leisure & Entertainment; Gowari Hindu Shamshan Bhumi is a Landuse: Cemetery; Savli is a Residential; VJTI Director's Bungalow is a Residential; Sethi Vilas is a Residential; Amar Kunj is a Residential; Narayan Villa is a Residential; Casablanca is a Residential; Shreeji Krupa (Kerawalla House) is a Residential; Madhuban is a Residential; Dosti Daffodil is a Residential; Dosti Erica is a Residential; Dosti Olive is a Residential; Centrum Tower is a Residential; Bansidhar Agarwal High School is a Educational; Mumbai Customs Quarters is a Residential; Garden B  Five Gardens is a Leisure & Entertainment; Garden D  Five Gardens is a Leisure & Entertainment; Dadar Parsi Colony is a Residential; Dosti Eastern Bay is a Residential; Shopee Link is a Retail; Dosti Acres is a Residential; Don Bosco Matunga Turf is a Leisure & Entertainment; "
          ],
          [
           "Antop Hill is a Natural; Harissons Bags is a Commercial; Genesis Speciality Center (Health-Check Up is a Healthcare; Antop Hill Warehousing Complex is a Industrial; Vidyalankar Institute of Technology is a Educational; Vidyalankar School of Information Technology is a Educational; Dosti Blossom is a Residential; Dosti Florentine is a Residential; Penta Galaxy is a Residential; Dosti Carnation is a Residential; Dosti Lily is a Residential; Om Bharat is a Residential; Dosti Aster is a Residential; Sagardeep is a Residential; Dosti Iris is a Residential; Janak House CHS is a Residential; avi is a Residential; Dosti Ambrosia is a Residential; Dosti Daffodil is a Residential; Dosti Erica is a Residential; Dosti Olive is a Residential; Dosti Daisy is a Residential; Dosti Lotus is a Residential; Dosti Tulip is a Residential; Brihanmumbai Mahanagarpalika Sangamnagar Urdu Primary School is a Educational; Lloyd Estate is a Residential; Dosti Eastern Bay is a Residential; Shopee Link is a Retail; Dosti Acres is a Residential; Vidyalankar College is a Landuse: Education; "
          ],
          [
           "Chinmay Nursing Home  Wadala is a Healthcare; Bhakti Park is a Leisure & Entertainment; avi is a Residential; Ajmera i-Land is a Residential; "
          ],
          [
           "track is a Residential; Mumbai Refinery Mahul is a Industrial; "
          ],
          [
           "Mumbai Refinery Mahul is a Industrial; Mumbai Refinery is a Industrial; "
          ],
          [
           "flip card is a Commercial; Mumbai Refinery is a Industrial; "
          ],
          [
           "Bhabha Atomic Research Centre - BARC is a Industrial; Vikram Lake is a Natural; "
          ],
          [
           "Tata Power Skill Development Institute is a Educational; Bhabha Atomic Research Centre - BARC is a Industrial; Vikram Lake is a Natural; Atomic Pond is a Natural; "
          ],
          [
           "Bhabha Atomic Research Centre - BARC is a Industrial; "
          ],
          [
           "Seawoods Lake is a Natural; T.S. Chanakya Maritime University is a Educational; T.S. Chanakya Lake is a Natural; Grass Park is a Leisure & Entertainment; Holding Pond is a Natural; Dnyandip Seva Mandal High School is a Educational; Karave Beach is a Natural; "
          ],
          [
           "Jewel of Navi Mumbai is a Leisure & Entertainment; Palmleaves Restaurant & Bar is a Food & Drink; Malvan Tadka is a Food & Drink; Eyemax Super Speciality Eye Centre is a Healthcare; Jewel Amphitheatre is a Leisure & Entertainment; Suyash Hospital is a Healthcare; big bazar is a Commercial; Hanky Franky is a Food & Drink; Love & Latte Seawoods is a Food & Drink; KFC is a Food & Drink; Cinépolis - Nexus Seawoods Mall is a Leisure & Entertainment; Blackberrys is a Commercial; Jodhpur House is a Commercial; Nike NSW is a Commercial; Nexus Seawoods Mall is a Commercial; Van Heusen is a Commercial; TRENDS is a Commercial; Manyavar is a Commercial; Jockey Exclusive Store is a Commercial; Allen Solly Seawoods Mall is a Commercial; 7 Eleven is a Commercial; Westside - Nexus Seawoods is a Commercial; Swarovski is a Commercial; HP World is a Commercial; Samsonite is a Commercial; Food Court is a Food & Drink; Airtel Store is a Commercial; R S Mani Cafe is a Food & Drink; JACK&JONES STORE is a Commercial; Laxmi Tower CHS is a Residential; D-Mart - Seawoods is a Commercial; Innovative Palace is a Residential; Sheetal Kunj is a Residential; Niwara Residency is a Residential; Sadguru Heritage is a Residential; Satyam Heights is a Residential; Seawoods is a Commercial; Tejas Apartment is a Residential; Seawoods Grand Central Tower 2 is a Commercial; Seawoods Grand Central Tower 1 is a Commercial; Seawoods Lake is a Natural; Seawoods Grand Central Mall is a Commercial; Seawoods Mangroves is a Natural; Savla Hospital is a Healthcare; Seawoods Mall Complex is a Commercial; Karave Pond is a Natural; Ganpatseth Tandel Playground is a Leisure & Entertainment; Karave Park is a Leisure & Entertainment; Mahatma Phule Garden is a Leisure & Entertainment; Dr. Babasaheb Ambedkar Park is a Leisure & Entertainment; Orchid's International School is a Educational; Karave Smashan Bhoomi is a Landuse: Cemetery; Don Bosco School - Nerul is a Educational; S.S High School & RV Patel Degree College is a Educational; Gaimukh Chowk Police Station is a Government & Public Services; Nerul Gymkhana is a Leisure & Entertainment; T.S. Chanakya Maritime University is a Educational; Grass Park is a Leisure & Entertainment; Holding Pond is a Natural; Sector-42 is a Residential; Sector-42A is a Residential; Sector-44 is a Residential; Sector-44A is a Residential; Sector-40 is a Residential; Sector-38 is a Residential; Sector-36 is a Residential; Sector-48A is a Residential; Kendriya Vihar is a Residential; Dnyandip Seva Mandal High School is a Educational; Gaondevi Ground is a Leisure & Entertainment; Konkan Rail Vihar is a Residential; Seawoods Residences is a Residential; Cinepolis - Seawoods is a Leisure & Entertainment; Ganpatseth Tandel Ground is a Landuse: Recreation_ground; Neurogen Hospital is a Healthcare; Orchid's School Ground is a Landuse: Recreation_ground; Jewels is a Leisure & Entertainment; "
          ],
          [
           "Domino's is a Food & Drink; McDonald's is a Food & Drink; Max Movies is a Leisure & Entertainment; Eyemax Super Speciality Eye Centre is a Healthcare; Dr. Sonawane's Hospital is a Healthcare; Shivam Eye Foundation P P N is a Healthcare; Anurag Nursing Home is a Healthcare; Patoriya Eye Hospital is a Healthcare; Sai Krupa is a Residential; Suyash Hospital is a Healthcare; Hanky Franky is a Food & Drink; Love & Latte Seawoods is a Food & Drink; KFC is a Food & Drink; Cinépolis - Nexus Seawoods Mall is a Leisure & Entertainment; Blackberrys is a Commercial; Jodhpur House is a Commercial; Nike NSW is a Commercial; Nexus Seawoods Mall is a Commercial; Van Heusen is a Commercial; TRENDS is a Commercial; Manyavar is a Commercial; Jockey Exclusive Store is a Commercial; Allen Solly Seawoods Mall is a Commercial; 7 Eleven is a Commercial; Westside - Nexus Seawoods is a Commercial; Swarovski is a Commercial; HP World is a Commercial; Samsonite is a Commercial; Food Court is a Food & Drink; Airtel Store is a Commercial; R S Mani Cafe is a Food & Drink; JACK&JONES STORE is a Commercial; Laxmi Tower CHS is a Residential; Millenium Park is a Leisure & Entertainment; Tilak Public School & College is a Educational; Wonders Park is a Leisure & Entertainment; Centurion Mall is a Commercial; Nerul Fire Station is a Government & Public Services; Seawoods is a Commercial; Seawoods Grand Central Tower 2 is a Commercial; Seawoods Grand Central Tower 1 is a Commercial; Seawoods Grand Central Mall is a Commercial; Seawoods Mangroves is a Natural; Savla Hospital is a Healthcare; Seawoods Mall Complex is a Commercial; Yashwantrao Chavan Ground is a Leisure & Entertainment; Mahatma Phule Garden is a Leisure & Entertainment; Dr. Babasaheb Ambedkar Park is a Leisure & Entertainment; Darave Pond is a Natural; Lotus Pond is a Natural; Presentation Convent School is a Educational; Sterling Institute of Management Studies is a Educational; Apollo Hospitals - Navi Mumbai is a Healthcare; Sector-42 is a Residential; Sector-42A is a Residential; Sector-40 is a Residential; Sector-48A is a Residential; Sector-50(E) is a Residential; Income Tax Colony is a Residential; Konkan Rail Vihar is a Residential; Seawoods Residences is a Residential; Institute of Marine Engineers is a Commercial; Cinepolis - Seawoods is a Leisure & Entertainment; Akshar is a Landuse: Construction; Amphitheater is a Leisure & Entertainment; Science Park is a Leisure & Entertainment; Pushparni Sahitya Katta is a Leisure & Entertainment; Sadafuli Nursery and Vegetable Farm is a Leisure & Entertainment; Pushparni Sahitya Katta Pond is a Natural; Sujata Pravik park is a Leisure & Entertainment; Sai Krupa Open Park is a Leisure & Entertainment; Sai Krupa Park is a Leisure & Entertainment; Seawoods Traffic Police Station is a Government & Public Services; "
          ],
          [
           "Tea Junction is a Food & Drink; Army Medical Facility is a Healthcare; Parsik Hill Viewpoint is a Leisure & Entertainment; CBD Belapur East is a Commercial; Wonders Park is a Leisure & Entertainment; Mayor's Bunglow is a Residential; Parsik Hill Park is a Leisure & Entertainment; Agroli Lake is a Natural; Belapur Pond is a Natural; Lotus Pond is a Natural; Apollo Hospitals - Navi Mumbai is a Healthcare; Ekta Vihar is a Residential; Nilgiri Gardens is a Residential; Income Tax Colony is a Residential; Akshar is a Landuse: Construction; MES Vidya Mandir School & Junior College is a Educational; Science Park is a Leisure & Entertainment; NMMC Hospital is a Healthcare; Parsik Hill Residents Association Garden is a Leisure & Entertainment; Agroli Childrens Playground is a Leisure & Entertainment; Sujata Pravik park is a Leisure & Entertainment; Parsik Hills is a Landuse: Forest; "
          ],
          [
           "Sociomark - Digital Marketing Agency is a Commercial; Dr. Jairaj's Hospital is a Healthcare; Indian Navy Canteen is a Commercial; Indian Thali House is a Food & Drink; Panchami Vegetarian Restaurant is a Food & Drink; Sainath Wine Shop is a Commercial; Casablanca is a Commercial; Bahubelly The Taste of South is a Food & Drink; Ellora Siddhi is a Residential; K Star Hotel is a Leisure & Entertainment; Barbeque Nation - Mumbai - Belapur is a Food & Drink; Gauri Complex is a Food & Drink; CBD Belapur East is a Commercial; Raigad Bhavan Ground is a Leisure & Entertainment; Mango Park is a Leisure & Entertainment; Reserve Bank of India is a Commercial; Oil Refinery is a Industrial; Agroli Lake is a Natural; Belapur Holding Pond is a Natural; Mahatma Gandhi Missions Hospital is a Healthcare; D.Y. Patil School & Jr. College is a Educational; Agroli Childrens Playground is a Leisure & Entertainment; CBD Belapur Police Station is a Government & Public Services; Rainforest Walk Park is a Leisure & Entertainment; Mangrove Park is a Leisure & Entertainment; Konkan Bhavan is a Commercial; NBC Complex is a Commercial; Parsik Hills is a Landuse: Forest; "
          ],
          [
           "Raigad Bhavan Ground is a Leisure & Entertainment; Belapur Holding Pond is a Natural; Mangrove Park is a Leisure & Entertainment; Parsik Hills is a Landuse: Forest; "
          ],
          [
           "PMAY Kharghar is a Landuse: Construction; Taloje Creek is a Natural; "
          ],
          [
           "Taloje Creek is a Natural; "
          ],
          [
           "tawa hotel is a Food & Drink; "
          ],
          [
           "nilkhand is a Food & Drink; rivar side is a Food & Drink; tawa hotel is a Food & Drink; neelkanth is a Food & Drink; malvan tadka is a Food & Drink; manmohan sweets shop is a Food & Drink; krishna hotel is a Food & Drink; vimum food is a Food & Drink; Sushma Patil Vidhyalaya is a Educational; food mart is a Commercial; boby art is a Leisure & Entertainment; Vihaan Hospital is a Healthcare; Sunrise Multispeciality Hospital is a Healthcare; B &J Superspeciality Hospital and Research Centre is a Healthcare; Purohit Hospital is a Healthcare; Health gs Hospitals is a Healthcare; Sai Samarth Hospital Accident & Trauma Care Centre is a Healthcare; Kamothe Criticare Hospital is a Healthcare; Shree Sai Multispecialist Hospital is a Healthcare; Shree Sangam Multispeciality Hospital is a Healthcare; Blue Dart is a Commercial; mongo gardan is a Leisure & Entertainment; kamothe police station is a Government & Public Services; Jijau CHS is a Residential; Ma Laxmi Avenue is a Residential; Kamothe Lake is a Natural; "
          ],
          [
           "Suresh`s Home is a Residential; Mahatma Gandhi Mission is a Healthcare; Suyash Surgical and Maternity Home is a Healthcare; Children's Wellness Clinic is a Healthcare; Chirayu Hospital;hospital kamothe is a Healthcare; Dr. Alat's Sushrut Multispeciality Hospital is a Healthcare; Sai Hospital for Child & Skin Hospital is a Healthcare; Shree Sangam Multispeciality Hospital is a Healthcare; aishwarya hotel is a Food & Drink; Blue Dart is a Commercial; McDonald's is a Food & Drink; MGM - Mahatma Gandhi Mission is a Commercial; Nana Nani Park is a Leisure & Entertainment; Kamothe Lake is a Natural; MGM Play Ground is a Leisure & Entertainment; Cht. Shivaji Maharaj Ground is a Leisure & Entertainment; Prem Aangan society kamothe is a Residential; Aditya Heights is a Residential; "
          ],
          [
           "bharati p is a Leisure & Entertainment; sohan is a Food & Drink; Noor is a Healthcare; market is a Food & Drink; vidi bar is a Food & Drink; moll is a Commercial; Mahatma Gandhi Mission is a Healthcare; Jnaneshwari Accident Hospital  Brain & Spine Centre is a Healthcare; McDonald's is a Food & Drink; CWC - Kalamboli is a Industrial; Steel Market is a Industrial; MGM - Mahatma Gandhi Mission is a Commercial; Kalamboli Fire Station is a Government & Public Services; MGM Play Ground is a Leisure & Entertainment; "
          ],
          [
           "Worli Fort is a Leisure & Entertainment; Mumbai is a Natural; "
          ],
          [
           "Mahim Bay is a Natural; "
          ],
          [
           "Samyukta Maharashtra Daalan is a Leisure & Entertainment; Cafe Coffee Day is a Food & Drink; Dr.Bina Pansare    Child Specialist is a Healthcare; Barista is a Food & Drink; Mahim Bay is a Natural; Nirmal Nursing Home  Mumbai is a Healthcare; Daffodils Play School is a Educational; Edustart Multi-Activity Centre is a Educational; Shivaji Park is a Leisure & Entertainment; The Bar Stock exchange is a Food & Drink; Starbucks is a Food & Drink; Tamnak Thai is a Food & Drink; Veer Baji Prabhu Udyan is a Leisure & Entertainment; Green restaurant and bar is a Food & Drink; Amigo Hotel is a Leisure & Entertainment; Terttulia is a Food & Drink; The Belgian Waffle Co is a Commercial; Sandwizzaa is a Food & Drink; Lakme Salon is a Commercial; Mahasagar Tea and Cold drink house is a Commercial; Chaitya Bhumi Police Chowk is a Government & Public Services; Costa is a Food & Drink; Rajarajeswari Bhuvan Veg Delight is a Food & Drink; MBA Chai Wala is a Commercial; Image Frames and Paintings is a Commercial; Crossword is a Commercial; Book Stall is a Commercial; Swatantryaveer Vinayak Damodar Savarka Statue is a Leisure & Entertainment; India United Dye Works no.6 is a Industrial; Mumbai is a Natural; Shivaji Park is a Landuse: Recreation_ground; Institute of Catering Hotel Management & Applied Nutrition is a Educational; Hinduja Hospital is a Healthcare; Mahatma Gandhi Swimming Pool is a Leisure & Entertainment; Mayor's Bungalow is a Residential; Keraliya Samaj School is a Educational; Dadar Beach is a Natural; Statue Of Equality is a Landuse: Construction; वीर सावरकर स्मारक is a Leisure & Entertainment; "
          ],
          [
           "Shivaji Park Gymkhana is a Leisure & Entertainment; Samyukta Maharashtra Daalan is a Leisure & Entertainment; Cafe Coffee Day is a Food & Drink; Ganga Vihar Restaurant is a Food & Drink; National Chemist is a Commercial; Light Of Bharat is a Food & Drink; Nandadeep Biscuit Mart is a Food & Drink; Simply Delicious is a Food & Drink; Vodafone Idea is a Commercial; Barista is a Food & Drink; Gomantak Boarding House is a Food & Drink; Tempered Glass and Phone Covers (Street shop) is a Commercial; Magnet Telelinkts Pvt. Ltd. is a Commercial; मातोश्री टॉवर is a Leisure & Entertainment; Dr Thakur Hospital is a Healthcare; Dnyan Geeta Nursing Home is a Healthcare; Ashvini Nursing and Maternity Home is a Healthcare; Dr.Patkars Surgical Nursing Home is a Healthcare; Well Spring Dr Avinash Phadke Pathlab Clinic is a Healthcare; Surlata Hospital is a Healthcare; North Bombay Clinic Surgical and Maternity Home is a Healthcare; Dr. Mathure's Surgical Clinic is a Healthcare; Nadkarni Clinic is a Healthcare; Nirmal Nursing Home  Mumbai is a Healthcare; Rajvi Clinic is a Healthcare; Gupte Maternity and Surgical Home is a Healthcare; Shree Saraswati Nursing Home is a Healthcare; Laxmi Clinic is a Healthcare; Deccan Fertility Clinic and Keyhole Surgery Center is a Healthcare; Daffodils Play School is a Educational; Edustart Multi-Activity Centre is a Educational; Tree House Play Group is a Educational; St. Michaels English Primary School is a Educational; R.C.Mahim Municipal Urdu Primary is a Educational; Dadar Vidya Mandir Junior College is a Educational; Tendulkar's Language Academy is a Educational; Podar Jumbo Kids is a Educational; Bubblez World Preschool is a Educational; Global Deli Mahim is a Commercial; Dr. Shreedhar Archik is a Healthcare; DR ANOOP DHAMANGOANKAR is a Healthcare; Kesari Tours Pvt Ltd is a Commercial; Sardar Cycle Trading Company is a Commercial; Raja Rani Travels Pvt. Limited is a Commercial; Westside is a Commercial; Pantaloons is a Commercial; Vikas Sales is a Commercial; The Good Health Clinic is a Healthcare; Domino's is a Food & Drink; Shivaji Park is a Leisure & Entertainment; Made over donuts is a Food & Drink; KFC is a Food & Drink; Pizza Hut is a Food & Drink; Airtel is a Commercial; Prabhat Book House is a Commercial; Baskin-Robbins is a Commercial; Sandwizzaa is a Food & Drink; Paramount Sports and Nutrition is a Commercial; Rachina Tailor is a Commercial; Subway is a Food & Drink; Crossword is a Commercial; Swatantryaveer Vinayak Damodar Savarka Statue is a Leisure & Entertainment; hotel Udipi Ramdas is a Food & Drink; Goa Portuguesa is a Residential; Central Railway Workshop is a Industrial; Dadar (Western Railways) is a Landuse: Railway; Ruby Mills is a Commercial; Mumbai is a Natural; Shivaji Park is a Landuse: Recreation_ground; Bombay Scottish is a Educational; Hinduja Clinic is a Healthcare; Hinduja Hospital is a Healthcare; Gopi Tank Market is a Retail; Shiv Sena Bhavan is a Commercial; Mahim Sarvajanik Vachnalaya is a Educational; Star City Cinema is a Leisure & Entertainment; Dadar-Matunga Cultural Centre is a Leisure & Entertainment; Star Mall is a Commercial; Shivaji Park Police Station is a Government & Public Services; Nutan Vaishali Society is a Residential; Mahatma Gandhi Swimming Pool is a Leisure & Entertainment; Mayor's Bungalow is a Residential; Lalita Girdhar (Hinduja Hospital) is a Residential; Union Bank of India is a Residential; Ashford City Light is a Leisure & Entertainment; Mahim Post Office is a Residential; Deepak Building is a Residential; Western Railway Officer's Flats is a Residential; Mutual Co-operative Housing Society is a Residential; Ashiana is a Residential; Lokmanya Vidya Mandir Jr College is a Educational; Sita Kunj is a Residential; Prakash Tower is a Residential; Pradeep Villa is a Residential; Vastu Central is a Commercial; Jaywant Sadan is a Residential; Keraliya Samaj School is a Educational; Dadar is a Landuse: Construction; D G Ruparel College of Arts  Science and Commerce is a Educational; Balmohan Vidyamandir is a Educational; Victoria High school is a Educational; Kohinoor Square is a Commercial; Hera Court is a Residential; वीर सावरकर स्मारक is a Leisure & Entertainment; "
          ],
          [
           "Cafe Madras is a Food & Drink; Ganga Vihar Restaurant is a Food & Drink; Poly Clinic Matunga is a Healthcare; Mawali Bhai Dosa is a Food & Drink; A Rama Nayak's Shrikrishna Boarding is a Food & Drink; Mani's Cafe is a Food & Drink; Shoppers Drug Mart is a Healthcare; MCGM  L K Waghji  Mumbai Public School is a Educational; Sharda Bhavan is a Food & Drink; Cafe Bogeto is a Food & Drink; Jashem Eye Institute is a Healthcare; Dr V T Shah Diagnostic Centre and Clinic is a Healthcare; Dr.Chhatres Maternity and Surgical Nursing Home is a Healthcare; Lions Club Of East Bombay is a Healthcare; Shah Nursing Home is a Healthcare; Shree Saraswati Nursing Home is a Healthcare; Icon The Eye Consultants Eye and Laser Centre is a Healthcare; Cafe Gulshan is a Food & Drink; Snow Point is a Food & Drink; Oleaf green grocer is a Commercial; Rain Tree is a Natural; Putranjiva is a Natural; Kings Circle is a Leisure & Entertainment; Koolar & Co is a Food & Drink; Vikas Sales is a Commercial; Central Railway Workshop is a Industrial; Dadar (Western Railways) is a Landuse: Railway; Dadar (Central Railways) is a Landuse: Railway; Guru Nanak Khalsa College of Arts  Science & Commerce is a Educational; Don Bosco School - Matunga is a Educational; Matunga Gymkhana is a Leisure & Entertainment; Ramnarain Ruia College is a Educational; Lakshmi Nappoo Gardens is a Landuse: Recreation_ground; Shakti is a Residential; Narayan Niwas is a Residential; Uday Darshan is a Residential; Nirant Building is a Residential; Ganga Niwas is a Residential; Samosa Garden is a Landuse: Recreation_ground; Kapol Nivas is a Residential; Matunga Premier School is a Educational; Rajbaigh is a Residential; Shri Dayanand Vidyalay and Junior College is a Educational; Balkrishna Bhuvan is a Residential; Model English Night High School & Jr.College is a Educational; Amrut Tower is a Residential; Lakshmi Niwas is a Residential; Shiv Nirmal is a Residential; Maheshwari Udyan is a Leisure & Entertainment; Lion's Pioneer High School is a Educational; Matunga Post Office is a Government & Public Services; BMC Ward Office is a Commercial; Shradhanand Mahila Ashram is a Residential; Western Railway Officer's Flats is a Residential; Bombay Girls' High School is a Educational; South Indian Education Society (SIES) High School is a Educational; Ramniranjan Anandilal Podar College of Commerce and Economics is a Educational; Welingkar Institute of Management Development & Research is a Educational; Leela Baug is a Residential; Hindu Ma Samiti Garden is a Leisure & Entertainment; D G Ruparel College of Arts  Science and Commerce is a Educational; SMES High School is a Educational; A.I.’s Allana Boys High School & Jr. College is a Educational; Shishuvan School is a Educational; Shri Hirji Ghelabai Savala Vidyalaya is a Educational; "
          ],
          [
           "Utility Chemists is a Healthcare; Cafe Madras is a Food & Drink; Smt S.R.Mehta and Sir K.P.Cardiac Institute is a Healthcare; Rekha Kunj is a Commercial; Rekha Kunj Singit Hq is a Commercial; Sion (E) Police Station is a Government & Public Services; Matunga Police Station is a Government & Public Services; Mawali Bhai Dosa is a Food & Drink; Vaishnav Seva Samaj is a Healthcare; Shanmukhananda Jasubhai R k shah Medical Centre is a Healthcare; Jyoti Nursing Home is a Healthcare; CGHS Polyclinic Koliwada is a Healthcare; Vyas' Surgery is a Healthcare; Shanmukhananda Aditya Jyot Eye Institute is a Healthcare; Shah Nursing Home is a Healthcare; Shree Amulakh Amichand Bhimji Vividhlakshi Vidyalaya is a Educational; I.H.Bhatia English Primary School is a Educational; Narottam niwas is a Natural; Kings Circle is a Leisure & Entertainment; Central Government Touring Officers Guest House is a Leisure & Entertainment; Amulakh amichand vidyalaya is a Educational; Koolar & Co is a Food & Drink; Lokmanya Tilak Hospital is a Healthcare; Guru Nanak Khalsa College of Arts  Science & Commerce is a Educational; Don Bosco School - Matunga is a Educational; Veermata Jijabhai Technological Institute (VJTI) is a Educational; Aurora Cinema is a Leisure & Entertainment; Chada is a Residential; Chadha is a Residential; Model English Night High School & Jr.College is a Educational; Maheshwari Udyan is a Leisure & Entertainment; Lion's Pioneer High School is a Educational; BMC Ward Office is a Commercial; Institute of Chemical Technology is a Educational; Shradhanand Mahila Ashram is a Residential; Sewa Samiti CHS is a Residential; Sion Municipality school is a Educational; Nirman Sadan is a Commercial; Trinity High School is a Educational; Little Angels School is a Educational; South Indian Education Society (SIES) High School is a Educational; Mata Lachmi Garden is a Leisure & Entertainment; Don Bosco Matunga Hockey Turf is a Leisure & Entertainment; Gowari Hindu Shamshan Bhumi is a Landuse: Cemetery; Dosti Acres is a Residential; Shishuvan School is a Educational; Shri Hirji Ghelabai Savala Vidyalaya is a Educational; Don Bosco Matunga Turf is a Leisure & Entertainment; "
          ],
          [
           "Jyoti Nursing Home is a Healthcare; Wadala Truck Terminal is a Industrial; Hutment Colony is a Residential; A 8 is a Residential; A 6 balaji building is a Residential; tank is a Natural; Nirman Sadan is a Commercial; A-1 is a Residential; Dosti Blossom is a Residential; Dosti Florentine is a Residential; Penta Galaxy is a Residential; Dosti Carnation is a Residential; Dosti Lily is a Residential; Om Bharat is a Residential; Sagardeep is a Residential; Dosti Iris is a Residential; Sanjeevni hospital is a Healthcare; avi is a Residential; Dosti Ambrosia is a Residential; Dosti Daisy is a Residential; Dosti Lotus is a Residential; Dosti Tulip is a Residential; Brihanmumbai Mahanagarpalika Sangamnagar Urdu Primary School is a Educational; Lloyd Estate is a Residential; Dosti Eastern Bay is a Residential; Dosti Acres is a Residential; Dosti Daffodil is a Residential; "
          ],
          [
           "Chinmay Nursing Home  Wadala is a Healthcare; Wadala RTO Office is a Commercial; Wadala Truck Terminal is a Industrial; Rashtriya Chemicals & Fertilizers is a Industrial; Carnival Cinemas is a Commercial; Bhakti Park is a Leisure & Entertainment; A-1 is a Residential; B-2 is a Residential; Ajmera i-Land is a Residential; "
          ],
          [
           "Shiv Polyclinic and Nursing Home is a Healthcare; BPCL Sports Club is a Leisure & Entertainment; Rashtriya Chemicals & Fertilizers is a Industrial; Vacant Plot is a Residential; 24 is a Residential; Dina Kunj is a Residential; C is a Residential; D is a Residential; A-1 is a Residential; A-3 is a Residential; B is a Residential; A-2 is a Residential; Mumbai Refinery Mahul is a Industrial; Vitta Sanchay Society is a Residential; E is a Residential; Society Hall is a Leisure & Entertainment; Vitta Sanchay Society Play ground is a Leisure & Entertainment; Vitta Sanchay is a Commercial; Acharya Sharad Narayan Udyan is a Leisure & Entertainment; bmc park is a Leisure & Entertainment; Mysore Colony Central Garden is a Leisure & Entertainment; BMC owned trees is a Natural; BMC PARK is a Leisure & Entertainment; Mysore colony eastern park is a Leisure & Entertainment; Trees owned by RCF is a Natural; Mysore Colony trees is a Natural; "
          ],
          [
           "Oswal Company Trees is a Natural; Newspaper stall is a Commercial; Shiv Polyclinic and Nursing Home is a Healthcare; राजपूत मेडिकल is a Healthcare; BPCL Sports Club is a Leisure & Entertainment; New Bharat Nagar  Banjara tanda  Hasina Nagar is a Residential; Old Bharat Nagar is a Residential; Koyna Colony is a Residential; Mumbai Refinery Mahul is a Industrial; Mysore colony eastern park is a Leisure & Entertainment; Trees owned by RCF is a Natural; Mysore Colony trees is a Natural; "
          ],
          [
           "राजपूत मेडिकल is a Healthcare; New Bharat Nagar  Banjara tanda  Hasina Nagar is a Residential; Old Bharat Nagar is a Residential; Anushakti Nagar is a Residential; "
          ],
          [
           "Neat's Tongue is a Natural; Vikram Sarabhai Bhavan is a Commercial; directorate of purchase and stores is a Commercial; Anushakti Nagar is a Residential; Bhabha Pond is a Natural; "
          ],
          [
           "Vikram Sarabhai Bhavan is a Commercial; NBH Canteen is a Food & Drink; Surabhi lawns is a Leisure & Entertainment; Rajani lawns is a Leisure & Entertainment; Akashdeep Triangle play area is a Leisure & Entertainment; akashdeep electric substation is a Commercial; Dr Rashmi Singh is a Healthcare; Darbari lawns is a Leisure & Entertainment; Sarang lawns is a Leisure & Entertainment; Lalit park is a Leisure & Entertainment; directorate of purchase and stores is a Commercial; Deepak Vegetable Shop is a Commercial; Bhabha Atomic Research Centre - BARC is a Industrial; Anushakti Nagar is a Residential; Anushaktinagar Cricket Ground is a Leisure & Entertainment; Nuclear Recycle Board is a Commercial; Udayagiri is a Residential; Nilgiri Tennis Court is a Leisure & Entertainment; New Boys Hostel is a Residential; TSH Canteen is a Residential; BARC Main Gate Security Complex is a Commercial; Mohana is a Residential; Kalyani is a Residential; Malhar is a Residential; Lalit is a Residential; Bhairavi is a Residential; Akashratna is a Residential; Akashdeep is a Residential; Mohana Lawns is a Natural; Nilgiri is a Residential; PTAA Athletics Track is a Leisure & Entertainment; Atomic Energy Central School 4 Playground is a Leisure & Entertainment; Training School Hostel is a Residential; AECS 4 is a Educational; Indradhanush Cultural Centre is a Leisure & Entertainment; North Gate food court is a Food & Drink; Surabhi is a Residential; Rajani is a Residential; Deepak is a Residential; Durbari is a Residential; Sarang is a Residential; Ragamala is a Residential; Homi Bhabha National Institute is a Educational; Bhabha Pond is a Natural; Atomic Pond is a Natural; PTAA Complex is a Leisure & Entertainment; Nabhikiya Urja Bhavan is a Commercial; "
          ],
          [
           "mahul is a Food & Drink; Bhabha Atomic Research Centre - BARC is a Industrial; "
          ],
          [
           "gym is a Leisure & Entertainment; Crescent High School is a Educational; Vivekanand English High School is a Educational; Trombay Municipal Marathi School is a Educational; Chereshwar GYM is a Leisure & Entertainment; Bhabha Atomic Research Centre - BARC is a Industrial; Sainathnagar (Custom RToad ) is a Residential; Koliwada (Trombay) is a Residential; Payalipada is a Residential; Essel Studios is a Industrial; soyuz building is a Residential; "
          ],
          [
           "The Thinker is a Leisure & Entertainment; I Love Navi Mumbai is a Leisure & Entertainment; Seawoods Lake is a Natural; Vazirani Sports Complex is a Leisure & Entertainment; Sagar Darshan CHS is a Residential; "
          ],
          [
           "Jewel of Navi Mumbai is a Leisure & Entertainment; The Thinker is a Leisure & Entertainment; Mango Tree is a Natural; I Love Navi Mumbai is a Leisure & Entertainment; Dr Ninad Tamboli- Urologist at Terna Hospital  Terna Speciality Hospital and research center is a Healthcare; Terna Sahyadri Hospital and Research Centre is a Healthcare; Nerul Police Station is a Government & Public Services; Talav Park is a Leisure & Entertainment; Rock Garden is a Leisure & Entertainment; Seawoods Lake is a Natural; Ganpatseth Tandel Playground is a Leisure & Entertainment; Vazirani Sports Complex is a Leisure & Entertainment; Nerul Gymkhana is a Leisure & Entertainment; Nerul Pond is a Natural; Terna Engineering College is a Educational; Terna Dental College is a Educational; Dharmveer Anand Saheb Park is a Leisure & Entertainment; Nerul is a Commercial; Vidyabhavan High School is a Educational; Mata Amritanandamayi Baug is a Leisure & Entertainment; Prabodhankar Thakare Ground is a Leisure & Entertainment; Bamandev Ground is a Leisure & Entertainment; Terna College Football Turf is a Leisure & Entertainment; Balaji Towers CHS is a Residential; Sagar Darshan CHS is a Residential; Jewels is a Leisure & Entertainment; "
          ],
          [
           "Domino's is a Food & Drink; McDonald's is a Food & Drink; Max Movies is a Leisure & Entertainment; 7 Wonders of The World is a Leisure & Entertainment; Shivam Eye Foundation P P N is a Healthcare; Raj Hospital  Mumbai is a Healthcare; Patoriya Eye Hospital is a Healthcare; Momos is a Food & Drink; Swasthya Organic Store is a Commercial; Bansal Specialty Clinic is a Healthcare; Dr Ninad Tamboli- Urologist at Terna Hospital  Terna Speciality Hospital and research center is a Healthcare; Millenium Park is a Leisure & Entertainment; Wonders Park is a Leisure & Entertainment; Centurion Mall is a Commercial; Nerul Fire Station is a Government & Public Services; Jimmy Park One Row Houses is a Residential; Terna Sahyadri Hospital and Research Centre is a Healthcare; MTNL is a Commercial; Nerul Police Station is a Government & Public Services; Rock Garden is a Leisure & Entertainment; Mother Teresa Garden is a Leisure & Entertainment; Renukacharya Park is a Leisure & Entertainment; Yashwantrao Chavan Ground is a Leisure & Entertainment; Darave Pond is a Natural; R.R Patil Garden is a Leisure & Entertainment; Sterling School & College of Arts  Science & Commerce is a Educational; Sterling Institute of Management Studies is a Educational; Meenatai Thakre Hospital is a Healthcare; Apeejay School - Nerul is a Educational; Annabhau Sathe Park is a Leisure & Entertainment; Terna Engineering College is a Educational; Terna Dental College is a Educational; Ryan International School - Nerul is a Educational; Ekta Vihar is a Residential; Guru Nanak Park is a Leisure & Entertainment; Kalpana Chawla Park is a Leisure & Entertainment; Nerul is a Commercial; Adi Shankaracharaya Park is a Leisure & Entertainment; Seawoods Residences is a Residential; Institute of Marine Engineers is a Commercial; Terna College Football Turf is a Leisure & Entertainment; Akshar is a Landuse: Construction; D-Mart Nerul is a Commercial; Amphitheater is a Leisure & Entertainment; Science Park is a Leisure & Entertainment; Pushparni Sahitya Katta is a Leisure & Entertainment; Walkers Park is a Leisure & Entertainment; "
          ],
          [
           "Tea Junction is a Food & Drink; Army Medical Facility is a Healthcare; 7 Wonders of The World is a Leisure & Entertainment; NAVI MUMBAI MUNICIPAL CORPORATION is a Leisure & Entertainment; CBD Belapur East is a Commercial; Wonders Park is a Leisure & Entertainment; Ekta Vihar Park is a Leisure & Entertainment; R.R Patil Garden is a Leisure & Entertainment; Ryan International School - Nerul is a Educational; Ekta Vihar is a Residential; Nilgiri Gardens is a Residential; People's Education Society High School is a Educational; Sector-9 Playground is a Leisure & Entertainment; Rock Garden is a Leisure & Entertainment; Sunil Gavaskar Ground is a Leisure & Entertainment; Dhamma Vipula Vipassana Meditation Center is a Landuse: Religious; Green Valley Park is a Leisure & Entertainment; NMMC is a Leisure & Entertainment; Parsik Hill Residents Association Garden is a Leisure & Entertainment; Sector 9 - Residents Park is a Leisure & Entertainment; Butterfly Park is a Leisure & Entertainment; Parsik Hills is a Landuse: Forest; Sector 9 Agro Project Farm is a Leisure & Entertainment; "
          ],
          [
           "Microsys Computers is a Commercial; Dr. Jairaj's Hospital is a Healthcare; Swarna Anant Apartments is a Leisure & Entertainment; Acharya Shri Nanesh Hospital is a Healthcare; Wellness Chemist is a Commercial; CBD Belapur East is a Commercial; Rajiv Gandhi International Stadium is a Leisure & Entertainment; Mango Park is a Leisure & Entertainment; Prerana Apartment is a Residential; Reserve Bank of India is a Commercial; Oil Refinery is a Industrial; Kasturba Park is a Leisure & Entertainment; Ganesh Udhyan is a Leisure & Entertainment; YMCA Swimming Pool is a Leisure & Entertainment; Mahatma Gandhi Missions Hospital is a Healthcare; Dr. Babasaheb Ambedkar Park is a Leisure & Entertainment; Bharati Vidyapeeth is a Educational; D.Y. Patil School & Jr. College is a Educational; Bharati Vidyapeeth Prashala School & Jr. College is a Educational; People's Education Society High School is a Educational; Sector-9 Playground is a Leisure & Entertainment; Rock Garden is a Leisure & Entertainment; Sunil Gavaskar Ground is a Leisure & Entertainment; Ajmera Hospital is a Healthcare; Swatantra Veer Sawarkar Park is a Leisure & Entertainment; Green Valley Park is a Leisure & Entertainment; NMMC is a Leisure & Entertainment; CBD Belapur Police Station is a Government & Public Services; Butterfly Park is a Leisure & Entertainment; Rainforest Walk Park is a Leisure & Entertainment; Parsik Hills is a Landuse: Forest; Sector 9 Agro Project Farm is a Leisure & Entertainment; "
          ],
          [
           "Microsys Computers is a Commercial; Belapur Viewpoint is a Leisure & Entertainment; Heaven's Peak Viewpoint Belapur is a Leisure & Entertainment; Shangri-La is a Leisure & Entertainment; Bharathi Vidyapeeth is a Educational; Rajiv Gandhi International Stadium is a Leisure & Entertainment; YMCA Swimming Pool is a Leisure & Entertainment; Bharati Vidyapeeth is a Educational; D.Y. Patil School & Jr. College is a Educational; Belapur Sports Club Camping Site is a Leisure & Entertainment; Parsik Hills is a Landuse: Forest; "
          ],
          [
           "McDonald's is a Food & Drink; Kharghar Post Office is a Government & Public Services; More Supermarket - Kharghar is a Commercial; Cafe Cofee Day is a Food & Drink; Carnival Cinemas is a Leisure & Entertainment; Arcee Electronics is a Commercial; Subway is a Food & Drink; INOX is a Leisure & Entertainment; Royal Rasoi is a Food & Drink; Cafe Coffee Day is a Food & Drink; Monkey Point is a Leisure & Entertainment; Global Desi Tadka is a Food & Drink; shimring hights is a Residential; Bharathi Vidyapeeth is a Educational; National Institute of Fashion Technology is a Educational; AC Patil College of Engineering & Technology is a Educational; Bal Bharati Public School is a Educational; Prajapati Gaurav is a Residential; Little World Mall is a Commercial; NIFT Girls Hostel is a Residential; Niramaya Hospital  Raigarh is a Healthcare; YMT College of Management is a Educational; YMT School of Nursing is a Educational; Arham Arcade is a Residential; YMT Ayurvedic Medical College is a Educational; Mahadev Mungaji Gharat Park is a Leisure & Entertainment; Glomax Mall is a Commercial; Institute of Mechanical Engineering is a Educational; Institute of Business & Management Studies is a Educational; Bharati Vidyapeeth Deemed University Department of Engineering and Technology is a Educational; CIDCO Admin Office is a Commercial; Shah Prime is a Residential; Sai Health Centre is a Healthcare; Growmore Towers is a Residential; Sairama CHS is a Residential; Siemens is a Commercial; PMAY Kharghar is a Landuse: Construction; Ambika Heritage is a Residential; CIDCO Office - Kharghar is a Commercial; Nimisha Superspeciality Hospital is a Healthcare; YMT Medical and Dental College is a Educational; Parsik Hills is a Landuse: Forest; "
          ],
          [
           "Landmark Hotel is a Leisure & Entertainment; McDonald's is a Food & Drink; Kharghar Post Office is a Government & Public Services; More Supermarket - Kharghar is a Commercial; Hotel Three Star is a Leisure & Entertainment; Medicity Hospital is a Healthcare; YUVA Centre is a Leisure & Entertainment; Chroma is a Commercial; Carnival Cinemas is a Leisure & Entertainment; Arcee Electronics is a Commercial; Subway is a Food & Drink; INOX is a Leisure & Entertainment; Royal Rasoi is a Food & Drink; Monkey Point is a Leisure & Entertainment; Global Desi Tadka is a Food & Drink; Prajapati Gaurav is a Residential; Little World Mall is a Commercial; NIFT Girls Hostel is a Residential; King's Electronics is a Commercial; Hiranandani Complex is a Residential; Kharghar Police Station is a Government & Public Services; Glomax Mall is a Commercial; Institute of Mechanical Engineering is a Educational; Institute of Business & Management Studies is a Educational; CIDCO Admin Office is a Commercial; Cidco Park is a Leisure & Entertainment; Konark Acharya Atre CHS is a Residential; Bhoomi Heights Garden is a Residential; Shanti Niketan is a Residential; Radcliffe School is a Educational; Cidco Garden is a Leisure & Entertainment; Shah Prime is a Residential; Sai Health Centre is a Healthcare; Growmore Towers is a Residential; Sairama CHS is a Residential; CIDCO Office - Kharghar is a Commercial; Nimisha Superspeciality Hospital is a Healthcare; Taloje Creek is a Natural; "
          ],
          [
           "More Super Market is a Commercial; Diversion Canal is a Natural; Taloje Creek is a Natural; "
          ],
          [
           "Pizza Hut is a Food & Drink; B &J Superspeciality Hospital and Research Centre is a Healthcare; Diversion Canal is a Natural; Ma Laxmi Avenue is a Residential; "
          ],
          [
           "Suresh`s Home is a Residential; Pizza Hut is a Food & Drink; chaitra cafe is a Government & Public Services; M G M Hospital is a Healthcare; Vatsalya Multi Speciality Hospital is a Healthcare; Dr Singh's City Hospital and Medical Research Centre is a Healthcare; Suyash Surgical and Maternity Home is a Healthcare; Amar Hospital is a Healthcare; Dr. Alat's Sushrut Multispeciality Hospital is a Healthcare; Bait Enterprises is a Commercial; Blue Dart is a Commercial; Diversion Canal is a Natural; Cht. Shivaji Maharaj Ground is a Leisure & Entertainment; "
          ],
          [
           "bharati p is a Leisure & Entertainment; sohan is a Food & Drink; Noor is a Healthcare; vidi bar is a Food & Drink; M G M Hospital is a Healthcare; Vatsalya Multi Speciality Hospital is a Healthcare; Dhanvantri Hospital is a Healthcare; Dr. Bhuttor's Clinic is a Healthcare; Bait Enterprises is a Commercial; Diversion Canal is a Natural; CWC - Kalamboli is a Industrial; Steel Market is a Industrial; Kalamboli Fire Station is a Government & Public Services; "
          ],
          [
           "Byramjee Jeejeebhoy Point is a Natural; Castella de Aguada is a Leisure & Entertainment; Mumbai is a Natural; "
          ],
          [
           "Amphitheatre is a Leisure & Entertainment; Byramjee Jeejeebhoy Point is a Natural; Castella de Aguada is a Leisure & Entertainment; Bandra Fort gate is a Leisure & Entertainment; Fr Conceicao Rodrigues College of Engineering is a Educational; Taj Lands End is a Leisure & Entertainment; Mumbai is a Natural; "
          ],
          [
           "Mumbai is a Natural; "
          ],
          [
           "माहीम किल्ला is a Leisure & Entertainment; Rediff.com is a Commercial; Nandadeep Biscuit Mart is a Food & Drink; Simply Delicious is a Food & Drink; Sagar Sweets & Bakery is a Commercial; Vodafone Idea is a Commercial; Irani Cafe is a Food & Drink; Monjinis Cake Shop is a Commercial; Iyengar Bakery is a Commercial; Mahim Post Office  Mori Road is a Government & Public Services; And Chillis is a Food & Drink; Cafe Coffee Day is a Food & Drink; Comfort Clinic Nursing Home is a Healthcare; Dr Haresh Shah Prabhat Maternity and Surgical Nursing Home is a Healthcare; Gupte Maternity and Surgical Home is a Healthcare; Dr. Fonsecas Maternity and Surgical Home is a Healthcare; Ashwini Accident Hospital and Poly Clinic is a Healthcare; Laxmi Clinic is a Healthcare; Little Angels Nursery  Jr. & Sr. K. G. is a Educational; Tendulkar's Language Academy is a Educational; Bubblez World Preschool is a Educational; St. Michaels Pre-primary School is a Educational; New Ratna Hospital is a Healthcare; Welkarwadi BMC Hospital is a Healthcare; Raj Ratan Hospital is a Healthcare; Bristol Bakery is a Commercial; Jimmy Boy Bakery is a Commercial; Global Deli Mahim is a Commercial; Paramount Restaurant is a Food & Drink; Kesari Tours Pvt Ltd is a Commercial; Sardar Cycle Trading Company is a Commercial; Desai Park is a Leisure & Entertainment; Mahim Beach is a Natural; Mumbai is a Natural; Bombay Scottish is a Educational; Hinduja Clinic is a Healthcare; Hinduja Hospital is a Healthcare; Mahim Post Office is a Residential; KJ Khilnani High School is a Educational; Xavier Institute of Engineering is a Educational; Shahu Nagar Playground is a Leisure & Entertainment; Kabristan is a Landuse: Cemetery; White Rose is a Residential; Karam Bhoomi is a Residential; Mahim Mori Road Municipal Marathi School is a Educational; Sea Breeze is a Residential; canossa girls high school is a Educational; Nazareth Apartments is a Residential; Dr Khanderparkar is a Residential; Mutual Co-operative Housing Society is a Residential; Rom Lui is a Residential; Rizvi Heights is a Residential; Keshav is a Residential; Blue Sapphire is a Residential; Ashiana is a Residential; Lokmanya Vidya Mandir Jr College is a Educational; Sita Kunj is a Residential; Pradeep Villa is a Residential; DIdhi udyan is a Leisure & Entertainment; Shitladevi is a Landuse: Construction; Victory House is a Residential; Kumar Nivas is a Residential; Devida Apartment is a Residential; Kanakia Miami is a Residential; Victoria High school is a Educational; SaS Billabong High International School is a Educational; SMES High School is a Educational; Canossa Special School is a Educational; Canossa Girls High School is a Educational; ST. Michael High School is a Educational; Chotani Road Municipal High School is a Educational; "
          ],
          [
           "Testing Fire Station is a Government & Public Services; Maa Laxmi Jewelry is a Commercial; Azad Timber Mart is a Commercial; Juice Center is a Food & Drink; Little Angels' High School is a Educational; Machine Shop  is a Government & Public Services; Porter's Chimney is a Government & Public Services; Monjinis Cake Shop is a Commercial; Iyengar Bakery is a Commercial; Cafe Coffee Day is a Food & Drink; Sai Hospital is a Healthcare; Dr Savlas Child Care Centre is a Healthcare; Dr. Fonsecas Maternity and Surgical Home is a Healthcare; Dhanwantari Nursing Home and Diagnostic Centre is a Healthcare; Matunga Labour Camp Upper Primary Marathi School is a Educational; Khan's Clinic is a Healthcare; Janani Hospital is a Healthcare; Lelavati Hospital is a Healthcare; Aayush Hospital is a Healthcare; Bristol Bakery is a Commercial; Jimmy Boy Bakery is a Commercial; Jenifer computer center is a Commercial; Mastan Dairy is a Commercial; Rehmat multi cuisine restaurant is a Food & Drink; Desai Park is a Leisure & Entertainment; J.R Mehta Udyan is a Leisure & Entertainment; Central Railway Workshop is a Industrial; Dharavi is a Residential; Dharavi Hospital is a Residential; Kamaraj School is a Educational; Shahu Nagar Playground is a Leisure & Entertainment; Nazareth Apartments is a Residential; Mutual Co-operative Housing Society is a Residential; Rom Lui is a Residential; Keshav is a Residential; Blue Sapphire is a Residential; Bombay Girls' High School is a Educational; Shahu Nagar Municipal School is a Educational; Lokmanya Tilak Medical College is a Educational; Gosiya Milk sweets is a Commercial; Taxi stand is a Commercial; Victory House is a Residential; Kumar Nivas is a Residential; Devida Apartment is a Residential; SMES High School is a Educational; Gandhi Memorial English High School is a Educational; Banyan Tree English School is a Educational; A.I.’s Allana Boys High School & Jr. College is a Educational; Ayurseva Hospital is a Healthcare; Chotani Road Municipal High School is a Educational; "
          ],
          [
           "Utility Chemists is a Healthcare; Little Angels' High School is a Educational; Smt S.R.Mehta and Sir K.P.Cardiac Institute is a Healthcare; Machine Shop  is a Government & Public Services; Porter's Chimney is a Government & Public Services; Mata Lachmi Hospital is a Healthcare; Cafe Instaa is a Food & Drink; SK bookstall is a Commercial; Swami Nityanand hall is a Leisure & Entertainment; Vaishnav Seva Samaj is a Healthcare; Vyas' Surgery is a Healthcare; Sai Hospital is a Healthcare; Dr. Deosthaci's Eye Care Centre is a Healthcare; Iyers Polyclinic is a Healthcare; L.T.Muncipal Medical College and Sion Hospital is a Healthcare; Khan's Clinic is a Healthcare; Janani Hospital is a Healthcare; Sion Hospital is a Healthcare; Lelavati Hospital is a Healthcare; Aayush Hospital is a Healthcare; Gurukripa is a Food & Drink; la pinoz's pizza is a Food & Drink; Magnum Diagnostic Centre is a Healthcare; Sugar Rushh Cafe is a Food & Drink; Ajmat  Broiler is a Commercial; Skills Jewellers is a Commercial; Elite optik is a Commercial; Sweet County is a Commercial; Monginis is a Commercial; Half Tickets is a Commercial; Peninsula Veg is a Food & Drink; Hanuman Veg Restaurant is a Food & Drink; Outfit for men is a Commercial; Bombay Traders is a Commercial; Transit camp consumer society is a Commercial; Samsung Divine Communications is a Commercial; Make play with Flavours is a Commercial; Dessero is a Commercial; Tortaa the cake shop is a Commercial; Mercy Hotel is a Food & Drink; Kaveri Jewellers is a Commercial; Adarsh Sweets is a Food & Drink; Florian Spa n Salon is a Commercial; Ramdev Kirana Store is a Commercial; Outfit NX is a Commercial; National Travels is a Commercial; Sundaram shoes is a Commercial; Lokmanya Tilak Hospital is a Healthcare; J.R Mehta Udyan is a Leisure & Entertainment; Best Garden is a Leisure & Entertainment; Dharavi Municipal School is a Educational; Rani Laxmi Bai Udyan is a Leisure & Entertainment; Kamaraj School is a Educational; Swami Vivekananda is a Residential; Dharavi Police Station is a Government & Public Services; Sewa Samiti CHS is a Residential; Sion Municipality school is a Educational; Croma is a Commercial; Edupsyche is a Healthcare; Trinity High School is a Educational; Amber is a Residential; Shanti Sadan is a Residential; United Jain Students Home is a Residential; Mehta Building is a Residential; Geeta is a Residential; Value Enclave is a Residential; Shankar Villa is a Residential; Vijay Cottage is a Residential; Sukh Sadan is a Residential; Umed Sadan is a Residential; LIC Building is a Residential; Shreyas is a Residential; Shakti Bhuvan is a Residential; Laxmi Bhavan is a Residential; Welfare Mansion is a Residential; Devi Niwas is a Residential; Pervin Mansion is a Residential; Chandra Niwas is a Residential; Vishwa Apartment is a Residential; Sheetal Niwas is a Residential; Guru Nanak National High School is a Educational; Dr Keni House is a Residential; Triveni is a Residential; Laxmi Nivas is a Residential; West View is a Residential; Vallabh Niwas is a Residential; Shakuntal is a Residential; Little Angels School is a Educational; School Of Nursing is a Educational; Mata Lachmi Garden is a Leisure & Entertainment; SIES College of Arts & Science is a Educational; H B Shivdasani Udyan is a Leisure & Entertainment; Lokmanya Tilak Medical College is a Educational; Guru Nanak High School & College is a Educational; Shrikant Doshi Udyan is a Leisure & Entertainment; Dharmaprakash Sreenivasaiah High School is a Educational; Agarwada Playground is a Leisure & Entertainment; Ram Sharan is a Residential; "
          ],
          [
           "Wadala Truck Terminal is a Industrial; Hutment Colony is a Residential; K. J. Somaiya Institute of Technology is a Educational; Mala Garden is a Leisure & Entertainment; Casting Yard is a Industrial; Swami Vivekananda is a Residential; A 8 is a Residential; A 6 balaji building is a Residential; SIES College of Commerce & Economics is a Educational; Shiv Sneh CHS is a Residential; Croma is a Commercial; A-1 is a Residential; B-2 is a Residential; Guru Nanak High School & College is a Educational; Shrikant Doshi Udyan is a Leisure & Entertainment; "
          ],
          [
           "Wadala RTO Office is a Commercial; Pratiksha Nagar / Anik Bus Depot is a Industrial; Wadala Truck Terminal is a Industrial; Rashtriya Chemicals & Fertilizers is a Industrial; Casting Yard is a Industrial; A-1 is a Residential; B-2 is a Residential; Lodha Excelus is a Commercial; Lodha Gardenia is a Residential; Lodha Altia is a Residential; Lodha Estrella is a Residential; Lodha Elisium is a Residential; Lodha Dioro is a Residential; Lodha Enchante is a Residential; Lodha Evoq is a Residential; Lodha New Cuffe Parade is a Residential; Lodha New Cuffe Parade is a Commercial; "
          ],
          [
           "Ashish Theater is a Leisure & Entertainment; Dr. Shalini Jaisinghani Dental Surgeon - Chembur is a Healthcare; Dr.Bhute Nursing Home is a Healthcare; Chandra Maternity Hospital is a Healthcare; Shiv Hospital is a Healthcare; Chandra Hospital is a Healthcare; Chandra maternity Hospital is a Healthcare; Rashtriya Chemicals & Fertilizers is a Industrial; Ashish Talao is a Natural; Vacant Plot is a Residential; J.B. Shine Apartments is a Residential; Aayush Aura CHS is a Residential; 24 is a Residential; Dina Kunj is a Residential; VES ground is a Leisure & Entertainment; Mysore Colony Central Garden is a Leisure & Entertainment; Trees owned by RCF is a Natural; Mysore Colony trees is a Natural; Chhatrapati Shivaji Maharaj Statue is a Leisure & Entertainment; RCF trees is a Natural; "
          ],
          [
           "Ashish Theater is a Leisure & Entertainment; Jawahar Vidya Bhawan is a Educational; St. Sebastian's High School is a Educational; Sai Baba Hospital  Mumbai is a Healthcare; Dr.Bhute Nursing Home is a Healthcare; Chandra Maternity Hospital is a Healthcare; Shiv Hospital is a Healthcare; RCF Hospital is a Healthcare; Chandra Hospital is a Healthcare; Chandra maternity Hospital is a Healthcare; RCF Colony is a Residential; Ashish Talao is a Natural; TYPE IIIA  Building no. 13 is a Residential; RCF Sports Ground is a Leisure & Entertainment; Type 3/5 A B is a Residential; "
          ],
          [
           "Dining hall is a Food & Drink; drd park is a Leisure & Entertainment; Madhuban CHS is a Residential; Welcome General Store is a Commercial; Tulsidas is a Residential; St. Thomas Stores is a Commercial; Ajaz bicycle shop is a Commercial; Yamuna-B is a Residential; Yamuna-C is a Residential; Anand Singh is a Commercial; DEEPTIZ cake studio is a Commercial; Edits with Ak is a Commercial; Sharma ladies tailors is a Commercial; Tanaji Lankeshwar Home is a Commercial; Apna Kirana Store is a Commercial; Dilip Kirana Stores is a Commercial; Govinda Flower's Shop is a Commercial; Binjan Ladies Tailors is a Commercial; Ramji rampath shah is a Commercial; Divine Natural Solutions is a Commercial; Raj depot is a Commercial; Tata Institute of Social Sciences  New Campus is a Educational; Anushakti Nagar is a Residential; RCF Colony is a Residential; TISS Gymkhana is a Leisure & Entertainment; Mphil/Ph.D Ladies Hostel is a Leisure & Entertainment; Men's Hostel - 3 is a Leisure & Entertainment; Hostel No. 5 is a Residential; New Campus Basketball Court is a Leisure & Entertainment; Tata Institute of Social Sciences (TISS) is a Educational; Type 5  Bldg. No. 5 is a Residential; Yamuna is a Residential; Chandrabhaga is a Residential; Indrayani Apartment is a Residential; Satluj is a Residential; Tata Memorial Hospital Post Graduate's Hostel is a Leisure & Entertainment; Indrayani is a Residential; Atomic Energy Central School 6 is a Educational; Atomic Energy Central School 6 Grounds is a Educational; Western Sector Circle is a Leisure & Entertainment; Tukaram is a Residential; Eknath is a Residential; Western Sector Market is a Commercial; Type 3/5 A B is a Residential; "
          ],
          [
           "karan cafe is a Food & Drink; Atomic Energy Central School -1 is a Educational; Shakari Bhandar Pharmacy is a Healthcare; Cafe Coffee Day is a Food & Drink; Trombay High Level Reservoir is a Natural; Kailash Park is a Leisure & Entertainment; Sangam Jalvayu Vihar is a Natural; Mandakini parks is a Leisure & Entertainment; BARCOA is a Commercial; ARWA Gym centre is a Leisure & Entertainment; Aasaan stores is a Commercial; AECS-3 Playground is a Leisure & Entertainment; Jagtap is a Commercial; Tulsidas is a Residential; St. Thomas Stores is a Commercial; Ajaz bicycle shop is a Commercial; Yamuna-B is a Residential; Divine Natural Solutions is a Commercial; Raj depot is a Commercial; Tata Institute of Social Sciences  New Campus is a Educational; Anushakti Nagar is a Residential; 9 is a Residential; 10 is a Residential; 38 is a Residential; 37 is a Residential; 36 is a Residential; 12 is a Residential; 35 is a Residential; 7 is a Residential; 11 is a Residential; Hostel No. 5 is a Residential; New Campus Basketball Court is a Leisure & Entertainment; Anushaktinagar Lake is a Natural; Atomic Energy Junior College is a Educational; Deonar Dispensary (W) is a Healthcare; Malayagiri is a Residential; Kailash is a Residential; Kedarnath is a Residential; Badrinath is a Residential; Sabarmati is a Residential; Mandakini is a Residential; Dilwara is a Residential; Sahakari Bhandar is a Commercial; Periyar is a Residential; Gangotri is a Residential; Saraswati is a Residential; Shriniketan is a Residential; Ghaghra is a Residential; Chidambaram is a Residential; Sarayu is a Residential; Sabarigiri is a Residential; Venkatagiri is a Residential; Massoorie is a Residential; CT & CRS Building is a Commercial; Girnar is a Residential; Aravali is a Residential; Mount Abu is a Residential; Satpura is a Residential; Chaitanya is a Residential; 1 is a Residential; Bhavani is a Residential; 3 is a Residential; Brindavan is a Residential; 15 is a Residential; Vikram Jyoti CHS is a Residential; Chandrabhaga is a Residential; Indrayani Apartment is a Residential; Indrayani is a Residential; Bhagirathi is a Residential; Godavari is a Residential; 41 is a Residential; 42 is a Residential; 13 is a Residential; 4 is a Residential; BARC Hospital Canteen is a Food & Drink; Trombay Township Fine Arts Club (TTFAC) is a Leisure & Entertainment; Atomic Energy Central School 1 Grounds is a Educational; Sector Market is a Commercial; Atomic Energy Junior College Grounds is a Educational; Nalanda is a Residential; Pataliputra is a Residential; Takshashila is a Residential; Cauveri is a Residential; Krishna is a Residential; Atomic Energy Central School 6 is a Educational; Atomic Energy Central School 6 Grounds is a Educational; Dwaraka is a Residential; Sarnath is a Residential; Narmada is a Residential; Sahyadri is a Residential; Vindhya is a Residential; HBNI Hostel is a Leisure & Entertainment; Post Graduate's Hostel is a Leisure & Entertainment; Jaidev is a Residential; Kabir is a Residential; Namdev is a Residential; Fish and Chicken Store is a Commercial; Shakuntalam is a Leisure & Entertainment; Western Sector Circle is a Leisure & Entertainment; Parasnath is a Residential; Mansarovar is a Residential; Mirabai is a Residential; Ramdas is a Residential; Tukaram is a Residential; Eknath is a Residential; Western Sector Market is a Commercial; Tapi is a Residential; Jaintia is a Residential; 14 is a Residential; 34 is a Residential; 33 is a Residential; 39 is a Residential; 40 is a Residential; 6 is a Residential; 5 is a Residential; 2 is a Residential; 43 is a Residential; 44 is a Residential; 45 is a Residential; Saras Baug is a Residential; 46 is a Residential; 47 is a Residential; 48 is a Residential; 8 is a Residential; BARC Hospital is a Healthcare; Nabhikiya Urja Bhavan is a Commercial; Atomic Energy Regulator Board 'A' Block is a Commercial; Atomic Energy Regulatory Board is a Commercial; "
          ],
          [
           "Bliss Bakery is a Commercial; Laxmi general store is a Commercial; Kendriya Vidyalaya Mankhurd is a Educational; Naval KG School Mankhurd is a Educational; NOFRA  Mankhurd is a Educational; Bablu Chicken shop is a Commercial; Raju Stores is a Commercial; Mandala Chat Center is a Food & Drink; Krishna Store is a Commercial; Vijay Salon is a Commercial; Kamlesh Fast Food is a Food & Drink; Bicycle repair shop is a Commercial; Glamour Parlour is a Commercial; Shetty's Corner is a Commercial; Bablu Chicken Shop is a Commercial; Garden Amaze the plant bouquet with love is a Commercial; Sheravati playground is a Leisure & Entertainment; Hemavati ground is a Leisure & Entertainment; WMART is a Commercial; Akash ganga fruits and vegetable shop is a Commercial; Golden Gate Restaurant is a Food & Drink; Bhabha Atomic Research Centre - BARC is a Industrial; Nutan Vidya Mandir is a Educational; Naval Armament Depot is a Landuse: Military; New Mandala Village is a Residential; Labour Colony is a Residential; Anushakti Nagar is a Residential; Chaitra is a Residential; Margashirsha is a Residential; Magha is a Residential; Kartika is a Residential; TIFR 96 Flats is a Residential; Champa is a Residential; Atomic Energy Central School V is a Educational; Kamal is a Residential; Triveni is a Residential; Everest is a Residential; Vaishak is a Residential; Kamal-D is a Residential; Hemant-D is a Residential; Sharavati-B is a Residential; Kamal-B is a Residential; Dispensary (Mandala) is a Healthcare; Rajnigandha-A is a Residential; Grishma is a Residential; Sharavati-D is a Residential; Tungabhadra is a Residential; Rajnigandha-D is a Residential; Kamal-C is a Residential; Hemavati-C is a Residential; Vasant is a Residential; Sindhu is a Residential; Hemavati-A is a Residential; Hemant-A is a Residential; Sharavati-A is a Residential; Parijat-D is a Residential; Varsha-C is a Residential; Parijat-B is a Residential; Gautami is a Residential; Hemavati-D is a Residential; Rajnigandha-C is a Residential; Varsha-B is a Residential; Hemant-B is a Residential; Sharavati-C is a Residential; Varsha-D is a Residential; Parijat-A is a Residential; Kamal-A is a Residential; Rajnigandha-B is a Residential; Sharad is a Residential; Varsha-A is a Residential; Parijat-C is a Residential; Hemavati-B is a Residential; Nandadevi is a Residential; Akashganga is a Residential; Pankaj is a Residential; Gulmohar is a Residential; Kumud is a Residential; Hemant is a Residential; Varsha is a Residential; Hemavati is a Residential; Sharavati is a Residential; Rajnigandha is a Residential; Dispensary Ground is a Leisure & Entertainment; Mandala Market is a Commercial; Anushaktinagar Annex is a Residential; Parijat is a Residential; Vasundhara is a Residential; Hemant Park is a Leisure & Entertainment; Dispensary Garden is a Leisure & Entertainment; Rim Gym Park Mandala is a Landuse: Recreation_ground; Varsha Ground is a Leisure & Entertainment; A.E.C.S. 5 Playground is a Leisure & Entertainment; Sharavati Ground is a Leisure & Entertainment; Parijat Ground is a Leisure & Entertainment; Rajnigandha Ground is a Leisure & Entertainment; Kamal Ground is a Leisure & Entertainment; "
          ],
          [
           "Azad School is a Educational; Sana Classes is a Educational; Janata Hotel is a Leisure & Entertainment; sam is a Leisure & Entertainment; bhucdi play ground is a Leisure & Entertainment; gym is a Leisure & Entertainment; trombay police station is a Government & Public Services; dilshad bakery is a Commercial; Herron ms-cit clases is a Commercial; bombay medical store is a Commercial; Aryan Hospital is a Healthcare; Sir Sayyad English High School is a Educational; Crescent High School is a Educational; Vivekanand English High School is a Educational; Trombay Municipal Marathi School is a Educational; Fazlani Star English High School and Junior College is a Educational; Trombay Public High School is a Educational; NOFRA  Mankhurd is a Educational; Bhabha Atomic Research Centre - BARC is a Industrial; Naval Armament Depot is a Landuse: Military; Sector A is a Residential; Sector I is a Residential; Sector F is a Residential; Sector B is a Residential; Sector C is a Residential; Sector D is a Residential; Sectoer D is a Residential; Sector G is a Residential; Sector K is a Residential; Amar nagar is a Residential; Sector J is a Residential; Sainathnagar (Custom RToad ) is a Residential; Datta Nagar is a Residential; Sector E is a Residential; Koliwada (Trombay) is a Residential; Payalipada is a Residential; Essel Studios is a Industrial; Azad High School and jr.college is a Educational; shaikh iqbal shop is a Commercial; 9 mirja gali marg is a Leisure & Entertainment; soyuz building is a Residential; lal maidan is a Landuse: Recreation_ground; al-farook hotel is a Leisure & Entertainment; dosti hotel is a Leisure & Entertainment; bombay medical is a Commercial; K setor is a Residential; Trombay Police Station is a Government & Public Services; Anushaktinagar Annex is a Residential; Shahaji Nagar Municipal Public School is a Educational; "
          ],
          [
           "trombay police station is a Government & Public Services; dilshad bakery is a Commercial; Fazlani Star English High School and Junior College is a Educational; Sector C is a Residential; Sector D is a Residential; Sectoer D is a Residential; Sector E is a Residential; Essel Studios is a Industrial; shaikh iqbal shop is a Commercial; 9 mirja gali marg is a Leisure & Entertainment; dosti hotel is a Leisure & Entertainment; bhucdi play ground is a Leisure & Entertainment; "
          ],
          [
           "Health Juice and Fast Food is a Food & Drink; Chhatrapati Sambhaji Raje Park is a Leisure & Entertainment; Sunshine Hospital is a Healthcare; Sagar Darshan CHS is a Residential; "
          ],
          [
           "Ojas Nursing Home is a Healthcare; Aryan Hospital is a Healthcare; Sushrusha Heart Care Center and Speciality Hospital is a Healthcare; Sanjivani Hospital and Iccu is a Healthcare; Kamlesh Mother and Child Hospital is a Healthcare; Chaitanya Child Care Centre is a Healthcare; Health Juice and Fast Food is a Food & Drink; Rahul Jagtap  Orthopedics Surgeon is a Healthcare; Shivaji Garden is a Leisure & Entertainment; CIDCO Garden is a Leisure & Entertainment; Bhausaheb Shere Garden is a Leisure & Entertainment; Pandit Rama Bhagat Park is a Leisure & Entertainment; Chhatrapati Sambhaji Raje Park is a Leisure & Entertainment; Talav Park is a Leisure & Entertainment; Nerul Pond is a Natural; Gaondevi Park is a Leisure & Entertainment; Ramleela Ground is a Landuse: Recreation_ground; Terna Medical College is a Educational; Terna High School is a Educational; Anna Saheb Park is a Leisure & Entertainment; M.G.M College is a Educational; Rajmata Jijau Park is a Leisure & Entertainment; Dharmveer Anand Saheb Park is a Leisure & Entertainment; Nerul is a Commercial; Vidyabhavan High School is a Educational; Delhi Public World School is a Educational; NMMC School - Sarsole is a Educational; Marathi School is a Educational; Meerabai Thackray Ground is a Leisure & Entertainment; Sunshine Hospital is a Healthcare; Mata Amritanandamayi Baug is a Leisure & Entertainment; Prabodhankar Thakare Ground is a Leisure & Entertainment; NMMC School is a Educational; Sagar Darshan CHS is a Residential; "
          ],
          [
           "Reliance Fresh is a Commercial; Dr. DY Patil Sports Stadium is a Leisure & Entertainment; SIES Amphitheatre is a Leisure & Entertainment; Ojas Nursing Home is a Healthcare; Surya Hospital and Iccu is a Healthcare; Harish Hospital and Iccu is a Healthcare; Raj Hospital  Mumbai is a Healthcare; Chaitanya Child Care Centre is a Healthcare; Swasthya Organic Store is a Commercial; Rahul Jagtap  Orthopedics Surgeon is a Healthcare; Dr. DY Patil Sports Complex is a Leisure & Entertainment; Jimmy Park One Row Houses is a Residential; MTNL is a Commercial; CIDCO Garden is a Leisure & Entertainment; Bhausaheb Shere Garden is a Leisure & Entertainment; Renukacharya Park is a Leisure & Entertainment; Dr. D.Y. Patil Hospital is a Healthcare; Medical University is a Educational; R.R Patil Garden is a Leisure & Entertainment; Sterling School & College of Arts  Science & Commerce is a Educational; Anna Saheb Park is a Leisure & Entertainment; Sardar Vallabhai Patel Park is a Leisure & Entertainment; Dr. Babasaheb Ambedkar Park is a Leisure & Entertainment; Step Garden is a Leisure & Entertainment; Sector-9 Park is a Leisure & Entertainment; Army Ground is a Leisure & Entertainment; S.I.E.S College is a Educational; College of Engineering is a Educational; Meenatai Thakre Hospital is a Healthcare; Apeejay School - Nerul is a Educational; Annabhau Sathe Park is a Leisure & Entertainment; NMMC Park is a Leisure & Entertainment; St. Xavier's High School & Jr. College is a Educational; M.G.M College is a Educational; St. Augustines High School is a Educational; Guru Nanak Park is a Leisure & Entertainment; Kalpana Chawla Park is a Leisure & Entertainment; Nerul is a Commercial; Nehru Park is a Leisure & Entertainment; SBI Ground is a Landuse: Recreation_ground; Saraswati College of Management is a Educational; Children's Park is a Leisure & Entertainment; Samaj Mandir Park is a Leisure & Entertainment; Shiravne Ground is a Leisure & Entertainment; SBOA Public School is a Educational; NMMC School is a Educational; SIES Lawn is a Leisure & Entertainment; School of Architecture is a Educational; Ayyappa Ground is a Landuse: Recreation_ground; School of Management is a Educational; Dr D Y Patil Hospital and Research Center is a Healthcare; Dr. D.Y. Patil Cricket Stadium is a Leisure & Entertainment; "
          ],
          [
           "Reliance Fresh is a Commercial; Dr. DY Patil Sports Stadium is a Leisure & Entertainment; Parsik Hills Quarry Viewpoint is a Leisure & Entertainment; Belapur Waterfall is a Leisure & Entertainment; Dr. DY Patil Sports Complex is a Leisure & Entertainment; Dr. D.Y. Patil Hospital is a Healthcare; R.R Patil Garden is a Leisure & Entertainment; Ekta Vihar is a Residential; SBI Ground is a Landuse: Recreation_ground; SBOA Public School is a Educational; DREAM APEX REALITY 24HIGH is a Commercial; Green Valley Park is a Leisure & Entertainment; Belapur Waterfall Lake is a Natural; Parsik Hills is a Landuse: Forest; Dr. D.Y. Patil Cricket Stadium is a Leisure & Entertainment; "
          ],
          [
           "Acharya Shri Nanesh Hospital is a Healthcare; Belapur Waterfall is a Leisure & Entertainment; Ganesh Udhyan is a Leisure & Entertainment; Swatantra Veer Sawarkar Park is a Leisure & Entertainment; Green Valley Park is a Leisure & Entertainment; Belapur Waterfall Lake is a Natural; Parsik Hill Plateau Camp Site is a Leisure & Entertainment; Parsik Hills is a Landuse: Forest; "
          ],
          [
           "Shangri-La is a Leisure & Entertainment; Fanaspada Lake is a Natural; Parsik Hills is a Landuse: Forest; "
          ],
          [
           "Domino's is a Food & Drink; Cafe Cofee Day is a Food & Drink; Ashwini General Hospital is a Healthcare; Landmark CHS is a Residential; Advanced Arthritis and Rheumatology Center is a Healthcare; shimring hights is a Residential; Kendriya Vihar is a Residential; Bal Bharati Public School is a Educational; Sai Garden CHS is a Residential; Harmony International School is a Educational; NIFT Girls Hostel is a Residential; Niramaya Hospital  Raigarh is a Healthcare; Kaveri CHS is a Residential; Regency Park CHS is a Residential; Sai Krupa Hill View CHS is a Residential; Kharghar Fire Station is a Government & Public Services; Shree Krishna Paradise is a Residential; Eden Gardens is a Residential; Sriram CHS Ltd is a Residential; Savli CHS is a Residential; Mitr Hospitals is a Healthcare; Mahadev Mungaji Gharat Park is a Leisure & Entertainment; Hiranandani Complex is a Residential; Cidco Sector-7 Park is a Leisure & Entertainment; Institute of Business & Management Studies is a Educational; Saraswati College of Engineering  Kharghar is a Educational; Saraswati Institute of Technology is a Educational; Cidco Park is a Leisure & Entertainment; The Gokhale Education Society is a Educational; Hardrock is a Residential; Mahaavir Astha is a Residential; Pride CHS is a Residential; Patel Heritage is a Residential; YMT Medical and Dental College is a Educational; Parsik Hills is a Landuse: Forest; "
          ],
          [
           "Landmark Hotel is a Leisure & Entertainment; Hotel Three Star is a Leisure & Entertainment; Medicity Hospital is a Healthcare; YUVA Centre is a Leisure & Entertainment; Chroma is a Commercial; Ambika Palace is a Food & Drink; Kitchen Wold is a Commercial; Barista is a Food & Drink; Shree Childrens Hospital is a Healthcare; Sukrut Maternity Clinic is a Healthcare; Sanjeevan Hospital  Raigarh is a Healthcare; Ek Omkar Healthcare Centre is a Healthcare; Deshpande Children's Hospital is a Healthcare; Riddhi Children's Hospital and Dental Clinic is a Healthcare; Ashwini General Hospital is a Healthcare; Landmark CHS is a Residential; Kendriya Vihar is a Residential; Ryan International School - Kharghar is a Educational; Sai Krupa Hill View CHS is a Residential; Kharghar Fire Station is a Government & Public Services; Shree Krishna Paradise is a Residential; Millennium Grand is a Residential; King's Electronics is a Commercial; Nana Nani Park is a Leisure & Entertainment; Hiranandani Complex is a Residential; Kharghar Police Station is a Government & Public Services; Goodwill Paradise is a Residential; Cidco Sector-7 Park is a Leisure & Entertainment; Cidco Park is a Leisure & Entertainment; Konark Acharya Atre CHS is a Residential; NCRD's Working Women Hostel is a Residential; Kharghar Water Station is a Industrial; The Gokhale Education Society is a Educational; Hardrock is a Residential; Mahaavir Astha is a Residential; Pride CHS is a Residential; Patel Heritage is a Residential; "
          ],
          [
           "D-Mart - Kharghar is a Commercial; More Super Market is a Commercial; Kitchen Wold is a Commercial; Diversion Canal is a Natural; Gharkul is a Residential; Kopra Lake is a Natural; Spagetti is a Residential; D-Mart is a Commercial; Goodwill Paradise is a Residential; Vastu Vihar is a Residential; Vibgyor High School is a Educational; DAV International School  Kharghar is a Educational; Taloje Creek is a Natural; "
          ],
          [
           "silver classic is a Residential; Holkar Multispeciality Hospital & Dental Care is a Healthcare; DR. CHALWADE'S HRUDAYAM HEART CARE CLINIC AND SONOGRAPHY CENTRE is a Healthcare; Diversion Canal is a Natural; Navi Mumbai Police Headquaters is a Commercial; Vastu Vihar is a Residential; Navi Mumbai Police Ground is a Leisure & Entertainment; Suasth Hospital is a Healthcare; "
          ],
          [
           "chaitra cafe is a Government & Public Services; Tawa Delight is a Government & Public Services; Jeevandeep Hospital is a Healthcare; Amar Hospital is a Healthcare; Tathastu Women's Hospital is a Healthcare; Holkar Multispeciality Hospital & Dental Care is a Healthcare; Aasha Hospital is a Healthcare; Shri Samarth Children's Hospital is a Healthcare; DR. CHALWADE'S HRUDAYAM HEART CARE CLINIC AND SONOGRAPHY CENTRE is a Healthcare; Diversion Canal is a Natural; Navi Mumbai Police Headquaters is a Commercial; Navi Mumbai Police Ground is a Leisure & Entertainment; Suasth Hospital is a Healthcare; "
          ],
          [
           "Jeevandeep Hospital is a Healthcare; Diversion Canal is a Natural; Steel Market is a Industrial; DUPLEX STEEL AND ENGINEERING COMPANY is a Industrial; "
          ],
          [
           "Sai Samudra is a Food & Drink; sarkar swimming pool is a Leisure & Entertainment; sarkar private pool is a Leisure & Entertainment; Taj Lands End is a Leisure & Entertainment; Mumbai is a Natural; Sarkar Heritage is a Residential; Café Sea Side is a Food & Drink; "
          ],
          [
           "माहीम किल्ला is a Leisure & Entertainment; Rediff.com is a Commercial; Mahim Post Office  Mori Road is a Government & Public Services; St. Michaels Pre-primary School is a Educational; Mahim Police Hospital is a Healthcare; Shanti Nursing Home is a Healthcare; Mahim Beach is a Natural; Bandra Station is a Landuse: Railway; Mumbai is a Natural; Bandra BEST Bus Depot is a Industrial; KJ Khilnani High School is a Educational; Madrasa is a Educational; S.L. Raheja Hospital is a Healthcare; Sagar Society is a Residential; Dharavi is a Residential; Xavier Institute of Engineering is a Educational; Kabristan is a Landuse: Cemetery; Mahim Police Colony Municipal School is a Educational; White Rose is a Residential; sagar samrat is a Residential; sagar darshan is a Residential; Karam Bhoomi is a Residential; Mahim Mori Road Municipal Marathi School is a Educational; Sea Breeze is a Residential; swami vivekanand garden is a Leisure & Entertainment; Bandra Fire Brigade is a Government & Public Services; BWSL Promonade is a Leisure & Entertainment; Dil Bahar Hotel is a Food & Drink; Shalimar is a Food & Drink; Jisaan is a Commercial; The cake house is a Food & Drink; Abhinandan is a Food & Drink; Nogauri Ama Milk center is a Food & Drink; Datar Darbar is a Food & Drink; Bakery is a Food & Drink; Nadeem Milk Production is a Commercial; Kanakia Miami is a Residential; Mahim Causeway Municipal Marathi School is a Educational; ST. Michael High School is a Educational; Nargiss Dutt Nagar is a Residential; "
          ],
          [
           "urbz is a Commercial; Lifecare Hospital is a Healthcare; Piwala Bungalow Dispensary is a Healthcare; Apple Store is a Commercial; Maker Maxity is a Commercial; Dharavi is a Residential; Holi Maidan is a Leisure & Entertainment; 11 High is a Commercial; Dil Bahar Hotel is a Food & Drink; Shalimar is a Food & Drink; Jisaan is a Commercial; The cake house is a Food & Drink; Shiv Medical stores is a Commercial; Abhinandan is a Food & Drink; Nogauri Ama Milk center is a Food & Drink; Datar Darbar is a Food & Drink; Gosiya Milk sweets is a Commercial; Taxi stand is a Commercial; Bakery is a Food & Drink; Nadeem Milk Production is a Commercial; Dharavi is a Landuse: Construction; Jio World Drive is a Commercial; Bharat Ratna Rajiv Gandhi Stadium is a Leisure & Entertainment; Ayurseva Hospital is a Healthcare; "
          ],
          [
           "Kala Qila is a Leisure & Entertainment; Shangrila is a Leisure & Entertainment; urbz is a Commercial; Cafe Instaa is a Food & Drink; SK bookstall is a Commercial; Swami Nityanand hall is a Leisure & Entertainment; Dr. Deosthaci's Eye Care Centre is a Healthcare; Ashirwad Nursing Home  Amravati is a Healthcare; Krishna Eye Centre is a Healthcare; Lifecare Hospital is a Healthcare; Piwala Bungalow Dispensary is a Healthcare; Resham Hospital is a Healthcare; Gurukripa is a Food & Drink; Hotel shraddha is a Food & Drink; McDonald's is a Food & Drink; la pinoz's pizza is a Food & Drink; Nature Education Centre is a Leisure & Entertainment; Sugar Rushh Cafe is a Food & Drink; Skills Jewellers is a Commercial; Elite optik is a Commercial; Sweet County is a Commercial; Monginis is a Commercial; Half Tickets is a Commercial; Apna Hotel is a Food & Drink; Peninsula Veg is a Food & Drink; Hanuman Veg Restaurant is a Food & Drink; Padmavati Ceramic is a Commercial; Cheers Restro Bar is a Food & Drink; Outfit for men is a Commercial; Bombay Traders is a Commercial; Transit camp consumer society is a Commercial; Samsung Divine Communications is a Commercial; Neha Creations is a Commercial; Make play with Flavours is a Commercial; Dessero is a Commercial; Tortaa the cake shop is a Commercial; Mercy Hotel is a Food & Drink; Kaveri Jewellers is a Commercial; Jafar Machine tools is a Commercial; Adarsh Sweets is a Food & Drink; Sangam Hotel is a Food & Drink; Florian Spa n Salon is a Commercial; Outfit NX is a Commercial; National Travels is a Commercial; Sundaram shoes is a Commercial; Sana Leather is a Commercial; Best Garden is a Leisure & Entertainment; P. Jawaharlal Nehru Park is a Leisure & Entertainment; Maharashtra Nature Park is a Leisure & Entertainment; Dharavi BEST Bus Depot is a Industrial; Dharavi Municipal School is a Educational; CGHS Colony is a Residential; Rani Laxmi Bai Udyan is a Leisure & Entertainment; Holi Maidan is a Leisure & Entertainment; Sion Talav is a Natural; Dharavi Police Station is a Government & Public Services; 11 High is a Commercial; Edupsyche is a Healthcare; Amber is a Residential; Shanti Sadan is a Residential; United Jain Students Home is a Residential; Shankar Villa is a Residential; Vijay Cottage is a Residential; Sukh Sadan is a Residential; Shreyas is a Residential; Laxmi Bhavan is a Residential; Devi Niwas is a Residential; Pervin Mansion is a Residential; Laxmi Nivas is a Residential; Vallabh Niwas is a Residential; SIES College of Arts & Science is a Educational; H B Shivdasani Udyan is a Leisure & Entertainment; Dharmaprakash Sreenivasaiah High School is a Educational; Bharat Ratna Rajiv Gandhi Stadium is a Leisure & Entertainment; Kalakilla BEST Bus Depot is a Industrial; Ram Sharan is a Residential; "
          ],
          [
           "Shangrila is a Leisure & Entertainment; Shekhar is a Commercial; Dr.Patrawala's Kalpana Nursing Home is a Healthcare; Krishna Eye Centre is a Healthcare; Sion/Shiv Fort is a Natural; Dalvi Nursing Home is a Healthcare; Hotel shraddha is a Food & Drink; Dalvi nursing home is a Healthcare; Kori Classes is a Commercial; Apna Hotel is a Food & Drink; Padmavati Ceramic is a Commercial; Hotel home town is a Leisure & Entertainment; Sangam Hotel is a Food & Drink; Pratiksha Nagar / Anik Bus Depot is a Industrial; P. Jawaharlal Nehru Park is a Leisure & Entertainment; Samarth Nagar is a Residential; CGHS Colony is a Residential; Vrindavan Society is a Residential; Play Area is a Leisure & Entertainment; Rustomjee Aspiree is a Commercial; K. J. Somaiya Institute of Technology is a Educational; Mala Garden is a Leisure & Entertainment; Sion Talav is a Natural; SIES College of Commerce & Economics is a Educational; Shiv Sneh CHS is a Residential; सायन किल्ला is a Leisure & Entertainment; Chhatrapati Shivaji Maharaj Park is a Leisure & Entertainment; Brihanmumbai Mahanagar Palika Garden is a Leisure & Entertainment; Godrej Coliseum is a Commercial; K. J. Somaiya College of Physiotherapy is a Educational; K.J. Somaiya Hospital and Research Centre is a Healthcare; Pan Bajar Society is a Residential; Everard Nagar Society is a Residential; "
          ],
          [
           "Ground is a Leisure & Entertainment; BEST Museum is a Leisure & Entertainment; Shekhar is a Commercial; Maitri Classic Bldg is a Leisure & Entertainment; Pratiksha Nagar / Anik Bus Depot is a Industrial; Rashtriya Chemicals & Fertilizers is a Industrial; Advanced Training Institute ( ATI ) Residential Quarters is a Residential; Vidnyan bhawan is a Industrial; Dayalbagh University is a Commercial; Ashok Nagar is a Residential; Rustomjee Aspiree is a Commercial; Casting Yard is a Industrial; Bawa Towers A wing is a Residential; Sagar Apartments is a Residential; Bawa Towers B Wing is a Residential; Padhmabhushan Vasantdada Patil Pratishthan's College Of Engineering is a Educational; Godrej Coliseum is a Commercial; K. J. Somaiya College of Physiotherapy is a Educational; Maasaheb Meenatai Thackarey Botanical Garden is a Leisure & Entertainment; K.J. Somaiya Hospital and Research Centre is a Healthcare; Pan Bajar Society is a Residential; Everard Nagar Society is a Residential; "
          ],
          [
           "sng paark is a Leisure & Entertainment; Dr. Shalini Jaisinghani Dental Surgeon - Chembur is a Healthcare; Inlaks General Hospital is a Healthcare; Sitla Hospital is a Healthcare; Universal Eye Clinic and Surgical Centre is a Healthcare; VIG Refreshment is a Food & Drink; Jhama Sweets is a Food & Drink; Rashtriya Chemicals & Fertilizers is a Industrial; niraj apartment is a Residential; Building No 1 is a Residential; Shree Sanatan Dharam Vidhalaya is a Commercial; Teen Talav is a Natural; J.B. Shine Apartments is a Residential; Aayush Aura CHS is a Residential; Acres Club is a Leisure & Entertainment; V.E.S College of Arts  Science and Commerce is a Educational; VES ground is a Leisure & Entertainment; swami vivekanand college park is a Leisure & Entertainment; sindhi society gymkhana is a Leisure & Entertainment; Swami Vivekananda Statute is a Leisure & Entertainment; VES Garden area is a Leisure & Entertainment; Building No 8 is a Residential; Building No 9 is a Residential; Building No.7 is a Residential; Bombay Presidency Golf Club is a Leisure & Entertainment; "
          ],
          [
           "Inlaks Hospital is a Healthcare; MCGM Information Kiosk is a Commercial; Barista is a Food & Drink; kalyan store is a Commercial; Niramaya General Hospital is a Healthcare; Excel Urology Centre is a Healthcare; Nayak Medicare - Chembur is a Healthcare; Dr. Shalini Jaisinghani Dental Surgeon - Chembur is a Healthcare; Inlaks General Hospital is a Healthcare; Universal Eye Clinic and Surgical Centre is a Healthcare; Oma Hospital is a Healthcare; Sunny Childrens Hospital is a Healthcare; Shai Cafe and Bar is a Food & Drink; Sweet Bengal is a Commercial; Sadguru Veg Diet is a Food & Drink; Nature's Basket is a Commercial; Satvic Hospital is a Healthcare; VIG Refreshment is a Food & Drink; Cinepolis is a Leisure & Entertainment; Subway is a Food & Drink; Movietime Cinema is a Leisure & Entertainment; Nayak medicare -chembur is a Healthcare; Inlaska Hospital is a Healthcare; Badshah Logistics India Pvt Ltd is a Commercial; Orange Pharmacy is a Healthcare; Pot Pourri is a Food & Drink; Lucky Restaurant is a Food & Drink; Sassy Teaspoon is a Commercial; The Bar Stock Exchange is a Food & Drink; Jhama Sweets is a Food & Drink; N G Acharya Udyan is a Leisure & Entertainment; RCF Colony is a Residential; St. Gregorios High School is a Educational; niraj apartment is a Residential; Building No 1 is a Residential; Building No 2 is a Residential; Building No 4 is a Residential; Hotel Bahri Residency is a Leisure & Entertainment; Shree Sanatan Dharam Vidhalaya is a Commercial; Teen Talav is a Natural; TYPE IIIA  Building no. 13 is a Residential; Sri Nalini Apartments is a Residential; KStar Mall is a Commercial; RCF Sports Ground is a Leisure & Entertainment; Swimming Pool is a Leisure & Entertainment; Garden Apartment is a Residential; Bombay Presidency Golf Club(BPGC) is a Leisure & Entertainment; Building No 8 is a Residential; Building No 9 is a Residential; Building No.6 is a Residential; Building No.7 is a Residential; Bombay Presidency Golf Club is a Leisure & Entertainment; "
          ],
          [
           "Jollyland is a Leisure & Entertainment; Ghatla is a Leisure & Entertainment; National Job Development Center is a Educational; Dining hall is a Food & Drink; drd park is a Leisure & Entertainment; Brindavan Heights is a Residential; Sterling Apartments is a Residential; Daffodils Apartments is a Residential; TISS Staff Quarters is a Residential; Shubalaxmi is a Food & Drink; Anna Tapari is a Food & Drink; Dhiraj Towers is a Leisure & Entertainment; Niramaya General Hospital is a Healthcare; Excel Urology Centre is a Healthcare; Nayak Medicare - Chembur is a Healthcare; Sumitra Eye Hospital is a Healthcare; Dr.Suresh C Anand is a Healthcare; Ashirwad Hospital and Polyclinic is a Healthcare; Narurkar Ent Hospital is a Healthcare; Amarnath Multidisciplinary Children's Hospital is a Healthcare; Shai Cafe and Bar is a Food & Drink; Sadguru Veg Diet is a Food & Drink; Nature's Basket is a Commercial; Chroma is a Commercial; Movietime Cinema is a Leisure & Entertainment; Nayak medicare -chembur is a Healthcare; Tulsi medicals is a Healthcare; Orange Pharmacy is a Healthcare; Chembur Social is a Food & Drink; Pot Pourri is a Food & Drink; The Bar Stock Exchange is a Food & Drink; Nxt Level All Day Chembur is a Food & Drink; Chhatrapati Shivaji Chowk is a Landuse: Grass; Deonar BEST Bus Depot is a Industrial; RCF Colony is a Residential; St. Gregorios High School is a Educational; Tiss Library is a Educational; TISS Gymkhana is a Leisure & Entertainment; Mphil/Ph.D Ladies Hostel is a Leisure & Entertainment; Men's Hostel - 3 is a Leisure & Entertainment; Tata Institute of Social Sciences (TISS) is a Educational; Type 5  Bldg. No. 5 is a Residential; muncipal school is a Educational; bhaji&machi market is a Residential; Runwal Centre is a Residential; Central Bank of India is a Residential; Amar Mansion (under redevelopment) is a Landuse: Construction; Aayushi Super Shoppy is a Residential; Daffodils Apartment is a Residential; 20 is a Residential; 25 is a Residential; 18 is a Residential; 22 is a Residential; 23 is a Residential; 24 is a Residential; Shatabdi Hospital is a Healthcare; Shah & Anchor Kutchhi Engineering College Ground is a Leisure & Entertainment; Panjrapole is a Industrial; Sandeep Park Co-op. Hsg. Society Ltd. is a Residential; Open unecroached land  Childrens Aid Society is a Landuse: Recreation_ground; Apollo Spectra Hospital is a Healthcare; Shah & Anchor Kutchhi Engineering College is a Educational; Navdurga Society is a Residential; Indira Apartments is a Residential; Banganga is a Residential; 19 is a Residential; 21 is a Residential; Saras Baug is a Residential; Bombay Presidency Golf Club is a Leisure & Entertainment; "
          ],
          [
           "Jhonsons Diagnostics is a Healthcare; Star Auto Garage (Yusufbhai) is a Commercial; jonsons diagnostics is a Healthcare; Dipawali is a Residential; drfg is a Food & Drink; karan cafe is a Food & Drink; vikram industy is a Industrial; vadhavi resturant is a Food & Drink; AMAN is a Healthcare; Brindavan Heights is a Residential; Sterling Apartments is a Residential; Daffodils Apartments is a Residential; TISS Staff Quarters is a Residential; Anna Tapari is a Food & Drink; Cpp piping p ltd is a Commercial; Dhiraj Towers is a Leisure & Entertainment; Bhatti Eye Clinic is a Healthcare; CGHS Dispensary No.15  Deonar is a Healthcare; Shakari Bhandar Pharmacy is a Healthcare; Cafe Coffee Day is a Food & Drink; India Bistro is a Food & Drink; China Bistro is a Food & Drink; Tulsi medicals is a Healthcare; Trombay Creek is a Natural; BSNL Telecom Factory Deonar is a Industrial; Deonar BEST Bus Depot is a Industrial; Deonar Village is a Residential; Anushakti Nagar is a Residential; Post Office Deonar is a Government & Public Services; Govandi Police station is a Government & Public Services; MTNL Telephone Exchange Mankhurd is a Industrial; Sai Simran CHS is a Residential; Raheja Acropolis is a Residential; 9 is a Residential; 10 is a Residential; 38 is a Residential; 37 is a Residential; 36 is a Residential; 12 is a Residential; 35 is a Residential; 7 is a Residential; 11 is a Residential; Tiss Library is a Educational; 31 is a Residential; Deonar House is a Residential; Tata Institute of Social Sciences (TISS) is a Educational; Runwal Centre is a Residential; Dilwara is a Residential; Sahakari Bhandar is a Commercial; Gangotri is a Residential; CT & CRS Building is a Commercial; Chaitanya is a Residential; 1 is a Residential; 3 is a Residential; Brindavan is a Residential; 15 is a Residential; Vikram Jyoti CHS is a Residential; Central Bank of India is a Residential; Amar Mansion (under redevelopment) is a Landuse: Construction; Aayushi Super Shoppy is a Residential; Daffodils Apartment is a Residential; 20 is a Residential; 41 is a Residential; 26 is a Residential; 42 is a Residential; 27 is a Residential; 28 is a Residential; 25 is a Residential; 18 is a Residential; 22 is a Residential; 23 is a Residential; 13 is a Residential; 24 is a Residential; 4 is a Residential; 16 is a Residential; 17 is a Residential; 29 is a Residential; 32 is a Residential; Shatabdi Hospital is a Healthcare; CPP Ltd is a Industrial; Shah & Anchor Kutchhi Engineering College Ground is a Leisure & Entertainment; BARC Hospital Canteen is a Food & Drink; Sandeep Park Co-op. Hsg. Society Ltd. is a Residential; Open unecroached land  Childrens Aid Society is a Landuse: Recreation_ground; Kumud Vidyamandir is a Educational; Neelkanth Gardens is a Residential; Jaidev is a Residential; Kabir is a Residential; Namdev is a Residential; Fish and Chicken Store is a Commercial; Shakuntalam is a Leisure & Entertainment; Mirabai is a Residential; Ramdas is a Residential; Eknath is a Residential; Apollo Spectra Hospital is a Healthcare; Shah & Anchor Kutchhi Engineering College is a Educational; Navdurga Society is a Residential; Pratham is a Residential; Indira Apartments is a Residential; Banganga is a Residential; 19 is a Residential; 21 is a Residential; 14 is a Residential; 34 is a Residential; 33 is a Residential; 39 is a Residential; 40 is a Residential; 6 is a Residential; 5 is a Residential; 2 is a Residential; 43 is a Residential; 44 is a Residential; 45 is a Residential; Saras Baug is a Residential; 46 is a Residential; 47 is a Residential; 48 is a Residential; 8 is a Residential; 30 is a Residential; BARC Hospital is a Healthcare; Atomic Energy Regulator Board 'A' Block is a Commercial; Atomic Energy Regulatory Board is a Commercial; "
          ],
          [
           "Home for mental deficient childern is a Educational; NAD colony Ayudh Vihar is a Residential; store is a Commercial; Sai Medical Stores is a Healthcare; Tennis Court is a Leisure & Entertainment; Reliance is a Commercial; HBCSE Hostel is a Leisure & Entertainment; Padua High School is a Educational; Ramji's Tea Stall is a Food & Drink; Rain tree is a Natural; Canteen is a Food & Drink; V. G. Kulkarni Auditorium is a Leisure & Entertainment; Christmas Tree is a Natural; Night Jasmine plant is a Natural; Tamarind is a Natural; Plumeria is a Natural; Horsetail Palm is a Natural; Horse Tail Palm is a Natural; BEST Depot Canteen is a Food & Drink; balaji motor trianing school is a Retail; Gauva is a Natural; Rain Tree is a Natural; Mango Tree is a Natural; Palm is a Natural; Coconut Tree is a Natural; Washing Machine is a Commercial; Gender & Science Exhibit is a Leisure & Entertainment; Dipawali is a Residential; drfg is a Food & Drink; Saidip restarant & Bar is a Food & Drink; Lallubhai Police Station is a Government & Public Services; rajeshwar hardware store is a Commercial; pathology center is a Healthcare; gulshan co. op.ho.society is a Residential; Sai Darbar is a Food & Drink; New Life Clinic & Hijama Center is a Healthcare; Menon Gold and Diamonds is a Commercial; Dhood Papeshwar Dairy is a Commercial; Annapurna Farsan is a Food & Drink; Swastik Electric and hardware store is a Commercial; Adarsh fast food is a Food & Drink; Nalanda Xerox is a Commercial; Sandhya Tailors is a Commercial; Soham Medical and General Store is a Healthcare; Trombay Creek is a Natural; Nutan Vidya Mandir is a Educational; Naval Armament Depot is a Landuse: Military; Jan Kalyan Society is a Residential; Agarwadi Gaon is a Residential; Deonar Village is a Residential; Anushakti Nagar is a Residential; MTNL Telephone Exchange Mankhurd is a Industrial; Public Park is a Leisure & Entertainment; Front Lawn is a Leisure & Entertainment; Water pumping station is a Industrial; Homi Bhabha Centre for Science Education is a Educational; Childrens Garden home is a Educational; Anugiri is a Residential; Prerna CHS is a Residential; Ashtavinayak CHS is a Residential; Zarina Park is a Residential; Annabhau Sathe Nagar is a Residential; Mohite Patil Nagar is a Residential; Golkonda is a Residential; Hastinapur A is a Residential; Ellora A is a Residential; Ellora B is a Residential; Ellora D is a Residential; Hastinapur C is a Residential; Ellora C is a Residential; Hastinapur D is a Residential; NIUS Hostel is a Residential; NIUS canteen is a Food & Drink; Kumud Vidyamandir is a Educational; Lallubhai Compound is a Residential; Municipalty School is a Educational; Lallubai Ground is a Leisure & Entertainment; Hastinapur is a Residential; Hastinapur Market is a Commercial; Nalanda is a Residential; Ellora is a Residential; Fish and Chicken Store is a Commercial; Main Building is a Commercial; NIUS Office Block is a Commercial; "
          ],
          [
           "Bliss Bakery is a Commercial; Laxmi general store is a Commercial; unity park is a Leisure & Entertainment; sundar niwas is a Food & Drink; Maharashtra Nagar Police Station is a Government & Public Services; Annapurna Farsan is a Food & Drink; Swastik Electric and hardware store is a Commercial; Adarsh fast food is a Food & Drink; Soham Medical and General Store is a Healthcare; Garden Amaze the plant bouquet with love is a Commercial; Golden Gate Restaurant is a Food & Drink; Naval Armament Depot is a Landuse: Military; Anushakti Nagar is a Residential; Childrens Garden home is a Educational; Devi ground is a Landuse: Recreation_ground; Mohite Patil Nagar is a Residential; Vasant is a Residential; Varsha-C is a Residential; Varsha-D is a Residential; Sharad is a Residential; Varsha-A is a Residential; Varsha is a Residential; Varsha Ground is a Leisure & Entertainment; "
          ],
          [
           "Naval Armament Depot is a Landuse: Military; Sector A is a Residential; Sector F is a Residential; Sector B is a Residential; "
          ],
          [
           "Domino's is a Food & Drink; Sector-6 Park is a Leisure & Entertainment; Palm Beach Residency is a Residential; "
          ],
          [
           "Domino's is a Food & Drink; Sushrusha Heart Care Center and Speciality Hospital is a Healthcare; Kamlesh Mother and Child Hospital is a Healthcare; Manak Healthcare Hospital is a Healthcare; Mangal Prabhu Nursing Home  Polyclinic and Diagnostic Center is a Healthcare; Iss relocations is a Commercial; Parijat Chs is a Residential; Sanpada EMU Carshed is a Landuse: Railway; Shivaji Garden is a Leisure & Entertainment; CIDCO Garden is a Leisure & Entertainment; Chincholi Pond is a Natural; Chincholi Park is a Leisure & Entertainment; M.G.M College is a Educational; Rajmata Jijau Park is a Leisure & Entertainment; Sector-4 Park is a Leisure & Entertainment; NMMC School - Sarsole is a Educational; Shiravne School & Jr. College is a Educational; Senapati Netaji Palkar Ground is a Leisure & Entertainment; Amrita Vidyalayam School & Jr. College is a Educational; Dr. Babasaheb Ambedkar Park is a Leisure & Entertainment; Ganesh Ground is a Leisure & Entertainment; NMMC School is a Educational; Gaondevi Ground is a Leisure & Entertainment; Sector-6 Park is a Leisure & Entertainment; Sanpada Holding Pond is a Natural; Palm Beach Residency is a Residential; "
          ],
          [
           "Bhavna Honda is a Commercial; SIES Amphitheatre is a Leisure & Entertainment; Harish Hospital and Iccu is a Healthcare; Manak Healthcare Hospital is a Healthcare; BOT3 is a Commercial; Parijat Chs is a Residential; Dr. DY Patil Sports Complex is a Leisure & Entertainment; Hallmark - Honda is a Commercial; Travel and Tape Hospitality LLP is a Industrial; Chincholi Pond is a Natural; Dr. D.Y. Patil Hospital is a Healthcare; Medical University is a Educational; Chincholi Park is a Leisure & Entertainment; S.I.E.S College is a Educational; College of Engineering is a Educational; NMMC Park is a Leisure & Entertainment; St. Xavier's High School & Jr. College is a Educational; Shiravne School & Jr. College is a Educational; Amrita Vidyalayam School & Jr. College is a Educational; Dr. Babasaheb Ambedkar Park is a Leisure & Entertainment; Ganesh Ground is a Leisure & Entertainment; Gaondevi Ground is a Leisure & Entertainment; Nehru Park is a Leisure & Entertainment; Shiravne Ground is a Leisure & Entertainment; Mindspace - Juinagar is a Commercial; SIES Lawn is a Leisure & Entertainment; School of Architecture is a Educational; Courtyard is a Leisure & Entertainment; School of Management is a Educational; Dr D Y Patil Hospital and Research Center is a Healthcare; Dr. D.Y. Patil Cricket Stadium is a Leisure & Entertainment; "
          ],
          [
           "Parsik Hills Quarry Viewpoint is a Leisure & Entertainment; BOT3 is a Commercial; Dr. DY Patil Sports Complex is a Leisure & Entertainment; Travel and Tape Hospitality LLP is a Industrial; College of Engineering is a Educational; Mindspace - Juinagar is a Commercial; Courtyard is a Leisure & Entertainment; Parsik Hills is a Landuse: Forest; Dr. D.Y. Patil Cricket Stadium is a Leisure & Entertainment; "
          ],
          [
           "Parsik Hill Plateau Camp Site is a Leisure & Entertainment; Parsik Hills is a Landuse: Forest; "
          ],
          [
           "Fanaspada Lake is a Natural; Parsik Hills is a Landuse: Forest; "
          ],
          [
           "Hotel Basera is a Food & Drink; Texttures Unisex Salon & Spa is a Commercial; Pranam Hotel is a Food & Drink; Runway Plaza is a Food & Drink; Shree Sai Multispeciality Hospital is a Healthcare; Anjani Maternity and Nursing Home is a Healthcare; Zara’s Fitness Studio is a Leisure & Entertainment; Advanced Arthritis and Rheumatology Center is a Healthcare; Tawa Multicuisine Restaurant is a Food & Drink; Kharghar Valley Golf Course is a Leisure & Entertainment; Om Navjeevan Hospital  Raigarh is a Healthcare; Shree Krishna Paradise is a Residential; MTNL Office is a Commercial; Gram Vikas Market is a Commercial; Parsik Hills is a Landuse: Forest; "
          ],
          [
           "Daily Bazar is a Commercial; Reliance Fresh is a Commercial; Smokin' Joe's Pizza is a Food & Drink; Ambika Palace is a Food & Drink; Hotel Basera is a Food & Drink; Decent Chemist is a Commercial; Manasi Gold is a Commercial; Pranam Hotel is a Food & Drink; Army Canteen is a Commercial; Runway Plaza is a Food & Drink; Hotel Tulsi is a Food & Drink; Shree Childrens Hospital is a Healthcare; Sanjeevan Hospital  Raigarh is a Healthcare; Ek Omkar Healthcare Centre is a Healthcare; Deshpande Children's Hospital is a Healthcare; Kalpataru Hospital & Maternity Clinic is a Healthcare; Saanvi Children's Hospital is a Healthcare; Polaris Hospital is a Healthcare; Shree Sai Multispeciality Hospital is a Healthcare; Gayatri Gynac Clinic is a Healthcare; Riddhi Children's Hospital and Dental Clinic is a Healthcare; Suman Kanta Hospital is a Healthcare; Sabka Dentist is a Healthcare; Anjani Maternity and Nursing Home is a Healthcare; Dr. Nitin Amale Hospital is a Healthcare; Children's Hospital is a Healthcare; alpha quick bites fast food is a Food & Drink; Zara’s Fitness Studio is a Leisure & Entertainment; Spandan Hospital is a Healthcare; Tawa Multicuisine Restaurant is a Food & Drink; Raghunath Vihar is a Residential; Vasudev Balwant Phadke Park is a Leisure & Entertainment; Kharghar Valley Golf Course is a Leisure & Entertainment; CIDCO Park is a Leisure & Entertainment; Raigad CHS is a Residential; Om Navjeevan Hospital  Raigarh is a Healthcare; Sai Bhakti CHS is a Residential; MTNL Office is a Commercial; Maxus Cinema Hall is a Leisure & Entertainment; Christian Cemetry is a Landuse: Cemetery; Raigad Jilha Parishad High School is a Educational; Devdarshan Complex is a Residential; Haware Splendor is a Residential; Cidco Park is a Leisure & Entertainment; Tiara Shopping Centre is a Commercial; Panvel Muni Corp. Ward A Office (Kharghar Gram Panchayat) is a Commercial; Jalvayu Vihar Phase 2 Community Centre is a Leisure & Entertainment; Sector-20 Park is a Leisure & Entertainment; Park walking track is a Leisure & Entertainment; Jal Vayu Vihar is a Residential; Tilak Institute of Pharmacutical Research- Kharghar is a Educational; Cidco Hindu Cemetery Kharghar is a Landuse: Cemetery; Empire Estate Swimming Pool is a Leisure & Entertainment; Jalvayu Vihar Phase 2 playground is a Leisure & Entertainment; Jalvayu Vihar Phase 2 Tennis Court is a Leisure & Entertainment; Jalvayu Vihar Phase 2 Badminton Court is a Leisure & Entertainment; Jal Vayu Bihar Defense Enclave CHS  Phase 2 is a Residential; shah arcade is a Leisure & Entertainment; Sachin Tendulkar Maidan is a Landuse: Recreation_ground; Gram Vikas Market is a Commercial; "
          ],
          [
           "Daily Bazar is a Commercial; Reliance Fresh is a Commercial; D-Mart - Kharghar is a Commercial; Smokin' Joe's Pizza is a Food & Drink; Decent Chemist is a Commercial; Army Canteen is a Commercial; Polaris Hospital is a Healthcare; Raghunath Children's Clinic is a Healthcare; Sabka Dentist is a Healthcare; Pooja Eye Clinic is a Healthcare; Raghunath Vihar is a Residential; Gharkul is a Residential; Spagetti is a Residential; CIDCO Park is a Leisure & Entertainment; Ramsheth Thakur Public School is a Educational; Maxus Cinema Hall is a Leisure & Entertainment; Christian Cemetry is a Landuse: Cemetery; Devdarshan Complex is a Residential; D-Mart is a Commercial; Haware Splendor is a Residential; Cidco Park is a Leisure & Entertainment; Tiara Shopping Centre is a Commercial; Jalvayu Vihar Phase 2 Community Centre is a Leisure & Entertainment; Vastu Vihar is a Residential; Tilak Institute of Pharmacutical Research- Kharghar is a Educational; Cidco Hindu Cemetery Kharghar is a Landuse: Cemetery; Kharghar lake is a Natural; Kharghar Park is a Leisure & Entertainment; Suyash Heights is a Leisure & Entertainment; Empire Estate Swimming Pool is a Leisure & Entertainment; Jalvayu Vihar Phase 2 playground is a Leisure & Entertainment; Jalvayu Vihar Phase 2 Tennis Court is a Leisure & Entertainment; Jalvayu Vihar Phase 2 Badminton Court is a Leisure & Entertainment; Jal Vayu Bihar Defense Enclave CHS  Phase 2 is a Residential; shah arcade is a Leisure & Entertainment; Vibgyor High School is a Educational; "
          ],
          [
           "Vastu Vihar is a Residential; "
          ],
          [
           "Maharashtra Industrial Development Centre - MIDC Taloja is a Industrial; "
          ],
          [
           "Bandra Police Station is a Government & Public Services; SuperDoc Medical Store is a Healthcare; Manohar Sweets is a Food & Drink; Hardware Store is a Commercial; Highway Store is a Commercial; Raja ( Southindian FAST FOOD ) is a Food & Drink; Amber is a Food & Drink; Mukesh Store is a Commercial; sunny wines is a Commercial; Manish Salon is a Commercial; Spiky is a Commercial; Nandi Cinema is a Leisure & Entertainment; Sahakari Bhandar is a Commercial; Shriji Tourist Tours and Travels is a Commercial; Deepa Bar and Restaurant is a Food & Drink; OK hair dressers is a Commercial; JK Travels is a Commercial; Canara Bar and Restaurant is a Food & Drink; Canara Travels Tailors Hotels is a Commercial; Monginis is a Commercial; Girnar Tea is a Commercial; Vodafone Store is a Commercial; Goodluck Wines is a Commercial; Dr. Jayprakash Hebbar is a Healthcare; Chand Sports is a Commercial; Shifa Plus Medical and General Store is a Healthcare; Eros Sweets is a Commercial; Wildcraft is a Commercial; Pukar is a Commercial; Shroff Eye Hospital is a Healthcare; Shakuntal- Chitra Nursing Home is a Healthcare; West Lake Speciality Clinic is a Healthcare; Mahatma Gandhi Seva Mandir is a Healthcare; Dr. Shetty's Nursing Home is a Healthcare; Parekh Eye Hospital is a Healthcare; Tejas Eye Clinic is a Healthcare; Nandini Eye Care Centre is a Healthcare; Laxmi Surgical Clinic is a Healthcare; IDFC Institute is a Commercial; MSEB is a Commercial; G7 Gaiety Galaxy Multiplex is a Leisure & Entertainment; Shanti Nursing Home is a Healthcare; Vijay Gas Service (BPCL) is a Commercial; Eyemax Opticals is a Commercial; Sports Plaza is a Commercial; Novelty Chemists is a Commercial; The Dental Zone is a Healthcare; Kings Bespoke Tailoring is a Commercial; P.C. Chandra Jewellers is a Commercial; Life Insurance Corporation (Branch 926) is a Commercial; Lucky is a Food & Drink; Real Sweets is a Commercial; Popular Mens Wear is a Commercial; Cakecentre is a Commercial; Amey is a Food & Drink; Belvedere is a Food & Drink; Cafe Terrace at Night is a Food & Drink; Apollo Pharmacy is a Healthcare; Leterete is a Commercial; Sai Sagar is a Food & Drink; DP's Spice is a Food & Drink; Mittal Xerox & Stationery Cenre is a Commercial; Arrow Studio & Digital Lab is a Commercial; Valchandson Jewellers is a Commercial; Burger King is a Food & Drink; Classy Missy Luggage is a Commercial; Apple Medical is a Healthcare; Shivaji Nagar Police Station is a Government & Public Services; Sanjay Vada Pav is a Food & Drink; Mustafa Saloon is a Commercial; Shivaji Garden is a Leisure & Entertainment; Bandra Talao is a Natural; Bandra Terminus is a Landuse: Railway; Bandra Station is a Landuse: Railway; Bandra Loco Shed is a Landuse: Railway; Bandra BEST Bus Depot is a Industrial; Madrasa is a Educational; Amarjivan is a Residential; Suryodaya Co Op Housing Society is a Residential; HDIL is a Commercial; Sukhada Co Operative Housing Society (12) is a Residential; Metropolitan Magistrate's Court  Bandra is a Government & Public Services; Behram Pada is a Residential; Sarvoday (11) is a Residential; 10 is a Residential; Diamond Palace is a Residential; Dheeraj Plaza is a Residential; Pooja is a Residential; Asian Paints is a Commercial; Bandra Liberty is a Residential; New Puroshottam Nagar B is a Residential; High Peak is a Residential; Shree Anand Niketan is a Residential; Woodland Heights is a Residential; Premesh is a Residential; Fabian - 2 is a Residential; National Library is a Educational; Geetanjali is a Residential; Mayfair A is a Residential; Savita is a Residential; Lalita Sadan is a Residential; Vishnu-Dham is a Residential; Fabian - 1 is a Residential; White House is a Residential; Mayfair B is a Residential; Meghdoot is a Residential; Devansh Villa is a Residential; Patel House is a Residential; Suraj Auto Gas is a Commercial; Lyte-An-Aire is a Residential; Baxubhai Mansion is a Residential; Purshottam High School is a Educational; Happy Home is a Residential; Sai Niwas is a Residential; 20  St. Msrtin's Road is a Residential; Sadhu Vaswani Garden is a Leisure & Entertainment; Bandra Gas Service is a Commercial; Awesomest Carz is a Commercial; Horn Ok Please Hostel Mumbai is a Residential; Kalpataru Sparkle is a Residential; Main Pool is a Leisure & Entertainment; Kid's Pool is a Leisure & Entertainment; TEN BKC is a Residential; 81 Aureate is a Residential; Sayba Emerald is a Residential; Office of Deputy Commissioner of Police  Zone IX is a Commercial; Maharashtra Housing and Area Development Authority is a Commercial; "
          ],
          [
           "H&K  Madhava  BKC  Bandra East is a Commercial; Amber is a Food & Drink; Mumbai Suburban Collectorate is a Commercial; Domino's is a Food & Drink; Income Tax Department is a Commercial; Mahanagar Gas (Payments & Accounts) is a Commercial; Reserve Bank of India is a Commercial; Tejas Eye Clinic is a Healthcare; Laxmi Surgical Clinic is a Healthcare; Bandra East Post office is a Government & Public Services; MSEB is a Commercial; Maison PVR is a Leisure & Entertainment; Apple Store is a Commercial; Amey is a Food & Drink; Belvedere is a Food & Drink; Cafe Terrace at Night is a Food & Drink; New Ajinkyatara Fitness is a Leisure & Entertainment; Agarwal Children's Hospital is a Healthcare; Generic Medicine Pharmacy is a Healthcare; 5 North Avenue is a Commercial; Maker Maxity is a Commercial; 3 North Avenue is a Commercial; 4 North Avenue is a Commercial; 2 North Avenue is a Commercial; 1 North Avenue is a Commercial; Ambedkar Park is a Leisure & Entertainment; Hazarimal Chetna's College is a Educational; Hallmark Business Plaza is a Commercial; HDIL is a Commercial; Sukhada Co Operative Housing Society (12) is a Residential; Metropolitan Magistrate's Court  Bandra is a Government & Public Services; Behram Pada is a Residential; Sarvoday (11) is a Residential; 10 is a Residential; Family Court is a Commercial; MMRDA New Building is a Commercial; Yashashree CHS is a Residential; MMRDA Old Building is a Commercial; Jeevanshree CHS is a Residential; Awfis is a Commercial; City Park is a Leisure & Entertainment; Suraj Auto Gas is a Commercial; Shivaji Garden is a Leisure & Entertainment; Jagatvidya CHS is a Residential; Rustomjee Seasons is a Residential; Kalpataru Sparkle is a Residential; Main Pool is a Leisure & Entertainment; Kid's Pool is a Leisure & Entertainment; Rustomjee Oriana is a Residential; Hubtown Sunstone is a Residential; TEN BKC is a Residential; Patrakar Society is a Residential; Sahitya Sahawas is a Residential; Artek Apartments is a Residential; Jio World Drive is a Commercial; Kalpataru Magnus is a Residential; Jade Gardens is a Residential; Government Colony is a Residential; Mahatma Gandhi Vidya Mandir is a Educational; Joggers Park is a Leisure & Entertainment; Guru Nanak Hospital is a Healthcare; Maharashtra Housing and Area Development Authority is a Commercial; "
          ],
          [
           "Kala Qila is a Leisure & Entertainment; Meta is a Commercial; French consulate is a Commercial; Income Tax Department is a Commercial; British Deputy High Commission is a Commercial; CinCin is a Food & Drink; Yauatcha is a Food & Drink; Nara Thai is a Food & Drink; Kyma is a Food & Drink; Sequel is a Food & Drink; Chaayos is a Food & Drink; Starbucks is a Food & Drink; Amazonia is a Food & Drink; Gateway Taproom is a Food & Drink; Butterfly High is a Food & Drink; O Pedro is a Food & Drink; WeWork is a Commercial; Nature Education Centre is a Leisure & Entertainment; Abbott is a Commercial; Maharashtra Nature Park is a Leisure & Entertainment; Dharavi BEST Bus Depot is a Industrial; Bank of India is a Commercial; Securities and Exchange Board of India - SEBI is a Commercial; One BKC is a Commercial; State Bank of India is a Commercial; City Park is a Leisure & Entertainment; National Stock Exchange is a Commercial; ONGC is a Commercial; Jio Garden is a Landuse: Recreation_ground; Maharashtra Cricket Association is a Leisure & Entertainment; IL&FS is a Commercial; Securities and Exchange Board of India (SEBI) is a Commercial; National Stock Exchange - NSE is a Commercial; Fortune 2000 is a Commercial; Wockhardt is a Commercial; Indian Oil is a Commercial; Kalakilla BEST Bus Depot is a Industrial; K Raheja Corp Homes is a Commercial; "
          ],
          [
           "Metro is a Food & Drink; Dr.Patrawala's Kalpana Nursing Home is a Healthcare; Lions Club Medical Centre General Hospital is a Healthcare; Prathamesh Hospital is a Healthcare; Dalvi Nursing Home is a Healthcare; Dalvi nursing home is a Healthcare; Prathamesh hospital is a Healthcare; Brihanmumbai mucipality Hospital is a Healthcare; Kori Classes is a Commercial; Kyma is a Food & Drink; Sequel is a Food & Drink; Amazonia is a Food & Drink; Gateway Taproom is a Food & Drink; Butterfly High is a Food & Drink; O Pedro is a Food & Drink; Origami Japanese & Korean Restaurant is a Food & Drink; WeWork is a Commercial; SBI Pension Funds is a Commercial; Hotel home town is a Leisure & Entertainment; Abbott is a Commercial; Maharashtra Nature Park is a Leisure & Entertainment; Swadeshi Mill is a Industrial; Reliance Industries Ltd is a Residential; Jogani Industrial Building is a Commercial; Muktadevi Manoranjan Udyan is a Leisure & Entertainment; Brihanmumbai Municipalty Hospital is a Healthcare; Mahada Co-op Housing Society is a Residential; Samarth Nagar is a Residential; CGHS Colony is a Residential; Vrindavan Society is a Residential; Play Area is a Leisure & Entertainment; Jogani Industrial is a Industrial; One BKC is a Commercial; ONGC is a Commercial; The Institute of Chartered Accountants of India - ICAI is a Commercial; Jio World Centre is a Commercial; Maharashtra Cricket Association is a Leisure & Entertainment; Indian Oil is a Commercial; Parinee Cresenzo is a Commercial; Parinee Cresenzo is a Residential; Rajmata Ahilyabai Holkar Udyan is a Leisure & Entertainment; Chhatrapati Shivaji Maharaj Park is a Leisure & Entertainment; Brihanmumbai Mahanagar Palika Garden is a Leisure & Entertainment; Market is a Retail; "
          ],
          [
           "Ground is a Leisure & Entertainment; suleman usman mithiwala is a Food & Drink; Kamgar Nagar Health Post and Qureshi Nagar Dispensary is a Healthcare; Santrupti Hospital is a Healthcare; Prathamesh Hospital is a Healthcare; Maitri Classic Bldg is a Leisure & Entertainment; Prathamesh hospital is a Healthcare; Brihanmumbai mucipality Hospital is a Healthcare; Santrupti hospital is a Healthcare; Nehru Nagar MSRTC Bus Depot is a Landuse: Garages; Swadeshi Mill is a Industrial; Rashtriya Chemicals & Fertilizers is a Industrial; Advanced Training Institute ( ATI ) Residential Quarters is a Residential; Kurla Playground is a Leisure & Entertainment; Rink Football Ground is a Leisure & Entertainment; RDAT is a Commercial; ATI cricket Ground ( Bada Ground ) is a Leisure & Entertainment; ATI Primary School is a Educational; Fountain Garden is a Leisure & Entertainment; Vidnyan bhawan is a Industrial; Dayalbagh University is a Commercial; Guest House is a Leisure & Entertainment; Ashok Nagar is a Residential; Jogani Industrial Building is a Commercial; Muktadevi Manoranjan Udyan is a Leisure & Entertainment; Brihanmumbai Municipalty Hospital is a Healthcare; Mahada Co-op Housing Society is a Residential; Jogani Industrial is a Industrial; Shiv Shrusti ground is a Leisure & Entertainment; sai sadan housing society is a Residential; Gujarat Clay Mills Estate is a Industrial; Bawa Towers A wing is a Residential; Sagar Apartments is a Residential; Bawa Towers B Wing is a Residential; MSRTC Garage - Nehru Nagar Kurla is a Landuse: Garages; Padhmabhushan Vasantdada Patil Pratishthan's College Of Engineering is a Educational; Nehru Nagar Kurla Police Station is a Government & Public Services; Maasaheb Meenatai Thackarey Botanical Garden is a Leisure & Entertainment; Market is a Retail; Corporate Park is a Commercial; Sahajeevan Park is a Leisure & Entertainment; Everard Nagar Society is a Residential; "
          ],
          [
           "Chembur Fire Station is a Government & Public Services; Mata Ramabai B Ambedkar Hospital is a Healthcare; Wasan Motor is a Commercial; ROOPAM PHARMACY is a Commercial; Domino's is a Food & Drink; dolls shops is a Commercial; maa hospital is a Healthcare; sng paark is a Leisure & Entertainment; FOOTWEAR is a Commercial; triveni bar is a Leisure & Entertainment; Gautam medical store is a Commercial; maharana hotel is a Leisure & Entertainment; Shree Chembur Jain Medical Relief Centre is a Healthcare; L.C.Manek's Polyclinic and Nursing Home is a Healthcare; Swastik Hospital and Research Centre  Mumbai is a Healthcare; Sitla Hospital is a Healthcare; Surana Sethia Hospital And Research Centre is a Healthcare; Mangal Anand Hospital is a Healthcare; L.C.Maneks Polyclinic and Nursing Home is a Healthcare; Daycare Angels is a Healthcare; Matoshri Ramabai Ambedkar Maternity Hospital is a Healthcare; Sai Hospital is a Healthcare; Saurabh Gangurde Dental Clinic is a Healthcare; Vi Stores is a Commercial; Airtel is a Commercial; Deepika flowers is a Commercial; Bridgestone tyres is a Commercial; Cafe Coffee Day Express is a Food & Drink; Kute General Store is a Commercial; Nehru Nagar MSRTC Bus Depot is a Landuse: Garages; Thakkar Bappa Colony is a Residential; chembur high school is a Educational; VIKAS SHREE CHEMBUR GANESH CO-OPEARTING SOCIETY is a Residential; green revolution is a Landuse: Farmland; Teen Talav is a Natural; jetawan udyan is a Leisure & Entertainment; savami vivekanand school is a Educational; beat no 2 is a Government & Public Services; nana nani park is a Leisure & Entertainment; Omkar Raga is a Residential; Star View Apartments is a Residential; Acres Club is a Leisure & Entertainment; MSRTC Garage - Nehru Nagar Kurla is a Landuse: Garages; sindhi society gymkhana is a Leisure & Entertainment; Hubtown Seasons is a Landuse: Construction; National Society For Equal Opportunities For the Handicapped - NASEOH is a Educational; Amar Dham Shamshan Bhumi is a Landuse: Cemetery; Corporate Park is a Commercial; Sahajeevan Park is a Leisure & Entertainment; Sushrut Hospital and Research Centre is a Healthcare; Royal Enfield Motokraft is a Commercial; "
          ],
          [
           "Jewel of Chembur is a Leisure & Entertainment; SADGURU RESTAURANT is a Food & Drink; JOY Hospital is a Healthcare; MCGM Information Kiosk is a Commercial; Malhar is a Leisure & Entertainment; Chembur Head Post Office is a Government & Public Services; YMCA Chembur is a Commercial; Balaji Medicals is a Healthcare; Ameeta patil  Nursing Home is a Healthcare; Chembur Fire Station is a Government & Public Services; Sevadaan Special School is a Educational; Mata Ramabai B Ambedkar Hospital is a Healthcare; NATRAJ CINEMA is a Leisure & Entertainment; Domino's is a Food & Drink; Diamond Polyclinic is a Healthcare; Barista is a Food & Drink; Tea Ville Cafe is a Food & Drink; akshay anand is a Residential; Rohan Kirana Store is a Commercial; javed habib is a Commercial; kalyan store is a Commercial; maharana hotel is a Leisure & Entertainment; Geeta Bhawan is a Food & Drink; Lobo Eye Clinic is a Healthcare; Dr.Sanjay Sonar Laparoscopy and Scopy Center is a Healthcare; Shree Chembur Jain Medical Relief Centre is a Healthcare; Yash Eye Care and Polyclinic is a Healthcare; Dr Smita Mukherjees Eye Clinic is a Healthcare; Dr. Das Hospital - Chembur (Mumbai) is a Healthcare; Laxmi Maternity and Nursing Home  Mumbai is a Healthcare; Hegde Hospital is a Healthcare; Patankar's Hand and Limb Reconstruction Clinic is a Healthcare; Icon Hospital and Research Centre is a Healthcare; Disha Polyclinic and Nursing Home is a Healthcare; Kolekar Hospital & ICCU is a Healthcare; Kamran Nursing Home is a Healthcare; Varsha Gandre Parekh Maternity and Surgical Hospital is a Healthcare; Aayush Eye Clinic & Aayush Lasik Centre is a Healthcare; Oma Hospital is a Healthcare; Rushabh Eye Hospital and Laser Centre is a Healthcare; Sai Kripa Childrens Hospital is a Healthcare; Sunny Childrens Hospital is a Healthcare; Tandon Hospital is a Healthcare; Apex Kidney Care Pvt. Ltd. is a Healthcare; Matoshri Ramabai Ambedkar Maternity Hospital is a Healthcare; Zen Multi Speciality Hospital is a Healthcare; Shrimati Diwaliben Mohanlal Mehta Maa Sarvasadharan Rugnalay Hospital is a Healthcare; Shree Hospital is a Healthcare; Saurabh Gangurde Dental Clinic is a Healthcare; Shashikant Hospital is a Healthcare; A.P.MANI AND SONS is a Commercial; Sweet Bengal is a Commercial; Satvic Hospital is a Healthcare; Cinepolis is a Leisure & Entertainment; Subway is a Food & Drink; Dr.Sanjay sonar laparoscopy and scopy centre is a Healthcare; Amita Patil Nursing Home is a Healthcare; Public Distribution System Circle Office is a Commercial; Deepika flowers is a Commercial; Lucky Restaurant is a Food & Drink; Sassy Teaspoon is a Commercial; Survodaya Ceramics is a Commercial; Rajasthan Mattresses is a Commercial; Natraj goverment swimming pool is a Leisure & Entertainment; N G Acharya Udyan is a Leisure & Entertainment; chembur high school is a Educational; Sandu Park is a Leisure & Entertainment; Ambedkar Garden is a Leisure & Entertainment; General Arun Kumar Vaidya Swimming Pool is a Leisure & Entertainment; St. Anthony's Girls High School is a Educational; General Education Academy is a Educational; Uma Sadan is a Residential; Gita Sadan is a Residential; Rama Sadan is a Residential; Chembur Gymkhana is a Leisure & Entertainment; Building No 1 is a Residential; Building No 2 is a Residential; Building No 4 is a Residential; Chembur Gymkhana Cricket Ground is a Leisure & Entertainment; Tennis courts is a Leisure & Entertainment; saraswati vidyalaya school.... is a Educational; Hotel Bahri Residency is a Leisure & Entertainment; Fine Arts Society and Cultural Center is a Leisure & Entertainment; Maa General Hospital is a Healthcare; sandu ayurvedik center is a Healthcare; shree shamrth nivas is a Residential; afac high school is a Commercial; Palms is a Residential; Sevadaan is a Commercial; Sadguru is a Food & Drink; Sri Nalini Apartments is a Residential; KStar Mall is a Commercial; vijayshree C.H.S is a Residential; Glamcent is a Commercial; RNA Continental is a Residential; Swimming Pool is a Leisure & Entertainment; Chembur Vidya Niketan High School is a Educational; Sadguru Restaurant is a Commercial; Ramesh Atmaram Bhau Ground is a Leisure & Entertainment; Dev Chaya is a Residential; krishna stationery is a Commercial; Garden Apartment is a Residential; Hubtown Seasons is a Landuse: Construction; National Society For Equal Opportunities For the Handicapped - NASEOH is a Educational; Amar Dham Shamshan Bhumi is a Landuse: Cemetery; BMC M Ward Office is a Commercial; YMCA Chembur is a Leisure & Entertainment; fguj is a Residential; Solace View is a Residential; Building No.6 is a Residential; Bombay Presidency Golf Club is a Leisure & Entertainment; Gandhi Maidan is a Leisure & Entertainment; "
          ],
          [
           "Ghatla is a Leisure & Entertainment; Pratistha is a Leisure & Entertainment; National Job Development Center is a Educational; Sevadaan Special School is a Educational; Cold Cafee is a Food & Drink; super market is a Commercial; apna super market is a Commercial; CCD is a Food & Drink; hanuman bar is a Food & Drink; lucky restaurant is a Food & Drink; Ganesh Tea Center is a Food & Drink; bba is a Healthcare; basket  ball court is a Leisure & Entertainment; jyoti restaurant is a Food & Drink; Zerox Shop is a Commercial; Chinese is a Commercial; Govandi Police station is a Government & Public Services; gaikwaad nagar police station is a Government & Public Services; Monginis Shop is a Commercial; Ice-Cream Parlour is a Commercial; Khardev Nagar Police Station is a Government & Public Services; Aditya Health Care Hospital is a Healthcare; Ashirwad Hospital and Polyclinic is a Healthcare; Kolekar Nursing Home is a Healthcare; Dr. Chen Dental Clinic is a Healthcare; A.P.MANI AND SONS is a Commercial; Nagori Tea stall is a Commercial; Metro medical is a Healthcare; Dr Kamat is a Healthcare; Samrat Ashok Nagar is a Residential; St. Anthony's Girls High School is a Educational; Chembur Gymkhana is a Leisure & Entertainment; sathe nagar is a Residential; Anal Shanti Ganesh is a Residential; Chembur Gymkhana Cricket Ground is a Leisure & Entertainment; Tennis courts is a Leisure & Entertainment; Acharya College Grounds is a Leisure & Entertainment; Karnatak School is a Educational; Ganesh Talav is a Natural; BMC school is a Educational; Pushkraj Society is a Residential; afac high school is a Commercial; muncipal school is a Educational; bhaji&machi market is a Residential; mannit apartments is a Residential; Muncipal Colony is a Residential; Sevadaan is a Commercial; vijayshree C.H.S is a Residential; Kaveri is a Residential; Usha Suresh Patil Udhan is a Leisure & Entertainment; Shatabdi Hospital is a Healthcare; RNA Continental is a Residential; N. G. Acharya & D. K. Marathe College is a Natural; Ramesh Atmaram Bhau Ground is a Leisure & Entertainment; Swami Muktanand High School is a Educational; Tara Rani Co-operative Housing Society is a Residential; Shree Narayan Guru Housing Society is a Residential; Sree Narayan Guru College is a Educational; Deonar Abattoir is a Industrial; Asisi Nagar is a Residential; Siddharth Garden is a Leisure & Entertainment; R.S.T Madhymik Vidhyalay is a Educational; krishna stationery is a Commercial; Solace View is a Residential; "
          ],
          [
           "Dr Babar is a Healthcare; Jhonsons Diagnostics is a Healthcare; king bar is a Food & Drink; jonsons diagnostics is a Healthcare; hanuman bar is a Food & Drink; vardhaman jewellers is a Commercial; maharashtra lime depot is a Commercial; AMAN is a Healthcare; mangalam jwelers is a Commercial; Sagar Medical is a Commercial; saundarya beauty parlour is a Commercial; Hira Jewlers is a Commercial; Cpp piping p ltd is a Commercial; Deonar Maternity Home is a Healthcare; Dr. Ashfaque Shah's City Hospital is a Healthcare; Dr. Chen Dental Clinic is a Healthcare; Dr Kamat is a Healthcare; Trombay Creek is a Natural; Samrat Ashok Nagar is a Residential; Plot no.25 is a Residential; New Bhim Nagar Transist Camp is a Residential; Patilwadi is a Residential; Deonar House is a Residential; sathe nagar is a Residential; shanti resident is a Residential; KUMAR BHUPESH GARDEN is a Leisure & Entertainment; M East Ward Office is a Commercial; Deonar Weigh Bridge is a Industrial; BMC School no 1 is a Educational; Gyan Sampada High School is a Educational; Ambedkar Ground is a Leisure & Entertainment; Shahu Garden is a Leisure & Entertainment; Raman Nagar is a Residential; Ambedkar Park is a Leisure & Entertainment; Usha Suresh Patil Udhan is a Leisure & Entertainment; CPP Ltd is a Industrial; Jai Maharashtra CHS is a Residential; Deonar Abattoir is a Industrial; Kumud Vidyamandir is a Educational; Shree Sai Kripa CHS is a Residential; Vrushali Apartment is a Residential; Dhanvantari Apartments is a Residential; Nobel Society is a Residential; Om Adarsh is a Residential; Omkar Society is a Residential; Nadadeep CHS is a Residential; New Model English High Schood is a Educational; Municipalty School is a Educational; Janata Timber Market is a Industrial; BMC school is a Educational; Siddharth Garden is a Leisure & Entertainment; R.S.T Madhymik Vidhyalay is a Educational; Neelkanth Gardens is a Residential; Pratham is a Residential; Indira Apartments is a Residential; Banganga is a Residential; "
          ],
          [
           "Dr Babar is a Healthcare; Baiganwadi is a Commercial; Dr.zamil is a Healthcare; sanjeevan hospital is a Healthcare; ravi market is a Commercial; MAULI CHS is a Residential; Lallubhai Police Station is a Government & Public Services; Dr zakir hussain nagar is a Healthcare; gernel is a Commercial; local market is a Commercial; rajeshwar hardware store is a Commercial; pathology center is a Healthcare; saundarya beauty parlour is a Commercial; Hira Jewlers is a Commercial; market is a Commercial; New Life Clinic & Hijama Center is a Healthcare; Deonar Maternity Home is a Healthcare; Trombay Creek is a Natural; Chikalwadi BMC School - 3 is a Educational; Chikalwadi is a Residential; Jan Kalyan Society is a Residential; Plot No.18 is a Residential; Plot No.36 is a Residential; Plot No.35 is a Residential; Plot No.33 is a Residential; Plot No.32 is a Residential; Plot No.31 is a Residential; Plot No.10 is a Residential; Plot No.5 is a Residential; Plot No.38 is a Residential; Plot No.37/A is a Residential; Plot No.29 is a Residential; Plot No.30 is a Residential; Plot No.28 is a Residential; Plot No.21 is a Residential; Plot No.15 is a Residential; Plot No.16 is a Residential; Plot No.17 is a Residential; Plot No.22 is a Residential; Plot No.24 is a Residential; Plot No.23 is a Residential; Plot No.12 is a Residential; Plot No.27 is a Residential; Sanjay Gandhai Nagar is a Residential; New Bhim Nagar Transist Camp is a Residential; Patilwadi is a Residential; Indira Nagar is a Residential; Deonar Municipal Dumping Ground is a Landuse: Landfill; Baiganwadi is a Residential; Alex Nadar is a Residential; Lallubhai Compound is a Residential; KUMAR BHUPESH GARDEN is a Leisure & Entertainment; M East Ward Office is a Commercial; Deonar Weigh Bridge is a Industrial; Etlenta Playground is a Leisure & Entertainment; Ambedkar Ground is a Leisure & Entertainment; New MHADA Colony is a Residential; Municipal School is a Educational; Annabhau Sathe Nagar is a Residential; Mohite Patil Nagar is a Residential; Raman Nagar is a Residential; Ambedkar Park is a Leisure & Entertainment; Jai Maharashtra CHS is a Residential; Deonar Abattoir is a Industrial; Etlenta Park is a Leisure & Entertainment; Shree Sai Kripa CHS is a Residential; Vrushali Apartment is a Residential; Dhanvantari Apartments is a Residential; Nobel Society is a Residential; Om Adarsh is a Residential; Omkar Society is a Residential; Nadadeep CHS is a Residential; New Model English High Schood is a Educational; Municipalty School is a Educational; Lallubai Ground is a Leisure & Entertainment; "
          ],
          [
           "POLICE STATION is a Government & Public Services; Maharashtra Nagar Police Station is a Government & Public Services; MAULI CHS is a Residential; market is a Commercial; Trombay Creek is a Natural; Deonar Municipal Dumping Ground is a Landuse: Landfill; New MHADA Colony is a Residential; Annabhau Sathe Nagar is a Residential; Mohite Patil Nagar is a Residential; Thane Creek Flamingo WLS is a Leisure & Entertainment; "
          ],
          [
           "Trombay Creek is a Natural; Thane Creek Flamingo WLS is a Leisure & Entertainment; "
          ],
          [
           "Thane Creek Flamingo WLS is a Leisure & Entertainment; "
          ],
          [
           "Vashi Railway Station is a Landuse: Railway; "
          ],
          [
           "Tharwani Heights is a Residential; Bhumiraj is a Residential; Sea queen Heritage is a Leisure & Entertainment; Sanpada EMU Carshed is a Landuse: Railway; Sea woods Garden is a Residential; Jaipuriar School is a Educational; Sadhu Vaswani International School is a Educational; Moraj Residency is a Residential; Nanasaheb Dharmadhikari Park is a Leisure & Entertainment; Akshar One is a Residential; Avisaa is a Residential; Kukreja Classic is a Residential; Fairmount is a Residential; Mahavir Sadhana is a Residential; Shankar Tower is a Residential; Simran Palace is a Residential; Gurumahima Heights is a Residential; Akurath is a Residential; Guru Samriddhi Heights is a Residential; Bhumiraj Retreat is a Residential; Shah Complex 4 is a Residential; Shah Complex 3 is a Residential; Shah Complex 2 is a Residential; Shivmandiri is a Residential; Sai Sagar Complex is a Residential; Shah Complex is a Residential; "
          ],
          [
           "Mangal Prabhu Nursing Home  Polyclinic and Diagnostic Center is a Healthcare; Millennium Life Line Hospital and Research Centre is a Healthcare; Iss relocations is a Commercial; Sanpada EMU Carshed is a Landuse: Railway; D-Mart Juinagar is a Commercial; Tukaram Maharaj Park is a Leisure & Entertainment; Seventh Day Adventist High School is a Educational; General Clinic is a Healthcare; NMMC School is a Educational; Gaondevi Ground is a Leisure & Entertainment; Sector-7 Ground is a Leisure & Entertainment; Ryan International School - Sanpada is a Educational; Jeejabai Ground is a Leisure & Entertainment; Western College of Commerce & Business Management is a Educational; Sanpada Ground is a Leisure & Entertainment; MTNL Ground is a Leisure & Entertainment; Millenium Towers is a Residential; Juinagar is a Commercial; Sensory Park is a Leisure & Entertainment; "
          ],
          [
           "Commtel Networks is a Commercial; Mangal Prabhu Nursing Home  Polyclinic and Diagnostic Center is a Healthcare; D-Mart Juinagar is a Commercial; Mindspace - Juinagar is a Commercial; Juinagar is a Commercial; "
          ],
          [
           "Commtel Networks is a Commercial; Mindspace - Juinagar is a Commercial; Parsik Hills is a Landuse: Forest; "
          ],
          [
           "Chapewadi Cricket Field is a Leisure & Entertainment; Parsik Hills is a Landuse: Forest; "
          ],
          [
           "Kharghar Valley Golf Course is a Leisure & Entertainment; Dhamole Village is a Residential; Chapewadi Cricket Field is a Leisure & Entertainment; Parsik Hills is a Landuse: Forest; "
          ],
          [
           "Advanced Centre for Treatment  Research and Education in Cancer is a Healthcare; Kharghar Valley Golf Course is a Leisure & Entertainment; Musical Instrument Park is a Leisure & Entertainment; Play Park is a Leisure & Entertainment; Dhamole Village is a Residential; Parsik Hills is a Landuse: Forest; Central Park is a Leisure & Entertainment; "
          ],
          [
           "Suman Kanta Hospital is a Healthcare; Dr. Nitin Amale Hospital is a Healthcare; Spandan Hospital is a Healthcare; Bhagwati Greens - 1 is a Residential; Kharghar Valley Golf Course is a Leisure & Entertainment; Haware Splendor is a Residential; Musical Instrument Park is a Leisure & Entertainment; Amphitheater is a Leisure & Entertainment; Hasta Mudra Park is a Leisure & Entertainment; Play Park is a Leisure & Entertainment; Samagam Area is a Leisure & Entertainment; Jal Vayu Vihar is a Residential; Gram Vikas Market is a Commercial; Central Park is a Leisure & Entertainment; "
          ],
          [
           "Ramsheth Thakur Public School is a Educational; Arihant Krupa is a Residential; "
          ],
          [
           "Maharashtra Industrial Development Centre - MIDC Taloja is a Industrial; Aditya Birla Science and Technology Company is a Industrial; "
          ],
          [
           "Maharashtra Industrial Development Centre - MIDC Taloja is a Industrial; Aditya Birla Science and Technology Company is a Industrial; "
          ],
          [
           "Mumbai is a Natural; "
          ],
          [
           "MMK College is a Educational; Khar Police Station is a Government & Public Services; Cildren Welfare Association is a Educational; Jhunka-Bhakar is a Food & Drink; Deepak General Store is a Commercial; SuperDoc Medical Store is a Healthcare; Manohar Sweets is a Food & Drink; Hardware Store is a Commercial; Highway Store is a Commercial; Raja ( Southindian FAST FOOD ) is a Food & Drink; Mukesh Store is a Commercial; sunny wines is a Commercial; Manish Salon is a Commercial; Spiky is a Commercial; hotel Shamlat is a Leisure & Entertainment; Vrindavan is a Food & Drink; Anmol Jewellers is a Commercial; Aarti Medicals is a Commercial; Vandana is a Commercial; Shivji Hirji is a Commercial; Laxmi Jewellers is a Commercial; Bharat Grain Stores is a Commercial; The UniContinental is a Leisure & Entertainment; Dhiraj Motor Stores is a Commercial; Pukar is a Commercial; Hotel Linkway is a Leisure & Entertainment; Shakuntal- Chitra Nursing Home is a Healthcare; Nandini Eye Care Centre is a Healthcare; Dr A K Chandiramani Hospital is a Healthcare; Bandra East Community Centre is a Leisure & Entertainment; Jagaha.com is a Commercial; G7 Gaiety Galaxy Multiplex is a Leisure & Entertainment; Kohinoor Hospital is a Healthcare; Vijay Gas Service (BPCL) is a Commercial; KM Stores is a Commercial; Loca is a Commercial; Om is a Commercial; Bijlani Clinic is a Healthcare; Kuizeens is a Commercial; SR Store is a Commercial; Mani Sagar is a Commercial; Khodal Fashion is a Commercial; Bonanza Enterprise is a Commercial; Shyam is a Commercial; Elegant Shoppee is a Commercial; Dr Govind Jadhwani is a Healthcare; Gautam Buddha is a Leisure & Entertainment; Speedway is a Commercial; DP's Spice is a Food & Drink; Apple Medical is a Healthcare; Shivaji Nagar Police Station is a Government & Public Services; Zima is a Food & Drink; Sanjay Vada Pav is a Food & Drink; Mustafa Saloon is a Commercial; Shivaji Garden is a Leisure & Entertainment; Bandra Terminus is a Landuse: Railway; Bandra Station is a Landuse: Railway; Bandra Loco Shed is a Landuse: Railway; R D National College Of Arts & Commerce is a Educational; TSEC College is a Educational; Cardinal Gracias High School is a Educational; Yuva Parivartan ( Youth Recreation center )  is a Educational; Bandra Terminus Yard is a Landuse: Railway; Suryodaya Co Op Housing Society is a Residential; Shoppers Stop is a Commercial; Shiv Sadan is a Commercial; Makhija Arcade is a Commercial; Podar International School is a Educational; The Vein Center Mumbai is a Commercial; Krishna Kutir is a Residential; Agnelo House is a Residential; Lower Municiplal Governmet School is a Educational; Sadhu Vaswani Garden is a Leisure & Entertainment; Bandra Gas Service is a Commercial; Pinnacle Towers is a Residential; Bijlani Bhavan is a Residential; Working Wonen's Hostel is a Residential; "
          ],
          [
           "Cildren Welfare Association is a Educational; Jhunka-Bhakar is a Food & Drink; Mumbai Suburban Collectorate is a Commercial; Shivam Nursing Home is a Healthcare; Domino's is a Food & Drink; Bandra East Post office is a Government & Public Services; Bandra East Community Centre is a Leisure & Entertainment; MHB Building is a Leisure & Entertainment; Gautam Buddha is a Leisure & Entertainment; Generic Medicine Pharmacy is a Healthcare; Vakola Nala is a Natural; Mumbai University is a Educational; Cardinal Gracias High School is a Educational; Ambedkar Park is a Leisure & Entertainment; Hazarimal Chetna's College is a Educational; Hallmark Business Plaza is a Commercial; O.N.G.C Colony (B-wing) is a Residential; O.N.G.C Colony (A-Wing) is a Residential; HP Officers Apartments is a Residential; MHADA Bldg No 3 is a Residential; MHADA Bldg No 2 is a Residential; Yashashree CHS is a Residential; MTNL Quarters is a Residential; Bharat Petroleum Residential Colony is a Residential; Jeevanshree CHS is a Residential; Awfis is a Commercial; MHADA Bldg No 4 is a Residential; Casting Yard is a Landuse: Construction; Lower Municiplal Governmet School is a Educational; Jagatvidya CHS is a Residential; Hubtown Sunstone is a Residential; Kalpataru Magnus is a Residential; Kanakia Paris is a Residential; Prerna Mitra Mandal Cricket ground is a Landuse: Recreation_ground; HPCL Officers Apartments is a Residential; Arya Vidya Mandir is a Educational; Government Colony is a Residential; Mahatma Gandhi Vidya Mandir is a Educational; Kherwadi Police Station is a Government & Public Services; Joggers Park is a Leisure & Entertainment; Guru Nanak Hospital is a Healthcare; Paranjpe Athena is a Landuse: Construction; New English High School is a Educational; Working Wonen's Hostel is a Residential; "
          ],
          [
           "Soda Bottle Opener Wala is a Food & Drink; Meta is a Commercial; Bain & Company is a Commercial; French consulate is a Commercial; Wok Express is a Food & Drink; Hyundai Authorised Service Centre is a Commercial; UTI Tower is a Commercial; BKC Police Station is a Government & Public Services; Cafe Coffee Day is a Food & Drink; Rajwada Thal™ is a Food & Drink; CNG Filling Station is a Commercial; Kailash Sarovar is a Food & Drink; Domino's is a Food & Drink; McDonald's is a Food & Drink; Bike Wash & Repair is a Commercial; British Deputy High Commission is a Commercial; The Art House is a Leisure & Entertainment; The Cube is a Leisure & Entertainment; The Studio Theatre is a Leisure & Entertainment; The Grand Theatre is a Leisure & Entertainment; Indian Accent is a Food & Drink; CinCin is a Food & Drink; Yauatcha is a Food & Drink; Nara Thai is a Food & Drink; Chaayos is a Food & Drink; Starbucks is a Food & Drink; Asian Heart Institute is a Healthcare; China Bistro is a Food & Drink; The Irish House is a Food & Drink; Mumbai University is a Educational; O.N.G.C Colony (B-wing) is a Residential; O.N.G.C Colony (A-Wing) is a Residential; HP Officers Apartments is a Residential; The Capital is a Commercial; Bank of India is a Commercial; Securities and Exchange Board of India - SEBI is a Commercial; MTNL Quarters is a Residential; One BKC is a Commercial; Laxmi Tower is a Commercial; Bharat Petroleum Residential Colony is a Residential; State Bank of India is a Commercial; National Stock Exchange is a Commercial; Bharat Diamond Bourse is a Commercial; Trident Hotel is a Leisure & Entertainment; Jio World Centre is a Commercial; Jio Garden is a Landuse: Recreation_ground; Maharashtra Cricket Association is a Leisure & Entertainment; National Bank for Agriculture and Rural Development - NABARD is a Commercial; IL&FS is a Commercial; ICICI is a Commercial; Securities and Exchange Board of India (SEBI) is a Commercial; National Stock Exchange - NSE is a Commercial; Fortune 2000 is a Commercial; Wockhardt is a Commercial; Indian Oil is a Commercial; Mumbai BKC is a Landuse: Construction; Casting Yard is a Landuse: Construction; MMRDA Grounds is a Landuse: Recreation_ground; Jio World Residences is a Residential; Jio World Offices is a Commercial; Mount Litera School International is a Educational; HPCL Officers Apartments is a Residential; Arya Vidya Mandir is a Educational; Nita Mukesh Ambani Cultural Centre is a Commercial; K Raheja Corp Homes is a Commercial; Jio World Convention Centre is a Commercial; "
          ],
          [
           "Pondichery Cafe  Sofitel Hotel is a Food & Drink; fauziya hospital is a Healthcare; Metro is a Food & Drink; American School of Bombay is a Educational; Ferrari (Navnit Motors) is a Commercial; Lions Club Medical Centre General Hospital is a Healthcare; Fauziya hospital is a Healthcare; The Art House is a Leisure & Entertainment; The Cube is a Leisure & Entertainment; The Studio Theatre is a Leisure & Entertainment; The Grand Theatre is a Leisure & Entertainment; Indian Accent is a Food & Drink; Hitchki is a Food & Drink; Origami Japanese & Korean Restaurant is a Food & Drink; SBI Pension Funds is a Commercial; Pizza Express is a Commercial; China Bistro is a Food & Drink; Swadeshi Mill is a Industrial; Trent House is a Commercial; First International Financial Center is a Commercial; Platina is a Commercial; Signature Island is a Residential; One BKC is a Commercial; Laxmi Tower is a Commercial; ONGC is a Commercial; The Institute of Chartered Accountants of India - ICAI is a Commercial; Consulate General of the United States of America in Mumbai is a Commercial; Sofitel is a Leisure & Entertainment; Bharat Diamond Bourse is a Commercial; Trident Hotel is a Leisure & Entertainment; Jio World Centre is a Commercial; Maharashtra Cricket Association is a Leisure & Entertainment; Parinee Cresenzo is a Commercial; Parinee Cresenzo is a Residential; Mumbai BKC is a Landuse: Construction; Dhirubhai Ambani International School is a Educational; Rajmata Ahilyabai Holkar Udyan is a Leisure & Entertainment; Signia Pearl is a Residential; Signia Isles is a Residential; Casting Yard is a Landuse: Construction; Jio World Residences is a Residential; Jio World Offices is a Commercial; Kurla Court is a Government & Public Services; Nita Mukesh Ambani Cultural Centre is a Commercial; Jio World Convention Centre is a Commercial; H.P.K garden is a Leisure & Entertainment; Taximen's Colony is a Residential; "
          ],
          [
           "Anita Mahal is a Leisure & Entertainment; Kurla Junction is a Commercial; nehru nagar market is a Commercial; kurla market is a Commercial; GULAM MOHHAMED SHUBRATI BUILDING is a Residential; Makka Madina Milk Centre is a Commercial; Sheetal Restaurant is a Food & Drink; v care hospital intensive& unit care is a Healthcare; cafe nar restarunt is a Food & Drink; Nehru Nagar Kurla E Police Chowky is a Government & Public Services; arpan nursing home is a Healthcare; arayan hospital is a Healthcare; sawali hotel is a Food & Drink; suleman usman mithiwala is a Food & Drink; V Care Hospital and Icu is a Healthcare; Aryan Hospital and Iccu - Kurla-Mumbai is a Healthcare; Hamidani Laser Vision Centre is a Healthcare; Well Care Nursing Home is a Healthcare; Prarushi Healthcare Pvt Ltd / Kusumesh Chandra Maternity Hospital is a Healthcare; Kamgar Nagar Health Post and Qureshi Nagar Dispensary is a Healthcare; Orchids The International School  Kurla is a Educational; Bhabha Hospital is a Healthcare; bhabha hospital is a Healthcare; Hamidani laser vision centre is a Healthcare; Kurla Railway Yard is a Landuse: Railway; Kurla Playground is a Leisure & Entertainment; Sukh Sagar C.H.S is a Residential; High School(S.K.P) is a Commercial; Shree Swami Samartha Math is a Residential; police line building is a Residential; madhukunj 87 is a Residential; nijdham 86 is a Residential; kurla navchaityna 84 is a Residential; suryadarshan 96 is a Residential; ulhas co.op.ho.soc. 139 is a Residential; vidhya mahalco.op.ho.soc. 138 is a Residential; sai sadan housing society is a Residential; Gujarat Clay Mills Estate is a Industrial; Equinox Business Park is a Commercial; Nehru Nagar Kurla Police Station is a Government & Public Services; Kurla Court is a Government & Public Services; H.P.K garden is a Leisure & Entertainment; Diesel Loco Shed - Kurla is a Landuse: Railway; Taximen's Colony is a Residential; Central Railway Staff Colony is a Residential; "
          ],
          [
           "Maruthi Mahal is a Leisure & Entertainment; nehru nagar market is a Commercial; FOOTWEAR is a Commercial; sawali hotel is a Food & Drink; Kurla Terminus is a Landuse: Railway; Kurla Railway Yard is a Landuse: Railway; Tilak Nagar Municipal School ground (lal maidan) is a Landuse: Recreation_ground; Thakkar Bappa Colony is a Residential; adarsha vidyalaya school ground is a Leisure & Entertainment; Sukh Sagar C.H.S is a Residential; Amarpali Working Womens Hostel is a Residential; High School(S.K.P) is a Commercial; Shree Swami Samartha Math is a Residential; swatswarup building  no:45 is a Residential; Lal Maidan is a Leisure & Entertainment; green revolution is a Landuse: Farmland; police line building is a Residential; munciple school's ground is a Leisure & Entertainment; madhukunj 87 is a Residential; nijdham 86 is a Residential; kurla navchaityna 84 is a Residential; suryadarshan 96 is a Residential; ulhas co.op.ho.soc. 139 is a Residential; vidhya mahalco.op.ho.soc. 138 is a Residential; jetawan udyan is a Leisure & Entertainment; savami vivekanand school is a Educational; beat no 2 is a Government & Public Services; nana nani park is a Leisure & Entertainment; Omkar Raga is a Residential; Tilak Bhavana CHS is a Residential; Chembur Adda is a Residential; Adarsha Vidyalaya is a Educational; Municipal School is a Educational; Maharashtra Ekyavardak Ground is a Leisure & Entertainment; Lokamaniya Tilak High School is a Educational; Lokmaniya Tilak Jr School is a Educational; Tilak Nagar Municipal School is a Educational; Amar Dham Shamshan Bhumi is a Landuse: Cemetery; Diesel Loco Shed - Kurla is a Landuse: Railway; Central Railway Staff Colony is a Residential; "
          ],
          [
           "Jewel of Chembur is a Leisure & Entertainment; Maruthi Mahal is a Leisure & Entertainment; SADGURU RESTAURANT is a Food & Drink; Malhar is a Leisure & Entertainment; Noble Medicals is a Healthcare; R S Mani Supermarket is a Commercial; Balaji Medicals is a Healthcare; Ameeta patil  Nursing Home is a Healthcare; Tilak Nagar Post Office is a Government & Public Services; Shopper's Stop is a Commercial; Tilak Nagar Police Station is a Government & Public Services; NATRAJ CINEMA is a Leisure & Entertainment; Anu Medicals is a Healthcare; mahatma nagar is a Food & Drink; chembur police station is a Government & Public Services; Chembur Railway Station Post Office is a Commercial; ccd is a Food & Drink; DR KHANPTHAN is a Healthcare; mangal sweet;Mangal jwellers is a Commercial; DWARKA Super market is a Commercial; BHOWAD PAN BIDI SHOP is a Commercial; Rohan Kirana Store is a Commercial; Hotel Galaxy View (Oyo Rooms) is a Leisure & Entertainment; Shahakar Plaza is a Leisure & Entertainment; Chheda Nagar Police Station is a Government & Public Services; Just Wear Dressline is a Commercial; Amrut Stores is a Commercial; Anukool Circulating Library is a Educational; Geeta Bhawan is a Food & Drink; Dr.Sanjay Sonar Laparoscopy and Scopy Center is a Healthcare; Yash Eye Care and Polyclinic is a Healthcare; Dr Smita Mukherjees Eye Clinic is a Healthcare; Dr. Das Hospital - Chembur (Mumbai) is a Healthcare; Hegde Hospital is a Healthcare; Patankar's Hand and Limb Reconstruction Clinic is a Healthcare; Icon Hospital and Research Centre is a Healthcare; Disha Polyclinic and Nursing Home is a Healthcare; Kolekar Hospital & ICCU is a Healthcare; Kamran Nursing Home is a Healthcare; Varsha Gandre Parekh Maternity and Surgical Hospital is a Healthcare; Aayush Eye Clinic & Aayush Lasik Centre is a Healthcare; Rushabh Eye Hospital and Laser Centre is a Healthcare; Sai Kripa Childrens Hospital is a Healthcare; Tandon Hospital is a Healthcare; Apex Kidney Care Pvt. Ltd. is a Healthcare; Kankal Hospital Child Specialist is a Healthcare; Shrimati Diwaliben Mohanlal Mehta Maa Sarvasadharan Rugnalay Hospital is a Healthcare; Shree Hospital is a Healthcare; Shashikant Hospital is a Healthcare; Hotel Sunny is a Leisure & Entertainment; Dr.Sanjay sonar laparoscopy and scopy centre is a Healthcare; Amita Patil Nursing Home is a Healthcare; Public Distribution System Circle Office is a Commercial; Mahalaxmi Jewelry is a Commercial; Savan Bazar is a Commercial; Rajasthan Mattresses is a Commercial; Natraj goverment swimming pool is a Leisure & Entertainment; Tilak Nagar Municipal Ground/ Sahyadri Garden is a Leisure & Entertainment; Tilak Nagar Municipal School ground (lal maidan) is a Landuse: Recreation_ground; Ambedkar Garden is a Leisure & Entertainment; General Arun Kumar Vaidya Swimming Pool is a Leisure & Entertainment; Dr. Babasaheb Ambedkar High School AND GRAND NALANDA HALL is a Residential; General Education Academy is a Educational; Uma Sadan is a Residential; Gita Sadan is a Residential; Rama Sadan is a Residential; Chembur Gymkhana is a Leisure & Entertainment; Amarpali Working Womens Hostel is a Residential; swatswarup building  no:45 is a Residential; Chembur Gymkhana Cricket Ground is a Leisure & Entertainment; rozy ...noodle khaoo bhuk mitaao noodle khao is a Food & Drink; play ground is a Leisure & Entertainment; Lal Maidan is a Leisure & Entertainment; Sadguru Kadam Baba Udyan is a Leisure & Entertainment; B.M.C QUATERS is a Commercial; Fine Arts Society and Cultural Center is a Leisure & Entertainment; Maa General Hospital is a Healthcare; panchashila new building is a Residential; Omkar Raga is a Residential; Tilak Bhavana CHS is a Residential; Building number 101  Rajshree Iris CHS is a Residential; Jeevandeep CHS is a Residential; Sadguru is a Food & Drink; Chembur Adda is a Residential; building no 16 is a Residential; Buildding no 15 is a Residential; Munjal Nagar is a Residential; baap ka ghar is a Residential; Shree Ganesh Udyan-Tilak Nagar is a Leisure & Entertainment; Maharashtra Ekyavardak Ground is a Leisure & Entertainment; Chembur Vidya Niketan High School is a Educational; Sadguru Restaurant is a Commercial; Lokamaniya Tilak High School is a Educational; Lokmaniya Tilak Jr School is a Educational; Tilak Nagar Municipal School is a Educational; Hubtown Seasons is a Landuse: Construction; National Society For Equal Opportunities For the Handicapped - NASEOH is a Educational; Amar Dham Shamshan Bhumi is a Landuse: Cemetery; BMC M Ward Office is a Commercial; fguj is a Residential; "
          ],
          [
           "Modern English School is a Educational; Chhedanagar Gymkhana is a Commercial; Chhedanagar Sub Station (Reliance Energy) is a Industrial; Cold Cafee is a Food & Drink; super market is a Commercial; NANA-NANI PARK is a Leisure & Entertainment; apna super market is a Commercial; mahatma nagar is a Food & Drink; CCD is a Food & Drink; lucky restaurant is a Food & Drink; Sadguru is a Food & Drink; Ganesh Tea Center is a Food & Drink; bba is a Healthcare; ccd is a Food & Drink; basket  ball court is a Leisure & Entertainment; Ram cafe is a Food & Drink; jyoti restaurant is a Food & Drink; Metalife is a Healthcare; DR KHANPTHAN is a Healthcare; Zerox Shop is a Commercial; Chinese is a Commercial; gaikwaad nagar police station is a Government & Public Services; Monginis Shop is a Commercial; Ice-Cream Parlour is a Commercial; Chheda Nagar Police Station is a Government & Public Services; Just Wear Dressline is a Commercial; Amrut Stores is a Commercial; Anukool Circulating Library is a Educational; Dr Nandita Rane's Eye Clinic is a Healthcare; Dr Chauhans Sanjeevani Hospital is a Healthcare; Nagori Tea stall is a Commercial; Metro medical is a Healthcare; Handy Craft Old Furniture is a Commercial; Prem Sagar is a Residential; Mahavir Hights is a Residential; Universal Majestic is a Commercial; Satyalakshmi is a Residential; Angelore Society is a Residential; Holy Family High School is a Educational; Paradise is a Residential; rozy ...noodle khaoo bhuk mitaao noodle khao is a Food & Drink; play ground is a Leisure & Entertainment; siddharth society is a Residential; Pushkraj Society is a Residential; D is a Residential; G3 is a Residential; Kalpakkam is a Residential; Ajanta is a Residential; Sai Kiran is a Residential; Kiran is a Residential; Sandhya is a Residential; Ellora is a Residential; Savitha is a Residential; Kavitha is a Residential; Kaveri is a Residential; Usha Suresh Patil Udhan is a Leisure & Entertainment; Pestom Sagar Citizens Ground is a Leisure & Entertainment; Chheda Nagar Gymkhana is a Landuse: Recreation_ground; Swami Muktanand High School is a Educational; Tara Rani Co-operative Housing Society is a Residential; Shree Narayan Guru Housing Society is a Residential; Sree Narayan Guru College is a Educational; Trombay Creek is a Natural; Indian Oil Nagar is a Residential; RBK School Ground is a Leisure & Entertainment; RBK International School is a Educational; Ashok Kamte Manoranjan Udyan Govandi is a Leisure & Entertainment; Asisi Nagar is a Residential; Grit Heights is a Residential; Shankara Colony (Implosion co-operative housing society) is a Residential; C1 is a Residential; C2 is a Residential; F2 is a Residential; F is a Residential; E is a Residential; A2 is a Residential; A1 is a Residential; G2 is a Residential; G1 is a Residential; "
          ],
          [
           "Jabbar Hall is a Food & Drink; athar store is a Commercial; ARYAMAN TRANSIST CAMP is a Residential; Dipawali is a Residential; amina hotel is a Food & Drink; iqbal azmi is a Food & Drink; IMTIYAZ Dr. is a Healthcare; shop is a Commercial; Star Kitchen is a Food & Drink; Sunder Tailors is a Commercial; khawaja garaib nawaz hopital is a Healthcare; ram class is a Food & Drink; Metalife is a Healthcare; maharashtra lime depot is a Commercial; Bismillah Cateress is a Commercial; Rashu Solutions is a Commercial; Vishal General Store is a Commercial; MILLAT OSPITAL is a Healthcare; LOTUS HOSPITAL is a Healthcare; Asif Electronics is a Commercial; Zaheer Watch Centre is a Commercial; Salman Telecom is a Commercial; Shadab Telecom is a Commercial; Moon Tailors is a Commercial; Madni Telecom is a Commercial; Shamstabrez Beef Shop is a Commercial; Shefar Cyber Cafe is a Commercial; Irfan Telecom is a Commercial; Zoya Telecom is a Commercial; Azam DvD Shop is a Commercial; SANA MILK STOR is a Commercial; TEA CENTAR is a Commercial; TOY STOR is a Commercial; Sagar Medical is a Commercial; ALVI STORE is a Commercial; Cafe Faizal is a Food & Drink; mmrda colony is a Residential; HP gass is a Commercial; reliance mobile store is a Commercial; Raj Medical General Sture Chemist& Druggist is a Commercial; Vodafone Mini Stoar is a Commercial; KHALID BAKRERY is a Commercial; A1 Medical and Jurnal Stor is a Commercial; MILLENIUM HOSPITAL is a Healthcare; IDEA Galart Authorised Center is a Commercial; SABA HOSPITAL is a Healthcare; ALAM TELECOM is a Commercial; SAI SANJIVANI NEDICAL & GERNERAL STOARES is a Commercial; priyadarshini nagar is a Residential; arzoo tailor is a Commercial; Sakil Hotel is a Food & Drink; a1 restaurant is a Food & Drink; ice cream shop is a Commercial; rehmani is a Food & Drink; Royal Nursing Home  Govandi is a Healthcare; Vikas Nursing Home  Mumbai is a Healthcare; Dr. Ashfaque Shah's City Hospital is a Healthcare; Mahavir Hospital is a Healthcare; Jeevan Jyot Hospital and Nursing Home is a Healthcare; S.N. Hospital is a Healthcare; Prem Sagar is a Residential; Mahavir Hights is a Residential; Plot No. 6 is a Residential; Plot no.25 is a Residential; Durga Seva Sangh is a Residential; Plot No.2 is a Residential; Plot no.1 is a Residential; Plot no.25A is a Residential; Plot No.10 is a Residential; Plot no.9 is a Residential; Plot No.11 is a Residential; Plot No.5 is a Residential; Plot No.8 is a Residential; Plot No.15 is a Residential; Plot No.16 is a Residential; Plot No.17 is a Residential; Plot No.18 is a Residential; Plot no.20 is a Residential; Plot no.14 is a Residential; Plot no.7 is a Residential; PLot no.26 is a Residential; Plot no.27 is a Residential; Plot No 24 is a Residential; Plot No.23 is a Residential; Plot No.21 is a Residential; Plot No.4 is a Residential; Plot No.20 is a Residential; Plot no.19 is a Residential; Plot no.28 is a Residential; Plot No.29 is a Residential; Plot No.30 is a Residential; Plot No.31 is a Residential; Plot no.32 is a Residential; Plot No.33 is a Residential; Plot No.43 is a Residential; Plot No.49 is a Residential; Plot .No.12 is a Residential; Universal Majestic is a Commercial; Deonar Municipal Dumping Ground is a Landuse: Landfill; ITTAR SHOP is a Commercial; shanti resident is a Residential; kashish kids park is a Leisure & Entertainment; BMC School no 1 is a Educational; Gyan Sampada High School is a Educational; Ambedkar Ground is a Leisure & Entertainment; Municipal School is a Educational; Shahu Garden is a Leisure & Entertainment; Rajeev Gandhi Medical Centre is a Healthcare; Ambedkar Park is a Leisure & Entertainment; Geeta Vikas High School is a Educational; Marriage Hall is a Leisure & Entertainment; D is a Residential; G3 is a Residential; Usha Suresh Patil Udhan is a Leisure & Entertainment; Municipal High School is a Educational; Bhairav Vidyalay is a Educational; Trombay Creek is a Natural; Deonar Abattoir is a Industrial; Indian Oil Nagar is a Residential; Janata Timber Market is a Industrial; RBK School Ground is a Leisure & Entertainment; RBK International School is a Educational; Ashok Kamte Manoranjan Udyan Govandi is a Leisure & Entertainment; Asisi Nagar is a Residential; Grit Heights is a Residential; Shankara Colony (Implosion co-operative housing society) is a Residential; C1 is a Residential; C2 is a Residential; F2 is a Residential; F is a Residential; E is a Residential; A2 is a Residential; A1 is a Residential; G2 is a Residential; G1 is a Residential; Shivaji Nagar Muncipal Hospital is a Healthcare; Plot No.3 is a Residential; "
          ],
          [
           "Jabbar Hall is a Food & Drink; Baiganwadi is a Commercial; Dr.zamil is a Healthcare; Daffodil School is a Educational; athar store is a Commercial; IMTIYAZ Dr. is a Healthcare; Afreen tailor is a Commercial; shop is a Commercial; mahaveer hospital is a Healthcare; lucky retail shop is a Commercial; Star Kitchen is a Food & Drink; Sunder Tailors is a Commercial; khawaja garaib nawaz hopital is a Healthcare; babu bhi is a Commercial; pooja communication is a Commercial; balaji store is a Commercial; new delhi is a Leisure & Entertainment; nagore is a Food & Drink; hotel is a Food & Drink; sanjeevan hospital is a Healthcare; ravi market is a Commercial; Bismillah Cateress is a Commercial; Rashu Solutions is a Commercial; Vishal General Store is a Commercial; MILLAT OSPITAL is a Healthcare; Asif Electronics is a Commercial; Zaheer Watch Centre is a Commercial; Salman Telecom is a Commercial; Shadab Telecom is a Commercial; Moon Tailors is a Commercial; Madni Telecom is a Commercial; Shamstabrez Beef Shop is a Commercial; Shefar Cyber Cafe is a Commercial; Irfan Telecom is a Commercial; Zoya Telecom is a Commercial; Azam DvD Shop is a Commercial; SANA MILK STOR is a Commercial; TEA CENTAR is a Commercial; TOY STOR is a Commercial; ALVI STORE is a Commercial; KHALID BAKRERY is a Commercial; priyadarshini nagar is a Residential; Aina Enterprises is a Commercial; tangam is a Food & Drink; arzoo tailor is a Commercial; a1 restaurant is a Food & Drink; ice cream shop is a Commercial; rehmani is a Food & Drink; S.N. Hospital is a Healthcare; Durga Seva Sangh is a Residential; Sanjay Nagar Part 2 is a Residential; Nirankari Nagar is a Residential; Chikalwadi BMC School - 3 is a Educational; Chikalwadi is a Residential; Padma Nagar is a Residential; Shanti Nagar Part 2 is a Residential; Plot No.18 is a Residential; Plot No.39 is a Residential; Plot No.40 is a Residential; Plot No.36 is a Residential; Plot No.35 is a Residential; Plot No.34 is a Residential; Plot No.33/A is a Residential; Plot No.33 is a Residential; Plot No.32 is a Residential; Plot No.31 is a Residential; Plot No.10 is a Residential; Plot No.3 is a Residential; Plot No.2 is a Residential; Plot No.1 is a Residential; Plot No.5 is a Residential; Plot No.4 is a Residential; Plot No.38 is a Residential; Plot no.1 is a Residential; Plot no.25A is a Residential; Plot no.9 is a Residential; Plot No.37/A is a Residential; Plot No.29 is a Residential; Plot No.30 is a Residential; Plot No.28 is a Residential; Plot No.21 is a Residential; Plot No.14 is a Residential; Plot No.13 is a Residential; Plot No.20 is a Residential; Plot No.26 is a Residential; Plot No.25 is a Residential; Sanjay Nagar Municipal School is a Educational; Plot No.8 is a Residential; Plot No.15 is a Residential; Plot No.16 is a Residential; Plot No.17 is a Residential; Plot No.22 is a Residential; Plot No.24 is a Residential; Plot No.23 is a Residential; Plot No.12 is a Residential; Plot No.27 is a Residential; Shashtri Nagar is a Residential; Sanjay Nagar Part 1 is a Residential; Plot No.41/Azad Nagar is a Residential; Plot No.40/A is a Residential; Plot No.19 is a Residential; Indira Nagar is a Residential; Plot 25/A is a Residential; Plot No.11 is a Residential; Plot no.14 is a Residential; Plot no.7 is a Residential; PLot no.26 is a Residential; Plot no.27 is a Residential; Plot No 24 is a Residential; Plot no.19 is a Residential; Plot no.28 is a Residential; Plot no.32 is a Residential; Plot No.43 is a Residential; Plot No.49 is a Residential; Shivaji Nagar BEST Bus Depot is a Industrial; Deonar Municipal Dumping Ground is a Landuse: Landfill; ITTAR SHOP is a Commercial; Baiganwadi is a Residential; Alex Nadar is a Residential; kashish kids park is a Leisure & Entertainment; Ambedkar Ground is a Leisure & Entertainment; Municipal School is a Educational; Rajeev Gandhi Medical Centre is a Healthcare; Raman Nagar is a Residential; Ambedkar Park is a Leisure & Entertainment; Geeta Vikas High School is a Educational; Marriage Hall is a Leisure & Entertainment; "
          ],
          [
           "Trombay Creek is a Natural; Chikalwadi is a Residential; Padma Nagar is a Residential; Shanti Nagar Part 2 is a Residential; Plot No.40 is a Residential; Plot No.41/Azad Nagar is a Residential; Plot No.40/A is a Residential; Indira Nagar is a Residential; Shivaji Nagar BEST Bus Depot is a Industrial; Deonar Municipal Dumping Ground is a Landuse: Landfill; "
          ],
          [
           "Trombay Creek is a Natural; Thane Creek Flamingo WLS is a Leisure & Entertainment; "
          ],
          [
           "Trombay Creek is a Natural; Thane Creek Flamingo WLS is a Leisure & Entertainment; "
          ],
          [
           "Trombay Creek is a Natural; Thane Creek Flamingo WLS is a Leisure & Entertainment; "
          ],
          [
           "Dr Kasbekar Sterling Hospital is a Healthcare; Vashi Pond is a Natural; Shivtirth Playground is a Leisure & Entertainment; NMMC School - Vashi Gaon is a Educational; "
          ],
          [
           "BSEL is a Commercial; Hyper City is a Commercial; Audi is a Commercial; Kalyan Jewellers is a Commercial; jijamata udyan is a Leisure & Entertainment; Tanishq Jewellery is a Commercial; Navi Mumbai Sports Association is a Leisure & Entertainment; CIDCO Exhibition Centre is a Retail; Vashi Plaza is a Commercial; Odisha Bhavan is a Leisure & Entertainment; Vishwaroop IT Park is a Commercial; The Regenza by Tunga is a Leisure & Entertainment; Uttar Pradesh Bhavan is a Leisure & Entertainment; Veermata Jijabai Park is a Leisure & Entertainment; Kerala House is a Leisure & Entertainment; Elkem South Asia Pvt ltd is a Commercial; I.E.S High School - Navi Mumbai is a Educational; Gyankalash Park is a Leisure & Entertainment; NMMC Office is a Commercial; NMMC School - Vashi Gaon is a Educational; Raghuleela Mall is a Commercial; Four Points by Sheraton Navi Mumbai is a Leisure & Entertainment; Tunga is a Leisure & Entertainment; Vashi Central is a Commercial; Vashi Railway Station is a Landuse: Railway; Assam Bhavan is a Leisure & Entertainment; Rajasthan Bhavan is a Leisure & Entertainment; Meghalaya Bhavan is a Leisure & Entertainment; Madhya Pradesh Bhavan is a Leisure & Entertainment; Shree Ganesh Kripa Vegetable Market is a Retail; "
          ],
          [
           "BSEL is a Commercial; Hyper City is a Commercial; Shoppers Stop is a Commercial; Haware Fantasia Business Park is a Commercial; Audi is a Commercial; Dr. R.N. Patil's Suraj Neurologiacal and Multispeciality Hospital is a Healthcare; Kalyan Jewellers is a Commercial; मनमोहन रेस्टॉरंट is a Food & Drink; Manmohan sweets is a Commercial; Pot Pourri Eat & Drinkery is a Food & Drink; Wow! Momo is a Food & Drink; Max is a Commercial; LYN Nail Salon is a Commercial; KFC is a Food & Drink; Samsonite is a Commercial; Urban Tadka is a Food & Drink; Nykaa On Trend is a Commercial; The Man Company is a Commercial; Big Squeeze is a Food & Drink; Falafel's is a Food & Drink; Malgudi is a Food & Drink; Starbucks Coffee is a Food & Drink; Inorbit Mall Vashi is a Commercial; CaratLane Inorbit Vashi is a Commercial; Chaayos Cafe at Inorbit is a Food & Drink; Shawarma King is a Food & Drink; Subway is a Food & Drink; Mad Over Donuts is a Food & Drink; United Colors of Benetton is a Commercial; Sanpada EMU Carshed is a Landuse: Railway; Sanpada is a Commercial; CIDCO Exhibition Centre is a Retail; Vashi Plaza is a Commercial; Sea woods Garden is a Residential; APMC Bhavan is a Commercial; Inorbit Mall is a Commercial; Vishwaroop IT Park is a Commercial; The Regenza by Tunga is a Leisure & Entertainment; Uttar Pradesh Bhavan is a Leisure & Entertainment; saishwar is a Residential; Maruti Panhalkar Ground is a Leisure & Entertainment; Elkem South Asia Pvt ltd is a Commercial; Meenatai Thackrey Park is a Leisure & Entertainment; Babu Genu Playground is a Leisure & Entertainment; Sanpada College is a Educational; Sadhu Vaswani International School is a Educational; Moraj Residency is a Residential; Nanasaheb Dharmadhikari Park is a Leisure & Entertainment; Akshar One is a Residential; Avisaa is a Residential; Kukreja Classic is a Residential; Raghuleela Mall is a Commercial; Four Points by Sheraton Navi Mumbai is a Leisure & Entertainment; Tunga is a Leisure & Entertainment; Vashi Central is a Commercial; Vashi Railway Station is a Landuse: Railway; Assam Bhavan is a Leisure & Entertainment; Meghalaya Bhavan is a Leisure & Entertainment; Madhya Pradesh Bhavan is a Leisure & Entertainment; Shree Ashthavinayak is a Residential; Hare Krishna is a Residential; Raj Uday is a Residential; Mahavir Sadhana is a Residential; Shankar Tower is a Residential; Simran Palace is a Residential; Gurumahima Heights is a Residential; Akurath is a Residential; Guru Samriddhi Heights is a Residential; Bhumiraj Retreat is a Residential; Shah Complex 4 is a Residential; Guru Simran is a Residential; Shah Complex 3 is a Residential; Shah Complex 2 is a Residential; Shivmandiri is a Residential; Sai Sagar Complex is a Residential; Shah Complex is a Residential; "
          ],
          [
           "Yogi excutive is a Leisure & Entertainment; Sanpada General Hopital is a Healthcare; Millennium Life Line Hospital and Research Centre is a Healthcare; मनमोहन रेस्टॉरंट is a Food & Drink; Manmohan sweets is a Commercial; Sanpada EMU Carshed is a Landuse: Railway; Sanpada is a Commercial; APMC Bhavan is a Commercial; Tukaram Maharaj Park is a Leisure & Entertainment; Maruti Panhalkar Ground is a Leisure & Entertainment; Seventh Day Adventist High School is a Educational; General Clinic is a Healthcare; Turbhe Pond is a Natural; Sanpada College is a Educational; Dr. SV Samant High School & Jr. College is a Educational; NMMC School is a Educational; Swami Vivekanand Sankul School is a Educational; Swami Mohananand Giriji Maharaj Park is a Leisure & Entertainment; Sector-7 Ground is a Leisure & Entertainment; Jeejabai Ground is a Leisure & Entertainment; Western College of Commerce & Business Management is a Educational; Gaondevi Ground is a Leisure & Entertainment; Sanpada Ground is a Leisure & Entertainment; Sector-4 Park is a Leisure & Entertainment; Millenium Towers is a Residential; Casting Yard is a Landuse: Construction; "
          ],
          [
           "Basil & Beans is a Food & Drink; Turbhe Quarry is a Landuse: Quarry; Sharayu Hyundai is a Commercial; Rupa Renaissance is a Commercial; NMMC School is a Educational; Casting Yard is a Landuse: Construction; Turbhe Police Station is a Government & Public Services; "
          ],
          [
           "Basil & Beans is a Food & Drink; Rupa Renaissance is a Commercial; Parsik Hills is a Landuse: Forest; "
          ],
          [
           "Parsik Hills Summit is a Natural; Parsik Hills is a Landuse: Forest; "
          ],
          [
           "Parsik Hills is a Landuse: Forest; "
          ],
          [
           "Advanced Centre for Treatment  Research and Education in Cancer is a Healthcare; Kharghar Valley Golf Course is a Leisure & Entertainment; Parsik Hills is a Landuse: Forest; Central Park is a Leisure & Entertainment; "
          ],
          [
           "Advanced Centre for Treatment  Research and Education in Cancer is a Healthcare; Hasta Mudra Park is a Leisure & Entertainment; Hyde Park is a Residential; Empyrean School is a Educational; Empyrean Recreational Turf is a Landuse: Recreation_ground; Central Park is a Leisure & Entertainment; "
          ],
          [
           "Al Shifa Multi Speciality Hospital is a Healthcare; "
          ],
          [
           "Ayesha Hospital is a Healthcare; National Restaurant is a Food & Drink; "
          ],
          [
           "Sri Sai Clinic is a Healthcare; "
          ],
          [
           "Maharashtra Industrial Development Centre - MIDC Taloja is a Industrial; Aditya Birla Science and Technology Company is a Industrial; "
          ],
          [
           "Varashi Reef is a Natural; "
          ],
          [
           "Varashi Reef is a Natural; "
          ],
          [
           "Rizvi College is a Educational; Olive Restaurant is a Food & Drink; Ahmed Bakery is a Commercial; CAMP is a Commercial; Hotel Samudra is a Food & Drink; Khardanda Bhauddha Smashan Bhoomi is a Landuse: Cemetery; Khar Danda Hindu Smashan Bhoomi is a Landuse: Cemetery; Danda Machimar Society(Fisher cooperative) is a Leisure & Entertainment; Little Hot is a Food & Drink; Salim Garage is a Commercial; Store is a Commercial; Prakash Tailor is a Commercial; pretty Petals is a Commercial; Mezbaan is a Food & Drink; Hakim Alims Tattoo is a Commercial; Out of the Blue is a Food & Drink; Guilt Trip is a Food & Drink; Sea Spray Provision Store is a Commercial; Lakmé Salon is a Commercial; Keep Kool Ice Cream & Food is a Food & Drink; Anand Vihar Medical Store is a Commercial; Modern Tea House is a Food & Drink; Sanctum is a Commercial; Architeture BRIO is a Commercial; KCROASTERS - By Koinonia is a Food & Drink; friutique is a Commercial; Brenco Breweries is a Food & Drink; DFC INDIA is a Leisure & Entertainment; Chic Accessories India is a Commercial; Coffee by Di Bella is a Food & Drink; Carter Road Social is a Food & Drink; Sweet County is a Commercial; Tibb's Frankie is a Food & Drink; Mongoose The Bubble Bar is a Food & Drink; The House Of Massimo is a Food & Drink; Carter's Blue is a Food & Drink; The Smoke Shop is a Commercial; The Library Cafe is a Food & Drink; Ambedkar Nagar is a Residential; Gazdhar Bandh is a Residential; GULAAB NAGAR is a Residential; Mumbai is a Natural; Rustomjee Paramount is a Residential; Khar Danda fish market is a Commercial; Koli Fish Drying Land is a Landuse: Farmland; pavement dwellers is a Residential; Bombay YMCA NSCCI is a Leisure & Entertainment; Union Park Eco Garden is a Leisure & Entertainment; Deccan CHS is a Residential; Mudheshwari CHS is a Residential; Aman Gul Pathan Chawl is a Residential; Vasant is a Residential; Khar Hanuman Nagar CHS is a Residential; Shubh Shanthi CHS is a Residential; Shikha is a Residential; Union Park is a Residential; Shuttle Court is a Leisure & Entertainment; St. Elias Ground is a Educational; St. Vincent Co-operative Housing Society is a Residential; Mahatma Jyotiba Phule Park is a Leisure & Entertainment; 79 Tarkari Niwas is a Residential; Lok Nirman Heights is a Residential; Shivanjali is a Residential; Rajgir Mansion is a Residential; Mayflower is a Residential; Bajaj Pearl is a Residential; 30 Union Park is a Residential; Ave Maria is a Residential; Bajaj Arcade is a Residential; Gulab is a Residential; Ashiana is a Residential; Maskan is a Residential; Silver Sands is a Residential; Clefepete is a Residential; Oceanside is a Residential; Sarojini is a Residential; The Landmark is a Residential; Rita is a Residential; Dariya Vihar is a Residential; Sea Spray Building is a Residential; Haji Siddique building is a Commercial; Carter Road Beach is a Natural; J J garden is a Leisure & Entertainment; PLOT NO 231-B CTS NO 887 is a Residential; Danda Mangrove Reserved Forest is a Leisure & Entertainment; 231C Samarth Niwas Plot no 895 is a Residential; Danda Creek is a Natural; Office Of The Regional Port Officer Bandra is a Commercial; Kalpak Crest is a Residential; Danda FC is a Leisure & Entertainment; Danda Beach is a Natural; A.B.C.D Ground is a Landuse: Recreation_ground; Vincent Tailors is a Commercial; fairy is a Natural; Kapoor House is a Residential; Morya Regency is a Residential; Union Park is a Leisure & Entertainment; Bandh Creek is a Natural; "
          ],
          [
           "Hotel Samudra is a Food & Drink; Kiah Jewelers is a Commercial; Lakmé Salon is a Commercial; Police Chowk is a Government & Public Services; Keep Kool Ice Cream & Food is a Food & Drink; Anand Vihar Medical Store is a Commercial; MG Sons Jeweler is a Commercial; Modern Tea House is a Food & Drink; Khar Dreamland is a Residential; Shamrock is a Residential; Shivraj Heigths is a Residential; Me So Happy is a Food & Drink; Sanctum is a Commercial; Ramakrishna Mission Hospital  Mumbai is a Healthcare; Nirvana Residences is a Leisure & Entertainment; Architeture BRIO is a Commercial; Red Chillies Entertainment is a Commercial; Adidas is a Commercial; Basti Backpackers Mumbai is a Leisure & Entertainment; Kazo is a Commercial; Mahavir Medical Research Centre is a Healthcare; Gopi Nursing Home is a Healthcare; KCROASTERS - By Koinonia is a Food & Drink; RG Stone Urology and Laparoscopy Hospital  Khar is a Healthcare; Kumar Clinic  Mumbai is a Healthcare; Khar Clinico-Pathology Laboratory is a Healthcare; G.M.Medical Centre - Khar is a Healthcare; I Sight Eyecare and Surgery is a Healthcare; Dr Gupte Lying-In Surgical Hospital is a Healthcare; Bhargava Nursing Home is a Healthcare; Zen Eye Center is a Healthcare; Neelam Foodland is a Commercial; friutique is a Commercial; Fabindia is a Commercial; Brenco Breweries is a Food & Drink; Khar Police Station is a Government & Public Services; Decathlon is a Commercial; Brewdog is a Food & Drink; Domino's is a Food & Drink; Nike is a Commercial; United Colors of Benetton is a Commercial; Sarvodaya Video Centre is a Commercial; Starbucks is a Food & Drink; Ambedkar Nagar is a Residential; Gazdhar Bandh is a Residential; Rustomjee Paramount is a Residential; Rotary Park is a Leisure & Entertainment; Florence is a Residential; St. Elias Ground is a Educational; St. Vincent Co-operative Housing Society is a Residential; BPM High School is a Educational; Khar Gymkhana is a Leisure & Entertainment; Salmona Ville is a Residential; Madhu Park is a Leisure & Entertainment; Mahatma Jyotiba Phule Park is a Leisure & Entertainment; Amber Croft Annexe is a Residential; Aurum is a Residential; Felstead is a Residential; Jaisingh Brothers is a Residential; sacred heart boys' school is a Commercial; Gulshan is a Residential; Lok Nirman Heights is a Residential; Shivanjali is a Residential; Ashirvad is a Residential; Rajgir Mansion is a Residential; Mayflower is a Residential; Bajaj Pearl is a Residential; 30 Union Park is a Residential; Ave Maria is a Residential; Bajaj Arcade is a Residential; Nav Palmyra is a Residential; Chinar is a Residential; Pawan Heightz is a Residential; Daffodils is a Residential; Sudha is a Residential; Arihant is a Residential; Jai Shankardeep is a Residential; Pushpagriha is a Residential; Satguru Sundari is a Residential; Hicon Classic is a Residential; Haji Siddique building is a Commercial; Oberoi Crest is a Residential; PLOT NO 231-B CTS NO 887 is a Residential; 231C Samarth Niwas Plot no 895 is a Residential; Danda Creek is a Natural; The Designate is a Residential; Oberoi Priviera is a Residential; Vincent Tailors is a Commercial; Kum Kum is a Residential; Dara House is a Residential; Venus House is a Residential; Gujurat Research Society is a Educational; Ecstasy is a Residential; Women's Hospital is a Healthcare; Morya Regency is a Residential; Joy Legend is a Residential; Jolly Bhavan is a Residential; "
          ],
          [
           "Apsara International is a Leisure & Entertainment; hotel Shamlat is a Leisure & Entertainment; Vrindavan is a Food & Drink; Shamrock is a Residential; The UniContinental is a Leisure & Entertainment; Ramakrishna Mission Hospital  Mumbai is a Healthcare; MiG-23BN SM-293 is a Leisure & Entertainment; Basti Backpackers Mumbai is a Leisure & Entertainment; R. K. Hospital  Mumbai is a Healthcare; Nandan Maternity and Surgical Home is a Healthcare; Mumbai Retina Centre is a Healthcare; Prerana Nursing Home is a Healthcare; Gopi Nursing Home is a Healthcare; G.M.Medical Centre - Khar is a Healthcare; I Sight Eyecare and Surgery is a Healthcare; Dr Gupte Lying-In Surgical Hospital is a Healthcare; Saifee Polyclinic and Diagnostic Centre is a Healthcare; V.N. Desai hospital is a Healthcare; Sai Sanjeevani Hospital is a Healthcare; Rare Earth is a Commercial; Khar Police Station is a Government & Public Services; Podar International School is a Educational; Vakola Nala is a Natural; Bandra Loco Shed is a Landuse: Railway; Salmona Ville is a Residential; Madhu Park is a Leisure & Entertainment; Bandra Terminus Yard is a Landuse: Railway; sacred heart boys' school is a Commercial; Arristo Sapphire is a Residential; Hanuman Tekdi is a Residential; Dinkar Park is a Leisure & Entertainment; The Designate is a Residential; Ariisto Saphire is a Residential; MCGM H West Ward Office is a Commercial; Paranjpe Athena is a Landuse: Construction; "
          ],
          [
           "Grand Hyatt Mumbai is a Leisure & Entertainment; K P T L Offish santa kurujh is a Leisure & Entertainment; MiG-23BN SM-293 is a Leisure & Entertainment; Badam tree is a Natural; Vakola Nala is a Natural; Mumbai University is a Educational; Chaitnaya Nagar  Bldg no 1 is a Residential; Chaitanya Nagar  Bldg No 2 is a Residential; Building No 13 is a Residential; Building No 3 is a Residential; Building No 4 is a Residential; Building No 5 is a Residential; Arunodaya Apartments is a Residential; cherry residency is a Residential; Kalpataru Inspire is a Commercial; MHADA Bldg No 4 is a Residential; Dauri Nagar is a Residential; Yashwant Nagar is a Residential; Hanuman Tekdi is a Residential; Police Grounds is a Leisure & Entertainment; Police Training Academy is a Educational; Kalpataru Synergy is a Commercial; Primus Residences is a Residential; sai complex is a Residential; Paranjpe Athena is a Landuse: Construction; Grand Hyatt is a Leisure & Entertainment; "
          ],
          [
           "Durga Maternity and Surgical Nursing Home is a Healthcare; Sai Deep Nursing Home is a Healthcare; Kalina Hospital is a Healthcare; Shawarma's & More is a Food & Drink; Sunder Nagar Garden is a Leisure & Entertainment; Bone & Beyond Orthopedic Speciality Clinic is a Healthcare; Mumbai University is a Educational; Niron Hospital and Research Center is a Healthcare; Aakash Darshan is a Residential; Golden Square is a Residential; Geesee Apartments is a Residential; Yashwant Nagar is a Residential; XYZ MANSION is a Residential; Golden Square Park is a Leisure & Entertainment; Golden Square 2nd Building Park is a Leisure & Entertainment; Kalina Camp is a Landuse: Military; Police Grounds is a Leisure & Entertainment; Police Training Academy is a Educational; Golden Valley CHS is a Residential; MMRDA Grounds is a Landuse: Recreation_ground; Casting Yard is a Landuse: Construction; "
          ],
          [
           "Hotel Ravi Pure Veg is a Food & Drink; Ferrari (Navnit Motors) is a Commercial; Burn Bar and Kitchen is a Food & Drink; Sai Deep Nursing Home is a Healthcare; Despande Nursing Home is a Healthcare; Alphine Life Solutions General Hospital is a Healthcare; Shawarma's & More is a Food & Drink; Sunder Nagar Garden is a Leisure & Entertainment; Alphine life solutions general hospital is a Healthcare; Hitchki is a Food & Drink; My Little Tea Pot is a Food & Drink; Dominos is a Food & Drink; Indian Oil is a Commercial; Pizza Express is a Commercial; Atlas Skill Tech University is a Commercial; Moosa Automobiles is a Commercial; Sayana Traders is a Commercial; D.K Auto Traders is a Commercial; BKC Shoes is a Commercial; Redbrick Offices - Grande Palladium is a Commercial; Vatika Business Centre & Co-working Spaces is a Commercial; Air India Colony is a Residential; Golden Square is a Residential; Regus Trade Center is a Commercial; Trent House is a Commercial; First International Financial Center is a Commercial; Platina is a Commercial; Pinnacle Corporate Park is a Commercial; Kurla BEST Bus Depot is a Industrial; American School of Bombay is a Educational; Sofitel is a Leisure & Entertainment; Mumbai BKC is a Landuse: Construction; Indian Airlines Colony is a Residential; Golden Square Park is a Leisure & Entertainment; Golden Square 2nd Building Park is a Leisure & Entertainment; Equinox Business Park is a Commercial; Golden Valley CHS is a Residential; Kalina Church Cementry is a Landuse: Cemetery; Casting Yard is a Landuse: Construction; Kanakia Zillion is a Commercial; Twin Galaxy is a Residential; Kapadia Nagar is a Residential; Dada's Tutorials is a Commercial; Taximen's Colony is a Residential; "
          ],
          [
           "Anita Mahal is a Leisure & Entertainment; Micromax Service Center is a Commercial; Lucky Travels is a Commercial; VB Nagar Police Station is a Government & Public Services; Sahara is a Food & Drink; Mugal is a Food & Drink; Hotel Kamaran residency is a Leisure & Entertainment; Kamran is a Leisure & Entertainment; Kalpana Cinema is a Leisure & Entertainment; King is a Leisure & Entertainment; kurla market is a Commercial; arpan nursing home is a Healthcare; Hamidani Laser Vision Centre is a Healthcare; Neelam Nursing Home and Iccu is a Healthcare; Despande Nursing Home is a Healthcare; Fauziya Hospital is a Healthcare; Buddh Colony BMC Hospital is a Healthcare; Muskaan Hospital is a Healthcare; Habib Hospital is a Healthcare; Orchids The International School  Kurla is a Educational; Bhabha Hospital is a Healthcare; treee is a Natural; tree2 is a Natural; bhabha hospital is a Healthcare; Hamidani laser vision centre is a Healthcare; Dominos is a Food & Drink; Indian Oil is a Commercial; Istanbul Darbar is a Food & Drink; ZamZam Sweets and Bakery is a Commercial; Atlas Skill Tech University is a Commercial; Moosa Automobiles is a Commercial; Sayana Traders is a Commercial; Karizma Dhaba is a Food & Drink; D.K Auto Traders is a Commercial; BKC Shoes is a Commercial; Kohinoor Enterprises is a Commercial; Kohinoor Educational Complex is a Educational; Crtiti Care Asia Hospital is a Healthcare; Yas Travel is a Commercial; Kurla BEST Bus Depot is a Industrial; Equinox Business Park is a Commercial; Mahanagarpalika Udyan is a Leisure & Entertainment; park 2 is a Leisure & Entertainment; Kanakia Zillion is a Commercial; Ganghi Maidan is a Leisure & Entertainment; Shaheed Abdul Hameed Udyan is a Leisure & Entertainment; Bharat Ratna Indira Gandhi Udyan & Dr. Abdul Kalam Udyan is a Leisure & Entertainment; gaondevi is a Residential; Twin Galaxy is a Residential; Kapadia Nagar is a Residential; Taximen's Colony is a Residential; FAVOURITE INDUSTRIAL ESTATE is a Industrial; Kohinoor City Phase 2 is a Residential; "
          ],
          [
           "Micromax Service Center is a Commercial; Lucky Travels is a Commercial; VB Nagar Police Station is a Government & Public Services; Zolo Exotica Co-living space is a Leisure & Entertainment; Nityanand Family Restaurant is a Food & Drink; Tiffins is a Food & Drink; Gupta 1 Stores is a Commercial; Gupta Pan Shop is a Commercial; Kurla EMU Carshed is a Industrial; Kurla Terminus is a Landuse: Railway; Kurla Railway Yard is a Landuse: Railway; Kohinoor Educational Complex is a Educational; Crtiti Care Asia Hospital is a Healthcare; ST Depot Vidyavihar is a Landuse: Garages; Mahanagarpalika Udyan is a Leisure & Entertainment; park 2 is a Leisure & Entertainment; Bharat Ratna Indira Gandhi Udyan & Dr. Abdul Kalam Udyan is a Leisure & Entertainment; neelkanth kingdom garden is a Leisure & Entertainment; gaondevi is a Residential; Premier Exotica - 2 is a Residential; Diesel Loco Shed - Kurla is a Landuse: Railway; FAVOURITE INDUSTRIAL ESTATE is a Industrial; Kohinoor City Phase 2 is a Residential; Central Railway Staff Colony is a Residential; "
          ],
          [
           "Noble Medicals is a Healthcare; R S Mani Supermarket is a Commercial; Old Engineering Building is a Commercial; Tilak Nagar Post Office is a Government & Public Services; Shopper's Stop is a Commercial; The Somaiya School (CBSE) is a Commercial; Hotel Galaxy View (Oyo Rooms) is a Leisure & Entertainment; Shahakar Plaza is a Leisure & Entertainment; Somaiya Vinay Mandir is a Commercial; Somaiya College is a Leisure & Entertainment; Frappé Technologies Pvt. Ltd is a Commercial; Cafe Coffee Day is a Food & Drink; Tara Neo Surg Hospital is a Healthcare; The Eye Super Specialities is a Healthcare; INSIYA is a Leisure & Entertainment; Somaiya Sports Complex is a Leisure & Entertainment; Noble chemist is a Healthcare; silverbeach is a Food & Drink; Annapurna Sweets is a Commercial; Aryabhatta Stairs is a Educational; maggi house is a Food & Drink; Kurla EMU Carshed is a Industrial; Kurla Terminus is a Landuse: Railway; Tilak Nagar Municipal Ground/ Sahyadri Garden is a Leisure & Entertainment; Kurla Railway Yard is a Landuse: Railway; Kamadhenu Society is a Residential; Vijaya Bhavan is a Residential; Kastur Bag (Chagan Mahal) is a Residential; Leela Mandir is a Residential; Sudarshan is a Residential; Satyalakshmi is a Residential; Vidya is a Residential; Somaiya Grounds is a Landuse: Grass; Suman Sudha is a Residential; Nana Nani Munna Munni Park is a Leisure & Entertainment; Ganesh Bakery is a Commercial; Neelkanth Business Park is a Commercial; sindhu wadi is a Residential; Building number 101  Rajshree Iris CHS is a Residential; Jeevandeep CHS is a Residential; baap ka ghar is a Residential; Shatrunjay building is a Residential; Pestom Sagar Citizens Ground is a Leisure & Entertainment; Dr. Keshav Baliram Hedgewar Garden is a Leisure & Entertainment; Jolly Gymkhana is a Leisure & Entertainment; Rock Garden- Vrindavan Colony is a Leisure & Entertainment; Rajawadi Garden is a Leisure & Entertainment; Neelkant Valley is a Residential; Kirol Garden is a Leisure & Entertainment; Rajawadi Joggers Park is a Leisure & Entertainment; somaiya badminton court is a Leisure & Entertainment; neelkanth kingdom garden is a Leisure & Entertainment; Play park is a Leisure & Entertainment; sachidanad tutorial is a Commercial; Sachidanand Tutorials is a Commercial; Trombay Creek is a Natural; RAJAWADI GARDEN is a Leisure & Entertainment; Skyline Viha is a Residential; Satyam Shopping Centre is a Commercial; "
          ],
          [
           "Chhedanagar Gymkhana is a Commercial; Chhedanagar Sub Station (Reliance Energy) is a Industrial; NANA-NANI PARK is a Leisure & Entertainment; Sadguru is a Food & Drink; Ashirvaad Heart Hospital is a Healthcare; Cafe Coffee Day is a Food & Drink; Asha Polyclinic and Sheetal Nursing Home is a Healthcare; Dr Nandita Rane's Eye Clinic is a Healthcare; Tara Neo Surg Hospital is a Healthcare; Advanced Orthopaedic and Super Speciality Center is a Healthcare; Ashirwad Heart Hospital is a Healthcare; Hiren Mehta Eye Care Centre is a Healthcare; Mandakini Nuclear Imaging Centre is a Healthcare; Dr Mehta Nursing Home is a Healthcare; Dr Chauhans Sanjeevani Hospital is a Healthcare; Dr. Trivedi's Maternity Nursing Home & Aakar IVF Test Tube Baby Centre is a Healthcare; Eye Essential Hospital is a Healthcare; Ambika is a Commercial; Chedda Electricals is a Commercial; Sweet County is a Commercial; Gurukrupa Restaurant is a Food & Drink; Ratna Departmental Store is a Commercial; Agarwal Juice Centre is a Food & Drink; Red Moments is a Commercial; Pawzup is a Commercial; Jugnu Soda Pub is a Food & Drink; Noble chemist is a Healthcare; silverbeach is a Food & Drink; Kamadhenu Society is a Residential; Vijaya Bhavan is a Residential; Kastur Bag (Chagan Mahal) is a Residential; Leela Mandir is a Residential; Sudarshan is a Residential; Satyalakshmi is a Residential; Vidya is a Residential; Angelore Society is a Residential; Holy Family High School is a Educational; Paradise is a Residential; Suman Sudha is a Residential; Nana Nani Munna Munni Park is a Leisure & Entertainment; Ganesh Bakery is a Commercial; R Odean is a Commercial; Maharashtra Police Sports Complex is a Leisure & Entertainment; Sukhada Building Plot 13 is a Residential; siddharth society is a Residential; sindhu wadi is a Residential; Kalpakkam is a Residential; Ajanta is a Residential; Sai Kiran is a Residential; Kiran is a Residential; Ellora is a Residential; Savitha is a Residential; Kavitha is a Residential; Pestom Sagar Citizens Ground is a Leisure & Entertainment; Dr. Keshav Baliram Hedgewar Garden is a Leisure & Entertainment; Chheda Nagar Gymkhana is a Landuse: Recreation_ground; Rajawadi Garden is a Leisure & Entertainment; Neelkant Valley is a Residential; Odean Swimming Pool is a Leisure & Entertainment; Trombay Creek is a Natural; Marathi Municipal school is a Educational; Lions Garden is a Leisure & Entertainment; Vidya Bhavan is a Educational; Skye Enclave is a Residential; Play park is a Leisure & Entertainment; sachidanad tutorial is a Commercial; Sachidanand Tutorials is a Commercial; Kukreja Palace is a Residential; RAJAWADI GARDEN is a Leisure & Entertainment; Satyam Shopping Centre is a Commercial; "
          ],
          [
           "ARYAMAN TRANSIST CAMP is a Residential; Dipawali is a Residential; children park is a Leisure & Entertainment; Madersa Ayesha Lil-Banat Education Trest is a Educational; ALAM TELECOM is a Commercial; SAI SANJIVANI NEDICAL & GERNERAL STOARES is a Commercial; Dadasaheb Gaikwad BMC Hospital is a Healthcare; Sona Maternity and Surgical Nursing Home is a Healthcare; Police Football Ground is a Leisure & Entertainment; Maharashtra Police Sports Complex is a Leisure & Entertainment; Deonar Municipal Dumping Ground is a Landuse: Landfill; Rajeev Gandhi Medical Centre is a Healthcare; Bhairav Vidyalay is a Educational; Trombay Creek is a Natural; Kukreja Palace is a Residential; jansava hospital is a Healthcare; "
          ],
          [
           "Aerated Lagoons is a Natural; Sanjay Nagar Part 2 is a Residential; Nirankari Nagar is a Residential; Shivaji Nagar BEST Bus Depot is a Industrial; Deonar Municipal Dumping Ground is a Landuse: Landfill; Trombay Creek is a Natural; jansava hospital is a Healthcare; "
          ],
          [
           "Aerated Lagoons is a Natural; Deonar Municipal Dumping Ground is a Landuse: Landfill; Trombay Creek is a Natural; "
          ],
          [
           "Thane Creek Flamingo WLS is a Leisure & Entertainment; "
          ],
          [
           "Trombay Creek is a Natural; Thane Creek Flamingo WLS is a Leisure & Entertainment; "
          ],
          [
           "Thane Creek Flamingo WLS is a Leisure & Entertainment; "
          ],
          [
           "Dr Kasbekar Sterling Hospital is a Healthcare; Agnel Technical Education Complex is a Educational; Veer Savarkar Park is a Leisure & Entertainment; Kids Ground is a Leisure & Entertainment; Modern School is a Educational; Vashi Pond is a Natural; Shivtirth Playground is a Leisure & Entertainment; ESIC Hospital is a Healthcare; Gyankalash Park is a Leisure & Entertainment; "
          ],
          [
           "Vashi Fire Station is a Government & Public Services; McDonald's is a Food & Drink; Abbot Hotel is a Leisure & Entertainment; Hotel Golden Punjab is a Food & Drink; Navratna Veg Restaurant - Vashi is a Food & Drink; Vishnudas Bhave Natyagruha is a Leisure & Entertainment; Cht.Sahu Maharaj Vachnalaya is a Educational; Thanawala Maternity Home is a Healthcare; Thanawalas Maternity Home & IVF Clinic is a Healthcare; Surya Netralaya is a Healthcare; Dhrushti Eye Clinic and Microsourgery Centre is a Healthcare; Navjeevan Hospital is a Healthcare; Dr. Tilwe Maternity and Nursing Home is a Healthcare; Dr. Parikhs Nursing Home and Iccu - Vashi is a Healthcare; Zaveri Eye Clinic is a Healthcare; jijamata udyan is a Leisure & Entertainment; Tanishq Jewellery is a Commercial; Navi Mumbai Sports Association is a Leisure & Entertainment; Agnel Technical Education Complex is a Educational; Canteen is a Food & Drink; CIDCO Exhibition Centre is a Retail; Mini Sea Shore is a Natural; Vashi Plaza is a Commercial; Jaydish Nursing Home is a Healthcare; Akhil Bharatiya Gandharva Mahavidyalaya Mandal is a Leisure & Entertainment; Harit Tata Park is a Leisure & Entertainment; Veermata Jijabai Park is a Leisure & Entertainment; Veer Savarkar Park is a Leisure & Entertainment; Mahatma Gandhi Mission's New Bombay Hospital is a Healthcare; Kids Ground is a Leisure & Entertainment; Rajiv Gandhi College is a Educational; Meenatai Thackrey Park is a Leisure & Entertainment; Sacred Heart High School & Jr. College is a Educational; Fr. Agnel's Multipurpose School & Jr. College is a Educational; Motilal Jhunjhunwala Colllege is a Educational; Fr. Agnel's Sports Centre is a Leisure & Entertainment; Anjuman E-Islam English School is a Educational; Fr. Agnel's Marathi Medium High School is a Educational; ESIC Hospital is a Healthcare; I.E.S High School - Navi Mumbai is a Educational; Chhatrapati Sambhajiraje Ground is a Leisure & Entertainment; Gyankalash Park is a Leisure & Entertainment; Shree Ganesh Kripa Vegetable Market is a Retail; Fr C Rodrigues Institute of Technology is a Commercial; Vegetable Market is a Commercial; Fr Agnel Woodmaking Workshop is a Commercial; "
          ],
          [
           "Supreme Heritage is a Leisure & Entertainment; Vashi Fire Station is a Government & Public Services; Bhaghat Tarachand is a Food & Drink; McDonald's is a Food & Drink; Abbot Hotel is a Leisure & Entertainment; Hotel Golden Punjab is a Food & Drink; Navratna Veg Restaurant - Vashi is a Food & Drink; Maharashtra State Board Building is a Commercial; Vishnudas Bhave Natyagruha is a Leisure & Entertainment; Pkc Hospital is a Healthcare; Thanawala Maternity Home is a Healthcare; Thanawalas Maternity Home & IVF Clinic is a Healthcare; Surya Netralaya is a Healthcare; Dhrushti Eye Clinic and Microsourgery Centre is a Healthcare; Navjeevan Hospital is a Healthcare; Dr. Tilwe Maternity and Nursing Home is a Healthcare; Dr. Parikhs Nursing Home and Iccu - Vashi is a Healthcare; Lotus Multispeciality Hospital and Icu is a Healthcare; Zaveri Eye Clinic is a Healthcare; APMC Spice Market is a Industrial; APMC Fruit & Vegetable Market is a Industrial; St. Lawrence High School is a Educational; APMC Onion & Potato Market is a Industrial; PMAY CIDCO is a Landuse: Construction; Jaydish Nursing Home is a Healthcare; Meenatai Thackrey Park is a Leisure & Entertainment; Babu Genu Playground is a Leisure & Entertainment; Krantiveer Nana Patil Park is a Leisure & Entertainment; NMMC School is a Educational; Karmveer Bhaurao Patil College is a Educational; ICL School is a Educational; Meenatai Thackrey Ground is a Leisure & Entertainment; "
          ],
          [
           "Yogi excutive is a Leisure & Entertainment; Bhaghat Tarachand is a Food & Drink; Turbhe Bus Depot is a Industrial; APMC Grain Market is a Industrial; APMC Spice Market is a Industrial; APMC Fruit & Vegetable Market is a Industrial; CWC - Vashi is a Industrial; APMC Onion & Potato Market is a Industrial; Mathadi Bhavan is a Commercial; Turbhe Park is a Leisure & Entertainment; Turbhe Pond is a Natural; Anjuman-I-Islam High School is a Educational; ICL Monami High School is a Educational; Dr. SV Samant High School & Jr. College is a Educational; NMMC School is a Educational; Mathadi Park is a Leisure & Entertainment; "
          ],
          [
           "Madhukostav Sweets Shop is a Commercial; Turbhe Bus Depot is a Industrial; Turbhe Quarry is a Landuse: Quarry; Turbhe Landfill is a Landuse: Landfill; Turbhe Park is a Leisure & Entertainment; "
          ],
          [
           "Parsik Hills is a Landuse: Forest; "
          ],
          [
           "Parsik Hills Summit is a Natural; Parsik Hills is a Landuse: Forest; "
          ],
          [
           "Parsik Hills is a Landuse: Forest; "
          ],
          [
           "Kharghar View Point is a Leisure & Entertainment; Parsik Hills is a Landuse: Forest; "
          ],
          [
           "Advanced Key Physiotherapy is a Healthcare; Nice Moment Family Restaurant is a Food & Drink; Smith CHS is a Residential; Arihant Abhilasha is a Residential; Bhommi Avenue is a Residential; Hyde Park is a Residential; Empyrean School is a Educational; Empyrean Recreational Turf is a Landuse: Recreation_ground; Kharghar Lake is a Natural; Valley Shilp is a Residential; Parsik Hills is a Landuse: Forest; "
          ],
          [
           "Al Shifa Multi Speciality Hospital is a Healthcare; Nice Moment Family Restaurant is a Food & Drink; Baugban Restaurant is a Food & Drink; CIDCO Colony is a Residential; "
          ],
          [
           "Ayesha Hospital is a Healthcare; National Restaurant is a Food & Drink; Taloja Phase-I is a Residential; Apex Multispeciality Hospital is a Healthcare; Taloja Multispeciality Hospital is a Healthcare; Jeevandeep Hospital is a Healthcare; "
          ],
          [
           "Sri Sai Clinic is a Healthcare; Arihant Amodini is a Residential; Springwood CHS is a Residential; Taloja Phase-I is a Residential; Taloja Multispeciality Hospital is a Healthcare; "
          ],
          [
           "Maharashtra Industrial Development Centre - MIDC Taloja is a Industrial; Arihant Amodini is a Residential; Springwood CHS is a Residential; Krishna Residency is a Residential; "
          ],
          [
           "Varashi Reef is a Natural; "
          ],
          [
           "Varashi Reef is a Natural; "
          ],
          [
           "Atlantic is a Leisure & Entertainment; DFC INDIA is a Leisure & Entertainment; Chic Accessories India is a Commercial; Granth is a Commercial; Pagli is a Commercial; Rahul & Anushka is a Commercial; Bougainvillea is a Commercial; Gazdhar Bandh is a Residential; Mumbai is a Natural; Juhu Beach is a Natural; 79 Tarkari Niwas is a Residential; Danda Creek is a Natural; Danda FC is a Leisure & Entertainment; Telecom Complex is a Commercial; Danda Beach is a Natural; A.B.C.D Ground is a Landuse: Recreation_ground; Mayur Mahal is a Residential; Mehta Bungalow is a Residential; Inspiration House is a Residential; Vakils is a Residential; Maneck Mahal CHS is a Residential; Prabhat Villa is a Residential; Bandh Creek is a Natural; "
          ],
          [
           "Classic is a Educational; Atlantic is a Leisure & Entertainment; Society Stores is a Commercial; Surya Mother And Child Speciality Hospital is a Healthcare; Surya Childrens Hospital is a Healthcare; Vijay Sales is a Commercial; HP World is a Commercial; Abhay A is a Residential; Three Wise Men is a Food & Drink; Deepak Medicals is a Healthcare; Infinity Motors is a Commercial; Nirvana Residences is a Leisure & Entertainment; Adidas is a Commercial; Jack & Jones is a Commercial; Kazo is a Commercial; Smt. Lilavatibai Podar High School is a Educational; Seasons is a Commercial; Smruti Nursing Home is a Healthcare; Nagvekar Eye Clinic is a Healthcare; The Ark Clinic is a Healthcare; Malhaar Maternity and Nursing Home is a Healthcare; Bhargava Nursing Home is a Healthcare; Sarla Hospital and Icu is a Healthcare; Radiance Laser Vision Centre is a Healthcare; Dr. Sandeep S. Nagvekar is a Healthcare; CGHS Sub-Dispensary  Juhu is a Healthcare; Dr. Jayant P Gandhi is a Healthcare; Decathlon is a Commercial; Granth is a Commercial; Pagli is a Commercial; Rahul & Anushka is a Commercial; Bougainvillea is a Commercial; M&S Outlet is a Commercial; Porsche is a Commercial; Ducati is a Commercial; Gazdhar Bandh is a Residential; Muktanand Park is a Leisure & Entertainment; Rotary Park is a Leisure & Entertainment; Lions Juhu Garden is a Leisure & Entertainment; Santacruz Police Station is a Government & Public Services; SNDT Women's University is a Educational; Sacred Heart Church Cemetery is a Landuse: Cemetery; All India Balkan-Ji-Bari Education and Entertainment is a Leisure & Entertainment; Krishna Curve is a Commercial; L S Raheja School is a Educational; Felstead is a Residential; Sarah & Sandeep is a Commercial; Jaisingh Brothers is a Residential; Hem-Dil is a Residential; L S Raheja College Of Arts and Commerce is a Educational; Poddar Sports Academy is a Leisure & Entertainment; Raheja College is a Educational; Maker Kunndan Gardens is a Residential; Saraswat Park is a Leisure & Entertainment; Triangular Park is a Leisure & Entertainment; Telecom Complex is a Commercial; Danda Beach is a Natural; Oberoi Priviera is a Residential; Inspiration House is a Residential; Vakils is a Residential; Maneck Mahal CHS is a Residential; Prabhat Villa is a Residential; Mini Fire Station is a Government & Public Services; Bandh Creek is a Natural; "
          ],
          [
           "Regency is a Leisure & Entertainment; Classic is a Educational; Airlines International is a Leisure & Entertainment; Apsara International is a Leisure & Entertainment; Galaxy is a Leisure & Entertainment; Prince Palace is a Leisure & Entertainment; Welco is a Leisure & Entertainment; Society Stores is a Commercial; Surya Mother And Child Speciality Hospital is a Healthcare; Surya Childrens Hospital is a Healthcare; Vijay Sales is a Commercial; HP World is a Commercial; Abhay A is a Residential; Three Wise Men is a Food & Drink; Smt. Lilavatibai Podar High School is a Educational; Aristo Hospitality Apartment Santacruz is a Leisure & Entertainment; Seasons is a Commercial; Siddhi Nursing Home is a Healthcare; R. K. Hospital  Mumbai is a Healthcare; Nandan Maternity and Surgical Home is a Healthcare; Smruti Nursing Home is a Healthcare; Mumbai Retina Centre is a Healthcare; Malpani Eye Hospital and Laser Centre is a Healthcare; Upadhyaya Nursing Home  Mumbai is a Healthcare; Aastha Surgical Clinic is a Healthcare; Nagvekar Eye Clinic is a Healthcare; The Ark Clinic is a Healthcare; Saifee Polyclinic and Diagnostic Centre is a Healthcare; Dr Jayant Doshi is a Healthcare; Sarla Hospital and Icu is a Healthcare; Maniar Clinic is a Healthcare; Radiance Laser Vision Centre is a Healthcare; Day Care Eye Clinic(Dr.S.V.Sharma Eye Clini) is a Healthcare; Dr. Sandeep S. Nagvekar is a Healthcare; V.N. Desai hospital is a Healthcare; Dr. Jayant P Gandhi is a Healthcare; Mangal Multispeciality Hospital is a Healthcare; Nap Manor Hostels is a Leisure & Entertainment; Podar International School is a Educational; Vakola Nala is a Natural; BMC Municipal School is a Commercial; Santacruz Police Station is a Government & Public Services; Divine Grace CHS is a Residential; Bandra Terminus Yard is a Landuse: Railway; Krishna Curve is a Commercial; Kalpana is a Residential; Arristo Sapphire is a Residential; Anand Nagar is a Residential; Dauri Nagar is a Residential; Aagri Pada is a Residential; Hanuman Tekdi is a Residential; Reliance Centre is a Commercial; Dinkar Park is a Leisure & Entertainment; Ariisto Saphire is a Residential; sus is a Leisure & Entertainment; Smart Buy is a Commercial; "
          ],
          [
           "Regency is a Leisure & Entertainment; Vijay Kunj Apartments Block A is a Residential; Siddhi Nursing Home is a Healthcare; Upadhyaya Nursing Home  Mumbai is a Healthcare; Aastha Surgical Clinic is a Healthcare; Aseem Orthopaedic Hospital is a Healthcare; Dr. Raut's Maternity and Surgical Nursing Home is a Healthcare; Dattatreya Nursing Home is a Healthcare; CGHS Dispensary No.14  Vakola is a Healthcare; Shakti Stationery Shop is a Commercial; Scizzors is a Commercial; Amin dry fruits store is a Commercial; Holy Cross Pharmacy is a Commercial; Nap Manor Hostels is a Leisure & Entertainment; St. Charles Girls' High chool  ground is a Educational; st charles is a Commercial; Neem tree is a Natural; What The Fries is a Food & Drink; My Little Tea Pot is a Food & Drink; Vakola Nala is a Natural; Aakash Darshan is a Residential; Chaitnaya Nagar  Bldg no 1 is a Residential; Chaitanya Nagar  Bldg No 2 is a Residential; Building No 13 is a Residential; Building No 3 is a Residential; Building No 4 is a Residential; Building No 5 is a Residential; Arunodaya Apartments is a Residential; cherry residency is a Residential; Dhobighat is a Residential; Anand Nagar is a Residential; Dauri Nagar is a Residential; Aagri Pada is a Residential; Vagri Wada is a Residential; Utkarsha Nagar is a Residential; D'mello Compound is a Residential; Milind Nagar is a Residential; Yashwant Nagar is a Residential; Madraswadi is a Residential; Lasunwadi is a Residential; Indira Nagar is a Residential; Subhash Nagar is a Residential; Dutta Mandir is a Residential; Hanuman Tekdi is a Residential; Reliance Centre is a Commercial; Chedda Stationary Stores is a Commercial; Aashray Apartments is a Residential; sai complex is a Residential; Air India Park is a Leisure & Entertainment; Smart Buy is a Commercial; Grand Hyatt is a Leisure & Entertainment; "
          ],
          [
           "Vijay Kunj Apartments Block A is a Residential; Dr. Raut's Maternity and Surgical Nursing Home is a Healthcare; CGHS Dispensary No.14  Vakola is a Healthcare; Kalina Hospital is a Healthcare; Shakti Stationery Shop is a Commercial; Amin dry fruits store is a Commercial; Holy Cross Pharmacy is a Commercial; St. Charles Girls' High chool  ground is a Educational; Kalina University Campus Park is a Leisure & Entertainment; st charles is a Commercial; Neem tree is a Natural; My Little Tea Pot is a Food & Drink; Bone & Beyond Orthopedic Speciality Clinic is a Healthcare; Air India Colony is a Residential; Niron Hospital and Research Center is a Healthcare; Aakash Darshan is a Residential; Arunodaya Apartments is a Residential; Milind Nagar is a Residential; Madraswadi is a Residential; Lasunwadi is a Residential; Kalina Camp is a Landuse: Military; Air India Park is a Leisure & Entertainment; "
          ],
          [
           "My Little Tea Pot is a Food & Drink; Air India Colony is a Residential; Indian Airlines Colony is a Residential; Kalina Camp is a Landuse: Military; Kalina Church Cementry is a Landuse: Cemetery; Dada's Tutorials is a Commercial; "
          ],
          [
           "Ritesh Medical is a Healthcare; City Medical Centre is a Healthcare; Sahara is a Food & Drink; Skyway is a Food & Drink; Mugal is a Food & Drink; Hotel Kamaran residency is a Leisure & Entertainment; Kamran is a Leisure & Entertainment; Kalpana Cinema is a Leisure & Entertainment; Kurla Municipal Hospital is a Healthcare; kothari jewellers is a Commercial; Sushila Hospital-Icu and Maternity is a Healthcare; Sharada Nursing Home. is a Healthcare; Dr Shehnaz Shaikh Clinic is a Healthcare; Neelam Nursing Home and Iccu is a Healthcare; Fauziya Hospital is a Healthcare; Suraj Clinic  Mumbai is a Healthcare; Agashe Hospital is a Healthcare; Subhash Hospital is a Healthcare; Buddh Colony BMC Hospital is a Healthcare; Muskaan Hospital is a Healthcare; Habib Hospital is a Healthcare; Masoom Child Hospital is a Healthcare; Sapna Health Care Centre Pvt Ltd is a Healthcare; Shanti Ceramic and Sanitary is a Commercial; RS Hair cutting salon is a Commercial; AMS Electrical is a Commercial; Hotel Sitaram is a Food & Drink; Istanbul Darbar is a Food & Drink; Sobro Kids Wear is a Commercial; 7-Eleven is a Commercial; ZamZam Sweets and Bakery is a Commercial; Jain Hardware is a Commercial; SHAHI Dessert and Fast Food Juice is a Food & Drink; Karizma Dhaba is a Food & Drink; Bike Solution Mumbai is a Commercial; Sunlight Restaurant is a Food & Drink; Krista Kranti Church is a Residential; Dwarkha shopping centre is a Residential; Mumbai Fire station Kurla is a Government & Public Services; Bhakti Vilas Apartment is a Residential; Twin Apartment is a Residential; City Hospital and Reserch Centre is a Healthcare; Yas Travel is a Commercial; Kurla Christian Village is a Residential; Naupada is a Residential; Daisy naidu house is a Residential; Holy cross centenary Grounds is a Educational; Villagers gardern is a Leisure & Entertainment; Village Park is a Leisure & Entertainment; Holy Cross quaterangle is a Educational; Kennedy's classes is a Commercial; Mogli Gardern is a Educational; Sheetal Talao/ Chatrapati Shivaji Maharaj Talao is a Natural; Mother Teresa Brihanmumbai Mahanagarpalika Udyan is a Leisure & Entertainment; Ganghi Maidan is a Leisure & Entertainment; Shaheed Abdul Hameed Udyan is a Leisure & Entertainment; Holy Cross Grounds is a Leisure & Entertainment; Kohinoor Cricket ground with jogging track is a Leisure & Entertainment; Agastya Corporate Park is a Commercial; "
          ],
          [
           "Ritesh Medical is a Healthcare; Kurla Municipal Hospital is a Healthcare; kothari jewellers is a Commercial; Dr Shehnaz Shaikh Clinic is a Healthcare; Suraj Clinic  Mumbai is a Healthcare; Sapna Health Care Centre Pvt Ltd is a Healthcare; Decathlon is a Commercial; Lakshya Restaurant and Bar is a Food & Drink; Zolo Exotica Co-living space is a Leisure & Entertainment; DMart is a Commercial; Kia is a Commercial; Hyundai is a Commercial; babyhug is a Commercial; Nityanand Family Restaurant is a Food & Drink; Tiffins is a Food & Drink; Gauss Mohammed Caterers is a Commercial; Hotel Dwarka is a Leisure & Entertainment; Shree Khatpal Electric and Hardware Store is a Commercial; Shanti Ceramic and Sanitary is a Commercial; Divesh Vada Pav Center is a Food & Drink; RS Hair cutting salon is a Commercial; Bosco Mandap Decorators is a Commercial; Gupta 1 Stores is a Commercial; Gupta Pan Shop is a Commercial; Milan Tyres is a Commercial; Welcome Digi Print is a Commercial; Grand Medical is a Healthcare; Hotel Sitaram is a Food & Drink; Sobro Kids Wear is a Commercial; 7-Eleven is a Commercial; Costa Coffee is a Commercial; Bike Solution Mumbai is a Commercial; Hrezzo Restaurant is a Food & Drink; OLA is a Commercial; Kurla EMU Carshed is a Industrial; Material Organization Mumbai is a Landuse: Military; Phoenix Market City is a Retail; Phoenix Market City Kurla is a Commercial; Krista Kranti Church is a Residential; Amar Apartments CHS is a Residential; Dwarkha shopping centre is a Residential; Mumbai Fire station Kurla is a Government & Public Services; Twin Apartment is a Residential; Holy Family Nursing Institute is a Commercial; Kurla Christian Village is a Residential; Naupada is a Residential; Phoenix Paragon Plaza is a Commercial; Daisy naidu house is a Residential; Holy cross centenary Grounds is a Educational; Don Bosco Grounds is a Educational; Nausena Vihar is a Landuse: Military; Holy Family Nursing Kurla is a Residential; ST Depot Vidyavihar is a Landuse: Garages; Holy Cross Church Cementary is a Landuse: Cemetery; Villagers gardern is a Leisure & Entertainment; Village Park is a Leisure & Entertainment; Holy Cross quaterangle is a Educational; Kennedy's classes is a Commercial; Mogli Gardern is a Educational; Mother Teresa Brihanmumbai Mahanagarpalika Udyan is a Leisure & Entertainment; Mahanagarpalika Udyan is a Leisure & Entertainment; Pramodji Mahajan Recreation Ground is a Leisure & Entertainment; Holy Cross Grounds is a Leisure & Entertainment; Don Bosco Grounds is a Leisure & Entertainment; Kohinoor Cricket ground with jogging track is a Leisure & Entertainment; neelkanth kingdom garden is a Leisure & Entertainment; Sunder Baug Industrial Estate is a Industrial; Agastya Corporate Park is a Commercial; Mahindra Park is a Residential; basket ball court is a Leisure & Entertainment; Premier Exotica - 2 is a Residential; Neelkant is a Commercial; "
          ],
          [
           "Frappé Technologies Pvt. Ltd is a Commercial; Dr. Prakash Doshis Fracture and Orthopaedic Nursing Home is a Healthcare; The Eye Super Specialities is a Healthcare; Dewang Nursing Home Pvt. Ltd. is a Healthcare; Mahaveer Nursing Home  Mumbai is a Healthcare; Shreeji Hospital  Ghatkopar is a Healthcare; Shree Sukh Shanti Hospital is a Healthcare; Saraswati Eye Hospital  Mumbai is a Healthcare; Varun Cardiac Clinic is a Healthcare; Mehta Eye Clinic Pvt Ltd is a Healthcare; Sanghavi Eye Clinic is a Healthcare; Ashwini Maternity and Surgical Hospital Ghatkopar(E) is a Healthcare; Doshi Nursing Home is a Healthcare; Ami Drashti Eye Care Centre is a Healthcare; Bakul Parekh Children Hospital is a Healthcare; Dr. Dipak Desai's Ear Nose and Throat Hospital is a Healthcare; Vikas Fracture Clinic and Nursing Home is a Healthcare; grocery store is a Commercial; Jalaram Traders is a Commercial; DMart is a Commercial; Kia is a Commercial; Hyundai is a Commercial; babyhug is a Commercial; Hanuman Hotel is a Food & Drink; Annapurna Sweets is a Commercial; NDDS Manufacturer and design is a Commercial; Lark pure Veg Restaurant is a Food & Drink; Hrezzo Restaurant is a Food & Drink; Maduram Jewellers is a Commercial; Amit Printers is a Commercial; Kurla Terminus is a Landuse: Railway; Kurla Railway Yard is a Landuse: Railway; Material Organization Mumbai is a Landuse: Military; Neelkanth Business Park is a Commercial; jethva tailors is a Residential; Jolly Gymkhana is a Leisure & Entertainment; Fatima High School is a Educational; Navy Training Centre is a Landuse: Military; Munisurat Garden Pillar is a Leisure & Entertainment; rajawadi garden is a Leisure & Entertainment; Rajawadi Garden is a Leisure & Entertainment; Fatima Grounds is a Leisure & Entertainment; Jolly Gymkana Grounds is a Leisure & Entertainment; KIROL VILLAGE is a Residential; Fatima Basketball Court is a Leisure & Entertainment; Kirol Garden is a Leisure & Entertainment; Rajawadi Joggers Park is a Leisure & Entertainment; neelkanth kingdom garden is a Leisure & Entertainment; SNDT College is a Educational; Mahindra Park is a Residential; bikaner warehouse is a Residential; Skyline Viha is a Residential; Neelkant is a Commercial; "
          ],
          [
           "dhanashri is a Residential; Vasant Gym is a Leisure & Entertainment; Bhau Vada Pav is a Food & Drink; Ascent Clinic is a Healthcare; Vatsal Nicu and Childrens Hospital is a Healthcare; Asha Polyclinic and Sheetal Nursing Home is a Healthcare; Noble Hospital  Ghatkopar is a Healthcare; Excel Ent Hospital is a Healthcare; Dr. Vinod B Joshi Maternity Nursing Home is a Healthcare; Dr. Prakash Doshis Fracture and Orthopaedic Nursing Home is a Healthcare; Advanced Orthopaedic and Super Speciality Center is a Healthcare; Dewang Nursing Home Pvt. Ltd. is a Healthcare; Mahaveer Nursing Home  Mumbai is a Healthcare; Vatsalya Maternity and Surgical Nursing Home is a Healthcare; Shreeji Hospital  Ghatkopar is a Healthcare; Saraswati Eye Hospital  Mumbai is a Healthcare; Varun Cardiac Clinic is a Healthcare; Mehta Eye Clinic Pvt Ltd is a Healthcare; Zynova Heart Hospital is a Healthcare; Kedia Nursing Home is a Healthcare; Parekh Eye Clinic and Child Clinic is a Healthcare; Khushal Hospital and Maternity Home is a Healthcare; Hiren Mehta Eye Care Centre is a Healthcare; Kamdar Nursing Home and Polyclinic Pvt. Ltd. is a Healthcare; Sanghavi Eye Clinic is a Healthcare; Navnirman Maternity and Surgical Hospital is a Healthcare; Nulife Hospital  Mumbai is a Healthcare; Jivdaya Hospital is a Healthcare; Shradha Heart Hospital is a Healthcare; H.J. Doshi Ghatkopar Hindu Sabha Hospital is a Healthcare; Medico Surgical Clinic and Hospital is a Healthcare; Ashwini Maternity and Surgical Hospital Ghatkopar(E) is a Healthcare; Jain Eye Clinic is a Healthcare; Doshi Nursing Home is a Healthcare; Dr Sule's Vaibhav Polyclinic and Siddharth Nursing Home is a Healthcare; Ami Drashti Eye Care Centre is a Healthcare; Dr. Trivedi's Maternity Nursing Home & Aakar IVF Test Tube Baby Centre is a Healthcare; Dr Sonagra Medical and Surgical Centre is a Healthcare; Jeevan Jyot Hospital is a Healthcare; Clear Vision Eye Center is a Healthcare; Bakul Parekh Children Hospital is a Healthcare; The Metropolitan Heart Institute and Research Centre is a Healthcare; Dr. Savlas Stone Clinic And Endoscopy Centre is a Healthcare; Cg Eye Foundaton and Shree Ghatkopar Brahman Samaj is a Healthcare; Matangi Nursing Home is a Healthcare; Nachiketa Health Care Center is a Healthcare; Amar Jyot Eye Care Centre is a Healthcare; Jeevandeep Children Hospital  Mumbai is a Healthcare; Dr. Dipak Desai's Ear Nose and Throat Hospital is a Healthcare; Sanjeevani Nursing Home is a Healthcare; Cafe Coffee Day is a Food & Drink; Vikas Fracture Clinic and Nursing Home is a Healthcare; Odeon Garden is a Leisure & Entertainment; Rass HSE is a Commercial; Noble Medicals is a Commercial; Hotel Popular is a Food & Drink; Pharmeasy is a Commercial; Savla Hardware is a Commercial; Ambika is a Commercial; Chedda Electricals is a Commercial; Sweet County is a Commercial; Gurukrupa Restaurant is a Food & Drink; Achija Restaurant is a Food & Drink; Pant Nagar Station is a Leisure & Entertainment; Ratna Departmental Store is a Commercial; Agarwal Juice Centre is a Food & Drink; Red Moments is a Commercial; POPULAR CAFE is a Food & Drink; Police Football Ground is a Leisure & Entertainment; Shivaji Shikshan Sanstha High School is a Educational; 185 Trishul is a Residential; Arun Vaidya is a Leisure & Entertainment; Neelyog is a Commercial; Parakh Hospital and Research Centre - Ghatkopar is a Healthcare; R Odean is a Commercial; Shivshakti Heights is a Residential; Anandlok CHS is a Residential; jethva tailors is a Residential; Munisurat Garden Pillar is a Leisure & Entertainment; rajawadi garden is a Leisure & Entertainment; Odean Swimming Pool is a Leisure & Entertainment; Jyoti Cooperative Housing Society is a Residential; Skye Enclave is a Residential; park 1 is a Leisure & Entertainment; SNDT College is a Educational; Kukreja Palace is a Residential; ARUN VEDIYA is a Leisure & Entertainment; Pantnagar Garden is a Leisure & Entertainment; Sarvodaya Hospital is a Healthcare; "
          ],
          [
           "children park is a Leisure & Entertainment; Vasant Gym is a Leisure & Entertainment; Sona Maternity and Surgical Nursing Home is a Healthcare; Rass HSE is a Commercial; Pant Nagar Station is a Leisure & Entertainment; Ghatkopar BEST Bus Depot is a Industrial; Police Football Ground is a Leisure & Entertainment; Shivaji Shikshan Sanstha High School is a Educational; 185 Trishul is a Residential; Subhash Chandra Bose Garden is a Leisure & Entertainment; YMCA is a Leisure & Entertainment; Arun Vaidya is a Leisure & Entertainment; Maharashtra Police Sports Complex is a Leisure & Entertainment; Jyoti Cooperative Housing Society is a Residential; Kukreja Palace is a Residential; ARUN VEDIYA is a Leisure & Entertainment; Pantnagar Garden is a Leisure & Entertainment; jansava hospital is a Healthcare; "
          ],
          [
           "Aerated Lagoons is a Natural; jansava hospital is a Healthcare; "
          ],
          [
           "Aerated Lagoons is a Natural; "
          ],
          [
           "Thane Creek Flamingo WLS is a Leisure & Entertainment; "
          ],
          [
           "Thane Creek Flamingo WLS is a Leisure & Entertainment; "
          ],
          [
           "Thane Creek Flamingo WLS is a Leisure & Entertainment; "
          ],
          [
           "Reliance Fresh is a Commercial; Hotel Shabari is a Food & Drink; Cafe Cofee Day is a Food & Drink; Dr. Kunnure Hospital and Iccu is a Healthcare; Uma Hospital is a Healthcare; Dr Yewale Multispeciality Hospital For Children is a Healthcare; Global 5 Health Care Centre is a Healthcare; Agnel Technical Education Complex is a Educational; L H Fortis Hospital is a Healthcare; Mini Sea Shore is a Natural; St. Mary's High School is a Educational; Dr. Babasaheb Ambedkar Park is a Leisure & Entertainment; Rajiv Gandhi College is a Educational; Fr. Agnel's Multipurpose School & Jr. College is a Educational; Motilal Jhunjhunwala Colllege is a Educational; Fr. Agnel's Sports Centre is a Leisure & Entertainment; Anjuman E-Islam English School is a Educational; Fr. Agnel's Marathi Medium High School is a Educational; Chhatrapati Sambhajiraje Ground is a Leisure & Entertainment; Vashi Holding Pond is a Natural; "
          ],
          [
           "Supreme Heritage is a Leisure & Entertainment; Reliance Fresh is a Commercial; Hotel Shabari is a Food & Drink; Cafe Cofee Day is a Food & Drink; Dr. Kunnure Hospital and Iccu is a Healthcare; Uma Hospital is a Healthcare; Pkc Hospital is a Healthcare; Mohanlal Jivandas Hospital managed by Krishnai Hospital is a Healthcare; Global 5 Health Care Centre is a Healthcare; Lotus Multispeciality Hospital and Icu is a Healthcare; Dr. Shubha Rao is a Healthcare; Vinamra Swaraj Hospital is a Healthcare; APMC Grain Market is a Industrial; APMC Spice Market is a Industrial; Rajiv Gandhi Park is a Leisure & Entertainment; PMAY CIDCO is a Landuse: Construction; L H Fortis Hospital is a Healthcare; Neel Sidhi Towers A Wing is a Residential; Neel Sidhi Towers B Wing is a Residential; Acharya Shri Anand Rishi Garden is a Leisure & Entertainment; Brahma Kumari's Peace Park is a Leisure & Entertainment; Gorakshnath Palve Park is a Leisure & Entertainment; Dr. Babasaheb Ambedkar Park is a Leisure & Entertainment; Juhu Ground is a Leisure & Entertainment; Goldcrest High School is a Educational; Anchorwala Education Academy is a Educational; Navi Mumbai Merchant Gymkhana is a Leisure & Entertainment; Krantiveer Nana Patil Park is a Leisure & Entertainment; NMMC School is a Educational; Karmveer Bhaurao Patil College is a Educational; ICL School is a Educational; Meenatai Thackrey Ground is a Leisure & Entertainment; Satra Plaza is a Commercial; City Centre Mall is a Commercial; Palm Beach Galleria Mall is a Commercial; Juhu Pond is a Natural; Vashi Holding Pond is a Natural; "
          ],
          [
           "4Bains Technologies Private Limited is a Commercial; APMC Grain Market is a Industrial; APMC Spice Market is a Industrial; APMC Fruit & Vegetable Market is a Industrial; CWC - Vashi is a Industrial; Mathadi Bhavan is a Commercial; Anchorwala Education Academy is a Educational; Navi Mumbai Jr. College is a Educational; Satra Plaza is a Commercial; City Centre Mall is a Commercial; Palm Beach Galleria Mall is a Commercial; Mathadi Park is a Leisure & Entertainment; Ikea is a Commercial; "
          ],
          [
           "Madhukostav Sweets Shop is a Commercial; CWC - Vashi is a Industrial; Turbhe Landfill is a Landuse: Landfill; wasan toyota is a Commercial; Ikea is a Commercial; "
          ],
          [
           "Parsik Hills is a Landuse: Forest; "
          ],
          [
           "Parsik Hills is a Landuse: Forest; "
          ],
          [
           "Kharghar Hills Camping Site is a Leisure & Entertainment; Sunset Point is a Leisure & Entertainment; Parsik Hills is a Landuse: Forest; "
          ],
          [
           "CIDCO Colony is a Residential; Valley Shilp is a Residential; Parsik Hills is a Landuse: Forest; "
          ],
          [
           "Reliance is a Commercial; CIDCO Colony is a Residential; "
          ],
          [
           "Taloja Phase-I is a Residential; Jeevandeep Hospital is a Healthcare; "
          ],
          [
           "Taloja Phase-I is a Residential; "
          ],
          [
           "Krishna Residency is a Residential; Arihant Anaika is a Residential; "
          ],
          [
           "Ajanta is a Leisure & Entertainment; Royal Garden is a Leisure & Entertainment; seaview is a Leisure & Entertainment; Citizen Hotel is a Leisure & Entertainment; Riverside Rose is a Food & Drink; Bougainvillea is a Commercial; Little Italy is a Food & Drink; Pritam Da Dhaba is a Food & Drink; Grandmama's Cafe is a Food & Drink; Hyatt Centric is a Leisure & Entertainment; Juhu Tara Municipal School is a Educational; Sesame is a Food & Drink; Sea Princess Hotel is a Leisure & Entertainment; Mumbai is a Natural; Juhu Beach is a Natural; Maneckji Cooper Educational trust School is a Educational; Neha is a Residential; Mayur Mahal is a Residential; Mehta Bungalow is a Residential; Anurag Apartments is a Residential; The Emerald Hotel And Serviced Apartments is a Leisure & Entertainment; Sea Queen CHS is a Residential; Inspiration House is a Residential; Beach Way Apartments is a Residential; Vakils is a Residential; Shady Nook is a Residential; Asha Colony CHS is a Residential; Maneck Mahal CHS is a Residential; Neptune Apartments is a Residential; Juhu Vasant Bahar CHS is a Residential; Police Station is a Government & Public Services; "
          ],
          [
           "Ajanta is a Leisure & Entertainment; Royal Garden is a Leisure & Entertainment; seaview is a Leisure & Entertainment; Citizen Hotel is a Leisure & Entertainment; Reliance Retail  is a Commercial; Suburban Honda is a Commercial; Hyundai is a Commercial; Deepak Medicals is a Healthcare; Naturenama.com is a Commercial; Riverside Rose is a Food & Drink; Malhaar Maternity and Nursing Home is a Healthcare; Life Line Hospital and Diagnostics Pvt Ltd is a Healthcare; Netrapuja Research Centre is a Healthcare; Surya Hospital is a Healthcare; Bougainvillea is a Commercial; Little Italy is a Food & Drink; Pritam Da Dhaba is a Food & Drink; Grandmama's Cafe is a Food & Drink; Hyatt Centric is a Leisure & Entertainment; Juhu Tara Municipal School is a Educational; Sesame is a Food & Drink; Sea Princess Hotel is a Leisure & Entertainment; Mumbai is a Natural; Juhu Beach is a Natural; Maneckji Cooper Educational trust School is a Educational; SNDT Women's University is a Educational; Neha is a Residential; L S Raheja School is a Educational; L S Raheja College Of Arts and Commerce is a Educational; Santacruz BEST Bus Depot is a Industrial; JEEVAN SHANTI COLONY is a Residential; Raheja College is a Educational; Maker Kunndan Gardens is a Residential; Gol Garden is a Leisure & Entertainment; Reliance Retail is a Commercial; Mayur Mahal is a Residential; Irolette Apartments is a Residential; Anurag Apartments is a Residential; The Emerald Hotel And Serviced Apartments is a Leisure & Entertainment; Sea Queen CHS is a Residential; Beach Way Apartments is a Residential; Shady Nook is a Residential; Asha Colony CHS is a Residential; Neptune Apartments is a Residential; Juhu Vasant Bahar CHS is a Residential; "
          ],
          [
           "Reliance Retail  is a Commercial; Nanavati Hospital  Mumbai is a Healthcare; Suburban Honda is a Commercial; Hyundai is a Commercial; Naturenama.com is a Commercial; Rizvi Nagar CHS is a Residential; Gold Cinemas is a Leisure & Entertainment; Hotel Alpha International is a Leisure & Entertainment; Malpani Eye Hospital and Laser Centre is a Healthcare; Kenias Eye Hospital is a Healthcare; Dr. Kamdars Nursing Home is a Healthcare; Eclat Polyclinic is a Healthcare; Life Line Hospital and Diagnostics Pvt Ltd is a Healthcare; Maniar Clinic is a Healthcare; Netrapuja Research Centre is a Healthcare; Shree Ramnath Eye Care is a Healthcare; Surya Hospital is a Healthcare; Santacruz BEST Bus Depot is a Industrial; JEEVAN SHANTI COLONY is a Residential; Reliance Retail is a Commercial; "
          ],
          [
           "Kamat Plaza is a Leisure & Entertainment; Terminal food court is a Food & Drink; Hindi  Gujarati  English is a Leisure & Entertainment; Navjivan Maternity and Surgical Nursing Home is a Healthcare; Dr. Rane hospital maternity & surgical is a Healthcare; Ashish Maternity and Nursing Home - Vile Parle (E) is a Healthcare; Chitale Bandhu is a Food & Drink; Oasis Lounge is a Food & Drink; Crossword is a Commercial; Forest Essentials is a Commercial; Sunglass Hut is a Commercial; Go Colors is a Commercial; Cafeccino is a Food & Drink; Haldirams is a Food & Drink; Sahara Star is a Leisure & Entertainment; Bawa International is a Leisure & Entertainment; Ibis is a Leisure & Entertainment; Hotel Transit is a Leisure & Entertainment; Rio office is a Commercial; Dahanukar College of Commerce is a Educational; Lasunwadi is a Residential; Indira Nagar is a Residential; Taj Santacruz Mumbai is a Leisure & Entertainment; Dubashi is a Leisure & Entertainment; Aji Ajoba Park is a Leisure & Entertainment; "
          ],
          [
           "Chitale Bandhu is a Food & Drink; Oasis Lounge is a Food & Drink; Crossword is a Commercial; Forest Essentials is a Commercial; Sunglass Hut is a Commercial; Go Colors is a Commercial; Cafeccino is a Food & Drink; Haldirams is a Food & Drink; Taj Santacruz Mumbai is a Leisure & Entertainment; Cargo Terminal is a Industrial; "
          ],
          [
           "duty free is a Commercial; Street Foods by Punjab Grill is a Food & Drink; Pizza Hut is a Food & Drink; Burger King is a Food & Drink; asia seven is a Food & Drink; KFC is a Food & Drink; Relax & Go Relax Chairs is a Commercial; Starbucks is a Food & Drink; Apollo Pharmacy is a Healthcare; CPWD Colony is a Landuse: Meadow; Cargo Terminal is a Industrial; "
          ],
          [
           "Maxus Multiplex is a Leisure & Entertainment; Big Bazzar is a Commercial; Burger King is a Food & Drink; Vaishali Family Restaurant & Bar is a Food & Drink; Costa Coffee is a Food & Drink; thethar is a Commercial; bialbazzar is a Leisure & Entertainment; Sufi Irani Chai is a Commercial; Al-baik.com is a Food & Drink; Janta Hardware traders is a Commercial; Hyderabad Irani Chai is a Commercial; Reliance Smart is a Commercial; The Cram Bar is a Food & Drink; KFC is a Food & Drink; Bindal Estate is a Industrial; St. Judes High school is a Educational; maxus mutiplex is a Leisure & Entertainment; "
          ],
          [
           "Maxus Multiplex is a Leisure & Entertainment; Big Bazzar is a Commercial; Manisha Bar is a Food & Drink; Tofa Mutton & Chicken is a Commercial; KPM High School is a Educational; Tiwari Hospital is a Healthcare; Grocery Outlet is a Commercial; Uma Hospital is a Healthcare; Lakshya Restaurant and Bar is a Food & Drink; thethar is a Commercial; bialbazzar is a Leisure & Entertainment; Sufi Irani Chai is a Commercial; Al-baik.com is a Food & Drink; Hyderabad Irani Chai is a Commercial; Reliance Smart is a Commercial; gandi park is a Leisure & Entertainment; Phoenix Market City is a Retail; Phoenix Market City Kurla is a Commercial; Nana Nani Park is a Leisure & Entertainment; Jijamata is a Leisure & Entertainment; Y.s.k Vidyalaya is a Educational; St. Judes High school is a Educational; maxus mutiplex is a Leisure & Entertainment; Balwaadi Ground is a Leisure & Entertainment; Gajanan Society is a Residential; suryoday society  is a Residential; Phoenix Paragon Plaza is a Commercial; Cake Maidan is a Leisure & Entertainment; Vaishali Maidaan is a Leisure & Entertainment; Joggers Park is a Leisure & Entertainment; Pramodji Mahajan Recreation Ground is a Leisure & Entertainment; Sunder Baug Industrial Estate is a Industrial; Agastya Corporate Park is a Commercial; "
          ],
          [
           "muktabai hospital is a Healthcare; Hotel Blue Pearl Residency is a Leisure & Entertainment; Jai Bhavani Restaurant is a Food & Drink; Vivek Maternity and Nursing Home is a Healthcare; Shree Sukh Shanti Hospital is a Healthcare; Dr. Bhanushalis Nursing Home is a Healthcare; Abhishek Nursing Home is a Healthcare; Pasaydan Hospital and Trust is a Healthcare; grocery store is a Commercial; Jalaram Traders is a Commercial; Material Organization Mumbai is a Landuse: Military; Jijamata is a Leisure & Entertainment; bhatwadi is a Residential; Hiramanek Residency is a Residential; Joggers Park is a Leisure & Entertainment; Mahindra Park is a Residential; bikaner warehouse is a Residential; Varsha Nagar is a Residential; "
          ],
          [
           "Prince Tech Solutions is a Commercial; deepak is a Commercial; nidan hospital is a Healthcare; new life hospital is a Healthcare; muktabai hospital is a Healthcare; dhanashri is a Residential; Bhau Vada Pav is a Food & Drink; Ascent Clinic is a Healthcare; Noble Hospital  Ghatkopar is a Healthcare; Dr. Vinod B Joshi Maternity Nursing Home is a Healthcare; Shanti Nursing Home  Mumbai is a Healthcare; Furia's Eye Clinic is a Healthcare; Amruta Surgical and Maternity Home is a Healthcare; Suyog Urology Centre is a Healthcare; Zynova Heart Hospital is a Healthcare; Kedia Nursing Home is a Healthcare; Navnirman Maternity and Surgical Hospital is a Healthcare; Nulife Hospital  Mumbai is a Healthcare; Jivdaya Hospital is a Healthcare; Shradha Heart Hospital is a Healthcare; Medico Surgical Clinic and Hospital is a Healthcare; CGHS Dispensary No.6  Ghatkopar is a Healthcare; Dr Sule's Vaibhav Polyclinic and Siddharth Nursing Home is a Healthcare; Dr Sonagra Medical and Surgical Centre is a Healthcare; Clear Vision Eye Center is a Healthcare; Satyam Hospital is a Healthcare; The Metropolitan Heart Institute and Research Centre is a Healthcare; Dr. Savlas Stone Clinic And Endoscopy Centre is a Healthcare; Sapna Health Care Centre Pvt Ltd is a Healthcare; Matangi Nursing Home is a Healthcare; Nachiketa Health Care Center is a Healthcare; Amar Jyot Eye Care Centre is a Healthcare; Jeevandeep Children Hospital  Mumbai is a Healthcare; Sanjeevani Nursing Home is a Healthcare; Matoshree Ramabai Maternity BMC Hospital is a Healthcare; Pasaydan Hospital and Trust is a Healthcare; Shantiniketan Hospital is a Healthcare; Varsha Nagar is a Residential; Gelda Nagar is a Residential; bhatwadi is a Residential; Hiramanek Residency is a Residential; Shreyas Garden Park is a Leisure & Entertainment; Chintamani CHS is a Residential; Limani Bhuvan is a Retail; Neelkanth Enclave is a Residential; Sarvodaya Hospital is a Healthcare; "
          ],
          [
           "Prince Tech Solutions is a Commercial; Abhinandan is a Food & Drink; nidan hospital is a Healthcare; Hubble is a Food & Drink; Furia's Eye Clinic is a Healthcare; Amruta Surgical and Maternity Home is a Healthcare; Suyog Urology Centre is a Healthcare; Satyam Hospital is a Healthcare; Sapna Health Care Centre Pvt Ltd is a Healthcare; Shantiniketan Hospital is a Healthcare; Ghatkopar BEST Bus Depot is a Industrial; Godrej Estate (East) is a Industrial; Damodar Park is a Leisure & Entertainment; Bombay Textile Research Association is a Industrial; Subhash Chandra Bose Garden is a Leisure & Entertainment; YMCA is a Leisure & Entertainment; Parel Purpales is a Residential; MHADA Colony (LIG) is a Residential; 5D is a Residential; MHADA Colony (EWS) is a Residential; 5A is a Residential; Sai Siddhi Tower is a Residential; 3G is a Residential; Boulevard is a Residential; R City Mall is a Retail; Kalpataru Aura is a Residential; Wadhwa The Address is a Residential; Godrej One is a Commercial; MHADA Colony (HIG) is a Residential; MHADA Colony (MIG) is a Residential; Snehasadan Co-operative Housing Society is a Residential; Shreyas Garden Park is a Leisure & Entertainment; 3F is a Residential; 3E is a Residential; tuscan is a Residential; 3H is a Residential; Panorama is a Residential; Vista is a Residential; Promenade is a Residential; H 1-D is a Residential; H 1-C is a Residential; H 1-B is a Residential; Swaroop Residency is a Residential; R City Mall is a Commercial; Chintamani CHS is a Residential; Limani Bhuvan is a Retail; Neelkanth Enclave is a Residential; Godrej Two is a Commercial; The Taj is a Commercial; Vikhroli Social is a Commercial; "
          ],
          [
           "Hubble is a Food & Drink; Peeple is a Natural; Godrej Estate (East) is a Industrial; Godrej One is a Commercial; Godrej Two is a Commercial; The Taj is a Commercial; Vikhroli Social is a Commercial; "
          ],
          [
           "Thane Creek Flamingo WLS is a Leisure & Entertainment; "
          ],
          [
           "Thane Creek Flamingo WLS is a Leisure & Entertainment; "
          ],
          [
           "Thane Creek Flamingo WLS is a Leisure & Entertainment; "
          ],
          [
           "Thane Creek Flamingo WLS is a Leisure & Entertainment; "
          ],
          [
           "NMMC Park is a Leisure & Entertainment; Nisarg Garden is a Leisure & Entertainment; Bhumiputra Ground is a Leisure & Entertainment; Vashi Holding Pond is a Natural; "
          ],
          [
           "Hotel Bhagat Tarachand is a Food & Drink; Blue Diamond Hotel is a Food & Drink; Saraswati Skin and Eye Care Centre is a Healthcare; Ashirwad Hospital Maternity Surgical and General is a Healthcare; Vinamra Swaraj Hospital is a Healthcare; One Above is a Leisure & Entertainment; Domino's is a Food & Drink; Rajiv Gandhi Park is a Leisure & Entertainment; Krantisimha Nana Patil Udyan is a Leisure & Entertainment; Neel Sidhi Towers A Wing is a Residential; Neel Sidhi Towers B Wing is a Residential; Acharya Shri Anand Rishi Garden is a Leisure & Entertainment; Sardar Vallabhbhai Patel Park is a Leisure & Entertainment; Sector-12 Park is a Leisure & Entertainment; Juhu Ground is a Leisure & Entertainment; Goldcrest High School is a Educational; Oriental College of Management Studies is a Educational; Nisarg Garden is a Leisure & Entertainment; Reliance Foundation School is a Educational; FAM CHS is a Residential; Vashi Holding Pond is a Natural; "
          ],
          [
           "Naik Nursing Home and Endoscopy Centre is a Healthcare; APMC Grain Market is a Industrial; CWC - Vashi is a Industrial; Bonkode Pond is a Natural; Sardar Vallabhbhai Patel Park is a Leisure & Entertainment; Kopri Pond is a Natural; Navi Mumbai Jr. College is a Educational; FAM CHS is a Residential; Bonkode Ground0 is a Leisure & Entertainment; "
          ],
          [
           "Ruchit Palace is a Food & Drink; wasan toyota is a Commercial; "
          ],
          [
           "Gelnova Laboratories (I) Pvt. Ltd. is a Industrial; Parsik Hills is a Landuse: Forest; "
          ],
          [
           "Parsik Hills is a Landuse: Forest; "
          ],
          [
           "Kharghar Hills Camping Site is a Leisure & Entertainment; Parsik Hills is a Landuse: Forest; "
          ],
          [
           "Parsik Hills is a Landuse: Forest; "
          ],
          [
           "Reliance is a Commercial; "
          ],
          [
           "Mahesh Lunch Home is a Food & Drink; Prithvi Theatre is a Leisure & Entertainment; Amrapali is a Commercial; Poetry is a Food & Drink; Kitchen Garden is a Food & Drink; Nature's Basket is a Commercial; Don Giovanni is a Food & Drink; Cromaky is a Commercial; Prithvi Cafe is a Food & Drink; Starbucks is a Food & Drink; Mumbai Fun In is a Food & Drink; Aptronix is a Commercial; Bora Bora is a Food & Drink; Shiv Sagar is a Food & Drink; Juben Wines is a Commercial; Shree Siddhivinayak Fast Food is a Food & Drink; Rajasthan Pav Bhaji is a Food & Drink; Arun Fast Food Centre is a Food & Drink; Sai Kalyan Pav Bhaji & Chinese is a Food & Drink; Rangeela Rajasthan Fast Food is a Food & Drink; Sagar Vada Pav & Tea is a Food & Drink; Shree Ram Pav Bhaji is a Food & Drink; Shiv Shankar Bhel Puri & Chat Centre is a Food & Drink; Radhe Krishna is a Food & Drink; Guru Saagar is a Food & Drink; Mahalakshmi is a Food & Drink; Santosh Pan Bhandar is a Commercial; China Gate is a Food & Drink; Tap Resto Bar is a Food & Drink; New York Burrito Company is a Food & Drink; Domino's is a Food & Drink; Just Dogs is a Commercial; Chaayos is a Food & Drink; Jo Rivaaz is a Commercial; Dr. Khanna's Dental Care is a Healthcare; Subway is a Food & Drink; The Belgian Waffle Co. is a Food & Drink; Cinnabon is a Food & Drink; Sbarro is a Food & Drink; The Sassy Teaspoon is a Commercial; Amrapali Jaipur is a Commercial; Copper Chimney is a Food & Drink; Chic Baby is a Commercial; IFB Point is a Commercial; Limelight Diamonds is a Commercial; Masculine is a Commercial; Shubhangi Lucknow is a Commercial; Glory is a Commercial; Le15 Patisserie is a Commercial; Bianca The Luxury Clothspa is a Commercial; Good Earth is a Commercial; The Class Thali is a Food & Drink; Nakashi Lucknow is a Commercial; The Homemade Cafe and Bar is a Food & Drink; Hit n Run is a Food & Drink; Dentist4U is a Healthcare; Third Wave Coffee is a Food & Drink; JW Marriott is a Leisure & Entertainment; Mumbai is a Natural; Juhu Beach is a Natural; Vishal Apartments is a Residential; Saint Joseph's High School is a Educational; Venuban is a Residential; Sanghvi Villa is a Residential; Surana's is a Residential; Udadhi Tarang is a Residential; Hotel Bawa Continental is a Leisure & Entertainment; Dharkar Cottage is a Residential; Philomena is a Residential; Duru House is a Commercial; Oberoi Beachwood House is a Residential; Podar World College is a Educational; Shernaz Navbahar is a Residential; Juhu Shilpa is a Residential; Standard House is a Commercial; Gazdar is a Residential; Kings Apartment is a Residential; Dilkhush Special School is a Educational; Marina is a Residential; Beach Haven II is a Residential; Sagarika is a Residential; Mermaid is a Residential; Juhu Princess is a Residential; Shangvi Udyan is a Residential; Vasant Villa is a Residential; Sanghvi's Paritosh is a Residential; Sanidhya is a Residential; Beach Haven I is a Residential; Pinnacle Dreams is a Residential; Aaradhana is a Residential; Juhu Residency Boutique Hotel is a Leisure & Entertainment; Janak is a Residential; Clifton is a Residential; Ramada Plaza Palm Grove is a Leisure & Entertainment; Vikram Vihar is a Residential; Lagoon Stores is a Commercial; Tulip Star is a Leisure & Entertainment; Police Station is a Government & Public Services; Oyster Shell is a Residential; Punjab Sind is a Commercial; Besant Montessori School is a Educational; Juhu Hotel is a Leisure & Entertainment; Hotel Beach Garden is a Leisure & Entertainment; "
          ],
          [
           "Mahesh Lunch Home is a Food & Drink; Raj-Rahul Apartments is a Residential; Sahakari Bhandar is a Commercial; Starbucks is a Food & Drink; Aptronix is a Commercial; Bora Bora is a Food & Drink; The Vission Eye Center is a Healthcare; Dr.Daftarys Total Care Clinic is a Healthcare; Sunflower Nursing Home  Mumbai is a Healthcare; Shiv Sagar is a Food & Drink; Nature's Basket is a Commercial; Juben Wines is a Commercial; Sunridges Speciality Hospital is a Healthcare; anand dosa center is a Food & Drink; Shree Siddhivinayak Fast Food is a Food & Drink; Sai Kalyan Pav Bhaji & Chinese is a Food & Drink; Shiv Shankar Bhel Puri & Chat Centre is a Food & Drink; Radhe Krishna is a Food & Drink; Guru Saagar is a Food & Drink; Mahalakshmi is a Food & Drink; Santosh Pan Bhandar is a Commercial; NMIMS canteen is a Food & Drink; Juhu Police Station is a Government & Public Services; chaibucks is a Food & Drink; China Gate is a Food & Drink; Tap Resto Bar is a Food & Drink; New York Burrito Company is a Food & Drink; Domino's is a Food & Drink; Just Dogs is a Commercial; Chaayos is a Food & Drink; Jo Rivaaz is a Commercial; Dr. Khanna's Dental Care is a Healthcare; Subway is a Food & Drink; The Belgian Waffle Co. is a Food & Drink; Cinnabon is a Food & Drink; Sbarro is a Food & Drink; The Sassy Teaspoon is a Commercial; Amrapali Jaipur is a Commercial; Copper Chimney is a Food & Drink; Chic Baby is a Commercial; IFB Point is a Commercial; Limelight Diamonds is a Commercial; Masculine is a Commercial; Shubhangi Lucknow is a Commercial; Glory is a Commercial; Le15 Patisserie is a Commercial; Bianca The Luxury Clothspa is a Commercial; Good Earth is a Commercial; The Class Thali is a Food & Drink; Nakashi Lucknow is a Commercial; The Homemade Cafe and Bar is a Food & Drink; Hit n Run is a Food & Drink; Dentist4U is a Healthcare; NM frankie is a Food & Drink; Boy London is a Commercial; Punjab Sind is a Commercial; Sohum Spa is a Commercial; JW Marriott is a Leisure & Entertainment; Nehru Nagar is a Residential; Pushpa Narsee Park is a Leisure & Entertainment; OPEN GARDENAL SPACES is a Leisure & Entertainment; Narsee Monjee College of Commerce is a Educational; Juhu Beach is a Natural; Saint Joseph's High School is a Educational; Raheja Haven Prananjali is a Residential; Ankur is a Residential; Surabhi is a Residential; Jeevan Jyot is a Residential; Agarwal House is a Residential; Hiralaya is a Commercial; Sahaj is a Residential; Hira Anand is a Residential; Puja Deep is a Residential; Venuban is a Residential; 20 is a Residential; Adityodhaya is a Residential; Chitrakunj is a Residential; Shraddha is a Residential; Paarasmani is a Residential; Sea Breeze is a Residential; Sanghvi Villa is a Residential; Aakashdeep is a Residential; Tenth Avenue is a Residential; Contractors is a Residential; More House is a Residential; Surana's is a Residential; Mahalaxmi is a Residential; Udadhi Tarang is a Residential; Hotel Bawa Continental is a Leisure & Entertainment; Dharkar Cottage is a Residential; Philomena is a Residential; Duru House is a Commercial; Oberoi Beachwood House is a Residential; Podar World College is a Educational; Shernaz Navbahar is a Residential; Juhu Shilpa is a Residential; Standard House is a Commercial; Gazdar is a Residential; Kings Apartment is a Residential; Dilkhush Special School is a Educational; Marina is a Residential; Beach Haven II is a Residential; Sagarika is a Residential; Mermaid is a Residential; Juhu Princess is a Residential; Shangvi Udyan is a Residential; Vasant Villa is a Residential; Sanghvi's Paritosh is a Residential; Valia S is a Residential; Sanidhya is a Residential; Beach Haven I is a Residential; Pinnacle Dreams is a Residential; Kanchan is a Residential; Aaradhana is a Residential; Juhu Residency Boutique Hotel is a Leisure & Entertainment; Prasang is a Residential; Ramada Plaza Palm Grove is a Leisure & Entertainment; Vikram Vihar is a Residential; Lagoon Stores is a Commercial; Kanakia Art House is a Residential; Jamnabai Narsee School is a Educational; Tulip Star is a Leisure & Entertainment; Narsee Monjee Institute Of Management Studies is a Educational; Mithibai College of Arts and Jitendra Chauhan College of Science is a Educational; Oyster Shell is a Residential; Besant Montessori School is a Educational; Juhu Hotel is a Leisure & Entertainment; Hotel Beach Garden is a Leisure & Entertainment; Chandni is a Residential; Arjav is a Residential; "
          ],
          [
           "McDonald's is a Food & Drink; Hair Plus Saloon is a Commercial; Superdoc Medical is a Healthcare; Hilti is a Commercial; Wagh Bakari Tea is a Food & Drink; Regal Optics is a Commercial; Same Place is a Food & Drink; Chirag Book is a Commercial; Jignesh Book is a Commercial; Shivkeerti is a Commercial; Pushpak Diagnostics is a Healthcare; Waman Hari Pethe Jewellers is a Commercial; Nanavati Hospital  Mumbai is a Healthcare; Cafe Coffee Day is a Food & Drink; Parle Book Cenre is a Commercial; Tea Villa is a Food & Drink; Shiv Sagar Hotel is a Food & Drink; Vasudev Eye Clinic is a Healthcare; Dr. Sadiwalas Clinic and Nursing Home is a Healthcare; Irla Nursing Home and Polyclinic is a Healthcare; Shruti Clinic is a Healthcare; Eclat Polyclinic is a Healthcare; Khandwala Eye Hospital and Polyclinic is a Healthcare; Dr. Umesh Nisar Dental Clinic is a Healthcare; anand dosa center is a Food & Drink; Babasaheb Gawde Hospital is a Healthcare; NMIMS canteen is a Food & Drink; chaibucks is a Food & Drink; Dr Surbhi Trivedi is a Healthcare; Pethani Book store is a Commercial; NM frankie is a Food & Drink; Jumbo King is a Food & Drink; Anuvansh Clinic is a Healthcare; Conversant Technologies is a Commercial; HEERSON is a Commercial; Chatrabhuj Narsee Monjee School is a Educational; Nehru Nagar is a Residential; Narsee Monjee College of Commerce is a Educational; Navratna Co.Op.Soc. is a Residential; Parle Tilak English School is a Educational; Karbhari is a Healthcare; Nursingashram is a Residential; Parle Tilak Marathi School is a Educational; Parle Tilak Vidyalaya (ICSC Board) is a Educational; Hira Anand is a Residential; PTV Marathi medium is a Educational; Neekanth is a Landuse: Construction; Hastiraj Plot 61-62 is a Residential; Kanakia Art House is a Residential; Shrinath Shopping Center (Khokha Market) is a Retail; Dolphin Aquarium is a Leisure & Entertainment; Parle Products is a Commercial; Narsee Monjee Institute Of Management Studies is a Educational; Mithibai College of Arts and Jitendra Chauhan College of Science is a Educational; "
          ],
          [
           "Kamat Plaza is a Leisure & Entertainment; Verma Tailor is a Commercial; Shivaji School is a Educational; Hair Plus Saloon is a Commercial; Superdoc Medical is a Healthcare; Hilti is a Commercial; Wagh Bakari Tea is a Food & Drink; Regal Optics is a Commercial; Same Place is a Food & Drink; Chirag Book is a Commercial; Raghuvir Stores is a Commercial; Jignesh Book is a Commercial; Shivkeerti is a Commercial; Cotton King is a Commercial; Sandip Book is a Commercial; Shivleela is a Food & Drink; Narayan Nagar is a Residential; Lakme Salon is a Commercial; Khadayata Bhavan is a Government & Public Services; Hari Om Milk & Colddrink is a Commercial; Tejas Electronics is a Commercial; Thote Milk is a Commercial; Thosar Wadi is a Residential; Guru Prasad Co.Op.HSG.Soc. is a Residential; Shree Kunj Premises is a Residential; Deshastha Hrigvedi Brahman Sangh is a Government & Public Services; Prabhu Ghar is a Residential; Atul Aurvedic is a Healthcare; Loop Gallery is a Leisure & Entertainment; Parle Provision is a Healthcare; Aanand Book is a Commercial; Milan is a Commercial; Mukesh Lights & Ceramics is a Commercial; Pankaj is a Commercial; Mukesh Electric & Hardware is a Commercial; Suman is a Healthcare; Birdy's is a Commercial; Gajali is a Food & Drink; Panshikar is a Food & Drink; Aaswad is a Food & Drink; Cafe Coffee Day is a Food & Drink; Daffodils is a Food & Drink; Satkar is a Food & Drink; V.D.Parekh is a Commercial; Jayant Janaral Stores is a Commercial; Sapre is a Commercial; Vaibhav Decorators is a Commercial; Ganesh Stores is a Commercial; Hotel Shree Ganesh is a Food & Drink; Bhai Ghar is a Leisure & Entertainment; Deepak Auto is a Commercial; Naresh Ceramics is a Commercial; Vidya Mandir is a Residential; Vadhu-Var Suchak Karyalaya is a Commercial; G.B.E.S. Hall is a Government & Public Services; Krishna Dairy Farm is a Commercial; gr8 smile dental clinic is a Healthcare; Tea Villa is a Food & Drink; Hindi  Gujarati  English is a Leisure & Entertainment; Shiv Sagar Hotel is a Food & Drink; Garde Manger Cafe is a Food & Drink; Parle Eye Hospital is a Healthcare; Dr. Kirits Nursing Home-Vile Parle is a Healthcare; Navjivan Maternity and Surgical Nursing Home is a Healthcare; Vasudev Eye Clinic is a Healthcare; Dr.Satish G.Desai is a Healthcare; Smt. Laxmiben Dharamsi Karsan Gala Eye Hospital is a Healthcare; Vivek Pathology Laboratory is a Healthcare; Ashish Maternity and Nursing Home - Vile Parle (E) is a Healthcare; V N Shirodkar Hospital is a Healthcare; Dr. Sanjanwala Hospital is a Healthcare; Vatsalya Clinic is a Healthcare; Dr. Wagh Maternity Hospital is a Healthcare; CLR FACILITY SERVICES PVT. LTD is a Commercial; Babasaheb Gawde Hospital is a Healthcare; The Dream Cafe is a Food & Drink; Saurashtra is a Food & Drink; The Bodhi Cafe is a Food & Drink; HEERSON is a Commercial; Sahara Star is a Leisure & Entertainment; New Airport Colony is a Residential; Navratna Co.Op.Soc. is a Residential; Parle Tilak English School is a Educational; Karbhari is a Healthcare; Nursingashram is a Residential; Prabhat Cottage is a Residential; Pannalal Lohe Day Care is a Educational; Parle Tilak Marathi School is a Educational; Moreshwar is a Food & Drink; Pitale Wadi is a Residential; Shree Vitthal Co.op.HSG.Soc.Ltd. is a Residential; Shree Durga Co.Op.HSG.Soc.Ltd. is a Residential; G.B.E.S. School is a Educational; Parle Tilak Vidyalaya (ICSC Board) is a Educational; Bawa International is a Leisure & Entertainment; Ibis is a Leisure & Entertainment; Hotel Transit is a Leisure & Entertainment; Rio office is a Commercial; PTV Marathi medium is a Educational; Dahanukar College of Commerce is a Educational; Yograj Building is a Residential; Mahila Sang is a Educational; dream cafe is a Food & Drink; Om Easwari is a Residential; Garde Manger is a Food & Drink; Dubashi is a Leisure & Entertainment; Cricket Ground is a Leisure & Entertainment; "
          ],
          [
           "Deepak is a Residential; Jeeves Repairing Centre is a Commercial; Blue Bells Residency-Mumbai Airport is a Leisure & Entertainment; amar juice center is a Food & Drink; Omkar Wines is a Commercial; New Airport Colony is a Residential; Hotel Transit is a Leisure & Entertainment; Our Lady Of Health High School is a Educational; Adani Electricity Mumbai Ltd is a Commercial; Bombay Cambridge International School is a Educational; MCGM Playground is a Leisure & Entertainment; CPWD Colony is a Landuse: Meadow; Sahar Cargo Estate is a Residential; "
          ],
          [
           "Ambassador is a Leisure & Entertainment; Shiv Sagar is a Food & Drink; Cafe Coffee Day is a Food & Drink; Mitkat Advisory Services Pvt Ltd is a Leisure & Entertainment; duty free is a Commercial; Street Foods by Punjab Grill is a Food & Drink; Pizza Hut is a Food & Drink; asia seven is a Food & Drink; KFC is a Food & Drink; Starbucks is a Food & Drink; The New Terminal 2  Scale 1:500 is a Commercial; Alembic Pharmaceuticals Corporate Office is a Commercial; Shivsagar is a Food & Drink; ITC Grand Maratha is a Leisure & Entertainment; Hilton Mumbai International Airport is a Leisure & Entertainment; Jai Vidyadani is a Residential; Hyatt Regency is a Leisure & Entertainment; Burger King is a Food & Drink; Our Lady Of Health High School is a Educational; Amabaji Ground is a Leisure & Entertainment; BMC Ground is a Leisure & Entertainment; CPWD Colony is a Landuse: Meadow; Cargo Terminal is a Industrial; "
          ],
          [
           "Ambassador is a Leisure & Entertainment; Leela Kempinski is a Leisure & Entertainment; Kumaria Presidency is a Leisure & Entertainment; Shiv Sagar is a Food & Drink; Cafe Coffee Day is a Food & Drink; Waterstones Hotel is a Leisure & Entertainment; Domino's is a Food & Drink; JW Marriott Mumbai Sahar is a Leisure & Entertainment; Starbucks is a Food & Drink; Lalit Mumbai is a Leisure & Entertainment; The New Terminal 2  Scale 1:500 is a Commercial; J.P Hospital  Mumbai is a Healthcare; Central Hospital & Child Care Centre is a Healthcare; Vaishali Family Restaurant & Bar is a Food & Drink; Shivsagar is a Food & Drink; IDfy is a Commercial; Hotel Regal International is a Leisure & Entertainment; Prakash Inn is a Leisure & Entertainment; Bindal Estate is a Industrial; Logitech Park is a Commercial; Waterstones Club is a Leisure & Entertainment; Burger King is a Food & Drink; NDW Proxima is a Residential; Mittal Industrial Estate is a Industrial; "
          ],
          [
           "Sagar Heights is a Residential; THERESA HIGH SCHOOL is a Educational; Holiday Inn International Hotel is a Leisure & Entertainment; Kaveri is a Residential; Asha Jadhav's House is a Residential; Anil Lunch Home is a Food & Drink; Cafe Dilshad is a Food & Drink; Tofa Mutton & Chicken is a Commercial; KPM High School is a Educational; Hotel Aviva is a Leisure & Entertainment; Tiwari Hospital is a Healthcare; Deep Punjab Dhaba is a Food & Drink; Grocery Outlet is a Commercial; Priyanka Maternity and Surgical Nursing Home is a Healthcare; Ashirwad Children and Surgical Hospital is a Healthcare; J.P Hospital  Mumbai is a Healthcare; Paramount General Hospital and Icu is a Healthcare; Paramount General Hospital and ICCU is a Healthcare; Sapna Maternity and General Hospital is a Healthcare; Dr. Chhajed Surgerical & Maternity Hospital is a Healthcare; Central Hospital & Child Care Centre is a Healthcare; Apex Multi Speciality Hospital is a Healthcare; Mohili Village Municipal Hospital is a Healthcare; Axon Hospital & Dialysis Center is a Healthcare; Fatima milk centre is a Food & Drink; KFC is a Food & Drink; Deepak Opticians is a Commercial; Asia Kitchen is a Food & Drink; Hotel Regal International is a Leisure & Entertainment; Chheda copy center is a Commercial; Dixit the mobile shop is a Commercial; gandi park is a Leisure & Entertainment; Mumbai Metro-The Excecutive is a Leisure & Entertainment; Domino's Pizza is a Food & Drink; Bindal Estate is a Industrial; Logitech Park is a Commercial; Y.s.k Vidyalaya is a Educational; Pranik Chambers is a Commercial; Sudarshan is a Food & Drink; Cake Maidan is a Leisure & Entertainment; Junjar Ground is a Leisure & Entertainment; Vaishali Maidaan is a Leisure & Entertainment; Mithi River is a Natural; Mittal Industrial Estate is a Industrial; Mohili Village Municipality School is a Educational; St Anthony's High School is a Educational; "
          ],
          [
           "sangresh nager is a Residential; DIC INDIAN LTD is a Commercial; Hotel Blue Pearl Residency is a Leisure & Entertainment; Sant Muktabai Hospital is a Healthcare; Sapna Maternity and General Hospital is a Healthcare; Ghatkopar Hill is a Natural; Varsha Nagar is a Residential; BEST Quarry is a Landuse: Quarry; Alamanda is a Residential; Mimosa is a Residential; Ivy is a Residential; Tulupia is a Residential; Lantana is a Residential; Jamaica is a Residential; Lilac is a Residential; Zara is a Residential; Zinnia is a Residential; Frangipani is a Residential; Burberry is a Residential; Bryony is a Residential; Fiorello is a Residential; Junjar Ground is a Leisure & Entertainment; Yvonne is a Residential; Yarrow is a Residential; Yucca is a Residential; Vinca is a Residential; Nahar Amrit Shakti is a Residential; Iris is a Residential; Mirabilis is a Residential; Tilia is a Residential; Laurel is a Residential; Jonquille is a Residential; Lilium is a Residential; Orchid Enclave is a Residential; Magnolia Enclave is a Residential; Camellia is a Residential; Nahar International School is a Educational; Mohili Village Municipality School is a Educational; Summer Life is a Residential; "
          ],
          [
           "deepak is a Commercial; Sant Muktabai Hospital is a Healthcare; Matoshree Ramabai Maternity BMC Hospital is a Healthcare; general food store is a Commercial; Ghatkopar Hill is a Natural; Varsha Nagar is a Residential; BEST Quarry is a Landuse: Quarry; Bombay Textile Research Association is a Industrial; Gelda Nagar is a Residential; 5E is a Residential; 5D is a Residential; 5B is a Residential; 5A is a Residential; narendra villa is a Residential; kanan building is a Residential; Orchard Residency is a Residential; 5C is a Residential; "
          ],
          [
           "career classes is a Commercial; Abhinandan is a Food & Drink; sandesh school is a Educational; Roman stores is a Commercial; general food store is a Commercial; Godrej Estate (West) is a Industrial; Varsha Nagar is a Residential; Godrej Estate (East) is a Industrial; Damodar Park is a Leisure & Entertainment; Bombay Textile Research Association is a Industrial; Vikhroli BEST Bus Depot is a Industrial; Parel Purpales is a Residential; Accenture is a Commercial; 5E is a Residential; 5D is a Residential; 5B is a Residential; 5A is a Residential; 3G is a Residential; Boulevard is a Residential; kanan building is a Residential; R City Mall is a Retail; Kalpataru Aura is a Residential; Wadhwa The Address is a Residential; Godrej Consumer Store is a Commercial; Prabodhankar Thakre Manoranjan Udyan is a Leisure & Entertainment; Mayfair Hillcrest is a Residential; BMC School (Abandoned) is a Educational; Swing Garden is a Leisure & Entertainment; Godrej Nursery is a Landuse: Plant_nursery; 3F is a Residential; 3E is a Residential; tuscan is a Residential; 3H is a Residential; Panorama is a Residential; Vista is a Residential; Promenade is a Residential; R City Mall is a Commercial; Orchard Residency is a Residential; 5C is a Residential; "
          ],
          [
           "shraddha vishwakarma's house is a Residential; Godrej Estate (West) is a Industrial; Godrej Estate (East) is a Industrial; Accenture is a Commercial; Udayachal High School is a Educational; Godrej platinum is a Residential; The Club is a Leisure & Entertainment; Godrej Memorial Hospital  Mumbai is a Healthcare; Godrej is a Residential; Godrej Garden Enclave is a Residential; Godrej Platinum is a Residential; "
          ],
          [
           "Thane Creek Flamingo WLS is a Leisure & Entertainment; "
          ],
          [
           "Thane Creek Flamingo WLS is a Leisure & Entertainment; "
          ],
          [
           "Thane Creek Flamingo WLS is a Leisure & Entertainment; "
          ],
          [
           "Thane Creek Flamingo WLS is a Leisure & Entertainment; "
          ],
          [
           "Vedaant Multispeciality Hospital is a Healthcare; Christ Academy School is a Educational; NMMC Park is a Leisure & Entertainment; Om Shree Krishna is a Residential; Om shree Krishna is a Residential; DVS School & Junior College is a Educational; Nisarg Garden is a Leisure & Entertainment; Bhumiputra Ground is a Leisure & Entertainment; Guru Tegh Bahadur Park is a Leisure & Entertainment; Sai Proviso Krutika CHS Ltd is a Residential; Nishant Arcade is a Residential; Natasha Tower is a Residential; Dawoodi Bohra Qabrastan - Koperkhairane is a Landuse: Cemetery; "
          ],
          [
           "Karan Palace CHS  Plot No.38  Sector-18  Kopar Khairane  Navi Mumnai is a Residential; seema restro is a Commercial; Signature is a Commercial; Archana Maternity & Nursing Home is a Healthcare; Vedaant Multispeciality Hospital is a Healthcare; Vidhi Eye and Skin Care Centre is a Healthcare; Dr. Dive S Eye Clinic is a Healthcare; Saraswati Skin and Eye Care Centre is a Healthcare; Om Gagangiri Hospital  Thane is a Healthcare; Aakashdeep Hospital and I.C.U is a Healthcare; Satyam Multispeciality Hospital and Trauma Centre is a Healthcare; Rajpal Hospital and I.C.U. is a Healthcare; Mathadi Hospital is a Healthcare; Christ Academy School is a Educational; Society Park is a Leisure & Entertainment; Krantisimha Nana Patil Udyan is a Leisure & Entertainment; Om Shree Krishna is a Residential; Om shree Krishna is a Residential; sakshi's point is a Commercial; Ganesh Apartments is a Residential; Dr Ajayan's Multispeciality Hospital is a Healthcare; NMMC School is a Educational; North Point School is a Educational; DVS School & Junior College is a Educational; Yashwantrao Chavan College of Arts  Science & Commerce is a Educational; Lokmanya Tilak College of Engineering is a Educational; Chikaleshwar Garden is a Leisure & Entertainment; Bhumiputra Ground is a Leisure & Entertainment; Reliance Foundation School is a Educational; Guru Tegh Bahadur Park is a Leisure & Entertainment; R.F Naik School & Junior College is a Educational; St. Mary's ICSE School is a Educational; Koparkhairne Ground is a Leisure & Entertainment; Sai Proviso Krutika CHS Ltd is a Residential; Nishant Arcade is a Residential; Natasha Tower is a Residential; HeathFree Chemist is a Commercial; Dawoodi Bohra Qabrastan - Koperkhairane is a Landuse: Cemetery; Hotel Spices is a Food & Drink; "
          ],
          [
           "Balaji Theatre is a Leisure & Entertainment; Naik Nursing Home and Endoscopy Centre is a Healthcare; Dhirubhai Ambani Knowledge City is a Educational; Bonkode Pond is a Natural; Society Park is a Leisure & Entertainment; Shree Siddhivinayak Tower is a Residential; Ganesh Apartments is a Residential; Dr Ajayan's Multispeciality Hospital is a Healthcare; NMMC School is a Educational; R.F Naik School & Junior College is a Educational; St. Mary's ICSE School is a Educational; Reliance Hospital is a Healthcare; "
          ],
          [
           "Ruchit Palace is a Food & Drink; "
          ],
          [
           "Gelnova Laboratories (I) Pvt. Ltd. is a Industrial; "
          ],
          [
           "Parsik Hills is a Landuse: Forest; "
          ],
          [
           "Parsik Hills is a Landuse: Forest; "
          ],
          [
           "Parsik Hills is a Landuse: Forest; "
          ],
          [
           "Aditi poojari is a Residential; "
          ],
          [
           "Cromā is a Commercial; Prithvi Theatre is a Leisure & Entertainment; Amrapali is a Commercial; Poetry is a Food & Drink; Kitchen Garden is a Food & Drink; Juhu Post Office is a Government & Public Services; Anand Bhavan is a Leisure & Entertainment; Nature's Basket is a Commercial; Alfredo's is a Food & Drink; Don Giovanni is a Food & Drink; Cromaky is a Commercial; Fresco Bakery is a Commercial; Prithvi Cafe is a Food & Drink; Facing East is a Food & Drink; Dakshinayan is a Food & Drink; Kavita is a Residential; Treebo Sea Side  is a Leisure & Entertainment; Bharatiya Arogya Nidhi Sheth Kantilal C. Parikh General Hospital is a Healthcare; Lotus Eye Hospital is a Healthcare; Cafe Coffee Day is a Food & Drink; Studio 90 Photography is a Commercial; Tanatan is a Food & Drink; Agnelo's Hi Tech Optician is a Commercial; Bafna Medical and General Stores is a Healthcare; Welcome Medical & General Stores is a Healthcare; Printpoint is a Commercial; Love and Latte is a Food & Drink; Punjab da Chulah is a Food & Drink; Yeda Republic is a Food & Drink; R-Adda is a Food & Drink; Third Wave Coffee is a Food & Drink; My Bisleri Mangalmurthi Distributor is a Commercial; The Florist Studio is a Commercial; Fabindia is a Commercial; Malad Creek is a Natural; Mumbai is a Natural; Juhu Beach is a Natural; Irla Nala is a Natural; ISKCON is a Landuse: Religious; Chandan Cinema is a Leisure & Entertainment; Utpal Sanghvi School is a Educational; Vishal Apartments is a Residential; Saint Joseph's High School is a Educational; Markandari Mehta Maidan is a Leisure & Entertainment; Gurukripa is a Residential; Paavan Residency is a Residential; Daya is a Residential; Sanjan is a Residential; Girnar is a Residential; Naman is a Residential; R Square is a Residential; Tulsi is a Residential; Sumeet is a Residential; Nanak Ashish is a Residential; Radha Kunj is a Residential; Tirth is a Residential; Guru Angad Saheb Niwas is a Residential; Porwal's is a Residential; Gopi Kunj is a Residential; Amore is a Residential; Sea Breeze is a Residential; Govardhan Bhuvan is a Residential; Krishani is a Residential; Tvamev is a Residential; Karam Kutir is a Residential; Rajeshwari is a Residential; Anu is a Residential; Sharanam is a Residential; Kamleshwar is a Residential; Shivpuri is a Residential; Vinayak Kunj is a Residential; Prabhaj is a Residential; Utpal Shanghvi School Ground is a Leisure & Entertainment; Sagar Sangeet is a Residential; Juhu Oceanus is a Residential; Desai's is a Residential; Hotel Juhu Plaza is a Leisure & Entertainment; Sun-n-Sand is a Leisure & Entertainment; Goddess Temple Pond is a Natural; Sanskar is a Residential; Alfred Creado House is a Residential; Anirdesh Usha Villa is a Residential; Fatima Palace is a Residential; Dharam Jyot is a Residential; 7 is a Residential; Sheetal is a Residential; Manisha is a Residential; Palazzo is a Residential; Janak is a Residential; Ram Murti is a Residential; Swarna is a Residential; The Gopush Annexe is a Residential; Novotel is a Leisure & Entertainment; Clifton is a Residential; Kabir is a Residential; Juhu Vile Parle Gymkhana Club is a Leisure & Entertainment; Tulip Star is a Leisure & Entertainment; Krishna Rao Rane Maidan is a Landuse: Recreation_ground; Shree Mukteshwar is a Landuse: Religious; Kalumal Estate is a Residential; Parchhaiyan is a Residential; New India Society Children's Garden is a Leisure & Entertainment; Ratna is a Residential; Bondre is a Residential; Ravish is a Residential; Krishnam is a Residential; Nilalbari is a Residential; Nirbhay is a Residential; Kamala is a Residential; Ira is a Residential; Durbar is a Residential; Vishwam is a Residential; "
          ],
          [
           "Jevan Vikas Hospital is a Healthcare; M-Block is a Residential; Nutan Mammography and Sonography Centre is a Healthcare; Belle 32 is a Healthcare; Barista is a Food & Drink; Dadajee Ice Cream is a Food & Drink; K D Polyclinic is a Healthcare; Shah Clinic is a Healthcare; Pooja's Flower Art is a Commercial; Vimal Stores is a Commercial; Park The Salon is a Commercial; Bata is a Commercial; Metro Shoes is a Commercial; Lord's is a Commercial; BMW showroom is a Commercial; New Looks Hair Salon is a Commercial; Centre For Sight  Juhu is a Healthcare; Dr. Sadiwalas Clinic and Nursing Home is a Healthcare; Divya Eye Clinic and Day Care Centre  Juhu is a Healthcare; Sainath Polyclinic is a Healthcare; Doctor Eye Hospital is a Healthcare; Mediwavw Clinic is a Healthcare; Unique Hospital and Polyclinic is a Healthcare; Irla Nursing Home and Polyclinic is a Healthcare; Dr. Joshi Surgical and Maternity Hospital is a Healthcare; Life Care Iccu   Medical and Surgical Emergencies is a Healthcare; Masrani Clinic For Women and Mimas is a Healthcare; Iris Eye Center is a Healthcare; Sambhaji Nagar  Dispensary is a Healthcare; Aharveda is a Food & Drink; Oasis Restaurant & Bar is a Food & Drink; KLS Memorial Hospital is a Healthcare; Dr Surbhi Trivedi is a Healthcare; McDonald's is a Food & Drink; Chatrabhuj Narsee Monjee School is a Educational; Yadav Nagar is a Residential; Irla Nala is a Natural; Bharucha Baug is a Residential; Juhu Griha Swapna CHS is a Residential; Hemal is a Residential; Ameet Satam Garden is a Leisure & Entertainment; Kaledonia is a Residential; Shatdal is a Residential; Jeevan Sudha is a Residential; Platinum is a Residential; Green Court is a Residential; Hotel Karl Residency is a Residential; Royal Chambers is a Commercial; New India Park is a Leisure & Entertainment; Prem Nagar is a Residential; Lalubhai Park is a Landuse: Recreation_ground; Vallabhai park is a Leisure & Entertainment; Neekanth is a Landuse: Construction; Hastiraj Plot 61-62 is a Residential; Dolphin Aquarium is a Leisure & Entertainment; Parle Products is a Commercial; Dr. Cooper Hospital is a Healthcare; Sir Sorabji Pochkhanawala Bankers Training College is a Educational; SVKM is a Educational; Millenium Club is a Leisure & Entertainment; Mukesh Patel School of Technology Management and Engineering is a Educational; Hinduhridaysamrat Balasaheb Thackeray Medical College is a Educational; Shoppers Stop is a Commercial; Chandaben Mohandas Homeopathic Medical College is a Residential; "
          ],
          [
           "Little Feet is a Educational; Regency is a Food & Drink; Shastri Medical is a Healthcare; Advanced Music Labs is a Commercial; Fish Market is a Commercial; Jevan Vikas Hospital is a Healthcare; Verma Tailor is a Commercial; Shivaji School is a Educational; Guru Prasad Co.Op.HSG.Soc. is a Residential; Prabhu Ghar is a Residential; Gajali is a Food & Drink; Panshikar is a Food & Drink; Aaswad is a Food & Drink; Prabodhankar Thanckeray Udyan is a Leisure & Entertainment; Udyan Prabha Cooperative Housing Society is a Residential; Hubtown is a Residential; National House is a Residential; Basil is a Food & Drink; gr8 smile dental clinic is a Healthcare; Sagar is a Food & Drink; Hotel Benarsi is a Food & Drink; Neeta Tours and Travels is a Commercial; New Looks Hair Salon is a Commercial; Garde Manger Cafe is a Food & Drink; Parvish Nursing Home Pvt Ltd  Mumbai is a Healthcare; Dr. Kirits Nursing Home-Vile Parle is a Healthcare; Saurabh Clinic Dr.Sanjanwalas Maternity and Gynacologist is a Healthcare; Nityanand Iccu and Nursing Home is a Healthcare; Sadanand Danait Hospital is a Healthcare; V N Shirodkar Hospital is a Healthcare; Sambhaji Nagar  Dispensary is a Healthcare; Dr. Sanjanwala Hospital is a Healthcare; Keep Fit Clinic is a Healthcare; CLR FACILITY SERVICES PVT. LTD is a Commercial; The Bodhi Cafe is a Food & Drink; Jamie Oliver is a Food & Drink; BookMyShow Office is a Commercial; Mumbai Public School is a Educational; Bureau of Civil Aviation Security is a Commercial; Directorate General of Civil Affairs is a Commercial; Airport Authority of India Offices is a Commercial; Black Bull Cafe (BBC Bar & Restaurant) is a Food & Drink; Innov8 Andheri is a Commercial; Jay Travels Golden Metrolink is a Commercial; Purple Metrolink is a Commercial; Prabodhan Thakrey Swimming Pool is a Leisure & Entertainment; New Airport Colony is a Residential; Shree Kunj Premises is a Residential; Moreshwar is a Food & Drink; G.B.E.S. School is a Educational; Kaledonia is a Residential; Padma Nagar is a Residential; Muktidham Hall is a Government & Public Services; Satpravruti is a Residential; Western Tower is a Residential; Garde Manger is a Food & Drink; Vallabhai park is a Leisure & Entertainment; Urmila CHS is a Residential; Parle Products is a Commercial; "
          ],
          [
           "Samraj is a Leisure & Entertainment; Ratna Mahal is a Leisure & Entertainment; Sangam Big Cinema is a Leisure & Entertainment; Cafe Coffee Day is a Food & Drink; Shri Kalgidar Mission High School is a Educational; Dragonfly is a Leisure & Entertainment; Enrich Salon is a Commercial; Maru Stores is a Commercial; Deepak is a Residential; Domino's is a Food & Drink; Backpacker Panda Appetite - Mumbai is a Leisure & Entertainment; Neeta Tours and Travels is a Commercial; Jeeves Repairing Centre is a Commercial; Kiran Care and Cure Hospital is a Healthcare; Rachana Maternity Paediatric and Surgical Nursing Home is a Healthcare; Spectacles and Contact Lens Clinic is a Healthcare; Goel Hospital is a Healthcare; Veena Clinic is a Healthcare; Mohan Studio is a Leisure & Entertainment; Meril Life Sciences Pvt. Ltd. (International Sales) is a Commercial; Amar Fast Food And Juice Center is a Food & Drink; Solitaire Corporate Park is a Commercial; Blue Bells Residency-Mumbai Airport is a Leisure & Entertainment; Procter & Gamble Healtcare Limited is a Commercial; sbi is a Leisure & Entertainment; nana nani park is a Leisure & Entertainment; amar juice center is a Food & Drink; Hotel Indigo is a Leisure & Entertainment; BookMyShow Office is a Commercial; Omkar Wines is a Commercial; Bureau of Civil Aviation Security is a Commercial; Directorate General of Civil Affairs is a Commercial; Airport Authority of India Offices is a Commercial; Black Bull Cafe (BBC Bar & Restaurant) is a Food & Drink; DevX Andheri is a Commercial; Innov8 Andheri is a Commercial; Carnival Cinemas is a Leisure & Entertainment; Jay Travels Golden Metrolink is a Commercial; Purple Metrolink is a Commercial; Holy Family Church Cemetery is a Landuse: Cemetery; New Airport Colony is a Residential; Technopolis Knowledge Park is a Commercial; Green Woods Co-Op Housing Society is a Residential; Hotel Oriental Aster is a Residential; Sai Palace is a Food & Drink; Padma Nagar is a Residential; Inizio is a Commercial; Muktidham Hall is a Government & Public Services; Sharaton Heights is a Residential; Western Tower is a Residential; Akal Society Building A-1 is a Residential; Holy Family High School is a Educational; Rane Engineers and Surveyors is a Commercial; Kanakia Wall Street is a Commercial; Adani Electricity Mumbai Ltd is a Commercial; Bombay Cambridge International School is a Educational; MCGM Playground is a Leisure & Entertainment; Sparsh Appartment is a Residential; India P&G Plazha is a Commercial; deep apartmanmn is a Residential; JB  NAGAR is a Food & Drink; Sahar Cargo Estate is a Residential; "
          ],
          [
           "Sun n Sheel is a Leisure & Entertainment; Tunga International is a Leisure & Entertainment; Sangam Big Cinema is a Leisure & Entertainment; J. B. Nagar Post Office is a Government & Public Services; Shri Kalgidar Mission High School is a Educational; Dr. Belani’s Blue Shield Medical Clinic is a Healthcare; Mitkat Advisory Services Pvt Ltd is a Leisure & Entertainment; Mukund Hospital is a Healthcare; Gopal Krishna  is a Food & Drink; The Leela is a Leisure & Entertainment; shri Ghanshamdas podhar vidyalay Rajasthani school is a Educational; Backpacker Panda Appetite - Mumbai is a Leisure & Entertainment; Kempinski Leela is a Leisure & Entertainment; Apna dhaba is a Food & Drink; Mukund Maternity and Surgical Nursing Home is a Healthcare; Dadhich Nursing Home is a Healthcare; Kiran Care and Cure Hospital is a Healthcare; Ameya Surgical and General Nursing Home is a Healthcare; Rachana Maternity Paediatric and Surgical Nursing Home is a Healthcare; Spectacles and Contact Lens Clinic is a Healthcare; Goel Hospital is a Healthcare; Meril Life Sciences Pvt. Ltd. is a Commercial; Amar Fast Food And Juice Center is a Food & Drink; Alembic Pharmaceuticals Corporate Office is a Commercial; jb nagar post office is a Government & Public Services; Nursing Home is a Healthcare; DevX Andheri is a Commercial; Carnival Cinemas is a Leisure & Entertainment; ITC Grand Maratha is a Leisure & Entertainment; Hilton Mumbai International Airport is a Leisure & Entertainment; Citiscape is a Residential; Kohinoor Continental is a Leisure & Entertainment; Jai Vidyadani is a Residential; Hyatt Regency is a Leisure & Entertainment; St. John The Evangelist High School is a Educational; Leela Business Park is a Commercial; "
          ],
          [
           "Leela Kempinski is a Leisure & Entertainment; Kumaria Presidency is a Leisure & Entertainment; Tirupati is a Leisure & Entertainment; Mahesh Lunch Home is a Food & Drink; Town Centre 1 is a Commercial; shivkrupa is a Food & Drink; Quantum Designs is a Commercial; Waterstones Hotel is a Leisure & Entertainment; The Leela is a Leisure & Entertainment; Cafe Coffee Day is a Food & Drink; Domino's is a Food & Drink; Kanchi Veg is a Food & Drink; Kempinski Leela is a Leisure & Entertainment; Lalit Mumbai is a Leisure & Entertainment; Dr. M.C.Desai Eye Clinic and Microsurgury Eye Centre is a Healthcare; Marol Maternity Home is a Healthcare; Medicare Hospital is a Healthcare; Minks Sayaji is a Food & Drink; Mumbai Staytion Hostel is a Leisure & Entertainment; Starbucks is a Food & Drink; Hybrid Theory is a Food & Drink; Bombay to Barcelona Cafe is a Food & Drink; IDfy is a Commercial; Chimichurri is a Food & Drink; Marol fire station is a Government & Public Services; 3M Car Care is a Commercial; Mirages is a Leisure & Entertainment; Persian Darbar is a Food & Drink; Logitech Park is a Commercial; Waterstones Club is a Leisure & Entertainment; Emerald is a Residential; St. John The Evangelist High School is a Educational; Mithi River is a Natural; Vasant Oasis is a Residential; Club House is a Residential; Zinnia is a Residential; Lillium is a Residential; Veronica is a Residential; Ornella is a Residential; Tiffany is a Residential; Kanakia Sevens is a Residential; NDW Proxima is a Residential; Mittal Industrial Estate is a Industrial; Radisson Blu Mumbai International Airport is a Leisure & Entertainment; Lemon Tree Premier Mumbai International Airport is a Leisure & Entertainment; Leela Business Park is a Commercial; "
          ],
          [
           "Mahesh Lunch Home is a Food & Drink; Kaveri is a Residential; Saki vihar Dark store is a Commercial; Eva's Pizza is a Food & Drink; Vodafone Store is a Commercial; Balaji Speciality Hospital is a Healthcare; Ashirwad Children and Surgical Hospital is a Healthcare; Zobiya Hospital Maternity Home is a Healthcare; Asmira Hospital is a Healthcare; Axon Hospital & Dialysis Center is a Healthcare; Airtel is a Commercial; Deepak Opticians is a Commercial; Asia Kitchen is a Food & Drink; Chheda copy center is a Commercial; Chimichurri is a Food & Drink; 3M Car Care is a Commercial; Dixit the mobile shop is a Commercial; Persian Darbar is a Food & Drink; Mumbai Metro-The Excecutive is a Leisure & Entertainment; Patel Book Centre is a Commercial; Apratim  Near Boomerang Building Gate No. 1 is a Food & Drink; Bindal Estate is a Industrial; Logitech Park is a Commercial; Boomerang is a Commercial; The Finch Mumbai is a Industrial; Sun Shine C.H.S. Ltd. is a Residential; Panchvati Apartments is a Residential; lantana is a Residential; Sahayadri  CHS is a Residential; Ram Darshan CHS is a Residential; Saki Naka Police Station is a Residential; Pranik Chambers is a Commercial; Ebony is a Residential; Emerald is a Residential; Mithi River is a Natural; Vasant Oasis is a Residential; Club House is a Residential; Lillium is a Residential; Rosabel is a Residential; Veronica is a Residential; Ornella is a Residential; Tiffany is a Residential; Jolan is a Residential; Danica is a Residential; Kanakia Boomerang is a Commercial; Kanakia Sevens is a Residential; NDW Proxima is a Residential; Mittal Industrial Estate is a Industrial; Ansa Industrial Estate is a Industrial; Haria Industrial Estate is a Industrial; St Anthony's High School is a Educational; Oberoi Garden Estate is a Commercial; "
          ],
          [
           "Janta Bakery is a Food & Drink; Dudhsagar is a Food & Drink; sangresh nager is a Residential; DMART is a Commercial; BLUE BELL RESIDENCY is a Residential; DIC INDIAN LTD is a Commercial; Belita Beauty Parlour is a Commercial; Lakme Salon Chandivali is a Commercial; Enrich salons is a Commercial; Karamel Unisex Salon is a Commercial; Zobiya Hospital Maternity Home is a Healthcare; Chandivali Mhada MCGM Garden is a Leisure & Entertainment; Elder's Park is a Leisure & Entertainment; Sinhgad College of Commerce is a Educational; Patel Book Centre is a Commercial; Ghatkopar Hill is a Natural; BEST Quarry is a Landuse: Quarry; Alamanda is a Residential; Mimosa is a Residential; Ivy is a Residential; Callalily is a Residential; Tulupia is a Residential; Lantana is a Residential; Jamaica is a Residential; Lilac is a Residential; Zara is a Residential; Zinnia is a Residential; Frangipani is a Residential; Burberry is a Residential; Bryony is a Residential; Boomerang is a Commercial; Sun Shine C.H.S. Ltd. is a Residential; Sahyog CHS is a Residential; Evershine Sapphire is a Residential; Sai Sadan CHS is a Residential; Panchvati Apartments is a Residential; Safalya CHS is a Residential; Vandemataram Co-op. Housing Society is a Residential; Giridarshan CHS is a Residential; lantana is a Residential; Sahayadri  CHS is a Residential; Ram Darshan CHS is a Residential; Ekta CHS is a Residential; Saki Naka Police Station is a Residential; Nahar Business Centre is a Commercial; woodland heights is a Residential; Kailash Tower is a Residential; Fiorello is a Residential; Lake Homes pond is a Natural; Lake Homes Artificial Lake is a Natural; Yvonne is a Residential; Yarrow is a Residential; Yucca is a Residential; Vinca is a Residential; Nahar Medical Center is a Residential; D-mart is a Commercial; Nahar Amrit Shakti is a Residential; Iris is a Residential; Mirabilis is a Residential; Tilia is a Residential; Laurel is a Residential; Jonquille is a Residential; Lilium is a Residential; Shapoorji Pallonji Vicinia is a Residential; Orchid Enclave is a Residential; Magnolia Enclave is a Residential; Camellia is a Residential; Nahar International School is a Educational; Lake Primrose is a Residential; Lake Homes Sales Office is a Commercial; Lake Superior is a Residential; Raheja Nest is a Residential; Lake Lucerne is a Residential; Lake Pleasant is a Residential; Lake Florence is a Residential; Lake Riviera is a Residential; Kanakia Boomerang is a Commercial; Nahar Nature Park is a Leisure & Entertainment; Ganesh Maidaan is a Landuse: Recreation_ground; Oberoi Garden Estate is a Commercial; Summer Life is a Residential; "
          ],
          [
           "Janta Bakery is a Food & Drink; RUDE LOUNGE is a Food & Drink; MEHMAN NAWAZI is a Food & Drink; BREEZE RESTAURANT is a Food & Drink; Supreme Business Park is a Commercial; OpenTable Inc is a Commercial; JP Morgan Chase is a Commercial; Celebrity Beauty Parlour is a Commercial; Dev Stationary & Prints is a Commercial; EaseOn Spa Salon & Yoga is a Commercial; Lucky Multipurpose Store - Stationery and home goods is a Commercial; Ambaji Medical Store is a Commercial; Forest Essentials is a Commercial; Bombay Shirt Company is a Commercial; 3M Car Care is a Commercial; Lucky Stores is a Commercial; GKB Opticals is a Commercial; Poetry - By Love and Cheescake is a Food & Drink; iKeva Powai is a Commercial; S.M. Shetty School Ground is a Educational; Ghatkopar Hill is a Natural; Varsha Nagar is a Residential; BEST Quarry is a Landuse: Quarry; Lakecastle is a Residential; IIT Bombay Staff CHS Ltd is a Residential; S.M. Shetty canteen is a Food & Drink; S.M.Shetty College is a Educational; Octavius is a Residential; Fairmont is a Commercial; woodland heights is a Residential; Glen Ridge is a Residential; Glen Croft is a Residential; Avalon is a Residential; Verona is a Residential; Glen Heights is a Residential; Torino is a Residential; Glen Gate is a Residential; Glen Dale is a Residential; Kensington-B is a Commercial; Chitra Arth Studios is a Industrial; Kensington-A is a Commercial; Eden 2 is a Residential; Lotus is a Residential; Cypress is a Residential; Canna is a Residential; Eden 3 is a Residential; Blue Bell is a Residential; Tulip is a Residential; Daffodil is a Residential; Eden 1 is a Residential; Richmond Tower is a Residential; Kailash Tower is a Residential; Eden 4 is a Residential; Heritage is a Residential; Adonia is a Residential; Winchester is a Commercial; Glen Classic is a Residential; Heritage Gardens is a Leisure & Entertainment; Hiranandani School New is a Educational; Dog Park is a Leisure & Entertainment; Glen Society Garden is a Leisure & Entertainment; Forest Park is a Leisure & Entertainment; Verona Garden is a Leisure & Entertainment; Naval Housing Plot is a Residential; Amber is a Residential; Shapoorji Pallonji Vicinia is a Residential; "
          ],
          [
           "nidhi gupta is a Commercial; Godrej Hill is a Natural; Gharkul Developers is a Commercial; iKeva Powai is a Commercial; Godrej Estate (West) is a Industrial; Ghatkopar Hill is a Natural; Varsha Nagar is a Residential; Octavius is a Residential; Fairmont is a Commercial; Kensington-A is a Commercial; Winchester is a Commercial; G1 is a Residential; Club is a Leisure & Entertainment; Kid's Play Area is a Leisure & Entertainment; Godrej Consumer Store is a Commercial; Prabodhankar Thakre Manoranjan Udyan is a Leisure & Entertainment; Kailash Complex is a Commercial; Kailash Business Park is a Commercial; Mayfair Hillcrest is a Residential; BMC School (Abandoned) is a Educational; Swing Garden is a Leisure & Entertainment; Godrej Nursery is a Landuse: Plant_nursery; BMC Crematorium is a Landuse: Cemetery; Amber is a Residential; "
          ],
          [
           "Sai Ashish Apartment is a Residential; shraddha vishwakarma's house is a Residential; SHRADDHA VISHWAKARMA'S HOUSE is a Residential; jasvanti land mark is a Commercial; Godrej Hill is a Natural; Modi General Hospital and Iccu is a Healthcare; Laxmi Health Care Center and Iccu is a Healthcare; Samarth Hospital  Mumbai is a Healthcare; CGHS Dispensary No.  Vikhroli is a Healthcare; Dr. Gujar and Doctor Pandey is a Healthcare; Godrej Estate (West) is a Industrial; Cipla is a Commercial; Sai Ashish Co-operative Housing Society is a Residential; Vikhroli Railway Station is a Landuse: Railway; Railway Ticket Counter is a Commercial; G1 is a Residential; Club is a Leisure & Entertainment; Kid's Play Area is a Leisure & Entertainment; Godrej Memorial Hospital  Mumbai is a Healthcare; Godrej is a Residential; Godrej Garden Enclave is a Residential; Gurudev Ravindranath Tagore Udyan Park is a Leisure & Entertainment; J.K Towers is a Residential; Udayachal Primary School Ground is a Leisure & Entertainment; St. Josephs High School is a Educational; DGQA Complex is a Landuse: Military; Raj Splendour is a Residential; "
          ],
          [
           "Sanmeet Singh Bhamrah is a Residential; Laxmi Health Care Center and Iccu is a Healthcare; Yashwant Hospital  Mumbai is a Healthcare; CGHS Dispensary No.  Vikhroli is a Healthcare; Dr. Gujar and Doctor Pandey is a Healthcare; Godrej is a Residential; Gurudev Ravindranath Tagore Udyan Park is a Leisure & Entertainment; Sambhaji Maidan is a Leisure & Entertainment; J.K Towers is a Residential; litttle angel cooperating housing society is a Residential; Udayachal Primary School Ground is a Leisure & Entertainment; Municipalty School is a Educational; Shushrusha Hospital is a Healthcare; "
          ],
          [
           "Thane Creek Flamingo WLS is a Leisure & Entertainment; "
          ],
          [
           "Thane Creek Flamingo WLS is a Leisure & Entertainment; "
          ],
          [
           "Thane Creek Flamingo WLS is a Leisure & Entertainment; "
          ],
          [
           "Thane Creek Flamingo WLS is a Leisure & Entertainment; "
          ],
          [
           "Koparkhairne Holding Pond is a Natural; Rana Devi Park is a Leisure & Entertainment; Vishwarao Playground is a Leisure & Entertainment; Mathadi Kamgaar Sahkari Awaas is a Residential; "
          ],
          [
           "Sai Snehdeep Hospital is a Healthcare; Dr. Dive S Eye Clinic is a Healthcare; Mathadi Hospital is a Healthcare; Gandhi Park is a Leisure & Entertainment; Shri Manoshi Complex is a Residential; Koparkhairne Holding Pond is a Natural; Shivaji Rao Patil Park is a Leisure & Entertainment; Rana Devi Park is a Leisure & Entertainment; Lokmanya Tilak International School is a Educational; Kariyanappally 5 is a Residential; Inox Movie Theater is a Leisure & Entertainment; North Point School is a Educational; Lokmanya Tilak College of Engineering is a Educational; Terna Orchids International Schoool is a Educational; NMMC School is a Educational; Chikaleshwar Garden is a Leisure & Entertainment; Vishwarao Playground is a Leisure & Entertainment; Koparkhairne Ground is a Leisure & Entertainment; Public Ground is a Landuse: Recreation_ground; HeathFree Chemist is a Commercial; Hotel Spices is a Food & Drink; Koparkhairne Fire Station is a Government & Public Services; "
          ],
          [
           "Millennium Business Park  Mahape Village is a Commercial; Sarovar Portico is a Leisure & Entertainment; Larsen & Toubro -Automation campus is a Commercial; Dhirubhai Ambani Knowledge City is a Educational; Shivaji Rao Patil Park is a Leisure & Entertainment; Lokmanya Tilak International School is a Educational; Shree Siddhivinayak Tower is a Residential; Lokmat Newspaper is a Commercial; Nirmal Bhavan M.P.C.B is a Commercial; A Wing  Technocity is a Commercial; B Wing  Technocity is a Commercial; Country Inn Hotel & Suites is a Leisure & Entertainment; Technocity is a Commercial; DAKC Pond is a Natural; MIDC Mahape is a Commercial; Lokmanya Tilak College of Engineering is a Educational; Terna Orchids International Schoool is a Educational; Reliance Hospital is a Healthcare; Koparkhairne Fire Station is a Government & Public Services; "
          ],
          [
           "Millennium Business Park  Mahape Village is a Commercial; Sarovar Portico is a Leisure & Entertainment; Larsen & Toubro -Automation campus is a Commercial; Parsik Hills is a Landuse: Forest; "
          ],
          [
           "Shil Mhape Police Chouki is a Government & Public Services; Parsik Hills is a Landuse: Forest; "
          ],
          [
           "Parsik Hills is a Landuse: Forest; "
          ],
          [
           "Parsik Hills is a Landuse: Forest; "
          ],
          [
           "Aditi poojari is a Residential; "
          ],
          [
           "Malad Creek is a Natural; Juhu Beach is a Natural; Versova beach is a Natural; "
          ],
          [
           "PVR Juhu is a Leisure & Entertainment; Harshwardhan is a Residential; Yashwant is a Residential; Mad Over Donuts is a Commercial; Salon Drama is a Commercial; Di Bella Coffee is a Food & Drink; Real Chemist is a Healthcare; Nom Nom is a Food & Drink; Banana Leaf is a Food & Drink; Vikas Wines is a Commercial; Debonair's Pizza is a Food & Drink; Richfeel Hair And Scalp Clinic is a Healthcare; Moragaon Society Office is a Commercial; Shroff's Dental Clinic is a Healthcare; Treen's Beauty Parlour is a Commercial; Cindrella is a Commercial; Gala Traders is a Commercial; Perfect Physique Gym is a Leisure & Entertainment; Studio 90 Photography is a Commercial; Malad Creek is a Natural; Juhu Beach is a Natural; Mangal Geeta is a Residential; Shree Sanman is a Residential; barren land is a Residential; Juhu Omkaar is a Residential; Irla Nala is a Natural; Versova beach is a Natural; Shazy Society is a Residential; Andheri New Kapaswadi Juhu Ekta Co-Op Housing Society Ltd is a Residential; Chandan Cinema is a Leisure & Entertainment; Anand is a Residential; Tahiti is a Residential; Ritu is a Residential; Upkar is a Residential; Anand Vihar is a Residential; Maharaja Surajmal C is a Residential; Suyog is a Residential; Hari Om is a Residential; Ratna Sindhu is a Residential; Sunrays is a Residential; Parijat is a Residential; Sea Crown is a Residential; Sea Bird is a Residential; Rajiv Gandhi Institute Of Technology is a Educational; Galaxy is a Residential; Deepratna is a Residential; Prachi is a Residential; Amaltas Co-Operative Housing Society Ltd is a Residential; Amaltas is a Residential; Milap A is a Residential; Magic Carpet is a Residential; Jeevan Sapna is a Residential; Vanashree Apartments is a Residential; Raviraj is a Residential; Anita Apartments is a Residential; Maharaja Surajmal is a Residential; Sai Baba Towers is a Residential; Utpal Shanghvi School Ground is a Leisure & Entertainment; BMC Pumping station Building no 1 is a Industrial; Gharkul is a Residential; Sheetal is a Residential; Thunga is a Healthcare; Abhishek Row Houses is a Residential; Mangesh is a Residential; Krishna Rao Rane Maidan is a Landuse: Recreation_ground; "
          ],
          [
           "Babul is a Leisure & Entertainment; SPCE canteen is a Food & Drink; D.N. Nagar Police Station is a Government & Public Services; Cross Word is a Commercial; PVR Juhu is a Leisure & Entertainment; Shoppers Stop is a Commercial; Sujay Hospital is a Healthcare; Ameya co-op housing society is a Residential; D.N.Nagar Post office is a Government & Public Services; Versova Police Station is a Government & Public Services; Fition Wines is a Commercial; Cafe Coffee Day is a Food & Drink; FabIndia is a Commercial; Goa Bhavan is a Food & Drink; Tian is a Food & Drink; Cosmopolitan Education Society is a Educational; Sahyadri Co-Operative Housing Society is a Residential; Tiwari Brothers is a Commercial; Centre For Development Of Advanced Computing is a Commercial; Florista is a Commercial; Flowers By Design is a Commercial; Aparna Clinic is a Healthcare; Pressto is a Commercial; Mothercare Clinic is a Healthcare; Criticare Multispeciality Hospital and Research Centre is a Healthcare; Oculus Eye Hospital Pvt. Ltd is a Healthcare; Dr. Deepika Shetty Skin Clinic is a Healthcare; Furtados is a Commercial; Coffee by Di Bella is a Food & Drink; pepperfry.com is a Commercial; Nishly Fashion House is a Commercial; Perfect Physique Gym is a Leisure & Entertainment; Bar Stock Exchange Juhu is a Food & Drink; Orange City Saoji is a Food & Drink; Fabindia is a Commercial; Tilak Udyan is a Leisure & Entertainment; Versova Police station (D.N.Nagar) is a Government & Public Services; Bhartiya Vidya Bhavan's Campus is a Educational; Irla Nala is a Natural; Andheri New Kapaswadi Juhu Ekta Co-Op Housing Society Ltd is a Residential; Chandan Cinema is a Leisure & Entertainment; Sai Baba Towers is a Residential; ONGC Residential Apartments is a Residential; Juhu Sheetal CHS is a Residential; Gitanjali CHS is a Residential; PVR Cinemas is a Commercial; Aditya CHS is a Residential; Chrysalis is a Residential; Tushar Bindu CHS is a Residential; Gulistan E Hind CHS is a Residential; Juhu Natraj is a Residential; Juhu Gaurav is a Residential; Chhaya Vihar is a Residential; Juhu Jivan is a Residential; Mahran Society is a Residential; Windswept Dohad Saifee CHS Ltd is a Residential; Smt. Ramdevi Sobhraj Bajaj Arya Vidya Mandir Ground is a Leisure & Entertainment; SP Jain Hostel is a Leisure & Entertainment; Yoga Apartments is a Residential; Venetia Jamnagar CHS is a Residential; Gold Mist is a Residential; Crystal CHS is a Residential; Juhu Ajanta CHS is a Residential; Neel Sagar is a Residential; Suhas is a Residential; Saurashtra Society is a Residential; Juhu Harshal CHS is a Residential; Thunga is a Healthcare; Abhishek Row Houses is a Residential; Imperial Residency is a Residential; Naveen Bharat is a Residential; My Litlle Home CHS is a Residential; Keval Kunj is a Residential; Juhu Ankur is a Residential; Horizon is a Residential; Bhavans Lake is a Natural; Children Knowledge & Forest Park is a Leisure & Entertainment; Sagar City is a Residential; YMCA Basketball Court is a Leisure & Entertainment; DN Nagar Ground is a Leisure & Entertainment; Khubchandani Hospital is a Healthcare; S. P. Jain Institute of Management and Research is a Educational; Bhavan's College is a Educational; Sardar Patel Institute of Technology is a Educational; Sardar Patel College of Engineering is a Educational; The Club Mumbai is a Leisure & Entertainment; Hansraj Morarji Public School is a Educational; Bai Kabibai & Hansraj Moraraji Trust Andheri Campus is a Educational; "
          ],
          [
           "Gilbert Hill is a Natural; Mid Town is a Leisure & Entertainment; Navrang Talkies is a Leisure & Entertainment; M-Block is a Residential; Sagar is a Residential; Jeevan Jyot Medical Centre is a Healthcare; Nutan Mammography and Sonography Centre is a Healthcare; Belle 32 is a Healthcare; Barista is a Food & Drink; Dadajee Ice Cream is a Food & Drink; K D Polyclinic is a Healthcare; Shah Clinic is a Healthcare; Pooja's Flower Art is a Commercial; Vimal Stores is a Commercial; Park The Salon is a Commercial; Bata is a Commercial; Metro Shoes is a Commercial; Lord's is a Commercial; BMW showroom is a Commercial; Sangita Maternity Surgical and Diagnostic Centre is a Healthcare; Kripa Eye Clinic is a Healthcare; Dr Telangs Dhanvantari Hospital is a Healthcare; Patil Hospital  Mumbai is a Healthcare; Kaveri Eye Care Centre is a Healthcare; Vishal X-Ray Clinic is a Healthcare; Vibha Maternity and Surgical Nursing Home is a Healthcare; Sainath Polyclinic is a Healthcare; Doctor Eye Hospital is a Healthcare; Unique Hospital and Polyclinic is a Healthcare; E N T Clinic and Deafness Center is a Healthcare; Bses Mg Hospital (Managed By)Brahma Kumari Global Hospital and Res Center is a Healthcare; Aastha Nursing Home  andheri is a Healthcare; Dr. Dev Clinic is a Healthcare; Sunil Shopping Center is a Commercial; Alankar Classes Nilesh Sir is a Commercial; Anuvansh Fertility & Women's Clinic is a Healthcare; Aharveda is a Food & Drink; Oasis Restaurant & Bar is a Food & Drink; Alfa Executive is a Leisure & Entertainment; McDonalds is a Food & Drink; IItian's PACE - Andheri is a Educational; Aditi Fast Food is a Food & Drink; Aakash Institute is a Educational; M A Government School is a Educational; Yadav Nagar is a Residential; Gilbert Hill is a Leisure & Entertainment; Andheri Market is a Retail; Bhartiya Vidya Bhavan's Campus is a Educational; Bharucha Baug is a Residential; Vias Apartments is a Residential; Shatdal is a Residential; Jeevan Sudha is a Residential; Platinum is a Residential; Green Court is a Residential; Shreeji Dham is a Residential; Atlantic Ocean is a Residential; New India Park is a Leisure & Entertainment; Pace Junior Science College is a Educational; Lalubhai Park is a Landuse: Recreation_ground; Sagar City is a Residential; Andheri Tahsildar Office is a Commercial; Khubchandani Hospital is a Healthcare; S. P. Jain Institute of Management and Research is a Educational; Sardar Patel Institute of Technology is a Educational; Sardar Patel College of Engineering is a Educational; Bai Kabibai & Hansraj Moraraji Trust Andheri Campus is a Educational; Cama Athornan Institute is a Landuse: Religious; Shree Ram Welfare High School is a Educational; Shoppers Stop is a Commercial; "
          ],
          [
           "Imperial Palace is a Leisure & Entertainment; Highway Inn is a Leisure & Entertainment; Regency is a Food & Drink; Mid Town is a Leisure & Entertainment; Jain Tripathi & Co. is a Commercial; Shreya House is a Commercial; Hubtown is a Residential; SBI General Insurance Pvt. Ltd. is a Commercial; Parvish Nursing Home Pvt Ltd  Mumbai is a Healthcare; Amardeep Nursing Home is a Healthcare; Kripa Eye Clinic is a Healthcare; Saheli Clinic is a Healthcare; Vishal X-Ray Clinic is a Healthcare; Patel Nursing Home andheri (E) is a Healthcare; Laxmi Mirat Eye Clinic and Day Care Centre is a Healthcare; Jain Nursing Home  Mumbai is a Healthcare; E N T Clinic and Deafness Center is a Healthcare; Mangala Nursing Home is a Healthcare; Bses Mg Hospital (Managed By)Brahma Kumari Global Hospital and Res Center is a Healthcare; CritiCare Hospital is a Healthcare; PVR Andheri is a Leisure & Entertainment; Suntech Business Solutions is a Commercial; DR. ANUJ SINGH'S HIP & KNEE CENTRE is a Healthcare; Lakheree Store is a Commercial; Nagardas Road Post Office is a Government & Public Services; Neelkamal Showroom is a Commercial; Anupam Stationery is a Commercial; Amber Stores is a Commercial; Paras Stationery is a Commercial; Pandey Newspapers is a Commercial; Aneri Showroom is a Commercial; Hotel Classic is a Food & Drink; Kwality Xerox is a Commercial; Allwyn Jumbo Xerox is a Commercial; Ratnagiri Restaurant And Bar is a Food & Drink; Azad Stores is a Commercial; Jyoti Stores is a Commercial; Krishna Lunch Home And Bar is a Food & Drink; Andheri Book Depot is a Commercial; Books Emporium is a Commercial; Lakshmi Supermarket is a Food & Drink; Swagat Mangalore Stores is a Food & Drink; Anuvansh Fertility & Women's Clinic is a Healthcare; chanai park is a Leisure & Entertainment; Golden Slice Cake Cafe is a Commercial; AJ Jewellers is a Commercial; McDonalds is a Food & Drink; IItian's PACE - Andheri is a Educational; Aditi Fast Food is a Food & Drink; Aakash Institute is a Educational; M A Government School is a Educational; Andheri Market is a Retail; ECO Space IT park is a Commercial; Rustomjee is a Commercial; PVR Theatre is a Residential; Popular Mattresses & Furnishing | Kurlon Korner is a Commercial; Directiplex is a Commercial; Pace Junior Science College is a Educational; Tata Consultancy Services - TCS is a Commercial; Vertex Vikas B Wing is a Commercial; Karnik Chawl is a Commercial; Bhagwan Bhuvan is a Commercial; Vertex Vikas A Wing is a Commercial; Vasudev Apartment is a Residential; Shri Chinai College of Commerce & Economics is a Educational; "
          ],
          [
           "Shreya House is a Commercial; Enrich Salon is a Commercial; Maru Stores is a Commercial; SBI General Insurance Pvt. Ltd. is a Commercial; Domino's is a Food & Drink; Dr.Sakhalkar's Maternity and Nursing Home is a Healthcare; Aditya Nursing Home is a Healthcare; PVR Andheri is a Leisure & Entertainment; Mohan Studio is a Leisure & Entertainment; Suntech Business Solutions is a Commercial; Meril Life Sciences Pvt. Ltd. (International Sales) is a Commercial; Procter & Gamble Healtcare Limited is a Commercial; Holy Family Church Cemetery is a Landuse: Cemetery; Vinayalaya Retreat House is a Commercial; Technopolis Knowledge Park is a Commercial; Marol is a Industrial; Giriraj Industrial Estate is a Industrial; Green Woods Co-Op Housing Society is a Residential; Satyadarshan C.H.S. Ltd is a Residential; HOLY FAMILY HIGH SCHOOL is a Commercial; B10 is a Residential; B6 is a Residential; C14 is a Residential; A4 is a Residential; C15 is a Residential; B9 is a Residential; B8 is a Residential; B11 is a Residential; B12 is a Residential; B7 is a Residential; C13 is a Residential; Rustomjee is a Commercial; Sai Palace is a Food & Drink; PVR Theatre is a Residential; A2 is a Residential; A1 is a Residential; B5 is a Residential; Bindra Classic is a Residential; Padma Nagar is a Residential; RNA Hills is a Residential; C16 is a Residential; Inizio is a Commercial; Sharaton Heights is a Residential; Tunga International is a Commercial; Lotus Building is a Residential; A3 is a Residential; Ahura Center is a Commercial; Holy Family High School is a Educational; MIDC Industrial Estate is a Industrial; ESIC Model Hospital is a Healthcare; Indian Institute of Packaging - IIP Mumbai is a Educational; Tata Consultancy Services - TCS is a Commercial; Kanakia Wall Street is a Commercial; Sparsh Appartment is a Residential; India P&G Plazha is a Commercial; "
          ],
          [
           "Tunga International is a Leisure & Entertainment; Red Box is a Food & Drink; Premiere House is a Commercial; Drool over dosa is a Food & Drink; Hotel Krishna is a Food & Drink; Ganesh idliwala is a Food & Drink; Umang Maternity and Surgical Nursing Home is a Healthcare; SRL Diagnostics Andheri (MIDC) is a Healthcare; Dr. F. F. Pardiwala is a Healthcare; Excel Service Centre is a Commercial; Creative Handicrafts Andheri is a Commercial; Shiv vada pav is a Food & Drink; Technopolis Knowledge Park is a Commercial; Marol is a Industrial; Dewool Talav is a Natural; Rolta Technology Park is a Commercial; Samruddhi Venture Park is a Commercial; Giriraj Industrial Estate is a Industrial; Swimming Pool - Maheshwari Nagar is a Leisure & Entertainment; Citiscape is a Residential; TATA Consultancy Services is a Commercial; Tunga International is a Commercial; Ahura Center is a Commercial; MIDC Industrial Estate is a Industrial; ESIC Model Hospital is a Healthcare; ESIC Sub-Regional Office is a Commercial; Indian Institute of Packaging - IIP Mumbai is a Educational; SEEPZ is a Commercial; "
          ],
          [
           "Tirupati is a Leisure & Entertainment; Hotel Grand Inn is a Leisure & Entertainment; shivkrupa is a Food & Drink; Quantum Designs is a Commercial; Marol is a Healthcare; Drool over dosa is a Food & Drink; Hotel Krishna is a Food & Drink; Ganesh idliwala is a Food & Drink; Dr. M.C.Desai Eye Clinic and Microsurgury Eye Centre is a Healthcare; Dr.Pintos Pathological Laboratory is a Healthcare; Sugun Hospital Multispeciality Diagnostic  Icu is a Healthcare; Chiranjeevi Nursing Home is a Healthcare; Gokul Maternity & Surgical Home is a Healthcare; SRL Diagnostics Andheri (MIDC) is a Healthcare; Cuddles N Care Pediatric Hospital is a Healthcare; Tanvi Supermarket is a Commercial; monica momos is a Food & Drink; Bharatvan is a Leisure & Entertainment; Seven Hills Hospital is a Healthcare; Dewool Talav is a Natural; Swimming Pool - Maheshwari Nagar is a Leisure & Entertainment; LT Colony is a Residential; vijay nagar LT complex is a Residential; Gokul maternity and Surgical home is a Healthcare; The Vein Center Andheri is a Healthcare; Lok Raunak is a Residential; ESIC Sub-Regional Office is a Commercial; Mithi River is a Natural; Marol Police Camp is a Government & Public Services; Eliza is a Residential; Woodlaand Crest is a Residential; Raj Paradise CHS is a Residential; Poorti Supermarket is a Commercial; Kanakia Rainforest is a Residential; Vasant Oasis is a Residential; Zinnia is a Residential; Lillium is a Residential; Ornella is a Residential; Tiffany is a Residential; Jolan is a Residential; SEEPZ is a Commercial; "
          ],
          [
           "Ashok Vihar is a Residential; Saki vihar Dark store is a Commercial; Eva's Pizza is a Food & Drink; Friendz Beauty Parlour is a Commercial; Sangita Beauty Parlour is a Commercial; Reflections Salon & Spa is a Commercial; S B Nursing Home and Icu is a Healthcare; Sugun Hospital Multispeciality Diagnostic  Icu is a Healthcare; Cuddles N Care Pediatric Hospital is a Healthcare; People's Clinic & Vaccinations Centre is a Healthcare; grocery store is a Commercial; Tanvi Supermarket is a Commercial; LODHA Supremus Powai is a Commercial; Apratim  Near Boomerang Building Gate No. 1 is a Food & Drink; Bharatvan is a Leisure & Entertainment; Boomerang is a Commercial; The Finch Mumbai is a Industrial; Sunset-1 is a Residential; Raheja Vistas is a Residential; Ebony is a Residential; Mithi River is a Natural; Marol Police Camp is a Government & Public Services; MCMCR is a Residential; Eliza is a Residential; Raj Paradise CHS is a Residential; Poorti Supermarket is a Commercial; MCGM Park is a Leisure & Entertainment; Nirali A M Naik Charitable Health-Care Facility is a Healthcare; L&T Emerald Isle is a Residential; Kanakia Rainforest is a Residential; Vasant Oasis is a Residential; Club House is a Residential; Zinnia is a Residential; Lillium is a Residential; Rosabel is a Residential; Veronica is a Residential; Jolan is a Residential; Danica is a Residential; Kanakia Boomerang is a Commercial; Raheja Vihar Circular Road is a Residential; Vaibhav Estate is a Industrial; We Works- Co working is a Commercial; Oberoi Garden Estate is a Commercial; "
          ],
          [
           "Indian Register of Shipping is a Commercial; Dudhsagar is a Food & Drink; Midas Touch Beauty Parlour is a Commercial; Mala's Beauty Parlour is a Commercial; Karishma Beauty Salon is a Commercial; Belita Beauty Parlour is a Commercial; Krishna Stationary is a Commercial; Impact Graphics is a Commercial; Lakme Salon Chandivali is a Commercial; Enrich salons is a Commercial; Karamel Unisex Salon is a Commercial; Reflections Salon & Spa is a Commercial; Powai Polyclinic and Hospital is a Healthcare; Creative Handicrafts Powai is a Commercial; Anthem Lounge is a Food & Drink; Powai Lake Garden is a Leisure & Entertainment; Fitencity Gym is a Leisure & Entertainment; Chanfrabhan Sharma collehe of arts & science is a Educational; Powai Vihar Park is a Leisure & Entertainment; Elder's Park is a Leisure & Entertainment; Sinhgad College of Commerce is a Educational; Panchvati A&B Wings is a Residential; LAKE SHORE HEIGHTS CHS LTD is a Residential; Evershine Sapphire is a Residential; Nahar Business Centre is a Commercial; Lake Palace Powai Vihar CHS is a Residential; Sunset-1 is a Residential; Raheja Vistas is a Residential; Sapphire Lakeside CHS is a Residential; LAKE AVENUE CHS LTD is a Residential; Lake Homes pond is a Natural; Lake Homes Artificial Lake is a Natural; MCMCR is a Residential; MCGM Park is a Leisure & Entertainment; L&T Emerald Isle is a Residential; Everest Apartments is a Residential; Lake Primrose is a Residential; Lake Homes Sales Office is a Commercial; Lake Superior is a Residential; Raheja Nest is a Residential; Lake Lucerne is a Residential; Lake Pleasant is a Residential; Lake Florence is a Residential; Lake Riviera is a Residential; Kanakia Boomerang is a Commercial; TATRAKSHAK is a Residential; Raheja Vihar Circular Road is a Residential; Income Tax Colony is a Residential; Oberoi Garden Estate is a Commercial; Powai Lake is a Natural; "
          ],
          [
           "Mantra is a Food & Drink; Powai Dental Clinic is a Healthcare; Powai Hospital is a Healthcare; Monginis Cake is a Commercial; vindu's house is a Residential; Paras Studio is a Commercial; Tailor is a Commercial; Shilpi Textiles is a Commercial; Vaishali Tailor is a Commercial; laxmi studio is a Commercial; Dulhan ladies is a Commercial; Bollywood queen is a Commercial; Charvi Beauty Parlour and Academy is a Commercial; N.G. Beauty Parlour is a Commercial; Nirvana - Skin & Hair Care  Salon & Spa is a Commercial; Bablu's Unisex Salon is a Commercial; Ashraf's Scissors Hands is a Commercial; Ivana Beauty Parlour & Classes is a Commercial; Print Hub is a Commercial; Colorax Digital is a Commercial; Unicorn Digital Arts is a Commercial; Mahakali Stationary and Printer is a Commercial; Kartik Digital Print is a Commercial; Dil Bahar Hair Salon is a Commercial; HN Wellness Salon & Spa is a Commercial; fbb - Fashion at Big Bazar is a Commercial; Westside is a Commercial; A1 Watch Sales and Service is a Commercial; Inner Vogue Lingerie Shop is a Commercial; Purple Haze Clothing Store is a Commercial; 1st Beauty Fair is a Commercial; Ashraf's Salon is a Commercial; Dental Clinic - Dr Tania Thukral is a Healthcare; Ramdas Vitthaldas Mewawala is a Commercial; The Wadapav Cafe is a Food & Drink; Jawed Habib Hair and Beauty is a Commercial; Styles and Smiles - Salon and Spa is a Commercial; Kids care is a Commercial; Mamaji's Medical Store is a Commercial; Grapes Kids and Ladies Wear is a Commercial; Lucky Kids is a Commercial; Navrang Digital Lab is a Commercial; Harsidh Stationery and Xerox is a Commercial; GNC is a Commercial; Maarwadi is a Commercial; Galleria Juice and Snacks is a Food & Drink; Rainbow Juice Center is a Food & Drink; Dosa Maker is a Food & Drink; Bollyfood is a Food & Drink; Nihal Nursing Home & Opthalmologist is a Healthcare; New Starlite Optiks;Sheer Perfection Beauty Salon is a Commercial; Navarang Optics is a Commercial; Gelleria Optics is a Commercial; Oppo  vodafone  idea is a Commercial; Star Bag is a Commercial; Parabola Restaurant is a Food & Drink; Le Pain Quotidien is a Food & Drink; Rodas - An Ecotel Hotel is a Food & Drink; Crafters - The Tap House is a Food & Drink; Hoppipola is a Food & Drink; The Beer Cafe is a Food & Drink; Rolls Mania is a Food & Drink; Smokin Joe's Pizza is a Food & Drink; Little Punjab Restaurant is a Food & Drink; Kareem's is a Food & Drink; Charpai - The Flavour is a Food & Drink; Faasos is a Food & Drink; Juicy Stuff is a Food & Drink; China House is a Food & Drink; Dum Matka is a Food & Drink; China Chilli is a Food & Drink; Hanglas - The Taste of Kolkata is a Food & Drink; Asian Wok is a Food & Drink; Furtados Music is a Commercial; Garima Cyber Cafe and Print is a Commercial; Sweet Bengal is a Commercial; Sri Sai Eye Care Centre is a Healthcare; santosh bar is a Food & Drink; sharma park is a Leisure & Entertainment; heritage library is a Educational; starbucks is a Food & Drink; bhakti is a Commercial; lucky is a Commercial; olympia gardern is a Leisure & Entertainment; dr.anjali's hospital is a Healthcare; Powai Plaza is a Commercial; Hakone is a Commercial; CTR Building 20 (127-138) is a Residential; CTR Building 19 (115-126) is a Residential; Ghatkopar Hill is a Natural; Varsha Nagar is a Residential; Suncity Complex is a Residential; Crisil House is a Residential; CETTM Hostel (MTNL Guesthouse) is a Leisure & Entertainment; Bayer House is a Commercial; Galleria is a Commercial; Princeton is a Residential; Gypsy is a Residential; Octavius is a Residential; Soveriegn is a Residential; Florentine is a Residential; Valencia is a Residential; Heritage is a Residential; CRISIL is a Commercial; Kailash Complex is a Commercial; BMC Crematorium is a Landuse: Cemetery; Bungalow 8 is a Residential; Pluto A Wing is a Residential; Shri Harishchandra Sharma Playground is a Leisure & Entertainment; Cinema Ground is a Leisure & Entertainment; Sharma Garden is a Leisure & Entertainment; Hill Grange is a Residential; Castle Rock is a Residential; Empress Hill is a Residential; Regent Hill is a Residential; Kanakia Future City (u/c) is a Landuse: Construction; Telecom Staff Quarters is a Residential; Indian Institute of Technology Bombay is a Educational; "
          ],
          [
           "Empire Plaza is a Commercial; Tata Consultancy Services Ltd. Empire Plaza is a Commercial; Home Town is a Commercial; Brand Factory Vikhroli is a Commercial; Modi General Hospital and Iccu is a Healthcare; Priya Maternity Home is a Healthcare; Shakuntala Nursing Home is a Healthcare; Ruby Hospital is a Healthcare; Tisekar Clinic is a Healthcare; Cipla is a Commercial; Raj Legacy 2 is a Residential; Rajiv Gandhi Maidan is a Educational; Vikhroli Railway Station is a Landuse: Railway; Kanakia Future City (u/c) is a Landuse: Construction; DGQA Complex is a Landuse: Military; Raj Splendour is a Residential; Hindustan Kohinoor Industrial Complex is a Industrial; "
          ],
          [
           "Sanmeet Singh Bhamrah is a Residential; Guru Gobind English High School is a Educational; Vikhroli Police Station is a Government & Public Services; Yashwant Hospital  Mumbai is a Healthcare; Atul - Lok Hospital is a Healthcare; Sai Hospital  Mumbai is a Healthcare; Krantiveer Mahatma Jyotiba Phule Hospital  Vikhroli is a Healthcare; Ruby Hospital is a Healthcare; Mega restaraunt is a Food & Drink; Tisekar Clinic is a Healthcare; Vikas College is a Educational; Vidya Mandir School & College is a Educational; Rajiv Gandhi Maidan is a Educational; Gurudev Ravindranath Tagore Udyan Park is a Leisure & Entertainment; Sambhaji Maidan is a Leisure & Entertainment; Ravindra Mhatre Park is a Leisure & Entertainment; litttle angel cooperating housing society is a Residential; Municipalty School is a Educational; Asmita College is a Educational; "
          ],
          [
           "Kanjur Landfill is a Landuse: Landfill; Vikas College is a Educational; Ravindra Mhatre Park is a Leisure & Entertainment; Thane Creek Flamingo WLS is a Leisure & Entertainment; "
          ],
          [
           "Kanjur Landfill is a Landuse: Landfill; Thane Creek Flamingo WLS is a Leisure & Entertainment; "
          ],
          [
           "Thane Creek Flamingo WLS is a Leisure & Entertainment; "
          ],
          [
           "Gunale Talav is a Natural; Ghansoli Bus Depot is a Industrial; Skylark Apartments is a Residential; Tulsi Aura is a Residential; Sunshine Willows is a Residential; Signature Heights is a Residential; Swaraj Bala Vita is a Residential; Mathadi Kamgaar Sahkari Awaas is a Residential; Grand Plaza is a Residential; Bhagwati Eleganza is a Residential; Satyam Imperial Heights is a Residential; Atlantis - Balaji is a Residential; Cloud36 - Geecee is a Residential; Gold Crest Residency is a Residential; Neelkanth Sunberry is a Residential; Gami Reagan is a Residential; Juhi Serenity is a Residential; Smt. Indira Gandhi College of Engineering is a Educational; "
          ],
          [
           "McDonald's is a Food & Drink; Divine Multispecialty Hospital and Research Centre is a Healthcare; लोमा आयटी पार्क is a Commercial; Gandhi Park is a Leisure & Entertainment; Reliance Corporate Park is a Commercial; Shri Manoshi Complex is a Residential; Rajii House CHSL is a Residential; Ayodhya CHS is a Residential; Suryakiran CHS is a Residential; Sadguru Ground is a Leisure & Entertainment; Tulsi Aura is a Residential; Sunshine Willows is a Residential; Signature Heights is a Residential; Swaraj Bala Vita is a Residential; Neelkanth Sunberry is a Residential; Gami Reagan is a Residential; Juhi Serenity is a Residential; Smt. Indira Gandhi College of Engineering is a Educational; site is a Commercial; "
          ],
          [
           "McDonald's is a Food & Drink; लोमा आयटी पार्क is a Commercial; Reliance Corporate Park is a Commercial; Sarovar Portico is a Leisure & Entertainment; TC-23 B-Block is a Industrial; TC-23 A Block is a Industrial; Nirmal Bhavan M.P.C.B is a Commercial; A Wing  Technocity is a Commercial; B Wing  Technocity is a Commercial; Country Inn Hotel & Suites is a Leisure & Entertainment; Technocity is a Commercial; TC 23 D-Block is a Industrial; site is a Commercial; Parsik Hills is a Landuse: Forest; "
          ],
          [
           "Reliance Corporate Park is a Commercial; Sarovar Portico is a Leisure & Entertainment; Larsen & Toubro -Automation campus is a Commercial; Parsik Hills is a Landuse: Forest; "
          ],
          [
           "Shil Mhape Police Chouki is a Government & Public Services; Parsik Hills is a Landuse: Forest; "
          ],
          [
           "Parsik Hills is a Landuse: Forest; "
          ],
          [
           "Parsik Hills is a Landuse: Forest; "
          ],
          [
           "Malad Creek is a Natural; Ambu Island is a Natural; "
          ],
          [
           "Madh Fort is a Leisure & Entertainment; Malad Creek is a Natural; "
          ],
          [
           "Chaayos is a Food & Drink; Gelato is a Food & Drink; Cafe Coffee Day is a Food & Drink; WTF is a Food & Drink; Dr M S Jayaprakash is a Healthcare; Dr Nischint Jayaprakash is a Healthcare; Top Dog Pets Clinic is a Healthcare; Pet Care is a Commercial; Roman Super Store is a Commercial; Independence Brewing Company is a Food & Drink; Holy Cross Convent is a Educational; Dr Preet Kochar's Dental Clinic is a Healthcare; Shuang Hsi is a Commercial; Deluxe Travels is a Commercial; Jam Jar Diner is a Food & Drink; Rohan Chemist is a Healthcare; Princess Wines is a Commercial; Kinoo's Cottage is a Food & Drink; Trendz is a Commercial; Swades is a Food & Drink; The Artists Village is a Food & Drink; Barista is a Food & Drink; Di Bella Coffee is a Food & Drink; Blue Park is a Food & Drink; Veda Talents LLP is a Leisure & Entertainment; Omra is a Commercial; The Tribe is a Commercial; The Treesome Cafe is a Food & Drink; Pep Salons is a Commercial; 59 Aramnagar Part 1 is a Residential; Hathway Internet is a Commercial; All India Himan Rights Association is a Commercial; Clover Leaf Learning Academy is a Educational; Blue Tokai Coffee is a Food & Drink; Love And Latte is a Food & Drink; Mahima Hospital and Polyclinic is a Healthcare; Divyajyoti Eye Clinic is a Healthcare; Mamta Maternity and Nursing Home is a Healthcare; Ashwini Laboratory is a Healthcare; Baobab is a Natural; Rodeo Pizza is a Food & Drink; Fit Factory is a Leisure & Entertainment; Figure It Out is a Leisure & Entertainment; Ministry of Games is a Leisure & Entertainment; Sameer Stationery is a Commercial; Physioflex is a Leisure & Entertainment; Suraj Lama Momos is a Food & Drink; Darjeeling Lepcha Momos is a Food & Drink; Pandora's Box is a Food & Drink; Rolls & Bowls is a Food & Drink; Subway is a Food & Drink; Irish Wines is a Commercial; Sukho Thai is a Commercial; Yog Love is a Leisure & Entertainment; Rocks Beach is a Natural; Malwani Kalwan is a Food & Drink; Mandi House Cafe is a Food & Drink; Stomach is a Food & Drink; Theobroma is a Commercial; Whatta Waffle is a Food & Drink; Doof is a Food & Drink; Apsan’s 4 Paws Nxt is a Commercial; Afreen’s is a Commercial; Chai Tapri is a Food & Drink; North East Kitchen is a Food & Drink; The Feline Foundation is a Healthcare; Modern Aaji is a Food & Drink; Cat Café Studio is a Food & Drink; cafe coffee is a Food & Drink; Malad Creek is a Natural; Central Fisheries Institute is a Educational; Jayanti Jagannath Pendre Park is a Landuse: Recreation_ground; Sagar Kutir is a Residential; KHADI. is a Landuse: Greenfield; Sagar View Apartments is a Residential; Nana Nani Park is a Leisure & Entertainment; Abhaar Apartments is a Residential; Ashirwad Apartments is a Residential; Resham Apartments is a Residential; Sanjeev Enclave is a Residential; Uphaar Apartments is a Residential; Sundarwadi Flower Chawl is a Residential; Hiranandani is a Residential; Versova beach is a Natural; Spring Leaf is a Residential; Avinash Co-Op Housing Society Ltd is a Residential; Gautam Niwas is a Residential; Jyoti Niwas is a Residential; Vishal Nagar CHS is a Residential; Sea Green is a Residential; Vishal Nagar Co Operative Housing Society Ltd is a Residential; Mazdock Apartments is a Residential; Vaishali Apartments is a Residential; JOSEPH PATEL PLOT . is a Residential; Sunrise is a Residential; Daljit Gymko is a Residential; Horizon View is a Residential; Neha is a Residential; Roopal is a Residential; Everest is a Residential; Sheila Raheja Park is a Leisure & Entertainment; Harsha 1 is a Residential; Shangrila 1 is a Residential; Shangrila 2 is a Residential; Gulshan Co-operative Housing Society is a Residential; Seven Bungalows Park is a Leisure & Entertainment; Lumiere is a Residential; Safina Sadan is a Residential; Pearl Palace is a Residential; Daria Mahal is a Residential; Pyramid is a Residential; "
          ],
          [
           "SPCE canteen is a Food & Drink; D.N. Nagar Police Station is a Government & Public Services; TATA Star Bazar is a Commercial; Ameya co-op housing society is a Residential; D.N.Nagar Post office is a Government & Public Services; Versova Police Station is a Government & Public Services; Vitesse Maruti Suzuki Service is a Commercial; Autobahn Skoda is a Commercial; Volkswagen Mumbai West is a Commercial; Dr Manveen Gill is a Healthcare; The Courtyard is a Food & Drink; Cafe Coffee Day is a Food & Drink; Vodafone Idea is a Commercial; Cosmopolitan Education Society is a Educational; Gettogether is a Food & Drink; Apple Medical is a Commercial; Bellevue Multispeciality Hospital is a Healthcare; Sharma Fast Food is a Food & Drink; Greenturtle is a Commercial; Westside is a Commercial; Siddhivinayak Surgical Centre is a Healthcare; Sujata Medicare (Sujata Gyanaecology Clinic);Dhake Colony is a Healthcare; Dr. Pareeks Deafness Clinic and Ent Hospital - andheri is a Healthcare; Belle-Vue General Nursing Home is a Healthcare; Dr. Vaidya Eye Hospital is a Healthcare; Eva Medicare Center - andheri is a Healthcare; Akanksha Maternity and Surgical Hospital is a Healthcare; Parijat Surgical and General Hospital is a Healthcare; Mohan Medicure is a Healthcare; Wellness Forever is a Healthcare; Bangalore Ayangar Bakery is a Commercial; Heath Guard Chemist and Supermarket is a Commercial; Apna Bazar is a Commercial; Sumati is a Food & Drink; 24x7 Chemist and General Store is a Commercial; Art Station is a Commercial; Fabindia is a Commercial; PizzaExpress is a Food & Drink; Sai Kripa Sandwich Center is a Food & Drink; Shankar Vada Pav Center is a Food & Drink; Vimal Interior Hub is a Commercial; Airtel is a Commercial; Dr Satish Savant is a Healthcare; Laxmi Investments is a Commercial; Mumbai Football Arena is a Leisure & Entertainment; Bhavan's Ground is a Leisure & Entertainment; SPCE boys hostel is a Leisure & Entertainment; Bhavan's library is a Educational; Wadia school is a Educational; Versova Police station (D.N.Nagar) is a Government & Public Services; Bhartiya Vidya Bhavan's Campus is a Educational; The Shia Imami Ismaili Muslim Kabrastan is a Landuse: Cemetery; Tata Star Bazaar is a Commercial; Kherwadi is a Residential; Guru Kripa is a Residential; Achal Sahyadri is a Residential; Savghan Heights is a Commercial; Jawaharban is a Residential; Amrut Smriti is a Residential; Sahjivan is a Residential; Tadopan is a Residential; Yashodan is a Residential; Chitrakoot is a Industrial; Manish Nagar Ground is a Leisure & Entertainment; Sinchan is a Residential; Gurukripa Housing Society is a Residential; Shivalaya Heights is a Residential; Janki Centre is a Commercial; SP Jain Hostel is a Leisure & Entertainment; 32 Creations Dental Clinic is a Residential; Andheri RTO Office is a Commercial; Bhavans Lake is a Natural; Metropolis is a Residential; Manish Sunflower is a Residential; Neel Gagan is a Residential; Belle-Vue is a Residential; Manish Tower is a Residential; Indian Oil Building is a Residential; YMCA Basketball Court is a Leisure & Entertainment; Kala pradrashani udyaan is a Leisure & Entertainment; manish nagar ground is a Leisure & Entertainment; Knoshh - The Food Hall is a Food & Drink; DN Nagar Ground is a Leisure & Entertainment; Andheri Sports Complex is a Leisure & Entertainment; S. P. Jain Institute of Management and Research is a Educational; Bhavan's College is a Educational; Sardar Patel Institute of Technology is a Educational; Sardar Patel College of Engineering is a Educational; The Club Mumbai is a Leisure & Entertainment; Hansraj Morarji Public School is a Educational; Bai Kabibai & Hansraj Moraraji Trust Andheri Campus is a Educational; DN Nagar Metro Depot is a Industrial; "
          ],
          [
           "Navrang Talkies is a Leisure & Entertainment; The Courtyard is a Food & Drink; Cosy Corner is a Residential; Sahkar Shilp is a Residential; Jeevan Kanchan Co Op Housing Socity Ltd is a Residential; Primrose Towers is a Residential; Krishna Prem is a Residential; Oscar Jyoti is a Residential; Bel Monte is a Residential; Prime Orthopedic Speciality Hospital  Mumbai is a Healthcare; Sushrut Clinic Orthosurgical Nursing Home is a Healthcare; Patil Hospital  Mumbai is a Healthcare; Kaveri Eye Care Centre is a Healthcare; Mother Care Maternity and Surgical Nursing Home - Mumbai is a Healthcare; Aastha Nursing Home  andheri is a Healthcare; Dr. Dev Clinic is a Healthcare; sai chemist is a Commercial; Bombay Cambrige Schoool  Amboli is a Commercial; Rajlite is a Commercial; Sunil Shopping Center is a Commercial; Pixyl Studio is a Commercial; Mumbai Football Arena is a Leisure & Entertainment; Bhavan's Ground is a Leisure & Entertainment; SPCE boys hostel is a Leisure & Entertainment; Bhavan's library is a Educational; Wadia school is a Educational; Andheri Market is a Retail; Bhartiya Vidya Bhavan's Campus is a Educational; Jeevan Kanchan is a Residential; Mohini Grace CHSL is a Residential; Shivalaya Heights is a Residential; ICICI Bank Apartment is a Residential; kranti10 is a Residential; bhavishyadeep 9 is a Residential; bhavishyadeep7 is a Residential; Kreanti 12 is a Residential; kranti 8 is a Residential; Gurnani Meadows is a Residential; Shreeji Dham is a Residential; unique apts is a Residential; bharwadi ground is a Leisure & Entertainment; ECO Dale is a Residential; Vahatuk Nagar Vollyball Ground is a Leisure & Entertainment; Unique apts. is a Residential; Kranti Chs is a Residential; BMC park is a Leisure & Entertainment; John & Helen D'Mello Playground is a Leisure & Entertainment; Gurnani Palms is a Residential; Andheri Tahsildar Office is a Commercial; Andheri Sports Complex is a Leisure & Entertainment; S. P. Jain Institute of Management and Research is a Educational; Bhavan's College is a Educational; Cama Athornan Institute is a Landuse: Religious; "
          ],
          [
           "anamika is a Residential; Prime Orthopedic Speciality Hospital  Mumbai is a Healthcare; Sushrut Clinic Orthosurgical Nursing Home is a Healthcare; Amardeep Nursing Home is a Healthcare; Mother Care Maternity and Surgical Nursing Home - Mumbai is a Healthcare; Jain Nursing Home  Mumbai is a Healthcare; Parulekar Maternity and Surgical Nursing Home - Mumbai is a Healthcare; Shrishti Clinic and Microsurgery Centre is a Healthcare; Hajari Hospital is a Healthcare; Nagardas Road Post Office is a Government & Public Services; saraswati stores is a Commercial; Maruti Suzuki Arena is a Commercial; Kawasaki is a Commercial; Shaman Triumph is a Commercial; Golden Slice Cake Cafe is a Commercial; AJ Jewellers is a Commercial; Ismail Yusuf College is a Educational; Andheri Market is a Retail; ICICI Bank Apartment is a Residential; Popular Mattresses & Furnishing | Kurlon Korner is a Commercial; Directiplex is a Commercial; Hubtown Viva is a Commercial; ECO Dale is a Residential; Vahatuk Nagar Vollyball Ground is a Leisure & Entertainment; Saraswati Baug is a Leisure & Entertainment; Vasudev Apartment is a Residential; Shri Chinai College of Commerce & Economics is a Educational; "
          ],
          [
           "anamika is a Residential; Dr.Sakhalkar's Maternity and Nursing Home is a Healthcare; Sunita Hospital  Mumbai is a Healthcare; Shakuntala Memorial Surgical Childerns and General Hospital is a Healthcare; Indu Maternity and Surgical Nursing Home is a Healthcare; Aditya Nursing Home is a Healthcare; Shrishti Clinic and Microsurgery Centre is a Healthcare; Maruti Suzuki Arena is a Commercial; Kawasaki is a Commercial; Shaman Triumph is a Commercial; Holy Spirit Hospital is a Healthcare; St. Dominic Savio High School is a Educational; Sher e Punjab Sports Club is a Leisure & Entertainment; Satyadarshan C.H.S. Ltd is a Residential; B10 is a Residential; B6 is a Residential; A4 is a Residential; B9 is a Residential; B8 is a Residential; B11 is a Residential; B12 is a Residential; B7 is a Residential; A2 is a Residential; A1 is a Residential; B5 is a Residential; Bindra Classic is a Residential; RNA Hills is a Residential; Nirman Vihar CHS is a Residential; Ambika Towers is a Residential; Mogra Vikas Nagar CHS is a Residential; Lotus Building is a Residential; Hubtown Viva is a Commercial; A3 is a Residential; MIDC Industrial Estate is a Industrial; Canossa High School is a Educational; Chhatrapati Shivaji Udyan Park is a Leisure & Entertainment; Shree Swami Samarth Udyan is a Leisure & Entertainment; Lalji Mehrotra Technical Playground is a Leisure & Entertainment; Children playground is a Leisure & Entertainment; Ganesh maidan is a Leisure & Entertainment; Ganesh Maidan is a Leisure & Entertainment; "
          ],
          [
           "BMW Motorrad Service is a Commercial; Shakti Sai Tyres Pvt. Ltd. is a Commercial; Premiere House is a Commercial; Uma Maternity Nursing Home is a Healthcare; Dr Phadkes Maternity and Surgical Hospital is a Healthcare; Matrichhaya Clinic is a Healthcare; Diabetes and Wellness Clinic is a Healthcare; Creative Handicrafts Andheri is a Commercial; BMC arogya Kendra is a Healthcare; Shiv vada pav is a Food & Drink; Holy Spirit Hospital is a Healthcare; St. Dominic Savio High School is a Educational; Sher e Punjab Sports Club is a Leisure & Entertainment; Rolta Technology Park is a Commercial; Mahakali A.L.M. Park is a Leisure & Entertainment; SEEPZ SEZ Residential Complex is a Residential; Andheri Veravali Reservoir is a Industrial; Canossa High School is a Educational; Shree Swami Samarth Udyan is a Leisure & Entertainment; Takshila Park is a Leisure & Entertainment; MHADA Play Ground is a Leisure & Entertainment; SEEPZ is a Commercial; "
          ],
          [
           "Pavitra Dairy Farm is a Commercial; Shukh Aayu Clinic is a Healthcare; Matrichhaya Clinic is a Healthcare; vijay nagar LT complex is a Residential; Metro Casting Yard is a Industrial; SEEPZ SEZ Residential Complex is a Residential; Mithi River is a Natural; Marol Police Camp is a Government & Public Services; Aarey Metro Depot is a Industrial; Indian Educational Society School is a Educational; Aarey Unit 19 is a Landuse: Farmyard; Woodlaand Crest is a Residential; Kanakia Rainforest is a Residential; SEEPZ is a Commercial; "
          ],
          [
           "Friendz Beauty Parlour is a Commercial; S B Nursing Home and Icu is a Healthcare; People's Clinic & Vaccinations Centre is a Healthcare; Hotel Sunshine Lodging is a Leisure & Entertainment; Dr. Babasaheb Ambedkar is a Leisure & Entertainment; Bharatvan is a Leisure & Entertainment; Larsen & Toubro is a Industrial; L& T Infotech is a Commercial; Dr. Babasaheb Ambedkar Udyan is a Leisure & Entertainment; Metro Casting Yard is a Industrial; Mithi River is a Natural; Marol Police Camp is a Government & Public Services; Aarey Metro Depot is a Industrial; Indian Educational Society School is a Educational; L&T Emerald Isle is a Residential; AM Naik Tower is a Commercial; Passpoli Municipal School is a Educational; We Works- Co working is a Commercial; "
          ],
          [
           "Indian Register of Shipping is a Commercial; Chinmaya Store is a Commercial; Anthem Lounge is a Food & Drink; Hotel Sunshine Lodging is a Leisure & Entertainment; Dr. Babasaheb Ambedkar is a Leisure & Entertainment; Larsen & Toubro is a Industrial; LAKE SHORE HEIGHTS CHS LTD is a Residential; Sapphire Lakeside CHS is a Residential; LAKE AVENUE CHS LTD is a Residential; L& T Infotech is a Commercial; Sandeepany Sadhanalaya - Tara Cultural Trust is a Landuse: Religious; Renaissance Mumbai Convention Centre Hotel is a Leisure & Entertainment; Dr. Babasaheb Ambedkar Udyan is a Leisure & Entertainment; Vedic Park is a Leisure & Entertainment; Mithi River is a Natural; MCGM Park is a Leisure & Entertainment; L&T Emerald Isle is a Residential; TATRAKSHAK is a Residential; AM Naik Tower is a Commercial; Passpoli Municipal School is a Educational; Indian Institute of Technology Bombay is a Educational; Powai Lake is a Natural; "
          ],
          [
           "Hostel No. 11 is a Leisure & Entertainment; Hostel No. 8 is a Leisure & Entertainment; Pizza Hut is a Food & Drink; H8 Print Shop is a Commercial; Brews & Bites Cafe is a Commercial; Jalvihar Guest House is a Leisure & Entertainment; Sarovar Udyan is a Leisure & Entertainment; Stationary Boat is a Leisure & Entertainment; Pedalling Boat is a Leisure & Entertainment; HN Wellness Salon & Spa is a Commercial; Powai Lake Viewpoint is a Leisure & Entertainment; imk Bakery is a Commercial; Powai Vatika is a Leisure & Entertainment; B-19 (75-98) is a Residential; H1 11 (121-134) is a Residential; Hotel 13 is a Residential; Tennis court is a Leisure & Entertainment; Hostel 11 is a Residential; Hostel 8 is a Residential; Powai Plaza is a Commercial; B - 13(51-54) is a Residential; B1 (1-6) is a Residential; H2-14 (105-112) is a Residential; H1-1 (1-12) is a Residential; H1-3 (25-36) is a Residential; H1 BB (1-26) is a Residential; H1-2 (13-24) is a Residential; H2-13 (97-104) is a Residential; H1 9 (97-108) is a Residential; H1 10 (109-120) is a Residential; H1-4 (37-48) is a Residential; 2B-11 (61-66) is a Residential; H2-15 (113-120) is a Residential; H2-29 (233-248) is a Residential; 2B-10 (55-60) is a Residential; 2B-18 (103-108) is a Residential; 2B-9 (49-54) is a Residential; 2B-12 (67-72) is a Residential; H2 26 (201-208) is a Residential; H2 27 (209-216) is a Residential; H2 BB (1-18) is a Residential; M is a Residential; Hostel 14 A is a Residential; Hostel 13 Ground is a Landuse: Recreation_ground; Hostel 14 Ground is a Leisure & Entertainment; H2-3 (17-24) is a Residential; H2-4 (25-32) is a Residential; H2-7 (49-56) is a Residential; H2-11 (81-88) is a Residential; H2-10 (73-80) is a Residential; 2B-15 (85-90) is a Residential; H2-8 (57-64) is a Residential; H2-9 (65-72) is a Residential; H2-1 (1-8) is a Residential; H2-5 (33-40) is a Residential; H2 24 (193-200) is a Residential; H2 24 (185-192) is a Residential; B-11(43-46) is a Residential; B - 12(47-50) is a Residential; B - 15(59-62) is a Residential; B16(63-66) is a Residential; B-14 (55- 58) is a Residential; Bungalow 13 is a Residential; Bungalow 1 (Directors Bungalow) is a Residential; 2B-17 (97-102) is a Residential; H2-2 (9-16) is a Residential; H2-6 (57-64) is a Residential; H2-12 (89-96) is a Residential; B-2 (7-10) is a Residential; 2B-14 (79-84) is a Residential; 2B-16 (91-96) is a Residential; 2B-13 (61-66) is a Residential; H2-16 (121-128) is a Residential; IIT Hospital is a Healthcare; Hostel 17 is a Residential; Indian Institute of Technology Bombay is a Educational; Powai Lake is a Natural; "
          ],
          [
           "Empire Plaza is a Commercial; Tata Consultancy Services Ltd. Empire Plaza is a Commercial; Anket Nursing Home is a Healthcare; Bharang Hotel is a Food & Drink; Naval Hospital is a Healthcare; Manastu Space is a Commercial; CGPower Mumbai is a Industrial; Suncity Complex is a Residential; Great Eastern Gardens is a Residential; K.V residential is a Residential; basketball court is a Leisure & Entertainment; Augusta is a Residential; Elitis is a Residential; NCH Colony Playground is a Leisure & Entertainment; Lodha iThink is a Commercial; MMRDA Colony is a Residential; Naval Civillian Housing Colony is a Landuse: Military; DAD Residential Complex is a Landuse: Military; Kendriya Vidyalaya Bhandup is a Educational; Holy Trinity Church is a Landuse: Religious; Kanakia Zen World is a Residential; RunwalBliss is a Residential; Hazel is a Residential; Carnation is a Residential; Arkade Earth is a Residential; Grandis is a Residential; Belvedere is a Residential; Lodha Aurum Grande is a Residential; Jainam Marble and Granite is a Commercial; Shree Charbhuja Marble Art is a Commercial; Dadaiwala Stones pvt ltd is a Commercial; National Marble is a Industrial; "
          ],
          [
           "Bharang Hotel is a Food & Drink; Mama Mirashi nagar is a Residential; Guru Gobind English High School is a Educational; Aniket Nursing Home is a Healthcare; Ankur Maternity and Surgical Nursing Home is a Healthcare; Mega restaraunt is a Food & Drink; CGPower Mumbai is a Industrial; Kanjur Landfill is a Landuse: Landfill; Nirvana Bldg is a Residential; Augusta is a Residential; Plan D Fine Dine Restaurant is a Food & Drink; Pariwar Ground is a Leisure & Entertainment; Elitis is a Residential; Lodha iThink is a Commercial; Mentoring Angels Institute is a Commercial; Kanakia Zen World is a Residential; RunwalBliss is a Residential; Emillia is a Residential; Acacia is a Residential; Begonia is a Residential; Camellia is a Residential; Dahlia is a Residential; Aadi Allure is a Residential; Shraddha Autumn Park is a Residential; Hazel is a Residential; Fern is a Residential; Gardenia is a Residential; Ebony is a Residential; Daffodil is a Residential; Carnation is a Residential; Blue Bell is a Residential; Aspen is a Residential; Arkade Earth is a Residential; Grandis is a Residential; Lodha Aurum Grande is a Residential; BMC Garden is a Leisure & Entertainment; "
          ],
          [
           "Kanjur Landfill is a Landuse: Landfill; Aadi Allure is a Residential; "
          ],
          [
           "Kanjur Landfill is a Landuse: Landfill; Thane Creek Flamingo WLS is a Leisure & Entertainment; "
          ],
          [
           "Kanjur Landfill is a Landuse: Landfill; Thane Creek Flamingo WLS is a Leisure & Entertainment; "
          ],
          [
           "Thane Creek Flamingo WLS is a Leisure & Entertainment; "
          ],
          [
           "Ghansoli Bus Depot is a Industrial; Skylark Apartments is a Residential; "
          ],
          [
           "Reliance Corporate Park is a Commercial; Sadguru Ground is a Leisure & Entertainment; "
          ],
          [
           "Reliance Corporate Park is a Commercial; TC-23 C Block is a Industrial; TC-23 B-Block is a Industrial; TC-23 A Block is a Industrial; IDC is a Commercial; TC 23 D-Block is a Industrial; VINAY is a Commercial; TC-22 A Block is a Commercial; Parsik Hills is a Landuse: Forest; "
          ],
          [
           "Reliance Corporate Park is a Commercial; IDC is a Commercial; Gavli Dev Bird Sanctuary is a Leisure & Entertainment; Parsik Hills is a Landuse: Forest; "
          ],
          [
           "Parsik Hills is a Landuse: Forest; "
          ],
          [
           "Parsik Hills is a Landuse: Forest; "
          ],
          [
           "Parsik Hills is a Landuse: Forest; "
          ],
          [
           "Malad Creek is a Natural; Ambu Island is a Natural; "
          ],
          [
           "Madh Fort is a Leisure & Entertainment; Malad Creek is a Natural; Aurus Villa is a Residential; "
          ],
          [
           "Scrumptuous is a Food & Drink; Versova Police Station is a Government & Public Services; Bangalore Iyengar's Bakery is a Commercial; Malad Creek is a Natural; D Mart is a Retail; Everest Apartments is a Residential; Kalyan Complex Riddhi Siddhi Vriddhi is a Residential; Villa is a Residential; Woodstock Apartments is a Landuse: Yes; Kanakia Hollywood is a Residential; Versova beach is a Natural; Vimala Dermatological Centra is a Healthcare; Hermes Villa is a Residential; river view is a Residential; "
          ],
          [
           "Scrumptuous is a Food & Drink; Seasons's Wines is a Commercial; Chaayos is a Food & Drink; Gelato is a Food & Drink; Domino's is a Commercial; Holy Cross Convent is a Educational; Sagar is a Commercial; Jam Jar Diner is a Food & Drink; Yashwant is a Residential; The Artists Village is a Food & Drink; Barista is a Food & Drink; Di Bella Coffee is a Food & Drink; Venus is a Commercial; Veda Talents LLP is a Leisure & Entertainment; Lifeline is a Healthcare; Prince Stores is a Commercial; Omra is a Commercial; The Tribe is a Commercial; All India Himan Rights Association is a Commercial; Clover Leaf Learning Academy is a Educational; Blue Tokai Coffee is a Food & Drink; Chai is a Food & Drink; Love And Latte is a Food & Drink; Saket Maternity and Nursing Home is a Healthcare; Baobab is a Natural; Rodeo Pizza is a Food & Drink; Fit Factory is a Leisure & Entertainment; Figure It Out is a Leisure & Entertainment; Ministry of Games is a Leisure & Entertainment; Shiv Shakti Apartments is a Residential; Lifeline Chemist is a Healthcare; Physioflex is a Leisure & Entertainment; Rolls & Bowls is a Food & Drink; Subway is a Food & Drink; Irish Wines is a Commercial; Sukho Thai is a Commercial; AL Kaleskar Hospital is a Healthcare; Yog Love is a Leisure & Entertainment; Mandi House Cafe is a Food & Drink; Tangles is a Commercial; The Backyard Brew is a Food & Drink; Stomach is a Food & Drink; Chai Tapri is a Food & Drink; The Barmecha House is a Food & Drink; Leaping Windows is a Food & Drink; The Feline Foundation is a Healthcare; Riwayat is a Food & Drink; Navin Book Shop is a Commercial; cafe coffee is a Food & Drink; Dr Momin’s Clinic is a Healthcare; Idli Guru is a Food & Drink; Chai Fusion is a Food & Drink; Mount Mini Store is a Commercial; Malad Creek is a Natural; Central Fisheries Institute is a Educational; Jayanti Jagannath Pendre Park is a Landuse: Recreation_ground; Ranima Films is a Residential; Brihan Mumbai Municipal Corporation Park is a Leisure & Entertainment; Panchratna Co-operative Housing Society Ltd. is a Residential; Swatantra Senani Janardan Rama Patil Park is a Leisure & Entertainment; Central Institute of Fisheries Education is a Educational; Children's Welfare Society Land is a Landuse: Allotments; The Aga Khan Baug Co-operative Housing Society Ltd is a Residential; KHADI. is a Landuse: Greenfield; D Mart is a Retail; Everest Apartments is a Residential; Kalyan Complex Riddhi Siddhi Vriddhi is a Residential; Mumbai Kaamgar Vasahat is a Residential; Navjeevan Charitable Trust is a Leisure & Entertainment; Sagar View Apartments is a Residential; Swati Apartments is a Residential; Under Construction is a Landuse: Construction; Versova Police Chowki is a Government & Public Services; Villa is a Residential; Woodstock Apartments is a Landuse: Yes; Mangal Orchid is a Residential; Laxmikant Berde Garden is a Leisure & Entertainment; Ashirwad Apartments is a Residential; Mandar Apartments is a Residential; Padmaja Apartments is a Residential; Panorama Apartments is a Residential; Resham Apartments is a Residential; Sundarwadi Flower Chawl is a Residential; Badminton is a Leisure & Entertainment; Karan is a Residential; Park Plaza is a Residential; Panch Vati is a Residential; Hiranandani is a Residential; Kanakia Hollywood is a Residential; Versova beach is a Natural; Arshie Complex is a Residential; Hibiscus is a Residential; Silver Mist is a Residential; Silver Croft is a Residential; Amba Villa is a Residential; Sabnosh is a Residential; Carnation A is a Residential; Carnation B is a Residential; Bhagtani Heights is a Residential; Bhagtiani is a Residential; Panch Kiran is a Residential; Sneh is a Residential; Satyam is a Residential; Gulmohar is a Residential; Pam is a Residential; Shivom is a Residential; Vimala Dermatological Centra is a Healthcare; Bianca is a Residential; Sundram is a Residential; Panch Dhara is a Residential; Panchsheel is a Residential; Jankidevi Public School is a Educational; Shiv Kutir is a Residential; JOSEPH PATEL PLOT . is a Residential; Raj Classic is a Residential; Poseidon is a Residential; Sunrise is a Residential; Badrinath Towers is a Residential; Mrigchaya Apartments is a Residential; Ambarnath Towers is a Residential; Thakur Complex is a Residential; Jubilee Apartments is a Residential; Cozy Apartments is a Residential; Ratnakar Building is a Residential; Gladioli is a Residential; Gulshan Co-operative Housing Society is a Residential; Police Officers Progressive Co-operative Housing Society is a Residential; Sun Vin Apartments is a Residential; Hermes Villa is a Residential; Jai Bharat is a Residential; Vasant Prakash is a Residential; Silver Oak is a Residential; Dhanlaxmi is a Residential; Daria Mahal is a Residential; Pyramid is a Residential; river view is a Residential; "
          ],
          [
           "Office is a Commercial; Cosy Corner is a Residential; ON-LYNE Comtech (I) Pvt. Ltd. is a Commercial; Hard Rock Cafe is a Food & Drink; Orbit Eye Hospital  Mumbai is a Healthcare; Mallika Hospital and Envision Eye Centre is a Healthcare; Dr Shah Piles Clinic is a Healthcare; Diamond Hospital is a Healthcare; Rg Stone Urology and Laparoscopy Hospital  Mumbai is a Healthcare; Society Of The Helpers Of Mary Shraddha Vihar Hospital is a Healthcare; City Hospital is a Healthcare; Jogeshwari Hospital is a Healthcare; sai chemist is a Commercial; Aksar grocery shop is a Commercial; Millat Dialysis Center is a Healthcare; Delhi Darbar is a Food & Drink; Pixyl Studio is a Commercial; TIRUPATI STATIONERY & XEROX is a Commercial; Oberoi Springs is a Residential; The Grand Hamvi Garden is a Leisure & Entertainment; Mohini Grace CHSL is a Residential; Prathamesh Complex is a Residential; Mehmood Al-Hasan is a Residential; kranti10 is a Residential; bhavishyadeep 9 is a Residential; bhavishyadeep7 is a Residential; Kreanti 12 is a Residential; kranti 8 is a Residential; Sani tower is a Residential; lily apartments is a Residential; star residency is a Residential; hptel mina international is a Residential; unique apts is a Residential; jogeshwari tabela is a Landuse: Farmyard; Foodin Mart is a Commercial; Haji Umar Local Park is a Leisure & Entertainment; Unique apts. is a Residential; Kranti Chs is a Residential; BMC park is a Leisure & Entertainment; Lodha Bel Air is a Residential; Kureshi Compond is a Residential; "
          ],
          [
           "Jogeshwari is a Commercial; Jogeshwari Caves is a Natural; Pooja Nursing Home  Mumbai is a Healthcare; Mallika Hospital and Envision Eye Centre is a Healthcare; Dr. Kamat's Hospital is a Healthcare; Dr Kulkarni Hospital is a Healthcare; Parulekar Maternity and Surgical Nursing Home - Mumbai is a Healthcare; Piyush Hospital is a Healthcare; Dr. Shindes Childrens Hospital and Nicu is a Healthcare; Dr Shah Hospital is a Healthcare; Jogeshwari Hospital is a Healthcare; Dr. Suresh Na. Purandare Clinic is a Healthcare; Balthakra Sahara Jogeshwari Hospital is a Healthcare; Shalyak Hospital is a Healthcare; matoshri umabai RANE hospital is a Healthcare; Delhi Darbar is a Food & Drink; rajaram garden is a Leisure & Entertainment; saraswati stores is a Commercial; Ismail Yusuf College is a Educational; Jogeshwari Goods Yard is a Landuse: Railway; SRP Camp is a Landuse: Military; Mehmood Al-Hasan is a Residential; Sani tower is a Residential; lily apartments is a Residential; star residency is a Residential; Iris Park Condominiums is a Residential; hptel mina international is a Residential; jogeshwari tabela is a Landuse: Farmyard; Hindu Hruday Samrat Balasaheb Thackerey Trauma Care Municipal Hospital is a Healthcare; Hindu Crematoriam is a Landuse: Cemetery; Haji Umar Local Park is a Leisure & Entertainment; Bmc Park is a Leisure & Entertainment; habibiya masjid is a Landuse: Religious; Prem Industrial Estate is a Industrial; "
          ],
          [
           "Jogeshwari Caves is a Natural; Kokan Hospital is a Healthcare; Piyush Hospital is a Healthcare; Revati Clinic is a Healthcare; Shifa Clinic is a Healthcare; Dr. Suresh Na. Purandare Clinic is a Healthcare; Mangal Dental Clinic is a Healthcare; Shree Clinic is a Healthcare; DNA Hospital is a Healthcare; Dr. Pragati Ghosalkar Clinic is a Healthcare; Salpra Clinic is a Healthcare; Nirmal Clinic is a Healthcare; Balthakra Sahara Jogeshwari Hospital is a Healthcare; Mrudupal Clinic is a Healthcare; Shalyak Hospital is a Healthcare; medical store is a Commercial; matoshri umabai RANE hospital is a Healthcare; Cafe Aloha is a Food & Drink; Cafe Coffee Day is a Food & Drink; rajaram garden is a Leisure & Entertainment; Ismail Yusuf College is a Educational; SRP Camp is a Landuse: Military; Majas BEST Bus Depot is a Industrial; Joy Valencia is a Residential; Brookhaven is a Residential; paras nagar is a Residential; p is a Residential; Indiqube Jogeshwari is a Commercial; Kalpataru Estate Swimming Pool is a Leisure & Entertainment; Lokmanya Tilak Ganesh Visarjan Talao is a Natural; Hemant Karkare Park is a Leisure & Entertainment; Hindu Crematoriam is a Landuse: Cemetery; Greenfields CHS is a Residential; Kalpataru Estate is a Residential; Oberoi Splendor is a Residential; मुंबई महापालिका गार्डन is a Leisure & Entertainment; Vijay Salaskar park is a Leisure & Entertainment; Lalji Mehrotra Technical Playground is a Leisure & Entertainment; Children playground is a Leisure & Entertainment; Swapnapurti Ganesh Playground is a Leisure & Entertainment; Major Unikrishnan Udyan is a Leisure & Entertainment; Rajeshwar society park is a Leisure & Entertainment; Ganesh maidan is a Leisure & Entertainment; Ganesh Maidan is a Leisure & Entertainment; Dyna Play Ground is a Leisure & Entertainment; Oberoi is a Landuse: Construction; Oberoi Maxima is a Residential; "
          ],
          [
           "Shakti Sai Tyres Pvt. Ltd. is a Commercial; Kokan Hospital is a Healthcare; Dr Phadkes Maternity and Surgical Hospital is a Healthcare; Dr. Rajiv R. Bhanse Clinic is a Healthcare; Usha Healthcare Clinic is a Healthcare; Shree Clinic is a Healthcare; Dr. Alpa Jain Clinic is a Healthcare; Ramuna Clinic is a Healthcare; Dr. Pragati Ghosalkar Clinic is a Healthcare; Salpra Clinic is a Healthcare; Cafe Aloha is a Food & Drink; Cafe Coffee Day is a Food & Drink; Matoshri Sport Club is a Leisure & Entertainment; Majas BEST Bus Depot is a Industrial; Vijay Salaskar Park is a Leisure & Entertainment; Joy Valencia is a Residential; Kamal Amrohi Studio is a Commercial; RNA Heights is a Residential; Kalpataru Estate Swimming Pool is a Leisure & Entertainment; Mahakali A.L.M. Park is a Leisure & Entertainment; Lokmanya Tilak Ganesh Visarjan Talao is a Natural; Ashok Kamte Park is a Leisure & Entertainment; Hemant Karkare Park is a Leisure & Entertainment; Andheri Veravali Reservoir is a Industrial; Greenfields CHS is a Residential; Kalpataru Estate is a Residential; Oberoi Splendor is a Residential; Modern Bakery is a Industrial; Kamal Amrohi Studios is a Commercial; Central Poultry Development Organisation - CPDO Mumbai is a Landuse: Farmyard; मुंबई महापालिका गार्डन is a Leisure & Entertainment; Vijay Salaskar park is a Leisure & Entertainment; Swapnapurti Ganesh Playground is a Leisure & Entertainment; Major Unikrishnan Udyan is a Leisure & Entertainment; Takshila Park is a Leisure & Entertainment; MMRDA GROUND is a Leisure & Entertainment; MHADA Play Ground is a Leisure & Entertainment; Oberoi is a Landuse: Construction; Oberoi International School - JVLR Campus is a Educational; Oberoi Maxima is a Residential; "
          ],
          [
           "Aarey Picnic Spot is a Leisure & Entertainment; Dr. Rajiv R. Bhanse Clinic is a Healthcare; Shukh Aayu Clinic is a Healthcare; Matoshri Sport Club is a Leisure & Entertainment; Kamal Amrohi Studio is a Commercial; Modern Bakery is a Industrial; Kamal Amrohi Studios is a Commercial; Picnic Point Garden is a Leisure & Entertainment; Aarey Metro Depot is a Industrial; Central Poultry Development Organisation - CPDO Mumbai is a Landuse: Farmyard; Aarey Unit 19 is a Landuse: Farmyard; "
          ],
          [
           "Mithi River is a Natural; Picnic Point Garden is a Leisure & Entertainment; Aarey Metro Depot is a Industrial; "
          ],
          [
           "Residence Inn Powai is a Leisure & Entertainment; NITIE Post Office is a Government & Public Services; Ramada Powai Hotel & Convention Center is a Leisure & Entertainment; Amrut  is a Food & Drink; Chinmaya Store is a Commercial; H13 Store is a Commercial; H12 Store is a Commercial; H12 Print Shop is a Commercial; technosky  hostel 13  wing A is a Commercial; Hotel 13 is a Residential; Renaissance Mumbai Convention Centre Hotel is a Leisure & Entertainment; NITIE Pond is a Natural; National Institute of Industrial Engineering is a Educational; Sandeepany Sadhanalaya - Tara Cultural Trust is a Landuse: Religious; Dr. Babasaheb Ambedkar Udyan is a Leisure & Entertainment; Hostel 12 is a Residential; Hostel 12 D is a Residential; Hostel 13 Ground is a Landuse: Recreation_ground; Hostel 12 Ground is a Landuse: Recreation_ground; Vedic Park is a Leisure & Entertainment; Mithi River is a Natural; Vihar Lake is a Natural; Sanjay Gandhi (Borivilli) National Park is a Leisure & Entertainment; Indian Institute of Technology Bombay is a Educational; Powai Lake is a Natural; "
          ],
          [
           "Hostel No. 5 is a Leisure & Entertainment; Hostel No. 4 is a Leisure & Entertainment; Hostel No. 2 is a Leisure & Entertainment; Hostel No. 3 is a Leisure & Entertainment; Hostel No. 1 is a Leisure & Entertainment; Hostel No. 11 is a Leisure & Entertainment; Hostel No. 8 is a Leisure & Entertainment; New Swimming Pool is a Leisure & Entertainment; Hostel-9 Canteen is a Food & Drink; Hostel 16 C Wing is a Leisure & Entertainment; H6 Store is a Commercial; H13 Store is a Commercial; H3 Print Shop is a Commercial; H5 Print Shop (Print House) is a Commercial; H4 Print Shop is a Commercial; H9 Print Shop is a Commercial; H8 Print Shop is a Commercial; H1 Print Shop is a Commercial; H15 Print Shop is a Commercial; H16 Print Shop is a Commercial; H2 Print Shop is a Commercial; H-15 General Store is a Commercial; H12 Store is a Commercial; H12 Print Shop is a Commercial; Brews & Bites Cafe is a Commercial; Jeevan jyoti  hostel 15 c wing is a Commercial; shiv jumbo hostel 15 is a Commercial; anjali services pvt ltd  hostel 1 is a Commercial; chef talk  hostel 2 is a Commercial; shubham catering services  hostel 3 is a Commercial; sai sidhi hospitality private ltd  hostel 5 is a Commercial; shree ganesh snack center  hostel tansa is a Commercial; subhash caterers  hostel 5  is a Commercial; patel stationary is a Commercial; technosky  hostel 13  wing A is a Commercial; H1: Canteen is a Food & Drink; small swimming pool is a Leisure & Entertainment; H3 canteen is a Food & Drink; H-15_Rpoint is a Landuse: Recreation_ground; Old SAC is a Leisure & Entertainment; New SAC is a Leisure & Entertainment; Open air theatre is a Leisure & Entertainment; Hostel 14 - Conical sculpture is a Leisure & Entertainment; imk Bakery is a Commercial; Stationary Store  H-18 is a Commercial; H3 Lounge is a Leisure & Entertainment; Hotel 13 is a Residential; Tennis court is a Leisure & Entertainment; SAC is a Leisure & Entertainment; Indoor court is a Leisure & Entertainment; Hostel 11 is a Residential; Hostel 8 is a Residential; DRDO (101-104  201-204  301-304  401-404) is a Residential; Type 1 - 10(109-120) is a Residential; MW 1 is a Residential; Tansa House is a Residential; Hostel 4 is a Residential; Hostel 3 is a Residential; Hostel 2 is a Residential; Hostel 1 is a Residential; MW 2 is a Residential; Hostel 9 A is a Residential; Hostel 9 B is a Residential; Hostel 9 C is a Residential; Hostel 6 A is a Residential; Project staff reisdence is a Residential; Hostel 5 A is a Residential; Hostel 5 B is a Residential; Hostel 5 C is a Residential; Hostel 6 B is a Residential; Hostel 6 C is a Residential; Hostel 6 Ground is a Landuse: Recreation_ground; Renaissance Mumbai Convention Centre Hotel is a Leisure & Entertainment; NITIE Pond is a Natural; National Institute of Industrial Engineering is a Educational; Hostel 15A is a Residential; H-15 Wing B is a Leisure & Entertainment; Hostel 15 C is a Residential; Hostel 16 B Wing is a Residential; Hostel 16 C is a Residential; Hostel 16 A is a Residential; Type 1 - 22 (310 - 321) is a Residential; Hostel 12 is a Residential; Hostel 12 D is a Residential; Hostel 9 Ground is a Leisure & Entertainment; Hostel 14 C is a Residential; Hostel 14 B is a Residential; Hostel 14 A is a Residential; Hostel 13 Ground is a Landuse: Recreation_ground; Hostel 14 Ground is a Leisure & Entertainment; Hostel 12 Ground is a Landuse: Recreation_ground; Indoor Badminton Court is a Leisure & Entertainment; Gymkhana is a Leisure & Entertainment; Hostel-1 ground is a Landuse: Recreation_ground; H1: Garden is a Leisure & Entertainment; Football field is a Leisure & Entertainment; Squash Court is a Landuse: Recreation_ground; 0th Wing of Hostel-1 is a Residential; Hockey Ground is a Leisure & Entertainment; Basketball Court is a Leisure & Entertainment; Cricket Ground is a Leisure & Entertainment; Badminton Court Hostel 18 is a Leisure & Entertainment; Hostel 17 is a Residential; H3 Cricket Ground is a Leisure & Entertainment; H3 football ground is a Leisure & Entertainment; H2 Cricket Ground is a Leisure & Entertainment; H3 Badminton Court is a Leisure & Entertainment; H3 -Garden is a Leisure & Entertainment; Vihar Lake is a Natural; Sanjay Gandhi (Borivilli) National Park is a Leisure & Entertainment; Indian Institute of Technology Bombay is a Educational; Powai Lake is a Natural; Running Track is a Leisure & Entertainment; "
          ],
          [
           "munnar chawl is a Residential; Nikita Ladies Beauty Parlour is a Commercial; Sai Sparsh Hospital and Iccu is a Healthcare; Naval Hospital is a Healthcare; Devaki Hospital is a Healthcare; BMC S Ward is a Commercial; Magnet Mall is a Commercial; CGPower Mumbai is a Industrial; Great Eastern Gardens is a Residential; Runwal Forest is a Residential; NCH Colony Playground is a Leisure & Entertainment; Jai Hind Oil Mills is a Industrial; MMRDA Colony is a Residential; Naval Civillian Housing Colony is a Landuse: Military; Mahindra Splendour is a Residential; Jai Hind Mill Compound is a Industrial; Hazel is a Residential; Citrus is a Residential; Walnut is a Residential; Willow is a Residential; Oak is a Residential; Pine is a Residential; Palm is a Residential; Tulip is a Residential; Orchid is a Residential; Silver Oak is a Residential; Magnolia is a Residential; Mahogany is a Residential; Flying kites is a Residential; "
          ],
          [
           "atta flour making shop is a Commercial; Ankur Maternity and Surgical Nursing Home is a Healthcare; Magnet Mall is a Commercial; CGPower Mumbai is a Industrial; Great Eastern Gardens is a Residential; Ameya Housing Society is a Residential; Paranjpe Sahabhagruha is a Leisure & Entertainment; Plan D Fine Dine Restaurant is a Food & Drink; Everest Bldg is a Residential; Pariwar Ground is a Leisure & Entertainment; Runwal Forest is a Residential; Jai Hind Oil Mills is a Industrial; Mahindra Splendour is a Residential; Jai Hind Mill Compound is a Industrial; Hazel is a Residential; Citrus is a Residential; RunwalBliss is a Residential; Walnut is a Residential; Willow is a Residential; Oak is a Residential; Pine is a Residential; Palm is a Residential; Tulip is a Residential; Orchid is a Residential; Silver Oak is a Residential; Magnolia is a Residential; Mahogany is a Residential; Shraddha Autumn Park is a Residential; Fern is a Residential; Gardenia is a Residential; Ebony is a Residential; Daffodil is a Residential; Aspen is a Residential; Arkade Earth is a Residential; Dina Bama Patil Estate is a Residential; BMC Garden is a Leisure & Entertainment; "
          ],
          [
           "Thane Creek Flamingo WLS is a Leisure & Entertainment; "
          ],
          [
           "Thane Creek Flamingo WLS is a Leisure & Entertainment; "
          ],
          [
           "Thane Creek Flamingo WLS is a Leisure & Entertainment; "
          ],
          [
           "Thane Creek Flamingo WLS is a Leisure & Entertainment; "
          ],
          [
           "Mazidun High School is a Educational; Dmart - Airoli is a Commercial; Yashodeep Heights is a Residential; Satyam Harmony is a Residential; Play Ground is a Leisure & Entertainment; "
          ],
          [
           "Dr Manes Gawali Hospital is a Healthcare; Reliance Corporate Park is a Commercial; "
          ],
          [
           "Reliance Corporate Park is a Commercial; VINAY is a Commercial; Parsik Hills is a Landuse: Forest; "
          ],
          [
           "Reliance Corporate Park is a Commercial; Parsik Hills is a Landuse: Forest; "
          ],
          [
           "Hotel Turning Point Snacks हॉटेल टर्निंग पॉइंट स्नाच्क्स is a Food & Drink; Parsik Hills is a Landuse: Forest; "
          ],
          [
           "Bholenath Dairy Farms is a Commercial; Hotel Turning Point Snacks हॉटेल टर्निंग पॉइंट स्नाच्क्स is a Food & Drink; Atlanta Enclave is a Residential; Bharat Ecovistas is a Residential; MK Thakur Complex is a Residential; Parsik Hills is a Landuse: Forest; "
          ],
          [
           "Parsik Hills is a Landuse: Forest; "
          ],
          [
           "River Scape is a Residential; Palava Phase 1 is a Residential; "
          ],
          [
           "Dolphin View is a Leisure & Entertainment; Manisha Cottage is a Leisure & Entertainment; Vyas Wadi is a Leisure & Entertainment; UK A toZ Props is a Food & Drink; Villa White Rock is a Residential; Malad Creek is a Natural; Madh Beach is a Leisure & Entertainment; "
          ],
          [
           "Dolphin View is a Leisure & Entertainment; Manisha Cottage is a Leisure & Entertainment; Vyas Wadi is a Leisure & Entertainment; UK A toZ Props is a Food & Drink; Marigold is a Residential; Villa White Rock is a Residential; Malad Creek is a Natural; Aurus Villa is a Residential; Club House is a Residential; Madh Beach is a Leisure & Entertainment; Valencia is a Residential; Sevilla is a Residential; Andalucia is a Residential; Barcelona is a Residential; Amalfi is a Residential; Capri is a Residential; Sicily is a Residential; Raheja Exotica Sorento is a Residential; Raheja Exotica is a Residential; "
          ],
          [
           "Versova Police Station is a Government & Public Services; Silver Anklet is a Residential; Body Design is a Leisure & Entertainment; Bangalore Iyengar's Bakery is a Commercial; Malad Creek is a Natural; Larsen and Toubro is a Industrial; Raheja Exotica is a Residential; Goverment Park For Public is a Leisure & Entertainment; "
          ],
          [
           "Silver Anklet is a Residential; Body Design is a Leisure & Entertainment; Shiv Shakti Apartments is a Residential; The Backyard Brew is a Food & Drink; Malad Creek is a Natural; Central Institute of Fisheries Education is a Educational; Laxmikant Berde Garden is a Leisure & Entertainment; Park Plaza is a Residential; Raj Classic is a Residential; Poseidon is a Residential; Ratnakar Building is a Residential; Goverment Park For Public is a Leisure & Entertainment; "
          ],
          [
           "Sweet Corner is a Food & Drink; Orbit Eye Hospital  Mumbai is a Healthcare; Linkway Nursing Home and Polyclinic is a Healthcare; Shivam Netram Eye Hospital is a Healthcare; City Hospital is a Healthcare; Ruby Hospital is a Healthcare; Noor Nursing Home is a Healthcare; Fathima Children Hospital & Criticare Centre is a Healthcare; Millat Dialysis Center is a Healthcare; Kanojiya Brothers is a Commercial; BEST Housing Colony is a Residential; Autobahn Skoda Service Centre Goregaon West is a Commercial; Transit Camp  Behram Baug is a Commercial; Behram Baug is a Residential; Prathamesh Complex is a Residential; Imperial Heights 1 is a Residential; Oshiwara Muslim Crematorium is a Landuse: Cemetery; Anand Nagar is a Residential; Foodin Mart is a Commercial; Bmc Park is a Leisure & Entertainment; Maulana Abul Kalam Azad Udyan is a Leisure & Entertainment; shawarma is a Food & Drink; Lodha Bel Air is a Residential; Ankur Co-operative Housing Society. is a Residential; Patel Wadi is a Residential; Kureshi Compond is a Residential; New Shakti Nagar is a Residential; Kadam Nagar is a Residential; Imperial Heights is a Residential; "
          ],
          [
           "Hall 6 is a Commercial; Hall 8 is a Commercial; Hall 7 is a Commercial; Hall 5 is a Commercial; Bombay Exhibition Center is a Commercial; Jogeshwari Goods Yard is a Landuse: Railway; SRP Camp is a Landuse: Military; Autobahn Skoda Service Centre Goregaon West is a Commercial; Lotus Corporate Park is a Commercial; Iris Park Condominiums is a Residential; Hindu Hruday Samrat Balasaheb Thackerey Trauma Care Municipal Hospital is a Healthcare; Raheja Ridgewood is a Residential; Bmc Park is a Leisure & Entertainment; Maulana Abul Kalam Azad Udyan is a Leisure & Entertainment; Nesco IT Park is a Commercial; "
          ],
          [
           "Hall 8 is a Commercial; Hall 7 is a Commercial; Bombay Exhibition Center is a Commercial; SRP Camp is a Landuse: Military; National Dairy Development is a Industrial; Raheja Ridgewood is a Residential; Oberoi Splendor is a Residential; "
          ],
          [
           "SRP Camp is a Landuse: Military; Vijay Salaskar Park is a Leisure & Entertainment; New Zealand Hostel is a Leisure & Entertainment; Oberoi Splendor is a Residential; Aarey Hospital is a Healthcare; Dairy Science Institute is a Educational; Central Poultry Development Organisation - CPDO Mumbai is a Landuse: Farmyard; Oberoi International School - JVLR Campus is a Educational; "
          ],
          [
           "Upadhya Clinic is a Healthcare; Aarey Guest House is a Leisure & Entertainment; Aarey School is a Educational; Aarey Hospital is a Healthcare; Central Poultry Development Organisation - CPDO Mumbai is a Landuse: Farmyard; "
          ],
          [
           "Imperial Grand Palace is a Leisure & Entertainment; water pollution center is a Industrial; Mithi River is a Natural; Lake View is a Residential; Sanjay Gandhi (Borivilli) National Park is a Leisure & Entertainment; "
          ],
          [
           "National Institute of Industrial Engineering is a Educational; Mithi River is a Natural; Lake View is a Residential; Vihar Lake is a Natural; Sanjay Gandhi (Borivilli) National Park is a Leisure & Entertainment; "
          ],
          [
           "National Institute of Industrial Engineering is a Educational; Vihar Lake is a Natural; Sanjay Gandhi (Borivilli) National Park is a Leisure & Entertainment; "
          ],
          [
           "Hanuman Tekdi is a Natural; Sameer Hill is a Leisure & Entertainment; SAMEER Scientist Hostel is a Residential; Vihar Lake is a Natural; Sanjay Gandhi (Borivilli) National Park is a Leisure & Entertainment; Indian Institute of Technology Bombay is a Educational; "
          ],
          [
           "Br. Nath Pai Vidyalaya is a Educational; aditi poojari is a Residential; Dr.Bhatia's Ruby Hospital is a Healthcare; Shri Bal Chikitsalaya is a Healthcare; Gaurav Maternity and Surgical Hospital is a Healthcare; Sas Health Care Pvt. Limited is a Healthcare; Aashirwad Nursing Home is a Healthcare; Madhu Polyclinic and Nursing Home is a Healthcare; Shaha Children Hospital is a Healthcare; Mahek Nursing Home is a Healthcare; Rathod Nursing Home and Iccu is a Healthcare; Sai Sparsh Hospital and Iccu is a Healthcare; Shanti Maternity Clinic is a Healthcare; Maauli Hospital is a Healthcare; M.S.Maternity and General Hospital is a Healthcare; Amruta Maternity and Surgical Nursing Home is a Healthcare; Devaki Hospital is a Healthcare; Magnet Mall is a Commercial; Shivaji Talao is a Natural; Guru Nanak English Academy is a Educational; Navjeevan Vidya Mandir is a Educational; konkan ground is a Leisure & Entertainment; Flying kites is a Residential; Navjeevan Junior College is a Educational; Parag Vidyalaya And Semi English High School is a Educational; Sahayadri Vidya Mandir is a Educational; Vihar Lake is a Natural; Sanjay Gandhi (Borivilli) National Park is a Leisure & Entertainment; "
          ],
          [
           "aditi poojari is a Residential; shiv prasad is a Food & Drink; Madras cafe is a Food & Drink; Shri Bal Chikitsalaya is a Healthcare; I and Eye Dr Kolhes Eye Clinic is a Healthcare; Dr. Malwankar's Romeen Nursing Home is a Healthcare; Sulochan Eye is a Healthcare; J. K. Child Health Care and Nicu is a Healthcare; Dr.Badwaik's Maternity and General Hospital is a Healthcare; Sas Health Care Pvt. Limited is a Healthcare; Sanjeevan Nursing Home and Iccu is a Healthcare; Aashirwad Nursing Home is a Healthcare; Dr. Thakurs Ear Nose Throat Clinic and Hospital - Bhandup (W) Mumbai is a Healthcare; Nadkarni Eye Care Centre is a Healthcare; Madhu Polyclinic and Nursing Home is a Healthcare; Srushti Orthotech Hospital is a Healthcare; Mahek Nursing Home is a Healthcare; Saarthi Hospital  Mumbai is a Healthcare; Krishna Nursing Home  Mumbai is a Healthcare; Dr Patanis Eye Clinic is a Healthcare; M.S.Maternity and General Hospital is a Healthcare; Amruta Maternity and Surgical Nursing Home is a Healthcare; Savitribai Jyotiba Phule Maternity Home Bhandup is a Healthcare; Shrenik Hospital and Maternity House is a Healthcare; Sunrise Hospital is a Healthcare; Domino's is a Food & Drink; Dreams Mall is a Landuse: Construction; Magnet Mall is a Commercial; Shivaji Talao is a Natural; Prathamesh Pearl is a Residential; Lotus Buiding is a Residential; konkan ground is a Leisure & Entertainment; Mahindra Splendour is a Residential; Jai Hind Mill Compound is a Industrial; HDIL Dreams Complex is a Residential; Mahavir Universe Pheonix is a Residential; Tiki Tar Estate is a Industrial; Flying kites is a Residential; Dina Bama Patil Estate is a Residential; Pippermintwala Estate is a Industrial; Gujarati Seva Mandal is a Leisure & Entertainment; Parag Vidyalaya And Semi English High School is a Educational; Sahayadri Vidya Mandir is a Educational; N.E.S. high school is a Educational; Ishwar Nagar CHS is a Residential; Anant Siddhi is a Residential; Red Ground is a Leisure & Entertainment; Kukreja Garden is a Leisure & Entertainment; Krishna Medical is a Healthcare; "
          ],
          [
           "Om Ameya C.H.S.   Lokpriya Park is a Leisure & Entertainment; Diamond Maternity and General Hospital is a Healthcare; Mrudula Hospital is a Healthcare; HDIL Dreams Complex is a Residential; Mahavir Universe Pheonix is a Residential; Skyline park is a Food & Drink; Skyline Sparkle is a Residential; "
          ],
          [
           "Thane Creek Flamingo WLS is a Leisure & Entertainment; "
          ],
          [
           "Thane Creek Flamingo WLS is a Leisure & Entertainment; "
          ],
          [
           "Vaishali Hospital is a Healthcare; St Lawrence Wonder Kids is a Commercial; Jio Mart is a Commercial; Bharat Bakery is a Commercial; Mahadev Dairy Farm is a Commercial; Manali Bridal Studio & Academy is a Commercial; Laxmi Medical is a Healthcare; Sai Krupa Novelty is a Commercial; Newspaper stand is a Commercial; Patel Dairy is a Commercial; Warana Milk Store is a Commercial; Bicycle shop repairer is a Commercial; Karthik Classes is a Commercial; Waykar Medical is a Healthcare; Renuka Digital Agency is a Commercial; Wroom Motorcycle Store is a Commercial; Poli Bhaji Kendra is a Food & Drink; Gadkari Cars is a Commercial; Shree swami samarth shop is a Commercial; Garam Masala Bar and Restaurant is a Food & Drink; Fusion Kadai is a Food & Drink; Mahesh Fitness is a Leisure & Entertainment; Coastal & Marine Biodiversity Centre Ticket Counter is a Commercial; Ajanta Sea Breeze is a Residential; Yashwant Rao Chavan Park is a Leisure & Entertainment; Dr Babasaheb Ambedkar Udyan is a Leisure & Entertainment; Poorna chs is a Residential; Prabhat Kiran Chs is a Residential; Omkar CHS is a Residential; Tapasya CHS is a Residential; Shree Ganesh Krupa CHS is a Residential; Shivneri CHS is a Residential; Shri Siddhivinayak Complex is a Commercial; Sagar Darshan CHS is a Residential; Jai Omkar CHS is a Residential; MangalDarshan CHS is a Residential; Sukh Shanti CHS is a Residential; Swarajya CHS is a Residential; Shiv Darshan CHS is a Residential; Play Ground is a Leisure & Entertainment; Signia Ocean is a Residential; NMMC Playground is a Leisure & Entertainment; DAV Indoor Playground is a Leisure & Entertainment; Cricket Ground is a Leisure & Entertainment; MSEB Office is a Commercial; Bridge View CHS is a Residential; Sagar CHS is a Residential; Coastal & Marine Biodiversity Centre is a Leisure & Entertainment; Thane Creek Flamingo WLS is a Leisure & Entertainment; "
          ],
          [
           "Jasmine Hospital And Wow Clinic is a Healthcare; Sainidhi is a Food & Drink; Parulekar Hospital is a Healthcare; Suruchi Eye Centre is a Healthcare; KRYPTON Heritage Health Care is a Healthcare; Criti Care Iccu  Multispeciality and Trauma Centre is a Healthcare; Peace Statue - Chinchwali garden is a Leisure & Entertainment; Vaishali Hospital is a Healthcare; St Lawrence Wonder Kids is a Commercial; Bharat Bakery is a Commercial; Mahadev Dairy Farm is a Commercial; Manali Bridal Studio & Academy is a Commercial; Laxmi Medical is a Healthcare; Sai Krupa Novelty is a Commercial; Newspaper stand is a Commercial; Patel Dairy is a Commercial; Warana Milk Store is a Commercial; Indian Post is a Government & Public Services; Bicycle shop repairer is a Commercial; Mukesh Traders is a Commercial; Karthik Classes is a Commercial; Waykar Medical is a Healthcare; Meating square is a Food & Drink; Arcee electronics is a Commercial; Sassy saloon and spa is a Commercial; Bhupinder motors is a Commercial; Kamlakar Classes is a Commercial; Renuka Digital Agency is a Commercial; Mukambika Motors is a Commercial; Wroom Motorcycle Store is a Commercial; Poli Bhaji Kendra is a Food & Drink; Gadkari Cars is a Commercial; Kanchan Restaurant and Bar is a Food & Drink; Welcome Sweets is a Commercial; Deepti Stationery & xerox is a Commercial; Shree swami samarth shop is a Commercial; Monginis Cake shop is a Commercial; Garam Masala Bar and Restaurant is a Food & Drink; Fusion Kadai is a Food & Drink; Falcon Fitness center is a Leisure & Entertainment; GuruKrupa General Store is a Commercial; Mojo Pizza is a Food & Drink; McDonald's is a Food & Drink; My Jio Store is a Commercial; Kiyora Spa is a Commercial; Diamond wine store is a Commercial; La med Spa is a Commercial; Patanjali Store is a Commercial; Cotton King is a Commercial; Mahesh Fitness is a Leisure & Entertainment; Super Cycles is a Commercial; TVS Service center is a Commercial; Dr Hemant Anarthe Clinic is a Healthcare; Chang Su is a Food & Drink; ICICI Direct is a Commercial; apple hospital is a Healthcare; Spandan Healthcare center is a Healthcare; Yashwant Rao Chavan Park is a Leisure & Entertainment; Dr Babasaheb Ambedkar Udyan is a Leisure & Entertainment; Peer Sayad Badsaha Miya Udhyan is a Leisure & Entertainment; Airoli Sec 6 Garden is a Leisure & Entertainment; Shri Baji Prabhu Udyan is a Leisure & Entertainment; AL-4-22 is a Residential; AL-4-25 is a Residential; AL-4-23 is a Residential; AL-4-24 is a Residential; Omkar CHS is a Residential; Tapasya CHS is a Residential; Shivneri CHS is a Residential; Shri Siddhivinayak Complex is a Commercial; Sagar Darshan CHS is a Residential; MangalDarshan CHS is a Residential; Sukh Shanti CHS is a Residential; Swarajya CHS is a Residential; Shiv Darshan CHS is a Residential; Mazidun High School is a Educational; Dmart - Airoli is a Commercial; Royal Tower Chs is a Residential; Shree Ganesh Krupa CHS is a Residential; Yashodeep Heights is a Residential; Airoli Ganesh Visharjan Talao is a Natural; Radhika Bai Meghe Vidyalaya is a Educational; Play Ground is a Leisure & Entertainment; Ganesh Visharjan Talao Park is a Leisure & Entertainment; Airoli Sports Association Play Ground is a Landuse: Recreation_ground; Signia Ocean is a Residential; Chinchwali Garden is a Leisure & Entertainment; Ghadi Playground is a Leisure & Entertainment; Annasaheb Patil Garden is a Leisure & Entertainment; Dariyacha Raja Statue is a Leisure & Entertainment; PRABODHAN THAKREY GARDEN is a Leisure & Entertainment; Nakshatra Udyan is a Leisure & Entertainment; Airoli Fire station is a Government & Public Services; Yash Paradise swimming pool is a Leisure & Entertainment; Excel Residency is a Residential; Football Turf is a Leisure & Entertainment; Rabale Traffic Police Station is a Government & Public Services; Sai Sagar Family Restaurant is a Food & Drink; NMMC Playground is a Leisure & Entertainment; Satyam Harmony is a Residential; DAV Indoor Playground is a Leisure & Entertainment; Cricket Ground is a Leisure & Entertainment; MSEB Office is a Commercial; Bridge View CHS is a Residential; Sagar CHS is a Residential; Vaishnavi Apartment is a Residential; Airoli Drama Theater is a Leisure & Entertainment; Kacher Nandan (Vighnahar Heights) is a Residential; "
          ],
          [
           "Jasmine Hospital And Wow Clinic is a Healthcare; Sainidhi is a Food & Drink; Sahakar Bazaar Airoli is a Commercial; Parulekar Hospital is a Healthcare; Dr Manes Gawali Hospital is a Healthcare; Gandhi Hospital - Navi Mumbai is a Healthcare; Asha Hospital and Iccu is a Healthcare; Dr. Doke's Shraddha Hospital is a Healthcare; KRYPTON Heritage Health Care is a Healthcare; Dr.Mahajan Hospital and Industrial Trauma Center is a Healthcare; NMMC Hospitals is a Healthcare; Monginis Cake shop is a Commercial; Falcon Fitness center is a Leisure & Entertainment; GuruKrupa General Store is a Commercial; ICICI Direct is a Commercial; Siemens Ltd. is a Industrial; SIEMENS is a Industrial; Peer Sayad Badsaha Miya Udhyan is a Leisure & Entertainment; Airoli Sec 6 Garden is a Leisure & Entertainment; Airoli Sports Association Play Ground is a Landuse: Recreation_ground; Rabale Police Station is a Government & Public Services; MIDC - Rabale is a Industrial; Parsik Hills is a Landuse: Forest; "
          ],
          [
           "MIDC - Rabale is a Industrial; Parsik Hills is a Landuse: Forest; "
          ],
          [
           "Parsik Hills is a Landuse: Forest; "
          ],
          [
           "Parsik Hills is a Landuse: Forest; "
          ],
          [
           "Bholenath Dairy Farms is a Commercial; Hira Residency is a Residential; MMRDA is a Residential; Shweta is a Natural; Chahu Apartments is a Residential; Silver Residency is a Residential; Safa Complex is a Residential; Shilphata Fire Brigade is a Government & Public Services; Sunrise Glory is a Residential; Green Avenue is a Residential; Atlanta Enclave is a Residential; Bharat Ecovistas is a Residential; MK Thakur Complex is a Residential; Minar Arcade is a Residential; Ammar Meadows is a Residential; KK Residency is a Residential; Parsik Hills is a Landuse: Forest; "
          ],
          [
           "Hotel Shiva Heritage हॉटेल शिवा हेरीटेज is a Leisure & Entertainment; Shweta is a Natural; Shilphata Fire Brigade is a Government & Public Services; Sunrise Glory is a Residential; Green Avenue is a Residential; Radeshyam Royal is a Residential; Shree Hari Residency is a Residential; Trinity Paradise is a Residential; Provident Palmvista is a Residential; Sadguru Residency is a Residential; Mukta Luxuria is a Residential; Atlanta Enclave is a Residential; Green Woods is a Residential; Minar Arcade is a Residential; Ammar Meadows is a Residential; Saj Shrushti is a Residential; Shivalik is a Residential; Paramount is a Residential; Bhoomi Lawns is a Residential; Shanti Luxuria is a Residential; Saptashree Galaxy Heights is a Residential; Parvati Heights is a Residential; Parsik Hills is a Landuse: Forest; "
          ],
          [
           "Green Woods is a Residential; Elements is a Residential; Sunanda Circle is a Residential; Saj Shrushti is a Residential; Shivalik is a Residential; Parvati Heights is a Residential; Arihant Aarohi Phase 1 is a Residential; "
          ],
          [
           "Exotica is a Residential; Palava Phase 1 is a Residential; "
          ],
          [
           "Casa Rio Gold Club Swimming Pool is a Leisure & Entertainment; Casa Rio Gold Library is a Educational; Royal is a Commercial; Cricket Ground is a Leisure & Entertainment; River Dale is a Residential; River Retreat is a Residential; River Scape is a Residential; River View is a Residential; Beverlee is a Residential; Dionna is a Residential; Exotica is a Residential; Viviana is a Residential; Marina is a Residential; Viva is a Residential; Amazona is a Residential; Aqua is a Residential; Magdalena is a Residential; Columbia is a Residential; Volga is a Residential; Oceania is a Residential; Persiana is a Residential; Adriatica is a Residential; Arabiana is a Residential; Nyasia is a Residential; Caspiana is a Residential; Genevia is a Residential; Antartica is a Residential; Nautica is a Residential; Mediterranea is a Residential; Arctica is a Residential; Atlantica is a Residential; Pacifica is a Residential; Victoria is a Residential; Rhine is a Residential; Gardenia is a Residential; Giardino is a Residential; Ervina is a Residential; Palava Phase 1 is a Residential; Morgana is a Residential; "
          ],
          [
           "Aqua is a Residential; Magdalena is a Residential; Columbia is a Residential; Palava Phase 1 is a Residential; "
          ],
          [
           "Palava Phase 2 is a Residential; MHADA is a Residential; "
          ],
          [
           "Bhatia Island is a Leisure & Entertainment; Balaji Chinese Restaurant is a Food & Drink; Malad Creek is a Natural; Madh Beach is a Leisure & Entertainment; The Retreat is a Leisure & Entertainment; "
          ],
          [
           "Malad Creek is a Natural; The Retreat is a Leisure & Entertainment; Raheja Exotica Sorento is a Residential; Raheja Exotica is a Residential; "
          ],
          [
           "Malad Creek is a Natural; "
          ],
          [
           "Malad Creek is a Natural; "
          ],
          [
           "Malad Creek is a Natural; Mogara Nallah is a Natural; K L Walawalkar Udyan is a Leisure & Entertainment; Oxford Tower is a Residential; Movie Tower is a Residential; Shishira Apartment is a Residential; Paradise Height is a Residential; Green Park is a Residential; Casablanca Building is a Residential; Al Fath is a Residential; Kohinoor Apartments is a Residential; Al Ansar is a Residential; Al Muhajir is a Residential; Al Hateem is a Residential; Al Hudaibiah is a Residential; Al Yarmook is a Residential; Al Badar is a Residential; "
          ],
          [
           "Shreeji's is a Food & Drink; Lucky Biryani is a Food & Drink; Fressco's Meats And More is a Commercial; Cafe Coffee Day is a Food & Drink; Mango Forest Juice Bar is a Food & Drink; Zoodles is a Food & Drink; Loco Chino is a Food & Drink; Mohan Medicare is a Healthcare; My Dentist is a Healthcare; Auburn is a Commercial; Golden Fork is a Food & Drink; Rever is a Commercial; Lemon is a Commercial; Taste Of Ganges is a Food & Drink; Roti Punjab is a Food & Drink; Billy's is a Commercial; Maroosh is a Food & Drink; Lakme Salon is a Commercial; Eden Goodness Cafe is a Food & Drink; Rims Internation School is a Educational; HVPS College is a Educational; Goenka School is a Educational; Marble the Arc is a Educational; Harmony Mall is a Commercial; Dmart Ready is a Commercial; Malad Creek is a Natural; K L Walawalkar Udyan is a Leisure & Entertainment; Maa Saheb Ayur Vedik Udayan is a Leisure & Entertainment; Oshiwara BEST Bus Depot is a Industrial; VIBGYOR High School CBSE is a Educational; Mega Mall is a Commercial; Heera Panna is a Commercial; Indra Darshan II is a Residential; Paradise Height is a Residential; Green Park is a Residential; Euro Kids is a Educational; Al Fath is a Residential; Kohinoor Apartments is a Residential; Deep Apts is a Residential; Kohinoor is a Residential; Al Ansar is a Residential; Al Muhajir is a Residential; Al Hateem is a Residential; Al Hudaibiah is a Residential; Al Safa is a Residential; Samarth Angan is a Residential; Al Marwah is a Residential; Silver Arch is a Residential; Samarth Angan 2 is a Residential; Samarth Ashish is a Residential; Silver Arch B is a Residential; Al Badar is a Residential; Silver Arch A is a Residential; Godrej Waldorf is a Residential; Samruddhi CHS is a Residential; Oshiwara Basera is a Residential; East Side Apartments is a Residential; Windmere Building is a Residential; Anand Vihar is a Residential; Meera C.H.S. is a Residential; Sanskar is a Residential; Maheshwari Bhavan is a Leisure & Entertainment; Gulmohar is a Residential; Sargam is a Residential; Aakash is a Residential; Link Way is a Residential; Utsav is a Residential; May fair is a Residential; Rajnigandha is a Residential; Kaveri is a Residential; Oshiwara Mahada Garden is a Leisure & Entertainment; Eden garden is a Residential; Shastri Nagar Ground is a Leisure & Entertainment; Shantivan Bldg no. 4-7 is a Residential; Shantivan Bldg no. 1-3 is a Residential; Goregaon BEST Bus Depot is a Industrial; Annabhau Sathe Maidan is a Landuse: Recreation_ground; Dr. B. R. Ambedkar Maidan is a Leisure & Entertainment; Ganesh Maidan is a Landuse: Recreation_ground; Trikoni Maidan is a Leisure & Entertainment; Anand Nagar is a Residential; Windsdor Realty is a Commercial; Tarapore Gardens is a Residential; 61 Ward Office is a Commercial; "
          ],
          [
           "Siddarth Municipal Hospital is a Healthcare; IB Patel School is a Educational; Space Moulders is a Commercial; Dr. Bamis Fracture and Hand Clinic - Goregaon is a Healthcare; Pooja Hospital  Mumbai is a Healthcare; Matushree Gomati Hospital is a Healthcare; Suvidha Hospital & PolyClinic is a Healthcare; misha supermarket is a Commercial; Oshiwara BEST Bus Depot is a Industrial; BEST Housing Colony is a Residential; Prabodhan Maidan is a Leisure & Entertainment; Ozone Swimming Pool is a Leisure & Entertainment; Motilal Nagar is a Government & Public Services; Imperial Heights 1 is a Residential; Cinemex is a Leisure & Entertainment; Goregaon BEST Bus Depot is a Industrial; Goregaon Education Society Ground is a Leisure & Entertainment; Annabhau Sathe Maidan is a Landuse: Recreation_ground; Dr. B. R. Ambedkar Maidan is a Leisure & Entertainment; Ganesh Maidan is a Landuse: Recreation_ground; Trikoni Maidan is a Leisure & Entertainment; Shravasti Buddha Maidan is a Landuse: Recreation_ground; Goregaon Fire Station is a Government & Public Services; Goregaon Police Station is a Government & Public Services; Armaan Shoppee is a Commercial; Oshiwara Muslim Crematorium is a Landuse: Cemetery; Kalpataru Radiance is a Residential; Ankur Co-operative Housing Society. is a Residential; Imperial Heights is a Residential; sukhvilla chs is a Residential; "
          ],
          [
           "Food Bazar is a Commercial; Movietime Hub is a Leisure & Entertainment; Balaji Rest. is a Food & Drink; McDonald's is a Food & Drink; Goregaon (E) Police Station is a Government & Public Services; IB Patel School is a Educational; Dr. Bamis Fracture and Hand Clinic - Goregaon is a Healthcare; Pooja Hospital  Mumbai is a Healthcare; Krishna Clinic is a Healthcare; SRV Hospital is a Healthcare; Suvidha Hospital & PolyClinic is a Healthcare; Framestore is a Commercial; Hub Mall is a Commercial; MHADA Vanrai Colony is a Residential; Hall 6 is a Commercial; Hall 5 is a Commercial; Bombay Exhibition Center is a Commercial; Jogeshwari Goods Yard is a Landuse: Railway; Corporate Avenue by cello&sonal realty is a Commercial; Atlanta Center is a Commercial; Cinemex is a Leisure & Entertainment; Goregaon Education Society Ground is a Leisure & Entertainment; Goregaon Police Station is a Government & Public Services; Tower 4 is a Commercial; Lodha Fiorenza is a Residential; Savitribai Phule BMC Garden is a Leisure & Entertainment; Nesco IT Park is a Commercial; "
          ],
          [
           "Food Bazar is a Commercial; Movietime Hub is a Leisure & Entertainment; Balaji Rest. is a Food & Drink; McDonald's is a Food & Drink; Goregaon (E) Police Station is a Government & Public Services; Krishna Clinic is a Healthcare; Hub Mall is a Commercial; MHADA Vanrai Colony is a Residential; Bombay Exhibition Center is a Commercial; SRP Camp is a Landuse: Military; National Dairy Development is a Industrial; Indian Oil is a Commercial; Lodha Fiorenza is a Residential; Savitribai Phule BMC Garden is a Leisure & Entertainment; Nesco IT Park is a Commercial; "
          ],
          [
           "Chota Kashmir Lake is a Natural; New Zealand Hostel is a Leisure & Entertainment; Unit No.3 is a Landuse: Farmyard; Dairy Science Institute is a Educational; "
          ],
          [
           "Upadhya Clinic is a Healthcare; Rathi Clinic is a Healthcare; Mera Dentist is a Healthcare; Sparsh Poly Clinic is a Healthcare; Singh Poly Clinic is a Healthcare; De Modula is a Commercial; Aarey Central Dairy is a Industrial; Diamond Isle 2 is a Residential; Reliance MediaWorks is a Commercial; Dadasaheb Phalke Chitranagari is a Leisure & Entertainment; "
          ],
          [
           "Rathi Clinic is a Healthcare; Mera Dentist is a Healthcare; Sparsh Poly Clinic is a Healthcare; Singh Poly Clinic is a Healthcare; Golden Isle Co-operative Housing Society is a Leisure & Entertainment; Ruby Isle Garden is a Leisure & Entertainment; De Modula is a Commercial; Imperial Grand Palace is a Leisure & Entertainment; Diamond Isle 2 is a Residential; Film City Temple is a Leisure & Entertainment; Reliance MediaWorks is a Commercial; Sanjay Gandhi (Borivilli) National Park is a Leisure & Entertainment; Dadasaheb Phalke Chitranagari is a Leisure & Entertainment; "
          ],
          [
           "Film City Temple is a Leisure & Entertainment; Vihar Lake is a Natural; Sanjay Gandhi (Borivilli) National Park is a Leisure & Entertainment; Dadasaheb Phalke Chitranagari is a Leisure & Entertainment; "
          ],
          [
           "Vihar Lake is a Natural; "
          ],
          [
           "Vihar Lake is a Natural; Sanjay Gandhi (Borivilli) National Park is a Leisure & Entertainment; "
          ],
          [
           "Tembhipada Police Chowki is a Government & Public Services; Br. Nath Pai Vidyalaya is a Educational; Bombay Bakery is a Food & Drink; Dr Bothra's Hospital is a Healthcare; Siddhivinayak Chawl 1 is a Residential; Srinivas Chawl is a Residential; Navjeevan Vidya Mandir is a Educational; manoranjan maidan is a Leisure & Entertainment; TATA Power Salsette Receiving Station is a Industrial; Sunshine SRA CHS is a Residential; Navjeevan Junior College is a Educational; Shraddha Evoque is a Residential; Vihar Lake is a Natural; Sanjay Gandhi (Borivilli) National Park is a Leisure & Entertainment; "
          ],
          [
           "Bombay Bakery is a Food & Drink; Bhagwati Banquets is a Leisure & Entertainment; Dr Bothra's Hospital is a Healthcare; Dr. Malwankar's Romeen Nursing Home is a Healthcare; Dr.Badwaik's Maternity and General Hospital is a Healthcare; Sanjeevan Nursing Home and Iccu is a Healthcare; Nadkarni Eye Care Centre is a Healthcare; Krishna Nursing Home  Mumbai is a Healthcare; Lotus Multispeciality Hospital is a Leisure & Entertainment; Dr Bhatia’s Hospital  Bhandup is a Healthcare; Leo Packers and Movers Mumbai is a Commercial; My space is a Food & Drink; Vada Pav is a Food & Drink; Samarth Garden is a Residential; Prathamesh Pearl is a Residential; Lotus Buiding is a Residential; Sai Ashish CHS is a Residential; Suprabhat Society is a Residential; Sundew is a Residential; Sai Darshan CHS is a Residential; Mayuresh Residency is a Educational; manoranjan maidan is a Leisure & Entertainment; Filix Mall is a Commercial; TATA Power Salsette Receiving Station is a Industrial; J.B. Advani & Co. is a Industrial; Mahavir Universe Pheonix is a Residential; Anjani Industrial Estate is a Industrial; Krishna Mills Compound is a Industrial; Sai Radha Complex is a Residential; Tiki Tar Estate is a Industrial; Sardar Pratap Singh Industrial Estate is a Industrial; Hind Rectifiers Ltd is a Industrial; Sunshine SRA CHS is a Residential; Kalpataru Crest is a Residential; HDIL Majestic Tower is a Residential; falcon industrial sales is a Industrial; Navjeevan Junior College is a Educational; Kantilal Maganlal Estate is a Industrial; Gujarati Seva Mandal is a Leisure & Entertainment; N.E.S. high school is a Educational; Anant Siddhi is a Residential; Kembros Industrial PCS is a Industrial; Bhagtani Enclave is a Industrial; Mumbai Public School is a Educational; Dharamraj Industrial Estate is a Industrial; Shraddha Evoque is a Residential; Mhatre Brothers is a Industrial; CMS Computers Ltd is a Industrial; Red Ground is a Leisure & Entertainment; Kukreja Garden is a Leisure & Entertainment; Satyam Cafe is a Food & Drink; Krishna Medical is a Healthcare; "
          ],
          [
           "Lotus Multispeciality Hospital is a Leisure & Entertainment; Mrudula Hospital is a Healthcare; Dr. Kaushal Malhan is a Healthcare; chai apni is a Food & Drink; Make My Day is a Food & Drink; Bar Tales is a Food & Drink; Mulund Container Yard is a Industrial; CEAT Tyre is a Industrial; Samarth Garden is a Residential; Sai Ashish CHS is a Residential; Suprabhat Society is a Residential; Sundew is a Residential; Sai Darshan CHS is a Residential; Ebony is a Residential; Redwood is a Residential; Ashford Royale is a Residential; Runwal Chestnut is a Residential; Cypress is a Residential; Oakwood is a Residential; Pinewood is a Residential; Rosewood is a Residential; Cedar is a Residential; Runwal Greens is a Residential; Wadhwa Atmosphere is a Residential; Senroofs is a Residential; Anjani Industrial Estate is a Industrial; Der Deutsche Parkz is a Commercial; MTNL Telephone Exchange is a Commercial; Maple is a Residential; Kalpataru Crest is a Residential; HDIL Majestic Tower is a Residential; Ziva is a Residential; Blanca is a Residential; Vera is a Residential; Runwal Olive is a Residential; Skyline park is a Food & Drink; Skyline Sparkle is a Residential; Kembros Industrial PCS is a Industrial; Bhagtani Enclave is a Industrial; Tirupati Industrial Estate is a Industrial; Red Ground is a Leisure & Entertainment; Anna Lal Library is a Educational; Satyam Cafe is a Food & Drink; "
          ],
          [
           "Mulund Container Yard is a Industrial; Ganesh Visarjan Lake is a Natural; Senroofs is a Residential; "
          ],
          [
           "Mulund Dumping Ground is a Landuse: Landfill; Thane Creek Flamingo WLS is a Leisure & Entertainment; "
          ],
          [
           "National Burns Center is a Healthcare; Jio Mart is a Commercial; Warana Milk Store is a Commercial; Kalpataru Apartment is a Residential; Lake View Apartment is a Residential; Ajanta Sea Breeze is a Residential; Bhoomi Colossa II is a Residential; Mangaldeep CHS is a Residential; Poorna chs is a Residential; Prabhat Kiran Chs is a Residential; Christian Cemeteries Trust is a Landuse: Cemetery; Airoli Fire station is a Government & Public Services; NMMC Playground is a Leisure & Entertainment; Coastal & Marine Biodiversity Centre is a Leisure & Entertainment; Thane Creek Flamingo WLS is a Leisure & Entertainment; "
          ],
          [
           "Smt. Sushiladevi Deshmukh Vidyalaya is a Educational; Sai Seva Hospital and Icu  Mumbai is a Healthcare; Disha Hospital is a Healthcare; Avadhoot Hospital and Iccu is a Healthcare; Indravati Hospital is a Healthcare; Aayush Multispeciality Hospital is a Healthcare; Suruchi Eye Centre is a Healthcare; Sanjivni Hospital  Thane is a Healthcare; Shree Eye Clinic is a Healthcare; NMMC MCH Airoli is a Healthcare; Indian Post is a Government & Public Services; Mukesh Traders is a Commercial; Warana Milk Store is a Commercial; Airoli Railway station Ticket counter is a Commercial; Kopikar Gas Service (HP Gas) is a Commercial; Radha Gas Service AIROLI (Bharat Gas) is a Commercial; Kanchan Restaurant and Bar is a Food & Drink; Welcome Sweets is a Commercial; Dr Hemant Anarthe Clinic is a Healthcare; Kalpataru Apartment is a Residential; Lake View Apartment is a Residential; Shri Baji Prabhu Udyan is a Leisure & Entertainment; Rajiv Gandhi Udyan is a Leisure & Entertainment; sumitbhai park is a Leisure & Entertainment; Riddhi Siddhi Heights is a Residential; Intop Heights is a Residential; Datta Meghe College Of Engineering is a Landuse: Education; AL-4-22 is a Residential; AL-4-25 is a Residential; AL-4-23 is a Residential; AL-4-24 is a Residential; Mangaldeep CHS is a Residential; Poorna chs is a Residential; Prabhat Kiran Chs is a Residential; Christian Cemeteries Trust is a Landuse: Cemetery; Nandanvan is a Residential; Shree Ram Vidyalya & Junior College is a Commercial; Sanjeevan Deep is a Commercial; Radhika Bai Meghe Vidyalaya is a Educational; Chinchwali Garden is a Leisure & Entertainment; Annasaheb Patil Garden is a Leisure & Entertainment; PRABODHAN THAKREY GARDEN is a Leisure & Entertainment; Nakshatra Udyan is a Leisure & Entertainment; Airoli Fire station is a Government & Public Services; Football Turf is a Leisure & Entertainment; Sai Sagar Family Restaurant is a Food & Drink; NMMC Playground is a Leisure & Entertainment; India Post is a Government & Public Services; Gaodevi Maidan is a Leisure & Entertainment; Audmber CHS is a Residential; MSEB Office is a Commercial; Airoli Drama Theater is a Leisure & Entertainment; "
          ],
          [
           "Smt. Sushiladevi Deshmukh Vidyalaya is a Educational; Sai Seva Hospital and Icu  Mumbai is a Healthcare; Disha Hospital is a Healthcare; Indravati Hospital is a Healthcare; Aayush Multispeciality Hospital is a Healthcare; Gandhi Hospital - Navi Mumbai is a Healthcare; Asha Hospital and Iccu is a Healthcare; Sanjivni Hospital  Thane is a Healthcare; Shree Eye Clinic is a Healthcare; NMMC MCH Airoli is a Healthcare; Airoli Railway station Ticket counter is a Commercial; Siemens Ltd. is a Industrial; SIEMENS is a Industrial; Mindspace - Airoli is a Commercial; Mindspace Garden is a Leisure & Entertainment; Shree Ram Vidyalya & Junior College is a Commercial; Bharat Bijli is a Industrial; Rabale Hilltop Lake is a Natural; Parsik Hills is a Landuse: Forest; "
          ],
          [
           "Rabale Hilltop Lake is a Natural; Parsik Hills is a Landuse: Forest; "
          ],
          [
           "Symbiosis Convent High School is a Educational; The Universe 1 is a Residential; The Universe 2 is a Residential; Ewar Complex is a Residential; Parsik Hills is a Landuse: Forest; "
          ],
          [
           "Dosti Opal is a Residential; Dosti Planet North is a Residential; Gausiya Complex is a Residential; Nice Park is a Residential; MMRDA is a Residential; Dosti Foundation School is a Educational; Dosti Ruby is a Residential; Dosti Elmore is a Residential; Dosti Onyx is a Residential; Dosti Jade is a Residential; Dosti Emerald is a Residential; The Universe 1 is a Residential; The Universe 2 is a Residential; Bluebells is a Leisure & Entertainment; Bellamonte is a Residential; Ewar Complex is a Residential; Parsik Hills is a Landuse: Forest; "
          ],
          [
           "Dosti Opal is a Residential; Hira Residency is a Residential; Dosti Planet North is a Residential; Gausiya Complex is a Residential; Nice Park is a Residential; MMRDA is a Residential; Dosti Foundation School is a Educational; Dosti Ruby is a Residential; Dosti Elmore is a Residential; Dosti Onyx is a Residential; Dosti Jade is a Residential; Dosti Emerald is a Residential; KK Residency is a Residential; "
          ],
          [
           "Marathon Nextown is a Residential; Sai Kanishk is a Residential; Nirmal Nagari is a Residential; Sunrise Parkview is a Residential; Paramount is a Residential; Bhoomi Lawns is a Residential; Shanti Luxuria is a Residential; Saptashree Galaxy Heights is a Residential; Parvati Heights is a Residential; Paraiso is a Residential; Arihant Aarohi Phase 1 is a Residential; Arihant Aarohi Phase 2 is a Residential; "
          ],
          [
           "Hotel Kokan Ratna is a Food & Drink; Khidkali Lake is a Natural; Sunrise Parkview is a Residential; Shreepati Residency is a Residential; Sunanda Circle is a Residential; Mukta Residency is a Residential; Neon Hospital is a Healthcare; Shiv Shankar Residency is a Residential; Sai Shrushti Annex is a Residential; Dynamic Crest is a Residential; Mateshwari Altura is a Residential; Saptashree Galaxy Heights is a Residential; Parvati Heights is a Residential; Paraiso is a Residential; Arihant Aarohi Phase 1 is a Residential; Arihant Aarohi Phase 2 is a Residential; Shivnath Habitats is a Residential; "
          ],
          [
           "Khidkali Lake is a Natural; Palava Phase 1 is a Residential; Shivkripa Residency is a Residential; Yug Heights is a Residential; Riverwood Park is a Residential; Shiv Shankar Residency is a Residential; Sai Shrushti Annex is a Residential; Dynamic Crest is a Residential; Mateshwari Altura is a Residential; "
          ],
          [
           "Shree Manav Kalyan Hospital is a Healthcare; Ratnadeep Children's Hospitals is a Healthcare; Royal is a Commercial; Adriatica is a Residential; Arabiana is a Residential; Nyasia is a Residential; Caspiana is a Residential; Genevia is a Residential; Antartica is a Residential; Nautica is a Residential; Mediterranea is a Residential; Arctica is a Residential; Atlantica is a Residential; Pacifica is a Residential; Victoria is a Residential; Rhine is a Residential; Ervina is a Residential; Irvetta is a Residential; Genevieve is a Residential; Motrel is a Residential; Palava Phase 1 is a Residential; Riverwood Park is a Residential; Morgana is a Residential; "
          ],
          [
           "MHADA is a Residential; "
          ],
          [
           "Casa Azzura is a Residential; Casa Milano is a Residential; Casa Estela is a Residential; Casa Aurelia is a Residential; Palava Waterfront is a Leisure & Entertainment; Palava Phase 2 is a Residential; MHADA is a Residential; "
          ],
          [
           "Blue Ballerina is a Leisure & Entertainment; Basant is a Leisure & Entertainment; Bhatia Island is a Leisure & Entertainment; Ruskon is a Leisure & Entertainment; Preet Villa is a Residential; Balaji Chinese Restaurant is a Food & Drink; Malad Creek is a Natural; Poonawala Bungalow is a Residential; "
          ],
          [
           "Basant is a Leisure & Entertainment; Ruskon is a Leisure & Entertainment; Preet Villa is a Residential; Malad Creek is a Natural; "
          ],
          [
           "Malad Creek is a Natural; "
          ],
          [
           "Malad Creek is a Natural; "
          ],
          [
           "Malad Creek is a Natural; "
          ],
          [
           "oroental Bank Of Commerce is a Residential; Prarthana Hospital And ICU is a Healthcare; Vivanta Hospital is a Healthcare; Jain Hospital is a Healthcare; KIDS WORLD PRESCHOOL AND DAYCARE is a Educational; Malad Creek is a Natural; VIBGYOR High School CBSE is a Educational; Jal-Padma C.H.S / G-2 Building is a Residential; Jal-Padma C.H.S / G-5 Building is a Residential; Jal-Padma C.H.S / G-1 Building is a Residential; Jal-Padma C.H.S / H-3 Building is a Residential; Jal-Padma C.H.S / G-3 Building is a Residential; Jal-Padma C.H.S / G-4 Building is a Residential; Vrindavan is a Residential; Rishaba is a Residential; Green Plaza is a Residential; Padma Prabha is a Residential; Bhattad Augustine is a Residential; Suvidhi is a Residential; Oriental Bank Of Commerce is a Commercial; Shiv Shakti Co.Op. Housing Society is a Residential; Shastri Nagar Ground is a Leisure & Entertainment; Jan-Kalyan C.H.S / H-4 Building is a Residential; Jal-Padma C.H.S / G-12 Building is a Residential; Jan-Kalyan C.H.S / G-10 Building is a Residential; Jan-Kalyan C.H.S / G-7 Building is a Residential; Jal-Padma C.H.S / H-2 Building is a Residential; Jan-Kalyan C.H.S / G-11 Building is a Residential; Jan-Kalyan C.H.S / G-9 Building is a Residential; Jan-Kalyan C.H.S / G-6 Building is a Residential; Jan-Kalyan C.H.S / H-1 Building is a Residential; Jan-Kalyan C.H.S / G-8 Building is a Residential; Rajiv gandhi park is a Leisure & Entertainment; Jal Mandir is a Residential; Ganpati niwas is a Residential; Avatpuri is a Residential; vishnu hanuman park is a Leisure & Entertainment; Sethia Link View is a Residential; Vasant Galaxy is a Residential; Bangur Seva Sadan is a Commercial; "
          ],
          [
           "Ratna is a Food & Drink; Siddarth Municipal Hospital is a Healthcare; Domino's is a Food & Drink; Ashoka Shopping Centre is a Commercial; Govind Dalvi Sabhagruha is a Leisure & Entertainment; City Centre Mall is a Commercial; Space Moulders is a Commercial; Vodafone Shop is a Commercial; Dr Baliga Nursing Home is a Healthcare; Kapadia Multi Speciality Hospital is a Healthcare; Vardan Nursing Home Pvt.Ltd. is a Healthcare; Prarthana Hospital And ICU is a Healthcare; Singhi Hospital is a Healthcare; Vivanta Hospital is a Healthcare; Tanay Clinic is a Healthcare; Soham Clinic is a Healthcare; Jain Hospital is a Healthcare; Matushree Gomati Hospital is a Healthcare; Dr. Patil's IVF and Fertility Clinic is a Healthcare; Dr. Bhatt's Hospital is a Healthcare; Shree Sai Clinic is a Healthcare; misha supermarket is a Commercial; B.R. Ambedkar park is a Leisure & Entertainment; KIDS WORLD PRESCHOOL AND DAYCARE is a Educational; Greens is a Food & Drink; A.B.Goregaonkar English School is a Educational; Patkar College of Science is a Educational; Jaykar Smruti is a Residential; Keshav Gore Smarak is a Leisure & Entertainment; Prabodhan Maidan is a Leisure & Entertainment; Ozone Swimming Pool is a Leisure & Entertainment; Filmistan Studio is a Commercial; Shiv Shakti Co.Op. Housing Society is a Residential; Shastri Nagar Ground is a Leisure & Entertainment; Motilal Nagar is a Government & Public Services; Mahindra Eminente Angelica Building is a Residential; hitika's cafe is a Food & Drink; beware cafe...love and enjoy is a Food & Drink; SURYA NIWAS is a Residential; Laxmi Niwas is a Residential; Surya Niwas is a Residential; Shri Durga Bhavan is a Residential; Aashiyana is a Residential; aakruti heights is a Residential; maya kunj is a Residential; daffodils is a Residential; Rajiv gandhi park is a Leisure & Entertainment; tom aquarium is a Landuse: Aquaculture; Sai Niwas is a Residential; Tijoriwala Terrace is a Residential; Sethia Link View is a Residential; sukhvilla chs is a Residential; "
          ],
          [
           "Jay Prakash is a Leisure & Entertainment; Sai Veg World is a Food & Drink; Nandadeep Vidyalay is a Educational; Aarey Police Station is a Government & Public Services; Anupam is a Leisure & Entertainment; Muncipal Pahadi School is a Educational; Gymkhana is a Leisure & Entertainment; Matrumandir is a Leisure & Entertainment; Heritage is a Food & Drink; St. Thomas School is a Educational; St. Thomas School Ground is a Educational; Indian Post Office is a Government & Public Services; Post Office is a Government & Public Services; Ratna is a Food & Drink; Domino's is a Food & Drink; Ashoka Shopping Centre is a Commercial; Govind Dalvi Sabhagruha is a Leisure & Entertainment; Sai Leela Hotel is a Leisure & Entertainment; City Centre Mall is a Commercial; Vodafone Shop is a Commercial; Dr Baliga Nursing Home is a Healthcare; Navjeevan Urology and Stone Care Centre is a Healthcare; Vishwa Kripa Hospital is a Healthcare; Singhi Hospital is a Healthcare; Dr. Monappa Moolya is a Healthcare; Pristine Eye Clinic is a Healthcare; Dr. Rajiv S Tungare is a Healthcare; Soham Clinic is a Healthcare; Dr. Sabnis Hospital is a Healthcare; Shree Clinic is a Healthcare; Trauma Hospital is a Healthcare; Dr. Bhatt's Hospital is a Healthcare; Glint Clinic is a Healthcare; SRV Hospital is a Healthcare; B.R. Ambedkar park is a Leisure & Entertainment; Greens is a Food & Drink; St. Pius College is a Educational; Goregaon Railway Station is a Landuse: Railway; Jayprakash Nagar is a Residential; Appectual IT Solutions is a Residential; Jayprakash Garden is a Leisure & Entertainment; A.B.Goregaonkar English School is a Educational; Patkar College of Science is a Educational; Jaykar Smruti is a Residential; Keshav Gore Smarak is a Leisure & Entertainment; Filmistan Studio is a Commercial; Mahindra Eminente Angelica Building is a Residential; hitika's cafe is a Food & Drink; beware cafe...love and enjoy is a Food & Drink; timepass is a Food & Drink; mall is a Commercial; hitikas stadium is a Leisure & Entertainment; hitika apartment is a Residential; Eco Star is a Residential; Dalvi Building is a Residential; srivatsaq complex is a Residential; Corporate Avenue by cello&sonal realty is a Commercial; toutle space goregaon is a Commercial; Atlanta Center is a Commercial; Goregaon Education Society Ground is a Leisure & Entertainment; Rajputana Empire is a Commercial; Romell Aether is a Residential; Yashada Maternity and Nursing Home is a Healthcare; Sai Niwas is a Residential; Gogtewadi Playground is a Leisure & Entertainment; "
          ],
          [
           "Nandadeep Vidyalay is a Educational; Aarey Police Station is a Government & Public Services; Muncipal Pahadi School is a Educational; Matrumandir is a Leisure & Entertainment; Trauma Hospital is a Healthcare; Archdiocesan Heritage Museum is a Leisure & Entertainment; St. Pius College is a Educational; Jayprakash Nagar is a Residential; Oberoi Woods is a Residential; Oberoi Garden City is a Residential; Commerz 2 is a Commercial; Indian Oil is a Commercial; Aarey Unit 9 is a Landuse: Farmyard; Yashada Maternity and Nursing Home is a Healthcare; Oberoi Esquire is a Residential; Oberoi Commerz is a Commercial; Oberoi Elysian is a Residential; "
          ],
          [
           "Medismile Dental Studio is a Healthcare; Dental Rite Centre is a Healthcare; West Coast Dental Clinc is a Healthcare; Chota Kashmir Lake is a Natural; Observation Post (Chotta Kashmir) is a Leisure & Entertainment; Oberoi Woods is a Residential; Oberoi International School - OGC Campus is a Educational; Dheeraj Valley is a Residential; Unit No.3 is a Landuse: Farmyard; RADHA RESTAURNT is a Food & Drink; Lakshdham High School is a Educational; "
          ],
          [
           "Mantri Park is a Residential; Anash Clinic is a Healthcare; Shree Siddhivinayak Clinic is a Healthcare; Observation Post (Chotta Kashmir) is a Leisure & Entertainment; Indira Gandhi Institute of Development Research is a Educational; YouTube Space Mumbai is a Commercial; Sanjay Gandhi (Borivilli) National Park is a Leisure & Entertainment; Dadasaheb Phalke Chitranagari is a Leisure & Entertainment; "
          ],
          [
           "Reliance MediaWorks is a Commercial; Abu Village is a Leisure & Entertainment; YouTube Space Mumbai is a Commercial; Sanjay Gandhi (Borivilli) National Park is a Leisure & Entertainment; Dadasaheb Phalke Chitranagari is a Leisure & Entertainment; "
          ],
          [
           "Sanjay Gandhi (Borivilli) National Park is a Leisure & Entertainment; Dadasaheb Phalke Chitranagari is a Leisure & Entertainment; "
          ],
          [
           "Vihar Lake is a Natural; "
          ],
          [
           "Vihar Lake is a Natural; Sanjay Gandhi (Borivilli) National Park is a Leisure & Entertainment; "
          ],
          [
           "Bhandup Water Works is a Government & Public Services; Gayathri Vidya Mandir is a Educational; The Re Fresh Bar is a Commercial; Pooja is a Residential; ShreeRam Tower is a Residential; Srushti is a Residential; Shreyas is a Residential; Piramal Revanta is a Landuse: Construction; Patel Compound is a Industrial; Shrishti Oasis is a Residential; Sunshine SRA CHS is a Residential; Mahakaleshwar SRA is a Residential; Hill Residency is a Residential; Shreyas CHS is a Residential; Laxman Baug is a Residential; Lok Rachna Complex is a Residential; Rajaramsheth Vidyalaya is a Educational; Shraddha Evoque is a Residential; Flyover Construction is a Landuse: Construction; Vihar Lake is a Natural; Sanjay Gandhi (Borivilli) National Park is a Leisure & Entertainment; "
          ],
          [
           "United Industrical Components (UICC) is a Industrial; Shanghai Restro is a Food & Drink; Secret Spice is a Food & Drink; Traffic Police Chowky is a Government & Public Services; Kamal Fruits is a Commercial; Gym is a Leisure & Entertainment; Nirmal Sculpture is a Leisure & Entertainment; Anil Cancer Clinic is a Healthcare; Shivaani Mother and Child Care Hospital is a Healthcare; Dmart is a Commercial; Nirmal office is a Commercial; McDonald's is a Food & Drink; Dominos pizza is a Food & Drink; Maharashtra Marbles And Tiles is a Commercial; Harsidhi Enterprises is a Commercial; BMC S Ward Municipal Chowky is a Commercial; My space is a Food & Drink; Fig is a Natural; Palm is a Natural; Vada Pav is a Food & Drink; Mamta Hotel is a Food & Drink; Lay Bari Chai is a Food & Drink; Pooja is a Residential; ShreeRam Tower is a Residential; Srushti is a Residential; Shreyas is a Residential; Apurva is a Residential; Akash is a Residential; Ambar is a Residential; Mayuresh Residency is a Educational; Hallmark Building is a Commercial; Opal is a Residential; Vasundhara is a Residential; Commercial Centre is a Commercial; Nirmal Lifestyle Mall is a Landuse: Construction; Nirmal Lifestyle Residency is a Residential; Filix Mall is a Commercial; Runwal Heights is a Commercial; Runwal Heights is a Residential; Marathon Max is a Commercial; Udyog Kshetra is a Commercial; Vasant Oscar CHS is a Commercial; Chunnilal Auto Garage is a Commercial; DMart is a Commercial; Raja Industrial Estate is a Industrial; Shree Raghvendra Swami Dhyan Udyan is a Leisure & Entertainment; Piramal Revanta is a Landuse: Construction; Marathon Cosmos is a Residential; Rejuve 360 is a Landuse: Construction; Cricket Ground is a Leisure & Entertainment; Kids Area is a Leisure & Entertainment; Marathon Maxima is a Residential; Clubhouse is a Leisure & Entertainment; Playground is a Leisure & Entertainment; Topaz is a Residential; Emerald is a Residential; Coral is a Residential; Pearl is a Residential; Nandanvan Industrial Estate is a Industrial; Vasant Oscar CHS is a Residential; Marathon Galaxy is a Residential; Ashok Industrial Estate is a Industrial; Patel Compound is a Industrial; Rajiv Gandhi Nagar CHS is a Residential; J.B. Advani & Co. is a Industrial; Royal Classic is a Commercial; Friends Academy is a Commercial; Nirmal Commercial Centre is a Commercial; Aziz Compound is a Residential; Kalpataru Elitus is a Landuse: Construction; Sheth Montana is a Residential; Shrishti Oasis is a Residential; Krishna Mills Compound is a Industrial; Hind Rectifiers Ltd is a Industrial; Sagar Garden CHSL is a Residential; Community Hall is a Leisure & Entertainment; Kids Park 2 is a Leisure & Entertainment; Softesule Private Limited is a Industrial; Marathon Millenia is a Landuse: Construction; Asma Steel Industries is a Industrial; Konark Indraprast is a Residential; Madni Industrial Estate is a Industrial; Sunshine SRA CHS is a Residential; Mahakaleshwar SRA is a Residential; Madani Estate is a Industrial; falcon industrial sales is a Industrial; Mangla Tower CHS is a Residential; Asha Nagar CHS is a Residential; Friends Academy is a Landuse: Recreation_ground; Sunshine Tower is a Residential; HDIL Whispering Towers is a Landuse: Construction; Kamble Chawl is a Residential; Malik Compound is a Industrial; Hill Residency is a Residential; Shreyas CHS is a Residential; Laxman Baug is a Residential; Ambar Lok Rachna CHS is a Residential; Vasundhara Lok Rachna is a Residential; Lok Rachna Complex is a Residential; GMLR Flyover is a Landuse: Construction; Holy Angels Marthoma School is a Educational; Konark Regency is a Residential; Rajaramsheth Vidyalaya is a Educational; Srishti Square is a Commercial; Jalaram Park is a Residential; Garnet is a Residential; Sapphire is a Residential; Onyx is a Residential; Ruby is a Residential; Samata Apartments is a Residential; Mulund Salpadevipada Daikrupa CHSL is a Residential; BMC Manoranjan Maidan is a Leisure & Entertainment; Kembros Industrial PCS is a Industrial; Mumbai Public School is a Educational; Dharamraj Industrial Estate is a Industrial; Shraddha Evoque is a Residential; Mhatre Brothers is a Industrial; CMS Computers Ltd is a Industrial; Flyover Construction is a Landuse: Construction; "
          ],
          [
           "JMK Fitness is a Leisure & Entertainment; Surya Eye Institute and Research Centre is a Healthcare; Holy Trinity Hospital is a Healthcare; Pooja Nursing Home Pvt. Ltd. is a Healthcare; Suyog Hospital and Iccu is a Healthcare; Shree Sai Maternity and Surgical Nursing Home is a Healthcare; Rama Krishna is a Food & Drink; Cafe Bambai is a Food & Drink; Dmart is a Commercial; Ratna Supermakert is a Commercial; Dr. Kaushal Malhan is a Healthcare; chai apni is a Food & Drink; Fig is a Natural; Mamta Hotel is a Food & Drink; BMC Health Centre is a Healthcare; Make My Day is a Food & Drink; Annadurai Auto Garage is a Commercial; Bar Tales is a Food & Drink; Mulund Container Yard is a Industrial; CEAT Tyre is a Industrial; Nandanvan Industrial Estate is a Industrial; Sursha Tower is a Residential; Gala Nagar is a Residential; Aarya Samaj Hall is a Leisure & Entertainment; Aroto House is a Commercial; Brahmandeshwar Hall is a Leisure & Entertainment; Ebony is a Residential; Redwood is a Residential; DMart is a Commercial; Ashford Royale is a Residential; Runwal Chestnut is a Residential; Cypress is a Residential; Oakwood is a Residential; Pinewood is a Residential; Rosewood is a Residential; Cedar is a Residential; Runwal Greens is a Residential; St. Pius X High School is a Educational; Rajiv Gandhi Ground is a Landuse: Recreation_ground; Shree Vijay Vallabh Suri Ground is a Landuse: Recreation_ground; Sarvoday Parshwanath Nagar is a Residential; St. Mary's Convent is a Educational; Raja Industrial Estate is a Industrial; Shree Raghvendra Swami Dhyan Udyan is a Leisure & Entertainment; Mehul Cinema is a Leisure & Entertainment; Rejuve 360 is a Landuse: Construction; MTNL Telephone Exchange is a Commercial; Shoba Suman is a Residential; Rainbow Preschools International is a Educational; Victoria’s Classic is a Residential; O2 Commercial Premises CSL is a Commercial; Vidyaben D. Gardi High School and Junior College is a Educational; Sri Sri Ravishankar Vidya Mandir  is a Educational; Goshala Municipal School is a Educational; Wadhwa Atmosphere is a Residential; Royal Classic is a Commercial; Krishna Mills Compound is a Industrial; Maple is a Residential; sarvoday heights is a Residential; Sarvodaya Heights is a Residential; Konark Indraprast is a Residential; HDIL Majestic Tower is a Residential; Ziva is a Residential; Blanca is a Residential; Vera is a Residential; Runwal Olive is a Residential; Nahur Depot is a Industrial; Michael Enclave is a Residential; Mangla Tower CHS is a Residential; Asha Nagar CHS is a Residential; Bhakta Sangam Community Hall and Temple Complex is a Landuse: Religious; Sai Dham CHS is a Residential; Mulund Shangrila CHS is a Residential; Sunshine Tower is a Residential; Minerva Industrial Estate is a Industrial; Block B is a Industrial; Block A is a Industrial; Anupam Industrial Estate is a Industrial; Aroto Industrial Premises Co-operative Society Limited is a Industrial; Holy Angels Marthoma School is a Educational; Konark Regency is a Residential; Sai Aangan CHS is a Residential; Gaurav Enclave is a Residential; Priyamvadha CHS is a Residential; Mother Teresa Maidan is a Leisure & Entertainment; Nahur Shivaji Udyan is a Leisure & Entertainment; Mulund Salpadevipada Daikrupa CHSL is a Residential; BSNL Inspection Quarters is a Residential; Kembros Industrial PCS is a Industrial; Tirupati Industrial Estate is a Industrial; St. Pius CHSL is a Residential; Navyog Apartments CHS is a Landuse: Construction; Mumbai Public School Nahur Village is a Educational; Sangeeta Enclave is a Residential; Hanuman Kripa Chawl is a Residential; "
          ],
          [
           "ccd is a Food & Drink; Cafe Coffee Day is a Food & Drink; Maruti Nursing Home is a Healthcare; Aparna Hospital  Mulund (W) is a Healthcare; Holy Trinity Hospital is a Healthcare; Pooja Nursing Home Pvt. Ltd. is a Healthcare; Samarth Maternity and Nursing Home is a Healthcare; Suyog Hospital and Iccu is a Healthcare; Aaditya Netralaya is a Healthcare; Campus is a Food & Drink; VPM school is a Educational; Tea & Conversation is a Food & Drink; वैदेही सोसायटी is a Residential; Apna Bazar is a Commercial; Cane Baskets is a Commercial; BMC Health Centre is a Healthcare; Mulund Container Yard is a Industrial; V.G. Vaze Kelker College is a Educational; Mulund Samshan is a Landuse: Cemetery; Shrirang Nivas is a Residential; Arya Bhat Garden is a Leisure & Entertainment; Ganesh Visarjan Lake is a Natural; Gala Nagar is a Residential; Aarya Samaj Hall is a Leisure & Entertainment; Arihant CHS is a Residential; Chandan Apartments is a Residential; Brahmandeshwar Hall is a Leisure & Entertainment; Mehul Cinema is a Leisure & Entertainment; Suvidha Shankar Gokhale Memorial Hall is a Leisure & Entertainment; Vikas Palazzo is a Residential; Vani Vidyalaya is a Educational; Mulund Vidya Mandir is a Educational; Sachin Society is a Residential; BMC school is a Educational; RPF Quarters is a Residential; ITI Mulund is a Educational; Sai Aangan CHS is a Residential; Gaurav Enclave is a Residential; Priyamvadha CHS is a Residential; Maruti Apartments CHS is a Residential; Eastern Star is a Landuse: Construction; Codename Legacy is a Landuse: Construction; HS Spring is a Residential; "
          ],
          [
           "Saidhanhospital Iccu and Eye Care is a Healthcare; Campus Hotel is a Food & Drink; MTNL Office is a Commercial; Cafe Coffee Day is a Food & Drink; Gomathi Eye & Cornea Centre is a Healthcare; Sau Laxmibai is a Educational; Yashwantroa Dode is a Educational; Campus is a Food & Drink; Tea & Conversation is a Food & Drink; Orthomax Super Speciality Center is a Healthcare; Mulund Samshan is a Landuse: Cemetery; Ganesh Visarjan Lake is a Natural; Sardar Tarasingh Garden is a Leisure & Entertainment; Raje Sambhaji Ground is a Leisure & Entertainment; Romell Vasanthi is a Residential; Mulund Gymkhana is a Leisure & Entertainment; Laxmibai School is a Educational; "
          ],
          [
           "Mulund Dumping Ground is a Landuse: Landfill; Thane Creek Flamingo WLS is a Leisure & Entertainment; "
          ],
          [
           "नवी मुंबई महानगरपालिका अधिकृत पार्क  ऐरोली सेक्टर २० is a Leisure & Entertainment; Thane Creek Flamingo WLS is a Leisure & Entertainment; "
          ],
          [
           "Chai Tales is a Food & Drink; Avadhoot Hospital and Iccu is a Healthcare; Mody Hospital Iccu is a Healthcare; LG Showroom is a Commercial; LG Service & Fullfilment Center is a Commercial; Mindspace - Airoli is a Commercial; Rajiv Gandhi Udyan is a Leisure & Entertainment; नवी मुंबई महानगरपालिका अधिकृत पार्क  ऐरोली सेक्टर २० is a Leisure & Entertainment; Intop Heights is a Residential; Datta Meghe College Of Engineering is a Landuse: Education; Nandanvan is a Residential; Janta Market is a Commercial; Pratibha CHS is a Residential; Deepa CHS is a Residential; Lovely CHS is a Residential; Priyanka Restaurant is a Food & Drink; Dr. Babasaheb Ambedkar Udyan is a Leisure & Entertainment; Rajesh Health Club is a Leisure & Entertainment; Shree Chatrapati Shivaji Maharaj Maidan is a Leisure & Entertainment; Gaodevi Maidan is a Leisure & Entertainment; Audmber CHS is a Residential; Mangalmurti CHS is a Residential; Mamta Restaurant is a Food & Drink; "
          ],
          [
           "Mody Hospital Iccu is a Healthcare; Times of India is a Commercial; InterProducTec Virtual Labs Pvt. Ltd. is a Commercial; LG Showroom is a Commercial; LG Service & Fullfilment Center is a Commercial; होटल मुंबई हाउस ऐरोली  नवी मुम्बई is a Leisure & Entertainment; Mindspace - Airoli is a Commercial; Mindspace Garden is a Leisure & Entertainment; Liberty Tower is a Commercial; Janta Market is a Commercial; Pratibha CHS is a Residential; Deepa CHS is a Residential; Lovely CHS is a Residential; Priyanka Restaurant is a Food & Drink; Bharat Bijli is a Industrial; Dr. Babasaheb Ambedkar Udyan is a Leisure & Entertainment; Rajesh Health Club is a Leisure & Entertainment; Shree Chatrapati Shivaji Maharaj Maidan is a Leisure & Entertainment; Reliable Tech Park is a Commercial; The A Team Sports & Events - Multi-Sports Turf Ground Airoli is a Leisure & Entertainment; Audmber CHS is a Residential; Mangalmurti CHS is a Residential; Mamta Restaurant is a Food & Drink; Parsik Hills is a Landuse: Forest; "
          ],
          [
           "Parsik Hills is a Landuse: Forest; "
          ],
          [
           "Qamar Nursing Home is a Healthcare; Talao Pali is a Natural; SK Residency is a Residential; Mukta Gharonda is a Residential; Symbiosis Convent High School is a Educational; Bluebells is a Leisure & Entertainment; Prime Nest is a Residential; Parsik Hills is a Landuse: Forest; "
          ],
          [
           "Bilal Hospital I.C.U is a Healthcare; Talao Pali is a Natural; Diamond height D1 is a Residential; TMC School 31 is a Educational; Maulana Abul Kalaam Azad Sports Stadium is a Leisure & Entertainment; MM Valley is a Residential; Fatima Enclave is a Residential; Sukoon Heights is a Residential; Grace Square is a Residential; SK Residency is a Residential; Bluebells is a Leisure & Entertainment; Bellamonte is a Residential; Prime Nest is a Residential; "
          ],
          [
           "Sai Shrusthi Heights is a Residential; Laxmi Residency is a Residential; Om Residency is a Residential; Amber Ellance is a Residential; Rameshwar Park is a Residential; Shree Vignaharta Residency is a Residential; Shiv Amrut is a Residential; Sudama Regency is a Residential; "
          ],
          [
           "Marathon Nextown is a Residential; Sai Kanishk is a Residential; Nirmal Nagari is a Residential; Piyush Majestic is a Residential; Radhe Krishna Residency is a Residential; Sai Shrusthi Heights is a Residential; Laxmi Residency is a Residential; Om Residency is a Residential; Amber Ellance is a Residential; Rameshwar Park is a Residential; Sudama Greens is a Residential; Shiv Amrut is a Residential; "
          ],
          [
           "Marathon Nextown is a Residential; Shreepati Residency is a Residential; "
          ],
          [
           "CasaBella Gold is a Leisure & Entertainment; Lodha Xperia Mall is a Commercial; Sophistica is a Residential; Magniferra is a Residential; Venezia is a Residential; Alura is a Residential; Primia is a Residential; Spectra is a Residential; Crestia is a Residential; Europa is a Residential; Utopia is a Residential; Elitra is a Residential; Platina is a Residential; Sereno is a Residential; Vento is a Residential; Prado is a Residential; Terreno is a Residential; Nuevo is a Residential; Ramano is a Residential; Vertica is a Residential; Lodha Golflinks is a Residential; Bungalows is a Residential; Palava Phase 1 is a Residential; Shivkripa Residency is a Residential; Yug Heights is a Residential; Riverwood Park is a Residential; "
          ],
          [
           "CasaBella Gold is a Leisure & Entertainment; Shree Manav Kalyan Hospital is a Healthcare; Ratnadeep Children's Hospitals is a Healthcare; MGM Hospital is a Healthcare; Bijankur Hospital is a Healthcare; Nilaje Lake is a Natural; Lodha Xperia Mall is a Commercial; Sophistica is a Residential; Magniferra is a Residential; Venezia is a Residential; Alura is a Residential; Elitra is a Residential; Platina is a Residential; Sereno is a Residential; Vertica is a Residential; Lodha Golflinks is a Residential; Bungalows is a Residential; Palava Phase 1 is a Residential; Riverwood Park is a Residential; "
          ],
          [
           "Casa Lakeside A is a Residential; Casa Lakeside B is a Residential; Casa Lakeside C is a Residential; Lake Side Park is a Leisure & Entertainment; Casa Florea is a Residential; Casa Florencia is a Residential; Casa Verde is a Residential; Casa Verdana is a Residential; Casa Jardin is a Residential; Casa Jardino is a Residential; Casa Selvano is a Residential; Lakewood is a Residential; Casa Olivia is a Residential; Casa Vista is a Residential; Trinity is a Residential; Casa Lakeside is a Residential; Palava Phase 2 is a Residential; Casa Cielo is a Residential; "
          ],
          [
           "Malad Creek is a Natural; Poonawala Bungalow is a Residential; "
          ],
          [
           "The Resort is a Leisure & Entertainment; Anil Thakur Guest House is a Leisure & Entertainment; Malad Creek is a Natural; Aksa Beach is a Natural; "
          ],
          [
           "All India Radio - AIR is a Industrial; Ambhojwadi is a Residential; "
          ],
          [
           "Malad Creek is a Natural; All India Radio - AIR is a Industrial; Ambhojwadi is a Residential; New Babrekar nagar is a Residential; Ashiana Apt is a Residential; Maa Building is a Residential; Apna Ghar Apt is a Residential; Bungalow Masjid is a Residential; la faliz is a Residential; "
          ],
          [
           "Malad Creek is a Natural; Bungalow Masjid is a Residential; "
          ],
          [
           "Metro Wholesale is a Commercial; Cloud Nine Children's Hospital is a Healthcare; Sage Hospital is a Healthcare; Goregaon West is a Residential; Malad Creek is a Natural; Hypercity is a Retail; InOrbit Mall is a Retail; InOrbit Mall is a Commercial; BMC Forest Theme Garden is a Leisure & Entertainment; Toutle Space Malad is a Commercial; Kalpataru Pinnacle is a Residential; Yughdharma is a Residential; Forza turf  Inorbit mall is a Leisure & Entertainment; Jal Mandir is a Residential; Ganpati niwas is a Residential; Avatpuri is a Residential; Atul Kalpataru is a Residential; Kalpataru Regalia is a Residential; Rustomjee Elanza is a Residential; vishnu hanuman park is a Leisure & Entertainment; Bangur Seva Sadan is a Commercial; "
          ],
          [
           "Patidar Co Op Housing Society is a Leisure & Entertainment; D G Khetan International School is a Educational; Le Nest Hospital is a Healthcare; Maa Nursing Home and Netra Jyoti Eye Care Center is a Healthcare; Rahul Eye Clinic is a Healthcare; Life Line Medicare Hospital Pvt Ltd is a Healthcare; Dr. Pravin is a Healthcare; Vivanta Multispeciality Hospital is a Healthcare; Cloud Nine Children's Hospital is a Healthcare; Tanay Clinic is a Healthcare; Dr. Patil's IVF and Fertility Clinic is a Healthcare; Shree Sai Clinic is a Healthcare; Dr. Amit Jain renowned Spine specialist in mumbai is a Healthcare; Chandak Stella is a Food & Drink; Hypercity is a Retail; InOrbit Mall is a Retail; MTNL Telephone Exchange is a Commercial; Grand Sarowar Premiere is a Leisure & Entertainment; InOrbit Mall is a Commercial; Madhur Society is a Residential; Techniplex II is a Residential; Techniplex (I) is a Residential; Kalpataru Pinnacle is a Residential; Antlia Engineering Works is a Industrial; Kingston Tower is a Residential; Kingston Classic B/Kingston Heights c is a Residential; Yughdharma is a Residential; tom aquarium is a Landuse: Aquaculture; Rustomjee Ozone is a Residential; Atul Kalpataru is a Residential; Kalpataru Regalia is a Residential; Rustomjee Elanza is a Residential; rustom jee ozone is a Residential; "
          ],
          [
           "St. Thomas School is a Educational; St. Thomas School Ground is a Educational; Automotivation is a Commercial; Le Nest Hospital is a Healthcare; Maa Nursing Home and Netra Jyoti Eye Care Center is a Healthcare; Vishwa Kripa Hospital is a Healthcare; Pandurangawadi Health Post is a Healthcare; M.W. Desai Municipal General Hospital is a Healthcare; Pahadi Health Post is a Healthcare; Dr. Sabnis Hospital is a Healthcare; Shree Clinic is a Healthcare; Vahaan Travels is a Commercial; Giri pushpa Park is a Leisure & Entertainment; St. Pius College is a Educational; Goregaon Railway Station is a Landuse: Railway; Masurashram is a Leisure & Entertainment; Vishwanath Guruji Park is a Leisure & Entertainment; MTNL Telephone Exchange is a Commercial; Grand Sarowar Premiere is a Leisure & Entertainment; A.B.Goregaonkar English School is a Educational; Techniplex II is a Residential; Techniplex (I) is a Residential; timepass is a Food & Drink; shopping malls is a Commercial; mall is a Commercial; hitikas stadium is a Leisure & Entertainment; kids only is a Leisure & Entertainment; hitika apartment is a Residential; Eco Star is a Residential; Antlia Engineering Works is a Industrial; toutle space goregaon is a Commercial; Ghanshyamdas Jalan College of Science & Commerce is a Residential; Romell Aether is a Residential; Giri Pushpa park track is a Leisure & Entertainment; Poddar Academy's Playground is a Leisure & Entertainment; Gogtewadi Playground is a Leisure & Entertainment; Virwani Industrial Estate is a Industrial; Mahindra Nagar Ground is a Leisure & Entertainment; Sanjay Gandhi Playing Ground is a Leisure & Entertainment; "
          ],
          [
           "The Westin Mumbai Garden City is a Leisure & Entertainment; Gorgaon Fire Station is a Government & Public Services; Yashodham High School & Jr. College is a Educational; oberoi exquisite garden is a Leisure & Entertainment; oberoi exquisite pool is a Leisure & Entertainment; Tushar Maternity and Surgical Nursing Home is a Healthcare; Suresh Eye Clinic is a Healthcare; Enclave Maternity Home is a Healthcare; Dr. Nirmal Clinic is a Healthcare; New Nari Hospital is a Healthcare; Archdiocesan Heritage Museum is a Leisure & Entertainment; Starbucks is a Food & Drink; Pathanwadi Muncipal Park is a Leisure & Entertainment; Royal Challenge Restaurant is a Food & Drink; A. M. Kenia Estate Agency is a Commercial; Mehndi Artist Sunita Kenia is a Commercial; St. Pius College is a Educational; Dindoshi BEST Bus Depot is a Industrial; Oberoi Mall is a Commercial; Oberoi Woods is a Residential; Oberoi Garden City is a Residential; Oberoi International School - OGC Campus is a Educational; Commerz 2 is a Commercial; Raghav is a Residential; Janak Cooperative Housing Society is a Residential; Gardenia is a Residential; Orchid is a Residential; Jai Ashoka is a Residential; Commerz is a Commercial; Aster Tower is a Residential; Express Zone Mall is a Commercial; Oberoi Esquire is a Residential; Oberoi Exquisite is a Residential; Oberoi Commerz is a Commercial; Oberoi Seven is a Residential; Oberoi Elysian is a Residential; Virwani Industrial Estate is a Industrial; "
          ],
          [
           "Gokuldham Police Station is a Government & Public Services; Alcohol Shop is a Commercial; Caffe Coffee Day is a Food & Drink; Tree House Play School is a Educational; Pizza Hut is a Food & Drink; Street Book Shop is a Commercial; Ganesh Maidan is a Leisure & Entertainment; Yashodham High School & Jr. College is a Educational; oberoi exquisite garden is a Leisure & Entertainment; oberoi exquisite pool is a Leisure & Entertainment; Shree Guru Maternity and Childrens Nursing Home - Mumbai is a Healthcare; Kanchi Nursing Home is a Healthcare; Enclave Maternity Home is a Healthcare; Savitri Bai Phule BMC Hospital  Malad East is a Healthcare; Happy Solutions Clinic is a Healthcare; Dr. Nitin Pandit's Family Clinic is a Healthcare; Dr. Nirmal Clinic is a Healthcare; Shree Sai Clinic is a Healthcare; Radha Krishna Hospital is a Healthcare; Ganesh Dental Speciality Clinic is a Healthcare; Medismile Dental Studio is a Healthcare; Dental Rite Centre is a Healthcare; Quest Multispeciality Clinic is a Healthcare; West Coast Dental Clinc is a Healthcare; Dr. Mrs. Shaila Pailoor is a Healthcare; Vidya Hospital is a Healthcare; Dr. Fulia's Homoeopathic Clinic is a Healthcare; Sai Clinic and Day Care Centre is a Healthcare; Diamond Muscles Gym is a Leisure & Entertainment; Doordarshan is a Residential; Ryan International School (ICSE) is a Educational; Jahur Arts is a Commercial; A. M. Kenia Estate Agency is a Commercial; Dindoshi BEST Bus Depot is a Industrial; Oberoi Woods is a Residential; Oberoi Garden City is a Residential; Oberoi International School - OGC Campus is a Educational; rajrudhram building is a Residential; Dheeraj Valley is a Residential; Daily Tiffin Service is a Food & Drink; DB Woods is a Residential; Jai Ashoka is a Residential; Aarey Bhaskar Ground is a Leisure & Entertainment; Oberoi Esquire is a Residential; Oberoi Exquisite is a Residential; Oberoi Seven is a Residential; JP Decks is a Residential; aarey bhaskar is a Leisure & Entertainment; Gokuldham School is a Educational; Lakshdham High School is a Educational; Suchidham Complex is a Residential; Gokuldham Shopping Center is a Commercial; Gagan Shopping Arcade is a Commercial; "
          ],
          [
           "Caffe Coffee Day is a Food & Drink; Mantri Park is a Residential; Neetas Day Care Clinic is a Healthcare; Indira Clinic is a Healthcare; Radha Krishna Hospital is a Healthcare; Ashka Dental Clinic is a Healthcare; Dattatray Clinic is a Healthcare; Hospital Vedant is a Healthcare; Chawla Dental Speciality Clinic is a Healthcare; Kamal Jyoti Clinic is a Healthcare; Anash Clinic is a Healthcare; Dr. Sudhir Patil Sai Siddhi Clinic is a Healthcare; Shree Siddhivinayak Clinic is a Healthcare; Shree Clinic is a Healthcare; Kadamb is a Natural; Desi Badam is a Natural; Coconut tree is a Natural; Peepal (Ficus Religiosa) is a Natural; 4 Nilgiri Trees is a Natural; Peepal is a Natural; Diamond Muscles Gym is a Leisure & Entertainment; sa is a Food & Drink; Infinity Park is a Commercial; Alankar Shopping center. is a Commercial; Ekdant is a Residential; Raheja Heights E wing is a Residential; Raheja Heights A wing is a Residential; Raheja Heights C wing is a Residential; Raheja Heights B wing is a Residential; Raheja Heights D wing is a Residential; Raheja Heights F wing is a Residential; Raheja Heights G wing is a Residential; Raheja Heights H wing is a Residential; Raheja Residency A wing is a Residential; Chaitanya is a Residential; Raheja Heights is a Residential; Raheja Residency D wing is a Residential; Raheja Residency is a Residential; Sheila Raheja Garden is a Leisure & Entertainment; Aarey Bhaskar Ground is a Leisure & Entertainment; Indira Gandhi Institute of Development Research is a Educational; aarey bhaskar is a Leisure & Entertainment; Sanjay Gandhi (Borivilli) National Park is a Leisure & Entertainment; "
          ],
          [
           "Infinity Park is a Commercial; Ekdant is a Residential; Sanjay Gandhi (Borivilli) National Park is a Leisure & Entertainment; "
          ],
          [
           "Vihar Lake is a Natural; "
          ],
          [
           "Vihar Lake is a Natural; Sanjay Gandhi (Borivilli) National Park is a Leisure & Entertainment; "
          ],
          [
           "Sai Siddhi Hospital  Mumbai is a Healthcare; Ashirwad Maternity and Nursing Home  Mulund is a Healthcare; The Re Fresh Bar is a Commercial; A is a Residential; Mulund Darshan CHS is a Residential; BMC Garden is a Leisure & Entertainment; Hill Residency is a Residential; Rachna Garden is a Residential; Jai Shastri Nagar CHS is a Residential; Dreamland Society is a Residential; Lok Aangan is a Residential; Sanjay Gandhi (Borivilli) National Park is a Leisure & Entertainment; "
          ],
          [
           "Goldenstar Banquet Hall is a Food & Drink; Secret Spice is a Food & Drink; Love and Latte is a Food & Drink; Mastermind Bicycle Studio is a Commercial; Sai Siddhi Hospital  Mumbai is a Healthcare; Ashirwad Maternity and Nursing Home  Mulund is a Healthcare; Anil Cancer Clinic is a Healthcare; Shivaani Mother and Child Care Hospital is a Healthcare; Veena Nagar Health Care Center and Hospital is a Healthcare; Upasani Super Speciality Hospital is a Healthcare; Dominos pizza is a Food & Drink; Johnson & Johnson is a Commercial; Mulund Gnana Kshetra is a Leisure & Entertainment; Tunak Tunak Tunn is a Food & Drink; Arihant Timber Traders is a Commercial; Meenu General Store is a Commercial; Siddhivinayak Stores is a Commercial; Palm is a Natural; Sainath Provisions is a Commercial; Satgurubaba General Stores is a Commercial; Janata Madhur Jalpan Vada Pav is a Food & Drink; Jalaram Dhokla House is a Food & Drink; Kamble General Stores is a Commercial; Rajshree Grain And Provision Stores is a Commercial; Siddhnath Consumer Store is a Commercial; Shiv Sena is a Commercial; Nandanvan Industrial Estate is a Industrial; Johnson & Johnson is a Industrial; Akash is a Residential; Ambar is a Residential; Hallmark Building is a Commercial; Nirmal Avior is a Commercial; A is a Residential; Vasundhara is a Residential; J&K is a Residential; Nirmal Lifestyle Mall is a Landuse: Construction; Johnson & Johnson Garden is a Leisure & Entertainment; Vasant Oscar CHS is a Commercial; Piramal Revanta is a Landuse: Construction; Marathon Cosmos is a Residential; Rejuve 360 is a Landuse: Construction; Oberoi Eternia is a Landuse: Construction; Marathon Monte Vista is a Residential; O2 Commercial Premises CSL is a Commercial; Anupam Industrial Estate 2 is a Industrial; Nirmal Polaris is a Residential; Samriddhi is a Commercial; Nahur Udyog Premises is a Industrial; Mulund Fire Brigade is a Government & Public Services; Avior Corporate Park is a Commercial; Oberoi Enigma is a Landuse: Construction; Vasant Oscar CHS is a Residential; Marathon Galaxy is a Residential; Ashok Industrial Estate is a Industrial; Friends Academy is a Commercial; Park Royale is a Residential; Kalpataru Elitus is a Landuse: Construction; Sheth Montana is a Residential; Forest Department Rest House is a Residential; Sagar Garden CHSL is a Residential; Softesule Private Limited is a Industrial; Marathon Millenia is a Landuse: Construction; Asma Steel Industries is a Industrial; Mulund Darshan CHS is a Residential; BMC Garden is a Leisure & Entertainment; BMC School is a Educational; Sri Guru Nanak Sachkhand Darbar Dharamsheel Community Hall is a Leisure & Entertainment; Friends Academy is a Landuse: Recreation_ground; HDIL Whispering Towers is a Landuse: Construction; The Nest CHS is a Residential; Parmeshwari Centre is a Commercial; Kamble Chawl is a Residential; Malik Compound is a Industrial; Runwal Infinity is a Landuse: Construction; Hill Residency is a Residential; Laxman Baug is a Residential; Ambar Lok Rachna CHS is a Residential; Vasundhara Lok Rachna is a Residential; Lok Rachna Complex is a Residential; Rachna Garden is a Residential; Shree Sthulbadhra Krupa Labdi Jain International School is a Educational; Jai Shastri Nagar CHS is a Residential; Dreamland Society is a Residential; Samata Apartments is a Residential; BMC Manoranjan Maidan is a Leisure & Entertainment; Ganesh Darshan is a Residential; Shri Dasmesh Public School is a Educational; Pandit Jawaharlal Nehru Shatabdi Udyan is a Leisure & Entertainment; Prem Industries is a Industrial; Hanumanpada School is a Educational; Mulund Camp BMC School is a Educational; Bright Buds Play School is a Educational; Nimbkar CHS is a Residential; Lok Aangan is a Residential; Sanjay Gandhi (Borivilli) National Park is a Leisure & Entertainment; "
          ],
          [
           "Saidhanhospital Iccu and Eye Care is a Healthcare; Chandraganga Hospital  Mulund is a Healthcare; Jatashankar Wadi is a Residential; Post Office is a Government & Public Services; Campus Hotel is a Food & Drink; Ruchi Hotel is a Food & Drink; Aparna nishad is a Residential; Sagar Prasad CHS is a Residential; Bansuri is a Food & Drink; Open Gym is a Leisure & Entertainment; Palm akers hall is a Leisure & Entertainment; Municipal Solid waste management office T ward is a Commercial; Dr. Sabnis Maternity and Nursing Home is a Healthcare; Vaibhav Village is a Food & Drink; Shivraj Fine and Dine is a Food & Drink; Mulund Nursing Home is a Healthcare; Anant Seva Hospital is a Healthcare; Gomathi Eye & Cornea Centre is a Healthcare; Waman roa is a Educational; Estacy is a Commercial; Sau Laxmibai is a Educational; Yashwantroa Dode is a Educational; EFC shawarma is a Food & Drink; I Love Mulund is a Leisure & Entertainment; Orthomax Super Speciality Center is a Healthcare; Bake N Bite is a Food & Drink; Kirtida Stationary Shop is a Commercial; Mulund Dumping Ground is a Landuse: Landfill; Mental Hospital is a Healthcare; Kamdhenu Complex is a Residential; Dr. Chintamani Deshmukh Garden is a Leisure & Entertainment; RPF Reserve Line - Mulund is a Landuse: Military; Raje Sambhaji Ground is a Leisure & Entertainment; Gavanpada Fire Station is a Government & Public Services; Manoranjan is a Leisure & Entertainment; Neelam Nagar  Swimming Pool is a Leisure & Entertainment; Romell Vasanthi is a Residential; City Of Joy is a Commercial; Sri Ma Bal Niketan is a Educational; Mulund Abhyasika is a Educational; LOK EVEREST C3 is a Residential; Kopri Police Station is a Government & Public Services; Nalanda Public School is a Educational; R R Patil Garden is a Leisure & Entertainment; Octroi is a Commercial; chintamani Garden is a Leisure & Entertainment; Mulund Shriram CHS is a Residential; tmc garden is a Leisure & Entertainment; Lotus Lake is a Natural; Chatrapati Shivaji Maharaj Ground is a Leisure & Entertainment; joggers park is a Leisure & Entertainment; Gandhinagar park is a Leisure & Entertainment; Mulund Gymkhana is a Leisure & Entertainment; Laxmibai School is a Educational; V.D. SAWARKAR HOSPITAL is a Healthcare; Lok Kedar is a Residential; Lok Everest is a Residential; Nilam Nagar is a Residential; Pandurang B Bhoir Lake is a Natural; BMC Reserved Area Play Ground is a Leisure & Entertainment; Kopri Police Ground is a Leisure & Entertainment; Soham Park Private Pool is a Leisure & Entertainment; Vamanraow Muranjan Junior College is a Educational; LOK EVEREST B3 is a Residential; Brighton Towers is a Residential; Soham Park is a Residential; Nutan CHS is a Residential; West Wood Heights is a Landuse: Construction; Sri Samarth Villa is a Residential; Palm Aker Society is a Residential; Palm Acres - K is a Residential; "
          ],
          [
           "Sahakari Bhandar is a Commercial; Kanhaiya Nahar is a Residential; Vaibhav Village is a Food & Drink; Shivraj Fine and Dine is a Food & Drink; New Oasis CHS is a Residential; Lifeline Medico is a Commercial; Kamal Medico is a Commercial; Dr Yeolekar Dental Clinic is a Healthcare; Dr Swapna's Dental Clinic is a Healthcare; Chpostix is a Food & Drink; Mulund Dumping Ground is a Landuse: Landfill; Kamdhenu Complex is a Residential; Manoranjan is a Leisure & Entertainment; NITTRO is a Leisure & Entertainment; Nalanda Public School is a Educational; R R Patil Garden is a Leisure & Entertainment; Octroi is a Commercial; APJ Abdul Kalam Entertainment Park is a Leisure & Entertainment; Pandurang B Bhoir Lake is a Natural; BMC Reserved Area Play Ground is a Leisure & Entertainment; Kanhaiya Nagar is a Residential; Hariom Nagar BMC Playground is a Leisure & Entertainment; Gajaraj is a Residential; Soham Park Private Pool is a Leisure & Entertainment; Aditya Park is a Residential; Yoga Shade is a Leisure & Entertainment; MHADA is a Residential; Ratnashree Towers is a Residential; Brighton Towers is a Residential; Millenium Park is a Residential; Soham Park is a Residential; Kopri Electric Bus Depot is a Industrial; Kaveri Vrundawan is a Leisure & Entertainment; Thane Creek Flamingo WLS is a Leisure & Entertainment; "
          ],
          [
           "Thane Creek Flamingo WLS is a Leisure & Entertainment; "
          ],
          [
           "Here Technologies is a Commercial; Hindustan Times is a Commercial; Schneider Electric India Pvt Ltd is a Commercial; Sulzer pump India Pvt Ltd is a Commercial; Patni Ground is a Leisure & Entertainment; Digha  Pond is a Natural; Gigaplex Garden is a Leisure & Entertainment; Gigaplex Building no. 2 is a Commercial; Gigaplex Building no. 3 is a Commercial; Gigaplex Building no. 4 is a Commercial; Digha Railway Station is a Landuse: Construction; Hindustan Times is a Industrial; "
          ],
          [
           "InterProducTec Virtual Labs Pvt. Ltd. is a Commercial; Hindustan Times is a Commercial; होटल मुंबई हाउस ऐरोली  नवी मुम्बई is a Leisure & Entertainment; एल.बी.एस. विद्यालय is a Educational; रागेश इंजीनियरिंग is a Commercial; होटल आमंत्रण is a Food & Drink; दीघा एलथनपाड़ा श्मशान घाट is a Commercial; सुरेश इंजीनियरिंग वर्क्स is a Leisure & Entertainment; जेजीडी एंटरप्राइजेज is a Leisure & Entertainment; विनायक किराना एंड जनरल स्टोर is a Commercial; Schneider Electric India Pvt Ltd is a Commercial; Sulzer pump India Pvt Ltd is a Commercial; Liberty Tower is a Commercial; Digha  Pond is a Natural; Vodafone Datacenter is a Industrial; Reliable Tech Park is a Commercial; The A Team Sports & Events - Multi-Sports Turf Ground Airoli is a Leisure & Entertainment; Empire Tower is a Commercial; Hindustan Times is a Industrial; Parsik Hills is a Landuse: Forest; "
          ],
          [
           "एल.बी.एस. विद्यालय is a Educational; रागेश इंजीनियरिंग is a Commercial; दीघा एलथनपाड़ा श्मशान घाट is a Commercial; सुरेश इंजीनियरिंग वर्क्स is a Leisure & Entertainment; जेजीडी एंटरप्राइजेज is a Leisure & Entertainment; विनायक किराना एंड जनरल स्टोर is a Commercial; Parsik Hills is a Landuse: Forest; "
          ],
          [
           "Siddiqui Nursing Home is a Healthcare; Qamar Nursing Home is a Healthcare; Mittal Cricket Ground is a Leisure & Entertainment; Mumbra Landmark is a Residential; Parsik Hills is a Landuse: Forest; "
          ],
          [
           "Thane Creek is a Natural; Mittal Cricket Ground is a Leisure & Entertainment; TMC Kausa Health Centre is a Healthcare; TMC School 31 is a Educational; Maulana Abul Kalaam Azad Sports Stadium is a Leisure & Entertainment; Fatima Enclave is a Residential; Vista Valley is a Residential; Sukoon Heights is a Residential; Grace Square is a Residential; "
          ],
          [
           "Thane Creek is a Natural; Diva Dumping Ground is a Landuse: Landfill; Shree Vignaharta Residency is a Residential; Sudama Greens is a Residential; Shiv Amrut is a Residential; Sudama Regency is a Residential; "
          ],
          [
           "Diva Dumping Ground is a Landuse: Landfill; Sudama Greens is a Residential; Shiv Amrut is a Residential; Sudama Regency is a Residential; "
          ],
          [
           "Serena is a Residential; Majestica is a Residential; Riviera is a Residential; Magnifica is a Residential; Suprema is a Residential; Venecia is a Residential; Eleganta is a Residential; Regalia is a Residential; Excellencia is a Residential; Venezia is a Residential; Alura is a Residential; Primia is a Residential; Spectra is a Residential; Crestia is a Residential; Europa is a Residential; Utopia is a Residential; Elitra is a Residential; Platina is a Residential; Vento is a Residential; Prado is a Residential; Terreno is a Residential; Nuevo is a Residential; Ramano is a Residential; Lodha Golflinks is a Residential; Bungalows is a Residential; Palava Phase 1 is a Residential; Runwal My City is a Residential; "
          ],
          [
           "Hotel Chetna हॉटेल चेतना is a Food & Drink; Hotel Kushala Executive Inn हॉटेल कुशला एक्झिक्यूटिव्ह इन is a Leisure & Entertainment; HOTEL Kushala Paradise हॉटेल कुशला पॅरेडाइज् is a Food & Drink; MGM Hospital is a Healthcare; Bijankur Hospital is a Healthcare; Nilaje Lake is a Natural; Spectra is a Residential; Crestia is a Residential; Europa is a Residential; Elitra is a Residential; Platina is a Residential; Lodha Golflinks is a Residential; Palava Phase 1 is a Residential; Runwal My City is a Residential; "
          ],
          [
           "Hotel Kushala Executive Inn हॉटेल कुशला एक्झिक्यूटिव्ह इन is a Leisure & Entertainment; HOTEL Kushala Paradise हॉटेल कुशला पॅरेडाइज् is a Food & Drink; "
          ],
          [
           "Girnar Sweets and Snacks is a Commercial; Jumbo King is a Food & Drink; Padharo Sa Sweets And Snacks is a Food & Drink; Wellness Forever is a Commercial; Casa Lakeside A is a Residential; Casa Lakeside B is a Residential; Casa Lakeside C is a Residential; Casa Lakeside D is a Residential; Casa Vista is a Residential; Casa Viento is a Residential; Casa Lagoona is a Residential; Casa Lakeside is a Residential; Casa Regalia is a Residential; Casa Primia is a Residential; Casa Elite is a Residential; Casa Uno is a Residential; Lodha Crown is a Residential; Palava Phase 2 is a Residential; "
          ],
          [
           "Malad Creek is a Natural; INS Hamla is a Landuse: Military; Aksa Beach is a Natural; "
          ],
          [
           "All India Radio - AIR is a Industrial; Ambhojwadi is a Residential; "
          ],
          [
           "All India Radio - AIR is a Industrial; Malvani BEST Bus Depot is a Industrial; Ambhojwadi is a Residential; New Babrekar nagar is a Residential; Ashiana Apt is a Residential; Maa Building is a Residential; Apna Ghar Apt is a Residential; Samna nagar is a Residential; Bungalow Masjid is a Residential; la faliz is a Residential; "
          ],
          [
           "Malad Creek is a Natural; Malvani BEST Bus Depot is a Industrial; Samna nagar is a Residential; "
          ],
          [
           "Goregaon Sports Club is a Leisure & Entertainment; Croma is a Commercial; Cafe Coffee Day is a Food & Drink; Solitaire 2 is a Residential; Solitaire 1 is a Residential; Saraswati Hospital  Mumbai is a Healthcare; DMart is a Commercial; Goregaon West is a Residential; Tango Fast Food and Juice Center is a Food & Drink; Copper Chimney is a Food & Drink; WeWork is a Commercial; Malad Creek is a Natural; Goregaon Sport Complex is a Leisure & Entertainment; Bhujawale Lake is a Natural; Palm Court is a Residential; Croma Mall is a Retail; Paradigm B is a Commercial; Paradigm A is a Commercial; IJMIMA is a Commercial; Interface 7 is a Commercial; Interface 16 is a Commercial; H wing is a Residential; Malad BEST Bus Depot is a Industrial; Toutle Space Malad is a Commercial; Tandon's Residence is a Residential; Bhamshah Apartment is a Residential; Infiniti Mall Malad is a Commercial; Evershine Mall is a Commercial; goregaon sports club cricket ground is a Landuse: Recreation_ground; Tango Fast Food and Juice Center is a Commercial; "
          ],
          [
           "Solitaire 2 is a Residential; Solitaire 1 is a Residential; D G Khetan International School is a Educational; Legacy of Mumbai is a Food & Drink; Dr.Guptas Nursing Home is a Healthcare; Abhijit Hospital is a Healthcare; The Laser Vision Centre is a Healthcare; Saraswati Hospital  Mumbai is a Healthcare; Kumta Eye and Retina Clinic and Laser Center is a Healthcare; Manish Nursing Home  Mumbai is a Healthcare; Aditi Hospital  Mumbai is a Healthcare; Jay Polyclinic Maternity Surgical Nursing Home and Eye Hospital is a Healthcare; Elite Maternity Home and Polyclinic is a Healthcare; Rahul Eye Clinic is a Healthcare; AR Hospital Orthopaedic & ICU is a Healthcare; Vivanta Multispeciality Hospital is a Healthcare; L. M Patel Eye Hospital is a Healthcare; Lodha Clinic is a Healthcare; Savla Hospital is a Healthcare; Dr. Amit Jain renowned Spine specialist in mumbai is a Healthcare; Tango Fast Food and Juice Center is a Food & Drink; WeWork is a Commercial; Goregaon Sport Complex is a Leisure & Entertainment; Bhujawale Lake is a Natural; Liberty Garden is a Leisure & Entertainment; Madhur Society is a Residential; Malad BEST Bus Depot is a Industrial; Jay Kiran is a Residential; Kingston Tower is a Residential; Kingston Classic B/Kingston Heights c is a Residential; Simplex Khushangan is a Residential; AYOJAN NAGAR is a Residential; Shri Sahakar is a Residential; Mai Bhuvan is a Residential; Kala Kendra is a Commercial; Bhamshah Apartment is a Residential; Moreshwar Dham is a Residential; janhavi nursing home is a Healthcare; Jay Mala is a Residential; Shahaji park is a Leisure & Entertainment; rai pada is a Leisure & Entertainment; Infiniti Mall Malad is a Commercial; Evershine Mall is a Commercial; aarogyam dhanasampada is a Leisure & Entertainment; chawl is a Residential; DANDELIONS APARTMENT is a Residential; Tango Fast Food and Juice Center is a Commercial; "
          ],
          [
           "Legacy of Mumbai is a Food & Drink; Dr.Guptas Nursing Home is a Healthcare; Megha Surgical Hospital is a Healthcare; Anandpara Surgical and General Hospital is a Healthcare; Sudha Hospital and Polyclinic  Mumbai is a Healthcare; Jeevan Maternity and Genral Hospital is a Healthcare; Sai Krupa Hospital  Mumbai is a Healthcare; Sanjeevani Surgical and General Hospital is a Healthcare; Sanjeevani Chandrabhan Agrawal Charitable Trust Eye Hospital is a Healthcare; Krishna Eye Care Centre is a Healthcare; Kumta Eye and Retina Clinic and Laser Center is a Healthcare; Manish Nursing Home  Mumbai is a Healthcare; Jay Polyclinic Maternity Surgical Nursing Home and Eye Hospital is a Healthcare; Devangi Hospital is a Healthcare; Elite Maternity Home and Polyclinic is a Healthcare; Royal Health Care Pvt Ltd is a Healthcare; Shah Eye Clinic and Microsurgery Centre is a Healthcare; AR Hospital Orthopaedic & ICU is a Healthcare; M.W. Desai Municipal General Hospital is a Healthcare; Pahadi Health Post is a Healthcare; L. M Patel Eye Hospital is a Healthcare; Balajee Hospital is a Healthcare; Savla Hospital is a Healthcare; Passport Seva Kendra is a Commercial; Vahaan Travels is a Commercial; Pawar Fast Food is a Food & Drink; Shaikh Cafe is a Food & Drink; Ram Leela Maidan is a Leisure & Entertainment; Kasambaug is a Leisure & Entertainment; Sardar vallabhai patel udyan is a Leisure & Entertainment; Shiv krupa is a Residential; Aashirwad is a Residential; Raheja tipco heights is a Residential; Hawa Hira is a Residential; Ashoka General Hospital I.C.C.U and Maternity Home is a Healthcare; Sumit Pramukh is a Residential; Ghanshyamdas Jalan College of Science & Commerce is a Residential; Simplex Khushangan is a Residential; Leela Ashish is a Residential; Kala Kendra is a Commercial; Sanskruti is a Residential; Ratnapuri is a Residential; Hira Kutir CHSL is a Residential; Neelyog Ashiyana is a Residential; Devdarshan is a Residential; Shahaji park is a Leisure & Entertainment; rai pada is a Leisure & Entertainment; Tower 4 is a Residential; Tower 3 is a Residential; Tower 1 is a Residential; Tower 2 is a Residential; Podium Area is a Residential; Kanakia Levels is a Residential; Poddar Park is a Leisure & Entertainment; Poddar Academy's Playground is a Leisure & Entertainment; Cafe Coffee Day is a Food & Drink; Mahindra Nagar Ground is a Leisure & Entertainment; Sanjay Gandhi Playing Ground is a Leisure & Entertainment; "
          ],
          [
           "Dindoshi Police station is a Government & Public Services; Hyat Hosptal is a Healthcare; parekh nagar is a Residential; Suvidha Hospital and Iccu is a Healthcare; Kairav Nursing Home is a Healthcare; Sai Swayam MatandNur Home is a Healthcare; Sai Krupa Hospital  Mumbai is a Healthcare; Bittoo Clinic is a Healthcare; New Nari Hospital is a Healthcare; Balajee Hospital is a Healthcare; Aastha Maternity is a Healthcare; Shree Ram Shyam Clinic is a Healthcare; Passport Seva Kendra is a Commercial; Pathanwadi Muncipal Park is a Leisure & Entertainment; Dindoshi BEST Bus Depot is a Industrial; Kasambaug is a Leisure & Entertainment; Sardar vallabhai patel udyan is a Leisure & Entertainment; Shiv krupa is a Residential; Aashirwad is a Residential; Raheja tipco heights is a Residential; Raghav is a Residential; Janak Cooperative Housing Society is a Residential; Gardenia is a Residential; Orchid is a Residential; Neelyog Ashiyana is a Residential; mona apparment is a Residential; nova appartment is a Residential; Mauli Sapphire is a Residential; Aster Tower is a Residential; Devdarshan is a Residential; Express Zone Mall is a Commercial; Baba Shaheb Bhimrao Ambedkar Park is a Leisure & Entertainment; Sagar Heights is a Residential; Mauli Omkar is a Residential; CJR Orile is a Residential; Tower 4 is a Residential; Tower 3 is a Residential; Tower 1 is a Residential; Tower 2 is a Residential; Podium Area is a Residential; Omkar Alta Monte Tower C is a Residential; Slum is a Residential; Omkar Alta Monte Tower A is a Residential; Omkar Alta Monte Tennis Court is a Residential; Kanakia Levels is a Residential; "
          ],
          [
           "parekh nagar is a Residential; Suvidha Hospital and Iccu is a Healthcare; Savitri Bai Phule BMC Hospital  Malad East is a Healthcare; Shree Sai Clinic is a Healthcare; Aastha Maternity is a Healthcare; Shree Ram Shyam Clinic is a Healthcare; Sai Clinic and Day Care Centre is a Healthcare; raheja clubhouse is a Leisure & Entertainment; Jahur Arts is a Commercial; Infinity Park is a Commercial; Water Reservoir is a Industrial; mona apparment is a Residential; nova appartment is a Residential; Mauli Sapphire is a Residential; Raheja Residency E wing is a Residential; Raheja Residency is a Residential; Sheila Raheja Garden is a Leisure & Entertainment; Sagar Heights is a Residential; Mauli Omkar is a Residential; CJR Orile is a Residential; Slum is a Residential; JP Decks is a Residential; Suchidham Complex is a Residential; Sanjay Gandhi (Borivilli) National Park is a Leisure & Entertainment; "
          ],
          [
           "Indira Clinic is a Healthcare; raheja clubhouse is a Leisure & Entertainment; sa is a Food & Drink; Infinity Park is a Commercial; Water Reservoir is a Industrial; Raheja Heights E wing is a Residential; Raheja Heights A wing is a Residential; Raheja Heights C wing is a Residential; Raheja Heights B wing is a Residential; Raheja Heights D wing is a Residential; Raheja Heights F wing is a Residential; Raheja Heights G wing is a Residential; Raheja Heights H wing is a Residential; Raheja Residency A wing is a Residential; Raheja Heights is a Residential; Raheja Residency E wing is a Residential; Raheja Residency D wing is a Residential; Raheja Residency is a Residential; Sheila Raheja Garden is a Leisure & Entertainment; Sanjay Gandhi (Borivilli) National Park is a Leisure & Entertainment; "
          ],
          [
           "Infinity Park is a Commercial; Sanjay Gandhi (Borivilli) National Park is a Leisure & Entertainment; "
          ],
          [
           "Tulsi Lake is a Landuse: Reservoir; "
          ],
          [
           "Tulsi Lake is a Landuse: Reservoir; "
          ],
          [
           "Mulund Peak is a Natural; "
          ],
          [
           "Mulund Peak is a Natural; Goldenstar Banquet Hall is a Food & Drink; Vertex Hospital is a Healthcare; L'amor is a Food & Drink; Cyprus Hills is a Natural; Kartik' Juice center is a Food & Drink; Siddhivinayak Stores is a Commercial; Palm is a Natural; Sainath Provisions is a Commercial; Satgurubaba General Stores is a Commercial; Janata Madhur Jalpan Vada Pav is a Food & Drink; Jalaram Dhokla House is a Food & Drink; Kamble General Stores is a Commercial; Rajshree Grain And Provision Stores is a Commercial; Johnson & Johnson is a Industrial; Golden Willows is a Residential; Silver Birch is a Residential; Sita Kutir CHS is a Residential; Sumati Dham is a Residential; Himgiri CHS is a Residential; Cypress Society is a Residential; Pencil towers is a Residential; Sardar Pratap Singh Manoranjan Maidan is a Leisure & Entertainment; Golden Willows Club Swimming Pool is a Leisure & Entertainment; Yogi Hills is a Residential; ESIS Hospital is a Healthcare; NES National Public School is a Educational; Cypress CHS is a Residential; Open Air Theatre is a Leisure & Entertainment; The Prestige City  Mulund is a Landuse: Construction; veena nagar bmc school is a Educational; NES Internation School is a Educational; Ganesh Darshan is a Residential; Shri Dasmesh Public School is a Educational; Prem Industries is a Industrial; Hanumanpada School is a Educational; Mulund Camp BMC School is a Educational; Nimbkar CHS is a Residential; Vishram Dham is a Residential; Sanjay Gandhi (Borivilli) National Park is a Leisure & Entertainment; "
          ],
          [
           "Big Bazar is a Commercial; Janana Sarita School Ground is a Educational; Lohana Kanya Shala School is a Educational; Nav Bharat School is a Educational; Indraprastha Hall is a Leisure & Entertainment; Nike Factory Outlet is a Commercial; PVR is a Leisure & Entertainment; Ashapura is a Food & Drink; Arogya Health Care is a Healthcare; Padmashree Nursing Home (Mulund) is a Healthcare; Aastha Health Care  Mumbai is a Healthcare; Anmmol Orthovision is a Healthcare; Dr.Redkar's Maternity and Nursing Home is a Healthcare; Vertex Hospital is a Healthcare; haria supermarket is a Commercial; Rmall is a Commercial; Lala Tulsiram Aggarwal is a Leisure & Entertainment; JJ Academy is a Educational; Tir is a Leisure & Entertainment; Johnson & Johnson is a Industrial; Lala Tulsiram Park is a Leisure & Entertainment; Golden Willows is a Residential; Silver Birch is a Residential; Sita Kutir CHS is a Residential; Sumati Dham is a Residential; Himgiri CHS is a Residential; Cypress Society is a Residential; Amardeep is a Residential; Balrajeshwar Apartments is a Residential; Tirumala is a Residential; Veena nagar is a Residential; Vishram Tower is a Residential; Pencil towers is a Residential; Golden Willows Club Swimming Pool is a Leisure & Entertainment; Yogi Hills is a Residential; R Mall is a Commercial; Municipal Hospital is a Landuse: Construction; Johnson & Johnson Garden is a Leisure & Entertainment; ESIS Hospital is a Healthcare; NES National Public School is a Educational; Cypress CHS is a Residential; Next School is a Educational; Dayanand High School & Junior College is a Educational; Sheth Nathulala Trust Gaushala is a Landuse: Farmland; Apurva Apartments is a Residential; Govardhan Nagar is a Residential; The Prestige City  Mulund is a Landuse: Construction; Tirumula Habitat is a Residential; Shapoorji Pallonji Mulund is a Residential; bmc park is a Leisure & Entertainment; veena nagar bmc school is a Educational; SH Kelkar Company Ltd. is a Industrial; Bhavani Farsan and Sweet Mart is a Food & Drink; NES Internation School is a Educational; Shivram CHS is a Landuse: Construction; Shivkrupa CHS is a Landuse: Construction; Nemisuri Maharajsaheb Garden is a Leisure & Entertainment; Runwal Anthurium is a Residential; Runwal R Square is a Commercial; Vikas Paradise is a Residential; Vrindavan Manoranjan Udyan is a Leisure & Entertainment; Vaishali Nagar Ghettos is a Residential; Nimbkar CHS is a Residential; Vishram Dham is a Residential; "
          ],
          [
           "Big Bazar is a Commercial; TIP TOP Plaza is a Food & Drink; Janana Sarita School Ground is a Educational; Lohana Kanya Shala School is a Educational; Nav Bharat School is a Educational; CROMA is a Commercial; Vijay Sales is a Commercial; Cafe Coffee Day is a Food & Drink; Radha Krishna Pure Veg is a Food & Drink; Modela Mill Ground is a Leisure & Entertainment; Wagle Estate Post Office is a Government & Public Services; Nike Factory Outlet is a Commercial; PVR is a Leisure & Entertainment; Joyalukkas is a Commercial; Ashapura is a Food & Drink; Arogya Health Care is a Healthcare; Ria Nursing Home is a Healthcare; Dhanwantary Hospital and ICCU is a Healthcare; Platinum Hospitals is a Healthcare; Manawata Hospital and Smt Nalinighag Maternity is a Healthcare; Dr. Muddebihalkar Hospital and Iccu is a Healthcare; F.T. Solutions Pvt. Ltd. is a Commercial; Rmall is a Commercial; Testbuds is a Food & Drink; St. Gregorios School Canteen is a Food & Drink; AC repair shop is a Commercial; Ac repair shop is a Commercial; Mental Hospital is a Healthcare; Rayladevi Lake is a Natural; City Of Joy is a Residential; Mulund Octroi Naka is a Commercial; Mulund Police Station is a Government & Public Services; Morbi Wala Sweet Shop is a Commercial; Riddhi Siddhi Apts is a Residential; Balrajeshwar Apartments is a Residential; NEST BENQUATE HALL is a Government & Public Services; Savoy is a Residential; Amalfi is a Residential; R Mall is a Commercial; Dumping Ground is a Landuse: Landfill; Barku Govind Patil Udyan is a Leisure & Entertainment; Color Scape Mall is a Commercial; Lok Kailash is a Residential; Lok Kedar is a Residential; Lok Everest is a Residential; Tahsildar Kurla (Mulund) Office is a Commercial; Hindu Smashan Bhumi is a Landuse: Cemetery; Metropolitan Magistrate Court Mulund is a Government & Public Services; hotel is a Commercial; Raheja Gardens is a Residential; SH Kelkar Company Ltd. is a Industrial; St Gregorios School Ground is a Leisure & Entertainment; Shanti Industrial Estate is a Commercial; Vikas Paradise is a Residential; Vrindavan Manoranjan Udyan is a Leisure & Entertainment; ACC Ltd is a Industrial; Hospital Ground is a Leisure & Entertainment; hospital ground is a Leisure & Entertainment; mental hosp. ground is a Leisure & Entertainment; mental hospital park is a Leisure & Entertainment; hosp. grassland is a Natural; "
          ],
          [
           "Cinemax is a Leisure & Entertainment; Bhawani General Store is a Commercial; Vodafone Gallery is a Commercial; Acharya Atre Katta is a Leisure & Entertainment; Pooja Nursing Home - Thane is a Healthcare; Dr.Pathak's Hospital is a Healthcare; THC-Thane Health Care is a Healthcare; Vaidya Maternity Home is a Healthcare; OrthoSpine Clinic is a Healthcare; Dr Milind Patils Revival Bone and Joint Hospital is a Healthcare; Deodhar Hospitals Pvt. Ltd is a Healthcare; Dr.Paradkar Hospital is a Healthcare; Sai Ganesh Hospital  Thane is a Healthcare; Horizon Hospital is a Healthcare; Jeevan Jyot Hospital is a Healthcare; Ficus variety is a Natural; F.T. Solutions Pvt. Ltd. is a Commercial; Anant Seva Hospital is a Healthcare; Shrub Vinca is a Natural; Areca Palm is a Natural; Kala Kuda is a Natural; Bake N Bite is a Food & Drink; Thane Railway Station is a Landuse: Railway; Mental Hospital is a Healthcare; Neelam Nagar  Swimming Pool is a Leisure & Entertainment; Rekha Villa is a Residential; Shreyanand is a Residential; Sri Ma Bal Niketan is a Educational; LOK EVEREST C3 is a Residential; Kopri Police Station is a Government & Public Services; Parag is a Residential; Jay Ambika Darshan is a Residential; Jijau Udyan is a Leisure & Entertainment; tmc garden is a Leisure & Entertainment; Lotus Lake is a Natural; Chatrapati Shivaji Maharaj Ground is a Leisure & Entertainment; Gandhinagar park is a Leisure & Entertainment; Ganesh Udyan Park is a Leisure & Entertainment; Jesth Nagrik Park is a Leisure & Entertainment; Lok Kailash is a Residential; Lok Kedar is a Residential; Lok Everest is a Residential; Nilam Nagar is a Residential; Anand Dighe Mini Stadium is a Landuse: Recreation_ground; Kopri Police Ground is a Leisure & Entertainment; Thane Gymkhana Officers Club is a Leisure & Entertainment; Industrial Training Institute (ITI) is a Educational; Saraswati Niwas is a Residential; Kamla Smruti is a Residential; Gajaraj is a Residential; Sapna is a Residential; Dattaji Salvi Botanical Garden is a Leisure & Entertainment; Eternity Mall is a Commercial; Kanakia Eternity is a Residential; Jagruti Playground is a Leisure & Entertainment; LOK EVEREST B3 is a Residential; Raheja Gardens is a Residential; gokul is a Residential; dhriti bldg is a Residential; St Gregorios School Ground is a Leisure & Entertainment; ACC Ltd is a Industrial; Hospital Ground is a Leisure & Entertainment; hospital ground is a Leisure & Entertainment; mental hosp. ground is a Leisure & Entertainment; mental hospital park is a Leisure & Entertainment; hosp. grassland is a Natural; "
          ],
          [
           "Thane Railway Station Post office is a Government & Public Services; medos is a Food & Drink; Cafe Coffee Day is a Food & Drink; Kanhaiya Nahar is a Residential; Dr Babasaheb Ambedkar is a Leisure & Entertainment; Maitri Hotel is a Food & Drink; Titan Eye Plus is a Commercial; New Oasis CHS is a Residential; Dr Bhanushali Hospital is a Healthcare; Bhaskar Eye and Lens Implant Clinic is a Healthcare; Dr. Narkhedes Advance Ent Centre is a Healthcare; Snehal Hospital  Thane is a Healthcare; Library is a Educational; Gulshan Fotos is a Commercial; Chavan Footwear is a Commercial; Prajakta Poli Bhaji Kendra is a Food & Drink; Dentexel is a Healthcare; Vaval is a Natural; Revo Institute is a Commercial; Yewale is a Commercial; Dr Vaisya Eye Center is a Healthcare; Lifeline Medico is a Commercial; Kamal Medico is a Commercial; Vinayak is a Commercial; Radhakrishna Hospital is a Healthcare; Samruddhi is a Commercial; Shree Krupa Poli Bhaji is a Food & Drink; Fitness Factory Gym is a Leisure & Entertainment; Chitale Xpress is a Commercial; Thane East Post Office is a Government & Public Services; Railway Ticket Counter is a Commercial; Dr Yeolekar Dental Clinic is a Healthcare; Dr Swapna's Dental Clinic is a Healthcare; Patel Coffee House is a Food & Drink; Bapu Vadapav is a Food & Drink; Vijay Snacks is a Food & Drink; Medivision Sonography Centre is a Healthcare; Areca Palm is a Natural; PICKMYURL Digital Marketing Agency is a Commercial; Bhanushali hospital is a Healthcare; Anand Talkies is a Leisure & Entertainment; Chpostix is a Food & Drink; Thane Railway Station is a Landuse: Railway; canteen is a Food & Drink; Hariyali Talao is a Natural; Thane Station East SATIS is a Landuse: Construction; NITTRO is a Leisure & Entertainment; Ratnamani is a Residential; Rekha Villa is a Residential; Bhagirathi Smruti is a Residential; Ishan Arcade 2 is a Commercial; Shreyanand is a Residential; Neelkamal is a Residential; Mo. Kru. Nakhawa High School is a Educational; Shanti Niketan is a Residential; Suyash is a Residential; Maitri Restaurent & Bar is a Food & Drink; Sujan is a Residential; Sadhana is a Residential; Kishorkunj is a Residential; Sangam is a Residential; Suprabhat is a Residential; Park view is a Residential; Pushpanjali is a Residential; Samruddhi is a Residential; Twins Hotel is a Residential; Svanand is a Residential; Abhijeet is a Residential; Rajdarshan-A is a Residential; Gautam Tower is a Residential; Nav Chintamani is a Residential; Trimuti Apartment is a Residential; Chaitanya is a Residential; Sadashiv Hights is a Residential; Kopri Police Station is a Government & Public Services; Anusaya is a Residential; Aparna is a Residential; Gurukrupa is a Residential; The Vein Center Thane is a Healthcare; Shree Kaustubh is a Residential; Siddharth Darshan is a Residential; Sai Sadan is a Residential; Parag is a Residential; Nav Santosh is a Residential; Arihant Tower is a Residential; Mughda is a Residential; Fire Station Thane (E) is a Government & Public Services; Jay Ambika Darshan is a Residential; APJ Abdul Kalam Entertainment Park is a Leisure & Entertainment; Lokmanya Tilak Udyan Park is a Leisure & Entertainment; Sarvoday Udyan is a Leisure & Entertainment; Raghuvir CHS is a Residential; Niranjanlal Dalmiya Udyan is a Leisure & Entertainment; Dr. Anandibai Gopalrao Joshi Abhyasika is a Educational; Pandit Ram Marathe Balodyyan is a Leisure & Entertainment; PES New English School is a Educational; Anand Dighe Mini Stadium is a Landuse: Recreation_ground; Sant Tukaram Ground is a Leisure & Entertainment; Kopri Police Ground is a Leisure & Entertainment; Thane Gymkhana Officers Club is a Leisure & Entertainment; Aarogyam Multispeciality Hospital  Thane is a Healthcare; Ankur Hospital is a Healthcare; Thane Railway Reservation Office is a Commercial; Ashok Cinema is a Leisure & Entertainment; The United Sports Club is a Leisure & Entertainment; Aradhana is a Residential; Kanhaiya Nagar is a Residential; Ma Vaishnavi is a Healthcare; Industrial Training Institute (ITI) is a Educational; Vidyasagar Education Soc is a Educational; Saraswati Niwas is a Residential; Kamla Smruti is a Residential; Hariom Nagar BMC Playground is a Leisure & Entertainment; Gajaraj is a Residential; Kiran is a Residential; Anant Laxmi Chambers is a Residential; Siddhashram is a Residential; Sapna is a Residential; SWEETY is a Commercial; Ishan Arcade 1 is a Commercial; Aditya Park is a Residential; Mangala Highschool is a Educational; Tea Tapri - Krishna is a Food & Drink; Vinayak Co-Op Housing society is a Residential; MHADA is a Residential; Millenium Park is a Residential; Kishinchand Chellaram College is a Educational; Namdev Niwas is a Residential; Ambika Bhavan is a Residential; Crystal Court is a Commercial; Gaondevi Market is a Retail; Panama Planet is a Retail; Rajdarshan-B is a Residential; Kopri Electric Bus Depot is a Industrial; "
          ],
          [
           "Library is a Educational; Prajakta Poli Bhaji Kendra is a Food & Drink; Vinayak is a Commercial; Shree Krupa Poli Bhaji is a Food & Drink; Thane East Post Office is a Government & Public Services; Thane Railway Station is a Landuse: Railway; Mo. Kru. Nakhawa High School is a Educational; Sadashiv Hights is a Residential; s.s. garden is a Leisure & Entertainment; Raghuvir CHS is a Residential; Niranjanlal Dalmiya Udyan is a Leisure & Entertainment; Dr. Anandibai Gopalrao Joshi Abhyasika is a Educational; Pandit Ram Marathe Balodyyan is a Leisure & Entertainment; PES New English School is a Educational; Vinayak Co-Op Housing society is a Residential; Kishinchand Chellaram College is a Educational; "
          ],
          [
           "Here Technologies is a Commercial; वॉर्ड ऑफिस  दिघा is a Commercial; Capgemini Knowledge Park is a Commercial; Mukund Steel is a Industrial; Patni Ground is a Leisure & Entertainment; s.s. garden is a Leisure & Entertainment; Digha  Pond is a Natural; Gigaplex Building no. 2 is a Commercial; Gigaplex Building no. 3 is a Commercial; Gigaplex Building no. 4 is a Commercial; Green World is a Residential; Digha Railway Station is a Landuse: Construction; "
          ],
          [
           "वॉर्ड ऑफिस  दिघा is a Commercial; Mukund Steel is a Industrial; Schneider Electric India Pvt Ltd is a Commercial; Sulzer pump India Pvt Ltd is a Commercial; Vodafone Datacenter is a Industrial; Parsik Hills is a Landuse: Forest; "
          ],
          [
           "Parsik Hills is a Landuse: Forest; "
          ],
          [
           "Gautami Nursing Home is a Healthcare; Municipality Hospital  Mumbra is a Healthcare; Gulmohar Tree is a Natural; Badam Tree is a Natural; Jamun tree is a Natural; Unolkhi tree is a Natural; Unolkhi Tree is a Natural; Thane Creek is a Natural; THE RESIDENTIAL BUIDING is a Residential; MAK Company is a Industrial; Mumbra Post Office is a Government & Public Services; Mittal Cricket Ground is a Leisure & Entertainment; Mumbra Railway Station is a Landuse: Railway; Parsik Hills is a Landuse: Forest; "
          ],
          [
           "Thane Creek is a Natural; Mittal Cricket Ground is a Leisure & Entertainment; "
          ],
          [
           "Gangotri Apt is a Residential; Thane Creek is a Natural; talav is a Natural; Diva Dumping Ground is a Landuse: Landfill; Gangotri Apartment  A wing is a Residential; Gangotri apt c bing is a Residential; "
          ],
          [
           "Gangotri Apt is a Residential; Diva Dumping Ground is a Landuse: Landfill; Gangotri Apartment  A wing is a Residential; Gangotri apt c bing is a Residential; "
          ],
          [
           "AND Forever City is a Residential; "
          ],
          [
           "Serena is a Residential; Eleganta is a Residential; Excellencia is a Residential; Palava Phase 1 is a Residential; Runwal My City is a Residential; AND Forever City is a Residential; "
          ],
          [
           "Runwal Garden is a Residential; Runwal My City is a Residential; "
          ],
          [
           "G.R.Patil Vidyalaya is a Educational; Runwal Garden is a Residential; Rmall is a Commercial; "
          ],
          [
           "Palava Phase 2 is a Residential; "
          ],
          [
           "Malad Creek is a Natural; "
          ],
          [
           "Malad Creek is a Natural; INS Hamla is a Landuse: Military; Aksa Beach is a Natural; "
          ],
          [
           "INS Hamla is a Landuse: Military; All India Radio - AIR is a Industrial; St. Anthony's school playground is a Leisure & Entertainment; St. Anthony playground is a Commercial; St. Anthony Playground is a Landuse: Used by school and also by church; "
          ],
          [
           "Government Hospital  Malvani is a Healthcare; Rathodi Society Store is a Commercial; All India Radio - AIR is a Industrial; Gaondevi Lotus Talav is a Natural; Green Village is a Leisure & Entertainment; Bay Vue is a Residential; "
          ],
          [
           "Kharodi Post Office (India Post) is a Government & Public Services; Bahl Nursing Home - Malad (W) is a Healthcare; Holy Tree is a Natural; Mangalmurti Hospital is a Healthcare; STAR HOME  SUPERMARKET is a Commercial; FRIENDS KATTA is a Food & Drink; JYOTI MATCHING CENTER is a Commercial; Government Hospital  Malvani is a Healthcare; Momin Bakery is a Commercial; Arslan Shawarma King is a Food & Drink; Malad Creek is a Natural; Malwani Fire Station is a Government & Public Services; Charkop Metro Depot is a Industrial; Desai Garden is a Leisure & Entertainment; Palm Garden is a Leisure & Entertainment; Malvani Fire Station Recreation Ground is a Landuse: Recreation_ground; ASMITA JYOTI PARK is a Leisure & Entertainment; Asmita Jyoti is a Residential; BMC Park is a Leisure & Entertainment; Manush residency is a Residential; "
          ],
          [
           "Goregaon Sports Club is a Leisure & Entertainment; Croma is a Commercial; Navnit Motors is a Commercial; Spectra Motors Ltd is a Commercial; Peepli is a Natural; CIEM Industrial Estate is a Industrial; Pop Tate's is a Food & Drink; Timbuctoo Lounge is a Food & Drink; Dr Pagruts Fracture Orthopaedic and Surgical Hospital is a Healthcare; Zenith Hospital  Malad West is a Healthcare; Vinayak Maternity and General Hospital is a Healthcare; Apex Kidney Care Pvt. Ltd (Mira Road) is a Healthcare; Dr.Ronak Prakash Bhandari is a Healthcare; The Children's Hospital is a Healthcare; Gosalia Hospital is a Healthcare; Evershine Ortho & Surgical Hospital is a Healthcare; DMart is a Commercial; Navkar Skin Hair And Laser Clinic is a Healthcare; People's Gym is a Leisure & Entertainment; Movie Time is a Leisure & Entertainment; Copper Chimney is a Food & Drink; FR.JUSTIN DSOUZA GROUND is a Leisure & Entertainment; Mithi River is a Natural; Malad Creek is a Natural; MovieTime Cinema is a Leisure & Entertainment; Palm Court is a Residential; Croma Mall is a Retail; Interface 7 is a Commercial; Interface 16 is a Commercial; H wing is a Residential; Sai Baba Park is a Leisure & Entertainment; Abrol Vastu Park is a Residential; Neelkanth is a Residential; Kirit is a Residential; Snehsadan is a Residential; JBC is a Leisure & Entertainment; St. Anne's School is a Educational; St. Joseph's School  Orlem is a Educational; St.Anne's School Ground is a Leisure & Entertainment; Our Lady of Lourdes Church & St.Annes School Compound is a Educational; St. Joseph's School Compound is a Educational; Vastu Park & Vastu Tower is a Residential; Atlanta is a Residential; Rishabh is a Residential; Ajit is a Residential; Yash Mart is a Commercial; tastress is a Food & Drink; Haridwar CHS is a Residential; Tandon's Residence is a Residential; Nalanda Usha Colony is a Residential; Infiniti Mall Malad is a Commercial; Prathampad Housing Society is a Residential; Gurudwara is a Residential; Ryan International School ground (CBSE) is a Educational; Slum rehabilitation Area is a Residential; Ushma nagar is a Residential; Manush residency is a Residential; "
          ],
          [
           "Lifescan Imaging Centre is a Healthcare; Nataraj Market is a Commercial; Nagindas Khandwala College is a Educational; NL High School is a Educational; Municipal Corporation Liberty Garden School is a Educational; Navnit Motors is a Commercial; Spectra Motors Ltd is a Commercial; Peepli is a Natural; CIEM Industrial Estate is a Industrial; Orlem Dental Clinic is a Healthcare; Borivali Biryani Centre is a Food & Drink; Laxmi Vilas Hindu Hotel is a Food & Drink; Sparsh Paediatric And Orthopaedic Clinic is a Healthcare; Sahu Eye Hospital is a Healthcare; Dr Cassy Pawar is a Healthcare; Shah Nanji Virjii Store is a Commercial; Rosary House is a Residential; Shalom is a Residential; Zarine Palace is a Residential; Cherry’s Kitchen is a Food & Drink; Dr. Bet Hospital and Polyclinic is a Healthcare; Manorama Hospital is a Healthcare; Sunflowar Laboratory and Diagnostic Centre is a Healthcare; Adarsh Hospital  Mumbai is a Healthcare; Abhijit Hospital is a Healthcare; Vardhaman Iccu and Nursing Home is a Healthcare; Neon Critical Care is a Healthcare; Dr.Shyam Agrawal is a Healthcare; Riddhivinayak Critical Care and Cardiac Centre is a Healthcare; Shree Surgical and Maternity Nursing Home is a Healthcare; The Laser Vision Centre is a Healthcare; Saraogi Maternity and General Hospital is a Healthcare; Akshar Eye Clinic is a Healthcare; Aditi Hospital  Mumbai is a Healthcare; Surbhi Dental Clinic(Dr.Samata Dhuppad) is a Healthcare; Ishita Nursing Home is a Healthcare; Ahura Nursing Home is a Healthcare; Dr Panchals Ishita Nursing Home is a Healthcare; Apex Kidney Care Pvt. Ltd (Mira Road) is a Healthcare; Shah Fracture-Orthopaedic Hospital is a Healthcare; Lifeline Hospital  Mumbai is a Healthcare; The Children's Hospital is a Healthcare; Thunga Hospital is a Healthcare; Choksi Nursing Home is a Healthcare; Sun Hospital is a Healthcare; Local Eatery is a Food & Drink; Landmark Residency is a Leisure & Entertainment; Rasodu - The Ethnic Kitchen is a Food & Drink; Aspee Nutan English Medium School is a Educational; FR.JUSTIN DSOUZA GROUND is a Leisure & Entertainment; Liberty Garden is a Leisure & Entertainment; Cardinal Gracias Playground is a Leisure & Entertainment; JBC is a Leisure & Entertainment; St. Anne's School is a Educational; St. Joseph's School Ground is a Leisure & Entertainment; St. Joseph's School  Orlem is a Educational; St.Anne's School Ground is a Leisure & Entertainment; Our Lady of Lourdes Church & St.Annes School Compound is a Educational; St. Joseph's School Compound is a Educational; Eros Apt is a Residential; Jay Kiran is a Residential; Shankar Park is a Residential; Ajit is a Residential; RUSTOMJEE ADARSH REGAL A & B is a Residential; Mamlatdar Wadi is a Government & Public Services; AYOJAN NAGAR is a Residential; Prestige Industrial Estate is a Commercial; Moonlight is a Residential; Loureds Heritage is a Residential; Jay Mala is a Residential; svp garden is a Leisure & Entertainment; Adarsh garden is a Leisure & Entertainment; Fr. Salvador Rodrigues Ground is a Leisure & Entertainment; Slum rehabilitation Area is a Residential; hare krishna appartment is a Residential; aarogyam dhanasampada is a Leisure & Entertainment; DANDELIONS APARTMENT is a Residential; B. J. Patel Recreation Ground is a Leisure & Entertainment; "
          ],
          [
           "Lifescan Imaging Centre is a Healthcare; Nataraj Market is a Commercial; Nagindas Khandwala College is a Educational; NL High School is a Educational; Sharda Gyanpeeth International School is a Educational; St. Joseph High School is a Educational; St. George High School is a Educational; Universal High School is a Educational; PVR Milap is a Leisure & Entertainment; Manorama Hospital is a Healthcare; Megha Surgical Hospital is a Healthcare; Agrawal Clinic is a Healthcare; Suchak Hospital is a Healthcare; Darshan Orthopaedic and Surgical Clinic - Malad (W) is a Healthcare; Dr.Shyam Agrawal is a Healthcare; Jeevan Maternity and Genral Hospital is a Healthcare; Riddhivinayak Critical Care and Cardiac Centre is a Healthcare; Saraogi Maternity and General Hospital is a Healthcare; Akshar Eye Clinic is a Healthcare; Raj Nursing Home  Mumbai is a Healthcare; Surbhi Dental Clinic(Dr.Samata Dhuppad) is a Healthcare; Ishita Nursing Home is a Healthcare; Devangi Hospital is a Healthcare; Royal Health Care Pvt Ltd is a Healthcare; Shah Eye Clinic and Microsurgery Centre is a Healthcare; Dr Panchals Ishita Nursing Home is a Healthcare; Shah Fracture-Orthopaedic Hospital is a Healthcare; Shraddha Orthopedic and Surgical Hospital is a Healthcare; Lifeline Hospital  Mumbai is a Healthcare; Dr. Sharik's Asha Maternity & General Hospital is a Healthcare; Thunga Hospital is a Healthcare; Sun Hospital is a Healthcare; pradhnya ground is a Leisure & Entertainment; S.K.Patil Hospital is a Healthcare; Shukla Diagnostic and Healthcare Centre is a Healthcare; Aspee Nutan English Medium School is a Educational; Ram Leela Maidan is a Leisure & Entertainment; Central Ordanance Depot is a Landuse: Military; Kasambaug is a Leisure & Entertainment; universal is a Leisure & Entertainment; Hawa Hira is a Residential; Jawahar Milan is a Residential; Sumit Pramukh is a Residential; Parth Residency is a Residential; Leela Ashish is a Residential; Eastern Mall is a Commercial; Sanskruti is a Residential; Ratnapuri is a Residential; Center plaza is a Residential; Shankar Enclave is a Residential; Hira Kutir CHSL is a Residential; Milap is a Commercial; Poddar Park is a Leisure & Entertainment; Cafe Coffee Day is a Food & Drink; D6/16 is a Residential; "
          ],
          [
           "Big Bazzar  Kandivali is a Commercial; Sharda Gyanpeeth International School is a Educational; St. Joseph High School is a Educational; St. George High School is a Educational; Kairav Nursing Home is a Healthcare; Sai Swayam MatandNur Home is a Healthcare; Raj Nursing Home  Mumbai is a Healthcare; Shraddha Orthopedic and Surgical Hospital is a Healthcare; Dr. Sharik's Asha Maternity & General Hospital is a Healthcare; pradhnya ground is a Leisure & Entertainment; Shukla Diagnostic and Healthcare Centre is a Healthcare; Prasad Family Restaurant and Bar is a Food & Drink; Times Of India Press is a Industrial; Central Ordanance Depot is a Landuse: Military; Morarji Mill Employees CHS is a Residential; Parth Residency is a Residential; Eastern Mall is a Commercial; Sports Authority of India Ground is a Leisure & Entertainment; Baba Shaheb Bhimrao Ambedkar Park is a Leisure & Entertainment; Slum is a Residential; "
          ],
          [
           "Medha Maternity and Nursing Home - Kandivali (E) Mumbai is a Healthcare; Sai Siddhi Hospital is a Healthcare; Jeevan Jyoti Hospital is a Healthcare; Deep Clean Mumbai - Infinite X-Tensions is a Commercial; Water Reservoir is a Industrial; Crimson Tower is a Residential; Slum is a Residential; Whispering Palms is a Residential; Sanjay Gandhi (Borivilli) National Park is a Leisure & Entertainment; "
          ],
          [
           "Medha Maternity and Nursing Home - Kandivali (E) Mumbai is a Healthcare; Jeevan Jyoti Hospital is a Healthcare; Deep Clean Mumbai - Infinite X-Tensions is a Commercial; Sanjay Gandhi (Borivilli) National Park is a Leisure & Entertainment; "
          ],
          [
           "Tulsi Lake is a Landuse: Reservoir; "
          ],
          [
           "Tulsi Lake is a Landuse: Reservoir; "
          ],
          [
           "Tulsi Lake is a Landuse: Reservoir; "
          ],
          [
           "Yogi Hills is a Residential; Shapoorji Pallonji Mulund is a Residential; Sanjay Gandhi (Borivilli) National Park is a Leisure & Entertainment; "
          ],
          [
           "Hallmark Honda is a Commercial; Millennium Toyota is a Commercial; Tata Motors is a Commercial; MTNL Wagle is a Commercial; Shivani Maternity Home Thane is a Healthcare; Dr. Thakur's Shree Hospital is a Healthcare; Anmmol Orthovision is a Healthcare; Om Children Maternity and Surgical Nursing Home is a Healthcare; Modi Hospital - Thane is a Healthcare; हर्षित टेक एण्ड इन्नोवेशन is a Commercial; Shivaneri Sadan is a Residential; Sai Lila Apartments is a Residential; Chourasiya Apartments is a Residential; Amar Kunj is a Residential; Aarti Apartments is a Residential; Manjula Niwas is a Residential; Sai Raj Apartments is a Residential; Pushp Kunj is a Residential; Vishram Tower is a Residential; flower valley is a Residential; Koushaya Bhakti Dham is a Residential; Sai Sadan is a Residential; Shree Sadan is a Residential; MANGAL KARYALAY is a Government & Public Services; Lodha Supremus is a Commercial; Lodha Grandezza is a Residential; Shapoorji Pallonji Mulund is a Residential; Billabong International High School is a Educational; Jijau Apartments is a Residential; Kurshana Dham Apartments is a Residential; Sadhana Apartments is a Residential; Sanchitanand Apartments is a Residential; Sai Ratna is a Residential; Krishna Kunj is a Residential; Mahesh Sadan is a Residential; Sindhu Niwas is a Residential; Janki Niwas is a Residential; Anil Apartments is a Residential; Bhavani Farsan and Sweet Mart is a Food & Drink; Vaishali Nagar Ghettos is a Residential; Sanjay Gandhi (Borivilli) National Park is a Leisure & Entertainment; "
          ],
          [
           "Millennium Toyota is a Commercial; TIP TOP Plaza is a Food & Drink; MTNL Wagle is a Commercial; Vijay Sales is a Commercial; MIDC Passport Office is a Commercial; Radha Krishna Pure Veg is a Food & Drink; Wagle Estate Post Office is a Government & Public Services; Dr.Priya's Sai Niwas Maternity and Infertility Nursing Home is a Healthcare; Manawata Hospital and Smt Nalinighag Maternity is a Healthcare; Dr. Muddebihalkar Hospital and Iccu is a Healthcare; Om Children Maternity and Surgical Nursing Home is a Healthcare; Pooja Hospital  Thane is a Healthcare; Rain Tree is a Natural; हर्षित टेक एण्ड इन्नोवेशन is a Commercial; Cafe Holiday is a Food & Drink; Rayladevi Lake is a Natural; Ashar IT Park is a Commercial; LOTUS PARK is a Commercial; fish pond is a Residential; sports stadium is a Residential; valancy is a Residential; geen fame is a Residential; eat and eat is a Food & Drink; sunflower oil is a Industrial; Shivaneri Sadan is a Residential; Sai Lila Apartments is a Residential; Chourasiya Apartments is a Residential; Aarti Apartments is a Residential; Manjula Niwas is a Residential; Pushp Kunj is a Residential; NEST BENQUATE HALL is a Government & Public Services; Sai Sadan is a Residential; Shree Sadan is a Residential; Savoy is a Residential; Amalfi is a Residential; Sun Infotech Park is a Leisure & Entertainment; New RTO (THANE) is a Commercial; Fantasia is a Residential; MIDC Garden is a Leisure & Entertainment; Hajuri Garden is a Leisure & Entertainment; Raheja Gardens is a Residential; Jijau Apartments is a Residential; Sadhana Apartments is a Residential; Sanchitanand Apartments is a Residential; Sai Ratna is a Residential; Krishna Kunj is a Residential; Mahesh Sadan is a Residential; Sindhu Niwas is a Residential; Janki Niwas is a Residential; Anil Apartments is a Residential; "
          ],
          [
           "Cinemax is a Leisure & Entertainment; Monginis Cake Shop is a Commercial; Pizza Hut is a Food & Drink; Barbeque Nation is a Food & Drink; Ribbons & Balloons Cake Shop is a Commercial; All star sports is a Commercial; Dhiraj Hotel is a Food & Drink; Tenzo Temple is a Food & Drink; Vodafone Gallery is a Commercial; Dalvi Auto Parts is a Commercial; RTO Thane is a Commercial; Saiemaa's is a Food & Drink; Highway Hospital is a Healthcare; Pooja Nursing Home - Thane is a Healthcare; Amber Eye Care and Microsurgery Centre is a Healthcare; Dr.Pathak's Hospital is a Healthcare; Sahayog Nursing Home is a Healthcare; THC-Thane Health Care is a Healthcare; Vaidya Maternity Home is a Healthcare; Dr Subodh Mehtas Advance Orthopedic and Joint Replacement Center is a Healthcare; Bodas Surgical and Maternity Home is a Healthcare; OrthoSpine Clinic is a Healthcare; Aasha Cancer Hospital and Children First is a Healthcare; Dr Milind Patils Revival Bone and Joint Hospital is a Healthcare; Bapat Nursing Home is a Healthcare; Gunjotikar Nursing Home is a Healthcare; Deodhar Hospitals Pvt. Ltd is a Healthcare; Dr.Paradkar Hospital is a Healthcare; Abhimaan Maternity and Surgical Hospital - Thane is a Healthcare; Sai Ganesh Hospital  Thane is a Healthcare; Nirmiti Fertility and Ivf Centre is a Healthcare; International Institute Of Sleep Sciences is a Healthcare; Horizon Hospital is a Healthcare; Dr. Sapatnekar Hospital I.C.C.U and Polyclinic is a Healthcare; Vartak Nursing Home is a Healthcare; Shweta Nursing Home is a Healthcare; Jeevan Jyot Hospital is a Healthcare; Aadhar Hospital is a Healthcare; Anolkhi is a Natural; Copperpod variety (African wattle) is a Natural; Sausage tree is a Natural; Rain Tree is a Natural; Tea Tapri - Shree Gajendra is a Food & Drink; Ajaan is a Natural; Umber is a Natural; Thane Cafe is a Food & Drink; Family Tree is a Food & Drink; Prashant Corner is a Food & Drink; Metkut is a Food & Drink; Kfintech RTA is a Commercial; Kotak Mutual Fund is a Commercial; Sundaram Mutual Fund is a Commercial; Aditya Birls Sunlife Mutual Fund is a Commercial; Tata Mutual Fund is a Commercial; Baroda BNP Mutual Fund is a Commercial; Bandhan Mutual Fund is a Commercial; Mahindra Manulife Mutual Fund is a Commercial; SBI Mutual Fund is a Commercial; ICICI Mutual Fund is a Commercial; Rajwadi Tea Tapri is a Food & Drink; Kacharali Lake is a Natural; Lavina is a Residential; Ratnadeep is a Residential; Vasantika is a Residential; Gautam Tower is a Residential; Amalfi is a Residential; New RTO (THANE) is a Commercial; Thane Municipal Corporation is a Commercial; Fantasia is a Residential; S.E.S. High School and Junior College is a Educational; Eternity Mall is a Commercial; Kanakia Eternity is a Residential; Varsha Society Ground is a Leisure & Entertainment; Gantali Maidaan is a Leisure & Entertainment; Raheja Gardens is a Residential; gokul is a Residential; dhriti bldg is a Residential; ACC Ltd is a Industrial; Naupada Police Station is a Government & Public Services; "
          ],
          [
           "Police Commissioner Office is a Government & Public Services; foodies is a Food & Drink; Samarth Nursing Home  Thane is a Healthcare; Bhadkamkar Hospital is a Healthcare; Rajiv Gandhi Medical College Thane is a Healthcare; Anolkhi is a Natural; Thane Railway Station is a Landuse: Railway; MSRTC Workshop is a Industrial; Chhatrapati Shivaji Hospital is a Healthcare; Vidya Prasarak Mandal Polytechnic is a Educational; VPM's College Playground is a Leisure & Entertainment; Cateen is a Commercial; Shahir Damodar Vitawkar Play Ground is a Leisure & Entertainment; Dadoji Konddev Stadium is a Leisure & Entertainment; Jawaharlal Nehru Children’s Garden is a Leisure & Entertainment; Jawahar Bag Fire Station is a Government & Public Services; Goenka Police School is a Educational; Mukund Keni Playground is a Leisure & Entertainment; Ganesh Visarjan Ghat is a Leisure & Entertainment; Kalwa Bus Depot is a Industrial; "
          ],
          [
           "samarth vidyalay is a Educational; Aditi Children Hospital and Nursing is a Healthcare; Ramanand Hospital and Iccu is a Healthcare; Pharmacy is a Healthcare; Prakruti Hospital is a Healthcare; Rajiv Gandhi Medical College Thane is a Healthcare; Kalwa EMU Carshed is a Landuse: Railway; Mukund Steel is a Industrial; Chhatrapati Shivaji Hospital is a Healthcare; s.s. garden is a Leisure & Entertainment; Shahir Damodar Vitawkar Play Ground is a Leisure & Entertainment; Green World is a Residential; Mukund Keni Playground is a Leisure & Entertainment; Kalwa Bus Depot is a Industrial; Kalwa Station Ticket Counter is a Commercial; "
          ],
          [
           "samarth vidyalay is a Educational; Mukund Steel is a Industrial; Parsik Hills is a Landuse: Forest; "
          ],
          [
           "Parsik Hill is a Natural; Parsik Hills is a Landuse: Forest; "
          ],
          [
           "Parsik Hill is a Natural; Municipality Hospital  Mumbra is a Healthcare; Gulmohar is a Natural; Gulmohar Tree is a Natural; Badam Tree is a Natural; Jamun tree is a Natural; Unolkhi tree is a Natural; Unolkhi Tree is a Natural; Thane Creek is a Natural; THE RESIDENTIAL BUIDING is a Residential; Patel High School is a Educational; Munciple Primary School is a Educational; Mumbra Railway Station is a Landuse: Railway; Marina is a Residential; Parsik Hills is a Landuse: Forest; "
          ],
          [
           "talav is a Natural; "
          ],
          [
           "Runwal My City is a Residential; Marathon Nexworld is a Residential; Elara is a Residential; Aura is a Residential; "
          ],
          [
           "Runwal Garden is a Residential; Runwal My City is a Residential; Lodha Panacea is a Residential; "
          ],
          [
           "D'Mart is a Commercial; G.R.Patil Vidyalaya is a Educational; Runwal Garden is a Residential; Amey Engineers is a Industrial; Lodha Panacea is a Residential; "
          ],
          [
           "D'Mart is a Commercial; Amey Engineers is a Industrial; "
          ],
          [
           "Malad Creek is a Natural; Manori Aum Beach is a Natural; "
          ],
          [
           "Malad Creek is a Natural; INS Hamla is a Landuse: Military; Aksa Beach is a Natural; "
          ],
          [
           "INS Hamla is a Landuse: Military; Aksa Beach is a Natural; St. Anthony's school playground is a Leisure & Entertainment; St. Anthony playground is a Commercial; St. Anthony Playground is a Landuse: Used by school and also by church; J and K Red corner restaurant is a Food & Drink; "
          ],
          [
           "Rathodi Society Store is a Commercial; dhancoll cafe is a Food & Drink; Gaondevi Lotus Talav is a Natural; Lubna Apartments is a Residential; Thakkar's Palace is a Residential; Green Village is a Leisure & Entertainment; Marina Enclave is a Residential; Bay Vue is a Residential; Regent Galaxy is a Residential; J and K Red corner restaurant is a Food & Drink; "
          ],
          [
           "Atharva College of Engineering is a Educational; Billabong International School is a Educational; Government General Hospital  Malwani Malad is a Healthcare; Sumangal Hospital is a Healthcare; Bahl Nursing Home - Malad (W) is a Healthcare; Holy Tree is a Natural; Mangalmurti Hospital is a Healthcare; BMC Hospital is a Healthcare; STAR HOME  SUPERMARKET is a Commercial; FRIENDS KATTA is a Food & Drink; JYOTI MATCHING CENTER is a Commercial; YOGITA  RESTAURANT is a Food & Drink; Oscar Hospital is a Healthcare; Mithi River is a Natural; St. Judes High School is a Educational; Malwani Fire Station is a Government & Public Services; Industrial Estate is a Industrial; Lubna Apartments is a Residential; Thakkar's Palace is a Residential; Capricorn Building is a Residential; Virgo Apartments is a Residential; 52 is a Residential; 51 is a Residential; 18 is a Residential; 6 is a Residential; 49 is a Residential; 26 is a Residential; 9 is a Residential; 2 is a Residential; 19 is a Residential; 17 is a Residential; 20 is a Residential; Building no. 36 is a Residential; 21 is a Residential; 7 is a Residential; 34 Disha co-op housing society is a Residential; 1 is a Residential; 29 is a Residential; 5 is a Residential; 53 is a Residential; New Joggers Park is a Landuse: Recreation_ground; Joggers Park is a Leisure & Entertainment; Charkop Metro Depot is a Industrial; 58 Ashtvinayak is a Residential; Sharda Vihar is a Residential; Desai Garden is a Leisure & Entertainment; Royal Oasis is a Residential; Bhoomi Parsk Phase 2 is a Residential; Palm Garden is a Leisure & Entertainment; Malvani Fire Station Recreation Ground is a Landuse: Recreation_ground; Divya Joggers Park is a Leisure & Entertainment; Mother Vailankanni Ground is a Landuse: Recreation_ground; Atharva College Swimming Pool is a Leisure & Entertainment; ASMITA JYOTI PARK is a Leisure & Entertainment; sadhu hiranand is a Residential; Charkop Garden is a Leisure & Entertainment; Asmita Jyoti is a Residential; Marina Enclave is a Residential; Bay Vue is a Residential; Regent Galaxy is a Residential; Parinee Essence is a Residential; Gauri Excellency is a Residential; Raj Shivganga is a Residential; Shakti Enclave is a Residential; Asmita Jyoti Ground is a Landuse: Recreation_ground; Mhada Children Garden is a Landuse: Recreation_ground; Building no 26 is a Residential; Dolphin is a Residential; BMC Park is a Leisure & Entertainment; Manush residency is a Residential; "
          ],
          [
           "Atharva College of Engineering is a Educational; Pop Tate's is a Food & Drink; Timbuctoo Lounge is a Food & Drink; Sumangal Hospital is a Healthcare; Dr Pagruts Fracture Orthopaedic and Surgical Hospital is a Healthcare; Surana Hospital and Research Centre  Mumbai is a Healthcare; Zenith Hospital  Malad West is a Healthcare; Vinayak Maternity and General Hospital is a Healthcare; Dwarkesh Nursing Home is a Healthcare; Dr.Ronak Prakash Bhandari is a Healthcare; Gosalia Hospital is a Healthcare; Oscar Hospital is a Healthcare; GUPTA TEA COFFEE STALL is a Food & Drink; FR.JUSTIN DSOUZA GROUND is a Leisure & Entertainment; Mithi River is a Natural; Malad Creek is a Natural; Industrial Estate is a Industrial; Abrol Vastu Park is a Residential; St. Joseph's School Compound is a Educational; 52 is a Residential; 6 is a Residential; 26 is a Residential; 9 is a Residential; 2 is a Residential; 19 is a Residential; 17 is a Residential; 20 is a Residential; 21 is a Residential; 7 is a Residential; 1 is a Residential; 5 is a Residential; 53 is a Residential; Joggers Park is a Leisure & Entertainment; Charkop Metro Depot is a Industrial; Atul Tower is a Residential; Amann Springs is a Residential; 58 Ashtvinayak is a Residential; Atharva College Swimming Pool is a Leisure & Entertainment; Charkop Garden is a Leisure & Entertainment; Asmita Jyoti is a Residential; Asmita Jyoti Ground is a Landuse: Recreation_ground; Mhada Children Garden is a Landuse: Recreation_ground; Building no 26 is a Residential; KELKAR GROUND is a Leisure & Entertainment; NAVRATNA SOCIETY is a Commercial; JASMINE APARTMENT is a Residential; "
          ],
          [
           "SVP Swimming Pool is a Leisure & Entertainment; Orlem Dental Clinic is a Healthcare; Borivali Biryani Centre is a Food & Drink; Laxmi Vilas Hindu Hotel is a Food & Drink; Sparsh Paediatric And Orthopaedic Clinic is a Healthcare; Sahu Eye Hospital is a Healthcare; Dr Cassy Pawar is a Healthcare; Shah Nanji Virjii Store is a Commercial; Rosary House is a Residential; Shalom is a Residential; Zarine Palace is a Residential; Huckleberry's is a Commercial; Savor Family Resto Bar is a Food & Drink; Cherry’s Kitchen is a Food & Drink; Bhagwati is a Food & Drink; K.E.S Shroff college is a Commercial; Shri tp bhatia college is a Commercial; Ankur Hospital  Kandivali is a Healthcare; Sai Vilayatrai Charitable Polyclinc is a Healthcare; Surana Hospital and Research Centre  Mumbai is a Healthcare; Dr.Apte Maternity and Nursing Home is a Healthcare; Dwarkesh Nursing Home is a Healthcare; Vrindavan Nursing Home is a Healthcare; Hi-Tech Urology Centre is a Healthcare; Paras Nursing Home is a Healthcare; Shree Krishna Hospital is a Healthcare; K.E.S Shroff college ground is a Educational; Usha Maternity Home is a Healthcare; jinus corner is a Food & Drink; Modern sweets and farsan is a Food & Drink; navnat is a Food & Drink; Local Eatery is a Food & Drink; kes law college is a Educational; GUPTA TEA COFFEE STALL is a Food & Drink; FR.JUSTIN DSOUZA GROUND is a Leisure & Entertainment; Achija veg restaurant Kandivali branch is a Food & Drink; Savitridevi Hariram Agarwal International School is a Educational; Cardinal Gracias Playground is a Leisure & Entertainment; St. Joseph's School Ground is a Leisure & Entertainment; St.Anne's School Ground is a Leisure & Entertainment; Our Lady of Lourdes Church & St.Annes School Compound is a Educational; Anand Sagar is a Residential; Badri Building is a Residential; Dattani Gram #3 is a Residential; Atul Tower is a Residential; Shanti Apartments is a Residential; Raj Seema is a Residential; Vijay Park is a Residential; OM Shyam Sarjit CHS LTD is a Residential; Vijay Park Building 2 is a Residential; Kailash Heights is a Residential; Rasoii Veg Inn is a Food & Drink; Ranchhod is a Residential; Pancham is a Residential; Aditi is a Residential; Victoria Building is a Residential; Yashwantrao Chauhan Highschool is a Commercial; Anand Siddhi is a Residential; Sai Raj is a Residential; Anand Smriti is a Residential; Akshar #1 is a Residential; Hooseini Building is a Residential; Dattani Gram #4 is a Residential; Murtuza CHS is a Residential; Raj Rachana is a Residential; Vasat Bhagirathi is a Residential; Sai Raj Garden is a Residential; Sanskruti Towers is a Residential; Akshar #2 is a Residential; Dattani Gram 1 is a Residential; Matruchhaya is a Residential; Eros Apt is a Residential; Shankar Park is a Residential; Esplanade High School and Junior College is a Commercial; Kailash Tower is a Residential; OM Krishna Kunj is a Residential; Satyam is a Residential; vijay apartment is a Residential; RUSTOMJEE ADARSH REGAL A & B is a Residential; Patel Nagar Society is a Residential; Rashmi Heights is a Residential; Achija Restaurant is a Residential; Kamla Nagar is a Residential; Pushpa Excellency is a Residential; shiv darshan is a Residential; Milap is a Commercial; Moonlight is a Residential; Loureds Heritage is a Residential; Reliance Energy is a Commercial; Mayur Cinema is a Leisure & Entertainment; Sardar Vallabhbhai Patel Vividhlakshi Vidyalaya is a Educational; Sukan is a Residential; Dattani Gram #2 is a Residential; svp garden is a Leisure & Entertainment; Sawant Building is a Residential; Vanzawadi is a Leisure & Entertainment; Modinagar is a Residential; Gokul Heights is a Residential; Lijjat Godavari CHS is a Residential; Sardar Vallabhai Patel Garden is a Leisure & Entertainment; BMC garden is a Leisure & Entertainment; Adarsh garden is a Leisure & Entertainment; Fr. Salvador Rodrigues Ground is a Leisure & Entertainment; burabhai is a Leisure & Entertainment; Sri Parshwa Kunj CHS is a Residential; jaswanti gold building is a Residential; Rite Divine is a Residential; wellness counter is a Healthcare; KELKAR GROUND is a Leisure & Entertainment; NAVRATNA SOCIETY is a Commercial; JASMINE APARTMENT is a Residential; B. J. Patel Recreation Ground is a Leisure & Entertainment; PRAFULLATA is a Residential; Vasat Aishcharya is a Residential; White Arch is a Residential; "
          ],
          [
           "Electoral Registration Officer is a Commercial; Dr. Disha's Homoeopathy is a Healthcare; K.E.S Shroff college is a Commercial; Shri tp bhatia college is a Commercial; PVR Milap is a Leisure & Entertainment; Ankur Hospital  Kandivali is a Healthcare; Shah Surgical Hospital and Maternity Home P. Ltd. is a Healthcare; Dr. Masurkar Hospital is a Healthcare; Gulmohar Eye Clinic is a Healthcare; Darshan Orthopaedic and Surgical Clinic - Malad (W) is a Healthcare; Pratik Hospital and Maternity Home is a Healthcare; Saibaba Maternity and Nursing Home is a Healthcare; Khm Medical Centre Shree Kandivli Hitwardhak Mandal Kandivali is a Healthcare; Dhiraj Hospital is a Healthcare; Shree Krishna Hospital is a Healthcare; Laxmi Clinic - Kandivli - (Mumbai) is a Healthcare; K.E.S Shroff college ground is a Educational; Dalvi Hospital is a Healthcare; Usha Maternity Home is a Healthcare; Namaha Hospital is a Healthcare; cafe ameyzing is a Food & Drink; navnat is a Food & Drink; kes law college is a Educational; Viva Enterprises is a Commercial; MES is a Landuse: Military; Central Ordanance Depot is a Landuse: Military; Kandivali Fire Station is a Government & Public Services; BEST officer's quarters is a Residential; Kalptaru Gardens is a Residential; shiv darshan is a Residential; shree naman towers is a Residential; Shankar Enclave is a Residential; Milap is a Commercial; Reliance Energy is a Commercial; Delicasy is a Food & Drink; Mayur Cinema is a Leisure & Entertainment; The Beauty Shop is a Commercial; Sardar Vallabhbhai Patel Vividhlakshi Vidyalaya is a Educational; svp garden is a Leisure & Entertainment; Ashok Nagar BMC Park is a Leisure & Entertainment; BMC recreational park is a Leisure & Entertainment; Swayambhu playground is a Leisure & Entertainment; Punkyashloka Ahilyabai Holkar Udyaan is a Leisure & Entertainment; Bombay Gaurakshak Mandli is a Natural; Jogging Park is a Leisure & Entertainment; Pramod Mahajan Playground is a Leisure & Entertainment; Nana nani park is a Leisure & Entertainment; Sardar Vallabhai Patel Garden is a Leisure & Entertainment; burabhai is a Leisure & Entertainment; jaswanti gold building is a Residential; "
          ],
          [
           "Jai Mata Di Tea Stall is a Food & Drink; Electoral Registration Officer is a Commercial; Samatanagar Police Station is a Government & Public Services; Gulmohar Eye Clinic is a Healthcare; Saibaba Maternity and Nursing Home is a Healthcare; Sanchaiti Hospital is a Healthcare; Dhiraj Hospital is a Healthcare; Laxmi Clinic - Kandivli - (Mumbai) is a Healthcare; Growels is a Food & Drink; cafe ameyzing is a Food & Drink; Cafe Mocha is a Food & Drink; Mahindra & Mahindra is a Industrial; MES is a Landuse: Military; Times Of India Press is a Industrial; BEST officer's quarters is a Residential; Kalptaru Gardens is a Residential; Morarji Mill Employees CHS is a Residential; Growels 101 is a Commercial; Sports Authority of India Ground is a Leisure & Entertainment; Ashok Nagar BMC Park is a Leisure & Entertainment; BMC recreational park is a Leisure & Entertainment; Swayambhu playground is a Leisure & Entertainment; Punkyashloka Ahilyabai Holkar Udyaan is a Leisure & Entertainment; Bombay Gaurakshak Mandli is a Natural; Jogging Park is a Leisure & Entertainment; Pramod Mahajan Playground is a Leisure & Entertainment; Nana nani park is a Leisure & Entertainment; "
          ],
          [
           "Alica Nagar is a Residential; Green Meadows is a Residential; Shreeji Hospital (Kandivli) is a Healthcare; DNA Multispeciality Hospital - Mumbai is a Healthcare; Vilasrao  Deshmukh Park is a Leisure & Entertainment; Cafe Mocha is a Food & Drink; Mahindra & Mahindra is a Industrial; Building No. 9  Alica Nagar is a Residential; flat no 402 helicon heights is a Residential; Building No 6  Alica Nagar is a Residential; Building no 10  Alica Nagar is a Residential; Building No 8  Alica Nagar is a Residential; Building No. 7  Alica Nagar is a Residential; Crimson Tower is a Residential; Pinewood is a Residential; Vilasrao Deshmukh Park is a Leisure & Entertainment; White CIty is a Residential; Ivory is a Residential; Opal is a Residential; Whispering Palms is a Residential; Fountain Heights is a Residential; Silver Oak is a Residential; Birchwood is a Residential; Raheja Willows is a Residential; Formal Garden is a Leisure & Entertainment; Krishna colony is a Residential; "
          ],
          [
           "Alica Nagar is a Residential; Vilasrao  Deshmukh Park is a Leisure & Entertainment; Mahindra & Mahindra is a Industrial; Building No. 9  Alica Nagar is a Residential; flat no 402 helicon heights is a Residential; Anita bldg no.11 is a Residential; Building No 6  Alica Nagar is a Residential; Building no 10  Alica Nagar is a Residential; Building No 8  Alica Nagar is a Residential; Building No. 7  Alica Nagar is a Residential; Pinewood is a Residential; Vilasrao Deshmukh Park is a Leisure & Entertainment; BMC Garden is a Leisure & Entertainment; White CIty is a Residential; Ivory is a Residential; Opal is a Residential; Whispering Palms is a Residential; Fountain Heights is a Residential; Silver Oak is a Residential; Birchwood is a Residential; Raheja Willows is a Residential; Formal Garden is a Leisure & Entertainment; Sanjay Gandhi (Borivilli) National Park is a Leisure & Entertainment; "
          ],
          [
           "Sanjay Gandhi (Borivilli) National Park is a Leisure & Entertainment; "
          ],
          [
           "Kanheri Caves is a Natural; "
          ],
          [
           "Tulsi Lake is a Landuse: Reservoir; "
          ],
          [
           "Tulsi Lake is a Landuse: Reservoir; "
          ],
          [
           "Sanjay Gandhi (Borivilli) National Park is a Leisure & Entertainment; "
          ],
          [
           "Hallmark Honda is a Commercial; Tata Motors is a Commercial; Passport Seva Kendra is a Commercial; Wagle Bus Depot is a Industrial; Dosti Pinnacle is a Commercial; Lodha Supremus is a Commercial; Lodha Grandezza is a Residential; Vista is a Residential; Viera is a Residential; Sanjay Gandhi (Borivilli) National Park is a Leisure & Entertainment; "
          ],
          [
           "Spectra Motors  Maruti Suzuki Dealer is a Commercial; WAGLE POLICE STATION is a Government & Public Services; Dr Gadgil Eye Clinic and Lasik Laser Centre is a Healthcare; Sai Dham Hospital is a Healthcare; Dosti Pinnacle is a Commercial; DENIS COMPOUND is a Residential; Anandi Bai Garden is a Leisure & Entertainment; Ashar IT Park is a Commercial; Dosti Vithika-A is a Residential; Dosti Vrishti-A is a Residential; LOTUS PARK is a Commercial; APPARTMENT is a Residential; fish pond is a Residential; sports stadium is a Residential; valancy is a Residential; geen fame is a Residential; eat and eat is a Food & Drink; sunflower oil is a Industrial; washing ton in is a Commercial; Sun Infotech Park is a Leisure & Entertainment; DMART Office is a Commercial; Savarkarnagar Crematorium is a Landuse: Cemetery; ESIC Hospital is a Healthcare; ESIC Wagle Estate is a Residential; Hajuri Garden is a Leisure & Entertainment; Dosti Vithika-B is a Residential; Dosti Vrishti-B is a Residential; Dosti Vrishti-C is a Residential; Dosti Vrishti-D is a Residential; Dosti Vrishti-E is a Residential; Dosti Vrishti-F is a Residential; Jagdale Amizra is a Residential; Dev Ashoka is a Residential; Dosti Vihar is a Residential; "
          ],
          [
           "Inox is a Leisure & Entertainment; Barbeque Nation is a Food & Drink; All star sports is a Commercial; Dhiraj Hotel is a Food & Drink; Tenzo Temple is a Food & Drink; Chiranjeevi Hospital is a Healthcare; Thane Municipal Corporation is a Commercial; Banglore Iyengar Bakery  is a Commercial; Wellness Forever  is a Healthcare; Aayush Hospital  Thane is a Healthcare; Dr Subodh Mehtas Advance Orthopedic and Joint Replacement Center is a Healthcare; Dr Uppal's ENT Hospital & Sonic Hearing & Speech Centre is a Healthcare; Sushrut Nursing Home is a Healthcare; Hi-Tech Urology Centre is a Healthcare; Kaushalya Medical Foundation Trust Hospital  Mumbai is a Healthcare; Ajinkya Nursing Home  Thane is a Healthcare; Bapat Nursing Home is a Healthcare; Thane Eye Care Hospital is a Healthcare; Dhanvantri Childrens Hospital is a Healthcare; Medicare Hospital  Thane is a Healthcare; Dr Gadgil Eye Clinic and Lasik Laser Centre is a Healthcare; Dr. Uppal's Ent Hospital  Thane is a Healthcare; Criticare Superspeciality Hospital is a Healthcare; Aadhar Hospital is a Healthcare; Meera's Fitness Center is a Leisure & Entertainment; Buddha's covonut is a Natural; Shirish is a Natural; Peepal is a Natural; Ajaan is a Natural; Umber is a Natural; Nidhi Broking Services (NBS) Pvt. Ltd. is a Commercial; Dr. Lad's Orthodontics Clinic is a Healthcare; Kacharali Lake is a Natural; Makhamali Talaav is a Natural; Korum Mall is a Commercial; Siddheshwar Lake is a Natural; Dev Corpora is a Commercial; Shreeji Arcade is a Commercial; APPARTMENT is a Residential; Shreeji Ville is a Residential; Highway Ashirwad is a Residential; eat and eat is a Food & Drink; washing ton in is a Commercial; Lenin Nagar is a Residential; Morar Ashish is a Residential; Cadbury Company is a Commercial; Tarangan Towers is a Residential; Nitin Company is a Commercial; Prestige Park is a Residential; ST Workshop is a Landuse: Garages; Bus Depot is a Landuse: Garages; Parulekar Udyan is a Leisure & Entertainment; Shaheed Udyan Park is a Leisure & Entertainment; Mondelez Cadbury Pvt Ltd. is a Industrial; Smt. Sulochanadevi Singhania School is a Educational; Raymond Mills is a Industrial; S.E.S. High School and Junior College is a Educational; Shahid Hemant Karkare Krida Bhavan is a Leisure & Entertainment; Tarangan Clubhouse is a Residential; Shravan is a Residential; Pushpa Parag is a Residential; Maansarovar is a Residential; Satkar Residency is a Leisure & Entertainment; Dev Ashoka is a Residential; Tarangan Complex is a Residential; "
          ],
          [
           "Thane Main Post Office is a Government & Public Services; Chintamani's is a Commercial; GZ is a Commercial; Vandana Talkies is a Leisure & Entertainment; Bramhala Lake Garden is a Leisure & Entertainment; Rango Bapuji Gupte Statue is a Leisure & Entertainment; Compubee Technologies is a Commercial; Risk Care Hospital and Iccu is a Healthcare; Janam Hospital is a Healthcare; Shree Ramkrishna Netralaya is a Healthcare; Unnati Critical Care Unit and I.C.C.U is a Healthcare; Sahil Hospital  Thane is a Healthcare; Sushrut Nursing Home is a Healthcare; Akshaya Surgical and Maternity Home is a Healthcare; TMC C R Wadia Dispensary is a Healthcare; Pioneer Health Care is a Healthcare; Dr.Nalavade Multispeciality Hospital is a Healthcare; Ajinkya Nursing Home  Thane is a Healthcare; Shivneri Hospital Pvt. Ltd. is a Healthcare; Aishwarya Nursing Home - Thane is a Healthcare; More Eye Center is a Healthcare; Laxmi Jyot Eye Hospital  Thane is a Healthcare; Dr Manish Patankar's Nath Hospital is a Healthcare; Sunjeevan Hospital and I C U is a Healthcare; Ashwini Maternity and Nursing Home is a Healthcare; Thane Eye Care Hospital is a Healthcare; Shree Swami Samartha Netralaya is a Healthcare; Senses Eye and Ent Hospital is a Healthcare; Dr Malatibai Chitnis Clinic and Hospital is a Healthcare; Koshti Maternity and Surgical Hospital is a Healthcare; Renuka Nursing Home  Thane is a Healthcare; Orhtocare Hospital is a Healthcare; Dr.Kshirsagars Nursing Home is a Healthcare; Jyotimay Eye Hospital is a Healthcare; Lifeline Hospital Thane is a Healthcare; KUCHBHI STUDIO is a Leisure & Entertainment; Royal Hospital is a Healthcare; Samarth Auto Service is a Commercial; Anolkhi is a Natural; Gajanan Snack Center is a Food & Drink; Peeple is a Natural; Katesawar is a Natural; Ajan is a Natural; Civil Hospital  Thane is a Healthcare; Arihant School Uniform is a Commercial; Thane Jain Gruh Udhyog Bhandar is a Commercial; Pravin Sandwich is a Food & Drink; HSBC Mutual Fund is a Commercial; Makhamali Talaav is a Natural; Jail Lake is a Natural; Vikas Bazaar is a Commercial; Vikas Medicals is a Healthcare; Domino's is a Leisure & Entertainment; Ambe Ghosale Lake is a Natural; Siddheshwar Lake is a Natural; Vikas Palms is a Residential; Dev Corpora is a Commercial; Om Sheetal Cooperative Housing Society is a Residential; Ahuna Apartments is a Residential; Gautam Sagar is a Residential; Manohar Park is a Residential; life pancea is a Commercial; Thane District Collector is a Commercial; seeta sadan is a Residential; Bramhala Lake is a Natural; Flower Valley Complex Cooperative Housing Society is a Residential; A is a Residential; St. John's High School is a Educational; ST Workshop is a Landuse: Garages; Bus Depot is a Landuse: Garages; Parulekar Udyan is a Leisure & Entertainment; Shaheed Udyan Park is a Leisure & Entertainment; Central Ground is a Leisure & Entertainment; Ram Ganesh Gadkari Rangayatan is a Leisure & Entertainment; Gadkari Rangayatan is a Leisure & Entertainment; Holy Cross Convent High School is a Educational; Civil Hospital is a Healthcare; Shivaji Maidan is a Leisure & Entertainment; Shiva Samarth School Ground is a Educational; Mavli Mandal Playground is a Leisure & Entertainment; Madadre Lake is a Natural; Yashoda is a Residential; ashwini matrnity and nursing home is a Healthcare; Munisuvrat Swami Jain Derasar is a Landuse: Religious; Session Court is a Government & Public Services; Vikas Complex is a Residential; Rabodi is a Residential; St John Playground is a Leisure & Entertainment; St John the Baptist church Cemetry is a Landuse: Cemetery; Sankalp Siddhi is a Residential; Ahilyadevi Garden is a Leisure & Entertainment; B is a Residential; Talao Pali is a Natural; "
          ],
          [
           "Thane Main Post Office is a Government & Public Services; Police Commissioner Office is a Government & Public Services; Municipal Primary School is a Educational; Sunjeevan Hospital and I C U is a Healthcare; Samarth Nursing Home  Thane is a Healthcare; Risk Care Hospital and Iccu  Thane is a Healthcare; Bhadkamkar Hospital is a Healthcare; Suleman Mulla Hospital is a Healthcare; Peeple is a Natural; Ajan is a Natural; Anti Corruption Bureau Thane is a Government & Public Services; Jail Lake is a Natural; MSRTC Workshop is a Industrial; Ambe Ghosale Lake is a Natural; Vrindavan Society is a Residential; Ridwan Harris Ideal High School & Junior College is a Educational; Thane District Collector is a Commercial; seeta sadan is a Residential; Central Ground is a Leisure & Entertainment; Police Grounds is a Landuse: Recreation_ground; Holy Cross Convent High School is a Educational; Civil Hospital is a Healthcare; Munisuvrat Swami Jain Derasar is a Landuse: Religious; Session Court is a Government & Public Services; Khatoon Terrace is a Residential; Shreerang Society is a Residential; Rabodi is a Residential; Saraswati Vidyalaya-Rabodi is a Educational; Canteen is a Commercial; Goenka Police School is a Educational; Ganesh Visarjan Ghat is a Leisure & Entertainment; Jogger's Park is a Leisure & Entertainment; "
          ],
          [
           "Ramanand Hospital and Iccu is a Healthcare; Risk Care Hospital and Iccu  Thane is a Healthcare; Pramila Hospital is a Healthcare; Pharmacy is a Healthcare; Prakruti Hospital is a Healthcare; Department Store is a Food & Drink; Kalwa EMU Carshed is a Landuse: Railway; Sahakar Vidya Prasarak Mandal School is a Educational; Police Grounds is a Landuse: Recreation_ground; Saket Towers is a Residential; Yashwant Rama Salvi Swimming Pool is a Leisure & Entertainment; Saket Waterfront Park is a Leisure & Entertainment; Kalwa Station Ticket Counter is a Commercial; "
          ],
          [
           "Parsik Hospital is a Healthcare; Sapphire Hospitals is a Healthcare; Jai Bharat Sports Club Gym is a Leisure & Entertainment; Anandi Dairy is a Commercial; Amit Garden is a Food & Drink; Mayur Family Restaurent & Bar is a Food & Drink; Domino's is a Food & Drink; Kalwa EMU Carshed is a Landuse: Railway; Adarsh is a Residential; Herambha Heights is a Residential; Gulmohar Society is a Residential; Mukteshwar is a Residential; Kundan Apartment is a Residential; Parijat Pushpa CHS. is a Residential; Ashar Aria is a Residential; Kharegaon Lake is a Natural; Baba's Kitchen is a Food & Drink; Parsik Hills is a Landuse: Forest; "
          ],
          [
           "Parsik Hills is a Landuse: Forest; "
          ],
          [
           "Pepal Tree is a Natural; Parsik Hills is a Landuse: Forest; "
          ],
          [
           "Body Fuel A hard core Gym is a Leisure & Entertainment; Life Care Hospital is a Healthcare; Hardikar Hospital and Polyclinic is a Healthcare; Banyan is a Natural; BSNL Telephone Exchange is a Commercial; Bahinabai Garden is a Leisure & Entertainment; "
          ],
          [
           "Pmrs Ace Children's Hospital is a Healthcare; Aarogyam Hospital  Thane is a Healthcare; Platinum Hospital is a Healthcare; Neptune Superspeciality Hospital is a Healthcare; "
          ],
          [
           "Neptune Superspeciality Hospital is a Healthcare; "
          ]
         ],
         "hovertemplate": "x=%{x}<br>y=%{y}<br>z=%{z}<br>strings=%{customdata[0]}<br>label=%{marker.color}<extra></extra>",
         "legendgroup": "",
         "marker": {
          "color": [
           3,
           4,
           1,
           3,
           3,
           3,
           3,
           2,
           2,
           2,
           2,
           2,
           3,
           3,
           3,
           3,
           4,
           4,
           1,
           1,
           2,
           3,
           3,
           3,
           3,
           2,
           2,
           2,
           2,
           3,
           3,
           3,
           4,
           4,
           4,
           1,
           1,
           1,
           1,
           3,
           3,
           2,
           2,
           3,
           3,
           1,
           1,
           3,
           3,
           3,
           3,
           3,
           3,
           3,
           3,
           4,
           3,
           1,
           1,
           3,
           3,
           3,
           3,
           3,
           3,
           3,
           3,
           4,
           3,
           4,
           3,
           1,
           1,
           3,
           3,
           3,
           3,
           3,
           3,
           3,
           3,
           2,
           2,
           1,
           1,
           1,
           1,
           3,
           3,
           3,
           3,
           3,
           3,
           3,
           3,
           3,
           2,
           1,
           1,
           1,
           1,
           3,
           4,
           3,
           3,
           3,
           3,
           3,
           3,
           3,
           3,
           4,
           4,
           3,
           1,
           1,
           1,
           1,
           1,
           3,
           4,
           4,
           3,
           3,
           3,
           3,
           2,
           2,
           2,
           2,
           2,
           1,
           3,
           3,
           3,
           3,
           3,
           3,
           2,
           2,
           2,
           3,
           2,
           3,
           1,
           1,
           3,
           3,
           3,
           3,
           3,
           3,
           2,
           3,
           3,
           3,
           1,
           2,
           1,
           1,
           1,
           2,
           4,
           3,
           3,
           3,
           3,
           3,
           1,
           1,
           1,
           1,
           1,
           1,
           4,
           3,
           3,
           3,
           3,
           3,
           1,
           1,
           1,
           3,
           3,
           2,
           3,
           3,
           4,
           1,
           1,
           1,
           1,
           1,
           2,
           1,
           3,
           3,
           3,
           3,
           3,
           2,
           1,
           1,
           1,
           1,
           2,
           1,
           1,
           1,
           1,
           1,
           1,
           2,
           2,
           2,
           3,
           3,
           3,
           3,
           3,
           3,
           4,
           1,
           1,
           1,
           1,
           4,
           3,
           3,
           3,
           1,
           1,
           1,
           4,
           3,
           1,
           1,
           1,
           1,
           2,
           2,
           1,
           1,
           2,
           2,
           1,
           3,
           2,
           4,
           1,
           1,
           1,
           1,
           4,
           1,
           1,
           3,
           1,
           1,
           1,
           4,
           4,
           3,
           1,
           1,
           1,
           2,
           2,
           1,
           1,
           1,
           2,
           2,
           1,
           1,
           1,
           1,
           1,
           1,
           4,
           4,
           1,
           1,
           2,
           1,
           1,
           3,
           4,
           1,
           1,
           1,
           1,
           1,
           1,
           1,
           1,
           2,
           1,
           1,
           2,
           4,
           1,
           1,
           1,
           4,
           4,
           1,
           1,
           1,
           2,
           3,
           1,
           1,
           1,
           1,
           1,
           1,
           1,
           1,
           1,
           2,
           2,
           4,
           4,
           3,
           2,
           1,
           1,
           4,
           4,
           4,
           4,
           1,
           2,
           3,
           3,
           3,
           1,
           1,
           1,
           1,
           1,
           1,
           1,
           1,
           1,
           2,
           2,
           4,
           4,
           4,
           1,
           1,
           1,
           1,
           1,
           4,
           4,
           4,
           4,
           1,
           3,
           3,
           3,
           3,
           3,
           3,
           1,
           1,
           1,
           2,
           1,
           1,
           1,
           1,
           1,
           1,
           1,
           2,
           3,
           4,
           4,
           4,
           1,
           1,
           1,
           1,
           4,
           4,
           4,
           4,
           4,
           2,
           1,
           1,
           2,
           2,
           3,
           3,
           2,
           1,
           1,
           2,
           1,
           2,
           1,
           1,
           1,
           1,
           1,
           3,
           3,
           4,
           4,
           4,
           1,
           1,
           1,
           2,
           4,
           4,
           4,
           2,
           2,
           2,
           2,
           2,
           1,
           1,
           1,
           1,
           1,
           1,
           1,
           1,
           1,
           1,
           1,
           2,
           4,
           4,
           4,
           4,
           4,
           1,
           1,
           3,
           3,
           4,
           4,
           4,
           3,
           1,
           1,
           1,
           1,
           1,
           1,
           1,
           1,
           2,
           2,
           2,
           2,
           4,
           4,
           4,
           4,
           1,
           1,
           1,
           3,
           3,
           4,
           4,
           4,
           2,
           2,
           1,
           1,
           1,
           1,
           1,
           1,
           2,
           1,
           1,
           1,
           1,
           4,
           4,
           4,
           4,
           4,
           1,
           1,
           4,
           4,
           4,
           4,
           2,
           3,
           2,
           1,
           1,
           1,
           1,
           1,
           1,
           1,
           1,
           1,
           1,
           1,
           4,
           4,
           4,
           2,
           2,
           1,
           4,
           4,
           4,
           4,
           3,
           4,
           1,
           1,
           1,
           1,
           1,
           1,
           2,
           1,
           1,
           2,
           2,
           2,
           2,
           4,
           4,
           4,
           2,
           4,
           2,
           4,
           4,
           4,
           4,
           3,
           4,
           2,
           1,
           1,
           1,
           1,
           1,
           1,
           4,
           1,
           1,
           2,
           2,
           4,
           4,
           4,
           4,
           2,
           1,
           4,
           4,
           4,
           2,
           4,
           2,
           4,
           2,
           1,
           2,
           1,
           1,
           2,
           1,
           1,
           4,
           4,
           4,
           4,
           1,
           1,
           1,
           4,
           4,
           1,
           1,
           1,
           3,
           4,
           4,
           2,
           2,
           2,
           2,
           2,
           2,
           2,
           4,
           2,
           3,
           3,
           2,
           1,
           1,
           1,
           1,
           4,
           1,
           1,
           4,
           3,
           4,
           1,
           1,
           2,
           2,
           4,
           1,
           1,
           1,
           4,
           2,
           2,
           2,
           2,
           2,
           2,
           2,
           2,
           2,
           4,
           4,
           3,
           3,
           3,
           2,
           1,
           1,
           1,
           1,
           1,
           4,
           4,
           3,
           4,
           2,
           1,
           1,
           1,
           1,
           4,
           4,
           1,
           1,
           4,
           2,
           2,
           2,
           2,
           2,
           2,
           2,
           2,
           2,
           4,
           3,
           2,
           2,
           1,
           1,
           1,
           1,
           1,
           1,
           4,
           3,
           4,
           2,
           1,
           1,
           1,
           4,
           1,
           1,
           4,
           1,
           2,
           2,
           2,
           2,
           2,
           4,
           2,
           3,
           3,
           2,
           2,
           1,
           1,
           1,
           1,
           1,
           2,
           4,
           3,
           3,
           3,
           1,
           1,
           1,
           1,
           1,
           1,
           1,
           3,
           4,
           1,
           4,
           2,
           2,
           2,
           2,
           2,
           2,
           3,
           3,
           3,
           4,
           1,
           1,
           1,
           1,
           1,
           1,
           1,
           1,
           3,
           3,
           3,
           4,
           2,
           1,
           1,
           1,
           1,
           3,
           4,
           2,
           3,
           2,
           2,
           2,
           3,
           3,
           3,
           4,
           2,
           2,
           1,
           1,
           1,
           1,
           2,
           2,
           4,
           3,
           3,
           3,
           4,
           2,
           2,
           1,
           1,
           1,
           1,
           1,
           4,
           4,
           1,
           1,
           3
          ],
          "coloraxis": "coloraxis",
          "symbol": "circle"
         },
         "mode": "markers",
         "name": "",
         "scene": "scene",
         "showlegend": false,
         "type": "scatter3d",
         "x": [
          105.32197,
          18.246435,
          9.387938,
          57.6005,
          57.6005,
          57.6005,
          53.131363,
          51.682632,
          48.924904,
          37.02917,
          8.923451,
          11.904659,
          28.177816,
          84.816574,
          76.93367,
          76.93367,
          77.06967,
          82.61841,
          8.278388,
          4.654008,
          -0.09274411,
          122.12475,
          57.6005,
          57.6005,
          57.6005,
          67.086945,
          42.45999,
          -0.98587257,
          7.3829894,
          28.177816,
          84.816574,
          76.93367,
          92.00014,
          82.61841,
          89.24704,
          9.918964,
          -23.728842,
          -25.552057,
          4.677276,
          62.02454,
          62.02454,
          33.64142,
          39.064377,
          41.182846,
          76.93367,
          -31.365494,
          -31.698982,
          49.96154,
          51.502262,
          47.700592,
          34.073135,
          39.975697,
          39.975697,
          46.71196,
          115.279945,
          5.998495,
          -146.73386,
          -37.62148,
          -56.157696,
          47.700592,
          47.700592,
          47.700592,
          47.700592,
          39.975697,
          99.505486,
          99.505486,
          115.279945,
          5.998495,
          -146.73386,
          49.632004,
          97.66324,
          -35.50536,
          -67.663475,
          25.119299,
          47.700592,
          47.700592,
          47.700592,
          99.505486,
          99.505486,
          99.505486,
          99.505486,
          -4.9640307,
          10.600716,
          11.592292,
          -39.189804,
          -67.89685,
          -68.261696,
          24.107819,
          50.596397,
          47.700592,
          47.700592,
          60.013916,
          99.505486,
          99.505486,
          99.505486,
          99.505486,
          -1.4560894,
          -12.787061,
          -72.869,
          -76.39566,
          -77.07676,
          22.166546,
          29.527975,
          63.78362,
          47.700592,
          60.013916,
          60.013916,
          99.505486,
          99.505486,
          99.505486,
          99.505486,
          73.18031,
          73.18031,
          119.223434,
          -24.186653,
          -66.9408,
          -86.31709,
          -106.54268,
          -58.762035,
          22.762133,
          27.676481,
          38.01989,
          50.976257,
          11.676319,
          99.505486,
          -18.94965,
          25.934462,
          -3.9292567,
          32.647625,
          -21.43064,
          -54.93455,
          -45.172947,
          9.927331,
          -2.5625696,
          77.91401,
          77.91401,
          21.57489,
          -8.483283,
          -21.05642,
          -12.137258,
          -58.447918,
          -150.99904,
          7.2823,
          119.223434,
          1.0733337,
          -28.299152,
          -26.43446,
          -25.99263,
          24.564215,
          -9.08094,
          -8.483283,
          -21.643747,
          -27.361967,
          117.12997,
          117.12997,
          67.05338,
          -120.10201,
          7.1487107,
          -71.000145,
          -88.599365,
          -87.699165,
          -18.10255,
          24.572311,
          -9.246572,
          -9.246572,
          42.438995,
          67.05338,
          67.05338,
          -124.256645,
          -47.278492,
          -66.89045,
          -72.295395,
          -80.87994,
          -88.97144,
          14.635407,
          3.7780764,
          14.929942,
          5.157308,
          5.8074145,
          94.47675,
          -16.007994,
          -5.127356,
          -46.26271,
          95.71206,
          93.20247,
          67.0721,
          67.05338,
          67.05338,
          57.625225,
          -96.91912,
          5.375012,
          -77.97726,
          -78.28027,
          -83.89881,
          -38.32896,
          -104.59117,
          10.275309,
          5.4215574,
          13.225231,
          5.8074145,
          5.8074145,
          29.914347,
          -28.014786,
          -14.703068,
          -55.241344,
          -52.24326,
          68.39767,
          -145.17776,
          -105.70329,
          -89.61256,
          -1.6565672,
          0.5093817,
          -96.566795,
          -30.614002,
          12.664949,
          29.377573,
          6.5217466,
          5.4215574,
          -11.224183,
          -9.521801,
          -16.382223,
          5.8074145,
          26.89418,
          -51.23107,
          -51.275387,
          -7.831187,
          -46.431026,
          31.265764,
          94.52446,
          102.73656,
          50.37657,
          -115.99769,
          -99.389694,
          -97.98947,
          65.06935,
          91.0402,
          -61.42446,
          -87.098946,
          -92.03355,
          -106.45961,
          11.877619,
          -39.457813,
          -8.245519,
          -33.47621,
          0.4302241,
          -1.1032914,
          -8.634928,
          8.664734,
          6.5651274,
          30.98192,
          -11.181582,
          -15.526074,
          -14.92522,
          -11.24794,
          6.619129,
          -89.75908,
          -40.514942,
          116.037094,
          -119.35098,
          -122.58277,
          -126.99862,
          59.504585,
          16.156656,
          119.223434,
          -85.01357,
          -93.63673,
          -75.49823,
          -1.0047626,
          -31.005238,
          -80.90155,
          -93.718346,
          -31.668247,
          -47.502472,
          -31.31809,
          -8.075322,
          -3.1949997,
          -98.99087,
          -32.331043,
          -25.557194,
          1.8592467,
          8.963542,
          75.54043,
          -52.102333,
          -47.819256,
          -2.9928675,
          -121.28009,
          -126.978584,
          -4.887019,
          42.59085,
          -91.58886,
          -83.92203,
          -61.816914,
          -24.0879,
          -23.327723,
          -31.640327,
          -93.215385,
          -71.403244,
          -54.97543,
          -67.44619,
          -80.30874,
          24.961855,
          -14.346632,
          -30.308994,
          -38.357166,
          12.594234,
          65.897964,
          77.82389,
          -81.3874,
          -66.67706,
          -18.937746,
          61.55877,
          24.637058,
          -65.46697,
          -50.977654,
          -64.88512,
          -75.61338,
          -29.427704,
          -78.92693,
          -81.78525,
          -61.5142,
          -30.530035,
          -48.083702,
          24.207905,
          57.744907,
          53.014683,
          -6.046921,
          -9.241029,
          -14.626375,
          -106.16758,
          23.320356,
          25.28537,
          17.452332,
          -0.2125689,
          -5.5899606,
          14.238857,
          22.202955,
          22.202955,
          119.223434,
          -69.61784,
          -59.32348,
          -67.53402,
          -38.39383,
          -104.91712,
          -8.731931,
          -68.56149,
          -54.607903,
          -56.810898,
          -61.40766,
          12.0283,
          57.744907,
          57.744907,
          57.744907,
          -33.706875,
          -13.986031,
          -48.14013,
          -21.944279,
          -19.766066,
          -9.953574,
          97.83471,
          59.64048,
          -2.2600152,
          -12.211637,
          -134.62016,
          -147.09885,
          -143.76906,
          22.202955,
          108.987206,
          108.987206,
          -41.109875,
          -51.58397,
          -82.1085,
          -21.848392,
          -53.147976,
          -55.330208,
          -77.273186,
          -18.052172,
          -14.165915,
          -58.779766,
          -59.58193,
          17.069832,
          54.746357,
          40.22021,
          57.744907,
          53.014683,
          -22.591663,
          -55.89662,
          -71.48747,
          -11.047545,
          14.225115,
          59.939194,
          92.833595,
          59.215275,
          73.78672,
          16.094013,
          -140.62823,
          -146.1891,
          -130.31038,
          20.062487,
          108.987206,
          108.987206,
          3.986469,
          -49.953136,
          -96.0239,
          -40.9081,
          -74.99277,
          -85.74453,
          -79.98669,
          -36.823387,
          -78.3167,
          -126.59591,
          0.15153112,
          -153.60873,
          98.07617,
          53.014683,
          53.014683,
          40.22021,
          -81.14176,
          -47.937695,
          -13.977961,
          13.404771,
          77.472946,
          77.472946,
          59.643257,
          36.673145,
          -38.645252,
          -138.7188,
          55.593113,
          34.78488,
          -3.4336252,
          -23.95026,
          -123.53344,
          -45.690987,
          -76.80977,
          -72.50927,
          -69.0421,
          -30.297836,
          -84.179115,
          -137.34084,
          -28.733011,
          -41.349533,
          53.014683,
          53.014683,
          40.22021,
          40.22021,
          38.80216,
          -24.23092,
          -34.017498,
          25.468115,
          46.557137,
          72.115654,
          59.93639,
          59.64048,
          -48.611706,
          -61.883553,
          -54.841328,
          -105.86478,
          -91.8459,
          -7.845225,
          -60.91539,
          -42.631783,
          -78.603615,
          -18.974178,
          -12.261378,
          -22.776772,
          -2.6027997,
          53.014683,
          62.495018,
          53.014683,
          62.495018,
          3.0127747,
          -78.73811,
          -67.811264,
          40.14414,
          42.20546,
          76.19974,
          76.19974,
          76.19974,
          62.10467,
          -44.794533,
          -96.312996,
          -95.811584,
          -48.77178,
          -60.12642,
          -45.597332,
          -56.33084,
          -33.0586,
          -26.990282,
          -14.85809,
          -18.11793,
          -66.24005,
          53.014683,
          53.014683,
          53.014683,
          53.014683,
          32.36233,
          -16.024479,
          -11.840445,
          17.136106,
          30.192686,
          75.812584,
          77.472946,
          51.47156,
          83.883064,
          -41.889946,
          -55.202667,
          -92.10784,
          -85.79717,
          -38.846275,
          -80.08666,
          -98.29561,
          -61.975365,
          -20.777805,
          -84.31227,
          -105.52189,
          -76.41537,
          32.429073,
          47.881687,
          40.22021,
          0.57028735,
          -4.9641776,
          -3.7322958,
          15.496519,
          31.689753,
          78.61502,
          61.67424,
          77.398445,
          51.837585,
          -54.623814,
          -72.56171,
          -33.593754,
          -108.85324,
          -37.96377,
          -62.579323,
          -18.60746,
          -35.24446,
          -11.811858,
          -33.843155,
          -32.401684,
          -25.95088,
          50.771545,
          47.881687,
          47.881687,
          53.014683,
          38.894554,
          15.116348,
          8.580715,
          6.0952253,
          59.289867,
          92.50792,
          59.939194,
          77.398445,
          40.974503,
          -66.10793,
          -47.95246,
          -40.200348,
          -102.9053,
          -50.944817,
          -41.879436,
          -30.661512,
          49.328674,
          -11.20981,
          -16.467443,
          -22.18333,
          -33.742413,
          53.014683,
          53.014683,
          40.22021,
          53.014683,
          12.562505,
          -127.76411,
          17.547928,
          27.820526,
          76.46659,
          -3.151461,
          75.812584,
          63.784054,
          25.895021,
          -2.4834576,
          11.498683,
          7.0043917,
          -104.283966,
          -45.414783,
          -43.627045,
          -1.59217,
          -82.31593,
          35.017044,
          26.867619,
          23.160532,
          12.530785,
          -108.70074,
          -112.72037,
          -111.702354,
          53.014683,
          53.014683,
          -23.221148,
          -35.879776,
          -115.23795,
          74.00534,
          92.50792,
          59.289867,
          14.535902,
          6.295444,
          20.559622,
          56.956673,
          -11.253809,
          48.756634,
          58.985645,
          40.199356,
          27.256538,
          83.193436,
          83.193436,
          9.983015,
          -40.727795,
          -60.16898,
          -90.82061,
          -84.0922,
          11.702613,
          -113.989235,
          -39.180546,
          23.154911,
          88.7631,
          32.11042,
          -42.812874,
          -74.83298,
          -49.38744,
          32.424633,
          48.04089,
          -16.203926,
          -55.500084,
          -111.504944,
          88.12991,
          34.491264,
          31.29908,
          26.992853,
          6.687885,
          6.695544,
          18.913963,
          -9.525626,
          72.745445,
          -2.5546496,
          30.42552,
          36.981182,
          83.193436,
          83.193436,
          83.193436,
          -49.55041,
          -70.99359,
          -61.38488,
          -34.649334,
          -46.802402,
          -9.317612,
          6.761601,
          20.348694,
          88.7631,
          32.11042,
          -7.2049594,
          -58.565662,
          -59.79748,
          -59.33217,
          -60.87564,
          48.04089,
          78.58171,
          -14.1667795,
          -18.797012,
          59.289867,
          25.604315,
          20.130604,
          25.646914,
          17.62319,
          41.91619,
          3.844339,
          -23.287344,
          -9.450413,
          73.62483,
          50.929363,
          12.760492,
          2.2706192,
          65.771164,
          -18.99229,
          -111.399765,
          -28.146711,
          -29.94341,
          -79.66374,
          -85.2264,
          6.073487,
          88.7631,
          32.11042,
          -9.416413,
          -64.38012,
          -36.513744,
          -9.783653,
          53.014683,
          -28.479427,
          -19.486225,
          -4.969827,
          -127.47723,
          21.948181,
          43.802185,
          47.502193,
          2.2594337,
          -69.613655,
          26.652985,
          -17.495995,
          100.97335,
          12.760492,
          3.894139,
          28.545452,
          -50.853485,
          -109.26426,
          -109.04515,
          -30.928389,
          -21.362623,
          -1.3421998,
          15.484518,
          90.71786,
          82.47886,
          102.912674,
          -69.77543,
          -43.62161,
          -59.6813,
          -41.06303,
          -43.95999,
          -44.41908,
          -32.6916,
          -5.1829886,
          89.42708,
          -43.01002,
          39.72384,
          36.647522,
          38.502007,
          31.334703,
          18.960608,
          36.86279,
          23.817793,
          56.788433,
          83.193436,
          100.97335,
          6.8506937,
          -49.940807,
          -42.61006,
          -40.801094,
          -83.56521,
          -100.523575,
          -72.655594,
          -120.17781,
          -125.87483,
          82.47886,
          90.71786,
          82.47886,
          11.739061,
          -44.027355,
          -55.497486,
          -104.824486,
          -39.622074,
          -96.091385,
          73.93872,
          77.76193,
          -46.94208,
          108.09064,
          33.705677,
          27.724754,
          19.509388,
          16.909946,
          79.855606,
          100.97335,
          5.279648,
          15.671419,
          -40.975548,
          -48.570454,
          -41.67003,
          -64.88487,
          -50.920166,
          -29.211996,
          -18.07701,
          33.47987,
          117.41844,
          82.47886,
          82.47886,
          29.331299,
          -22.096798,
          -23.92348,
          -95.48201,
          -94.32949,
          -65.267815,
          -99.282196,
          -72.02822,
          75.812584,
          94.73652,
          -87.20446,
          -145.53896,
          -155.23753
         ],
         "y": [
          -3.36866,
          -52.201893,
          -59.23568,
          14.622157,
          14.622157,
          14.622157,
          -13.144026,
          85.166046,
          77.36359,
          89.01205,
          95.51659,
          91.497856,
          107.44016,
          47.235134,
          34.117672,
          34.117672,
          -69.5138,
          -79.36838,
          -15.002066,
          -59.861984,
          -70.30387,
          -1.9617945,
          14.622157,
          14.622157,
          14.622157,
          83.19511,
          107.48967,
          98.759865,
          91.8627,
          107.44016,
          47.235134,
          34.117672,
          -78.27678,
          -79.36838,
          -67.114296,
          -18.142607,
          27.676073,
          24.772945,
          -22.26954,
          30.74332,
          30.74332,
          90.41272,
          99.09794,
          99.48961,
          34.117672,
          28.942373,
          10.988252,
          16.863405,
          15.128853,
          87.323975,
          81.009224,
          50.918797,
          50.918797,
          107.81469,
          -3.9688132,
          -100.421875,
          -7.151914,
          9.250986,
          -52.455837,
          87.323975,
          87.323975,
          87.323975,
          87.323975,
          50.918797,
          13.550632,
          13.550632,
          -3.9688132,
          -100.421875,
          -7.151914,
          -95.303,
          25.069998,
          1.0139908,
          -51.176636,
          105.91473,
          87.323975,
          87.323975,
          87.323975,
          13.550632,
          13.550632,
          13.550632,
          13.550632,
          20.672867,
          22.055363,
          -97.76002,
          3.0531101,
          -43.345673,
          -63.848057,
          116.71865,
          71.185974,
          87.323975,
          87.323975,
          87.59879,
          13.550632,
          13.550632,
          13.550632,
          13.550632,
          30.302713,
          9.637412,
          -15.026204,
          -51.70062,
          -57.749256,
          97.03905,
          -102.08816,
          -7.4673266,
          87.323975,
          87.59879,
          87.59879,
          13.550632,
          13.550632,
          13.550632,
          13.550632,
          -102.45622,
          -102.45622,
          43.40659,
          8.556029,
          14.361982,
          -14.035232,
          -0.92978525,
          1.4571159,
          45.73602,
          -97.96865,
          -103.73944,
          76.142784,
          44.857185,
          13.550632,
          121.92185,
          -12.928474,
          57.937294,
          64.4261,
          59.527122,
          28.240377,
          -62.088314,
          43.102104,
          111.54421,
          0.88544047,
          0.88544047,
          39.199665,
          112.9192,
          106.58529,
          53.921787,
          53.996136,
          -18.001596,
          22.190058,
          43.40659,
          -1.1756821,
          -31.054014,
          -84.8307,
          -79.32696,
          29.114506,
          104.00649,
          112.9192,
          113.06042,
          24.824087,
          44.468098,
          44.468098,
          24.621279,
          -59.806946,
          -0.581752,
          -3.6809442,
          60.894566,
          63.82244,
          75.39755,
          34.507473,
          68.39943,
          68.39943,
          50.35923,
          24.621279,
          24.621279,
          -61.19353,
          -16.98365,
          10.973346,
          53.879993,
          -2.7139945,
          -22.727018,
          32.910835,
          69.9595,
          78.43004,
          78.933205,
          82.07766,
          -19.036829,
          -116.10513,
          -115.92493,
          -21.781242,
          -12.013683,
          7.1385455,
          83.15649,
          24.621279,
          24.621279,
          -80.02571,
          -82.89222,
          -35.841278,
          39.891495,
          40.691917,
          -0.06474326,
          63.292553,
          -46.552425,
          69.54921,
          91.66547,
          96.40676,
          82.07766,
          82.07766,
          -30.37033,
          -22.413006,
          -44.008377,
          -26.553988,
          -12.806829,
          76.05502,
          -44.49593,
          -65.44738,
          -73.99224,
          -39.060486,
          -38.8799,
          5.306284,
          50.49846,
          40.275524,
          -0.34543672,
          81.897995,
          91.66547,
          86.928375,
          70.231186,
          61.441658,
          82.07766,
          -37.8631,
          0.56830555,
          -9.396245,
          -55.68355,
          -27.854141,
          -83.89381,
          -25.546778,
          -9.343414,
          -21.42591,
          -79.18898,
          -64.20386,
          -56.714886,
          -84.96216,
          18.638018,
          -32.762253,
          -0.85276204,
          19.335876,
          20.263617,
          50.847496,
          99.01041,
          -10.853923,
          55.396584,
          63.243664,
          24.987804,
          -14.476571,
          69.52436,
          -1.4018869,
          -83.31514,
          -77.43898,
          -78.15728,
          -97.78139,
          -80.885185,
          -74.72812,
          19.274437,
          -20.657625,
          -26.196255,
          -60.459583,
          -60.603348,
          -72.20566,
          -84.92821,
          -86.831856,
          43.40659,
          14.130868,
          6.100399,
          7.0800076,
          20.284956,
          91.56949,
          -73.193886,
          -63.855347,
          8.258708,
          48.261826,
          37.620792,
          2.1768234,
          -5.190216,
          -81.41156,
          -72.48633,
          -84.65202,
          -69.93871,
          -81.84712,
          -38.377033,
          1.600141,
          -34.36053,
          22.017914,
          -35.530827,
          -49.273056,
          46.44521,
          -70.56033,
          28.306116,
          -13.242125,
          -17.594896,
          -41.59896,
          -6.222268,
          -51.623375,
          -36.910072,
          -4.2444572,
          35.652744,
          23.745386,
          39.63628,
          108.402985,
          -72.47209,
          -79.65652,
          -89.50723,
          -63.42433,
          -47.616753,
          -21.896544,
          -80.49412,
          -53.144882,
          -46.964676,
          104.7881,
          83.14972,
          12.570889,
          11.367654,
          -1.0376343,
          -25.268688,
          -20.436972,
          -35.600876,
          -39.48503,
          0.5974532,
          8.893851,
          82.7458,
          -6.2834773,
          -54.18368,
          -63.33592,
          92.14199,
          46.609898,
          -71.818695,
          61.011826,
          3.0820818,
          -82.12468,
          -90.41328,
          -96.82505,
          -94.353065,
          15.220866,
          67.00317,
          67.00317,
          43.40659,
          -3.7689376,
          13.980837,
          9.492496,
          -6.750539,
          -2.2017598,
          7.0418,
          -39.016308,
          20.614626,
          76.85257,
          87.46921,
          58.151157,
          -54.18368,
          -54.18368,
          -54.18368,
          -102.36512,
          -91.39155,
          20.137989,
          -65.31298,
          -44.457054,
          -39.006783,
          -24.243526,
          -21.600744,
          -105.7651,
          -95.63763,
          -16.089746,
          -54.782646,
          1.2561669,
          67.00317,
          1.9458317,
          1.9458317,
          34.848385,
          35.63896,
          -54.31521,
          29.143042,
          -41.79752,
          2.899961,
          -30.602304,
          -24.891771,
          -27.375372,
          -15.51845,
          -49.898727,
          55.236053,
          -6.1329412,
          -44.495228,
          -54.18368,
          -63.33592,
          -95.44242,
          -74.33719,
          -74.67426,
          7.730532,
          7.9390974,
          -11.299641,
          -33.959488,
          8.863846,
          -53.78925,
          22.414331,
          -64.0313,
          -48.45007,
          -8.90149,
          73.64718,
          1.9458317,
          1.9458317,
          2.1246636,
          -13.282055,
          -42.252033,
          45.134033,
          21.591042,
          34.10953,
          -46.718227,
          -21.735586,
          -51.553238,
          -41.516678,
          -92.06164,
          -24.481724,
          19.13368,
          -63.33592,
          -63.33592,
          -44.495228,
          -34.862106,
          -63.068253,
          9.177186,
          -3.9349484,
          -8.758121,
          -8.758121,
          -53.124783,
          23.552826,
          82.72793,
          -19.964415,
          85.94324,
          61.341183,
          -3.4273431,
          -24.789078,
          -36.59995,
          -57.188885,
          -14.519458,
          -35.11558,
          -21.2234,
          -37.688053,
          -67.68597,
          -51.629265,
          51.59932,
          7.274762,
          -63.33592,
          -63.33592,
          -44.495228,
          -44.495228,
          -92.32667,
          -64.880005,
          -36.224876,
          -15.818611,
          66.33979,
          12.730661,
          -41.35784,
          -21.600744,
          84.05184,
          32.82701,
          34.702377,
          -7.1137624,
          -12.859167,
          -33.47611,
          -34.086872,
          -53.293842,
          -62.675583,
          68.94093,
          52.89346,
          51.225765,
          39.433727,
          -63.33592,
          -41.967445,
          -63.33592,
          -41.967445,
          -39.732075,
          -34.99385,
          -35.209038,
          -19.133087,
          76.0437,
          1.2839715,
          1.2839715,
          1.2839715,
          103.16213,
          43.45761,
          -24.870146,
          -18.209671,
          -13.489906,
          -73.21421,
          -42.112457,
          58.06513,
          64.668724,
          44.02932,
          7.6331487,
          9.675428,
          -61.247334,
          -63.33592,
          -63.33592,
          -63.33592,
          -63.33592,
          -102.177505,
          -63.387043,
          -46.231853,
          -31.566397,
          -8.9722805,
          -20.98667,
          -8.758121,
          103.03696,
          -23.771214,
          47.96977,
          10.393682,
          -18.418621,
          -2.833952,
          62.861877,
          -16.12382,
          -45.304234,
          47.604675,
          -18.21979,
          6.9281673,
          51.894783,
          -49.787266,
          -33.912815,
          -29.446766,
          -44.495228,
          54.805897,
          37.98274,
          1.8213938,
          -21.251673,
          -16.825274,
          -10.85734,
          -11.692853,
          -3.2593334,
          -65.86337,
          46.128597,
          -1.1158023,
          15.440146,
          -15.378711,
          13.013039,
          -70.64859,
          65.46838,
          -58.049267,
          -27.282959,
          50.26194,
          66.07681,
          81.69134,
          1.7632653,
          -29.446766,
          -29.446766,
          -63.33592,
          64.6495,
          -24.169926,
          14.269506,
          -20.553047,
          -1.5941867,
          -9.612379,
          -11.299641,
          -3.2593334,
          -58.24083,
          50.127884,
          50.512268,
          31.441195,
          -59.28727,
          -53.028263,
          -57.221024,
          -58.532585,
          -92.2028,
          -38.2801,
          -40.800983,
          73.22418,
          77.144905,
          -63.33592,
          -63.33592,
          -44.495228,
          -63.33592,
          13.144434,
          -36.924572,
          -7.505281,
          -12.41498,
          -51.88381,
          44.79166,
          -20.98667,
          47.85143,
          -84.04843,
          7.311241,
          -14.12291,
          -21.057583,
          4.237895,
          14.052758,
          24.351776,
          -53.611267,
          -67.94932,
          -48.626728,
          -38.33423,
          -34.957264,
          -48.754116,
          -55.979122,
          -45.27483,
          32.52403,
          -63.33592,
          -63.33592,
          -5.237894,
          -8.213543,
          -75.26782,
          5.737579,
          -9.612379,
          -1.5941867,
          39.704575,
          46.552067,
          73.52302,
          58.406326,
          73.751144,
          48.20252,
          60.777084,
          -84.07983,
          -5.38887,
          -3.0591357,
          -3.0591357,
          52.65001,
          27.983002,
          -24.915602,
          -33.29091,
          -34.59836,
          -45.654957,
          -23.127031,
          -74.614426,
          -66.205475,
          34.653664,
          -51.597496,
          -19.971321,
          72.29191,
          74.911804,
          86.38627,
          -22.484879,
          -12.751068,
          -29.944855,
          -74.40986,
          -29.050022,
          37.33255,
          41.774715,
          40.475895,
          79.86354,
          66.51389,
          66.680824,
          75.313225,
          90.63635,
          65.617775,
          -74.01356,
          -69.778595,
          -3.0591357,
          -3.0591357,
          -3.0591357,
          73.3861,
          -22.103256,
          -32.15336,
          -7.676984,
          -50.772606,
          -62.832848,
          -71.70587,
          -69.9633,
          34.653664,
          -51.597496,
          38.711136,
          63.055443,
          73.62438,
          -5.6454525,
          -73.61493,
          -22.484879,
          -60.58065,
          -23.141582,
          -15.872072,
          -1.5941867,
          15.399999,
          13.91197,
          51.478718,
          54.976032,
          68.67018,
          68.02062,
          47.540432,
          53.867622,
          43.543823,
          -76.032265,
          119.90261,
          71.08742,
          45.918385,
          25.133251,
          -20.889078,
          -37.356182,
          -3.5479558,
          -21.344906,
          -2.471657,
          -64.50911,
          34.653664,
          -51.597496,
          18.411066,
          51.731617,
          -33.67154,
          -27.639254,
          -63.33592,
          -7.53545,
          -11.988848,
          -22,
          17.029703,
          3.0163758,
          25.147463,
          16.698341,
          80.56774,
          72.6206,
          -121.38455,
          61.910828,
          -27.541628,
          119.90261,
          69.27722,
          62.495926,
          21.735947,
          -31.476465,
          -46.900055,
          33.85728,
          23.870806,
          23.769196,
          -71.16746,
          69.34822,
          62.701694,
          38.10043,
          29.89662,
          5.5185976,
          -23.266655,
          -45.928894,
          9.336587,
          -85.28277,
          -13.164101,
          25.212126,
          7.0122175,
          54.17545,
          -65.497154,
          21.055735,
          26.827194,
          101.71499,
          87.05683,
          88.743,
          26.828537,
          53.145542,
          -3.0591357,
          -27.541628,
          -62.47381,
          -25.462002,
          -36.33509,
          -4.598976,
          -38.438316,
          -43.2316,
          -53.215897,
          20.222282,
          22.65416,
          62.701694,
          69.34822,
          62.701694,
          -51.83105,
          48.933655,
          44.177605,
          -25.656103,
          -79.554146,
          -85.235954,
          18.492044,
          -29.334196,
          55.076607,
          35.03634,
          82.18042,
          83.85315,
          37.026287,
          49.61147,
          -22.481924,
          -27.541628,
          -72.20963,
          26.846802,
          31.090698,
          24.726812,
          24.394894,
          -55.927658,
          -52.612698,
          27.98111,
          24.856045,
          -69.186295,
          19.826775,
          62.701694,
          62.701694,
          -60.047756,
          15.772166,
          34.679874,
          -34.26244,
          -49.878555,
          -17.073254,
          -84.28499,
          59.268776,
          -20.98667,
          -5.527524,
          -95.23489,
          -33.924633,
          -23.70642
         ],
         "z": [
          64.28594,
          6.516115,
          20.60984,
          77.53659,
          77.53659,
          77.53659,
          -15.151625,
          -29.146725,
          -37.3825,
          -36.85685,
          -23.58875,
          -7.5422544,
          67.59835,
          41.83819,
          37.213306,
          37.213306,
          -8.727338,
          7.08599,
          -12.098738,
          30.310654,
          40.38318,
          25.097212,
          77.53659,
          77.53659,
          77.53659,
          -35.11905,
          -1.515456,
          -19.28763,
          2.9576135,
          67.59835,
          41.83819,
          37.213306,
          -3.39273,
          7.08599,
          4.85766,
          -1.447786,
          34.877384,
          22.310873,
          -69.28381,
          74.20403,
          74.20403,
          -23.7284,
          10.153072,
          22.644201,
          37.213306,
          51.207638,
          36.341656,
          52.757996,
          40.285564,
          45.505493,
          31.287142,
          44.55356,
          44.55356,
          37.055023,
          -7.6499667,
          -69.176895,
          -3.236606,
          47.796967,
          73.454865,
          45.505493,
          45.505493,
          45.505493,
          45.505493,
          44.55356,
          12.62209,
          12.62209,
          -7.6499667,
          -69.176895,
          -3.236606,
          -46.638096,
          66.134346,
          -62.017376,
          63.750195,
          39.99795,
          45.505493,
          45.505493,
          45.505493,
          12.62209,
          12.62209,
          12.62209,
          12.62209,
          -57.203697,
          -62.832806,
          -17.501919,
          -74.36219,
          41.268982,
          55.626617,
          31.232035,
          28.226522,
          45.505493,
          45.505493,
          22.844301,
          12.62209,
          12.62209,
          12.62209,
          12.62209,
          -68.17958,
          -59.11354,
          8.507246,
          34.679146,
          49.076725,
          29.08905,
          -43.111214,
          47.2903,
          45.505493,
          22.844301,
          22.844301,
          12.62209,
          12.62209,
          12.62209,
          12.62209,
          -10.3637295,
          -10.3637295,
          -3.053823,
          -44.526115,
          -16.945177,
          -0.5459438,
          3.5126915,
          -54.794582,
          88.01311,
          -31.625616,
          -23.05841,
          12.20086,
          60.2586,
          12.62209,
          22.065151,
          -44.579227,
          -61.362667,
          -28.598185,
          -64.334305,
          -18.098919,
          -40.342636,
          74.89135,
          57.917263,
          50.904976,
          50.904976,
          60.87582,
          29.160032,
          21.497978,
          -50.64245,
          70.206055,
          -29.940702,
          -41.262917,
          -3.053823,
          -42.04957,
          60.731358,
          56.593937,
          65.62673,
          82.51173,
          62.241642,
          29.160032,
          36.618633,
          82.50581,
          37.204136,
          37.204136,
          8.655841,
          -24.994478,
          -51.91322,
          59.491547,
          21.961052,
          6.571764,
          -4.314719,
          99.19295,
          59.398884,
          59.398884,
          61.34155,
          8.655841,
          8.655841,
          -39.820187,
          -26.310919,
          47.306046,
          25.333525,
          -42.366787,
          -51.272377,
          95.01947,
          44.733837,
          43.993458,
          54.67281,
          87.83177,
          43.74721,
          -16.54375,
          -20.882523,
          -65.95708,
          -15.422899,
          -11.247139,
          -60.23445,
          8.655841,
          8.655841,
          -0.44546792,
          7.7374077,
          6.8256207,
          11.2161,
          23.01387,
          -30.197525,
          -55.489708,
          -61.9957,
          25.871805,
          41.56942,
          52.962357,
          87.83177,
          87.83177,
          -25.189692,
          -15.188321,
          -12.222834,
          36.843285,
          66.83535,
          -49.53714,
          -12.487937,
          -3.6462705,
          0.29060307,
          32.16491,
          18.526802,
          17.253374,
          -55.222404,
          -21.265808,
          2.4440362,
          27.424734,
          41.56942,
          38.94498,
          90.6473,
          94.75049,
          87.83177,
          -17.609844,
          37.09636,
          28.62368,
          -25.057339,
          59.15042,
          0.92675495,
          2.180455,
          10.634552,
          94.32015,
          8.6841545,
          10.561911,
          42.88734,
          -33.711475,
          58.709183,
          58.945896,
          8.193866,
          7.072547,
          6.909655,
          -25.690052,
          -5.5003867,
          -20.650064,
          53.58137,
          4.548428,
          47.194397,
          -4.518313,
          99.42131,
          7.4724407,
          -47.713215,
          -33.48952,
          -4.0750866,
          -26.289747,
          -18.263094,
          -33.518234,
          26.36993,
          22.055056,
          2.2131836,
          19.738531,
          4.2204876,
          -6.6475015,
          -45.21443,
          -41.159157,
          -3.053823,
          -14.692704,
          -8.302369,
          0.8119638,
          10.234995,
          -13.358102,
          -36.862614,
          -45.66894,
          16.838213,
          -68.161644,
          2.609277,
          14.201208,
          24.309536,
          27.205126,
          -12.567723,
          -16.364681,
          -17.229927,
          -5.8095737,
          -24.7929,
          -39.490036,
          -5.9063625,
          33.38359,
          -4.2863803,
          -7.3199415,
          72.4917,
          -38.23219,
          -8.298246,
          67.3478,
          50.0219,
          -27.161163,
          5.292629,
          -7.3655972,
          23.621246,
          -13.859238,
          -66.69265,
          12.566181,
          -25.14737,
          -27.346857,
          -77.10824,
          -0.53829986,
          -11.364473,
          -19.455372,
          -44.873474,
          -32.42209,
          24.592506,
          7.2685795,
          10.998902,
          -57.834606,
          66.017395,
          28.429209,
          20.67816,
          77.73098,
          31.619963,
          4.096388,
          -0.42834097,
          -15.863881,
          4.3360577,
          -8.39171,
          18.298143,
          27.745113,
          19.312943,
          45.631374,
          9.528272,
          -70.424194,
          14.141743,
          -20.279581,
          53.25254,
          19.647455,
          13.777832,
          8.244534,
          -8.724761,
          -106.4884,
          65.820335,
          65.820335,
          -3.053823,
          36.557148,
          -29.818274,
          68.87415,
          55.943035,
          -29.679392,
          -0.26073834,
          -14.265326,
          5.291382,
          28.019272,
          23.803736,
          -4.909104,
          19.312943,
          19.312943,
          19.312943,
          8.145956,
          -48.386158,
          40.142784,
          5.931913,
          87.13442,
          94.24191,
          -53.885113,
          -61.03512,
          16.933912,
          20.297516,
          4.258053,
          14.143187,
          -22.999601,
          65.820335,
          48.49823,
          48.49823,
          28.033772,
          -1.4142087,
          -24.913715,
          -64.133835,
          -42.2013,
          55.690712,
          15.670689,
          18.620178,
          -3.2150595,
          -8.221326,
          -28.0264,
          6.5049334,
          -0.37708235,
          40.438976,
          19.312943,
          45.631374,
          2.9626923,
          -6.0264435,
          -4.3587303,
          101.82501,
          97.27816,
          -79.323006,
          -62.42443,
          -78.450134,
          -32.172386,
          -5.500079,
          23.87373,
          1.3352453,
          -26.869833,
          -18.108793,
          48.49823,
          48.49823,
          -21.040207,
          6.560046,
          -25.54704,
          -24.385262,
          -45.316795,
          -45.376072,
          12.133229,
          41.32914,
          -4.835251,
          -27.111414,
          -26.572065,
          -18.06488,
          37.427788,
          45.631374,
          45.631374,
          40.438976,
          -70.204155,
          -14.543084,
          89.85411,
          96.357216,
          -55.601917,
          -55.601917,
          -29.591269,
          0.2704892,
          50.672062,
          -16.771494,
          -50.68419,
          -44.82643,
          -73.56339,
          -32.759274,
          -45.629745,
          40.196514,
          89.21702,
          88.56427,
          76.88483,
          32.216537,
          -18.824202,
          -31.480024,
          -14.182817,
          78.06295,
          45.631374,
          45.631374,
          40.438976,
          40.438976,
          -8.067453,
          -24.559273,
          -51.971207,
          100.65503,
          86.141716,
          -58.883354,
          -34.514484,
          -61.03512,
          60.857204,
          39.07501,
          23.925856,
          26.583204,
          21.492125,
          -40.49661,
          79.12602,
          56.1367,
          15.076777,
          -41.700024,
          -17.839592,
          3.7221508,
          -2.3402698,
          45.631374,
          45.885353,
          45.631374,
          45.885353,
          -16.86225,
          -50.25941,
          -59.201813,
          98.244995,
          82.17848,
          -74.085045,
          -74.085045,
          -74.085045,
          -40.0932,
          10.516349,
          -30.674576,
          33.375523,
          44.91606,
          10.388741,
          45.796974,
          -14.625828,
          -36.386387,
          19.47754,
          54.48456,
          -20.239248,
          -53.857506,
          45.631374,
          45.631374,
          45.631374,
          45.631374,
          -2.6955192,
          -9.904178,
          54.35873,
          76.77879,
          -84.87769,
          -72.17601,
          -55.601917,
          -44.6767,
          33.27012,
          -4.0173,
          -6.161088,
          -20.35347,
          33.986816,
          8.395573,
          47.15878,
          8.159815,
          -15.768446,
          -68.32438,
          58.256866,
          4.5407577,
          -63.098373,
          11.328656,
          6.6294646,
          40.438976,
          -39.8788,
          -35.105537,
          66.03272,
          72.65063,
          -91.83908,
          -88.79534,
          -44.494244,
          28.930176,
          -1.7759309,
          40.400078,
          16.78144,
          -21.379581,
          -12.233536,
          -33.98498,
          -23.046114,
          24.44779,
          -48.634583,
          -56.008255,
          -77.668625,
          -8.352688,
          -42.4759,
          -15.12458,
          6.6294646,
          6.6294646,
          45.631374,
          -3.8209896,
          49.807438,
          68.55619,
          61.49202,
          -61.35278,
          -70.14173,
          -79.323006,
          28.930176,
          -12.28924,
          -49.342106,
          25.899136,
          -29.772455,
          -26.765017,
          0.46207973,
          8.881088,
          24.082907,
          11.65266,
          -63.953213,
          -78.104904,
          -22.705315,
          -28.893257,
          45.631374,
          45.631374,
          40.438976,
          45.631374,
          20.477846,
          18.24662,
          60.97203,
          60.347218,
          -57.360683,
          20.961103,
          -72.17601,
          -37.024044,
          -20.380487,
          -82.516785,
          27.086824,
          -28.629816,
          -45.80837,
          100.523705,
          90.544815,
          -1.1135488,
          -63.798004,
          -42.328236,
          -46.99973,
          -57.929565,
          -54.19076,
          -46.285465,
          -32.892647,
          -41.839386,
          45.631374,
          45.631374,
          41.248745,
          34.476353,
          -20.013653,
          -38.61139,
          -70.14173,
          -61.35278,
          -51.71525,
          -60.26506,
          -42.08587,
          -41.406895,
          -72.30939,
          -52.010227,
          -27.70476,
          -29.004847,
          -16.977615,
          2.201963,
          2.201963,
          -77.29981,
          13.236758,
          -34.74761,
          47.965847,
          59.693066,
          -36.402897,
          -55.203186,
          18.505856,
          -49.757145,
          -15.0734,
          -64.424904,
          -49.03792,
          -3.1002636,
          -16.798676,
          -8.356747,
          22.127083,
          -45.108734,
          -20.831882,
          -34.683144,
          -36.62622,
          -10.294208,
          -24.403074,
          -35.209286,
          -42.794693,
          -52.237015,
          -58.369675,
          -54.57937,
          -48.472725,
          -96.34532,
          -28.722612,
          -15.05589,
          2.201963,
          2.201963,
          2.201963,
          -60.65176,
          -11.360617,
          3.2041562,
          -37.097412,
          -68.96264,
          -49.110226,
          -55.764503,
          -62.689934,
          -15.0734,
          -64.424904,
          -49.594788,
          7.124338,
          -5.175495,
          -22.608646,
          34.823975,
          22.127083,
          38.813667,
          42.20087,
          52.26576,
          -61.35278,
          -13.216341,
          -29.661543,
          -56.792007,
          -46.73583,
          -60.065628,
          -71.685135,
          -33.085484,
          -98.73032,
          -65.27208,
          -19.964567,
          4.2868767,
          -25.33797,
          -73.01143,
          -1.6427428,
          -35.55691,
          -1.7757634,
          -24.934837,
          -30.109497,
          -66.78854,
          -79.08416,
          -15.0734,
          -64.424904,
          -35.94957,
          5.271962,
          -17.340714,
          -19.625975,
          45.631374,
          82.205696,
          70.15187,
          73.657425,
          28.66999,
          -34.861984,
          -35.035294,
          -27.766998,
          -66.86505,
          -38.689896,
          -18.31221,
          -97.656425,
          25.34633,
          4.2868767,
          -14.444519,
          5.599843,
          60.28243,
          -21.066807,
          -16.373663,
          -40.89406,
          -31.354635,
          -18.220623,
          -81.35526,
          14.607457,
          1.9706804,
          25.549353,
          -4.3419456,
          -19.39258,
          19.038385,
          -21.593239,
          1.823277,
          -52.596504,
          91.13491,
          77.51179,
          -59.924366,
          67.43794,
          13.875141,
          -53.607937,
          -62.62784,
          -62.168324,
          -57.503204,
          -79.012955,
          27.342827,
          -18.391006,
          2.201963,
          25.34633,
          73.122116,
          -88.374596,
          11.502786,
          -5.6319304,
          -34.002556,
          -42.421055,
          -39.58664,
          -26.504948,
          -16.424492,
          1.9706804,
          14.607457,
          1.9706804,
          -72.82094,
          -40.785183,
          -35.461082,
          7.26247,
          -35.20886,
          -25.65312,
          -35.649326,
          -51.77989,
          77.9254,
          46.430347,
          -56.907887,
          -74.95809,
          26.799932,
          36.597183,
          20.877317,
          25.34633,
          69.21742,
          -80.397156,
          -55.586014,
          -47.87759,
          -10.780023,
          -12.17559,
          20.490616,
          -81.23356,
          -82.93041,
          -72.748726,
          35.6335,
          1.9706804,
          1.9706804,
          -80.77848,
          65.96647,
          -15.68612,
          -7.2158775,
          -10.928164,
          -49.7001,
          -13.150321,
          -31.014559,
          -72.17601,
          -43.087383,
          -1.1192712,
          -2.306171,
          4.55575
         ]
        }
       ],
       "layout": {
        "coloraxis": {
         "colorbar": {
          "title": {
           "text": "label"
          }
         },
         "colorscale": [
          [
           0,
           "#0d0887"
          ],
          [
           0.1111111111111111,
           "#46039f"
          ],
          [
           0.2222222222222222,
           "#7201a8"
          ],
          [
           0.3333333333333333,
           "#9c179e"
          ],
          [
           0.4444444444444444,
           "#bd3786"
          ],
          [
           0.5555555555555556,
           "#d8576b"
          ],
          [
           0.6666666666666666,
           "#ed7953"
          ],
          [
           0.7777777777777778,
           "#fb9f3a"
          ],
          [
           0.8888888888888888,
           "#fdca26"
          ],
          [
           1,
           "#f0f921"
          ]
         ]
        },
        "legend": {
         "tracegroupgap": 0
        },
        "margin": {
         "t": 60
        },
        "scene": {
         "domain": {
          "x": [
           0,
           1
          ],
          "y": [
           0,
           1
          ]
         },
         "xaxis": {
          "title": {
           "text": "x"
          }
         },
         "yaxis": {
          "title": {
           "text": "y"
          }
         },
         "zaxis": {
          "title": {
           "text": "z"
          }
         }
        },
        "template": {
         "data": {
          "bar": [
           {
            "error_x": {
             "color": "#2a3f5f"
            },
            "error_y": {
             "color": "#2a3f5f"
            },
            "marker": {
             "line": {
              "color": "#E5ECF6",
              "width": 0.5
             },
             "pattern": {
              "fillmode": "overlay",
              "size": 10,
              "solidity": 0.2
             }
            },
            "type": "bar"
           }
          ],
          "barpolar": [
           {
            "marker": {
             "line": {
              "color": "#E5ECF6",
              "width": 0.5
             },
             "pattern": {
              "fillmode": "overlay",
              "size": 10,
              "solidity": 0.2
             }
            },
            "type": "barpolar"
           }
          ],
          "carpet": [
           {
            "aaxis": {
             "endlinecolor": "#2a3f5f",
             "gridcolor": "white",
             "linecolor": "white",
             "minorgridcolor": "white",
             "startlinecolor": "#2a3f5f"
            },
            "baxis": {
             "endlinecolor": "#2a3f5f",
             "gridcolor": "white",
             "linecolor": "white",
             "minorgridcolor": "white",
             "startlinecolor": "#2a3f5f"
            },
            "type": "carpet"
           }
          ],
          "choropleth": [
           {
            "colorbar": {
             "outlinewidth": 0,
             "ticks": ""
            },
            "type": "choropleth"
           }
          ],
          "contour": [
           {
            "colorbar": {
             "outlinewidth": 0,
             "ticks": ""
            },
            "colorscale": [
             [
              0,
              "#0d0887"
             ],
             [
              0.1111111111111111,
              "#46039f"
             ],
             [
              0.2222222222222222,
              "#7201a8"
             ],
             [
              0.3333333333333333,
              "#9c179e"
             ],
             [
              0.4444444444444444,
              "#bd3786"
             ],
             [
              0.5555555555555556,
              "#d8576b"
             ],
             [
              0.6666666666666666,
              "#ed7953"
             ],
             [
              0.7777777777777778,
              "#fb9f3a"
             ],
             [
              0.8888888888888888,
              "#fdca26"
             ],
             [
              1,
              "#f0f921"
             ]
            ],
            "type": "contour"
           }
          ],
          "contourcarpet": [
           {
            "colorbar": {
             "outlinewidth": 0,
             "ticks": ""
            },
            "type": "contourcarpet"
           }
          ],
          "heatmap": [
           {
            "colorbar": {
             "outlinewidth": 0,
             "ticks": ""
            },
            "colorscale": [
             [
              0,
              "#0d0887"
             ],
             [
              0.1111111111111111,
              "#46039f"
             ],
             [
              0.2222222222222222,
              "#7201a8"
             ],
             [
              0.3333333333333333,
              "#9c179e"
             ],
             [
              0.4444444444444444,
              "#bd3786"
             ],
             [
              0.5555555555555556,
              "#d8576b"
             ],
             [
              0.6666666666666666,
              "#ed7953"
             ],
             [
              0.7777777777777778,
              "#fb9f3a"
             ],
             [
              0.8888888888888888,
              "#fdca26"
             ],
             [
              1,
              "#f0f921"
             ]
            ],
            "type": "heatmap"
           }
          ],
          "heatmapgl": [
           {
            "colorbar": {
             "outlinewidth": 0,
             "ticks": ""
            },
            "colorscale": [
             [
              0,
              "#0d0887"
             ],
             [
              0.1111111111111111,
              "#46039f"
             ],
             [
              0.2222222222222222,
              "#7201a8"
             ],
             [
              0.3333333333333333,
              "#9c179e"
             ],
             [
              0.4444444444444444,
              "#bd3786"
             ],
             [
              0.5555555555555556,
              "#d8576b"
             ],
             [
              0.6666666666666666,
              "#ed7953"
             ],
             [
              0.7777777777777778,
              "#fb9f3a"
             ],
             [
              0.8888888888888888,
              "#fdca26"
             ],
             [
              1,
              "#f0f921"
             ]
            ],
            "type": "heatmapgl"
           }
          ],
          "histogram": [
           {
            "marker": {
             "pattern": {
              "fillmode": "overlay",
              "size": 10,
              "solidity": 0.2
             }
            },
            "type": "histogram"
           }
          ],
          "histogram2d": [
           {
            "colorbar": {
             "outlinewidth": 0,
             "ticks": ""
            },
            "colorscale": [
             [
              0,
              "#0d0887"
             ],
             [
              0.1111111111111111,
              "#46039f"
             ],
             [
              0.2222222222222222,
              "#7201a8"
             ],
             [
              0.3333333333333333,
              "#9c179e"
             ],
             [
              0.4444444444444444,
              "#bd3786"
             ],
             [
              0.5555555555555556,
              "#d8576b"
             ],
             [
              0.6666666666666666,
              "#ed7953"
             ],
             [
              0.7777777777777778,
              "#fb9f3a"
             ],
             [
              0.8888888888888888,
              "#fdca26"
             ],
             [
              1,
              "#f0f921"
             ]
            ],
            "type": "histogram2d"
           }
          ],
          "histogram2dcontour": [
           {
            "colorbar": {
             "outlinewidth": 0,
             "ticks": ""
            },
            "colorscale": [
             [
              0,
              "#0d0887"
             ],
             [
              0.1111111111111111,
              "#46039f"
             ],
             [
              0.2222222222222222,
              "#7201a8"
             ],
             [
              0.3333333333333333,
              "#9c179e"
             ],
             [
              0.4444444444444444,
              "#bd3786"
             ],
             [
              0.5555555555555556,
              "#d8576b"
             ],
             [
              0.6666666666666666,
              "#ed7953"
             ],
             [
              0.7777777777777778,
              "#fb9f3a"
             ],
             [
              0.8888888888888888,
              "#fdca26"
             ],
             [
              1,
              "#f0f921"
             ]
            ],
            "type": "histogram2dcontour"
           }
          ],
          "mesh3d": [
           {
            "colorbar": {
             "outlinewidth": 0,
             "ticks": ""
            },
            "type": "mesh3d"
           }
          ],
          "parcoords": [
           {
            "line": {
             "colorbar": {
              "outlinewidth": 0,
              "ticks": ""
             }
            },
            "type": "parcoords"
           }
          ],
          "pie": [
           {
            "automargin": true,
            "type": "pie"
           }
          ],
          "scatter": [
           {
            "fillpattern": {
             "fillmode": "overlay",
             "size": 10,
             "solidity": 0.2
            },
            "type": "scatter"
           }
          ],
          "scatter3d": [
           {
            "line": {
             "colorbar": {
              "outlinewidth": 0,
              "ticks": ""
             }
            },
            "marker": {
             "colorbar": {
              "outlinewidth": 0,
              "ticks": ""
             }
            },
            "type": "scatter3d"
           }
          ],
          "scattercarpet": [
           {
            "marker": {
             "colorbar": {
              "outlinewidth": 0,
              "ticks": ""
             }
            },
            "type": "scattercarpet"
           }
          ],
          "scattergeo": [
           {
            "marker": {
             "colorbar": {
              "outlinewidth": 0,
              "ticks": ""
             }
            },
            "type": "scattergeo"
           }
          ],
          "scattergl": [
           {
            "marker": {
             "colorbar": {
              "outlinewidth": 0,
              "ticks": ""
             }
            },
            "type": "scattergl"
           }
          ],
          "scattermapbox": [
           {
            "marker": {
             "colorbar": {
              "outlinewidth": 0,
              "ticks": ""
             }
            },
            "type": "scattermapbox"
           }
          ],
          "scatterpolar": [
           {
            "marker": {
             "colorbar": {
              "outlinewidth": 0,
              "ticks": ""
             }
            },
            "type": "scatterpolar"
           }
          ],
          "scatterpolargl": [
           {
            "marker": {
             "colorbar": {
              "outlinewidth": 0,
              "ticks": ""
             }
            },
            "type": "scatterpolargl"
           }
          ],
          "scatterternary": [
           {
            "marker": {
             "colorbar": {
              "outlinewidth": 0,
              "ticks": ""
             }
            },
            "type": "scatterternary"
           }
          ],
          "surface": [
           {
            "colorbar": {
             "outlinewidth": 0,
             "ticks": ""
            },
            "colorscale": [
             [
              0,
              "#0d0887"
             ],
             [
              0.1111111111111111,
              "#46039f"
             ],
             [
              0.2222222222222222,
              "#7201a8"
             ],
             [
              0.3333333333333333,
              "#9c179e"
             ],
             [
              0.4444444444444444,
              "#bd3786"
             ],
             [
              0.5555555555555556,
              "#d8576b"
             ],
             [
              0.6666666666666666,
              "#ed7953"
             ],
             [
              0.7777777777777778,
              "#fb9f3a"
             ],
             [
              0.8888888888888888,
              "#fdca26"
             ],
             [
              1,
              "#f0f921"
             ]
            ],
            "type": "surface"
           }
          ],
          "table": [
           {
            "cells": {
             "fill": {
              "color": "#EBF0F8"
             },
             "line": {
              "color": "white"
             }
            },
            "header": {
             "fill": {
              "color": "#C8D4E3"
             },
             "line": {
              "color": "white"
             }
            },
            "type": "table"
           }
          ]
         },
         "layout": {
          "annotationdefaults": {
           "arrowcolor": "#2a3f5f",
           "arrowhead": 0,
           "arrowwidth": 1
          },
          "autotypenumbers": "strict",
          "coloraxis": {
           "colorbar": {
            "outlinewidth": 0,
            "ticks": ""
           }
          },
          "colorscale": {
           "diverging": [
            [
             0,
             "#8e0152"
            ],
            [
             0.1,
             "#c51b7d"
            ],
            [
             0.2,
             "#de77ae"
            ],
            [
             0.3,
             "#f1b6da"
            ],
            [
             0.4,
             "#fde0ef"
            ],
            [
             0.5,
             "#f7f7f7"
            ],
            [
             0.6,
             "#e6f5d0"
            ],
            [
             0.7,
             "#b8e186"
            ],
            [
             0.8,
             "#7fbc41"
            ],
            [
             0.9,
             "#4d9221"
            ],
            [
             1,
             "#276419"
            ]
           ],
           "sequential": [
            [
             0,
             "#0d0887"
            ],
            [
             0.1111111111111111,
             "#46039f"
            ],
            [
             0.2222222222222222,
             "#7201a8"
            ],
            [
             0.3333333333333333,
             "#9c179e"
            ],
            [
             0.4444444444444444,
             "#bd3786"
            ],
            [
             0.5555555555555556,
             "#d8576b"
            ],
            [
             0.6666666666666666,
             "#ed7953"
            ],
            [
             0.7777777777777778,
             "#fb9f3a"
            ],
            [
             0.8888888888888888,
             "#fdca26"
            ],
            [
             1,
             "#f0f921"
            ]
           ],
           "sequentialminus": [
            [
             0,
             "#0d0887"
            ],
            [
             0.1111111111111111,
             "#46039f"
            ],
            [
             0.2222222222222222,
             "#7201a8"
            ],
            [
             0.3333333333333333,
             "#9c179e"
            ],
            [
             0.4444444444444444,
             "#bd3786"
            ],
            [
             0.5555555555555556,
             "#d8576b"
            ],
            [
             0.6666666666666666,
             "#ed7953"
            ],
            [
             0.7777777777777778,
             "#fb9f3a"
            ],
            [
             0.8888888888888888,
             "#fdca26"
            ],
            [
             1,
             "#f0f921"
            ]
           ]
          },
          "colorway": [
           "#636efa",
           "#EF553B",
           "#00cc96",
           "#ab63fa",
           "#FFA15A",
           "#19d3f3",
           "#FF6692",
           "#B6E880",
           "#FF97FF",
           "#FECB52"
          ],
          "font": {
           "color": "#2a3f5f"
          },
          "geo": {
           "bgcolor": "white",
           "lakecolor": "white",
           "landcolor": "#E5ECF6",
           "showlakes": true,
           "showland": true,
           "subunitcolor": "white"
          },
          "hoverlabel": {
           "align": "left"
          },
          "hovermode": "closest",
          "mapbox": {
           "style": "light"
          },
          "paper_bgcolor": "white",
          "plot_bgcolor": "#E5ECF6",
          "polar": {
           "angularaxis": {
            "gridcolor": "white",
            "linecolor": "white",
            "ticks": ""
           },
           "bgcolor": "#E5ECF6",
           "radialaxis": {
            "gridcolor": "white",
            "linecolor": "white",
            "ticks": ""
           }
          },
          "scene": {
           "xaxis": {
            "backgroundcolor": "#E5ECF6",
            "gridcolor": "white",
            "gridwidth": 2,
            "linecolor": "white",
            "showbackground": true,
            "ticks": "",
            "zerolinecolor": "white"
           },
           "yaxis": {
            "backgroundcolor": "#E5ECF6",
            "gridcolor": "white",
            "gridwidth": 2,
            "linecolor": "white",
            "showbackground": true,
            "ticks": "",
            "zerolinecolor": "white"
           },
           "zaxis": {
            "backgroundcolor": "#E5ECF6",
            "gridcolor": "white",
            "gridwidth": 2,
            "linecolor": "white",
            "showbackground": true,
            "ticks": "",
            "zerolinecolor": "white"
           }
          },
          "shapedefaults": {
           "line": {
            "color": "#2a3f5f"
           }
          },
          "ternary": {
           "aaxis": {
            "gridcolor": "white",
            "linecolor": "white",
            "ticks": ""
           },
           "baxis": {
            "gridcolor": "white",
            "linecolor": "white",
            "ticks": ""
           },
           "bgcolor": "#E5ECF6",
           "caxis": {
            "gridcolor": "white",
            "linecolor": "white",
            "ticks": ""
           }
          },
          "title": {
           "x": 0.05
          },
          "xaxis": {
           "automargin": true,
           "gridcolor": "white",
           "linecolor": "white",
           "ticks": "",
           "title": {
            "standoff": 15
           },
           "zerolinecolor": "white",
           "zerolinewidth": 2
          },
          "yaxis": {
           "automargin": true,
           "gridcolor": "white",
           "linecolor": "white",
           "ticks": "",
           "title": {
            "standoff": 15
           },
           "zerolinecolor": "white",
           "zerolinewidth": 2
          }
         }
        }
       }
      }
     },
     "metadata": {},
     "output_type": "display_data"
    }
   ],
   "source": [
    "color_sequence = px.colors.qualitative.Plotly\n",
    "fig = px.scatter_3d(df, x='x', y='y', z='z', color='label', color_discrete_sequence=color_sequence, hover_data={\n",
    "    'strings': True\n",
    "})\n",
    "fig.show()"
   ]
  },
  {
   "cell_type": "code",
   "execution_count": 87,
   "metadata": {},
   "outputs": [],
   "source": [
    "## pass in cleaned data, generate labelled dataframe\n",
    "\n",
    "def autogenerate_labels(df):\n",
    "    map_data = df['Map Data'].to_numpy()\n",
    "    module_url = \"https://tfhub.dev/google/universal-sentence-encoder/4\"\n",
    "    model = hub.load(module_url)\n",
    "\n",
    "    embeddings_list = generate_use_embeddings(map_data)\n",
    "    np_embeddings = np.array(embeddings_list)\n",
    "    scaler = StandardScaler()\n",
    "    scaled_embeddings = scaler.fit_transform(np_embeddings)\n",
    "\n",
    "    n_clusters = 4\n",
    "    kmeans = KMeans(n_clusters=n_clusters, random_state=42)\n",
    "    kmeans.fit(scaled_embeddings)\n",
    "\n",
    "    y_kmeans = kmeans.labels_\n",
    "\n",
    "    df['label'] = y_kmeans + 1\n",
    "    return df"
   ]
  },
  {
   "cell_type": "code",
   "execution_count": 89,
   "metadata": {},
   "outputs": [
    {
     "data": {
      "text/html": [
       "<div>\n",
       "<style scoped>\n",
       "    .dataframe tbody tr th:only-of-type {\n",
       "        vertical-align: middle;\n",
       "    }\n",
       "\n",
       "    .dataframe tbody tr th {\n",
       "        vertical-align: top;\n",
       "    }\n",
       "\n",
       "    .dataframe thead th {\n",
       "        text-align: right;\n",
       "    }\n",
       "</style>\n",
       "<table border=\"1\" class=\"dataframe\">\n",
       "  <thead>\n",
       "    <tr style=\"text-align: right;\">\n",
       "      <th></th>\n",
       "      <th>row</th>\n",
       "      <th>col</th>\n",
       "      <th>latitude</th>\n",
       "      <th>longitude</th>\n",
       "      <th>Map Data</th>\n",
       "      <th>label</th>\n",
       "    </tr>\n",
       "  </thead>\n",
       "  <tbody>\n",
       "    <tr>\n",
       "      <th>1</th>\n",
       "      <td>0</td>\n",
       "      <td>1</td>\n",
       "      <td>18.89433</td>\n",
       "      <td>72.794102</td>\n",
       "      <td>Prongs Reef is a Natural;</td>\n",
       "      <td>3</td>\n",
       "    </tr>\n",
       "    <tr>\n",
       "      <th>2</th>\n",
       "      <td>0</td>\n",
       "      <td>2</td>\n",
       "      <td>18.89433</td>\n",
       "      <td>72.803607</td>\n",
       "      <td>United Services Club Golf Course is a Leisure ...</td>\n",
       "      <td>4</td>\n",
       "    </tr>\n",
       "    <tr>\n",
       "      <th>3</th>\n",
       "      <td>0</td>\n",
       "      <td>3</td>\n",
       "      <td>18.89433</td>\n",
       "      <td>72.813112</td>\n",
       "      <td>Indian Meterological Department is a Commercia...</td>\n",
       "      <td>1</td>\n",
       "    </tr>\n",
       "    <tr>\n",
       "      <th>13</th>\n",
       "      <td>0</td>\n",
       "      <td>13</td>\n",
       "      <td>18.89433</td>\n",
       "      <td>72.908163</td>\n",
       "      <td>Uran Naval Base is a Landuse: Military;</td>\n",
       "      <td>3</td>\n",
       "    </tr>\n",
       "    <tr>\n",
       "      <th>14</th>\n",
       "      <td>0</td>\n",
       "      <td>14</td>\n",
       "      <td>18.89433</td>\n",
       "      <td>72.917668</td>\n",
       "      <td>Uran Naval Base is a Landuse: Military;</td>\n",
       "      <td>3</td>\n",
       "    </tr>\n",
       "  </tbody>\n",
       "</table>\n",
       "</div>"
      ],
      "text/plain": [
       "    row  col  latitude  longitude  \\\n",
       "1     0    1  18.89433  72.794102   \n",
       "2     0    2  18.89433  72.803607   \n",
       "3     0    3  18.89433  72.813112   \n",
       "13    0   13  18.89433  72.908163   \n",
       "14    0   14  18.89433  72.917668   \n",
       "\n",
       "                                             Map Data  label  \n",
       "1                          Prongs Reef is a Natural;       3  \n",
       "2   United Services Club Golf Course is a Leisure ...      4  \n",
       "3   Indian Meterological Department is a Commercia...      1  \n",
       "13           Uran Naval Base is a Landuse: Military;       3  \n",
       "14           Uran Naval Base is a Landuse: Military;       3  "
      ]
     },
     "execution_count": 89,
     "metadata": {},
     "output_type": "execute_result"
    }
   ],
   "source": [
    "## testing\n",
    "\n",
    "df = pd.read_csv(f'{data_folder}/MMR_DATA.csv')\n",
    "df = clean_data(df)\n",
    "\n",
    "df = autogenerate_labels(df)\n",
    "\n",
    "df.head()"
   ]
  },
  {
   "cell_type": "code",
   "execution_count": null,
   "metadata": {},
   "outputs": [],
   "source": []
  }
 ],
 "metadata": {
  "kernelspec": {
   "display_name": "Python 3",
   "language": "python",
   "name": "python3"
  },
  "language_info": {
   "codemirror_mode": {
    "name": "ipython",
    "version": 3
   },
   "file_extension": ".py",
   "mimetype": "text/x-python",
   "name": "python",
   "nbconvert_exporter": "python",
   "pygments_lexer": "ipython3",
   "version": "3.12.0"
  }
 },
 "nbformat": 4,
 "nbformat_minor": 2
}
