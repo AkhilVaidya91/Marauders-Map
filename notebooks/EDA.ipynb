{
 "cells": [
  {
   "cell_type": "markdown",
   "metadata": {},
   "source": [
    "## __Exploratory Data Analysis__"
   ]
  },
  {
   "cell_type": "code",
   "execution_count": 53,
   "metadata": {},
   "outputs": [],
   "source": [
    "## importing libraries\n",
    "\n",
    "import numpy as numpy\n",
    "import pandas as pd\n",
    "import matplotlib.pyplot as plt\n",
    "import seaborn as sns\n",
    "\n",
    "import sys\n",
    "import os\n",
    "\n",
    "import re\n",
    "import nltk\n",
    "from nltk.corpus import stopwords\n",
    "from nltk.stem import PorterStemmer\n",
    "from nltk.stem import WordNetLemmatizer"
   ]
  },
  {
   "cell_type": "code",
   "execution_count": 6,
   "metadata": {},
   "outputs": [
    {
     "data": {
      "text/html": [
       "<div>\n",
       "<style scoped>\n",
       "    .dataframe tbody tr th:only-of-type {\n",
       "        vertical-align: middle;\n",
       "    }\n",
       "\n",
       "    .dataframe tbody tr th {\n",
       "        vertical-align: top;\n",
       "    }\n",
       "\n",
       "    .dataframe thead th {\n",
       "        text-align: right;\n",
       "    }\n",
       "</style>\n",
       "<table border=\"1\" class=\"dataframe\">\n",
       "  <thead>\n",
       "    <tr style=\"text-align: right;\">\n",
       "      <th></th>\n",
       "      <th>row</th>\n",
       "      <th>col</th>\n",
       "      <th>latitude</th>\n",
       "      <th>longitude</th>\n",
       "      <th>Map Data</th>\n",
       "    </tr>\n",
       "  </thead>\n",
       "  <tbody>\n",
       "    <tr>\n",
       "      <th>0</th>\n",
       "      <td>0</td>\n",
       "      <td>0</td>\n",
       "      <td>18.89433</td>\n",
       "      <td>72.784597</td>\n",
       "      <td>NaN</td>\n",
       "    </tr>\n",
       "    <tr>\n",
       "      <th>1</th>\n",
       "      <td>0</td>\n",
       "      <td>1</td>\n",
       "      <td>18.89433</td>\n",
       "      <td>72.794102</td>\n",
       "      <td>Prongs Reef is a Natural;</td>\n",
       "    </tr>\n",
       "    <tr>\n",
       "      <th>2</th>\n",
       "      <td>0</td>\n",
       "      <td>2</td>\n",
       "      <td>18.89433</td>\n",
       "      <td>72.803607</td>\n",
       "      <td>United Services Club Golf Course is a Leisure ...</td>\n",
       "    </tr>\n",
       "    <tr>\n",
       "      <th>3</th>\n",
       "      <td>0</td>\n",
       "      <td>3</td>\n",
       "      <td>18.89433</td>\n",
       "      <td>72.813112</td>\n",
       "      <td>Indian Meterological Department is a Commercia...</td>\n",
       "    </tr>\n",
       "    <tr>\n",
       "      <th>4</th>\n",
       "      <td>0</td>\n",
       "      <td>4</td>\n",
       "      <td>18.89433</td>\n",
       "      <td>72.822617</td>\n",
       "      <td>NaN</td>\n",
       "    </tr>\n",
       "  </tbody>\n",
       "</table>\n",
       "</div>"
      ],
      "text/plain": [
       "   row  col  latitude  longitude  \\\n",
       "0    0    0  18.89433  72.784597   \n",
       "1    0    1  18.89433  72.794102   \n",
       "2    0    2  18.89433  72.803607   \n",
       "3    0    3  18.89433  72.813112   \n",
       "4    0    4  18.89433  72.822617   \n",
       "\n",
       "                                            Map Data  \n",
       "0                                                NaN  \n",
       "1                         Prongs Reef is a Natural;   \n",
       "2  United Services Club Golf Course is a Leisure ...  \n",
       "3  Indian Meterological Department is a Commercia...  \n",
       "4                                                NaN  "
      ]
     },
     "execution_count": 6,
     "metadata": {},
     "output_type": "execute_result"
    }
   ],
   "source": [
    "data_folder = os.path.join(os.path.dirname(os.getcwd()), 'data')\n",
    "data_file = os.path.join(data_folder, 'MMR_DATA.csv')\n",
    "df = pd.read_csv(data_file)\n",
    "df.head()"
   ]
  },
  {
   "cell_type": "code",
   "execution_count": 7,
   "metadata": {},
   "outputs": [
    {
     "data": {
      "text/html": [
       "<div>\n",
       "<style scoped>\n",
       "    .dataframe tbody tr th:only-of-type {\n",
       "        vertical-align: middle;\n",
       "    }\n",
       "\n",
       "    .dataframe tbody tr th {\n",
       "        vertical-align: top;\n",
       "    }\n",
       "\n",
       "    .dataframe thead th {\n",
       "        text-align: right;\n",
       "    }\n",
       "</style>\n",
       "<table border=\"1\" class=\"dataframe\">\n",
       "  <thead>\n",
       "    <tr style=\"text-align: right;\">\n",
       "      <th></th>\n",
       "      <th>row</th>\n",
       "      <th>col</th>\n",
       "      <th>latitude</th>\n",
       "      <th>longitude</th>\n",
       "      <th>Map Data</th>\n",
       "    </tr>\n",
       "  </thead>\n",
       "  <tbody>\n",
       "    <tr>\n",
       "      <th>0</th>\n",
       "      <td>0</td>\n",
       "      <td>0</td>\n",
       "      <td>18.89433</td>\n",
       "      <td>72.784597</td>\n",
       "      <td></td>\n",
       "    </tr>\n",
       "    <tr>\n",
       "      <th>1</th>\n",
       "      <td>0</td>\n",
       "      <td>1</td>\n",
       "      <td>18.89433</td>\n",
       "      <td>72.794102</td>\n",
       "      <td>Prongs Reef is a Natural;</td>\n",
       "    </tr>\n",
       "    <tr>\n",
       "      <th>2</th>\n",
       "      <td>0</td>\n",
       "      <td>2</td>\n",
       "      <td>18.89433</td>\n",
       "      <td>72.803607</td>\n",
       "      <td>United Services Club Golf Course is a Leisure ...</td>\n",
       "    </tr>\n",
       "    <tr>\n",
       "      <th>3</th>\n",
       "      <td>0</td>\n",
       "      <td>3</td>\n",
       "      <td>18.89433</td>\n",
       "      <td>72.813112</td>\n",
       "      <td>Indian Meterological Department is a Commercia...</td>\n",
       "    </tr>\n",
       "    <tr>\n",
       "      <th>4</th>\n",
       "      <td>0</td>\n",
       "      <td>4</td>\n",
       "      <td>18.89433</td>\n",
       "      <td>72.822617</td>\n",
       "      <td></td>\n",
       "    </tr>\n",
       "  </tbody>\n",
       "</table>\n",
       "</div>"
      ],
      "text/plain": [
       "   row  col  latitude  longitude  \\\n",
       "0    0    0  18.89433  72.784597   \n",
       "1    0    1  18.89433  72.794102   \n",
       "2    0    2  18.89433  72.803607   \n",
       "3    0    3  18.89433  72.813112   \n",
       "4    0    4  18.89433  72.822617   \n",
       "\n",
       "                                            Map Data  \n",
       "0                                                     \n",
       "1                         Prongs Reef is a Natural;   \n",
       "2  United Services Club Golf Course is a Leisure ...  \n",
       "3  Indian Meterological Department is a Commercia...  \n",
       "4                                                     "
      ]
     },
     "execution_count": 7,
     "metadata": {},
     "output_type": "execute_result"
    }
   ],
   "source": [
    "## filling the NaN values in the Map Data Column with empty string\n",
    "\n",
    "df['Map Data'] = df['Map Data'].fillna('')\n",
    "df.head()"
   ]
  },
  {
   "cell_type": "code",
   "execution_count": 20,
   "metadata": {},
   "outputs": [
    {
     "data": {
      "text/plain": [
       "1225"
      ]
     },
     "execution_count": 20,
     "metadata": {},
     "output_type": "execute_result"
    }
   ],
   "source": [
    "len(df)"
   ]
  },
  {
   "cell_type": "code",
   "execution_count": 42,
   "metadata": {},
   "outputs": [],
   "source": [
    "df_len_explore = df.copy()"
   ]
  },
  {
   "cell_type": "code",
   "execution_count": 43,
   "metadata": {},
   "outputs": [
    {
     "data": {
      "text/html": [
       "<div>\n",
       "<style scoped>\n",
       "    .dataframe tbody tr th:only-of-type {\n",
       "        vertical-align: middle;\n",
       "    }\n",
       "\n",
       "    .dataframe tbody tr th {\n",
       "        vertical-align: top;\n",
       "    }\n",
       "\n",
       "    .dataframe thead th {\n",
       "        text-align: right;\n",
       "    }\n",
       "</style>\n",
       "<table border=\"1\" class=\"dataframe\">\n",
       "  <thead>\n",
       "    <tr style=\"text-align: right;\">\n",
       "      <th></th>\n",
       "      <th>Map Data</th>\n",
       "    </tr>\n",
       "  </thead>\n",
       "  <tbody>\n",
       "    <tr>\n",
       "      <th>0</th>\n",
       "      <td></td>\n",
       "    </tr>\n",
       "    <tr>\n",
       "      <th>1</th>\n",
       "      <td>Prongs Reef is a Natural;</td>\n",
       "    </tr>\n",
       "    <tr>\n",
       "      <th>2</th>\n",
       "      <td>United Services Club Golf Course is a Leisure ...</td>\n",
       "    </tr>\n",
       "    <tr>\n",
       "      <th>3</th>\n",
       "      <td>Indian Meterological Department is a Commercia...</td>\n",
       "    </tr>\n",
       "    <tr>\n",
       "      <th>4</th>\n",
       "      <td></td>\n",
       "    </tr>\n",
       "  </tbody>\n",
       "</table>\n",
       "</div>"
      ],
      "text/plain": [
       "                                            Map Data\n",
       "0                                                   \n",
       "1                         Prongs Reef is a Natural; \n",
       "2  United Services Club Golf Course is a Leisure ...\n",
       "3  Indian Meterological Department is a Commercia...\n",
       "4                                                   "
      ]
     },
     "execution_count": 43,
     "metadata": {},
     "output_type": "execute_result"
    }
   ],
   "source": [
    "## dropping the columns that are not needed for the analysis\n",
    "\n",
    "df_len_explore = df_len_explore.drop(columns=['row', 'col', 'latitude', 'longitude'])\n",
    "df_len_explore.head()"
   ]
  },
  {
   "cell_type": "code",
   "execution_count": 44,
   "metadata": {},
   "outputs": [
    {
     "data": {
      "text/plain": [
       "791"
      ]
     },
     "execution_count": 44,
     "metadata": {},
     "output_type": "execute_result"
    }
   ],
   "source": [
    "## dropping the rows with 0 string length and string length > 5000\n",
    "\n",
    "df_len_explore = df_len_explore[df_len_explore['Map Data'].str.len() > 0]\n",
    "df_len_explore = df_len_explore[df_len_explore['Map Data'].str.len() < 5000]\n",
    "len(df_len_explore)"
   ]
  },
  {
   "cell_type": "code",
   "execution_count": 45,
   "metadata": {},
   "outputs": [
    {
     "name": "stdout",
     "output_type": "stream",
     "text": [
      "Discarded rows:  434 / 1225\n"
     ]
    }
   ],
   "source": [
    "print('Discarded rows: ', len(df) - len(df_len_explore), '/', len(df))"
   ]
  },
  {
   "cell_type": "code",
   "execution_count": 52,
   "metadata": {},
   "outputs": [
    {
     "name": "stdout",
     "output_type": "stream",
     "text": [
      "Mean string length:  834.7509481668774\n",
      "80th  percentile string length:  1560.0\n"
     ]
    }
   ],
   "source": [
    "## mean of the string length\n",
    "\n",
    "print('Mean string length: ', df_len_explore['Map Data'].str.len().mean())\n",
    "print('80th  percentile string length: ', df_len_explore['Map Data'].str.len().quantile(0.8))"
   ]
  },
  {
   "cell_type": "code",
   "execution_count": 51,
   "metadata": {},
   "outputs": [
    {
     "data": {
      "text/plain": [
       "<matplotlib.lines.Line2D at 0x1c5b27a9790>"
      ]
     },
     "execution_count": 51,
     "metadata": {},
     "output_type": "execute_result"
    },
    {
     "data": {
      "image/png": "[encoded data removed]",
      "text/plain": [
       "<Figure size 640x480 with 1 Axes>"
      ]
     },
     "metadata": {},
     "output_type": "display_data"
    }
   ],
   "source": [
    "## plotting lenth of strings in the Map Data Column, mean and 75th percentile\n",
    "\n",
    "df_len_explore['Map Data'].str.len().plot(kind='hist', bins=100)\n",
    "plt.axvline(df_len_explore['Map Data'].str.len().mean(), color='red', linestyle='dashed', linewidth=2)\n",
    "plt.axvline(df_len_explore['Map Data'].str.len().quantile(0.80), color='green', linestyle='dashed', linewidth=2)"
   ]
  },
  {
   "cell_type": "markdown",
   "metadata": {},
   "source": [
    "### Same visualization, post cleaning"
   ]
  },
  {
   "cell_type": "code",
   "execution_count": 54,
   "metadata": {},
   "outputs": [
    {
     "name": "stderr",
     "output_type": "stream",
     "text": [
      "[nltk_data] Downloading package stopwords to C:\\Users\\Akhil\n",
      "[nltk_data]     PC\\AppData\\Roaming\\nltk_data...\n",
      "[nltk_data]   Package stopwords is already up-to-date!\n",
      "[nltk_data] Downloading package wordnet to C:\\Users\\Akhil\n",
      "[nltk_data]     PC\\AppData\\Roaming\\nltk_data...\n",
      "[nltk_data]   Package wordnet is already up-to-date!\n"
     ]
    }
   ],
   "source": [
    "nltk.download('stopwords')\n",
    "nltk.download('wordnet')\n",
    "\n",
    "stop_words = set(stopwords.words('english'))\n",
    "stemmer = PorterStemmer()\n",
    "lemmatizer = WordNetLemmatizer()"
   ]
  },
  {
   "cell_type": "code",
   "execution_count": 55,
   "metadata": {},
   "outputs": [],
   "source": [
    "## cleaning the strings, stemming and lemmatizing\n",
    "\n",
    "def clean_text(text):\n",
    "    text = re.sub(r'[^\\w\\s]', '', text)\n",
    "    text = text.lower()\n",
    "    text = [word for word in text.split() if word not in stop_words]\n",
    "    text = [stemmer.stem(word) for word in text] \n",
    "    text = [lemmatizer.lemmatize(word) for word in text]\n",
    "    return ' '.join(text)\n",
    "\n",
    "df_len_explore['Map Data'] = df_len_explore['Map Data'].apply(clean_text)"
   ]
  },
  {
   "cell_type": "code",
   "execution_count": 56,
   "metadata": {},
   "outputs": [
    {
     "name": "stdout",
     "output_type": "stream",
     "text": [
      "Mean string length:  596.3046776232617\n",
      "80th  percentile string length:  1114.0\n"
     ]
    }
   ],
   "source": [
    "print('Mean string length: ', df_len_explore['Map Data'].str.len().mean())\n",
    "print('80th  percentile string length: ', df_len_explore['Map Data'].str.len().quantile(0.8))"
   ]
  },
  {
   "cell_type": "code",
   "execution_count": 57,
   "metadata": {},
   "outputs": [
    {
     "data": {
      "text/plain": [
       "<matplotlib.lines.Line2D at 0x1c5b5e37b00>"
      ]
     },
     "execution_count": 57,
     "metadata": {},
     "output_type": "execute_result"
    },
    {
     "data": {
      "image/png": "[encoded data removed]",
      "text/plain": [
       "<Figure size 640x480 with 1 Axes>"
      ]
     },
     "metadata": {},
     "output_type": "display_data"
    }
   ],
   "source": [
    "df_len_explore['Map Data'].str.len().plot(kind='hist', bins=100)\n",
    "plt.axvline(df_len_explore['Map Data'].str.len().mean(), color='red', linestyle='dashed', linewidth=2)\n",
    "plt.axvline(df_len_explore['Map Data'].str.len().quantile(0.80), color='green', linestyle='dashed', linewidth=2)"
   ]
  },
  {
   "cell_type": "code",
   "execution_count": 59,
   "metadata": {},
   "outputs": [
    {
     "name": "stdout",
     "output_type": "stream",
     "text": [
      "Original data length:                     1225\n",
      "Number of blanks:                         407\n",
      "Number of strings with length > 5000:     27\n",
      "Number of useful rows:                    791\n"
     ]
    }
   ],
   "source": [
    "## Final Summary\n",
    "\n",
    "print('Original data length:                    ', len(df))\n",
    "print('Number of blanks:                        ', len(df) - len(df[df['Map Data'].str.len() > 0]))\n",
    "print('Number of strings with length > 5000:    ', len(df[df['Map Data'].str.len() > 5000]))\n",
    "print('Number of useful rows:                   ', len(df_len_explore))"
   ]
  },
  {
   "cell_type": "code",
   "execution_count": 62,
   "metadata": {},
   "outputs": [
    {
     "name": "stdout",
     "output_type": "stream",
     "text": [
      "Post cleaning data length:        791\n",
      "Avg string length:                596.3046776232617\n",
      "Median string length:             192.0\n",
      "25th percentile string length:    43.5\n",
      "80th percentile string length:    1114.0\n"
     ]
    }
   ],
   "source": [
    "print('Post cleaning data length:       ', len(df_len_explore))\n",
    "print('Avg string length:               ', df_len_explore['Map Data'].str.len().mean())\n",
    "print('Median string length:            ', df_len_explore['Map Data'].str.len().median())\n",
    "print('25th percentile string length:   ', df_len_explore['Map Data'].str.len().quantile(0.25))   \n",
    "print('80th percentile string length:   ', df_len_explore['Map Data'].str.len().quantile(0.8))"
   ]
  },
  {
   "cell_type": "markdown",
   "metadata": {},
   "source": [
    "Highly uneven string length distribution.\n",
    "- 33% of the total data is useless, ie. blank rows\n",
    "- 25% of the strings have length less than 45 characters\n",
    "- 50% of the strings have length less than 200 characters\n",
    "- 30% of the strings have length between 200 - 1100 characters (huge variation)\n",
    "- 20% of the strings have length greater than 1100 characters\n",
    "- about 5% of strings are longer than 5000 characters (wont be used in training)"
   ]
  },
  {
   "cell_type": "code",
   "execution_count": null,
   "metadata": {},
   "outputs": [],
   "source": [
    "## function to clean the given data frame\n",
    "\n",
    "def clean_text(text):\n",
    "    text = re.sub(r'[^\\w\\s]', '', text)\n",
    "    text = text.lower()\n",
    "    text = [word for word in text.split() if word not in stop_words]\n",
    "    text = [stemmer.stem(word) for word in text] \n",
    "    text = [lemmatizer.lemmatize(word) for word in text]\n",
    "    return ' '.join(text)\n",
    "\n",
    "def clean_data(df):\n",
    "    df['Map Data'] = df['Map Data'].fillna('')\n",
    "    df = df[df['Map Data'].str.len() > 0]\n",
    "    df = df[df['Map Data'].str.len() < 5000]\n",
    "    df['Map Data'] = df['Map Data'].apply(clean_text)\n",
    "    return df"
   ]
  }
 ],
 "metadata": {
  "kernelspec": {
   "display_name": "Python 3",
   "language": "python",
   "name": "python3"
  },
  "language_info": {
   "codemirror_mode": {
    "name": "ipython",
    "version": 3
   },
   "file_extension": ".py",
   "mimetype": "text/x-python",
   "name": "python",
   "nbconvert_exporter": "python",
   "pygments_lexer": "ipython3",
   "version": "3.12.0"
  }
 },
 "nbformat": 4,
 "nbformat_minor": 2
}
